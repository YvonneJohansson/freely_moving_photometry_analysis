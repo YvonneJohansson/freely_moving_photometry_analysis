{
 "cells": [
  {
   "cell_type": "code",
   "execution_count": 1,
   "metadata": {},
   "outputs": [
    {
     "name": "stderr",
     "output_type": "stream",
     "text": [
      "In C:\\Users\\francescag\\AppData\\Local\\Continuum\\miniconda3\\lib\\site-packages\\matplotlib\\mpl-data\\stylelib\\_classic_test.mplstyle: \n",
      "The savefig.frameon rcparam was deprecated in Matplotlib 3.1 and will be removed in 3.3.\n",
      "In C:\\Users\\francescag\\AppData\\Local\\Continuum\\miniconda3\\lib\\site-packages\\matplotlib\\mpl-data\\stylelib\\_classic_test.mplstyle: \n",
      "The verbose.level rcparam was deprecated in Matplotlib 3.1 and will be removed in 3.3.\n",
      "In C:\\Users\\francescag\\AppData\\Local\\Continuum\\miniconda3\\lib\\site-packages\\matplotlib\\mpl-data\\stylelib\\_classic_test.mplstyle: \n",
      "The verbose.fileo rcparam was deprecated in Matplotlib 3.1 and will be removed in 3.3.\n"
     ]
    }
   ],
   "source": [
    "%matplotlib qt5\n",
    "import numpy as np\n",
    "from sklearn.linear_model import LinearRegression\n",
    "from scipy.ndimage.interpolation import shift\n",
    "from scipy.signal import decimate\n",
    "from matplotlib import pyplot as plt\n",
    "from scipy import stats\n",
    "import pandas as pd\n",
    "import pickle\n"
   ]
  },
  {
   "cell_type": "code",
   "execution_count": 2,
   "metadata": {},
   "outputs": [],
   "source": [
    "def rolling_zscore(x, window=10*10000):\n",
    "    r = x.rolling(window=window)\n",
    "    m = r.mean().shift(1)\n",
    "    s = r.std(ddof=0).shift(1)\n",
    "    z = (x-m)/s\n",
    "    return z"
   ]
  },
  {
   "cell_type": "code",
   "execution_count": 3,
   "metadata": {},
   "outputs": [],
   "source": [
    "mouse = 'SNL_photo17'\n",
    "date = '20200204'\n",
    "saving_folder = 'W:\\\\photometry_2AC\\\\processed_data\\\\' + mouse + '\\\\'\n",
    "restructured_data_filename = mouse + '_' + date + '_' + 'restructured_data.pkl'\n",
    "trial_data = pd.read_pickle(saving_folder + restructured_data_filename) \n",
    "dff_trace_filename = mouse + '_' + date + '_' + 'smoothed_signal.npy'\n",
    "dff = np.load(saving_folder + dff_trace_filename)"
   ]
  },
  {
   "cell_type": "code",
   "execution_count": 4,
   "metadata": {},
   "outputs": [],
   "source": [
    "window_size_seconds = 10\n",
    "sample_rate = 10000\n",
    "decimate_factor = 100"
   ]
  },
  {
   "cell_type": "code",
   "execution_count": 5,
   "metadata": {},
   "outputs": [],
   "source": [
    "rolling_zscored_dff = rolling_zscore(pd.Series(dff), window=window_size_seconds*sample_rate)"
   ]
  },
  {
   "cell_type": "code",
   "execution_count": 6,
   "metadata": {},
   "outputs": [
    {
     "data": {
      "text/plain": [
       "(45755000,)"
      ]
     },
     "execution_count": 6,
     "metadata": {},
     "output_type": "execute_result"
    }
   ],
   "source": [
    "rolling_zscored_dff.shape"
   ]
  },
  {
   "cell_type": "code",
   "execution_count": 7,
   "metadata": {},
   "outputs": [],
   "source": [
    "downsampled_zscored_dff = decimate(decimate(rolling_zscored_dff[window_size_seconds*sample_rate:], int(decimate_factor/10)), int(decimate_factor/10))"
   ]
  },
  {
   "cell_type": "code",
   "execution_count": 11,
   "metadata": {},
   "outputs": [
    {
     "data": {
      "text/plain": [
       "[<matplotlib.lines.Line2D at 0x21b486d8>]"
      ]
     },
     "execution_count": 11,
     "metadata": {},
     "output_type": "execute_result"
    },
    {
     "data": {
      "image/png": "[encoded data removed]",
      "text/plain": [
       "<Figure size 432x288 with 1 Axes>"
      ]
     },
     "metadata": {
      "needs_background": "light"
     },
     "output_type": "display_data"
    }
   ],
   "source": [
    "plt.plot(downsampled_zscored_dff)"
   ]
  },
  {
   "cell_type": "code",
   "execution_count": 8,
   "metadata": {},
   "outputs": [],
   "source": [
    "num_samples = downsampled_zscored_dff.shape[0]"
   ]
  },
  {
   "cell_type": "code",
   "execution_count": 9,
   "metadata": {},
   "outputs": [],
   "source": [
    "def turn_timestamps_into_continuous(num_samples, *behavioural_events):\n",
    "    continuous_parameters = []\n",
    "    for event_type_timestamps in behavioural_events:\n",
    "        continuous_time_version = np.zeros([num_samples])\n",
    "        continuous_time_version[event_type_timestamps] = 1\n",
    "        continuous_parameters.append(continuous_time_version)\n",
    "    return continuous_parameters"
   ]
  },
  {
   "cell_type": "code",
   "execution_count": 10,
   "metadata": {},
   "outputs": [],
   "source": [
    "aligned_filename = mouse + '_' + date + '_' + 'behavioural_events.p'\n",
    "save_filename = saving_folder + aligned_filename\n",
    "example_session_data = pickle.load(open(save_filename, \"rb\"))"
   ]
  },
  {
   "cell_type": "code",
   "execution_count": 11,
   "metadata": {},
   "outputs": [],
   "source": [
    "def convert_behavioural_timestamps_into_samples(time_stamps, window_to_remove, sample_rate=10000, decimate_factor=100):\n",
    "    return np.round((time_stamps - window_size_seconds)*sample_rate/decimate_factor).astype(int)"
   ]
  },
  {
   "cell_type": "code",
   "execution_count": 15,
   "metadata": {},
   "outputs": [],
   "source": [
    "ipsi_choices = convert_behavioural_timestamps_into_samples(example_session_data.choice_data.ipsi_data.event_times, window_size_seconds)\n",
    "contra_choices = convert_behavioural_timestamps_into_samples(example_session_data.choice_data.contra_data.event_times, window_size_seconds)\n",
    "ipsi_cues = convert_behavioural_timestamps_into_samples(example_session_data.cue_data.ipsi_data.event_times, window_size_seconds)\n",
    "contra_cues = convert_behavioural_timestamps_into_samples(example_session_data.cue_data.contra_data.event_times, window_size_seconds)\n",
    "ipsi_rewards = convert_behavioural_timestamps_into_samples(example_session_data.reward_data.ipsi_data.event_times, window_size_seconds)\n",
    "contra_rewards = convert_behavioural_timestamps_into_samples(example_session_data.reward_data.contra_data.event_times, window_size_seconds)"
   ]
  },
  {
   "cell_type": "code",
   "execution_count": 25,
   "metadata": {},
   "outputs": [
    {
     "data": {
      "text/plain": [
       "array([ 12001,  49196,  59685,  76222,  84411,  86665,  96367,  98181,\n",
       "       100520, 100974, 104084, 149399, 153665, 157816, 158834, 163618,\n",
       "       207688, 209465, 214590, 215210, 218862, 219436, 221438, 223130,\n",
       "       225099, 225968, 234828, 236406, 238347, 239989, 311279, 317848,\n",
       "       320236, 321103, 329302, 333892, 336848, 340153, 343338, 347151,\n",
       "       348195, 350172, 351416, 354351, 358010, 358886, 362899, 366580,\n",
       "       370392, 371118, 375044, 390275, 394748, 396392, 397136, 398315,\n",
       "       402652, 406427, 408016, 410423, 411933, 412469, 417197, 419555,\n",
       "       421766, 422314, 426411, 427657, 429415, 431866, 432333, 432898,\n",
       "       433677, 434155, 436185, 437751, 438342, 439185, 440912, 442376,\n",
       "       454223])"
      ]
     },
     "execution_count": 25,
     "metadata": {},
     "output_type": "execute_result"
    }
   ],
   "source": [
    "ipsi_cues"
   ]
  },
  {
   "cell_type": "code",
   "execution_count": 26,
   "metadata": {},
   "outputs": [],
   "source": [
    "all_cues = np.concatenate([ipsi_cues, contra_cues])\n",
    "all_rewards = np.concatenate([ipsi_rewards, contra_rewards])"
   ]
  },
  {
   "cell_type": "code",
   "execution_count": 16,
   "metadata": {},
   "outputs": [],
   "source": [
    "parameters = turn_timestamps_into_continuous(num_samples, ipsi_choices, contra_choices, ipsi_cues, contra_cues, ipsi_rewards, contra_rewards)"
   ]
  },
  {
   "cell_type": "code",
   "execution_count": 27,
   "metadata": {},
   "outputs": [],
   "source": [
    "parameters = turn_timestamps_into_continuous(num_samples, ipsi_choices, contra_choices, all_cues, all_rewards)"
   ]
  },
  {
   "cell_type": "code",
   "execution_count": 28,
   "metadata": {},
   "outputs": [
    {
     "ename": "IndexError",
     "evalue": "list index out of range",
     "output_type": "error",
     "traceback": [
      "\u001b[1;31m---------------------------------------------------------------------------\u001b[0m",
      "\u001b[1;31mIndexError\u001b[0m                                Traceback (most recent call last)",
      "\u001b[1;32m<ipython-input-28-05951afd29a5>\u001b[0m in \u001b[0;36m<module>\u001b[1;34m\u001b[0m\n\u001b[1;32m----> 1\u001b[1;33m \u001b[0mplt\u001b[0m\u001b[1;33m.\u001b[0m\u001b[0mplot\u001b[0m\u001b[1;33m(\u001b[0m\u001b[0mparameters\u001b[0m\u001b[1;33m[\u001b[0m\u001b[1;36m5\u001b[0m\u001b[1;33m]\u001b[0m\u001b[1;33m)\u001b[0m\u001b[1;33m\u001b[0m\u001b[1;33m\u001b[0m\u001b[0m\n\u001b[0m",
      "\u001b[1;31mIndexError\u001b[0m: list index out of range"
     ]
    }
   ],
   "source": [
    "plt.plot(parameters[5])"
   ]
  },
  {
   "cell_type": "code",
   "execution_count": 29,
   "metadata": {},
   "outputs": [],
   "source": [
    "def make_design_matrix(parameters, window_min=-1*10000/100, window_max=2*10000/100):\n",
    "    num_parameters = len(parameters)\n",
    "    shifts = np.arange(window_min, window_max + 1)\n",
    "    shift_window_size = shifts.shape[0]\n",
    "    X = np.zeros([parameters[0].shape[0], shift_window_size*num_parameters])\n",
    "    all_param_indices = []\n",
    "    for shift_num, shift_val in  enumerate(shifts):\n",
    "        for param_num, param in enumerate(parameters):\n",
    "            param_indices = range(param_num*shift_window_size, param_num*shift_window_size + shift_window_size)\n",
    "            all_param_indices.append(param_indices)\n",
    "            shifted_param = shift(param, shift_val, cval=0) \n",
    "            X[:, param_indices[shift_num]] = shifted_param\n",
    "    return(all_param_indices, X)\n"
   ]
  },
  {
   "cell_type": "code",
   "execution_count": 30,
   "metadata": {},
   "outputs": [],
   "source": [
    "all_param_indices, X = make_design_matrix(parameters)"
   ]
  },
  {
   "cell_type": "code",
   "execution_count": 31,
   "metadata": {},
   "outputs": [],
   "source": [
    "results = LinearRegression().fit(X, downsampled_zscored_dff)"
   ]
  },
  {
   "cell_type": "code",
   "execution_count": 21,
   "metadata": {},
   "outputs": [],
   "source": [
    "def plot_kernels(parameter_names, regression_results,window_min=-1*10000/100, window_max=2*10000/100):\n",
    "    \n",
    "    fig, axs = plt.subplots(nrows=1, ncols=len(parameter_names), sharey=True, figsize=(15,8))\n",
    "    \n",
    "    shifts = np.arange(window_min, window_max + 1)\n",
    "    shift_window_size = shifts.shape[0]\n",
    "    for param_num, param_name in enumerate(parameter_names):\n",
    "        param_kernel = regression_results.coef_[param_num*shift_window_size:(param_num+1)*shift_window_size]\n",
    "        axs[param_num].plot(shifts, param_kernel, label=param_name)\n",
    "        axs[param_num].set_title(param_name)"
   ]
  },
  {
   "cell_type": "code",
   "execution_count": 22,
   "metadata": {},
   "outputs": [],
   "source": [
    "param_names = ['ipsi choices', 'contra choices', 'ipsi cues', 'contra cues', 'ipsi rewards', 'contra rewards']\n",
    "plot_kernels(param_names, results)"
   ]
  },
  {
   "cell_type": "code",
   "execution_count": 33,
   "metadata": {},
   "outputs": [],
   "source": [
    "param_names = ['ipsi choices', 'contra choices','cues', 'rewards']\n",
    "plot_kernels(param_names, results)"
   ]
  },
  {
   "cell_type": "code",
   "execution_count": 50,
   "metadata": {},
   "outputs": [
    {
     "data": {
      "text/plain": [
       "[<matplotlib.lines.Line2D at 0x29ffbba8>]"
      ]
     },
     "execution_count": 50,
     "metadata": {},
     "output_type": "execute_result"
    },
    {
     "data": {
      "image/png": "[encoded data removed]",
      "text/plain": [
       "<Figure size 432x288 with 1 Axes>"
      ]
     },
     "metadata": {
      "needs_background": "light"
     },
     "output_type": "display_data"
    }
   ],
   "source": [
    "plt.plot(downsampled_zscored_dff)"
   ]
  },
  {
   "cell_type": "code",
   "execution_count": null,
   "metadata": {},
   "outputs": [],
   "source": []
  }
 ],
 "metadata": {
  "kernelspec": {
   "display_name": "Python 3",
   "language": "python",
   "name": "python3"
  },
  "language_info": {
   "codemirror_mode": {
    "name": "ipython",
    "version": 3
   },
   "file_extension": ".py",
   "mimetype": "text/x-python",
   "name": "python",
   "nbconvert_exporter": "python",
   "pygments_lexer": "ipython3",
   "version": "3.7.3"
  }
 },
 "nbformat": 4,
 "nbformat_minor": 4
}
