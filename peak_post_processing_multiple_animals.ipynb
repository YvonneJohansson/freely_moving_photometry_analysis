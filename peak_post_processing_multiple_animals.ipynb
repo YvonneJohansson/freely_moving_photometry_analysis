{
 "cells": [
  {
   "cell_type": "markdown",
   "metadata": {},
   "source": [
    "Things to implement: \n",
    "\n",
    "Correlations: \n",
    "- Percentage correct X\n",
    "- Days since hitting 75% correct\n",
    "- Number of trials done\n",
    "- Number of rewards received X\n",
    "- Number of times that action has been taken (law of exercise)\n",
    "- Number of trials per minute in that session\n",
    "\n",
    "\n",
    "- total fluorescence\n",
    "- fluorescence SD\n",
    "- z-score SD\n",
    "\n",
    "Other:\n",
    "- Area under curve as well as peaks\n",
    "\n",
    "\n",
    "Also across animals"
   ]
  },
  {
   "cell_type": "code",
   "execution_count": 1,
   "metadata": {},
   "outputs": [
    {
     "name": "stderr",
     "output_type": "stream",
     "text": [
      "In C:\\Users\\francescag\\AppData\\Local\\Continuum\\miniconda3\\lib\\site-packages\\matplotlib\\mpl-data\\stylelib\\_classic_test.mplstyle: \n",
      "The savefig.frameon rcparam was deprecated in Matplotlib 3.1 and will be removed in 3.3.\n",
      "In C:\\Users\\francescag\\AppData\\Local\\Continuum\\miniconda3\\lib\\site-packages\\matplotlib\\mpl-data\\stylelib\\_classic_test.mplstyle: \n",
      "The verbose.level rcparam was deprecated in Matplotlib 3.1 and will be removed in 3.3.\n",
      "In C:\\Users\\francescag\\AppData\\Local\\Continuum\\miniconda3\\lib\\site-packages\\matplotlib\\mpl-data\\stylelib\\_classic_test.mplstyle: \n",
      "The verbose.fileo rcparam was deprecated in Matplotlib 3.1 and will be removed in 3.3.\n"
     ]
    }
   ],
   "source": [
    "%matplotlib qt5\n",
    "%load_ext autoreload\n",
    "%autoreload 2\n",
    "import pickle\n",
    "from utils.plotting import correctData, cueData, rewardData\n",
    "import matplotlib.pyplot as plt\n",
    "from matplotlib import colors, cm\n",
    "import numpy as np\n",
    "import peakutils\n",
    "import datetime \n",
    "import pandas as pd\n",
    "from utils.mean_trace_utils import mouseDates, plot_multiple_days, plot_average_mouse"
   ]
  },
  {
   "cell_type": "code",
   "execution_count": 2,
   "metadata": {},
   "outputs": [],
   "source": [
    "mice_dates = []\n",
    "mouse1 = 'SNL_photo16'\n",
    "dates1 = ['20200210','20200213', '20200218',  '20200220', '20200224', '20200227', '20200303','20200305', '20200307',\n",
    "         '20200310', '20200312']\n",
    "mice_dates.append(mouseDates(mouse1, dates1))\n",
    "mouse2 = 'SNL_photo17'\n",
    "dates2 = ['20200204', '20200206', '20200208', '20200210', '20200212', '20200214', '20200218', '20200221', '20200224',\n",
    "         '20200226', '20200228', '20200303','20200305', '20200307','20200310', '20200311', '20200317']\n",
    "mice_dates.append(mouseDates(mouse2, dates2))\n",
    "mouse3 = 'SNL_photo18'\n",
    "dates3 = ['20200223', '20200226', '20200228', '20200229','20200303', '20200305', '20200307',\n",
    "         '20200310', '20200312', '20200313', '20200316']\n",
    "mice_dates.append(mouseDates(mouse3, dates3))\n"
   ]
  },
  {
   "cell_type": "code",
   "execution_count": 3,
   "metadata": {
    "scrolled": true
   },
   "outputs": [],
   "source": [
    "mice_dates = []\n",
    "mouse1 = 'SNL_photo16'\n",
    "dates1 = '20200210'\n",
    "mice_dates.append(mouseDates(mouse1, dates1))\n",
    "mouse2 = 'SNL_photo17'\n",
    "dates2 = '20200204'\n",
    "mice_dates.append(mouseDates(mouse2, dates2))\n",
    "mouse3 = 'SNL_photo18'\n",
    "dates3 = '20200223'\n",
    "mice_dates.append(mouseDates(mouse3, dates3))\n",
    "plot_average_mouse(mice_dates, ipsi_or_contra='ipsi')"
   ]
  },
  {
   "cell_type": "code",
   "execution_count": 9,
   "metadata": {},
   "outputs": [
    {
     "data": {
      "text/plain": [
       "'SNL_photo16'"
      ]
     },
     "execution_count": 9,
     "metadata": {},
     "output_type": "execute_result"
    }
   ],
   "source": [
    "\n"
   ]
  },
  {
   "cell_type": "code",
   "execution_count": 4,
   "metadata": {},
   "outputs": [
    {
     "ename": "AttributeError",
     "evalue": "Can't get attribute 'mouse_data_for_group_plot' on <module 'utils.plotting' from 'C:\\\\Users\\\\francescag\\\\Documents\\\\SourceTree_repos\\\\Python_git\\\\freely_moving_photometry_analysis\\\\utils\\\\plotting.py'>",
     "output_type": "error",
     "traceback": [
      "\u001b[1;31m---------------------------------------------------------------------------\u001b[0m",
      "\u001b[1;31mAttributeError\u001b[0m                            Traceback (most recent call last)",
      "\u001b[1;32m<ipython-input-4-cffee390a7f1>\u001b[0m in \u001b[0;36m<module>\u001b[1;34m\u001b[0m\n\u001b[0;32m      2\u001b[0m dates = ['20200210','20200213', '20200218',  '20200220', '20200224', '20200227', '20200303','20200305', '20200307',\n\u001b[0;32m      3\u001b[0m          '20200310', '20200312']\n\u001b[1;32m----> 4\u001b[1;33m \u001b[0mall_peaks\u001b[0m \u001b[1;33m=\u001b[0m \u001b[0mplot_multiple_days\u001b[0m\u001b[1;33m(\u001b[0m\u001b[0mmouse\u001b[0m\u001b[1;33m,\u001b[0m \u001b[0mdates\u001b[0m\u001b[1;33m)\u001b[0m\u001b[1;33m\u001b[0m\u001b[1;33m\u001b[0m\u001b[0m\n\u001b[0m",
      "\u001b[1;32m~\\Documents\\SourceTree_repos\\Python_git\\freely_moving_photometry_analysis\\utils\\mean_trace_utils.py\u001b[0m in \u001b[0;36mplot_multiple_days\u001b[1;34m(mouse, dates, type_of_session, plotting_style)\u001b[0m\n\u001b[0;32m    170\u001b[0m     \u001b[1;32mfor\u001b[0m \u001b[0mdate_num\u001b[0m\u001b[1;33m,\u001b[0m \u001b[0mdate\u001b[0m \u001b[1;32min\u001b[0m \u001b[0menumerate\u001b[0m\u001b[1;33m(\u001b[0m\u001b[0mdates\u001b[0m\u001b[1;33m)\u001b[0m\u001b[1;33m:\u001b[0m\u001b[1;33m\u001b[0m\u001b[1;33m\u001b[0m\u001b[0m\n\u001b[0;32m    171\u001b[0m         \u001b[0mmean_and_sem_filename\u001b[0m \u001b[1;33m=\u001b[0m \u001b[0msaving_folder\u001b[0m \u001b[1;33m+\u001b[0m \u001b[0mmouse\u001b[0m \u001b[1;33m+\u001b[0m \u001b[1;34m'_'\u001b[0m \u001b[1;33m+\u001b[0m \u001b[0mdate\u001b[0m \u001b[1;33m+\u001b[0m \u001b[1;34m'_'\u001b[0m \u001b[1;33m+\u001b[0m \u001b[0mfile_tag\u001b[0m\u001b[1;33m\u001b[0m\u001b[1;33m\u001b[0m\u001b[0m\n\u001b[1;32m--> 172\u001b[1;33m         \u001b[0mcorrect_data\u001b[0m \u001b[1;33m=\u001b[0m \u001b[0mpickle\u001b[0m\u001b[1;33m.\u001b[0m\u001b[0mload\u001b[0m\u001b[1;33m(\u001b[0m\u001b[0mopen\u001b[0m\u001b[1;33m(\u001b[0m\u001b[0mmean_and_sem_filename\u001b[0m\u001b[1;33m,\u001b[0m \u001b[1;34m\"rb\"\u001b[0m\u001b[1;33m)\u001b[0m\u001b[1;33m)\u001b[0m\u001b[1;33m\u001b[0m\u001b[1;33m\u001b[0m\u001b[0m\n\u001b[0m\u001b[0;32m    173\u001b[0m         \u001b[0mnum_samples\u001b[0m \u001b[1;33m=\u001b[0m \u001b[0mcorrect_data\u001b[0m\u001b[1;33m.\u001b[0m\u001b[0mcontra_mean_y_vals\u001b[0m\u001b[1;33m.\u001b[0m\u001b[0mshape\u001b[0m\u001b[1;33m[\u001b[0m\u001b[1;36m0\u001b[0m\u001b[1;33m]\u001b[0m\u001b[1;33m\u001b[0m\u001b[1;33m\u001b[0m\u001b[0m\n\u001b[0;32m    174\u001b[0m         \u001b[0mpeaks\u001b[0m \u001b[1;33m=\u001b[0m \u001b[0mpeakutils\u001b[0m\u001b[1;33m.\u001b[0m\u001b[0mindexes\u001b[0m\u001b[1;33m(\u001b[0m\u001b[0mcorrect_data\u001b[0m\u001b[1;33m.\u001b[0m\u001b[0mcontra_mean_y_vals\u001b[0m\u001b[1;33m,\u001b[0m \u001b[0mthres\u001b[0m\u001b[1;33m=\u001b[0m\u001b[1;36m0.4\u001b[0m\u001b[1;33m)\u001b[0m\u001b[1;33m\u001b[0m\u001b[1;33m\u001b[0m\u001b[0m\n",
      "\u001b[1;31mAttributeError\u001b[0m: Can't get attribute 'mouse_data_for_group_plot' on <module 'utils.plotting' from 'C:\\\\Users\\\\francescag\\\\Documents\\\\SourceTree_repos\\\\Python_git\\\\freely_moving_photometry_analysis\\\\utils\\\\plotting.py'>"
     ]
    }
   ],
   "source": [
    "mouse = 'SNL_photo16'\n",
    "dates = ['20200210','20200213', '20200218',  '20200220', '20200224', '20200227', '20200303','20200305', '20200307',\n",
    "         '20200310', '20200312']\n",
    "all_peaks = plot_multiple_days(mouse, dates)"
   ]
  },
  {
   "cell_type": "code",
   "execution_count": 15,
   "metadata": {
    "scrolled": true
   },
   "outputs": [],
   "source": [
    "# NAcc recordings\n",
    "mouse = 'SNL_photo19'\n",
    "dates = ['20200222', '20200225', '20200227', '20200302', '20200304', '20200306', '20200311', '20200317']\n",
    "all_peaks = plot_multiple_days(mouse, dates, type_of_session='cue', plotting_style='wrapped')"
   ]
  },
  {
   "cell_type": "code",
   "execution_count": 12,
   "metadata": {},
   "outputs": [
    {
     "ename": "AttributeError",
     "evalue": "Can't get attribute 'mouse_data_for_group_plot' on <module 'utils.plotting' from 'C:\\\\Users\\\\francescag\\\\Documents\\\\SourceTree_repos\\\\Python_git\\\\freely_moving_photometry_analysis\\\\utils\\\\plotting.py'>",
     "output_type": "error",
     "traceback": [
      "\u001b[1;31m---------------------------------------------------------------------------\u001b[0m",
      "\u001b[1;31mAttributeError\u001b[0m                            Traceback (most recent call last)",
      "\u001b[1;32m<ipython-input-12-b6d18b0cda10>\u001b[0m in \u001b[0;36m<module>\u001b[1;34m\u001b[0m\n\u001b[0;32m      1\u001b[0m \u001b[0mmouse\u001b[0m \u001b[1;33m=\u001b[0m \u001b[1;34m'SNL_photo17'\u001b[0m\u001b[1;33m\u001b[0m\u001b[1;33m\u001b[0m\u001b[0m\n\u001b[0;32m      2\u001b[0m \u001b[0mdates\u001b[0m \u001b[1;33m=\u001b[0m \u001b[1;33m[\u001b[0m\u001b[1;34m'20200208'\u001b[0m\u001b[1;33m]\u001b[0m\u001b[1;33m\u001b[0m\u001b[1;33m\u001b[0m\u001b[0m\n\u001b[1;32m----> 3\u001b[1;33m \u001b[0mplot_multiple_days\u001b[0m\u001b[1;33m(\u001b[0m\u001b[0mmouse\u001b[0m\u001b[1;33m,\u001b[0m \u001b[0mdates\u001b[0m\u001b[1;33m)\u001b[0m\u001b[1;33m\u001b[0m\u001b[1;33m\u001b[0m\u001b[0m\n\u001b[0m",
      "\u001b[1;32m~\\Documents\\SourceTree_repos\\Python_git\\freely_moving_photometry_analysis\\utils\\mean_trace_utils.py\u001b[0m in \u001b[0;36mplot_multiple_days\u001b[1;34m(mouse, dates, type_of_session, plotting_style)\u001b[0m\n\u001b[0;32m    170\u001b[0m     \u001b[1;32mfor\u001b[0m \u001b[0mdate_num\u001b[0m\u001b[1;33m,\u001b[0m \u001b[0mdate\u001b[0m \u001b[1;32min\u001b[0m \u001b[0menumerate\u001b[0m\u001b[1;33m(\u001b[0m\u001b[0mdates\u001b[0m\u001b[1;33m)\u001b[0m\u001b[1;33m:\u001b[0m\u001b[1;33m\u001b[0m\u001b[1;33m\u001b[0m\u001b[0m\n\u001b[0;32m    171\u001b[0m         \u001b[0mmean_and_sem_filename\u001b[0m \u001b[1;33m=\u001b[0m \u001b[0msaving_folder\u001b[0m \u001b[1;33m+\u001b[0m \u001b[0mmouse\u001b[0m \u001b[1;33m+\u001b[0m \u001b[1;34m'_'\u001b[0m \u001b[1;33m+\u001b[0m \u001b[0mdate\u001b[0m \u001b[1;33m+\u001b[0m \u001b[1;34m'_'\u001b[0m \u001b[1;33m+\u001b[0m \u001b[0mfile_tag\u001b[0m\u001b[1;33m\u001b[0m\u001b[1;33m\u001b[0m\u001b[0m\n\u001b[1;32m--> 172\u001b[1;33m         \u001b[0mcorrect_data\u001b[0m \u001b[1;33m=\u001b[0m \u001b[0mpickle\u001b[0m\u001b[1;33m.\u001b[0m\u001b[0mload\u001b[0m\u001b[1;33m(\u001b[0m\u001b[0mopen\u001b[0m\u001b[1;33m(\u001b[0m\u001b[0mmean_and_sem_filename\u001b[0m\u001b[1;33m,\u001b[0m \u001b[1;34m\"rb\"\u001b[0m\u001b[1;33m)\u001b[0m\u001b[1;33m)\u001b[0m\u001b[1;33m\u001b[0m\u001b[1;33m\u001b[0m\u001b[0m\n\u001b[0m\u001b[0;32m    173\u001b[0m         \u001b[0mnum_samples\u001b[0m \u001b[1;33m=\u001b[0m \u001b[0mcorrect_data\u001b[0m\u001b[1;33m.\u001b[0m\u001b[0mcontra_mean_y_vals\u001b[0m\u001b[1;33m.\u001b[0m\u001b[0mshape\u001b[0m\u001b[1;33m[\u001b[0m\u001b[1;36m0\u001b[0m\u001b[1;33m]\u001b[0m\u001b[1;33m\u001b[0m\u001b[1;33m\u001b[0m\u001b[0m\n\u001b[0;32m    174\u001b[0m         \u001b[0mpeaks\u001b[0m \u001b[1;33m=\u001b[0m \u001b[0mpeakutils\u001b[0m\u001b[1;33m.\u001b[0m\u001b[0mindexes\u001b[0m\u001b[1;33m(\u001b[0m\u001b[0mcorrect_data\u001b[0m\u001b[1;33m.\u001b[0m\u001b[0mcontra_mean_y_vals\u001b[0m\u001b[1;33m,\u001b[0m \u001b[0mthres\u001b[0m\u001b[1;33m=\u001b[0m\u001b[1;36m0.4\u001b[0m\u001b[1;33m)\u001b[0m\u001b[1;33m\u001b[0m\u001b[1;33m\u001b[0m\u001b[0m\n",
      "\u001b[1;31mAttributeError\u001b[0m: Can't get attribute 'mouse_data_for_group_plot' on <module 'utils.plotting' from 'C:\\\\Users\\\\francescag\\\\Documents\\\\SourceTree_repos\\\\Python_git\\\\freely_moving_photometry_analysis\\\\utils\\\\plotting.py'>"
     ]
    }
   ],
   "source": [
    "mouse = 'SNL_photo17'\n",
    "dates = ['20200208']\n",
    "plot_multiple_days(mouse, dates)"
   ]
  },
  {
   "cell_type": "code",
   "execution_count": 14,
   "metadata": {},
   "outputs": [],
   "source": [
    "mouse = 'SNL_photo18'\n",
    "dates = ['20200226']\n",
    "plot_multiple_days(mouse, dates) "
   ]
  },
  {
   "cell_type": "code",
   "execution_count": 11,
   "metadata": {},
   "outputs": [
    {
     "name": "stdout",
     "output_type": "stream",
     "text": [
      "0.5562109580778685\n"
     ]
    }
   ],
   "source": [
    "mouse = 'SNL_photo15'\n",
    "dates = ['20200206','20200208', '20200210',  '20200213', '20200218', '20200221', '20200224','20200226','20200303','20200305', '20200307','20200310']\n",
    "labels = ['50-60%', '60-80%', '80+% (1)', '80+% (2)', '80+% (3)', '80+% (4)', '80+% (5)', '80+% (6)' ]\n",
    "plot_multiple_days(mouse, dates)\n",
    "all_peaks = multi_day_peaks(mouse, dates)\n",
    "#peaks_correlations(dates, all_peaks)\n",
    "#percentage_correct_correlation(mouse, dates, all_peaks)\n",
    "#num_rewards_correlation(mouse, dates, all_peaks)"
   ]
  },
  {
   "cell_type": "code",
   "execution_count": 17,
   "metadata": {},
   "outputs": [],
   "source": [
    "mouse = 'SNL_photo16'\n",
    "dates = ['20200210','20200213', '20200218',  '20200220', '20200224', '20200227', '20200303','20200305', '20200307',\n",
    "         '20200310', '20200312']\n",
    "plot_multiple_days(mouse, dates)\n",
    "#all_peaks = multi_day_peaks(mouse, dates)\n",
    "#percentage_correct_correlation(mouse, dates, all_peaks)\n",
    "#peaks_correlations(dates, all_peaks)\n",
    "#num_rewards_correlation(mouse, dates, all_peaks)"
   ]
  },
  {
   "cell_type": "code",
   "execution_count": 15,
   "metadata": {},
   "outputs": [
    {
     "name": "stdout",
     "output_type": "stream",
     "text": [
      "0.7096471679030782\n"
     ]
    }
   ],
   "source": [
    "mouse = 'SNL_photo17'\n",
    "dates = ['20200204', '20200206', '20200208', '20200210', '20200212', '20200214', '20200218', '20200221', '20200224',\n",
    "         '20200226', '20200228', '20200303','20200305', '20200307','20200310', '20200311', '20200317']\n",
    "labels = ['50-60%', '60-80%', '80+% (1)', '80+% (2)', '80+% (3)', '80+% (4)','80+% (5)', '80+% (6)',  '80+% (7)'  ]\n",
    "plot_multiple_days(mouse, dates)\n",
    "all_peaks = multi_day_peaks(mouse, dates)\n",
    "#peaks_correlations(dates, all_peaks)\n",
    "#percentage_correct_correlation(mouse, dates, all_peaks)\n",
    "#num_rewards_correlation(mouse, dates, all_peaks)"
   ]
  },
  {
   "cell_type": "code",
   "execution_count": 10,
   "metadata": {},
   "outputs": [
    {
     "name": "stdout",
     "output_type": "stream",
     "text": [
      "0.7461003609252107\n"
     ]
    }
   ],
   "source": [
    "mouse = 'SNL_photo12'\n",
    "dates = ['20200110', '20200111','20200113', '20200114','20200117', '20200118', '20200121', '20200123', '20200203', '20200205','20200212',\n",
    "         '20200214', '20200218', '20200221', '20200224', '20200226', '20200303','20200304']\n",
    "labels = ['50-60%', '60-80%', '80+% (1)', '80+% (2)','80+% (3)','80+% (4)','80+% (5)', '80+% (6)',  '80+% (7)'  ]\n",
    "\n",
    "plot_multiple_days(mouse, dates)\n",
    "all_peaks = multi_day_peaks(mouse, dates)\n",
    "#peaks_correlations(dates, all_peaks)\n",
    "#percentage_correct_correlation(mouse, dates, all_peaks)\n",
    "#num_rewards_correlation(mouse, dates, all_peaks)"
   ]
  },
  {
   "cell_type": "code",
   "execution_count": 14,
   "metadata": {},
   "outputs": [
    {
     "name": "stdout",
     "output_type": "stream",
     "text": [
      "0.7285583167616478\n"
     ]
    }
   ],
   "source": [
    "mouse = 'SNL_photo18'\n",
    "dates = ['20200223', '20200226', '20200228', '20200229','20200303', '20200305', '20200307',\n",
    "         '20200310', '20200312', '20200313', '20200316']\n",
    "labels = ['50%', '50%' ]\n",
    "plot_multiple_days(mouse, dates)\n",
    "all_peaks = multi_day_peaks(mouse, dates)\n",
    "#peaks_correlations(dates, all_peaks)\n",
    "#percentage_correct_correlation(mouse, dates, all_peaks)\n",
    "#num_rewards_correlation(mouse, dates, all_peaks)"
   ]
  },
  {
   "cell_type": "code",
   "execution_count": 13,
   "metadata": {},
   "outputs": [],
   "source": [
    "mouse = 'SNL_photo19'\n",
    "dates = ['20200221','20200224', '20200226', '20200228','20200229', '20200303','20200305', '20200307','20200310','20200312']\n",
    "labels = ['50%', '50-60%', '60-80%' ]\n",
    "plot_multiple_days(mouse, dates, labels)\n",
    "#all_peaks = multi_day_peaks(mouse, dates)\n",
    "#peaks_correlations(dates, all_peaks)\n",
    "#percentage_correct_correlation(mouse, dates, all_peaks)"
   ]
  },
  {
   "cell_type": "code",
   "execution_count": 15,
   "metadata": {},
   "outputs": [],
   "source": [
    "mouse = 'SNL_photo20'\n",
    "dates = ['20200224', '20200226', '20200228','20200229', '20200303', '20200303','20200305', '20200307'\n",
    "         ,'20200310', '20200312']\n",
    "labels = ['50-60%', '60-80%' ]\n",
    "plot_multiple_days(mouse, dates, labels)\n",
    "#all_peaks = multi_day_peaks(mouse, dates)\n",
    "#peaks_correlations(dates, all_peaks)\n",
    "#percentage_correct_correlation(mouse, dates, all_peaks)"
   ]
  },
  {
   "cell_type": "code",
   "execution_count": null,
   "metadata": {},
   "outputs": [],
   "source": []
  }
 ],
 "metadata": {
  "kernelspec": {
   "display_name": "Python 3",
   "language": "python",
   "name": "python3"
  },
  "language_info": {
   "codemirror_mode": {
    "name": "ipython",
    "version": 3
   },
   "file_extension": ".py",
   "mimetype": "text/x-python",
   "name": "python",
   "nbconvert_exporter": "python",
   "pygments_lexer": "ipython3",
   "version": "3.7.3"
  }
 },
 "nbformat": 4,
 "nbformat_minor": 4
}
