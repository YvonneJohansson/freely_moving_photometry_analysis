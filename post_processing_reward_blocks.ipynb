{
 "cells": [
  {
   "cell_type": "code",
   "execution_count": 22,
   "metadata": {},
   "outputs": [
    {
     "name": "stdout",
     "output_type": "stream",
     "text": [
      "The autoreload extension is already loaded. To reload it, use:\n",
      "  %reload_ext autoreload\n"
     ]
    }
   ],
   "source": [
    "%load_ext autoreload\n",
    "%autoreload 2\n",
    "%matplotlib qt5\n",
    "# Add modules to the path\n",
    "import sys\n",
    "sys.path.insert(0, 'C:\\\\Users\\\\francescag\\\\Documents\\\\SourceTree_repos\\\\Python_git')\n",
    "sys.path.insert(0, 'C:\\\\Users\\\\francescag\\\\Documents\\\\SourceTree_repos')\n",
    "import peakutils\n",
    "from matplotlib import colors, cm\n",
    "from scipy.signal import decimate\n",
    "import copy\n",
    "import matplotlib.pyplot as plt\n",
    "import numpy as np\n",
    "import pandas as pd\n",
    "import pickle\n",
    "from utils.plotting import HeatMapParams\n",
    "from utils.plotting import heat_map_and_mean\n",
    "from utils.plotting import get_photometry_around_event\n",
    "from scipy import stats\n",
    "from utils.value_change_utils import open_experiment, CustomAlignedDataRewardBlocks, get_all_experimental_records, get_block_change_info, add_traces_and_peaks, plot_mean_trace_for_condition, one_session_get_block_changes"
   ]
  },
  {
   "cell_type": "code",
   "execution_count": 4,
   "metadata": {},
   "outputs": [],
   "source": [
    "mouse_id = 'SNL_photo22'\n",
    "date = '20200917'\n",
    "all_experiments = get_all_experimental_records()\n",
    "experiment_to_process = all_experiments[(all_experiments['date'] == date) & (all_experiments['mouse_id'] == mouse_id)]\n",
    "behavioural_data, session_data = open_experiment(experiment_to_process)"
   ]
  },
  {
   "cell_type": "code",
   "execution_count": 50,
   "metadata": {},
   "outputs": [
    {
     "name": "stdout",
     "output_type": "stream",
     "text": [
      "1\n",
      "(51, 160000)\n",
      "2\n",
      "(34, 160000)\n",
      "3\n",
      "(23, 160000)\n",
      "4\n",
      "(53, 160000)\n",
      "5\n",
      "(20, 160000)\n"
     ]
    }
   ],
   "source": [
    "all_reward_block_data = []\n",
    "for reward_block in range(1,6):\n",
    "    print(reward_block)\n",
    "    try:\n",
    "        params = {'state_type_of_interest': 5,\n",
    "            'outcome': 2,\n",
    "            'last_outcome': 0,  # NOT USED CURRENTLY\n",
    "            'no_repeats' : 0,\n",
    "            'last_response': 0,\n",
    "            'align_to' : 'Time start',\n",
    "            'instance':- 1,\n",
    "            'plot_range': [-6, 6],\n",
    "            'first_choice_correct': 0,\n",
    "             'cue': 'None'}\n",
    "        all_reward_block_data.append(CustomAlignedDataRewardBlocks(session_data, params, reward_block))\n",
    "    except:\n",
    "        pass"
   ]
  },
  {
   "cell_type": "code",
   "execution_count": 64,
   "metadata": {},
   "outputs": [
    {
     "data": {
      "text/plain": [
       "<matplotlib.legend.Legend at 0x11c39160>"
      ]
     },
     "execution_count": 64,
     "metadata": {},
     "output_type": "execute_result"
    }
   ],
   "source": [
    "colours = cm.inferno(np.linspace(0, 1, 5))\n",
    "fig, ax = plt.subplots(1,1)\n",
    "for trial_type in range(1,6):\n",
    "    try:\n",
    "        one_side_data = all_reward_block_data[trial_type-1].contra_data\n",
    "        mean_trace = decimate(one_side_data.mean_trace, 10)\n",
    "        time_points = decimate(one_side_data.time_points, 10)\n",
    "        traces = decimate(one_side_data.sorted_traces, 10)\n",
    "        ax.plot(time_points, mean_trace, lw=1.5, color=colours[trial_type-1], label= trial_type)\n",
    "        ax.axvline(0, color='k')\n",
    "    except:\n",
    "        pass\n",
    "plt.legend()\n"
   ]
  },
  {
   "cell_type": "code",
   "execution_count": 5,
   "metadata": {},
   "outputs": [],
   "source": [
    "block_types = pd.DataFrame({'block type': [1, 2, 3, 4, 5], 'left reward': [6, 4, 2, 2, 2], 'right reward': [2, 2, 2, 4, 6]})"
   ]
  },
  {
   "cell_type": "code",
   "execution_count": 41,
   "metadata": {},
   "outputs": [
    {
     "name": "stdout",
     "output_type": "stream",
     "text": [
      "(106, 160000)\n",
      "189    20.0\n",
      "Name: Trial num, dtype: float64\n",
      "197    21.0\n",
      "Name: Trial num, dtype: float64\n",
      "415    40.0\n",
      "Name: Trial num, dtype: float64\n",
      "425    41.0\n",
      "Name: Trial num, dtype: float64\n",
      "620    60.0\n",
      "Name: Trial num, dtype: float64\n",
      "628    61.0\n",
      "Name: Trial num, dtype: float64\n",
      "635    62.0\n",
      "Name: Trial num, dtype: float64\n",
      "836    80.0\n",
      "Name: Trial num, dtype: float64\n",
      "844    81.0\n",
      "Name: Trial num, dtype: float64\n",
      "852    82.0\n",
      "Name: Trial num, dtype: float64\n",
      "860    83.0\n",
      "Name: Trial num, dtype: float64\n",
      "1027    100.0\n",
      "Name: Trial num, dtype: float64\n",
      "1453    140.0\n",
      "Name: Trial num, dtype: float64\n",
      "1461    141.0\n",
      "Name: Trial num, dtype: float64\n",
      "1652    160.0\n",
      "Name: Trial num, dtype: float64\n",
      "2051    200.0\n",
      "Name: Trial num, dtype: float64\n",
      "2066    201.0\n",
      "Name: Trial num, dtype: float64\n",
      "2236    220.0\n",
      "Name: Trial num, dtype: float64\n",
      "(186, 160000)\n",
      "615    60.0\n",
      "Name: Trial num, dtype: float64\n",
      "623    61.0\n",
      "Name: Trial num, dtype: float64\n",
      "991    100.0\n",
      "Name: Trial num, dtype: float64\n",
      "999    101.0\n",
      "Name: Trial num, dtype: float64\n",
      "1014    102.0\n",
      "Name: Trial num, dtype: float64\n",
      "1022    103.0\n",
      "Name: Trial num, dtype: float64\n",
      "1039    104.0\n",
      "Name: Trial num, dtype: float64\n",
      "1547    160.0\n",
      "Name: Trial num, dtype: float64\n",
      "1736    180.0\n",
      "Name: Trial num, dtype: float64\n",
      "1744    181.0\n",
      "Name: Trial num, dtype: float64\n",
      "1929    200.0\n",
      "Name: Trial num, dtype: float64\n",
      "1940    201.0\n",
      "Name: Trial num, dtype: float64\n",
      "2348    240.0\n",
      "Name: Trial num, dtype: float64\n",
      "2551    260.0\n",
      "Name: Trial num, dtype: float64\n",
      "2763    280.0\n",
      "Name: Trial num, dtype: float64\n",
      "2786    281.0\n",
      "Name: Trial num, dtype: float64\n",
      "3732    380.0\n",
      "Name: Trial num, dtype: float64\n",
      "3740    381.0\n",
      "Name: Trial num, dtype: float64\n",
      "3748    382.0\n",
      "Name: Trial num, dtype: float64\n",
      "Series([], Name: Trial num, dtype: float64)\n"
     ]
    },
    {
     "ename": "IndexError",
     "evalue": "index 0 is out of bounds for axis 0 with size 0",
     "output_type": "error",
     "traceback": [
      "\u001b[1;31m---------------------------------------------------------------------------\u001b[0m",
      "\u001b[1;31mIndexError\u001b[0m                                Traceback (most recent call last)",
      "\u001b[1;32m<ipython-input-41-87109758bc08>\u001b[0m in \u001b[0;36m<module>\u001b[1;34m\u001b[0m\n\u001b[0;32m      2\u001b[0m \u001b[0msessions\u001b[0m \u001b[1;33m=\u001b[0m \u001b[1;33m[\u001b[0m\u001b[1;34m'20200917'\u001b[0m\u001b[1;33m,\u001b[0m \u001b[1;34m'20200918'\u001b[0m\u001b[1;33m,\u001b[0m \u001b[1;34m'20200921'\u001b[0m\u001b[1;33m]\u001b[0m\u001b[1;33m\u001b[0m\u001b[1;33m\u001b[0m\u001b[0m\n\u001b[0;32m      3\u001b[0m \u001b[1;32mfor\u001b[0m \u001b[0msession_num\u001b[0m\u001b[1;33m,\u001b[0m \u001b[0mdate\u001b[0m \u001b[1;32min\u001b[0m \u001b[0menumerate\u001b[0m\u001b[1;33m(\u001b[0m\u001b[0msessions\u001b[0m\u001b[1;33m)\u001b[0m\u001b[1;33m:\u001b[0m\u001b[1;33m\u001b[0m\u001b[1;33m\u001b[0m\u001b[0m\n\u001b[1;32m----> 4\u001b[1;33m     \u001b[0mblock_change_info\u001b[0m \u001b[1;33m=\u001b[0m \u001b[0mone_session_get_block_changes\u001b[0m\u001b[1;33m(\u001b[0m\u001b[0mmouse_id\u001b[0m\u001b[1;33m,\u001b[0m \u001b[0mdate\u001b[0m\u001b[1;33m,\u001b[0m \u001b[0mblock_types\u001b[0m\u001b[1;33m)\u001b[0m\u001b[1;33m\u001b[0m\u001b[1;33m\u001b[0m\u001b[0m\n\u001b[0m\u001b[0;32m      5\u001b[0m     \u001b[1;32mif\u001b[0m \u001b[0msession_num\u001b[0m \u001b[1;33m==\u001b[0m \u001b[1;36m0\u001b[0m\u001b[1;33m:\u001b[0m\u001b[1;33m\u001b[0m\u001b[1;33m\u001b[0m\u001b[0m\n\u001b[0;32m      6\u001b[0m         \u001b[0mall_block_changes\u001b[0m \u001b[1;33m=\u001b[0m \u001b[0mblock_change_info\u001b[0m\u001b[1;33m\u001b[0m\u001b[1;33m\u001b[0m\u001b[0m\n",
      "\u001b[1;32m~\\Documents\\SourceTree_repos\\Python_git\\freely_moving_photometry_analysis\\utils\\value_change_utils.py\u001b[0m in \u001b[0;36mone_session_get_block_changes\u001b[1;34m(mouse_id, date, block_types)\u001b[0m\n\u001b[0;32m    251\u001b[0m          'cue': 'None'}\n\u001b[0;32m    252\u001b[0m     \u001b[0mall_trials_traces\u001b[0m \u001b[1;33m=\u001b[0m \u001b[0mCustomAlignedDataRewardBlocks\u001b[0m\u001b[1;33m(\u001b[0m\u001b[0msession_data\u001b[0m\u001b[1;33m,\u001b[0m \u001b[0mparams\u001b[0m\u001b[1;33m,\u001b[0m \u001b[0mreward_block\u001b[0m\u001b[1;33m)\u001b[0m\u001b[1;33m\u001b[0m\u001b[1;33m\u001b[0m\u001b[0m\n\u001b[1;32m--> 253\u001b[1;33m     \u001b[0mblock_change_info\u001b[0m \u001b[1;33m=\u001b[0m \u001b[0mget_block_change_info\u001b[0m\u001b[1;33m(\u001b[0m\u001b[0mbehavioural_data\u001b[0m\u001b[1;33m,\u001b[0m \u001b[0mblock_types\u001b[0m\u001b[1;33m,\u001b[0m \u001b[0mall_trials_traces\u001b[0m\u001b[1;33m.\u001b[0m\u001b[0mcontra_fiber_side_numeric\u001b[0m\u001b[1;33m)\u001b[0m\u001b[1;33m\u001b[0m\u001b[1;33m\u001b[0m\u001b[0m\n\u001b[0m\u001b[0;32m    254\u001b[0m     \u001b[0mblock_change_info\u001b[0m \u001b[1;33m=\u001b[0m \u001b[0madd_traces_and_peaks\u001b[0m\u001b[1;33m(\u001b[0m\u001b[0mblock_change_info\u001b[0m\u001b[1;33m,\u001b[0m \u001b[0mall_trials_traces\u001b[0m\u001b[1;33m)\u001b[0m\u001b[1;33m\u001b[0m\u001b[1;33m\u001b[0m\u001b[0m\n\u001b[0;32m    255\u001b[0m     \u001b[1;32mreturn\u001b[0m \u001b[0mblock_change_info\u001b[0m\u001b[1;33m\u001b[0m\u001b[1;33m\u001b[0m\u001b[0m\n",
      "\u001b[1;32m~\\Documents\\SourceTree_repos\\Python_git\\freely_moving_photometry_analysis\\utils\\value_change_utils.py\u001b[0m in \u001b[0;36mget_block_change_info\u001b[1;34m(behavioural_data, block_types, contra_side)\u001b[0m\n\u001b[0;32m    189\u001b[0m             \u001b[0mprint\u001b[0m\u001b[1;33m(\u001b[0m\u001b[0mcurrent_trial\u001b[0m\u001b[1;33m[\u001b[0m\u001b[1;34m'Trial num'\u001b[0m\u001b[1;33m]\u001b[0m\u001b[1;33m)\u001b[0m\u001b[1;33m\u001b[0m\u001b[1;33m\u001b[0m\u001b[0m\n\u001b[0;32m    190\u001b[0m             \u001b[0mcurrent_response\u001b[0m \u001b[1;33m=\u001b[0m \u001b[0mcurrent_trial\u001b[0m\u001b[1;33m[\u001b[0m\u001b[1;34m'Response'\u001b[0m\u001b[1;33m]\u001b[0m\u001b[1;33m.\u001b[0m\u001b[0mvalues\u001b[0m\u001b[1;33m\u001b[0m\u001b[1;33m\u001b[0m\u001b[0m\n\u001b[1;32m--> 191\u001b[1;33m             \u001b[0mcurrent_trial_num\u001b[0m \u001b[1;33m=\u001b[0m \u001b[0mcurrent_trial\u001b[0m\u001b[1;33m[\u001b[0m\u001b[1;34m'Trial num'\u001b[0m\u001b[1;33m]\u001b[0m\u001b[1;33m.\u001b[0m\u001b[0mvalues\u001b[0m\u001b[1;33m[\u001b[0m\u001b[1;36m0\u001b[0m\u001b[1;33m]\u001b[0m\u001b[1;33m\u001b[0m\u001b[1;33m\u001b[0m\u001b[0m\n\u001b[0m\u001b[0;32m    192\u001b[0m \u001b[1;33m\u001b[0m\u001b[0m\n\u001b[0;32m    193\u001b[0m \u001b[1;33m\u001b[0m\u001b[0m\n",
      "\u001b[1;31mIndexError\u001b[0m: index 0 is out of bounds for axis 0 with size 0"
     ]
    }
   ],
   "source": [
    "mouse_id = 'SNL_photo21'\n",
    "sessions = ['20200917', '20200918', '20200921']\n",
    "for session_num, date in enumerate(sessions):\n",
    "    block_change_info = one_session_get_block_changes(mouse_id, date, block_types)\n",
    "    if session_num == 0:\n",
    "        all_block_changes = block_change_info\n",
    "    else:\n",
    "         all_block_changes = pd.concat([all_block_changes,block_change_info], ignore_index=True)"
   ]
  },
  {
   "cell_type": "code",
   "execution_count": 31,
   "metadata": {},
   "outputs": [],
   "source": [
    "time_points = all_trials_traces.contra_data.time_points\n",
    "plot_mean_trace_for_condition(all_block_changes, time_points, 'new reward amounts')\n",
    "plot_mean_trace_for_condition(all_block_changes, time_points, 'change in reward amounts')\n",
    "plot_mean_trace_for_condition(all_block_changes, time_points, 'new relative value')\n",
    "plot_mean_trace_for_condition(all_block_changes, time_points, 'change in relative value')"
   ]
  },
  {
   "cell_type": "code",
   "execution_count": 30,
   "metadata": {},
   "outputs": [
    {
     "data": {
      "text/plain": [
       "<matplotlib.legend.Legend at 0xdb9fb38>"
      ]
     },
     "execution_count": 30,
     "metadata": {},
     "output_type": "execute_result"
    }
   ],
   "source": [
    "reward_amounts = np.sort(block_change_info['new relative value'].unique())\n",
    "colours = cm.inferno(np.linspace(0, 0.8, reward_amounts.shape[0]))\n",
    "fig, ax = plt.subplots(1,1)\n",
    "for reward_indx, reward_amount in enumerate(reward_amounts):\n",
    "    time_points = decimate(all_trials_traces.contra_data.time_points, 10)\n",
    "    rows = block_change_info[(block_change_info['new relative value']==reward_amount)]\n",
    "    traces = rows['traces'].values\n",
    "    flat_traces = np.zeros([traces.shape[0], traces[0].shape[1]])\n",
    "    for idx, trace in enumerate(traces):\n",
    "        flat_traces[idx, :] = trace\n",
    "    mean_trace = decimate(np.mean(flat_traces, axis=0), 10)\n",
    "\n",
    "                       \n",
    "    ax.plot(time_points, mean_trace, lw=1.5, color=colours[reward_indx], label= reward_amount)\n",
    "ax.axvline(0, color='k')\n",
    "ax.set_xlim([-2,2])\n",
    "plt.legend()"
   ]
  },
  {
   "cell_type": "code",
   "execution_count": 86,
   "metadata": {},
   "outputs": [
    {
     "data": {
      "text/plain": [
       "<matplotlib.legend.Legend at 0x162edf98>"
      ]
     },
     "execution_count": 86,
     "metadata": {},
     "output_type": "execute_result"
    }
   ],
   "source": [
    "reward_amounts = np.sort(block_change_info['change in relative value'].unique())\n",
    "colours = cm.inferno(np.linspace(0, 0.8, reward_amounts.shape[0]))\n",
    "fig, ax = plt.subplots(1,1)\n",
    "for reward_indx, reward_amount in enumerate(reward_amounts):\n",
    "    time_points = decimate(all_trials_traces.contra_data.time_points, 10)\n",
    "    rows = block_change_info[(block_change_info['change in relative value']==reward_amount)]\n",
    "    traces = rows['traces'].values\n",
    "    flat_traces = np.zeros([traces.shape[0], traces[0].shape[1]])\n",
    "    for idx, trace in enumerate(traces):\n",
    "        flat_traces[idx, :] = trace\n",
    "    mean_trace = decimate(np.mean(flat_traces, axis=0), 10)\n",
    "\n",
    "                       \n",
    "    ax.plot(time_points, mean_trace, lw=1.5, color=colours[reward_indx], label= reward_amount)\n",
    "ax.axvline(0, color='k')\n",
    "ax.set_xlim([-2,2])\n",
    "plt.legend()"
   ]
  },
  {
   "cell_type": "code",
   "execution_count": 28,
   "metadata": {},
   "outputs": [
    {
     "data": {
      "text/plain": [
       "<matplotlib.axes._subplots.AxesSubplot at 0xecb5208>"
      ]
     },
     "execution_count": 28,
     "metadata": {},
     "output_type": "execute_result"
    }
   ],
   "source": [
    "sns.scatterplot(x='new reward amounts', y='peak size', data=block_change_info)"
   ]
  },
  {
   "cell_type": "code",
   "execution_count": 29,
   "metadata": {},
   "outputs": [
    {
     "data": {
      "text/plain": [
       "<matplotlib.axes._subplots.AxesSubplot at 0xeda4c18>"
      ]
     },
     "execution_count": 29,
     "metadata": {},
     "output_type": "execute_result"
    }
   ],
   "source": [
    "sns.scatterplot(x='change in reward amounts', y='peak size', data=block_change_info)"
   ]
  },
  {
   "cell_type": "code",
   "execution_count": 30,
   "metadata": {},
   "outputs": [
    {
     "data": {
      "text/plain": [
       "<matplotlib.axes._subplots.AxesSubplot at 0xe27f198>"
      ]
     },
     "execution_count": 30,
     "metadata": {},
     "output_type": "execute_result"
    }
   ],
   "source": [
    "sns.scatterplot(x='new relative value', y='peak size', data=block_change_info)"
   ]
  },
  {
   "cell_type": "code",
   "execution_count": 31,
   "metadata": {},
   "outputs": [
    {
     "data": {
      "text/plain": [
       "<matplotlib.axes._subplots.AxesSubplot at 0xe6c8a90>"
      ]
     },
     "execution_count": 31,
     "metadata": {},
     "output_type": "execute_result"
    }
   ],
   "source": [
    "sns.scatterplot(x='change in relative value', y='peak size', data=block_change_info)"
   ]
  },
  {
   "cell_type": "code",
   "execution_count": 65,
   "metadata": {},
   "outputs": [
    {
     "name": "stdout",
     "output_type": "stream",
     "text": [
      "0.8719974503007026 0.8838530247845447\n",
      "0.734418515406605 0.5818760037034908\n",
      "1.3165566302983154 1.1614116229862628\n",
      "0.7800667694836998 0.663554277871089\n",
      "0.8304953025800229 0.5631001717818181\n"
     ]
    }
   ],
   "source": [
    "colours = cm.inferno(np.linspace(0,1, 5))\n",
    "fig2, ax = plt.subplots(1,3)\n",
    "for trial_type in range(1,6):\n",
    "    try:\n",
    "        one_side_data = all_reward_block_data[trial_type-1].contra_data\n",
    "        x_vals = np.ones([len(one_side_data.trial_peaks)])*trial_type\n",
    "        ax[0].hist(one_side_data.trial_peaks, color=colours[trial_type-1], alpha=0.4)\n",
    "        ax[1].scatter(trial_type, np.mean(one_side_data.trial_peaks), color=colours[trial_type-1])\n",
    "        ax[1].set_ylabel('Mean peak')\n",
    "        ax[2].scatter(trial_type, np.median(one_side_data.trial_peaks), color=colours[trial_type-1])\n",
    "        ax[2].set_ylabel('Median peak')\n",
    "        print(np.mean(one_side_data.trial_peaks), np.median(one_side_data.trial_peaks))\n",
    "    except:\n",
    "        pass"
   ]
  },
  {
   "cell_type": "code",
   "execution_count": 217,
   "metadata": {},
   "outputs": [
    {
     "data": {
      "text/plain": [
       "0.15315428214827714"
      ]
     },
     "execution_count": 217,
     "metadata": {},
     "output_type": "execute_result"
    }
   ],
   "source": [
    "np.median(np.asarray(all_trial_type_data[-2].contra_data.trial_peaks)/4)"
   ]
  },
  {
   "cell_type": "code",
   "execution_count": null,
   "metadata": {},
   "outputs": [],
   "source": [
    "np.median(np.asarray(all_trial_type_data[-2].contra_data.trial_peaks)/4)"
   ]
  },
  {
   "cell_type": "code",
   "execution_count": 209,
   "metadata": {},
   "outputs": [
    {
     "data": {
      "text/plain": [
       "array([0.14386391, 0.36703822, 0.03294286, 0.67309225, 0.1799292 ,\n",
       "       0.26867563, 0.06190406])"
      ]
     },
     "execution_count": 209,
     "metadata": {},
     "output_type": "execute_result"
    }
   ],
   "source": [
    "np.asarray(one_side_data.trial_peaks)/4"
   ]
  },
  {
   "cell_type": "code",
   "execution_count": 199,
   "metadata": {},
   "outputs": [
    {
     "data": {
      "text/plain": [
       "0.46637622"
      ]
     },
     "execution_count": 199,
     "metadata": {},
     "output_type": "execute_result"
    }
   ],
   "source": [
    "np.median([0.13636681, 0.46637622, 0.51340394])"
   ]
  },
  {
   "cell_type": "code",
   "execution_count": 207,
   "metadata": {},
   "outputs": [
    {
     "data": {
      "text/plain": [
       "0.5444297804051131"
      ]
     },
     "execution_count": 207,
     "metadata": {},
     "output_type": "execute_result"
    }
   ],
   "source": [
    "np.median(np.concatenate([np.asarray(one_side_data.trial_peaks),np.asarray([0.13636681, 0.46637622, 0.51340394])]))"
   ]
  },
  {
   "cell_type": "code",
   "execution_count": null,
   "metadata": {},
   "outputs": [],
   "source": []
  }
 ],
 "metadata": {
  "kernelspec": {
   "display_name": "Python 3",
   "language": "python",
   "name": "python3"
  },
  "language_info": {
   "codemirror_mode": {
    "name": "ipython",
    "version": 3
   },
   "file_extension": ".py",
   "mimetype": "text/x-python",
   "name": "python",
   "nbconvert_exporter": "python",
   "pygments_lexer": "ipython3",
   "version": "3.7.3"
  }
 },
 "nbformat": 4,
 "nbformat_minor": 4
}
