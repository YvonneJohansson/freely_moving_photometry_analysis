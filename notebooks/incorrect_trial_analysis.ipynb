{
 "cells": [
  {
   "cell_type": "code",
   "execution_count": 312,
   "metadata": {},
   "outputs": [],
   "source": [
    "%matplotlib qt5\n",
    "import sys\n",
    "sys.path.insert(0, 'C:\\\\Users\\\\francescag\\\\Documents\\\\SourceTree_repos\\\\Python_git\\\\freely_moving_photometry_analysis')\n",
    "from scipy.interpolate import interp1d\n",
    "from utils.plotting import calculate_error_bars\n",
    "import numpy as np\n",
    "import matplotlib.pyplot as plt\n",
    "import seaborn as sns\n",
    "from matplotlib import cm\n",
    "import os\n",
    "import peakutils\n",
    "import matplotlib\n",
    "from matplotlib.lines import Line2D\n",
    "from utils.plotting_visuals import makes_plots_pretty\n",
    "import pickle \n",
    "from utils.post_processing_utils import remove_exps_after_manipulations, remove_bad_recordings\n",
    "from utils.regression.linear_regression_utils import get_first_x_sessions\n",
    "import pandas as pd\n",
    "from utils.reaction_time_utils import get_bpod_trial_nums_per_session\n",
    "from utils.plotting import calculate_error_bars"
   ]
  },
  {
   "cell_type": "code",
   "execution_count": 301,
   "metadata": {},
   "outputs": [],
   "source": [
    "def get_all_mice_data(experiments_to_process):\n",
    "    exp_numbers = []\n",
    "    mice = []\n",
    "    for index, experiment in experiments_to_process.iterrows():\n",
    "        mouse = experiment['mouse_id']\n",
    "        date = experiment['date']\n",
    "        dates = experiments_to_process[experiments_to_process['mouse_id'] == mouse]['date'].values\n",
    "        session_starts = get_bpod_trial_nums_per_session(mouse, dates)\n",
    "        session_ind = np.where(dates == date)[0][0]\n",
    "        session_start_trial = session_starts[session_ind]\n",
    "        saving_folder = 'W:\\\\photometry_2AC\\\\processed_data\\\\for_figure\\\\' + mouse + '\\\\'\n",
    "        save_filename = mouse + '_' + date + '_' + 'aligned_traces_correct_incorrect.p'\n",
    "\n",
    "        sorted_exps = pd.to_datetime(\n",
    "            experiments_to_process[experiments_to_process['mouse_id'] == mouse]['date']).sort_values(ignore_index=True)\n",
    "        date_as_dt = pd.to_datetime(date)\n",
    "        exp_number = sorted_exps[sorted_exps == date_as_dt].index[0]\n",
    "        exp_numbers.append(exp_number)\n",
    "        with open(saving_folder + save_filename, \"rb\") as f:\n",
    "            content = pickle.load(f)\n",
    "        print(mouse, date)\n",
    "        if index == 0:\n",
    "            correct = content.choice_data.contra_correct_data.sorted_traces[:,int(160000/2-20000):int(160000/2+20000)]\n",
    "            incorrect = content.choice_data.contra_incorrect_data.sorted_traces[:,int(160000/2-20000):int(160000/2+20000)]\n",
    "            time_stamps = content.choice_data.contra_correct_data.time_points[int(160000/2-20000):int(160000/2+20000)]\n",
    "            correct_trial_nums = content.choice_data.contra_correct_data.trial_nums + session_start_trial\n",
    "            incorrect_trial_nums = content.choice_data.contra_incorrect_data.trial_nums + session_start_trial\n",
    "            reaction_times = content.choice_data.contra_incorrect_data.reaction_times\n",
    "        else:\n",
    "            correct = np.vstack([correct, content.choice_data.contra_correct_data.sorted_traces[:,int(160000/2-20000):int(160000/2+20000)]])\n",
    "            incorrect = np.vstack([incorrect,content.choice_data.contra_incorrect_data.sorted_traces[:,int(160000/2-20000):int(160000/2+20000)]])\n",
    "            correct_trial_nums = np.concatenate((correct_trial_nums, content.choice_data.contra_correct_data.trial_nums + session_start_trial))\n",
    "            incorrect_trial_nums = np.concatenate((incorrect_trial_nums, content.choice_data.contra_incorrect_data.trial_nums + session_start_trial))\n",
    "            reaction_times = np.concatenate((reaction_times, content.choice_data.contra_incorrect_data.reaction_times))\n",
    "    return correct, incorrect, correct_trial_nums, incorrect_trial_nums, reaction_times, time_stamps\n",
    "\n"
   ]
  },
  {
   "cell_type": "code",
   "execution_count": 299,
   "metadata": {},
   "outputs": [
    {
     "name": "stdout",
     "output_type": "stream",
     "text": [
      "removing SNL_photo21: ['20200829' '20200830' '20200831' '20200908' '20200910' '20200911'\n",
      " '20200915' '20200917' '20200918' '20200921' '20201007' '20201008'\n",
      " '20201009']\n",
      "Int64Index([0, 11], dtype='int64')\n"
     ]
    }
   ],
   "source": [
    "\n",
    "mouse_ids = ['SNL_photo21']\n",
    "site = 'tail'\n",
    "\n",
    "experiment_record = pd.read_csv('W:\\\\photometry_2AC\\\\experimental_record.csv')\n",
    "experiment_record['date'] = experiment_record['date'].astype(str)\n",
    "clean_experiments = remove_exps_after_manipulations(experiment_record, mouse_ids)\n",
    "all_experiments_to_process = clean_experiments[\n",
    "    (clean_experiments['mouse_id'].isin(mouse_ids)) & (clean_experiments['recording_site'] == site)].reset_index(\n",
    "    drop=True)\n",
    "experiments_to_process = remove_bad_recordings(all_experiments_to_process).reset_index(drop=True)\n"
   ]
  },
  {
   "cell_type": "code",
   "execution_count": 302,
   "metadata": {},
   "outputs": [
    {
     "name": "stdout",
     "output_type": "stream",
     "text": [
      "SNL_photo21 20200806\n",
      "SNL_photo21 20200808\n",
      "SNL_photo21 20200810\n",
      "SNL_photo21 20200812\n",
      "SNL_photo21 20200814\n",
      "SNL_photo21 20200816\n",
      "SNL_photo21 20200818\n",
      "SNL_photo21 20200820\n",
      "SNL_photo21 20200822\n",
      "SNL_photo21 20200824\n",
      "SNL_photo21 20200827\n",
      "SNL_photo21 20200828\n"
     ]
    }
   ],
   "source": [
    "correct, incorrect, correct_trial_nums, incorrect_trial_nums, reaction_times, time_stamps = get_all_mice_data(experiments_to_process)"
   ]
  },
  {
   "cell_type": "code",
   "execution_count": 303,
   "metadata": {},
   "outputs": [],
   "source": [
    "median_reaction_time = np.median(reaction_times)"
   ]
  },
  {
   "cell_type": "code",
   "execution_count": 304,
   "metadata": {},
   "outputs": [],
   "source": [
    "max_trials = np.max(np.concatenate((incorrect_trial_nums, correct_trial_nums)))\n",
    "early_incorrect_trials = incorrect_trial_nums[ incorrect_trial_nums < int(max_trials/3)]\n",
    "mid_incorrect_trials = incorrect_trial_nums[np.logical_and(incorrect_trial_nums < int(max_trials/3)*2, incorrect_trial_nums > int(max_trials/3))]\n",
    "late_incorrect_trials = incorrect_trial_nums[np.logical_and(incorrect_trial_nums <= max_trials, incorrect_trial_nums > int(max_trials/3)*2)]"
   ]
  },
  {
   "cell_type": "code",
   "execution_count": 305,
   "metadata": {},
   "outputs": [],
   "source": [
    "early_incorrect_inds = np.nonzero(np.in1d(early_incorrect_trials, incorrect_trial_nums))[0]\n",
    "mid_incorrect_inds = np.nonzero(np.in1d(mid_incorrect_trials, incorrect_trial_nums))[0]\n",
    "late_incorrect_inds = np.nonzero(np.in1d(late_incorrect_trials, incorrect_trial_nums))[0]"
   ]
  },
  {
   "cell_type": "code",
   "execution_count": 306,
   "metadata": {},
   "outputs": [],
   "source": [
    "def find_nearest_trials(target_trials, other_trials):\n",
    "    differences = (target_trials.reshape(1,-1) - other_trials.reshape(-1,1))\n",
    "    indices = np.abs(differences).argmin(axis=0)\n",
    "    residual = np.diagonal(differences[indices,])\n",
    "    return indices"
   ]
  },
  {
   "cell_type": "code",
   "execution_count": 307,
   "metadata": {},
   "outputs": [],
   "source": [
    "early_correct_inds = find_nearest_trials(early_incorrect_trials, correct_trial_nums)\n",
    "mid_correct_inds = find_nearest_trials(mid_incorrect_trials, correct_trial_nums)\n",
    "late_correct_inds = find_nearest_trials(late_incorrect_trials, correct_trial_nums)"
   ]
  },
  {
   "cell_type": "code",
   "execution_count": 308,
   "metadata": {},
   "outputs": [],
   "source": [
    "def get_traces_and_mean(all_traces, inds):\n",
    "    traces = all_traces[inds, :]\n",
    "    mean_trace = np.mean(traces, axis=0)\n",
    "    return traces, mean_trace"
   ]
  },
  {
   "cell_type": "code",
   "execution_count": 309,
   "metadata": {},
   "outputs": [],
   "source": [
    "def plot_trace(all_traces, inds, time_stamps, ax, color='green'):\n",
    "    traces, mean_trace = get_traces_and_mean(all_traces, inds)\n",
    "\n",
    "    ax.plot(time_stamps, mean_trace, color=color)\n",
    "    error_bar_lower, error_bar_upper = calculate_error_bars(mean_trace,\n",
    "                                                            traces,\n",
    "                                                            error_bar_method='sem')\n",
    "    ax.fill_between(time_stamps, error_bar_lower, error_bar_upper, alpha=0.5,\n",
    "                     facecolor=color, linewidth=0)\n",
    "    ax.set_xlabel('time(s)')\n",
    "    ax.set_ylabel('z-scored fluorescence')\n"
   ]
  },
  {
   "cell_type": "code",
   "execution_count": 324,
   "metadata": {},
   "outputs": [],
   "source": [
    "def get_peak(all_traces, inds, median_reaction_time):\n",
    "    traces, mean_trace = get_traces_and_mean(all_traces, inds)\n",
    "    half_way = int(traces.shape[1]/2)\n",
    "    trace_from_event = mean_trace[half_way:half_way + int(1000*(median_reaction_time))]\n",
    "    trial_peak_inds = peakutils.indexes(trace_from_event.flatten('F'))\n",
    "    if trial_peak_inds.shape[0] > 0 or len(trial_peak_inds > 1):\n",
    "        trial_peak_inds = trial_peak_inds[0] \n",
    "        trial_peaks = trace_from_event.flatten('F')[trial_peak_inds]\n",
    "    else:\n",
    "        trial_peak_inds = np.argmax(trace_from_event) \n",
    "        trial_peaks = np.max(trace_from_event)\n",
    "    trial_peak_inds += half_way\n",
    "    return trial_peaks, trial_peak_inds"
   ]
  },
  {
   "cell_type": "code",
   "execution_count": 325,
   "metadata": {},
   "outputs": [],
   "source": [
    "trial_peaks, trial_peak_inds = get_peak(correct, mid_incorrect_inds, median_reaction_time)"
   ]
  },
  {
   "cell_type": "code",
   "execution_count": 327,
   "metadata": {},
   "outputs": [
    {
     "name": "stdout",
     "output_type": "stream",
     "text": [
      "146 52 14\n"
     ]
    }
   ],
   "source": [
    "fig, axs = plt.subplots(1,3, sharey=True)\n",
    "axs[0].set_title('Early')\n",
    "plot_trace(correct, early_correct_inds, time_stamps, axs[0], color='green')\n",
    "plot_trace(incorrect, early_incorrect_inds, time_stamps, axs[0], color='red')\n",
    "axs[0].scatter(time_stamps[trial_peak_inds], trial_peaks, color='green')\n",
    "\n",
    "axs[1].set_title('Middle')\n",
    "plot_trace(correct, mid_correct_inds, time_stamps, axs[1], color='green')\n",
    "plot_trace(incorrect, mid_incorrect_inds, time_stamps, axs[1], color='red')\n",
    "trial_peaks, trial_peak_inds = get_peak(incorrect, mid_incorrect_inds, median_reaction_time)\n",
    "axs[1].scatter(time_stamps[trial_peak_inds], trial_peaks, color='red')\n",
    "\n",
    "axs[2].set_title('Late')\n",
    "plot_trace(correct, late_correct_inds, time_stamps, axs[2], color='green')\n",
    "plot_trace(incorrect, late_incorrect_inds, time_stamps, axs[2], color='red')\n",
    "plt.tight_layout()\n",
    "print(early_incorrect_inds.shape[0], mid_incorrect_inds.shape[0], late_incorrect_inds.shape[0])"
   ]
  },
  {
   "cell_type": "code",
   "execution_count": 321,
   "metadata": {},
   "outputs": [
    {
     "data": {
      "text/plain": [
       "-1.8765617285108034"
      ]
     },
     "execution_count": 321,
     "metadata": {},
     "output_type": "execute_result"
    }
   ],
   "source": [
    "time_stamps[trial_peak_inds]"
   ]
  },
  {
   "cell_type": "code",
   "execution_count": 297,
   "metadata": {},
   "outputs": [
    {
     "data": {
      "text/plain": [
       "(212,)"
      ]
     },
     "execution_count": 297,
     "metadata": {},
     "output_type": "execute_result"
    }
   ],
   "source": [
    "incorrect_trial_nums.shape"
   ]
  },
  {
   "cell_type": "code",
   "execution_count": 191,
   "metadata": {},
   "outputs": [
    {
     "data": {
      "text/plain": [
       "array([ 7009.,  7127.,  7197.,  7391.,  7483.,  8160.,  8284.,  8345.,\n",
       "        8350.,  9288.,  9657.,  9829., 10064., 10084.])"
      ]
     },
     "execution_count": 191,
     "metadata": {},
     "output_type": "execute_result"
    }
   ],
   "source": [
    "late_incorrect_trials"
   ]
  },
  {
   "cell_type": "code",
   "execution_count": 192,
   "metadata": {},
   "outputs": [
    {
     "data": {
      "text/plain": [
       "10107.0"
      ]
     },
     "execution_count": 192,
     "metadata": {},
     "output_type": "execute_result"
    }
   ],
   "source": [
    "max_trials"
   ]
  },
  {
   "cell_type": "code",
   "execution_count": null,
   "metadata": {},
   "outputs": [],
   "source": [
    "dir = 'W:\\\\photometry_2AC\\\\processed_data\\\\for_figure\\\\'\n",
    "file_name = 'correct_incorrect_group_data_' + site +'.npz'\n",
    "np.savez(dir + file_name, correct=ipsi_choice, incorrect=incorrect, time_stamps=time_stamps)\n",
    "\n"
   ]
  },
  {
   "cell_type": "code",
   "execution_count": 302,
   "metadata": {},
   "outputs": [],
   "source": [
    "correct = content.choice_data.contra_correct_data.mean_trace\n",
    "incorrect = content.choice_data.contra_incorrect_data.mean_trace"
   ]
  },
  {
   "cell_type": "code",
   "execution_count": 303,
   "metadata": {},
   "outputs": [
    {
     "data": {
      "text/plain": [
       "[<matplotlib.lines.Line2D at 0x101ca02b0>]"
      ]
     },
     "execution_count": 303,
     "metadata": {},
     "output_type": "execute_result"
    }
   ],
   "source": [
    "plt.plot(correct[int(160000/2-20000):int(160000/2+20000)], color='green')\n",
    "plt.plot(incorrect[int(160000/2-20000):int(160000/2+20000)], color='red')"
   ]
  },
  {
   "cell_type": "code",
   "execution_count": 304,
   "metadata": {},
   "outputs": [],
   "source": [
    "# TO DO: find the nearest correct trial to incorrect trial and match them for average"
   ]
  },
  {
   "cell_type": "code",
   "execution_count": 305,
   "metadata": {},
   "outputs": [],
   "source": [
    "incorrect_trials = content.choice_data.contra_incorrect_data.trial_nums\n",
    "correct_trials =  content.choice_data.contra_correct_data.trial_nums"
   ]
  },
  {
   "cell_type": "code",
   "execution_count": 306,
   "metadata": {},
   "outputs": [
    {
     "data": {
      "text/plain": [
       "(94,)"
      ]
     },
     "execution_count": 306,
     "metadata": {},
     "output_type": "execute_result"
    }
   ],
   "source": [
    "incorrect_trials.shape"
   ]
  },
  {
   "cell_type": "code",
   "execution_count": 307,
   "metadata": {},
   "outputs": [],
   "source": [
    "differences = (incorrect_trials.reshape(1,-1) - correct_trials.reshape(-1,1))"
   ]
  },
  {
   "cell_type": "code",
   "execution_count": 308,
   "metadata": {},
   "outputs": [
    {
     "data": {
      "text/plain": [
       "(94,)"
      ]
     },
     "execution_count": 308,
     "metadata": {},
     "output_type": "execute_result"
    }
   ],
   "source": [
    "indices = np.abs(differences).argmin(axis=0)\n",
    "residual = np.diagonal(differences[indices,])\n",
    "indices.shape"
   ]
  },
  {
   "cell_type": "code",
   "execution_count": 309,
   "metadata": {},
   "outputs": [],
   "source": [
    "a = plt.plot(np.mean(content.choice_data.contra_incorrect_data.sorted_traces[:,int(160000/2-20000):int(160000/2+20000)].T, axis=1), color='red')\n",
    "b = plt.plot(np.mean(content.choice_data.contra_correct_data.sorted_traces[indices,int(160000/2-20000):int(160000/2+20000)].T, axis=1), color='green')"
   ]
  },
  {
   "cell_type": "code",
   "execution_count": 233,
   "metadata": {},
   "outputs": [
    {
     "data": {
      "text/plain": [
       "(40,)"
      ]
     },
     "execution_count": 233,
     "metadata": {},
     "output_type": "execute_result"
    }
   ],
   "source": []
  },
  {
   "cell_type": "code",
   "execution_count": null,
   "metadata": {},
   "outputs": [],
   "source": []
  }
 ],
 "metadata": {
  "kernelspec": {
   "display_name": "Python 3",
   "language": "python",
   "name": "python3"
  },
  "language_info": {
   "codemirror_mode": {
    "name": "ipython",
    "version": 3
   },
   "file_extension": ".py",
   "mimetype": "text/x-python",
   "name": "python",
   "nbconvert_exporter": "python",
   "pygments_lexer": "ipython3",
   "version": "3.7.3"
  }
 },
 "nbformat": 4,
 "nbformat_minor": 4
}
