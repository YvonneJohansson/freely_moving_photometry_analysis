{
 "cells": [
  {
   "cell_type": "code",
   "execution_count": 1,
   "metadata": {},
   "outputs": [
    {
     "name": "stderr",
     "output_type": "stream",
     "text": [
      "In C:\\Users\\francescag\\AppData\\Local\\Continuum\\miniconda3\\lib\\site-packages\\matplotlib\\mpl-data\\stylelib\\_classic_test.mplstyle: \n",
      "The savefig.frameon rcparam was deprecated in Matplotlib 3.1 and will be removed in 3.3.\n",
      "In C:\\Users\\francescag\\AppData\\Local\\Continuum\\miniconda3\\lib\\site-packages\\matplotlib\\mpl-data\\stylelib\\_classic_test.mplstyle: \n",
      "The verbose.level rcparam was deprecated in Matplotlib 3.1 and will be removed in 3.3.\n",
      "In C:\\Users\\francescag\\AppData\\Local\\Continuum\\miniconda3\\lib\\site-packages\\matplotlib\\mpl-data\\stylelib\\_classic_test.mplstyle: \n",
      "The verbose.fileo rcparam was deprecated in Matplotlib 3.1 and will be removed in 3.3.\n"
     ]
    }
   ],
   "source": [
    "%matplotlib qt5\n",
    "import sys\n",
    "sys.path.insert(0, 'C:\\\\Users\\\\francescag\\\\Documents\\\\SourceTree_repos\\\\Python_git\\\\freely_moving_photometry_analysis')\n",
    "from scipy.interpolate import interp1d\n",
    "from utils.plotting import calculate_error_bars\n",
    "import numpy as np\n",
    "import matplotlib.pyplot as plt\n",
    "import seaborn as sns\n",
    "from matplotlib import cm\n",
    "import os\n",
    "import peakutils\n",
    "import matplotlib\n",
    "from matplotlib.lines import Line2D\n",
    "from utils.plotting_visuals import makes_plots_pretty\n",
    "import pickle \n",
    "from utils.post_processing_utils import remove_exps_after_manipulations, remove_bad_recordings\n",
    "from utils.regression.linear_regression_utils import get_first_x_sessions\n",
    "import pandas as pd\n",
    "from utils.reaction_time_utils import get_bpod_trial_nums_per_session\n",
    "from utils.plotting import calculate_error_bars"
   ]
  },
  {
   "cell_type": "code",
   "execution_count": 2,
   "metadata": {},
   "outputs": [],
   "source": [
    "def get_all_mice_data(experiments_to_process):\n",
    "    exp_numbers = []\n",
    "    mice = []\n",
    "    for index, experiment in experiments_to_process.iterrows():\n",
    "        mouse = experiment['mouse_id']\n",
    "        date = experiment['date']\n",
    "        dates = experiments_to_process[experiments_to_process['mouse_id'] == mouse]['date'].values\n",
    "        session_starts = get_bpod_trial_nums_per_session(mouse, dates)\n",
    "        session_ind = np.where(dates == date)[0][0]\n",
    "        session_start_trial = session_starts[session_ind]\n",
    "        saving_folder = 'W:\\\\photometry_2AC\\\\processed_data\\\\for_figure\\\\' + mouse + '\\\\'\n",
    "        save_filename = mouse + '_' + date + '_' + 'aligned_traces_correct_incorrect.p'\n",
    "\n",
    "        sorted_exps = pd.to_datetime(\n",
    "            experiments_to_process[experiments_to_process['mouse_id'] == mouse]['date']).sort_values(ignore_index=True)\n",
    "        date_as_dt = pd.to_datetime(date)\n",
    "        exp_number = sorted_exps[sorted_exps == date_as_dt].index[0]\n",
    "        exp_numbers.append(exp_number)\n",
    "        with open(saving_folder + save_filename, \"rb\") as f:\n",
    "            content = pickle.load(f)\n",
    "        print(mouse, date)\n",
    "        if index == 0:\n",
    "            correct = content.choice_data.contra_correct_data.sorted_traces[:,int(160000/2-20000):int(160000/2+20000)]\n",
    "            incorrect = content.choice_data.contra_incorrect_data.sorted_traces[:,int(160000/2-20000):int(160000/2+20000)]\n",
    "            time_stamps = content.choice_data.contra_correct_data.time_points[int(160000/2-20000):int(160000/2+20000)]\n",
    "            correct_trial_nums = content.choice_data.contra_correct_data.trial_nums + session_start_trial\n",
    "            incorrect_trial_nums = content.choice_data.contra_incorrect_data.trial_nums + session_start_trial\n",
    "            reaction_times = content.choice_data.contra_incorrect_data.reaction_times\n",
    "            correct_reaction_times = content.choice_data.contra_correct_data.reaction_times\n",
    "            correct_peaks = np.asarray(content.choice_data.contra_correct_data.trial_peaks)\n",
    "            incorrect_peaks = np.asarray(content.choice_data.contra_incorrect_data.trial_peaks)\n",
    "        else:\n",
    "            correct = np.vstack([correct, content.choice_data.contra_correct_data.sorted_traces[:,int(160000/2-20000):int(160000/2+20000)]])\n",
    "            incorrect = np.vstack([incorrect,content.choice_data.contra_incorrect_data.sorted_traces[:,int(160000/2-20000):int(160000/2+20000)]])\n",
    "            correct_trial_nums = np.concatenate((correct_trial_nums, content.choice_data.contra_correct_data.trial_nums + session_start_trial))\n",
    "            incorrect_trial_nums = np.concatenate((incorrect_trial_nums, content.choice_data.contra_incorrect_data.trial_nums + session_start_trial))\n",
    "            reaction_times = np.concatenate((reaction_times, content.choice_data.contra_incorrect_data.reaction_times))\n",
    "            correct_reaction_times = np.concatenate((correct_reaction_times, content.choice_data.contra_correct_data.reaction_times))\n",
    "            correct_peaks = np.concatenate((correct_peaks, np.asarray(content.choice_data.contra_correct_data.trial_peaks)))\n",
    "            incorrect_peaks = np.concatenate((incorrect_peaks, np.asarray(content.choice_data.contra_incorrect_data.trial_peaks)))\n",
    "    return correct, incorrect, correct_peaks, incorrect_peaks, correct_trial_nums, incorrect_trial_nums, correct_reaction_times, reaction_times, time_stamps\n",
    "\n"
   ]
  },
  {
   "cell_type": "code",
   "execution_count": 3,
   "metadata": {},
   "outputs": [
    {
     "name": "stdout",
     "output_type": "stream",
     "text": [
      "removing SNL_photo22: ['20200829' '20200830' '20200831' '20200908' '20200910' '20200911'\n",
      " '20200915' '20200917' '20200918' '20200921' '20201007' '20201008'\n",
      " '20201009']\n",
      "Int64Index([], dtype='int64')\n"
     ]
    }
   ],
   "source": [
    "\n",
    "mouse_ids = ['SNL_photo22']\n",
    "site = 'tail'\n",
    "\n",
    "experiment_record = pd.read_csv('W:\\\\photometry_2AC\\\\experimental_record.csv')\n",
    "experiment_record['date'] = experiment_record['date'].astype(str)\n",
    "clean_experiments = remove_exps_after_manipulations(experiment_record, mouse_ids)\n",
    "all_experiments_to_process = clean_experiments[\n",
    "    (clean_experiments['mouse_id'].isin(mouse_ids)) & (clean_experiments['recording_site'] == site)].reset_index(\n",
    "    drop=True)\n",
    "experiments_to_process = remove_bad_recordings(all_experiments_to_process).reset_index(drop=True)\n"
   ]
  },
  {
   "cell_type": "code",
   "execution_count": 4,
   "metadata": {},
   "outputs": [
    {
     "name": "stdout",
     "output_type": "stream",
     "text": [
      "SNL_photo22 20200806\n",
      "SNL_photo22 20200808\n",
      "SNL_photo22 20200810\n",
      "SNL_photo22 20200812\n",
      "SNL_photo22 20200814\n",
      "SNL_photo22 20200816\n",
      "SNL_photo22 20200818\n",
      "SNL_photo22 20200820\n",
      "SNL_photo22 20200822\n",
      "SNL_photo22 20200824\n",
      "SNL_photo22 20200826\n",
      "SNL_photo22 20200827\n",
      "SNL_photo22 20200828\n"
     ]
    }
   ],
   "source": [
    "correct, incorrect, correct_peaks, incorrect_peaks, correct_trial_nums, incorrect_trial_nums, correct_reaction_times, incorrect_reaction_times, time_stamps = get_all_mice_data(experiments_to_process)"
   ]
  },
  {
   "cell_type": "code",
   "execution_count": null,
   "metadata": {},
   "outputs": [],
   "source": [
    "all_reaction_times = np.concatenate([incorrect_reaction_times, correct_reaction_times])\n",
    "max_reaction_time = int(np.max(all_reaction_times))+1\n"
   ]
  },
  {
   "cell_type": "code",
   "execution_count": 594,
   "metadata": {},
   "outputs": [
    {
     "data": {
      "text/plain": [
       "(0.0, 6.0)"
      ]
     },
     "execution_count": 594,
     "metadata": {},
     "output_type": "execute_result"
    }
   ],
   "source": [
    "fig, axs = plt.subplots(1,1)\n",
    "axs.hist(incorrect_reaction_times, bins=np.linspace(0, max_reaction_time, 100) , density=True, color='red', alpha=0.2)\n",
    "axs.hist(correct_reaction_times, bins=np.linspace(0, max_reaction_time, 100), density=True, color='green', alpha=0.2)\n",
    "axs.set_ylabel(' % of trials')\n",
    "axs.set_xlabel('reaction time (s)')\n",
    "axs.axvline(np.median(all_reaction_times), color='k', lw=1)\n",
    "axs.axvline(np.quantile(all_reaction_times, 0.75), color='k', linestyle='--', lw=1)\n",
    "axs.axvline(np.quantile(all_reaction_times, 0.25), color='k', linestyle='--', lw=1)\n",
    "axs.axvline(np.median(correct_reaction_times), color='g', lw=1)\n",
    "axs.axvline(np.quantile(correct_reaction_times, 0.75), color='g', linestyle='--', lw=1)\n",
    "axs.axvline(np.quantile(correct_reaction_times, 0.25), color='g', linestyle='--', lw=1)\n",
    "axs.axvline(np.median(incorrect_reaction_times), color='r', lw=1)\n",
    "axs.axvline(np.quantile(incorrect_reaction_times, 0.75), color='r', linestyle='--', lw=1)\n",
    "axs.axvline(np.quantile(incorrect_reaction_times, 0.25), color='r', linestyle='--', lw=1)\n",
    "axs.set_xlim([0,6])"
   ]
  },
  {
   "cell_type": "code",
   "execution_count": 17,
   "metadata": {},
   "outputs": [],
   "source": [
    "upper_quartile = np.quantile(correct_reaction_times, 0.75)\n",
    "lower_quartile = np.quantile(correct_reaction_times, 0.25)"
   ]
  },
  {
   "cell_type": "code",
   "execution_count": 18,
   "metadata": {},
   "outputs": [],
   "source": [
    "incorrect_reaction_times_valid_inds = np.where(incorrect_reaction_times <=upper_quartile)\n",
    "correct_reaction_times_valid_inds = np.where(correct_reaction_times <=upper_quartile)"
   ]
  },
  {
   "cell_type": "code",
   "execution_count": 648,
   "metadata": {},
   "outputs": [
    {
     "data": {
      "text/plain": [
       "(0.0, 6.0)"
      ]
     },
     "execution_count": 648,
     "metadata": {},
     "output_type": "execute_result"
    }
   ],
   "source": [
    "correct_reaction_times = correct_reaction_times[correct_reaction_times_valid_inds]\n",
    "incorrect_reaction_times = incorrect_reaction_times[incorrect_reaction_times_valid_inds]\n",
    "\n",
    "fig, axs = plt.subplots(1,1)\n",
    "axs.hist(incorrect_reaction_times, bins=np.linspace(0, max_reaction_time, 100) , density=True, color='red', alpha=0.2)\n",
    "axs.hist(correct_reaction_times, bins=np.linspace(0, max_reaction_time, 100), density=True, color='green', alpha=0.2)\n",
    "axs.set_ylabel(' % of trials')\n",
    "axs.set_xlabel('reaction time (s)')\n",
    "axs.axvline(np.median(correct_reaction_times), color='g', lw=1)\n",
    "axs.axvline(np.quantile(correct_reaction_times, 0.75), color='g', linestyle='--', lw=1)\n",
    "axs.axvline(np.quantile(correct_reaction_times, 0.25), color='g', linestyle='--', lw=1)\n",
    "axs.axvline(np.median(incorrect_reaction_times), color='r', lw=1)\n",
    "axs.axvline(np.quantile(incorrect_reaction_times, 0.75), color='r', linestyle='--', lw=1)\n",
    "axs.axvline(np.quantile(incorrect_reaction_times, 0.25), color='r', linestyle='--', lw=1)\n",
    "axs.set_xlim([0,6])"
   ]
  },
  {
   "cell_type": "code",
   "execution_count": 205,
   "metadata": {},
   "outputs": [
    {
     "data": {
      "text/plain": [
       "<matplotlib.collections.PathCollection at 0x24456780>"
      ]
     },
     "execution_count": 205,
     "metadata": {},
     "output_type": "execute_result"
    }
   ],
   "source": [
    "plt.figure()\n",
    "plt.scatter(incorrect_trial_nums, incorrect_reaction_times, color='r', s=2)\n",
    "plt.scatter(correct_trial_nums, correct_reaction_times, color='g', s=2)"
   ]
  },
  {
   "cell_type": "code",
   "execution_count": 207,
   "metadata": {},
   "outputs": [
    {
     "data": {
      "text/plain": [
       "<matplotlib.collections.PathCollection at 0x23583fd0>"
      ]
     },
     "execution_count": 207,
     "metadata": {},
     "output_type": "execute_result"
    }
   ],
   "source": [
    "plt.scatter(incorrect_reaction_times, incorrect_peaks, color='r', s=5)\n",
    "plt.scatter(correct_reaction_times, correct_peaks, color='g', s=2, alpha=0.2)"
   ]
  },
  {
   "cell_type": "code",
   "execution_count": 12,
   "metadata": {},
   "outputs": [
    {
     "data": {
      "text/plain": [
       "1.055835958212447"
      ]
     },
     "execution_count": 12,
     "metadata": {},
     "output_type": "execute_result"
    }
   ],
   "source": [
    "np.mean(incorrect_peaks[mid_incorrect_inds])"
   ]
  },
  {
   "cell_type": "code",
   "execution_count": 15,
   "metadata": {},
   "outputs": [
    {
     "data": {
      "text/plain": [
       "1.1683922039861983"
      ]
     },
     "execution_count": 15,
     "metadata": {},
     "output_type": "execute_result"
    }
   ],
   "source": [
    "np.mean(correct_peaks[mid_correct_inds])"
   ]
  },
  {
   "cell_type": "code",
   "execution_count": 19,
   "metadata": {},
   "outputs": [],
   "source": [
    "incorrect_trial_nums = incorrect_trial_nums[incorrect_reaction_times_valid_inds]\n",
    "incorrect = incorrect[incorrect_reaction_times_valid_inds]"
   ]
  },
  {
   "cell_type": "code",
   "execution_count": 20,
   "metadata": {},
   "outputs": [],
   "source": [
    "correct_trial_nums = correct_trial_nums[correct_reaction_times_valid_inds]\n",
    "correct = correct[correct_reaction_times_valid_inds]"
   ]
  },
  {
   "cell_type": "code",
   "execution_count": 21,
   "metadata": {},
   "outputs": [],
   "source": [
    "incorrect_inds = np.nonzero(np.in1d(incorrect_trial_nums, incorrect_trial_nums))[0]\n",
    "correct_inds = find_nearest_trials(incorrect_trial_nums, correct_trial_nums)"
   ]
  },
  {
   "cell_type": "code",
   "execution_count": 132,
   "metadata": {},
   "outputs": [
    {
     "data": {
      "text/plain": [
       "[<matplotlib.lines.Line2D at 0x23769a58>]"
      ]
     },
     "execution_count": 132,
     "metadata": {},
     "output_type": "execute_result"
    }
   ],
   "source": [
    "plt.plot(np.mean(incorrect[incorrect_inds], axis=0))\n",
    "plt.plot(np.mean(correct[correct_inds], axis=0))"
   ]
  },
  {
   "cell_type": "code",
   "execution_count": 22,
   "metadata": {},
   "outputs": [],
   "source": [
    "max_trials = np.max(np.concatenate((incorrect_trial_nums, correct_trial_nums)))\n",
    "early_incorrect_trials = incorrect_trial_nums[ incorrect_trial_nums < int(max_trials/3)]\n",
    "mid_incorrect_trials = incorrect_trial_nums[np.logical_and(incorrect_trial_nums < int(max_trials/3)*2, incorrect_trial_nums > int(max_trials/3))]\n",
    "late_incorrect_trials = incorrect_trial_nums[np.logical_and(incorrect_trial_nums <= max_trials, incorrect_trial_nums > int(max_trials/3)*2)]"
   ]
  },
  {
   "cell_type": "code",
   "execution_count": 23,
   "metadata": {},
   "outputs": [],
   "source": [
    "early_incorrect_inds = np.nonzero(np.in1d(incorrect_trial_nums, early_incorrect_trials))[0]\n",
    "mid_incorrect_inds = np.nonzero(np.in1d(incorrect_trial_nums, mid_incorrect_trials))[0]\n",
    "late_incorrect_inds = np.nonzero(np.in1d(incorrect_trial_nums, late_incorrect_trials))[0]"
   ]
  },
  {
   "cell_type": "code",
   "execution_count": 7,
   "metadata": {},
   "outputs": [],
   "source": [
    "def find_nearest_trials(target_trials, other_trials):\n",
    "    differences = (target_trials.reshape(1,-1) - other_trials.reshape(-1,1))\n",
    "    indices = np.abs(differences).argmin(axis=0)\n",
    "    residual = np.diagonal(differences[indices,])\n",
    "    return indices"
   ]
  },
  {
   "cell_type": "code",
   "execution_count": 24,
   "metadata": {},
   "outputs": [],
   "source": [
    "early_correct_inds = find_nearest_trials(early_incorrect_trials, correct_trial_nums)\n",
    "mid_correct_inds = find_nearest_trials(mid_incorrect_trials, correct_trial_nums)\n",
    "late_correct_inds = find_nearest_trials(late_incorrect_trials, correct_trial_nums)"
   ]
  },
  {
   "cell_type": "code",
   "execution_count": 148,
   "metadata": {},
   "outputs": [],
   "source": [
    "def get_traces_and_mean(all_traces, inds):\n",
    "    traces = all_traces[inds, :]\n",
    "    mean_trace = np.mean(traces, axis=0)\n",
    "    return traces, mean_trace"
   ]
  },
  {
   "cell_type": "code",
   "execution_count": 149,
   "metadata": {},
   "outputs": [],
   "source": [
    "def plot_trace(all_traces, inds, time_stamps, ax, color='green'):\n",
    "    traces, mean_trace = get_traces_and_mean(all_traces, inds)\n",
    "\n",
    "    ax.plot(time_stamps, mean_trace, color=color)\n",
    "    error_bar_lower, error_bar_upper = calculate_error_bars(mean_trace,\n",
    "                                                            traces,\n",
    "                                                            error_bar_method='sem')\n",
    "    ax.fill_between(time_stamps, error_bar_lower, error_bar_upper, alpha=0.5,\n",
    "                     facecolor=color, linewidth=0)\n",
    "    ax.set_xlabel('time(s)')\n",
    "    ax.set_ylabel('z-scored fluorescence')\n"
   ]
  },
  {
   "cell_type": "code",
   "execution_count": 150,
   "metadata": {},
   "outputs": [],
   "source": [
    "def get_peak(all_traces, inds, median_reaction_time):\n",
    "    traces, mean_trace = get_traces_and_mean(all_traces, inds)\n",
    "    half_way = int(traces.shape[1]/2)\n",
    "    trace_from_event = mean_trace[half_way:half_way + int(1000*(median_reaction_time))]\n",
    "    print(half_way + int(1000*(median_reaction_time)))\n",
    "    trial_peak_inds = peakutils.indexes(trace_from_event.flatten('F'))\n",
    "    if trial_peak_inds.shape[0] > 0 or len(trial_peak_inds > 1):\n",
    "        trial_peak_inds = trial_peak_inds[0] \n",
    "        trial_peaks = trace_from_event.flatten('F')[trial_peak_inds]\n",
    "    else:\n",
    "        trial_peak_inds = np.argmax(trace_from_event) \n",
    "        trial_peaks = np.max(trace_from_event)\n",
    "    trial_peak_inds += half_way\n",
    "    return trial_peaks, trial_peak_inds"
   ]
  },
  {
   "cell_type": "code",
   "execution_count": 151,
   "metadata": {},
   "outputs": [],
   "source": [
    "median_reaction_time = np.median(all_reaction_times)\n",
    "sd_reaction_times = np.std(all_reaction_times)"
   ]
  },
  {
   "cell_type": "code",
   "execution_count": 152,
   "metadata": {},
   "outputs": [],
   "source": [
    "limit =  median_reaction_time + sd_reaction_times *2 + median_reaction_time"
   ]
  },
  {
   "cell_type": "code",
   "execution_count": 153,
   "metadata": {},
   "outputs": [
    {
     "name": "stdout",
     "output_type": "stream",
     "text": [
      "22151\n",
      "22151\n",
      "22151\n",
      "22151\n",
      "22151\n",
      "22151\n",
      "143 36 10\n"
     ]
    }
   ],
   "source": [
    "fig, axs = plt.subplots(1,3, sharey=True)\n",
    "axs[0].set_title('Early')\n",
    "plot_trace(correct, early_correct_inds, time_stamps, axs[0], color='green')\n",
    "trial_peaks, trial_peak_inds = get_peak(correct, early_correct_inds, limit)\n",
    "axs[0].scatter(time_stamps[trial_peak_inds], trial_peaks, color='green')\n",
    "plot_trace(incorrect, early_incorrect_inds, time_stamps, axs[0], color='red')\n",
    "trial_peaks, trial_peak_inds = get_peak(incorrect, early_incorrect_inds, limit)\n",
    "axs[0].scatter(time_stamps[trial_peak_inds], trial_peaks, color='red')\n",
    "\n",
    "axs[1].set_title('Middle')\n",
    "plot_trace(correct, mid_correct_inds, time_stamps, axs[1], color='green')\n",
    "trial_peaks, trial_peak_inds = get_peak(correct, mid_correct_inds, limit)\n",
    "axs[1].scatter(time_stamps[trial_peak_inds], trial_peaks, color='green')\n",
    "plot_trace(incorrect, mid_incorrect_inds, time_stamps, axs[1], color='red')\n",
    "trial_peaks, trial_peak_inds = get_peak(incorrect, mid_incorrect_inds, limit)\n",
    "axs[1].scatter(time_stamps[trial_peak_inds], trial_peaks, color='red')\n",
    "\n",
    "axs[2].set_title('Late')\n",
    "plot_trace(correct, late_correct_inds, time_stamps, axs[2], color='green')\n",
    "trial_peaks, trial_peak_inds = get_peak(correct, late_correct_inds, limit)\n",
    "axs[2].scatter(time_stamps[trial_peak_inds], trial_peaks, color='green')\n",
    "plot_trace(incorrect, late_incorrect_inds, time_stamps, axs[2], color='red')\n",
    "trial_peaks, trial_peak_inds = get_peak(incorrect, late_incorrect_inds, limit)\n",
    "axs[2].scatter(time_stamps[trial_peak_inds], trial_peaks, color='red')\n",
    "plt.tight_layout()\n",
    "print(early_incorrect_inds.shape[0], mid_incorrect_inds.shape[0], late_incorrect_inds.shape[0])"
   ]
  },
  {
   "cell_type": "markdown",
   "metadata": {},
   "source": [
    "Not trial matching\n"
   ]
  },
  {
   "cell_type": "code",
   "execution_count": null,
   "metadata": {},
   "outputs": [],
   "source": [
    "max_trials = np.max(np.concatenate((incorrect_trial_nums, correct_trial_nums)))\n",
    "early_incorrect_trials = incorrect_trial_nums[ incorrect_trial_nums < int(max_trials/3)]\n",
    "mid_incorrect_trials = incorrect_trial_nums[np.logical_and(incorrect_trial_nums < int(max_trials/3)*2, incorrect_trial_nums > int(max_trials/3))]\n",
    "late_incorrect_trials = incorrect_trial_nums[np.logical_and(incorrect_trial_nums <= max_trials, incorrect_trial_nums > int(max_trials/3)*2)]\n",
    "early_incorrect_inds = np.nonzero(np.in1d(incorrect_trial_nums, early_incorrect_trials))[0]\n",
    "mid_incorrect_inds = np.nonzero(np.in1d(incorrect_trial_nums, mid_incorrect_trials))[0]\n",
    "late_incorrect_inds = np.nonzero(np.in1d(incorrect_trial_nums, late_incorrect_trials))[0]"
   ]
  },
  {
   "cell_type": "code",
   "execution_count": null,
   "metadata": {},
   "outputs": [],
   "source": [
    "early_correct_trials = correct_trial_nums[ correct_trial_nums < int(max_trials/3)]\n",
    "mid_correct_trials = correct_trial_nums[np.logical_and(correct_trial_nums < int(max_trials/3)*2, correct_trial_nums > int(max_trials/3))]\n",
    "late_correct_trials = correct_trial_nums[np.logical_and(correct_trial_nums <= max_trials, correct_trial_nums > int(max_trials/3)*2)]\n",
    "early_correct_inds = np.nonzero(np.in1d(correct_trial_nums, early_correct_trials))[0]\n",
    "mid_correct_inds = np.nonzero(np.in1d(correct_trial_nums, mid_correct_trials))[0]\n",
    "late_correct_inds = np.nonzero(np.in1d(correct_trial_nums, late_correct_trials))[0]"
   ]
  },
  {
   "cell_type": "code",
   "execution_count": 450,
   "metadata": {},
   "outputs": [
    {
     "name": "stdout",
     "output_type": "stream",
     "text": [
      "23535\n",
      "23535\n",
      "23535\n",
      "23535\n",
      "23535\n",
      "23535\n",
      "146 52 14\n"
     ]
    }
   ],
   "source": [
    "fig, axs = plt.subplots(1,3, sharey=True)\n",
    "axs[0].set_title('Early')\n",
    "plot_trace(correct, early_correct_inds, time_stamps, axs[0], color='green')\n",
    "trial_peaks, trial_peak_inds = get_peak(correct, early_correct_inds, limit)\n",
    "axs[0].scatter(time_stamps[trial_peak_inds], trial_peaks, color='green')\n",
    "plot_trace(incorrect, early_incorrect_inds, time_stamps, axs[0], color='red')\n",
    "trial_peaks, trial_peak_inds = get_peak(incorrect, early_incorrect_inds, limit)\n",
    "axs[0].scatter(time_stamps[trial_peak_inds], trial_peaks, color='red')\n",
    "\n",
    "axs[1].set_title('Middle')\n",
    "plot_trace(correct, mid_correct_inds, time_stamps, axs[1], color='green')\n",
    "trial_peaks, trial_peak_inds = get_peak(correct, mid_correct_inds, limit)\n",
    "axs[1].scatter(time_stamps[trial_peak_inds], trial_peaks, color='green')\n",
    "plot_trace(incorrect, mid_incorrect_inds, time_stamps, axs[1], color='red')\n",
    "trial_peaks, trial_peak_inds = get_peak(incorrect, mid_incorrect_inds, limit)\n",
    "axs[1].scatter(time_stamps[trial_peak_inds], trial_peaks, color='red')\n",
    "\n",
    "axs[2].set_title('Late')\n",
    "plot_trace(correct, late_correct_inds, time_stamps, axs[2], color='green')\n",
    "trial_peaks, trial_peak_inds = get_peak(correct, late_correct_inds, limit)\n",
    "axs[2].scatter(time_stamps[trial_peak_inds], trial_peaks, color='green')\n",
    "plot_trace(incorrect, late_incorrect_inds, time_stamps, axs[2], color='red')\n",
    "trial_peaks, trial_peak_inds = get_peak(incorrect, late_incorrect_inds, limit)\n",
    "axs[2].scatter(time_stamps[trial_peak_inds], trial_peaks, color='red')\n",
    "plt.tight_layout()\n",
    "print(early_incorrect_inds.shape[0], mid_incorrect_inds.shape[0], late_incorrect_inds.shape[0])"
   ]
  },
  {
   "cell_type": "code",
   "execution_count": 321,
   "metadata": {},
   "outputs": [
    {
     "data": {
      "text/plain": [
       "-1.8765617285108034"
      ]
     },
     "execution_count": 321,
     "metadata": {},
     "output_type": "execute_result"
    }
   ],
   "source": [
    "time_stamps[trial_peak_inds]"
   ]
  },
  {
   "cell_type": "code",
   "execution_count": 297,
   "metadata": {},
   "outputs": [
    {
     "data": {
      "text/plain": [
       "(212,)"
      ]
     },
     "execution_count": 297,
     "metadata": {},
     "output_type": "execute_result"
    }
   ],
   "source": [
    "incorrect_trial_nums.shape"
   ]
  },
  {
   "cell_type": "code",
   "execution_count": 191,
   "metadata": {},
   "outputs": [
    {
     "data": {
      "text/plain": [
       "array([ 7009.,  7127.,  7197.,  7391.,  7483.,  8160.,  8284.,  8345.,\n",
       "        8350.,  9288.,  9657.,  9829., 10064., 10084.])"
      ]
     },
     "execution_count": 191,
     "metadata": {},
     "output_type": "execute_result"
    }
   ],
   "source": [
    "late_incorrect_trials"
   ]
  },
  {
   "cell_type": "code",
   "execution_count": 192,
   "metadata": {},
   "outputs": [
    {
     "data": {
      "text/plain": [
       "10107.0"
      ]
     },
     "execution_count": 192,
     "metadata": {},
     "output_type": "execute_result"
    }
   ],
   "source": [
    "max_trials"
   ]
  },
  {
   "cell_type": "code",
   "execution_count": null,
   "metadata": {},
   "outputs": [],
   "source": [
    "dir = 'W:\\\\photometry_2AC\\\\processed_data\\\\for_figure\\\\'\n",
    "file_name = 'correct_incorrect_group_data_' + site +'.npz'\n",
    "np.savez(dir + file_name, correct=ipsi_choice, incorrect=incorrect, time_stamps=time_stamps)\n",
    "\n"
   ]
  },
  {
   "cell_type": "code",
   "execution_count": 302,
   "metadata": {},
   "outputs": [],
   "source": [
    "correct = content.choice_data.contra_correct_data.mean_trace\n",
    "incorrect = content.choice_data.contra_incorrect_data.mean_trace"
   ]
  },
  {
   "cell_type": "code",
   "execution_count": 303,
   "metadata": {},
   "outputs": [
    {
     "data": {
      "text/plain": [
       "[<matplotlib.lines.Line2D at 0x101ca02b0>]"
      ]
     },
     "execution_count": 303,
     "metadata": {},
     "output_type": "execute_result"
    }
   ],
   "source": [
    "plt.plot(correct[int(160000/2-20000):int(160000/2+20000)], color='green')\n",
    "plt.plot(incorrect[int(160000/2-20000):int(160000/2+20000)], color='red')"
   ]
  },
  {
   "cell_type": "code",
   "execution_count": 304,
   "metadata": {},
   "outputs": [],
   "source": [
    "# TO DO: find the nearest correct trial to incorrect trial and match them for average"
   ]
  },
  {
   "cell_type": "code",
   "execution_count": 305,
   "metadata": {},
   "outputs": [],
   "source": [
    "incorrect_trials = content.choice_data.contra_incorrect_data.trial_nums\n",
    "correct_trials =  content.choice_data.contra_correct_data.trial_nums"
   ]
  },
  {
   "cell_type": "code",
   "execution_count": 306,
   "metadata": {},
   "outputs": [
    {
     "data": {
      "text/plain": [
       "(94,)"
      ]
     },
     "execution_count": 306,
     "metadata": {},
     "output_type": "execute_result"
    }
   ],
   "source": [
    "incorrect_trials.shape"
   ]
  },
  {
   "cell_type": "code",
   "execution_count": 307,
   "metadata": {},
   "outputs": [],
   "source": [
    "differences = (incorrect_trials.reshape(1,-1) - correct_trials.reshape(-1,1))"
   ]
  },
  {
   "cell_type": "code",
   "execution_count": 308,
   "metadata": {},
   "outputs": [
    {
     "data": {
      "text/plain": [
       "(94,)"
      ]
     },
     "execution_count": 308,
     "metadata": {},
     "output_type": "execute_result"
    }
   ],
   "source": [
    "indices = np.abs(differences).argmin(axis=0)\n",
    "residual = np.diagonal(differences[indices,])\n",
    "indices.shape"
   ]
  },
  {
   "cell_type": "code",
   "execution_count": 309,
   "metadata": {},
   "outputs": [],
   "source": [
    "a = plt.plot(np.mean(content.choice_data.contra_incorrect_data.sorted_traces[:,int(160000/2-20000):int(160000/2+20000)].T, axis=1), color='red')\n",
    "b = plt.plot(np.mean(content.choice_data.contra_correct_data.sorted_traces[indices,int(160000/2-20000):int(160000/2+20000)].T, axis=1), color='green')"
   ]
  },
  {
   "cell_type": "code",
   "execution_count": 390,
   "metadata": {},
   "outputs": [],
   "source": [
    "a = np.full([2,3], 'a')\n"
   ]
  },
  {
   "cell_type": "code",
   "execution_count": 391,
   "metadata": {},
   "outputs": [
    {
     "data": {
      "text/plain": [
       "array([['a', 'a', 'a'],\n",
       "       ['a', 'a', 'a']], dtype='<U1')"
      ]
     },
     "execution_count": 391,
     "metadata": {},
     "output_type": "execute_result"
    }
   ],
   "source": [
    "a"
   ]
  },
  {
   "cell_type": "code",
   "execution_count": null,
   "metadata": {},
   "outputs": [],
   "source": []
  }
 ],
 "metadata": {
  "kernelspec": {
   "display_name": "Python 3",
   "language": "python",
   "name": "python3"
  },
  "language_info": {
   "codemirror_mode": {
    "name": "ipython",
    "version": 3
   },
   "file_extension": ".py",
   "mimetype": "text/x-python",
   "name": "python",
   "nbconvert_exporter": "python",
   "pygments_lexer": "ipython3",
   "version": "3.7.3"
  }
 },
 "nbformat": 4,
 "nbformat_minor": 4
}
