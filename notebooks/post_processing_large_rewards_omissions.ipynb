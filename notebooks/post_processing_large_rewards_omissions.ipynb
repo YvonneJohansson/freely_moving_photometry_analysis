{
 "cells": [
  {
   "cell_type": "code",
   "execution_count": 1,
   "metadata": {},
   "outputs": [
    {
     "name": "stderr",
     "output_type": "stream",
     "text": [
      "In C:\\Users\\francescag\\AppData\\Local\\Continuum\\miniconda3\\lib\\site-packages\\matplotlib\\mpl-data\\stylelib\\_classic_test.mplstyle: \n",
      "The savefig.frameon rcparam was deprecated in Matplotlib 3.1 and will be removed in 3.3.\n",
      "In C:\\Users\\francescag\\AppData\\Local\\Continuum\\miniconda3\\lib\\site-packages\\matplotlib\\mpl-data\\stylelib\\_classic_test.mplstyle: \n",
      "The verbose.level rcparam was deprecated in Matplotlib 3.1 and will be removed in 3.3.\n",
      "In C:\\Users\\francescag\\AppData\\Local\\Continuum\\miniconda3\\lib\\site-packages\\matplotlib\\mpl-data\\stylelib\\_classic_test.mplstyle: \n",
      "The verbose.fileo rcparam was deprecated in Matplotlib 3.1 and will be removed in 3.3.\n"
     ]
    }
   ],
   "source": [
    "%load_ext autoreload\n",
    "%autoreload 2\n",
    "%matplotlib qt5\n",
    "# Add modules to the path\n",
    "import sys\n",
    "import os\n",
    "sys.path.insert(0, 'C:\\\\Users\\\\francescag\\\\Documents\\\\SourceTree_repos\\\\Python_git')\n",
    "sys.path.insert(0, 'C:\\\\Users\\\\francescag\\\\Documents\\\\SourceTree_repos')\n",
    "sys.path.insert(0, 'C:\\\\Users\\\\francescag\\\\Documents\\\\SourceTree_repos\\\\Python_git\\\\freely_moving_photometry_analysis')\n",
    "import peakutils\n",
    "from matplotlib import colors, cm\n",
    "from scipy.signal import decimate\n",
    "import copy\n",
    "import matplotlib.pyplot as plt\n",
    "import matplotlib\n",
    "import numpy as np\n",
    "import pandas as pd\n",
    "import seaborn as sns\n",
    "import pickle\n",
    "from utils.plotting import HeatMapParams\n",
    "from utils.plotting import heat_map_and_mean\n",
    "from utils.plotting import get_photometry_around_event\n",
    "from scipy import stats\n",
    "from utils.large_reward_omission_utils import plot_mean_trace_for_condition"
   ]
  },
  {
   "cell_type": "code",
   "execution_count": 34,
   "metadata": {},
   "outputs": [],
   "source": [
    "root_directory = 'W:\\photometry_2AC\\processed_data'\n",
    "figure_dir = 'W:\\\\photometry_2AC\\\\plots\\\\SNL_photo21_26\\\\omission_large_reward_experiment'\n",
    "processed_data_dir = os.path.join(root_directory, 'large_rewards_omissions_data')\n",
    "block_data_file = os.path.join(processed_data_dir, 'reward_change_data_SNL_photo25.csv')\n",
    "all_reward_block_data = pd.read_pickle(block_data_file)"
   ]
  },
  {
   "cell_type": "code",
   "execution_count": 49,
   "metadata": {},
   "outputs": [
    {
     "data": {
      "text/plain": [
       "array([-8.    , -7.9999, -7.9998, ...,  7.9998,  7.9999,  8.    ])"
      ]
     },
     "execution_count": 49,
     "metadata": {},
     "output_type": "execute_result"
    }
   ],
   "source": [
    "all_reward_block_data['time points'].reset_index(drop=True)[0]"
   ]
  },
  {
   "cell_type": "code",
   "execution_count": 50,
   "metadata": {},
   "outputs": [],
   "source": [
    "font = {'size'   : 12}\n",
    "\n",
    "matplotlib.rc('font', **font)\n",
    "\n",
    "mouse_name = 'SNL_photo25'\n",
    "contra_trials = all_reward_block_data[(all_reward_block_data['mouse'] == mouse_name) & (all_reward_block_data['side'] == 'contra')]\n",
    "ipsi_trials = all_reward_block_data[(all_reward_block_data['mouse'] == mouse_name) & (all_reward_block_data['side'] == 'ipsi')]\n",
    "timepoints = all_reward_block_data['time points'].reset_index(drop=True)[0]\n",
    "fig, ax = plt.subplots(2,1) #, figsize=(10,16))\n",
    "plot_mean_trace_for_condition(ax[0], contra_trials, timepoints,\n",
    "                              'reward contra', error_bar_method='sem', save_location=processed_data_dir)\n",
    "lg1 = ax[0].legend(title='',bbox_to_anchor=(1., .8, .15,.2), loc='upper left')\n",
    "plot_mean_trace_for_condition(ax[1],ipsi_trials, timepoints,\n",
    "                              'reward ipsi', error_bar_method = 'sem', save_location=processed_data_dir)\n",
    "lg2 = ax[1].legend(title='',bbox_to_anchor=(1., .8, .15,.2), loc='upper left')\n",
    "\n",
    "plt.tight_layout()\n",
    "\n",
    "plt.savefig(os.path.join(figure_dir, 'example_mouse{}.pdf'.format(mouse_name)))\n"
   ]
  },
  {
   "cell_type": "code",
   "execution_count": 54,
   "metadata": {},
   "outputs": [],
   "source": [
    "font = {'size'   : 12}\n",
    "\n",
    "matplotlib.rc('font', **font)\n",
    "\n",
    "mouse_name = 'SNL_photo25'\n",
    "all_trials = all_reward_block_data[(all_reward_block_data['mouse'] == mouse_name)]\n",
    "timepoints = all_reward_block_data['time points'].reset_index(drop=True)[0]\n",
    "fig, ax = plt.subplots(1,1) #, figsize=(10,16))\n",
    "plot_mean_trace_for_condition(ax, all_trials, timepoints,\n",
    "                              'reward', error_bar_method='sem', save_location=processed_data_dir)\n",
    "lg1 = ax.legend(title='',bbox_to_anchor=(1., .8, .15,.2), loc='upper left')\n",
    "\n",
    "plt.tight_layout()\n",
    "\n",
    "plt.savefig(os.path.join(figure_dir, 'example_mouse{}_both_sides.pdf'.format(mouse_name)))\n"
   ]
  },
  {
   "cell_type": "code",
   "execution_count": 86,
   "metadata": {},
   "outputs": [
    {
     "name": "stdout",
     "output_type": "stream",
     "text": [
      "(116, 160000)\n",
      "(137, 160000)\n"
     ]
    }
   ],
   "source": [
    "params = {'state_type_of_interest': 5,\n",
    "    'outcome': 2,\n",
    "    'last_outcome': 0,  # NOT USED CURRENTLY\n",
    "    'no_repeats' : 0,\n",
    "    'last_response': 0,\n",
    "    'align_to' : 'Time end',\n",
    "    'instance': -1,\n",
    "    'plot_range': [-6, 6],\n",
    "    'first_choice_correct': 0,\n",
    "     'cue': 'None'}\n",
    "test = CustomAlignedData(session_data, params, peak_quantification=False)"
   ]
  },
  {
   "cell_type": "code",
   "execution_count": 102,
   "metadata": {},
   "outputs": [],
   "source": [
    "omission_trials = trial_data.loc[trial_data['State type'] == 10]['Trial num'].values\n",
    "left_large_reward_trials = trial_data.loc[trial_data['State type'] == 12]['Trial num'].values\n",
    "right_large_reward_trials = trial_data.loc[trial_data['State type'] == 13]['Trial num'].values\n",
    "all_large_reward_trials = np.concatenate([left_large_reward_trials, right_large_reward_trials])\n",
    "normal_left_reward_trials = trial_data.loc[trial_data['State type'] == 6]['Trial num'].values\n",
    "normal_right_reward_trials =  trial_data.loc[trial_data['State type'] == 7]['Trial num'].values\n",
    "normal_all_reward_trials =  np.concatenate([normal_left_reward_trials, normal_right_reward_trials])"
   ]
  },
  {
   "cell_type": "code",
   "execution_count": 128,
   "metadata": {},
   "outputs": [],
   "source": [
    "pre_trials = normal_all_reward_trials\n",
    "post_trials = all_large_reward_trials\n",
    "contra_data = test.contra_data\n",
    "ipsi_data = test.ipsi_data\n",
    "pre_contra_trial_nums, pre_contra_trials, _ = np.intersect1d(contra_data.trial_nums, pre_trials, return_indices=True)\n",
    "post_contra_trial_nums, post_contra_trials, _ = np.intersect1d(contra_data.trial_nums, post_trials, return_indices=True)\n",
    "omission_contra_trial_nums, omission_contra_trials, _ =  np.intersect1d(contra_data.trial_nums, omission_trials, return_indices=True)\n",
    "pre_ipsi_trial_nums, pre_ipsi_trials, _ = np.intersect1d(ipsi_data.trial_nums, pre_trials, return_indices=True)\n",
    "post_ipsi_trial_nums, post_ipsi_trials, _ = np.intersect1d(ipsi_data.trial_nums, post_trials, return_indices=True)\n",
    "omission_ipsi_trial_nums, omission_ipsi_trials, _ =  np.intersect1d(ipsi_data.trial_nums, omission_trials, return_indices=True)\n",
    "pre_contra_traces = contra_data.sorted_traces[pre_contra_trials, :]\n",
    "post_contra_traces = contra_data.sorted_traces[post_contra_trials, :]\n",
    "omission_contra_traces = contra_data.sorted_traces[omission_contra_trials, :]\n",
    "pre_ipsi_traces = contra_data.sorted_traces[pre_ipsi_trials, :]\n",
    "post_ipsi_traces = contra_data.sorted_traces[post_ipsi_trials, :]\n",
    "omission_ipsi_traces = contra_data.sorted_traces[omission_ipsi_trials, :]\n",
    "pre_both_traces = np.concatenate([pre_contra_traces, pre_ipsi_traces])\n",
    "post_both_traces = np.concatenate([post_contra_traces, post_ipsi_traces])\n",
    "all_contra_trial_nums = np.concatenate([pre_contra_trial_nums, post_contra_trial_nums])\n",
    "all_ipsi_trial_nums = np.concatenate([pre_ipsi_trial_nums, post_ipsi_trial_nums])\n",
    "all_pre_trial_nums = np.concatenate([pre_ipsi_trial_nums, pre_contra_trial_nums])\n",
    "all_post_trial_nums = np.concatenate([post_contra_trial_nums, post_ipsi_trial_nums])\n",
    "all_trial_nums = np.concatenate([all_contra_trial_nums, all_ipsi_trial_nums])\n",
    "all_contra_traces = np.concatenate([pre_contra_traces, post_contra_traces])\n",
    "all_ipsi_traces = np.concatenate([pre_ipsi_traces, post_ipsi_traces])\n",
    "all_traces = np.concatenate([all_contra_traces, all_ipsi_traces])\n",
    "all_omission_traces = np.concatenate([omission_contra_traces, omission_ipsi_traces])\n",
    "all_omission_trial_nums = np.concatenate([omission_contra_trial_nums, omission_ipsi_trial_nums])\n",
    "list_traces = [all_traces[i,:] for i in range(all_traces.shape[0])]\n",
    "list_omission_traces = [all_omission_traces[i,:] for i in range(all_omission_traces.shape[0])]"
   ]
  },
  {
   "cell_type": "code",
   "execution_count": 145,
   "metadata": {},
   "outputs": [],
   "source": [
    "omission_data = {}\n",
    "omission_data['trial number'] = all_omission_trial_nums\n",
    "omission_data['side'] = np.where(np.isin(all_omission_trial_nums, omission_ipsi_trial_nums), 'ipsi', 'contra')\n",
    "omission_dataf = pd.DataFrame(omission_data)\n",
    "omission_dataf['traces'] = pd.Series(list_omission_traces, index=omission_dataf.index)\n",
    "omission_dataf['reward'] = 'omission'"
   ]
  },
  {
   "cell_type": "code",
   "execution_count": 146,
   "metadata": {},
   "outputs": [],
   "source": [
    "one_session_data = {}\n",
    "ipsi_contra_labels = np.where(np.isin(all_trial_nums, all_ipsi_trial_nums), 'ipsi', 'contra')\n",
    "label = 'large reward'\n",
    "reward_size_labels =  np.where(np.isin(all_trial_nums, all_post_trial_nums), label, 'normal')\n",
    "one_session_data['reward'] = reward_size_labels\n",
    "one_session_data['trial number'] = all_trial_nums\n",
    "one_session_data['side'] = ipsi_contra_labels\n",
    "one_session_dataf = pd.DataFrame(one_session_data)\n",
    "one_session_dataf['traces'] = pd.Series(list_traces, index=one_session_dataf.index)\n"
   ]
  },
  {
   "cell_type": "code",
   "execution_count": 154,
   "metadata": {},
   "outputs": [],
   "source": [
    "all_reward_type_data = pd.concat([one_session_dataf, omission_dataf])\n",
    "all_reward_type_data['time points'] = pd.Series([test.contra_data.time_points] *\n",
    "                                                                     (len(list_traces) + len(all_omission_traces)), index=all_reward_type_data.index)"
   ]
  },
  {
   "cell_type": "code",
   "execution_count": 155,
   "metadata": {},
   "outputs": [
    {
     "data": {
      "text/html": [
       "<div>\n",
       "<style scoped>\n",
       "    .dataframe tbody tr th:only-of-type {\n",
       "        vertical-align: middle;\n",
       "    }\n",
       "\n",
       "    .dataframe tbody tr th {\n",
       "        vertical-align: top;\n",
       "    }\n",
       "\n",
       "    .dataframe thead th {\n",
       "        text-align: right;\n",
       "    }\n",
       "</style>\n",
       "<table border=\"1\" class=\"dataframe\">\n",
       "  <thead>\n",
       "    <tr style=\"text-align: right;\">\n",
       "      <th></th>\n",
       "      <th>reward</th>\n",
       "      <th>trial number</th>\n",
       "      <th>side</th>\n",
       "      <th>traces</th>\n",
       "      <th>time points</th>\n",
       "    </tr>\n",
       "  </thead>\n",
       "  <tbody>\n",
       "    <tr>\n",
       "      <th>0</th>\n",
       "      <td>normal</td>\n",
       "      <td>5.0</td>\n",
       "      <td>contra</td>\n",
       "      <td>[-0.9817734531703455, -0.9816829207065246, -0....</td>\n",
       "      <td>[-8.0, -7.999899999374996, -7.999799998749992,...</td>\n",
       "    </tr>\n",
       "    <tr>\n",
       "      <th>1</th>\n",
       "      <td>normal</td>\n",
       "      <td>6.0</td>\n",
       "      <td>contra</td>\n",
       "      <td>[1.865853722580664, 1.866047412547609, 1.86624...</td>\n",
       "      <td>[-8.0, -7.999899999374996, -7.999799998749992,...</td>\n",
       "    </tr>\n",
       "    <tr>\n",
       "      <th>2</th>\n",
       "      <td>normal</td>\n",
       "      <td>7.0</td>\n",
       "      <td>contra</td>\n",
       "      <td>[0.025132066723439463, 0.024394996424457232, 0...</td>\n",
       "      <td>[-8.0, -7.999899999374996, -7.999799998749992,...</td>\n",
       "    </tr>\n",
       "    <tr>\n",
       "      <th>3</th>\n",
       "      <td>normal</td>\n",
       "      <td>8.0</td>\n",
       "      <td>contra</td>\n",
       "      <td>[-0.2029963503314099, -0.20289580001850877, -0...</td>\n",
       "      <td>[-8.0, -7.999899999374996, -7.999799998749992,...</td>\n",
       "    </tr>\n",
       "    <tr>\n",
       "      <th>4</th>\n",
       "      <td>normal</td>\n",
       "      <td>9.0</td>\n",
       "      <td>contra</td>\n",
       "      <td>[-0.7397312091759803, -0.739868591370465, -0.7...</td>\n",
       "      <td>[-8.0, -7.999899999374996, -7.999799998749992,...</td>\n",
       "    </tr>\n",
       "    <tr>\n",
       "      <th>...</th>\n",
       "      <td>...</td>\n",
       "      <td>...</td>\n",
       "      <td>...</td>\n",
       "      <td>...</td>\n",
       "      <td>...</td>\n",
       "    </tr>\n",
       "    <tr>\n",
       "      <th>21</th>\n",
       "      <td>omission</td>\n",
       "      <td>209.0</td>\n",
       "      <td>ipsi</td>\n",
       "      <td>[0.6167800431524404, 0.6161432487489985, 0.615...</td>\n",
       "      <td>[-8.0, -7.999899999374996, -7.999799998749992,...</td>\n",
       "    </tr>\n",
       "    <tr>\n",
       "      <th>22</th>\n",
       "      <td>omission</td>\n",
       "      <td>216.0</td>\n",
       "      <td>ipsi</td>\n",
       "      <td>[0.06834632726128184, 0.06809730703632784, 0.0...</td>\n",
       "      <td>[-8.0, -7.999899999374996, -7.999799998749992,...</td>\n",
       "    </tr>\n",
       "    <tr>\n",
       "      <th>23</th>\n",
       "      <td>omission</td>\n",
       "      <td>226.0</td>\n",
       "      <td>ipsi</td>\n",
       "      <td>[1.029948871520588, 1.0293034430467867, 1.0286...</td>\n",
       "      <td>[-8.0, -7.999899999374996, -7.999799998749992,...</td>\n",
       "    </tr>\n",
       "    <tr>\n",
       "      <th>24</th>\n",
       "      <td>omission</td>\n",
       "      <td>228.0</td>\n",
       "      <td>ipsi</td>\n",
       "      <td>[2.182608559302309, 2.1830446813187545, 2.1834...</td>\n",
       "      <td>[-8.0, -7.999899999374996, -7.999799998749992,...</td>\n",
       "    </tr>\n",
       "    <tr>\n",
       "      <th>25</th>\n",
       "      <td>omission</td>\n",
       "      <td>232.0</td>\n",
       "      <td>ipsi</td>\n",
       "      <td>[0.4322456594249102, 0.43136999273844734, 0.43...</td>\n",
       "      <td>[-8.0, -7.999899999374996, -7.999799998749992,...</td>\n",
       "    </tr>\n",
       "  </tbody>\n",
       "</table>\n",
       "<p>237 rows × 5 columns</p>\n",
       "</div>"
      ],
      "text/plain": [
       "      reward  trial number    side  \\\n",
       "0     normal           5.0  contra   \n",
       "1     normal           6.0  contra   \n",
       "2     normal           7.0  contra   \n",
       "3     normal           8.0  contra   \n",
       "4     normal           9.0  contra   \n",
       "..       ...           ...     ...   \n",
       "21  omission         209.0    ipsi   \n",
       "22  omission         216.0    ipsi   \n",
       "23  omission         226.0    ipsi   \n",
       "24  omission         228.0    ipsi   \n",
       "25  omission         232.0    ipsi   \n",
       "\n",
       "                                               traces  \\\n",
       "0   [-0.9817734531703455, -0.9816829207065246, -0....   \n",
       "1   [1.865853722580664, 1.866047412547609, 1.86624...   \n",
       "2   [0.025132066723439463, 0.024394996424457232, 0...   \n",
       "3   [-0.2029963503314099, -0.20289580001850877, -0...   \n",
       "4   [-0.7397312091759803, -0.739868591370465, -0.7...   \n",
       "..                                                ...   \n",
       "21  [0.6167800431524404, 0.6161432487489985, 0.615...   \n",
       "22  [0.06834632726128184, 0.06809730703632784, 0.0...   \n",
       "23  [1.029948871520588, 1.0293034430467867, 1.0286...   \n",
       "24  [2.182608559302309, 2.1830446813187545, 2.1834...   \n",
       "25  [0.4322456594249102, 0.43136999273844734, 0.43...   \n",
       "\n",
       "                                          time points  \n",
       "0   [-8.0, -7.999899999374996, -7.999799998749992,...  \n",
       "1   [-8.0, -7.999899999374996, -7.999799998749992,...  \n",
       "2   [-8.0, -7.999899999374996, -7.999799998749992,...  \n",
       "3   [-8.0, -7.999899999374996, -7.999799998749992,...  \n",
       "4   [-8.0, -7.999899999374996, -7.999799998749992,...  \n",
       "..                                                ...  \n",
       "21  [-8.0, -7.999899999374996, -7.999799998749992,...  \n",
       "22  [-8.0, -7.999899999374996, -7.999799998749992,...  \n",
       "23  [-8.0, -7.999899999374996, -7.999799998749992,...  \n",
       "24  [-8.0, -7.999899999374996, -7.999799998749992,...  \n",
       "25  [-8.0, -7.999899999374996, -7.999799998749992,...  \n",
       "\n",
       "[237 rows x 5 columns]"
      ]
     },
     "execution_count": 155,
     "metadata": {},
     "output_type": "execute_result"
    }
   ],
   "source": [
    "all_reward_type_data\n"
   ]
  },
  {
   "cell_type": "code",
   "execution_count": 96,
   "metadata": {},
   "outputs": [],
   "source": [
    "def find_contra_and_ipsi_traces_for_criterion(pre_trials, post_trials, contra_data, ipsi_data, label='large reward'):\n",
    "    _, pre_contra_trials, _ = np.intersect1d(contra_data.trial_nums, pre_trials, return_indices=True)\n",
    "    _, post_contra_trials, _ = np.intersect1d(contra_data.trial_nums, post_trials, return_indices=True)\n",
    "    _, pre_ipsi_trials, _ = np.intersect1d(ipsi_data.trial_nums, pre_trials, return_indices=True)\n",
    "    _, post_ipsi_trials, _ = np.intersect1d(ipsi_data.trial_nums, post_trials, return_indices=True)\n",
    "    pre_contra_traces = contra_data.sorted_traces[pre_contra_trials, :]\n",
    "    post_contra_traces = contra_data.sorted_traces[post_contra_trials, :]\n",
    "    pre_ipsi_traces = contra_data.sorted_traces[pre_ipsi_trials, :]\n",
    "    post_ipsi_traces = contra_data.sorted_traces[post_ipsi_trials, :]\n",
    "    pre_both_traces = np.concatenate([pre_contra_traces, pre_ipsi_traces])\n",
    "    post_both_traces = np.concatenate([post_contra_traces, post_ipsi_traces])\n",
    "    return pre_contra_traces, post_contra_traces, pre_ipsi_traces, post_ipsi_traces, pre_both_traces, post_both_traces"
   ]
  },
  {
   "cell_type": "code",
   "execution_count": 103,
   "metadata": {},
   "outputs": [],
   "source": [
    " pre_contra_traces, post_contra_traces, pre_ipsi_traces, post_ipsi_traces, pre_both_traces, post_both_traces = find_contra_and_ipsi_traces_for_criterion(\n",
    "   normal_all_reward_trials, all_large_reward_trials, test.contra_data, test.ipsi_data )"
   ]
  },
  {
   "cell_type": "code",
   "execution_count": null,
   "metadata": {},
   "outputs": [],
   "source": []
  },
  {
   "cell_type": "code",
   "execution_count": 104,
   "metadata": {},
   "outputs": [
    {
     "data": {
      "image/png": "[encoded data removed]",
      "text/plain": [
       "<Figure size 432x288 with 1 Axes>"
      ]
     },
     "metadata": {
      "needs_background": "light"
     },
     "output_type": "display_data"
    }
   ],
   "source": [
    "plot_comparison_trace(pre_contra_traces, post_contra_traces)"
   ]
  },
  {
   "cell_type": "code",
   "execution_count": 81,
   "metadata": {},
   "outputs": [],
   "source": [
    "def plot_comparison_trace(pre_traces, post_traces):    \n",
    "    font = {'size'   : 14}\n",
    "    matplotlib.rc('font', **font)\n",
    "\n",
    "    fig, axs1 = plt.subplots(1,1)\n",
    "    colours = cm.viridis(np.linspace(0.2, 0.7, 2))\n",
    "    pre_mean_trace = decimate(np.mean(pre_traces, axis=0), 10)\n",
    "    post_mean_trace = decimate(np.mean(post_traces, axis=0), 10)\n",
    "    time_points = decimate(test.contra_data.time_points, 10)\n",
    "    traces = decimate(test.contra_data.sorted_traces, 10)\n",
    "    axs1.plot(time_points, pre_mean_trace, label='pre', color=colours[0])\n",
    "    pre_error_bar_lower, pre_error_bar_upper = calculate_error_bars(pre_mean_trace,\n",
    "                                                            decimate(pre_traces, 10),\n",
    "                                                            error_bar_method='sem')\n",
    "\n",
    "    axs1.fill_between(time_points, pre_error_bar_lower, pre_error_bar_upper, alpha=0.4, linewidth=0, color=colours[0])\n",
    "    axs1.plot(time_points,post_mean_trace, label='post', color=colours[1])\n",
    "    post_error_bar_lower, post_error_bar_upper = calculate_error_bars(post_mean_trace,\n",
    "                                                            decimate(post_traces, 10),\n",
    "                                                            error_bar_method='sem')\n",
    "    axs1.fill_between(time_points, post_error_bar_lower, post_error_bar_upper, alpha=0.4, linewidth=0, color=colours[1])\n",
    "    axs1.set_xlim([-2,2])\n",
    "    axs1.axvline([0], color='k')\n",
    "    axs1.set_ylabel('z-scored fluorescence')\n",
    "    axs1.set_xlabel('Time (s)')\n",
    "\n",
    "    axs1.spines['right'].set_visible(False)\n",
    "    axs1.spines['top'].set_visible(False)\n",
    "    plt.legend()\n",
    "    plt.tight_layout()\n"
   ]
  },
  {
   "cell_type": "code",
   "execution_count": null,
   "metadata": {},
   "outputs": [],
   "source": []
  }
 ],
 "metadata": {
  "kernelspec": {
   "display_name": "Python 3",
   "language": "python",
   "name": "python3"
  },
  "language_info": {
   "codemirror_mode": {
    "name": "ipython",
    "version": 3
   },
   "file_extension": ".py",
   "mimetype": "text/x-python",
   "name": "python",
   "nbconvert_exporter": "python",
   "pygments_lexer": "ipython3",
   "version": "3.7.3"
  }
 },
 "nbformat": 4,
 "nbformat_minor": 4
}
