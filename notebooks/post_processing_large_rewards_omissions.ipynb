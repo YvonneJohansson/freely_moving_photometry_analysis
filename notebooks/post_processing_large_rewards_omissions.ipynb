{
 "cells": [
  {
   "cell_type": "code",
   "execution_count": 1,
   "metadata": {},
   "outputs": [
    {
     "name": "stderr",
     "output_type": "stream",
     "text": [
      "In C:\\Users\\francescag\\AppData\\Local\\Continuum\\miniconda3\\lib\\site-packages\\matplotlib\\mpl-data\\stylelib\\_classic_test.mplstyle: \n",
      "The savefig.frameon rcparam was deprecated in Matplotlib 3.1 and will be removed in 3.3.\n",
      "In C:\\Users\\francescag\\AppData\\Local\\Continuum\\miniconda3\\lib\\site-packages\\matplotlib\\mpl-data\\stylelib\\_classic_test.mplstyle: \n",
      "The verbose.level rcparam was deprecated in Matplotlib 3.1 and will be removed in 3.3.\n",
      "In C:\\Users\\francescag\\AppData\\Local\\Continuum\\miniconda3\\lib\\site-packages\\matplotlib\\mpl-data\\stylelib\\_classic_test.mplstyle: \n",
      "The verbose.fileo rcparam was deprecated in Matplotlib 3.1 and will be removed in 3.3.\n"
     ]
    }
   ],
   "source": [
    "%load_ext autoreload\n",
    "%autoreload 2\n",
    "%matplotlib qt5\n",
    "# Add modules to the path\n",
    "import sys\n",
    "import os\n",
    "sys.path.insert(0, 'C:\\\\Users\\\\francescag\\\\Documents\\\\SourceTree_repos\\\\Python_git')\n",
    "sys.path.insert(0, 'C:\\\\Users\\\\francescag\\\\Documents\\\\SourceTree_repos')\n",
    "sys.path.insert(0, 'C:\\\\Users\\\\francescag\\\\Documents\\\\SourceTree_repos\\\\Python_git\\\\freely_moving_photometry_analysis')\n",
    "import peakutils\n",
    "from matplotlib import colors, cm\n",
    "from scipy.signal import decimate\n",
    "import copy\n",
    "import matplotlib.pyplot as plt\n",
    "import matplotlib\n",
    "import numpy as np\n",
    "import pandas as pd\n",
    "import seaborn as sns\n",
    "import pickle\n",
    "from utils.plotting import HeatMapParams\n",
    "from utils.plotting import heat_map_and_mean\n",
    "from utils.plotting import get_photometry_around_event\n",
    "from scipy import stats\n",
    "from utils.large_reward_omission_utils import plot_mean_trace_for_condition"
   ]
  },
  {
   "cell_type": "code",
   "execution_count": 21,
   "metadata": {},
   "outputs": [],
   "source": [
    "root_directory = 'W:\\photometry_2AC\\processed_data'\n",
    "figure_dir = 'W:\\\\photometry_2AC\\\\plots\\\\SNL_photo21_26\\\\omission_large_reward_experiment'\n",
    "processed_data_dir = os.path.join(root_directory, 'large_rewards_omissions_data')\n",
    "block_data_file = os.path.join(processed_data_dir, 'block_data_all_mice.csv')\n",
    "all_reward_block_data = pd.read_pickle(block_data_file)"
   ]
  },
  {
   "cell_type": "code",
   "execution_count": 22,
   "metadata": {},
   "outputs": [
    {
     "data": {
      "text/plain": [
       "array([-8.    , -7.9999, -7.9998, ...,  7.9998,  7.9999,  8.    ])"
      ]
     },
     "execution_count": 22,
     "metadata": {},
     "output_type": "execute_result"
    }
   ],
   "source": [
    "all_reward_block_data['time points'].reset_index(drop=True)[0]"
   ]
  },
  {
   "cell_type": "code",
   "execution_count": null,
   "metadata": {},
   "outputs": [],
   "source": [
    "font = {'size'   : 12}\n",
    "\n",
    "matplotlib.rc('font', **font)\n",
    "\n",
    "mouse_name = 'SNL_photo30'\n",
    "contra_trials = all_reward_block_data[(all_reward_block_data['mouse'] == mouse_name) & (all_reward_block_data['side'] == 'contra')]\n",
    "ipsi_trials = all_reward_block_data[(all_reward_block_data['mouse'] == mouse_name) & (all_reward_block_data['side'] == 'ipsi')]\n",
    "timepoints = all_reward_block_data['time points'].reset_index(drop=True)[0]\n",
    "fig, ax = plt.subplots(2,1) #, figsize=(10,16))\n",
    "plot_mean_trace_for_condition(ax[0], contra_trials, timepoints,\n",
    "                              'reward contra', error_bar_method='sem', save_location=processed_data_dir)\n",
    "lg1 = ax[0].legend(title='',bbox_to_anchor=(1., .8, .15,.2), loc='upper left')\n",
    "plot_mean_trace_for_condition(ax[1],ipsi_trials, timepoints,\n",
    "                              'reward ipsi', error_bar_method = 'sem', save_location=processed_data_dir)\n",
    "lg2 = ax[1].legend(title='',bbox_to_anchor=(1., .8, .15,.2), loc='upper left')\n",
    "\n",
    "plt.tight_layout()\n",
    "\n",
    "plt.savefig(os.path.join(figure_dir, 'example_mouse{}.pdf'.format(mouse_name)))\n"
   ]
  },
  {
   "cell_type": "code",
   "execution_count": 10,
   "metadata": {},
   "outputs": [],
   "source": [
    "font = {'size'   : 12}\n",
    "\n",
    "matplotlib.rc('font', **font)\n",
    "\n",
    "mouse_name = 'SNL_photo26'\n",
    "all_trials = all_reward_block_data[(all_reward_block_data['mouse'] == mouse_name)]\n",
    "timepoints = all_reward_block_data['time points'].reset_index(drop=True)[0]\n",
    "fig, ax = plt.subplots(1,1) #, figsize=(10,16))\n",
    "plot_mean_trace_for_condition(ax, all_trials, timepoints,\n",
    "                              'reward', error_bar_method='sem', save_location=processed_data_dir)\n",
    "lg1 = ax.legend(title='',bbox_to_anchor=(1., .8, .15,.2), loc='upper left')\n",
    "ax.set_ylim([-1.5, 4.1])\n",
    "plt.tight_layout()\n",
    "\n",
    "plt.savefig(os.path.join(figure_dir, 'example_mouse{}_both_sides.pdf'.format(mouse_name)))\n"
   ]
  },
  {
   "cell_type": "code",
   "execution_count": 23,
   "metadata": {},
   "outputs": [],
   "source": [
    "def francescas_plot(ax, data, show_err_bar=False, mean_linewidth=4, mean_line_color='blue', legend=False):\n",
    "    \"\"\"Plot lines for all mice from early to late.\n",
    "    \"\"\"\n",
    "    data.plot(ax=ax, color='gray', legend=False)\n",
    "    data.mean(1).plot(ax=ax,linewidth=mean_linewidth,color=mean_line_color)\n",
    "\n",
    "    if show_err_bar:\n",
    "        yerr = data.std(axis=1)\n",
    "\n",
    "        plt.errorbar(np.array([0,1]), data.mean(1), yerr, color=mean_line_color, linewidth=4)\n",
    "\n",
    "    # drop the left and bottom spine for cool looking effect\n",
    "    ax.spines['left'].set_position(('outward', 10))\n",
    "    ax.spines['bottom'].set_position(('outward', 10))\n",
    "    # Hide the right and top spines\n",
    "    ax.spines['right'].set_visible(False)\n",
    "    ax.spines['top'].set_visible(False)\n"
   ]
  },
  {
   "cell_type": "code",
   "execution_count": 24,
   "metadata": {},
   "outputs": [],
   "source": [
    "# find mean traces and downsample\n",
    "avg_traces = all_reward_block_data.groupby(['mouse', 'reward'])['traces'].apply(np.mean)\n",
    "decimated = [decimate(trace[int(len(trace)/2):], 10) for trace in avg_traces]\n",
    "avg_traces = avg_traces.reset_index()\n",
    "avg_traces['decimated'] = pd.Series([_ for _ in decimated])"
   ]
  },
  {
   "cell_type": "code",
   "execution_count": 25,
   "metadata": {},
   "outputs": [],
   "source": [
    "# find peak size in pre condition and look for same time point in action\n",
    "# alternatively, just find first peak for both. let's try that first. \n",
    "\n",
    "#plt.plot(avg_traces['decimated'].iloc[0])\n",
    "\n",
    "first_peak_ids = [peakutils.indexes(i)[0] for i in avg_traces['decimated']]\n",
    "avg_traces['peakidx'] = first_peak_ids\n",
    "peaks = [np.mean(trace[:600]) for idx, trace in zip(first_peak_ids, avg_traces['decimated'])]\n",
    "avg_traces['peak'] = peaks\n",
    "avg_traces.set_index(['mouse', 'reward'])\n",
    "\n",
    "normal_peak = avg_traces[avg_traces['reward']=='normal']['peak']\n",
    "large_reward_peak = avg_traces[avg_traces['reward']=='large reward']['peak']\n",
    "omission_peak = avg_traces[avg_traces['reward']=='omission']['peak']\n",
    "stat1, pval1 = stats.ttest_rel(normal_peak, large_reward_peak)\n",
    "stat2, pval2 = stats.ttest_rel(normal_peak, omission_peak)"
   ]
  },
  {
   "cell_type": "code",
   "execution_count": 26,
   "metadata": {},
   "outputs": [
    {
     "data": {
      "text/html": [
       "<div>\n",
       "<style scoped>\n",
       "    .dataframe tbody tr th:only-of-type {\n",
       "        vertical-align: middle;\n",
       "    }\n",
       "\n",
       "    .dataframe tbody tr th {\n",
       "        vertical-align: top;\n",
       "    }\n",
       "\n",
       "    .dataframe thead th {\n",
       "        text-align: right;\n",
       "    }\n",
       "</style>\n",
       "<table border=\"1\" class=\"dataframe\">\n",
       "  <thead>\n",
       "    <tr style=\"text-align: right;\">\n",
       "      <th></th>\n",
       "      <th>mouse</th>\n",
       "      <th>reward</th>\n",
       "      <th>traces</th>\n",
       "      <th>decimated</th>\n",
       "      <th>peakidx</th>\n",
       "      <th>peak</th>\n",
       "    </tr>\n",
       "  </thead>\n",
       "  <tbody>\n",
       "    <tr>\n",
       "      <th>0</th>\n",
       "      <td>SNL_photo22</td>\n",
       "      <td>large reward</td>\n",
       "      <td>[0.11859116097908513, 0.1185452072411518, 0.11...</td>\n",
       "      <td>[0.001321999956787953, -0.0007689035317111923,...</td>\n",
       "      <td>244</td>\n",
       "      <td>-0.225620</td>\n",
       "    </tr>\n",
       "    <tr>\n",
       "      <th>1</th>\n",
       "      <td>SNL_photo22</td>\n",
       "      <td>normal</td>\n",
       "      <td>[0.06827525251338239, 0.0682808154930902, 0.06...</td>\n",
       "      <td>[0.0896267660711066, 0.08744151377900143, 0.08...</td>\n",
       "      <td>1038</td>\n",
       "      <td>-0.238696</td>\n",
       "    </tr>\n",
       "    <tr>\n",
       "      <th>2</th>\n",
       "      <td>SNL_photo22</td>\n",
       "      <td>omission</td>\n",
       "      <td>[0.011178706976070037, 0.011235044676938862, 0...</td>\n",
       "      <td>[0.17792240070082369, 0.1761558710423434, 0.17...</td>\n",
       "      <td>1015</td>\n",
       "      <td>-0.323676</td>\n",
       "    </tr>\n",
       "    <tr>\n",
       "      <th>3</th>\n",
       "      <td>SNL_photo26</td>\n",
       "      <td>large reward</td>\n",
       "      <td>[0.05037895088930147, 0.050476736225644914, 0....</td>\n",
       "      <td>[7.327177380939465e-05, -0.00350988269789041, ...</td>\n",
       "      <td>352</td>\n",
       "      <td>-0.150822</td>\n",
       "    </tr>\n",
       "    <tr>\n",
       "      <th>4</th>\n",
       "      <td>SNL_photo26</td>\n",
       "      <td>normal</td>\n",
       "      <td>[0.08096870900435212, 0.08093620336087026, 0.0...</td>\n",
       "      <td>[-0.050552494226527314, -0.052069352951295736,...</td>\n",
       "      <td>1906</td>\n",
       "      <td>-0.278525</td>\n",
       "    </tr>\n",
       "  </tbody>\n",
       "</table>\n",
       "</div>"
      ],
      "text/plain": [
       "         mouse        reward  \\\n",
       "0  SNL_photo22  large reward   \n",
       "1  SNL_photo22        normal   \n",
       "2  SNL_photo22      omission   \n",
       "3  SNL_photo26  large reward   \n",
       "4  SNL_photo26        normal   \n",
       "\n",
       "                                              traces  \\\n",
       "0  [0.11859116097908513, 0.1185452072411518, 0.11...   \n",
       "1  [0.06827525251338239, 0.0682808154930902, 0.06...   \n",
       "2  [0.011178706976070037, 0.011235044676938862, 0...   \n",
       "3  [0.05037895088930147, 0.050476736225644914, 0....   \n",
       "4  [0.08096870900435212, 0.08093620336087026, 0.0...   \n",
       "\n",
       "                                           decimated  peakidx      peak  \n",
       "0  [0.001321999956787953, -0.0007689035317111923,...      244 -0.225620  \n",
       "1  [0.0896267660711066, 0.08744151377900143, 0.08...     1038 -0.238696  \n",
       "2  [0.17792240070082369, 0.1761558710423434, 0.17...     1015 -0.323676  \n",
       "3  [7.327177380939465e-05, -0.00350988269789041, ...      352 -0.150822  \n",
       "4  [-0.050552494226527314, -0.052069352951295736,...     1906 -0.278525  "
      ]
     },
     "execution_count": 26,
     "metadata": {},
     "output_type": "execute_result"
    }
   ],
   "source": [
    "avg_traces.head()"
   ]
  },
  {
   "cell_type": "code",
   "execution_count": 27,
   "metadata": {},
   "outputs": [],
   "source": [
    "# We run a repeated measures anova to check for a main effect of reward.\n",
    "# Subsequently, we want to do pairwise testing between the three reward conditions. Need to correct for multiple comparisons\n",
    "from statsmodels.stats.anova import AnovaRM\n",
    "from statsmodels.stats.multitest import multipletests\n"
   ]
  },
  {
   "cell_type": "code",
   "execution_count": 28,
   "metadata": {},
   "outputs": [
    {
     "name": "stdout",
     "output_type": "stream",
     "text": [
      "[0.87007311 1.        ]\n"
     ]
    }
   ],
   "source": [
    "#help(multipletests)\n",
    "reject, corrected_pvals, corrected_alpha_sidak, corrected_bonf = multipletests([pval1, pval2], method='bonferroni')\n",
    "\n",
    "print(corrected_pvals)"
   ]
  },
  {
   "cell_type": "code",
   "execution_count": 29,
   "metadata": {},
   "outputs": [],
   "source": [
    "df1 = avg_traces\n",
    "df_for_plot = df1.pivot(index='reward', columns='mouse', values='peak').sort_values('reward', ascending=False)"
   ]
  },
  {
   "cell_type": "code",
   "execution_count": 30,
   "metadata": {},
   "outputs": [
    {
     "data": {
      "text/html": [
       "<div>\n",
       "<style scoped>\n",
       "    .dataframe tbody tr th:only-of-type {\n",
       "        vertical-align: middle;\n",
       "    }\n",
       "\n",
       "    .dataframe tbody tr th {\n",
       "        vertical-align: top;\n",
       "    }\n",
       "\n",
       "    .dataframe thead th {\n",
       "        text-align: right;\n",
       "    }\n",
       "</style>\n",
       "<table border=\"1\" class=\"dataframe\">\n",
       "  <thead>\n",
       "    <tr style=\"text-align: right;\">\n",
       "      <th>mouse</th>\n",
       "      <th>SNL_photo22</th>\n",
       "      <th>SNL_photo26</th>\n",
       "    </tr>\n",
       "    <tr>\n",
       "      <th>reward</th>\n",
       "      <th></th>\n",
       "      <th></th>\n",
       "    </tr>\n",
       "  </thead>\n",
       "  <tbody>\n",
       "    <tr>\n",
       "      <th>omission</th>\n",
       "      <td>-0.323676</td>\n",
       "      <td>-0.127278</td>\n",
       "    </tr>\n",
       "    <tr>\n",
       "      <th>normal</th>\n",
       "      <td>-0.238696</td>\n",
       "      <td>-0.278525</td>\n",
       "    </tr>\n",
       "    <tr>\n",
       "      <th>large reward</th>\n",
       "      <td>-0.225620</td>\n",
       "      <td>-0.150822</td>\n",
       "    </tr>\n",
       "  </tbody>\n",
       "</table>\n",
       "</div>"
      ],
      "text/plain": [
       "mouse         SNL_photo22  SNL_photo26\n",
       "reward                                \n",
       "omission        -0.323676    -0.127278\n",
       "normal          -0.238696    -0.278525\n",
       "large reward    -0.225620    -0.150822"
      ]
     },
     "execution_count": 30,
     "metadata": {},
     "output_type": "execute_result"
    }
   ],
   "source": [
    "df_for_plot"
   ]
  },
  {
   "cell_type": "code",
   "execution_count": 31,
   "metadata": {},
   "outputs": [],
   "source": [
    "fig, ax = plt.subplots(figsize=[4,5])\n",
    "francescas_plot(ax, df_for_plot, mean_line_color='#7FB5B5', mean_linewidth=4, show_err_bar=False)\n",
    "plt.xticks([0, 1, 2], ['omission', 'normal (2ul)', '3 x reward'], fontsize=12)\n",
    "plt.ylabel('Z-scored fluorescence', fontsize=12)\n",
    "ax.set_xlabel(' ')\n",
    "#ax.text(1.2, 3, 'p-value = {0:.6f}'.format(corrected_pvals[1]))\n",
    "#ax.text(0.1, 3, 'p-value = {0:.6f}'.format(corrected_pvals[0]))\n",
    "\n",
    "# show significance stars \n",
    "# for first comparison\n",
    "y = df_for_plot.T['large reward'].max() + .2\n",
    "h = .1\n",
    "plt.plot([0, 0, 1, 1], [y, y+h, y+h, y],c='k',lw=1)\n",
    "ax.text(.5, y+h, 'n.s.', ha='center', fontsize=12)\n",
    "# for second comparison\n",
    "l = .2\n",
    "plt.plot([1, 1, 2, 2], [y+l, y+h+l, y+h+l, y+l],c='k', linewidth=1)\n",
    "ax.text(1.5, y+h+l, 'n.s.', ha='center', fontsize=12)\n",
    "ax.set_ylim([-1, 3.4])\n",
    "plt.tight_layout()"
   ]
  },
  {
   "cell_type": "code",
   "execution_count": null,
   "metadata": {},
   "outputs": [],
   "source": []
  }
 ],
 "metadata": {
  "kernelspec": {
   "display_name": "Python 3",
   "language": "python",
   "name": "python3"
  },
  "language_info": {
   "codemirror_mode": {
    "name": "ipython",
    "version": 3
   },
   "file_extension": ".py",
   "mimetype": "text/x-python",
   "name": "python",
   "nbconvert_exporter": "python",
   "pygments_lexer": "ipython3",
   "version": "3.7.3"
  }
 },
 "nbformat": 4,
 "nbformat_minor": 4
}
