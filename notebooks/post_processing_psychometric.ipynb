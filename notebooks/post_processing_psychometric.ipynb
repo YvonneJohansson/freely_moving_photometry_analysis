{
 "cells": [
  {
   "cell_type": "code",
   "execution_count": 1,
   "metadata": {},
   "outputs": [],
   "source": [
    "%load_ext autoreload\n",
    "%autoreload 2\n",
    "%matplotlib qt5\n",
    "# Add modules to the path\n",
    "import sys\n",
    "#sys.path.insert(0, 'C:\\\\Users\\\\francescag\\\\Documents\\\\SourceTree_repos\\\\Python_git')\n",
    "#sys.path.insert(0, 'C:\\\\Users\\\\francescag\\\\Documents\\\\SourceTree_repos')\n",
    "#sys.path.insert(0, 'C:\\\\Users\\\\francescag\\\\Documents\\\\SourceTree_repos\\\\Python_git\\\\freely_moving_photometry_analysis')\n",
    "sys.path.insert(1, '/home/matthew/Documents/code/photometry_analysis_code/freely_moving_photometry_analysis')\n",
    "\n",
    "import peakutils\n",
    "from matplotlib import colors, cm\n",
    "from scipy.signal import decimate\n",
    "import copy\n",
    "import matplotlib.pyplot as plt\n",
    "import numpy as np\n",
    "import pandas as pd\n",
    "import pickle\n",
    "from utils.plotting import HeatMapParams\n",
    "from utils.plotting import heat_map_and_mean\n",
    "from utils.plotting import get_photometry_around_event\n",
    "from scipy import stats\n",
    "from utils.individual_trial_analysis_utils import SessionData, get_photometry_around_event, get_next_centre_poke, get_next_reward_time, HeatMapParams"
   ]
  },
  {
   "cell_type": "code",
   "execution_count": 42,
   "metadata": {},
   "outputs": [],
   "source": [
    "class CustomAlignedDataPsychometric(object):\n",
    "    def __init__(self, session_data, params, trial_type):\n",
    "        saving_folder = '/mnt/winstor/swc/sjones/users/francesca/photometry_2AC/processed_data/' + session_data.mouse + '/'\n",
    "        restructured_data_filename = session_data.mouse + '_' + session_data.date + '_' + 'restructured_data.pkl'\n",
    "        trial_data = pd.read_pickle(saving_folder + restructured_data_filename)\n",
    "        dff_trace_filename = session_data.mouse + '_' + session_data.date + '_' + 'smoothed_signal.npy'\n",
    "        dff = np.load(saving_folder + dff_trace_filename)\n",
    "\n",
    "        fiber_options = np.array(['left', 'right'])\n",
    "        fiber_side_numeric = (np.where(fiber_options == session_data.fiber_side)[0] + 1)[0]\n",
    "        contra_fiber_side_numeric = (np.where(fiber_options != session_data.fiber_side)[0] + 1)[0]\n",
    "\n",
    "        #self.contra_data = ZScoredTracesPsychometric(trial_data, dff,params, contra_fiber_side_numeric, contra_fiber_side_numeric, trial_type)\n",
    "        #self.contra_data.get_peaks()\n",
    "        self.ipsi_data = ZScoredTracesPsychometric(trial_data, dff,params, fiber_side_numeric, fiber_side_numeric, trial_type)\n",
    "        self.ipsi_data.get_peaks()"
   ]
  },
  {
   "cell_type": "code",
   "execution_count": 3,
   "metadata": {},
   "outputs": [],
   "source": [
    "def get_all_experimental_records():\n",
    "    experiment_record = pd.read_csv('/mnt/winstor/swc/sjones/users/francesca/photometry_2AC/experimental_record_matt.csv')\n",
    "    experiment_record['date'] = experiment_record['date'].astype(str)\n",
    "    return experiment_record"
   ]
  },
  {
   "cell_type": "code",
   "execution_count": 4,
   "metadata": {},
   "outputs": [],
   "source": [
    "def open_experiment(experiment_to_add):\n",
    "    for index, experiment in experiment_to_add.iterrows():\n",
    "        saving_folder = '/mnt/winstor/swc/sjones/users/francesca/photometry_2AC/processed_data/' + experiment['mouse_id'] + '/'\n",
    "        restructured_data_filename = experiment['mouse_id'] + '_' + experiment['date'] + '_' + 'restructured_data.pkl'\n",
    "        trial_data = pd.read_pickle(saving_folder + restructured_data_filename)\n",
    "        dff_trace_filename = experiment['mouse_id'] + '_' + experiment['date'] + '_' + 'smoothed_signal.npy'\n",
    "        dff = np.load(saving_folder + dff_trace_filename)\n",
    "        session_traces = SessionData(experiment['fiber_side'], experiment['recording_site'], experiment['mouse_id'], experiment['date'])\n",
    "    return session_traces"
   ]
  },
  {
   "cell_type": "code",
   "execution_count": 5,
   "metadata": {},
   "outputs": [],
   "source": [
    "def get_peak_each_trial_psychometric(sorted_traces, time_points, sorted_other_events):\n",
    "    all_trials_peaks = []\n",
    "    #plt.figure()\n",
    "    for trial_num in range(0, len(sorted_other_events)):\n",
    "        indices_to_integrate = np.where(np.logical_and(np.greater_equal(time_points, 0),\n",
    "                                                       np.less_equal(time_points, sorted_other_events[trial_num])))\n",
    "        trial_trace = (sorted_traces[trial_num, indices_to_integrate]).T\n",
    "        trial_trace = trial_trace  # - trial_trace[0]\n",
    "        trial_peak_inds = peakutils.indexes(trial_trace.flatten('F'), thres=0.3)\n",
    "        if trial_peak_inds.shape[0] > 0:\n",
    "            if len(trial_peak_inds > 1):\n",
    "                trial_peak_inds = trial_peak_inds[0]\n",
    "\n",
    "            trial_peaks = trial_trace.flatten('F')[trial_peak_inds]\n",
    "            all_trials_peaks.append(trial_peaks)\n",
    "            #plt.plot(trial_trace)\n",
    "            #plt.scatter(trial_peak_inds, trial_peaks)\n",
    "    flat_peaks = all_trials_peaks\n",
    "    #plt.show()\n",
    "    return flat_peaks"
   ]
  },
  {
   "cell_type": "code",
   "execution_count": 6,
   "metadata": {},
   "outputs": [],
   "source": [
    "def get_peak_each_trial_psychometric_no_nans(sorted_traces, time_points, sorted_other_events):\n",
    "    all_trials_peaks = []\n",
    "    plt.figure()\n",
    "    for trial_num in range(0, len(sorted_other_events)):\n",
    "        indices_to_integrate = np.where(np.logical_and(np.greater_equal(time_points, 0), np.less_equal(time_points, sorted_other_events[trial_num])))\n",
    "        trial_trace = (sorted_traces[trial_num, indices_to_integrate]).T\n",
    "        trial_trace = trial_trace # - trial_trace[0]s\n",
    "        trial_peak_inds = peakutils.indexes(trial_trace.flatten('F'), thres=0.3)\n",
    "        if trial_peak_inds.shape[0] > 0 or len(trial_peak_inds > 1):\n",
    "            trial_peak_inds = trial_peak_inds[0]\n",
    "            trial_peaks = trial_trace.flatten('F')[trial_peak_inds]\n",
    "        else:\n",
    "            trial_peak_inds = np.argmax(trial_trace)\n",
    "            trial_peaks = np.max(trial_trace)\n",
    "            print(trial_num, trial_peak_inds, trial_peaks)\n",
    "        all_trials_peaks.append(trial_peaks)\n",
    "        plt.plot(trial_trace)\n",
    "        plt.scatter(trial_peak_inds, trial_peaks)\n",
    "    flat_peaks = all_trials_peaks\n",
    "    return flat_peaks\n",
    "    #plt.show()"
   ]
  },
  {
   "cell_type": "code",
   "execution_count": 7,
   "metadata": {},
   "outputs": [],
   "source": [
    "def get_max_each_trial_psychometric(sorted_traces, time_points, sorted_other_events):\n",
    "    all_trials_peaks = []\n",
    "    #plt.figure()\n",
    "    for trial_num in range(0, len(sorted_other_events)):\n",
    "        indices_to_integrate = np.where(np.logical_and(np.greater_equal(time_points, 0), np.less_equal(time_points, sorted_other_events[trial_num])))\n",
    "        trial_trace = (sorted_traces[trial_num, indices_to_integrate]).T\n",
    "        trial_trace = trial_trace # - trial_trace[0]s\n",
    "\n",
    "        trial_peak_inds = np.argmax(trial_trace)\n",
    "        trial_peaks = np.max(trial_trace)\n",
    "\n",
    "        all_trials_peaks.append(trial_peaks)\n",
    "        #plt.plot(trial_trace)\n",
    "        #plt.scatter(trial_peak_inds, trial_peaks)\n",
    "    flat_peaks = all_trials_peaks\n",
    "    return flat_peaks\n",
    "    #plt.show()"
   ]
  },
  {
   "cell_type": "code",
   "execution_count": 8,
   "metadata": {},
   "outputs": [],
   "source": [
    "class ZScoredTracesPsychometric(object):\n",
    "    def __init__(self,  trial_data, dff, params, response, first_choice, trial_type):\n",
    "        self.trial_peaks = None\n",
    "        self.params = HeatMapParams(params, response, first_choice)\n",
    "        self.trial_type = trial_type\n",
    "        self.time_points, self.mean_trace, self.sorted_traces, self.reaction_times, self.state_name, title, self.sorted_next_poke, self.trial_nums, self.event_times, self.outcome_times = find_and_z_score_traces_psycho(\n",
    "            trial_data, dff, self.params, self.trial_type)\n",
    "\n",
    "    def get_peaks(self):\n",
    "        self.trial_peaks = get_peak_each_trial_psychometric(self.sorted_traces, self.time_points, self.outcome_times)"
   ]
  },
  {
   "cell_type": "code",
   "execution_count": 9,
   "metadata": {},
   "outputs": [],
   "source": [
    "def find_and_z_score_traces_psycho(trial_data, demod_signal, params, trial_type, norm_window=8, sort=False, get_photometry_data=True):\n",
    "    response_names = ['both left and right', 'left', 'right']\n",
    "    outcome_names = ['incorrect', 'correct', 'both correct and incorrect']\n",
    "    events_of_int = trial_data.loc[(trial_data['State type'] == params.state)]\n",
    "    if  params.state == 10:\n",
    "        omission_events = trial_data.loc[(trial_data['State type'] == params.state)]\n",
    "        trials_of_int = omission_events['Trial num'].values\n",
    "        omission_trials_all_states = trial_data.loc[(trial_data['Trial num'].isin(trials_of_int))]\n",
    "        events_of_int = omission_trials_all_states.loc[(omission_trials_all_states['State type'] == 4)]\n",
    "    else:\n",
    "        events_of_int = trial_data.loc[(trial_data['State type'] == params.state)]\n",
    "    if params.response != 0:\n",
    "        events_of_int = events_of_int.loc[events_of_int['Response'] == params.response]\n",
    "    if params.first_choice != 0:\n",
    "        events_of_int = events_of_int.loc[events_of_int['First response'] == params.first_choice]\n",
    "    if params.last_response != 0:\n",
    "        events_of_int = events_of_int.loc[events_of_int['Last response'] == params.last_response]\n",
    "        title = ' last response: ' + response_names[params.last_response]\n",
    "    else:\n",
    "        title = response_names[params.response]\n",
    "    if not params.outcome == 2: # if you don't care about the reward or not\n",
    "        events_of_int = events_of_int.loc[events_of_int['Trial outcome'] == params.outcome]\n",
    "    #events_of_int = events_of_int.loc[events_of_int['Last outcome'] == 0]\n",
    "\n",
    "    if params.cue == 'high':\n",
    "        events_of_int = events_of_int.loc[events_of_int['Trial type'] == 7]\n",
    "    elif params.cue == 'low':\n",
    "        events_of_int = events_of_int.loc[events_of_int['Trial type'] == 1]\n",
    "    events_of_int = events_of_int.loc[events_of_int['Trial type'] == trial_type]\n",
    "\n",
    "\n",
    "\n",
    "    if params.state == 10:\n",
    "        title = title + ' ' + 'omission'\n",
    "    else:\n",
    "        title = title + ' ' + outcome_names[params.outcome]\n",
    "\n",
    "    if params.instance == -1:\n",
    "        events_of_int = events_of_int.loc[\n",
    "            (events_of_int['Instance in state'] / events_of_int['Max times in state'] == 1)]\n",
    "    elif params.instance == 1:\n",
    "        events_of_int = events_of_int.loc[(events_of_int['Instance in state'] == 1)]\n",
    "        if params.no_repeats == 1:\n",
    "            events_of_int = events_of_int.loc[events_of_int['Max times in state'] == 1]\n",
    "    elif params.instance == 0:\n",
    "        events_of_int = events_of_int\n",
    "\n",
    "    if params.first_choice_correct != 0:\n",
    "        events_of_int = events_of_int.loc[\n",
    "            (events_of_int['First choice correct'] == 1)]\n",
    "\n",
    "    event_times = events_of_int[params.align_to].values\n",
    "    trial_nums = events_of_int['Trial num'].values\n",
    "    state_name = events_of_int['State name'].values[0]\n",
    "    other_event = np.asarray(\n",
    "        np.squeeze(events_of_int[params.other_time_point].values) - np.squeeze(events_of_int[params.align_to].values))\n",
    "    outcome_times = get_next_reward_time(trial_data, events_of_int)\n",
    "    outcome_times = outcome_times - event_times\n",
    "\n",
    "    last_trial = np.max(trial_data['Trial num'])\n",
    "    last_trial_num = events_of_int['Trial num'].unique()[-1]\n",
    "    events_reset_indx = events_of_int.reset_index(drop=True)\n",
    "    last_trial_event_indx = events_reset_indx.loc[(events_reset_indx['Trial num'] == last_trial_num)].index\n",
    "    next_centre_poke = get_next_centre_poke(trial_data, events_of_int, last_trial_num==last_trial)\n",
    "    \n",
    "    next_centre_poke_norm = next_centre_poke - event_times\n",
    "\n",
    "    # this all deals with getting photometry data\n",
    "    if get_photometry_data == True:\n",
    "        event_photo_traces = get_photometry_around_event(event_times, demod_signal, pre_window=norm_window,\n",
    "                                                         post_window=norm_window)\n",
    "        norm_traces = stats.zscore(event_photo_traces.T, axis=0)\n",
    "\n",
    "        if len(other_event) != norm_traces.shape[1]:\n",
    "            other_event = other_event[:norm_traces.shape[1]]\n",
    "        if sort:\n",
    "            arr1inds = other_event.argsort()\n",
    "            sorted_other_event = other_event[arr1inds[::-1]]\n",
    "            sorted_traces = norm_traces.T[arr1inds[::-1]]\n",
    "            sorted_next_poke = next_centre_poke_norm[arr1inds[::-1]]\n",
    "        else:\n",
    "            sorted_other_event = other_event\n",
    "            sorted_traces = norm_traces.T\n",
    "            sorted_next_poke = next_centre_poke_norm\n",
    "\n",
    "        time_points = np.linspace(-norm_window, norm_window, norm_traces.shape[0], endpoint=True, retstep=False, dtype=None,\n",
    "                             axis=0)\n",
    "        mean_trace = np.mean(sorted_traces, axis=0)\n",
    "\n",
    "        return time_points, mean_trace, sorted_traces, sorted_other_event, state_name, title, sorted_next_poke, trial_nums, event_times, outcome_times\n",
    "    else:\n",
    "        if sort:\n",
    "            arr1inds = other_event.argsort()\n",
    "            sorted_other_event = other_event[arr1inds[::-1]]\n",
    "            sorted_next_poke = next_centre_poke_norm[arr1inds[::-1]]\n",
    "        else:\n",
    "            sorted_other_event = other_event\n",
    "            sorted_next_poke = next_centre_poke_norm\n",
    "        return sorted_other_event, state_name, title, sorted_next_poke, trial_nums, event_times\n",
    "\n",
    "\n"
   ]
  },
  {
   "cell_type": "code",
   "execution_count": 39,
   "metadata": {},
   "outputs": [],
   "source": [
    "mouse_id = 'SNL_photo57'\n",
    "date = '20211119'\n",
    "all_experiments = get_all_experimental_records()\n",
    "experiment_to_process = all_experiments[(all_experiments['date'] == date) & (all_experiments['mouse_id'] == mouse_id)]\n",
    "session_data = open_experiment(experiment_to_process)"
   ]
  },
  {
   "cell_type": "code",
   "execution_count": 15,
   "metadata": {},
   "outputs": [
    {
     "data": {
      "text/plain": [
       "[<matplotlib.lines.Line2D at 0x7fcee167b430>]"
      ]
     },
     "execution_count": 15,
     "metadata": {},
     "output_type": "execute_result"
    }
   ],
   "source": [
    "saving_folder = '/mnt/winstor/swc/sjones/users/francesca/photometry_2AC/processed_data/' + mouse_id + '/'\n",
    "demod_signal = np.load(saving_folder + mouse_id + '_' + date + \"_smoothed_signal.npy\" )\n",
    "plt.plot(demod_signal)"
   ]
  },
  {
   "cell_type": "code",
   "execution_count": 43,
   "metadata": {},
   "outputs": [
    {
     "name": "stdout",
     "output_type": "stream",
     "text": [
      "1\n",
      "2\n",
      "3\n"
     ]
    }
   ],
   "source": [
    "all_trial_type_data = []\n",
    "for trial_type in range(1,8):\n",
    "    try:\n",
    "        params = {'state_type_of_interest': 5,\n",
    "            'outcome': 1,\n",
    "            'last_outcome': 0,  # NOT USED CURRENTLY\n",
    "            'no_repeats' : 1,\n",
    "            'last_response': 0,\n",
    "            'align_to' : 'Time start',\n",
    "            'instance':-1,\n",
    "            'plot_range': [-6, 6],\n",
    "            'first_choice_correct': 1,\n",
    "             'cue': 'None'}\n",
    "        all_trial_type_data.append(CustomAlignedDataPsychometric(session_data, params, trial_type))\n",
    "    except:\n",
    "        print(trial_type)"
   ]
  },
  {
   "cell_type": "code",
   "execution_count": 38,
   "metadata": {},
   "outputs": [
    {
     "data": {
      "text/plain": [
       "<utils.individual_trial_analysis_utils.SessionData at 0x7fceeb9806d0>"
      ]
     },
     "execution_count": 38,
     "metadata": {},
     "output_type": "execute_result"
    }
   ],
   "source": [
    "session_data\n"
   ]
  },
  {
   "cell_type": "code",
   "execution_count": 53,
   "metadata": {},
   "outputs": [],
   "source": [
    "a = CustomAlignedDataPsychometric(session_data, params, trial_type)"
   ]
  },
  {
   "cell_type": "code",
   "execution_count": 54,
   "metadata": {},
   "outputs": [
    {
     "data": {
      "text/plain": [
       "array([ 2.21689334e-16, -7.53175300e-17])"
      ]
     },
     "execution_count": 54,
     "metadata": {},
     "output_type": "execute_result"
    }
   ],
   "source": [
    "np.mean(a.contra_data.sorted_traces[:2,:], axis=1)"
   ]
  },
  {
   "cell_type": "code",
   "execution_count": 55,
   "metadata": {},
   "outputs": [
    {
     "data": {
      "text/plain": [
       "array([-8.    , -7.9999, -7.9998, ...,  8.    , -8.    , -7.9999])"
      ]
     },
     "execution_count": 55,
     "metadata": {},
     "output_type": "execute_result"
    }
   ],
   "source": [
    "np.concatenate((a.contra_data.time_points, a.contra_data.time_points[:2]))"
   ]
  },
  {
   "cell_type": "code",
   "execution_count": 50,
   "metadata": {
    "scrolled": true
   },
   "outputs": [
    {
     "name": "stdout",
     "output_type": "stream",
     "text": [
      "4\n",
      "5\n"
     ]
    },
    {
     "ename": "IndexError",
     "evalue": "list index out of range",
     "output_type": "error",
     "traceback": [
      "\u001b[0;31m---------------------------------------------------------------------------\u001b[0m",
      "\u001b[0;31mIndexError\u001b[0m                                Traceback (most recent call last)",
      "\u001b[0;32m/tmp/ipykernel_4102014/2125364451.py\u001b[0m in \u001b[0;36m<module>\u001b[0;34m\u001b[0m\n\u001b[1;32m     11\u001b[0m     \u001b[0max\u001b[0m\u001b[0;34m[\u001b[0m\u001b[0;36m0\u001b[0m\u001b[0;34m]\u001b[0m\u001b[0;34m.\u001b[0m\u001b[0mset_xlim\u001b[0m\u001b[0;34m(\u001b[0m\u001b[0;34m[\u001b[0m\u001b[0;34m-\u001b[0m\u001b[0;36m0.5\u001b[0m\u001b[0;34m,\u001b[0m \u001b[0;36m1.5\u001b[0m\u001b[0;34m]\u001b[0m\u001b[0;34m)\u001b[0m\u001b[0;34m\u001b[0m\u001b[0;34m\u001b[0m\u001b[0m\n\u001b[1;32m     12\u001b[0m \u001b[0;34m\u001b[0m\u001b[0m\n\u001b[0;32m---> 13\u001b[0;31m     \u001b[0mone_side_data\u001b[0m \u001b[0;34m=\u001b[0m \u001b[0mall_trial_type_data\u001b[0m\u001b[0;34m[\u001b[0m\u001b[0mtrial_type\u001b[0m\u001b[0;34m-\u001b[0m\u001b[0;36m1\u001b[0m\u001b[0;34m]\u001b[0m\u001b[0;34m.\u001b[0m\u001b[0mipsi_data\u001b[0m\u001b[0;34m\u001b[0m\u001b[0;34m\u001b[0m\u001b[0m\n\u001b[0m\u001b[1;32m     14\u001b[0m     \u001b[0mmean_trace\u001b[0m \u001b[0;34m=\u001b[0m \u001b[0mdecimate\u001b[0m\u001b[0;34m(\u001b[0m\u001b[0mone_side_data\u001b[0m\u001b[0;34m.\u001b[0m\u001b[0mmean_trace\u001b[0m\u001b[0;34m,\u001b[0m \u001b[0;36m10\u001b[0m\u001b[0;34m)\u001b[0m\u001b[0;34m\u001b[0m\u001b[0;34m\u001b[0m\u001b[0m\n\u001b[1;32m     15\u001b[0m     \u001b[0mtime_points\u001b[0m \u001b[0;34m=\u001b[0m \u001b[0mdecimate\u001b[0m\u001b[0;34m(\u001b[0m\u001b[0mone_side_data\u001b[0m\u001b[0;34m.\u001b[0m\u001b[0mtime_points\u001b[0m\u001b[0;34m,\u001b[0m \u001b[0;36m10\u001b[0m\u001b[0;34m)\u001b[0m\u001b[0;34m\u001b[0m\u001b[0;34m\u001b[0m\u001b[0m\n",
      "\u001b[0;31mIndexError\u001b[0m: list index out of range"
     ]
    }
   ],
   "source": [
    "colours = cm.inferno(np.linspace(0, 1, 7))\n",
    "fig, ax = plt.subplots(1,2, sharey=True,sharex=True)\n",
    "for trial_type in range(4,8):\n",
    "    print (trial_type)\n",
    "    '''one_side_data = all_trial_type_data[trial_type-1].contra_data\n",
    "    mean_trace = decimate(one_side_data.mean_trace, 10)\n",
    "    time_points = decimate(one_side_data.time_points, 10)\n",
    "    traces = decimate(one_side_data.sorted_traces, 10)\n",
    "    ax[0].plot(time_points, mean_trace, lw=1.5, color=colours[trial_type-1], label= trial_type)\n",
    "    ax[0].axvline(0, color='k')'''\n",
    "    ax[0].set_xlim([-0.5, 1.5])\n",
    "    \n",
    "    one_side_data = all_trial_type_data[trial_type-1].ipsi_data\n",
    "    mean_trace = decimate(one_side_data.mean_trace, 10)\n",
    "    time_points = decimate(one_side_data.time_points, 10)\n",
    "    traces = decimate(one_side_data.sorted_traces, 10)\n",
    "    ax[1].plot(time_points, mean_trace, lw=1.5, color=colours[trial_type-1], label= trial_type)\n",
    "    ax[1].axvline(0, color='k')\n",
    "plt.legend()\n"
   ]
  },
  {
   "cell_type": "code",
   "execution_count": 74,
   "metadata": {},
   "outputs": [
    {
     "name": "stdout",
     "output_type": "stream",
     "text": [
      "0.9988950317686395 1.0536358959679237\n",
      "1.2706590581027501 1.1202813596767331\n",
      "1.3468403626092076 1.2820300049744335\n",
      "1.6909373296919052 1.8653727829276452\n"
     ]
    },
    {
     "ename": "IndexError",
     "evalue": "list index out of range",
     "output_type": "error",
     "traceback": [
      "\u001b[0;31m---------------------------------------------------------------------------\u001b[0m",
      "\u001b[0;31mIndexError\u001b[0m                                Traceback (most recent call last)",
      "\u001b[0;32m/tmp/ipykernel_1141504/2766010715.py\u001b[0m in \u001b[0;36m<module>\u001b[0;34m\u001b[0m\n\u001b[1;32m      2\u001b[0m \u001b[0mfig2\u001b[0m\u001b[0;34m,\u001b[0m \u001b[0max\u001b[0m \u001b[0;34m=\u001b[0m \u001b[0mplt\u001b[0m\u001b[0;34m.\u001b[0m\u001b[0msubplots\u001b[0m\u001b[0;34m(\u001b[0m\u001b[0;36m1\u001b[0m\u001b[0;34m,\u001b[0m\u001b[0;36m3\u001b[0m\u001b[0;34m)\u001b[0m\u001b[0;34m\u001b[0m\u001b[0;34m\u001b[0m\u001b[0m\n\u001b[1;32m      3\u001b[0m \u001b[0;32mfor\u001b[0m \u001b[0mtrial_type\u001b[0m \u001b[0;32min\u001b[0m \u001b[0mrange\u001b[0m\u001b[0;34m(\u001b[0m\u001b[0;36m1\u001b[0m\u001b[0;34m,\u001b[0m\u001b[0;36m8\u001b[0m\u001b[0;34m)\u001b[0m\u001b[0;34m:\u001b[0m\u001b[0;34m\u001b[0m\u001b[0;34m\u001b[0m\u001b[0m\n\u001b[0;32m----> 4\u001b[0;31m     \u001b[0mone_side_data\u001b[0m \u001b[0;34m=\u001b[0m \u001b[0mall_trial_type_data\u001b[0m\u001b[0;34m[\u001b[0m\u001b[0mtrial_type\u001b[0m\u001b[0;34m-\u001b[0m\u001b[0;36m1\u001b[0m\u001b[0;34m]\u001b[0m\u001b[0;34m.\u001b[0m\u001b[0mcontra_data\u001b[0m\u001b[0;34m\u001b[0m\u001b[0;34m\u001b[0m\u001b[0m\n\u001b[0m\u001b[1;32m      5\u001b[0m     \u001b[0mx_vals\u001b[0m \u001b[0;34m=\u001b[0m \u001b[0mnp\u001b[0m\u001b[0;34m.\u001b[0m\u001b[0mones\u001b[0m\u001b[0;34m(\u001b[0m\u001b[0;34m[\u001b[0m\u001b[0mlen\u001b[0m\u001b[0;34m(\u001b[0m\u001b[0mone_side_data\u001b[0m\u001b[0;34m.\u001b[0m\u001b[0mtrial_peaks\u001b[0m\u001b[0;34m)\u001b[0m\u001b[0;34m]\u001b[0m\u001b[0;34m)\u001b[0m\u001b[0;34m*\u001b[0m\u001b[0mtrial_type\u001b[0m\u001b[0;34m\u001b[0m\u001b[0;34m\u001b[0m\u001b[0m\n\u001b[1;32m      6\u001b[0m     \u001b[0max\u001b[0m\u001b[0;34m[\u001b[0m\u001b[0;36m0\u001b[0m\u001b[0;34m]\u001b[0m\u001b[0;34m.\u001b[0m\u001b[0mhist\u001b[0m\u001b[0;34m(\u001b[0m\u001b[0mone_side_data\u001b[0m\u001b[0;34m.\u001b[0m\u001b[0mtrial_peaks\u001b[0m\u001b[0;34m,\u001b[0m \u001b[0mcolor\u001b[0m\u001b[0;34m=\u001b[0m\u001b[0mcolours\u001b[0m\u001b[0;34m[\u001b[0m\u001b[0mtrial_type\u001b[0m\u001b[0;34m-\u001b[0m\u001b[0;36m1\u001b[0m\u001b[0;34m]\u001b[0m\u001b[0;34m,\u001b[0m \u001b[0malpha\u001b[0m\u001b[0;34m=\u001b[0m\u001b[0;36m0.4\u001b[0m\u001b[0;34m)\u001b[0m\u001b[0;34m\u001b[0m\u001b[0;34m\u001b[0m\u001b[0m\n",
      "\u001b[0;31mIndexError\u001b[0m: list index out of range"
     ]
    }
   ],
   "source": [
    "colours = cm.inferno(np.linspace(0, 1, 7))\n",
    "fig2, ax = plt.subplots(1,3)\n",
    "for trial_type in range(1,8):\n",
    "    one_side_data = all_trial_type_data[trial_type-1].contra_data\n",
    "    x_vals = np.ones([len(one_side_data.trial_peaks)])*trial_type\n",
    "    ax[0].hist(one_side_data.trial_peaks, color=colours[trial_type-1], alpha=0.4)\n",
    "    ax[1].scatter(trial_type, np.mean(one_side_data.trial_peaks), color=colours[trial_type-1])\n",
    "    ax[1].set_ylabel('Mean peak')\n",
    "    ax[2].scatter(trial_type, np.median(one_side_data.trial_peaks), color=colours[trial_type-1])\n",
    "    ax[2].set_ylabel('Median peak')\n",
    "    print(np.mean(one_side_data.trial_peaks), np.median(one_side_data.trial_peaks))"
   ]
  },
  {
   "cell_type": "code",
   "execution_count": 108,
   "metadata": {},
   "outputs": [],
   "source": [
    "import matplotlibtlib"
   ]
  },
  {
   "cell_type": "code",
   "execution_count": 134,
   "metadata": {},
   "outputs": [
    {
     "name": "stdout",
     "output_type": "stream",
     "text": [
      "[1.5414953388039705, 2.0412290735827696, 1.3379246718026432, 1.950286413924951, 0.766849123870784, 2.759143005421707, -0.7323453054153348, 1.548990558349745, 0.9185640779593433, 0.22867490960880793, 2.320498109591071, 1.6355107490045058, 0.2817006288256168, -0.25065506832706647, 2.145190902642128]\n"
     ]
    }
   ],
   "source": [
    "colourmap = matplotlib.cm.viridis\n",
    "colours = colourmap(np.linspace(0, 0.8, one_side_data.sorted_traces.shape[0]))\n",
    "plt.figure()\n",
    "one_side_data = all_trial_type_data[].contra_data\n",
    "for t in range(0, one_side_data.sorted_traces.shape[0]):\n",
    "    plt.plot(one_side_data.sorted_traces[t, :], color=colours[t])\n",
    "    plt.axhline(one_side_data.trial_peaks[t], color=colours[t])\n",
    "#plt.imshow(one_side_data.sorted_traces, aspect='auto')\n"
   ]
  },
  {
   "cell_type": "code",
   "execution_count": 136,
   "metadata": {},
   "outputs": [
    {
     "data": {
      "text/plain": [
       "[<matplotlib.lines.Line2D at 0x85a752b0>]"
      ]
     },
     "execution_count": 136,
     "metadata": {},
     "output_type": "execute_result"
    }
   ],
   "source": [
    "plt.figure()\n",
    "plt.plot(one_side_data.sorted_traces[-5, :], color=colours[t])"
   ]
  },
  {
   "cell_type": "code",
   "execution_count": 105,
   "metadata": {},
   "outputs": [
    {
     "data": {
      "text/plain": [
       "[<matplotlib.lines.Line2D at 0x2b8635c0>]"
      ]
     },
     "execution_count": 105,
     "metadata": {},
     "output_type": "execute_result"
    }
   ],
   "source": [
    "plt.figure()\n",
    "plt.plot(one_side_data.mean_trace)"
   ]
  },
  {
   "cell_type": "code",
   "execution_count": 217,
   "metadata": {},
   "outputs": [
    {
     "data": {
      "text/plain": [
       "0.15315428214827714"
      ]
     },
     "execution_count": 217,
     "metadata": {},
     "output_type": "execute_result"
    }
   ],
   "source": [
    "np.median(np.asarray(all_trial_type_data[-2].contra_data.trial_peaks)/4)"
   ]
  },
  {
   "cell_type": "code",
   "execution_count": null,
   "metadata": {},
   "outputs": [],
   "source": [
    "np.median(np.asarray(all_trial_type_data[-2].contra_data.trial_peaks)/4)"
   ]
  },
  {
   "cell_type": "code",
   "execution_count": 209,
   "metadata": {},
   "outputs": [
    {
     "data": {
      "text/plain": [
       "array([0.14386391, 0.36703822, 0.03294286, 0.67309225, 0.1799292 ,\n",
       "       0.26867563, 0.06190406])"
      ]
     },
     "execution_count": 209,
     "metadata": {},
     "output_type": "execute_result"
    }
   ],
   "source": [
    "np.asarray(one_side_data.trial_peaks)/4"
   ]
  },
  {
   "cell_type": "code",
   "execution_count": 199,
   "metadata": {},
   "outputs": [
    {
     "data": {
      "text/plain": [
       "0.46637622"
      ]
     },
     "execution_count": 199,
     "metadata": {},
     "output_type": "execute_result"
    }
   ],
   "source": [
    "np.median([0.13636681, 0.46637622, 0.51340394])"
   ]
  },
  {
   "cell_type": "code",
   "execution_count": 207,
   "metadata": {},
   "outputs": [
    {
     "data": {
      "text/plain": [
       "0.5444297804051131"
      ]
     },
     "execution_count": 207,
     "metadata": {},
     "output_type": "execute_result"
    }
   ],
   "source": [
    "np.median(np.concatenate([np.asarray(one_side_data.trial_peaks),np.asarray([0.13636681, 0.46637622, 0.51340394])]))"
   ]
  },
  {
   "cell_type": "code",
   "execution_count": 37,
   "metadata": {},
   "outputs": [
    {
     "data": {
      "text/plain": [
       "<__main__.CustomAlignedDataPsychometric at 0x7fcee1667e80>"
      ]
     },
     "execution_count": 37,
     "metadata": {},
     "output_type": "execute_result"
    }
   ],
   "source": [
    "all_trial_type_data"
   ]
  },
  {
   "cell_type": "code",
   "execution_count": null,
   "metadata": {},
   "outputs": [],
   "source": []
  }
 ],
 "metadata": {
  "kernelspec": {
   "display_name": "Python 3 (ipykernel)",
   "language": "python",
   "name": "python3"
  },
  "language_info": {
   "codemirror_mode": {
    "name": "ipython",
    "version": 3
   },
   "file_extension": ".py",
   "mimetype": "text/x-python",
   "name": "python",
   "nbconvert_exporter": "python",
   "pygments_lexer": "ipython3",
   "version": "3.9.7"
  }
 },
 "nbformat": 4,
 "nbformat_minor": 4
}
