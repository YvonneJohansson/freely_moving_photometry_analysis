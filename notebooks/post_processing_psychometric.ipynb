{
 "cells": [
  {
   "cell_type": "code",
   "execution_count": 1,
   "metadata": {},
   "outputs": [
    {
     "name": "stderr",
     "output_type": "stream",
     "text": [
      "In C:\\Users\\francescag\\AppData\\Local\\Continuum\\miniconda3\\lib\\site-packages\\matplotlib\\mpl-data\\stylelib\\_classic_test.mplstyle: \n",
      "The savefig.frameon rcparam was deprecated in Matplotlib 3.1 and will be removed in 3.3.\n",
      "In C:\\Users\\francescag\\AppData\\Local\\Continuum\\miniconda3\\lib\\site-packages\\matplotlib\\mpl-data\\stylelib\\_classic_test.mplstyle: \n",
      "The verbose.level rcparam was deprecated in Matplotlib 3.1 and will be removed in 3.3.\n",
      "In C:\\Users\\francescag\\AppData\\Local\\Continuum\\miniconda3\\lib\\site-packages\\matplotlib\\mpl-data\\stylelib\\_classic_test.mplstyle: \n",
      "The verbose.fileo rcparam was deprecated in Matplotlib 3.1 and will be removed in 3.3.\n"
     ]
    }
   ],
   "source": [
    "%load_ext autoreload\n",
    "%autoreload 2\n",
    "%matplotlib qt5\n",
    "# Add modules to the path\n",
    "import sys\n",
    "sys.path.insert(0, 'C:\\\\Users\\\\francescag\\\\Documents\\\\SourceTree_repos\\\\Python_git')\n",
    "sys.path.insert(0, 'C:\\\\Users\\\\francescag\\\\Documents\\\\SourceTree_repos')\n",
    "sys.path.insert(0, 'C:\\\\Users\\\\francescag\\\\Documents\\\\SourceTree_repos\\\\Python_git\\\\freely_moving_photometry_analysis')\n",
    "import peakutils\n",
    "from matplotlib import colors, cm\n",
    "from scipy.signal import decimate\n",
    "import copy\n",
    "import matplotlib.pyplot as plt\n",
    "import numpy as np\n",
    "import pandas as pd\n",
    "import pickle\n",
    "from utils.plotting import HeatMapParams\n",
    "from utils.plotting import heat_map_and_mean\n",
    "from utils.plotting import get_photometry_around_event\n",
    "from scipy import stats\n",
    "from utils.individual_trial_analysis_utils import SessionData, get_photometry_around_event, get_next_centre_poke, get_next_reward_time, HeatMapParams"
   ]
  },
  {
   "cell_type": "code",
   "execution_count": 2,
   "metadata": {},
   "outputs": [],
   "source": [
    "class CustomAlignedDataPsychometric(object):\n",
    "    def __init__(self, session_data, params, trial_type):\n",
    "        saving_folder = 'W:\\\\photometry_2AC\\\\processed_data\\\\' + session_data.mouse + '\\\\'\n",
    "        restructured_data_filename = session_data.mouse + '_' + session_data.date + '_' + 'restructured_data.pkl'\n",
    "        trial_data = pd.read_pickle(saving_folder + restructured_data_filename)\n",
    "        dff_trace_filename = session_data.mouse + '_' + session_data.date + '_' + 'smoothed_signal.npy'\n",
    "        dff = np.load(saving_folder + dff_trace_filename)\n",
    "\n",
    "        fiber_options = np.array(['left', 'right'])\n",
    "        fiber_side_numeric = (np.where(fiber_options == session_data.fiber_side)[0] + 1)[0]\n",
    "        contra_fiber_side_numeric = (np.where(fiber_options != session_data.fiber_side)[0] + 1)[0]\n",
    "\n",
    "        self.contra_data = ZScoredTracesPsychometric(trial_data, dff,params, contra_fiber_side_numeric, contra_fiber_side_numeric, trial_type)\n",
    "        self.contra_data.get_peaks()\n",
    "        self.ipsi_data = ZScoredTracesPsychometric(trial_data, dff,params, fiber_side_numeric, fiber_side_numeric, trial_type)\n",
    "        self.ipsi_data.get_peaks()"
   ]
  },
  {
   "cell_type": "code",
   "execution_count": 3,
   "metadata": {},
   "outputs": [],
   "source": [
    "def get_all_experimental_records():\n",
    "    experiment_record = pd.read_csv('W:\\\\photometry_2AC\\\\experimental_record.csv')\n",
    "    experiment_record['date'] = experiment_record['date'].astype(str)\n",
    "    return experiment_record"
   ]
  },
  {
   "cell_type": "code",
   "execution_count": 4,
   "metadata": {},
   "outputs": [],
   "source": [
    "def open_experiment(experiment_to_add):\n",
    "    for index, experiment in experiment_to_add.iterrows():\n",
    "        saving_folder = 'W:\\\\photometry_2AC\\\\processed_data\\\\' + experiment['mouse_id'] + '\\\\'\n",
    "        restructured_data_filename = experiment['mouse_id'] + '_' + experiment['date'] + '_' + 'restructured_data.pkl'\n",
    "        trial_data = pd.read_pickle(saving_folder + restructured_data_filename)\n",
    "        dff_trace_filename = experiment['mouse_id'] + '_' + experiment['date'] + '_' + 'smoothed_signal.npy'\n",
    "        dff = np.load(saving_folder + dff_trace_filename)\n",
    "        session_traces = SessionData(experiment['fiber_side'], experiment['recording_site'], experiment['mouse_id'], experiment['date'])\n",
    "    return session_traces"
   ]
  },
  {
   "cell_type": "code",
   "execution_count": 5,
   "metadata": {},
   "outputs": [],
   "source": [
    "def get_peak_each_trial_psychometric(sorted_traces, time_points, sorted_other_events):\n",
    "    all_trials_peaks = []\n",
    "    for trial_num in range(0, len(sorted_other_events)):\n",
    "        indices_to_integrate = np.where(np.logical_and(np.greater_equal(time_points, 0),\n",
    "                                                       np.less_equal(time_points, sorted_other_events[trial_num])))\n",
    "        trial_trace = (sorted_traces[trial_num, indices_to_integrate]).T\n",
    "        trial_trace = trial_trace  # - trial_trace[0]\n",
    "        trial_peak_inds = peakutils.indexes(trial_trace.flatten('F'), thres=0.3)\n",
    "        if trial_peak_inds.shape[0] > 0:\n",
    "            if len(trial_peak_inds > 1):\n",
    "                trial_peak_inds = trial_peak_inds[0]\n",
    "\n",
    "            trial_peaks = trial_trace.flatten('F')[trial_peak_inds]\n",
    "            all_trials_peaks.append(trial_peaks)\n",
    "        # plt.plot(trial_trace)\n",
    "        # plt.scatter(trial_peak_inds, trial_peaks)\n",
    "    flat_peaks = all_trials_peaks\n",
    "    # plt.show()\n",
    "    return flat_peaks"
   ]
  },
  {
   "cell_type": "code",
   "execution_count": 6,
   "metadata": {},
   "outputs": [],
   "source": [
    "class ZScoredTracesPsychometric(object):\n",
    "    def __init__(self,  trial_data, dff, params, response, first_choice, trial_type):\n",
    "        self.trial_peaks = None\n",
    "        self.params = HeatMapParams(params, response, first_choice)\n",
    "        self.trial_type = trial_type\n",
    "        self.time_points, self.mean_trace, self.sorted_traces, self.reaction_times, self.state_name, title, self.sorted_next_poke, self.trial_nums, self.event_times, self.outcome_times = find_and_z_score_traces_psycho(\n",
    "            trial_data, dff, self.params, self.trial_type)\n",
    "\n",
    "    def get_peaks(self):\n",
    "        self.trial_peaks = get_peak_each_trial_psychometric(self.sorted_traces, self.time_points, self.outcome_times)"
   ]
  },
  {
   "cell_type": "code",
   "execution_count": 7,
   "metadata": {},
   "outputs": [],
   "source": [
    "def find_and_z_score_traces_psycho(trial_data, demod_signal, params, trial_type, norm_window=8, sort=False, get_photometry_data=True):\n",
    "    response_names = ['both left and right', 'left', 'right']\n",
    "    outcome_names = ['incorrect', 'correct', 'both correct and incorrect']\n",
    "    events_of_int = trial_data.loc[(trial_data['State type'] == params.state)]\n",
    "    if  params.state == 10:\n",
    "        omission_events = trial_data.loc[(trial_data['State type'] == params.state)]\n",
    "        trials_of_int = omission_events['Trial num'].values\n",
    "        omission_trials_all_states = trial_data.loc[(trial_data['Trial num'].isin(trials_of_int))]\n",
    "        events_of_int = omission_trials_all_states.loc[(omission_trials_all_states['State type'] == 4)]\n",
    "    else:\n",
    "        events_of_int = trial_data.loc[(trial_data['State type'] == params.state)]\n",
    "    if params.response != 0:\n",
    "        events_of_int = events_of_int.loc[events_of_int['Response'] == params.response]\n",
    "    if params.first_choice != 0:\n",
    "        events_of_int = events_of_int.loc[events_of_int['First response'] == params.first_choice]\n",
    "    if params.last_response != 0:\n",
    "        events_of_int = events_of_int.loc[events_of_int['Last response'] == params.last_response]\n",
    "        title = ' last response: ' + response_names[params.last_response]\n",
    "    else:\n",
    "        title = response_names[params.response]\n",
    "    if not params.outcome == 2: # if you don't care about the reward or not\n",
    "        events_of_int = events_of_int.loc[events_of_int['Trial outcome'] == params.outcome]\n",
    "    #events_of_int = events_of_int.loc[events_of_int['Last outcome'] == 0]\n",
    "\n",
    "    if params.cue == 'high':\n",
    "        events_of_int = events_of_int.loc[events_of_int['Trial type'] == 7]\n",
    "    elif params.cue == 'low':\n",
    "        events_of_int = events_of_int.loc[events_of_int['Trial type'] == 1]\n",
    "    events_of_int = events_of_int.loc[events_of_int['Trial type'] == trial_type]\n",
    "\n",
    "\n",
    "\n",
    "    if params.state == 10:\n",
    "        title = title + ' ' + 'omission'\n",
    "    else:\n",
    "        title = title + ' ' + outcome_names[params.outcome]\n",
    "\n",
    "    if params.instance == -1:\n",
    "        events_of_int = events_of_int.loc[\n",
    "            (events_of_int['Instance in state'] / events_of_int['Max times in state'] == 1)]\n",
    "    elif params.instance == 1:\n",
    "        events_of_int = events_of_int.loc[(events_of_int['Instance in state'] == 1)]\n",
    "        if params.no_repeats == 1:\n",
    "            events_of_int = events_of_int.loc[events_of_int['Max times in state'] == 1]\n",
    "    elif params.instance == 0:\n",
    "        events_of_int = events_of_int\n",
    "\n",
    "    if params.first_choice_correct != 0:\n",
    "        events_of_int = events_of_int.loc[\n",
    "            (events_of_int['First choice correct'] == 1)]\n",
    "\n",
    "    event_times = events_of_int[params.align_to].values\n",
    "    trial_nums = events_of_int['Trial num'].values\n",
    "    state_name = events_of_int['State name'].values[0]\n",
    "    other_event = np.asarray(\n",
    "        np.squeeze(events_of_int[params.other_time_point].values) - np.squeeze(events_of_int[params.align_to].values))\n",
    "    outcome_times = get_next_reward_time(trial_data, events_of_int)\n",
    "    outcome_times = outcome_times - event_times\n",
    "\n",
    "    last_trial = np.max(trial_data['Trial num'])\n",
    "    last_trial_num = events_of_int['Trial num'].unique()[-1]\n",
    "    events_reset_indx = events_of_int.reset_index(drop=True)\n",
    "    last_trial_event_indx = events_reset_indx.loc[(events_reset_indx['Trial num'] == last_trial_num)].index\n",
    "    next_centre_poke = get_next_centre_poke(trial_data, events_of_int, last_trial_num==last_trial)\n",
    "    \n",
    "    next_centre_poke_norm = next_centre_poke - event_times\n",
    "\n",
    "    # this all deals with getting photometry data\n",
    "    if get_photometry_data == True:\n",
    "        event_photo_traces = get_photometry_around_event(event_times, demod_signal, pre_window=norm_window,\n",
    "                                                         post_window=norm_window)\n",
    "        norm_traces = stats.zscore(event_photo_traces.T, axis=0)\n",
    "\n",
    "        if len(other_event) != norm_traces.shape[1]:\n",
    "            other_event = other_event[:norm_traces.shape[1]]\n",
    "        if sort:\n",
    "            arr1inds = other_event.argsort()\n",
    "            sorted_other_event = other_event[arr1inds[::-1]]\n",
    "            sorted_traces = norm_traces.T[arr1inds[::-1]]\n",
    "            sorted_next_poke = next_centre_poke_norm[arr1inds[::-1]]\n",
    "        else:\n",
    "            sorted_other_event = other_event\n",
    "            sorted_traces = norm_traces.T\n",
    "            sorted_next_poke = next_centre_poke_norm\n",
    "\n",
    "        time_points = np.linspace(-norm_window, norm_window, norm_traces.shape[0], endpoint=True, retstep=False, dtype=None,\n",
    "                             axis=0)\n",
    "        mean_trace = np.mean(sorted_traces, axis=0)\n",
    "\n",
    "        return time_points, mean_trace, sorted_traces, sorted_other_event, state_name, title, sorted_next_poke, trial_nums, event_times, outcome_times\n",
    "    else:\n",
    "        if sort:\n",
    "            arr1inds = other_event.argsort()\n",
    "            sorted_other_event = other_event[arr1inds[::-1]]\n",
    "            sorted_next_poke = next_centre_poke_norm[arr1inds[::-1]]\n",
    "        else:\n",
    "            sorted_other_event = other_event\n",
    "            sorted_next_poke = next_centre_poke_norm\n",
    "        return sorted_other_event, state_name, title, sorted_next_poke, trial_nums, event_times\n",
    "\n",
    "\n"
   ]
  },
  {
   "cell_type": "code",
   "execution_count": 29,
   "metadata": {},
   "outputs": [],
   "source": [
    "mouse_id = 'SNL_photo44'\n",
    "date = '20210520'\n",
    "all_experiments = get_all_experimental_records()\n",
    "experiment_to_process = all_experiments[(all_experiments['date'] == date) & (all_experiments['mouse_id'] == mouse_id)]\n",
    "session_data = open_experiment(experiment_to_process)"
   ]
  },
  {
   "cell_type": "code",
   "execution_count": 30,
   "metadata": {},
   "outputs": [],
   "source": [
    "all_trial_type_data = []\n",
    "for trial_type in range(1,8):\n",
    "    params = {'state_type_of_interest': 5,\n",
    "        'outcome': 2,\n",
    "        'last_outcome': 0,  # NOT USED CURRENTLY\n",
    "        'no_repeats' : 1,\n",
    "        'last_response': 0,\n",
    "        'align_to' : 'Time start',\n",
    "        'instance':-1,\n",
    "        'plot_range': [-6, 6],\n",
    "        'first_choice_correct': 0,\n",
    "         'cue': 'None'}\n",
    "    all_trial_type_data.append(CustomAlignedDataPsychometric(session_data, params, trial_type))"
   ]
  },
  {
   "cell_type": "code",
   "execution_count": 31,
   "metadata": {},
   "outputs": [],
   "source": [
    "a = CustomAlignedDataPsychometric(session_data, params, trial_type)"
   ]
  },
  {
   "cell_type": "code",
   "execution_count": 22,
   "metadata": {},
   "outputs": [
    {
     "data": {
      "text/plain": [
       "array([ 4.66116035e-16, -2.84217094e-18])"
      ]
     },
     "execution_count": 22,
     "metadata": {},
     "output_type": "execute_result"
    }
   ],
   "source": [
    "np.mean(a.contra_data.sorted_traces[:2,:], axis=1)"
   ]
  },
  {
   "cell_type": "code",
   "execution_count": 23,
   "metadata": {},
   "outputs": [
    {
     "data": {
      "text/plain": [
       "array([-8.    , -7.9999, -7.9998, ...,  8.    , -8.    , -7.9999])"
      ]
     },
     "execution_count": 23,
     "metadata": {},
     "output_type": "execute_result"
    }
   ],
   "source": [
    "np.concatenate((a.contra_data.time_points, a.contra_data.time_points[:2]))"
   ]
  },
  {
   "cell_type": "code",
   "execution_count": 32,
   "metadata": {
    "scrolled": true
   },
   "outputs": [
    {
     "name": "stdout",
     "output_type": "stream",
     "text": [
      "1\n",
      "2\n",
      "3\n",
      "4\n",
      "5\n",
      "6\n",
      "7\n"
     ]
    },
    {
     "data": {
      "text/plain": [
       "<matplotlib.legend.Legend at 0x2ca53a20>"
      ]
     },
     "execution_count": 32,
     "metadata": {},
     "output_type": "execute_result"
    }
   ],
   "source": [
    "colours = cm.inferno(np.linspace(0, 1, 7))\n",
    "fig, ax = plt.subplots(1,2, sharey=True,sharex=True)\n",
    "for trial_type in range(1,8):\n",
    "    print (trial_type)\n",
    "    one_side_data = all_trial_type_data[trial_type-1].contra_data\n",
    "    mean_trace = decimate(one_side_data.mean_trace, 10)\n",
    "    time_points = decimate(one_side_data.time_points, 10)\n",
    "    traces = decimate(one_side_data.sorted_traces, 10)\n",
    "    ax[0].plot(time_points, mean_trace, lw=1.5, color=colours[trial_type-1], label= trial_type)\n",
    "    ax[0].axvline(0, color='k')\n",
    "    ax[0].set_xlim([-0.5, 1.5])\n",
    "    \n",
    "    one_side_data = all_trial_type_data[trial_type-1].ipsi_data\n",
    "    mean_trace = decimate(one_side_data.mean_trace, 10)\n",
    "    time_points = decimate(one_side_data.time_points, 10)\n",
    "    traces = decimate(one_side_data.sorted_traces, 10)\n",
    "    ax[1].plot(time_points, mean_trace, lw=1.5, color=colours[trial_type-1], label= trial_type)\n",
    "    ax[1].axvline(0, color='k')\n",
    "plt.legend()\n"
   ]
  },
  {
   "cell_type": "code",
   "execution_count": 33,
   "metadata": {},
   "outputs": [
    {
     "name": "stdout",
     "output_type": "stream",
     "text": [
      "1.5405447065917113 0.916284619002521\n",
      "1.1873937503643608 0.9367155667696825\n",
      "1.7980399570007146 1.840073179601984\n",
      "1.672033396542118 1.5783402716735675\n",
      "1.7431275447740016 1.8023811248993167\n",
      "1.828013364028084 1.7912312306064777\n",
      "1.998263419010109 2.0562289952565784\n"
     ]
    }
   ],
   "source": [
    "colours = cm.inferno(np.linspace(0, 1, 7))\n",
    "fig2, ax = plt.subplots(1,3)\n",
    "for trial_type in range(1,8):\n",
    "    one_side_data = all_trial_type_data[trial_type-1].contra_data\n",
    "    x_vals = np.ones([len(one_side_data.trial_peaks)])*trial_type\n",
    "    ax[0].hist(one_side_data.trial_peaks, color=colours[trial_type-1], alpha=0.4)\n",
    "    ax[1].scatter(trial_type, np.mean(one_side_data.trial_peaks), color=colours[trial_type-1])\n",
    "    ax[1].set_ylabel('Mean peak')\n",
    "    ax[2].scatter(trial_type, np.median(one_side_data.trial_peaks), color=colours[trial_type-1])\n",
    "    ax[2].set_ylabel('Median peak')\n",
    "    print(np.mean(one_side_data.trial_peaks), np.median(one_side_data.trial_peaks))"
   ]
  },
  {
   "cell_type": "code",
   "execution_count": 217,
   "metadata": {},
   "outputs": [
    {
     "data": {
      "text/plain": [
       "0.15315428214827714"
      ]
     },
     "execution_count": 217,
     "metadata": {},
     "output_type": "execute_result"
    }
   ],
   "source": [
    "np.median(np.asarray(all_trial_type_data[-2].contra_data.trial_peaks)/4)"
   ]
  },
  {
   "cell_type": "code",
   "execution_count": null,
   "metadata": {},
   "outputs": [],
   "source": [
    "np.median(np.asarray(all_trial_type_data[-2].contra_data.trial_peaks)/4)"
   ]
  },
  {
   "cell_type": "code",
   "execution_count": 209,
   "metadata": {},
   "outputs": [
    {
     "data": {
      "text/plain": [
       "array([0.14386391, 0.36703822, 0.03294286, 0.67309225, 0.1799292 ,\n",
       "       0.26867563, 0.06190406])"
      ]
     },
     "execution_count": 209,
     "metadata": {},
     "output_type": "execute_result"
    }
   ],
   "source": [
    "np.asarray(one_side_data.trial_peaks)/4"
   ]
  },
  {
   "cell_type": "code",
   "execution_count": 199,
   "metadata": {},
   "outputs": [
    {
     "data": {
      "text/plain": [
       "0.46637622"
      ]
     },
     "execution_count": 199,
     "metadata": {},
     "output_type": "execute_result"
    }
   ],
   "source": [
    "np.median([0.13636681, 0.46637622, 0.51340394])"
   ]
  },
  {
   "cell_type": "code",
   "execution_count": 207,
   "metadata": {},
   "outputs": [
    {
     "data": {
      "text/plain": [
       "0.5444297804051131"
      ]
     },
     "execution_count": 207,
     "metadata": {},
     "output_type": "execute_result"
    }
   ],
   "source": [
    "np.median(np.concatenate([np.asarray(one_side_data.trial_peaks),np.asarray([0.13636681, 0.46637622, 0.51340394])]))"
   ]
  },
  {
   "cell_type": "code",
   "execution_count": null,
   "metadata": {},
   "outputs": [],
   "source": []
  },
  {
   "cell_type": "code",
   "execution_count": null,
   "metadata": {},
   "outputs": [],
   "source": []
  }
 ],
 "metadata": {
  "kernelspec": {
   "display_name": "Python 3",
   "language": "python",
   "name": "python3"
  },
  "language_info": {
   "codemirror_mode": {
    "name": "ipython",
    "version": 3
   },
   "file_extension": ".py",
   "mimetype": "text/x-python",
   "name": "python",
   "nbconvert_exporter": "python",
   "pygments_lexer": "ipython3",
   "version": "3.7.3"
  }
 },
 "nbformat": 4,
 "nbformat_minor": 4
}
