{
 "cells": [
  {
   "cell_type": "code",
   "execution_count": 2,
   "metadata": {},
   "outputs": [
    {
     "name": "stderr",
     "output_type": "stream",
     "text": [
      "In C:\\Users\\francescag\\AppData\\Local\\Continuum\\miniconda3\\lib\\site-packages\\matplotlib\\mpl-data\\stylelib\\_classic_test.mplstyle: \n",
      "The savefig.frameon rcparam was deprecated in Matplotlib 3.1 and will be removed in 3.3.\n",
      "In C:\\Users\\francescag\\AppData\\Local\\Continuum\\miniconda3\\lib\\site-packages\\matplotlib\\mpl-data\\stylelib\\_classic_test.mplstyle: \n",
      "The verbose.level rcparam was deprecated in Matplotlib 3.1 and will be removed in 3.3.\n",
      "In C:\\Users\\francescag\\AppData\\Local\\Continuum\\miniconda3\\lib\\site-packages\\matplotlib\\mpl-data\\stylelib\\_classic_test.mplstyle: \n",
      "The verbose.fileo rcparam was deprecated in Matplotlib 3.1 and will be removed in 3.3.\n"
     ]
    }
   ],
   "source": [
    "%load_ext autoreload\n",
    "%autoreload 2\n",
    "%matplotlib qt5\n",
    "# Add modules to the path\n",
    "import sys\n",
    "sys.path.insert(0, 'C:\\\\Users\\\\francescag\\\\Documents\\\\SourceTree_repos\\\\Python_git')\n",
    "sys.path.insert(0, 'C:\\\\Users\\\\francescag\\\\Documents\\\\SourceTree_repos')\n",
    "\n",
    "import joypy\n",
    "import copy\n",
    "import matplotlib.pyplot as plt\n",
    "import numpy as np\n",
    "import pandas as pd\n",
    "import numpy as np\n",
    "from scipy import stats\n",
    "import matplotlib.pyplot as plt\n",
    "from matplotlib import colors, cm\n"
   ]
  },
  {
   "cell_type": "code",
   "execution_count": 3,
   "metadata": {},
   "outputs": [],
   "source": [
    "mouse = 'SNL_photo15_rewards'\n",
    "date = '20200316'\n",
    "saving_folder = 'W:\\\\photometry_2AC\\\\processed_data\\\\' + mouse + '\\\\'\n",
    "demod_trace_filename = mouse + '_' + date + '_' + 'smoothed_signal.npy'\n",
    "restructured_data_filename = mouse + '_' + date + '_' + 'restructured_data.pkl'\n",
    "demod_signal = np.load(saving_folder + demod_trace_filename)\n",
    "trial_data = pd.read_pickle(saving_folder + restructured_data_filename) "
   ]
  },
  {
   "cell_type": "code",
   "execution_count": 4,
   "metadata": {},
   "outputs": [],
   "source": [
    "def get_photometry_around_event(all_trial_event_times, demodulated_trace, pre_window=2, post_window=2, sample_rate=10000):\n",
    "    num_events = len(all_trial_event_times)\n",
    "    event_photo_traces = np.zeros((num_events, sample_rate*(pre_window + post_window)))\n",
    "    for event_num, event_time in enumerate(all_trial_event_times):\n",
    "        try:\n",
    "            plot_start = int(event_time*sample_rate) - pre_window*sample_rate\n",
    "            plot_end = int(event_time*sample_rate) + post_window*sample_rate\n",
    "            if plot_end - plot_start != sample_rate*(pre_window + post_window):\n",
    "                print(event_time)\n",
    "                plot_start = plot_start + 1\n",
    "                print(plot_end - plot_start)\n",
    "            event_photo_traces[event_num, :] = demodulated_trace[plot_start:plot_end]\n",
    "        except: print(pre_window, event_time)\n",
    "    return event_photo_traces"
   ]
  },
  {
   "cell_type": "code",
   "execution_count": 10,
   "metadata": {},
   "outputs": [],
   "source": [
    "def get_mean_and_sem(trial_data, demod_signal):     \n",
    "    events_of_int = trial_data.loc[(trial_data['State type'] == 4)]\n",
    "        \n",
    "    event_times = events_of_int['Time start'].values\n",
    "    state_name = events_of_int['State name'].values[0]\n",
    "    event_photo_traces = get_photometry_around_event(event_times, demod_signal)        \n",
    "    event_photo_traces = get_photometry_around_event(event_times, demod_signal,  pre_window=5, post_window=5)\n",
    "    norm_traces = stats.zscore(event_photo_traces.T, axis=0)\n",
    "\n",
    "\n",
    "    sorted_traces = norm_traces.T\n",
    "\n",
    "    x_vals = np.linspace(-2, 2, norm_traces.shape[0], endpoint=True, retstep=False, dtype=None, axis=0)\n",
    "    y_vals = np.mean(sorted_traces, axis=0)\n",
    "    sem = np.std(sorted_traces, axis=0)\n",
    "    \n",
    "    return x_vals, y_vals, sem, sorted_traces\n"
   ]
  },
  {
   "cell_type": "code",
   "execution_count": 6,
   "metadata": {},
   "outputs": [],
   "source": [
    "def heat_map_and_mean(trial_data, demod_signal):\n",
    "    x_vals, y_vals, sem, sorted_traces = get_mean_and_sem(trial_data, demod_signal)\n",
    "    \n",
    "    num_state_types = trial_data['State type'].unique().shape[0]\n",
    "    fig, axs = plt.subplots(1, ncols=2, figsize=(10, 8))\n",
    "    fig.subplots_adjust(hspace=0.5, wspace=0.2)\n",
    "    \n",
    "    fig.text(0.06, 0.02, mouse + ' ' + date, fontsize=12)\n",
    "\n",
    "\n",
    "    axs[0].plot(x_vals, y_vals,lw=3,color='#3F888F')\n",
    "    axs[0].fill_between(x_vals, y_vals-sem, y_vals+sem, alpha=0.5, facecolor='#7FB5B5', linewidth=0)\n",
    "    \n",
    "    axs[0].axvline(0, color='k', linewidth=2)\n",
    "    axs[0].set_xlim([-2, 2])\n",
    "    axs[0].set_xlabel('Time (s)')\n",
    "    axs[0].set_ylabel('z-score')\n",
    "\n",
    "    heat_im = axs[1].imshow(sorted_traces, aspect='auto', extent=[-3, 3, sorted_traces.shape[0], 0], cmap='rainbow')\n",
    "    \n",
    "    axs[1].axvline(0, color='w', linewidth=2)\n",
    "    axs[1].tick_params(labelsize=10)\n",
    "    axs[1].set_xlim([-2,2])\n",
    "    axs[1].set_ylim([sorted_traces.shape[0], 0])\n",
    "    axs[1].set_xlabel('Time (s)')\n",
    "    axs[1].set_ylabel('Trial number (sorted)')\n",
    "    vmin = sorted_traces.min()\n",
    "    vmax = sorted_traces.max()\n",
    "    edge = max(abs(vmin), abs(vmax))\n",
    "    norm = colors.Normalize(vmin=vmin, vmax=vmax)\n",
    "    heat_im.set_norm(norm)\n",
    "    fig.colorbar(heat_im, ax=axs[1], orientation='horizontal', fraction=.1, label='z-score')\n",
    "    \n",
    "    axs[0].set_ylim(-2,4)\n",
    "    return sorted_traces"
   ]
  },
  {
   "cell_type": "code",
   "execution_count": 13,
   "metadata": {},
   "outputs": [],
   "source": [
    "events = heat_map_and_mean(trial_data, demod_signal)"
   ]
  },
  {
   "cell_type": "code",
   "execution_count": null,
   "metadata": {},
   "outputs": [],
   "source": []
  }
 ],
 "metadata": {
  "kernelspec": {
   "display_name": "Python 3",
   "language": "python",
   "name": "python3"
  },
  "language_info": {
   "codemirror_mode": {
    "name": "ipython",
    "version": 3
   },
   "file_extension": ".py",
   "mimetype": "text/x-python",
   "name": "python",
   "nbconvert_exporter": "python",
   "pygments_lexer": "ipython3",
   "version": "3.7.3"
  }
 },
 "nbformat": 4,
 "nbformat_minor": 2
}
