{
 "cells": [
  {
   "cell_type": "code",
   "execution_count": 1,
   "metadata": {},
   "outputs": [],
   "source": [
    "%matplotlib qt5\n",
    "import nptdms\n",
    "import matplotlib.pyplot as plt\n"
   ]
  },
  {
   "cell_type": "code",
   "execution_count": 2,
   "metadata": {},
   "outputs": [],
   "source": [
    "folder = \"/mnt/winstor/swc/sjones/users/Matt/photometry_2AC/freely_moving_photometry_data/SNL_photo58/20211208_10_59_07/\"\n",
    "data = nptdms.TdmsFile(folder + \"AI.tdms\")\n",
    "\n",
    "\n",
    "#data = nptdms.TdmsFile(\"W:\\\\photometry_2AC\\\\freely_moving_photometry_data\\\\SNL_photo2\\\\20190713_14_22_10\\\\AI.tdms\")"
   ]
  },
  {
   "cell_type": "code",
   "execution_count": 3,
   "metadata": {},
   "outputs": [
    {
     "name": "stderr",
     "output_type": "stream",
     "text": [
      "/home/matthew/miniconda3/envs/freely_moving_photometry_analysis/lib/python3.9/site-packages/nptdms/tdms.py:1097: UserWarning: 'TdmsFile.group_channels' is deprecated and will be removed in a future release. Use TdmsFile[group_name].channels().\n",
      "  warnings.warn(message)\n"
     ]
    }
   ],
   "source": [
    "chan_0 = data.group_channels('acq_task')[0].data\n",
    "led405 = data.group_channels('acq_task')[2].data\n",
    "led465 = data.group_channels('acq_task')[1].data\n",
    "clock = data.group_channels('acq_task')[3].data\n",
    "stim_trigger = data.group_channels('acq_task')[4].data\n"
   ]
  },
  {
   "cell_type": "code",
   "execution_count": 7,
   "metadata": {},
   "outputs": [
    {
     "data": {
      "text/plain": [
       "[<matplotlib.lines.Line2D at 0x7f38ac244cd0>]"
      ]
     },
     "execution_count": 7,
     "metadata": {},
     "output_type": "execute_result"
    }
   ],
   "source": [
    "plt.plot(stim_trigger)"
   ]
  },
  {
   "cell_type": "code",
   "execution_count": 8,
   "metadata": {},
   "outputs": [],
   "source": [
    "import numpy as np\n",
    "import scipy.signal\n",
    "\n",
    "\n",
    "def am_demodulate(\n",
    "    signal,\n",
    "    reference,\n",
    "    modulation_frequency,\n",
    "    sampling_rate=10000,\n",
    "    low_cut=15,\n",
    "    order=5,\n",
    "):\n",
    "\n",
    "    \"\"\"\n",
    "    demodulates photodetector input to get quadrature and in-phase components\n",
    "    :param signal:\n",
    "    :param reference:\n",
    "    :param modulation_frequency:\n",
    "    :param sampling_rate:\n",
    "    :param low_cut:\n",
    "    :param order:\n",
    "    :return:\n",
    "    \"\"\"\n",
    "    normalised_reference = reference - reference.mean()\n",
    "    samples_per_period = sampling_rate / modulation_frequency\n",
    "    samples_per_quarter_period = round(samples_per_period / 4)\n",
    "\n",
    "    shift_90_degrees = np.roll(\n",
    "        normalised_reference, samples_per_quarter_period\n",
    "    )\n",
    "\n",
    "    in_phase = signal * normalised_reference\n",
    "    in_phase_filtered = _apply_butterworth_lowpass_filter(\n",
    "        in_phase, low_cut_off=low_cut, fs=sampling_rate, order=order\n",
    "    )\n",
    "\n",
    "    quadrature = signal * shift_90_degrees\n",
    "    quadrature_filtered = _apply_butterworth_lowpass_filter(\n",
    "        quadrature, low_cut_off=low_cut, fs=sampling_rate, order=order\n",
    "    )\n",
    "\n",
    "    return quadrature_filtered, in_phase_filtered\n",
    "\n",
    "\n",
    "def _demodulate_quadrature(quadrature, in_phase):\n",
    "    return (quadrature ** 2 + in_phase ** 2) ** 0.5\n",
    "\n",
    "\n",
    "def _apply_butterworth_lowpass_filter(\n",
    "    demod_signal, low_cut_off=15, fs=10000, order=5\n",
    "):\n",
    "    w = low_cut_off / (fs / 2)  # Normalize the frequency\n",
    "    b, a = scipy.signal.butter(order, w, \"low\")\n",
    "    output = scipy.signal.filtfilt(b, a, demod_signal)\n",
    "    return output\n",
    "\n",
    "\n",
    "def demodulate(raw, ref_211, ref_531, sampling_rate):\n",
    "    \"\"\"\n",
    "    gets demodulated signals for 211hz and 531hz am modulated signal\n",
    "    :param raw:\n",
    "    :param ref_211:\n",
    "    :param ref_531:\n",
    "    :return:\n",
    "    \"\"\"\n",
    "\n",
    "    q211, i211 = am_demodulate(raw, ref_211, 211, sampling_rate=sampling_rate)\n",
    "    q531, i531 = am_demodulate(raw, ref_531, 531, sampling_rate=sampling_rate)\n",
    "    demodulated_211 = _demodulate_quadrature(q211, i211)\n",
    "    demodulated_531 = _demodulate_quadrature(q531, i531)\n",
    "\n",
    "    return demodulated_211, demodulated_531\n",
    "\n",
    "\n",
    "def lerner_deisseroth_preprocess(\n",
    "    photodetector_raw_data,\n",
    "    reference_channel_211hz,\n",
    "    reference_channel_531hz,\n",
    "    sampling_rate,\n",
    "):\n",
    "    \"\"\"\n",
    "    process data according to https://www.ncbi.nlm.nih.gov/pubmed/26232229 , supplement 11\n",
    "    :param photodetector_raw_data: the raw signal from the photodetector\n",
    "    :param reference_channel_211hz:  a copy of the reference signal sent to the signal LED (Ca2+ dependent)\n",
    "    :param reference_channel_531hz:  a copy of the reference signal sent to the background LED (Ca2+ independent)\n",
    "    :return: deltaF / F\n",
    "    \"\"\"\n",
    "    demodulated_211, demodulated_531 = demodulate(\n",
    "        photodetector_raw_data,\n",
    "        reference_channel_211hz,\n",
    "        reference_channel_531hz,\n",
    "        sampling_rate,\n",
    "    )\n",
    "\n",
    "    signal = _apply_butterworth_lowpass_filter(\n",
    "        demodulated_211, 2, sampling_rate, order=2\n",
    "    )\n",
    "    background = _apply_butterworth_lowpass_filter(\n",
    "        demodulated_531, 2, sampling_rate, order=2\n",
    "    )\n",
    "\n",
    "    regression_params = np.polyfit(background, signal, 1)\n",
    "    bg_fit = regression_params[0] * background + regression_params[1]\n",
    "\n",
    "    delta_f = (signal - bg_fit) / bg_fit\n",
    "    return signal, bg_fit, delta_f"
   ]
  },
  {
   "cell_type": "code",
   "execution_count": 9,
   "metadata": {},
   "outputs": [],
   "source": [
    "sig, back, df=lerner_deisseroth_preprocess(chan_0[50000:], led465[50000:], led405[50000:], 10000)"
   ]
  },
  {
   "cell_type": "code",
   "execution_count": 53,
   "metadata": {},
   "outputs": [
    {
     "data": {
      "text/plain": [
       "(2557500,)"
      ]
     },
     "execution_count": 53,
     "metadata": {},
     "output_type": "execute_result"
    }
   ],
   "source": [
    "np.pad(df, 50000).shape"
   ]
  },
  {
   "cell_type": "code",
   "execution_count": 10,
   "metadata": {},
   "outputs": [
    {
     "data": {
      "text/plain": [
       "[<matplotlib.lines.Line2D at 0x7f385c776280>]"
      ]
     },
     "execution_count": 10,
     "metadata": {},
     "output_type": "execute_result"
    }
   ],
   "source": [
    "plt.figure()\n",
    "plt.plot(sig[:40000000])\n",
    "plt.plot(back[:40000000])"
   ]
  },
  {
   "cell_type": "code",
   "execution_count": 54,
   "metadata": {},
   "outputs": [
    {
     "data": {
      "text/plain": [
       "[<matplotlib.lines.Line2D at 0x21cf6710>]"
      ]
     },
     "execution_count": 54,
     "metadata": {},
     "output_type": "execute_result"
    }
   ],
   "source": [
    "plt.plot(df[:30000000])"
   ]
  },
  {
   "cell_type": "code",
   "execution_count": 22,
   "metadata": {},
   "outputs": [
    {
     "data": {
      "text/plain": [
       "(38757500,)"
      ]
     },
     "execution_count": 22,
     "metadata": {},
     "output_type": "execute_result"
    }
   ],
   "source": [
    "df.shape"
   ]
  },
  {
   "cell_type": "code",
   "execution_count": 22,
   "metadata": {},
   "outputs": [],
   "source": [
    "demodulated_211, demodulated_531 = demodulate(chan_0, led465, led405, 10000)\n",
    "\n",
    "signal = _apply_butterworth_lowpass_filter(demodulated_211, 2, order=2)[25000:]\n",
    "background = _apply_butterworth_lowpass_filter(demodulated_531, 2, order=2)[25000:]"
   ]
  },
  {
   "cell_type": "code",
   "execution_count": 23,
   "metadata": {},
   "outputs": [
    {
     "data": {
      "text/plain": [
       "(-0.01, 0.03)"
      ]
     },
     "execution_count": 23,
     "metadata": {},
     "output_type": "execute_result"
    }
   ],
   "source": [
    "plt.figure()\n",
    "plt.plot(signal-np.mean(signal))\n",
    "plt.plot(background- np.mean(background))\n",
    "plt.ylim([-0.01,0.03])"
   ]
  },
  {
   "cell_type": "code",
   "execution_count": 16,
   "metadata": {},
   "outputs": [],
   "source": [
    "demod_trace_filename = 'signal.npy'\n",
    "background_filename = 'background.npy'\n",
    "df_filename = 'demod_signal.npy'\n",
    "np.save(folder + demod_trace_filename, signal)\n",
    "np.save(folder + background_filename, background)\n",
    "np.save(folder + df_filename, df)\n",
    "\n"
   ]
  },
  {
   "cell_type": "code",
   "execution_count": null,
   "metadata": {},
   "outputs": [],
   "source": []
  }
 ],
 "metadata": {
  "kernelspec": {
   "display_name": "Python 3 (ipykernel)",
   "language": "python",
   "name": "python3"
  },
  "language_info": {
   "codemirror_mode": {
    "name": "ipython",
    "version": 3
   },
   "file_extension": ".py",
   "mimetype": "text/x-python",
   "name": "python",
   "nbconvert_exporter": "python",
   "pygments_lexer": "ipython3",
   "version": "3.9.7"
  }
 },
 "nbformat": 4,
 "nbformat_minor": 2
}
