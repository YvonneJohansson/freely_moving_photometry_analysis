{
 "cells": [
  {
   "cell_type": "code",
   "execution_count": 1,
   "metadata": {},
   "outputs": [
    {
     "name": "stderr",
     "output_type": "stream",
     "text": [
      "In C:\\Users\\francescag\\AppData\\Local\\Continuum\\miniconda3\\lib\\site-packages\\matplotlib\\mpl-data\\stylelib\\_classic_test.mplstyle: \n",
      "The savefig.frameon rcparam was deprecated in Matplotlib 3.1 and will be removed in 3.3.\n",
      "In C:\\Users\\francescag\\AppData\\Local\\Continuum\\miniconda3\\lib\\site-packages\\matplotlib\\mpl-data\\stylelib\\_classic_test.mplstyle: \n",
      "The verbose.level rcparam was deprecated in Matplotlib 3.1 and will be removed in 3.3.\n",
      "In C:\\Users\\francescag\\AppData\\Local\\Continuum\\miniconda3\\lib\\site-packages\\matplotlib\\mpl-data\\stylelib\\_classic_test.mplstyle: \n",
      "The verbose.fileo rcparam was deprecated in Matplotlib 3.1 and will be removed in 3.3.\n"
     ]
    }
   ],
   "source": [
    "%load_ext autoreload\n",
    "%autoreload 2\n",
    "%matplotlib qt5\n",
    "# Add modules to the path\n",
    "import sys\n",
    "import os\n",
    "sys.path.insert(0, 'C:\\\\Users\\\\francescag\\\\Documents\\\\SourceTree_repos\\\\Python_git')\n",
    "sys.path.insert(0, 'C:\\\\Users\\\\francescag\\\\Documents\\\\SourceTree_repos')\n",
    "sys.path.insert(0, 'C:\\\\Users\\\\francescag\\\\Documents\\\\SourceTree_repos\\\\Python_git\\\\freely_moving_photometry_analysis')\n",
    "import peakutils\n",
    "from matplotlib import colors, cm\n",
    "from scipy.signal import decimate\n",
    "import copy\n",
    "import matplotlib.pyplot as plt\n",
    "import matplotlib\n",
    "import numpy as np\n",
    "import pandas as pd\n",
    "import seaborn as sns\n",
    "import pickle\n",
    "from utils.plotting import HeatMapParams\n",
    "from utils.plotting import heat_map_and_mean\n",
    "from utils.plotting import get_photometry_around_event\n",
    "from scipy import stats\n",
    "from utils.value_change_utils import open_experiment, CustomAlignedDataRewardBlocks, get_all_experimental_records, get_block_change_info, add_traces_and_peaks, plot_mean_trace_for_condition, one_session_get_block_changes"
   ]
  },
  {
   "cell_type": "code",
   "execution_count": 2,
   "metadata": {},
   "outputs": [],
   "source": [
    "root_directory = 'C:\\\\Users\\\\francescag\\\\Documents\\\\SourceTree_repos\\\\Python_git\\\\freely_moving_photometry_analysis\\\\utils\\\\'\n",
    "#figure_dir = 'W:\\\\photometry_2AC\\\\plots\\\\SNL_photo21_26\\\\value_change_experiment'\n",
    "figure_dir = 'W:\\\\photometry_2AC\\\\plots\\\\SNL_photo28_35\\\\value_change_experiment'\n",
    "processed_data_dir = os.path.join(root_directory, 'value_change_data')\n",
    "block_data_file = os.path.join(processed_data_dir, 'block_data_nacc_mice.csv')\n",
    "all_reward_block_data = pd.read_pickle(block_data_file)"
   ]
  },
  {
   "cell_type": "code",
   "execution_count": 6,
   "metadata": {},
   "outputs": [
    {
     "data": {
      "text/html": [
       "<div>\n",
       "<style scoped>\n",
       "    .dataframe tbody tr th:only-of-type {\n",
       "        vertical-align: middle;\n",
       "    }\n",
       "\n",
       "    .dataframe tbody tr th {\n",
       "        vertical-align: top;\n",
       "    }\n",
       "\n",
       "    .dataframe thead th {\n",
       "        text-align: right;\n",
       "    }\n",
       "</style>\n",
       "<table border=\"1\" class=\"dataframe\">\n",
       "  <thead>\n",
       "    <tr style=\"text-align: right;\">\n",
       "      <th></th>\n",
       "      <th>block number</th>\n",
       "      <th>trial number</th>\n",
       "      <th>peak size</th>\n",
       "      <th>relative reward amount</th>\n",
       "      <th>session</th>\n",
       "      <th>mouse</th>\n",
       "      <th>contra reward amount</th>\n",
       "      <th>traces</th>\n",
       "      <th>time points</th>\n",
       "    </tr>\n",
       "  </thead>\n",
       "  <tbody>\n",
       "    <tr>\n",
       "      <th>0</th>\n",
       "      <td>1.0</td>\n",
       "      <td>2.0</td>\n",
       "      <td>3.413520</td>\n",
       "      <td>-4.0</td>\n",
       "      <td>20201218</td>\n",
       "      <td>SNL_photo28</td>\n",
       "      <td>2.0</td>\n",
       "      <td>[2.2181186254609213, 2.217646941926041, 2.2171...</td>\n",
       "      <td>[-8.0, -7.999899999374996, -7.999799998749992,...</td>\n",
       "    </tr>\n",
       "    <tr>\n",
       "      <th>1</th>\n",
       "      <td>1.0</td>\n",
       "      <td>3.0</td>\n",
       "      <td>0.247170</td>\n",
       "      <td>-4.0</td>\n",
       "      <td>20201218</td>\n",
       "      <td>SNL_photo28</td>\n",
       "      <td>2.0</td>\n",
       "      <td>[0.8192272556469181, 0.8191840278242005, 0.819...</td>\n",
       "      <td>[-8.0, -7.999899999374996, -7.999799998749992,...</td>\n",
       "    </tr>\n",
       "    <tr>\n",
       "      <th>2</th>\n",
       "      <td>1.0</td>\n",
       "      <td>4.0</td>\n",
       "      <td>0.599085</td>\n",
       "      <td>-4.0</td>\n",
       "      <td>20201218</td>\n",
       "      <td>SNL_photo28</td>\n",
       "      <td>2.0</td>\n",
       "      <td>[-1.4097600488294875, -1.4099399680014688, -1....</td>\n",
       "      <td>[-8.0, -7.999899999374996, -7.999799998749992,...</td>\n",
       "    </tr>\n",
       "    <tr>\n",
       "      <th>3</th>\n",
       "      <td>1.0</td>\n",
       "      <td>5.0</td>\n",
       "      <td>2.727565</td>\n",
       "      <td>-4.0</td>\n",
       "      <td>20201218</td>\n",
       "      <td>SNL_photo28</td>\n",
       "      <td>2.0</td>\n",
       "      <td>[1.8196138715412018, 1.8195591109368123, 1.819...</td>\n",
       "      <td>[-8.0, -7.999899999374996, -7.999799998749992,...</td>\n",
       "    </tr>\n",
       "    <tr>\n",
       "      <th>4</th>\n",
       "      <td>1.0</td>\n",
       "      <td>6.0</td>\n",
       "      <td>2.433758</td>\n",
       "      <td>-4.0</td>\n",
       "      <td>20201218</td>\n",
       "      <td>SNL_photo28</td>\n",
       "      <td>2.0</td>\n",
       "      <td>[-0.3130371907154529, -0.31281892105840314, -0...</td>\n",
       "      <td>[-8.0, -7.999899999374996, -7.999799998749992,...</td>\n",
       "    </tr>\n",
       "    <tr>\n",
       "      <th>...</th>\n",
       "      <td>...</td>\n",
       "      <td>...</td>\n",
       "      <td>...</td>\n",
       "      <td>...</td>\n",
       "      <td>...</td>\n",
       "      <td>...</td>\n",
       "      <td>...</td>\n",
       "      <td>...</td>\n",
       "      <td>...</td>\n",
       "    </tr>\n",
       "    <tr>\n",
       "      <th>571</th>\n",
       "      <td>5.0</td>\n",
       "      <td>290.0</td>\n",
       "      <td>1.129411</td>\n",
       "      <td>4.0</td>\n",
       "      <td>20201218</td>\n",
       "      <td>SNL_photo31</td>\n",
       "      <td>6.0</td>\n",
       "      <td>[0.8058008521634317, 0.8065799400496406, 0.807...</td>\n",
       "      <td>[-8.0, -7.999899999374996, -7.999799998749992,...</td>\n",
       "    </tr>\n",
       "    <tr>\n",
       "      <th>572</th>\n",
       "      <td>5.0</td>\n",
       "      <td>294.0</td>\n",
       "      <td>2.172790</td>\n",
       "      <td>4.0</td>\n",
       "      <td>20201218</td>\n",
       "      <td>SNL_photo31</td>\n",
       "      <td>6.0</td>\n",
       "      <td>[-1.0082814527300497, -1.0080715658442887, -1....</td>\n",
       "      <td>[-8.0, -7.999899999374996, -7.999799998749992,...</td>\n",
       "    </tr>\n",
       "    <tr>\n",
       "      <th>573</th>\n",
       "      <td>5.0</td>\n",
       "      <td>295.0</td>\n",
       "      <td>0.440540</td>\n",
       "      <td>4.0</td>\n",
       "      <td>20201218</td>\n",
       "      <td>SNL_photo31</td>\n",
       "      <td>6.0</td>\n",
       "      <td>[0.6246871072985419, 0.6244691700782977, 0.624...</td>\n",
       "      <td>[-8.0, -7.999899999374996, -7.999799998749992,...</td>\n",
       "    </tr>\n",
       "    <tr>\n",
       "      <th>574</th>\n",
       "      <td>5.0</td>\n",
       "      <td>296.0</td>\n",
       "      <td>2.607107</td>\n",
       "      <td>4.0</td>\n",
       "      <td>20201218</td>\n",
       "      <td>SNL_photo31</td>\n",
       "      <td>6.0</td>\n",
       "      <td>[-0.6303309960346045, -0.6307100415940298, -0....</td>\n",
       "      <td>[-8.0, -7.999899999374996, -7.999799998749992,...</td>\n",
       "    </tr>\n",
       "    <tr>\n",
       "      <th>575</th>\n",
       "      <td>5.0</td>\n",
       "      <td>297.0</td>\n",
       "      <td>2.771904</td>\n",
       "      <td>4.0</td>\n",
       "      <td>20201218</td>\n",
       "      <td>SNL_photo31</td>\n",
       "      <td>6.0</td>\n",
       "      <td>[-0.2022190588080265, -0.20178158239531976, -0...</td>\n",
       "      <td>[-8.0, -7.999899999374996, -7.999799998749992,...</td>\n",
       "    </tr>\n",
       "  </tbody>\n",
       "</table>\n",
       "<p>576 rows × 9 columns</p>\n",
       "</div>"
      ],
      "text/plain": [
       "     block number  trial number  peak size  relative reward amount   session  \\\n",
       "0             1.0           2.0   3.413520                    -4.0  20201218   \n",
       "1             1.0           3.0   0.247170                    -4.0  20201218   \n",
       "2             1.0           4.0   0.599085                    -4.0  20201218   \n",
       "3             1.0           5.0   2.727565                    -4.0  20201218   \n",
       "4             1.0           6.0   2.433758                    -4.0  20201218   \n",
       "..            ...           ...        ...                     ...       ...   \n",
       "571           5.0         290.0   1.129411                     4.0  20201218   \n",
       "572           5.0         294.0   2.172790                     4.0  20201218   \n",
       "573           5.0         295.0   0.440540                     4.0  20201218   \n",
       "574           5.0         296.0   2.607107                     4.0  20201218   \n",
       "575           5.0         297.0   2.771904                     4.0  20201218   \n",
       "\n",
       "           mouse  contra reward amount  \\\n",
       "0    SNL_photo28                   2.0   \n",
       "1    SNL_photo28                   2.0   \n",
       "2    SNL_photo28                   2.0   \n",
       "3    SNL_photo28                   2.0   \n",
       "4    SNL_photo28                   2.0   \n",
       "..           ...                   ...   \n",
       "571  SNL_photo31                   6.0   \n",
       "572  SNL_photo31                   6.0   \n",
       "573  SNL_photo31                   6.0   \n",
       "574  SNL_photo31                   6.0   \n",
       "575  SNL_photo31                   6.0   \n",
       "\n",
       "                                                traces  \\\n",
       "0    [2.2181186254609213, 2.217646941926041, 2.2171...   \n",
       "1    [0.8192272556469181, 0.8191840278242005, 0.819...   \n",
       "2    [-1.4097600488294875, -1.4099399680014688, -1....   \n",
       "3    [1.8196138715412018, 1.8195591109368123, 1.819...   \n",
       "4    [-0.3130371907154529, -0.31281892105840314, -0...   \n",
       "..                                                 ...   \n",
       "571  [0.8058008521634317, 0.8065799400496406, 0.807...   \n",
       "572  [-1.0082814527300497, -1.0080715658442887, -1....   \n",
       "573  [0.6246871072985419, 0.6244691700782977, 0.624...   \n",
       "574  [-0.6303309960346045, -0.6307100415940298, -0....   \n",
       "575  [-0.2022190588080265, -0.20178158239531976, -0...   \n",
       "\n",
       "                                           time points  \n",
       "0    [-8.0, -7.999899999374996, -7.999799998749992,...  \n",
       "1    [-8.0, -7.999899999374996, -7.999799998749992,...  \n",
       "2    [-8.0, -7.999899999374996, -7.999799998749992,...  \n",
       "3    [-8.0, -7.999899999374996, -7.999799998749992,...  \n",
       "4    [-8.0, -7.999899999374996, -7.999799998749992,...  \n",
       "..                                                 ...  \n",
       "571  [-8.0, -7.999899999374996, -7.999799998749992,...  \n",
       "572  [-8.0, -7.999899999374996, -7.999799998749992,...  \n",
       "573  [-8.0, -7.999899999374996, -7.999799998749992,...  \n",
       "574  [-8.0, -7.999899999374996, -7.999799998749992,...  \n",
       "575  [-8.0, -7.999899999374996, -7.999799998749992,...  \n",
       "\n",
       "[576 rows x 9 columns]"
      ]
     },
     "execution_count": 6,
     "metadata": {},
     "output_type": "execute_result"
    }
   ],
   "source": [
    "all_reward_block_data"
   ]
  },
  {
   "cell_type": "code",
   "execution_count": 17,
   "metadata": {},
   "outputs": [
    {
     "name": "stderr",
     "output_type": "stream",
     "text": [
      "Bootstrapping...: 100%|████████████████████| 1000/1000 [00:33<00:00, 29.66it/s]\n",
      "Bootstrapping...: 100%|████████████████████| 1000/1000 [00:11<00:00, 86.20it/s]\n",
      "Bootstrapping...: 100%|████████████████████| 1000/1000 [00:16<00:00, 61.72it/s]\n",
      "Bootstrapping...: 100%|███████████████████| 1000/1000 [00:06<00:00, 159.01it/s]\n",
      "Bootstrapping...: 100%|████████████████████| 1000/1000 [00:11<00:00, 90.61it/s]\n",
      "Bootstrapping...: 100%|████████████████████| 1000/1000 [00:15<00:00, 63.67it/s]\n",
      "Bootstrapping...: 100%|████████████████████| 1000/1000 [00:11<00:00, 86.38it/s]\n",
      "Bootstrapping...: 100%|████████████████████| 1000/1000 [00:16<00:00, 61.50it/s]\n"
     ]
    }
   ],
   "source": [
    "timepoints = all_reward_block_data['time points'].iloc[0]\n",
    "font = {'size'   : 12}\n",
    "\n",
    "matplotlib.rc('font', **font)\n",
    "\n",
    "mouse_name = 'SNL_photo32'\n",
    "\n",
    "fig, ax = plt.subplots(2,1) #, figsize=(10,16))\n",
    "plot_mean_trace_for_condition(ax[0], all_reward_block_data[all_reward_block_data['mouse'] == mouse_name], timepoints,\n",
    "                              'contra reward amount', error_bar_method='ci', save_location=processed_data_dir)\n",
    "lg1 = ax[0].legend(title='Absolute value (ul)',bbox_to_anchor=(1., .8, .15,.2), loc='upper left')\n",
    "plot_mean_trace_for_condition(ax[1], all_reward_block_data[all_reward_block_data['mouse'] == mouse_name], timepoints,\n",
    "                              'relative reward amount', error_bar_method = 'ci', save_location=processed_data_dir)\n",
    "lg2 = ax[1].legend(title='Relative value (ul)',bbox_to_anchor=(1., .8, .15,.2), loc='upper left')\n",
    "\n",
    "plt.tight_layout()\n",
    "\n",
    "\n",
    "plt.savefig(os.path.join(figure_dir, 'example_mouse{}.pdf'.format(mouse_name)))\n"
   ]
  },
  {
   "cell_type": "code",
   "execution_count": 10,
   "metadata": {},
   "outputs": [],
   "source": [
    "df1 = all_reward_block_data[['mouse','trial number','session','contra reward amount', 'peak size']]\n",
    "df1 = df1.pivot_table(index=['mouse', 'contra reward amount'], values=['peak size'], aggfunc=np.nanmean)\n",
    "df1 = df1.reset_index()\n",
    "slope, intercept, r_val, p_val1, std_error = stats.linregress(df1['contra reward amount'], \n",
    "                                                             df1['peak size'])"
   ]
  },
  {
   "cell_type": "code",
   "execution_count": 11,
   "metadata": {},
   "outputs": [],
   "source": [
    "df2 = all_reward_block_data[['mouse','trial number','session','relative reward amount', 'peak size']]\n",
    "df2 = df2.pivot_table(index=['mouse', 'relative reward amount'], values=['peak size'], aggfunc=np.nanmean)\n",
    "df2 = df2.reset_index()\n",
    "slope, intercept, r_val, p_val2, std_error = stats.linregress(df2['relative reward amount'], \n",
    "                                                             df2['peak size'])\n"
   ]
  },
  {
   "cell_type": "code",
   "execution_count": 12,
   "metadata": {},
   "outputs": [],
   "source": [
    "font = {'size'   : 14}\n",
    "matplotlib.rc('font', **font)\n",
    "\n",
    "fig, axs = plt.subplots(2,1)\n",
    "condition1 = 'contra reward amount'\n",
    "sns.lineplot(ax=axs[0], x=condition1, y='peak size', data=df1, err_style='bars')\n",
    "axs[0].text(4.5, 1.195, 'p-value = {0:.3f}'.format(p_val1))\n",
    "\n",
    "condition2 = 'relative reward amount'\n",
    "sns.lineplot(ax=axs[1], x=condition2, y='peak size', data=df2, err_style='bars')\n",
    "axs[1].text(1.5, 1.3,'p-value = {0:.3f}'.format(p_val2))\n",
    "\n",
    "for ax in axs:\n",
    "    ax.spines['right'].set_visible(False)\n",
    "    ax.spines['top'].set_visible(False)\n",
    "    ax.set_ylabel('response (z-score)')\n",
    "axs[0].set_xlabel('absolute value (ul)')\n",
    "axs[1].set_xlabel('relative value (ul)')\n",
    "plt.tight_layout()\n",
    "plt.savefig(os.path.join(figure_dir, 'group_data_peaks_vs_value.pdf'))"
   ]
  },
  {
   "cell_type": "code",
   "execution_count": 13,
   "metadata": {},
   "outputs": [],
   "source": [
    "plt.tight_layout()"
   ]
  },
  {
   "cell_type": "code",
   "execution_count": 14,
   "metadata": {},
   "outputs": [
    {
     "name": "stderr",
     "output_type": "stream",
     "text": [
      "No handles with labels found to put in legend.\n"
     ]
    },
    {
     "data": {
      "text/plain": [
       "<matplotlib.legend.Legend at 0x1d6b8470>"
      ]
     },
     "execution_count": 14,
     "metadata": {},
     "output_type": "execute_result"
    }
   ],
   "source": [
    "colours = cm.inferno(np.linspace(0, 1, 5))\n",
    "fig, ax = plt.subplots(1,1)\n",
    "for trial_type in range(1,6):\n",
    "    try:\n",
    "        one_side_data = all_reward_block_data[trial_type-1].contra_data\n",
    "        mean_trace = decimate(one_side_data.mean_trace, 10)\n",
    "        time_points = decimate(one_side_data.time_points, 10)\n",
    "        traces = decimate(one_side_data.sorted_traces, 10)\n",
    "        ax.plot(time_points, mean_trace, lw=1.5, color=colours[trial_type-1], label= trial_type)\n",
    "        ax.axvline(0, color='k')\n",
    "    except:\n",
    "        pass\n",
    "plt.legend()\n"
   ]
  },
  {
   "cell_type": "code",
   "execution_count": 3,
   "metadata": {},
   "outputs": [],
   "source": [
    "block_types = pd.DataFrame({'block type': [1, 2, 3, 4, 5], 'left reward': [6, 4, 2, 2, 2], 'right reward': [2, 2, 2, 4, 6]})"
   ]
  },
  {
   "cell_type": "code",
   "execution_count": 103,
   "metadata": {},
   "outputs": [
    {
     "name": "stdout",
     "output_type": "stream",
     "text": [
      "(106, 160000)\n",
      "(186, 160000)\n",
      "(220, 160000)\n"
     ]
    }
   ],
   "source": [
    "mouse_id = 'SNL_photo21'\n",
    "sessions = ['20200917', '20200918', '20200921']\n",
    "for session_num, date in enumerate(sessions):\n",
    "    block_change_info, timepoints = one_session_get_block_changes(mouse_id, date, block_types)\n",
    "    if session_num == 0:\n",
    "        all_block_changes = block_change_info\n",
    "    else:\n",
    "         all_block_changes = pd.concat([all_block_changes,block_change_info], ignore_index=True)"
   ]
  },
  {
   "cell_type": "code",
   "execution_count": 106,
   "metadata": {
    "scrolled": true
   },
   "outputs": [
    {
     "name": "stdout",
     "output_type": "stream",
     "text": [
      "(28,)\n",
      "(12,)\n",
      "(12,)\n",
      "(10,)\n",
      "(14,)\n",
      "(8,)\n",
      "(10,)\n",
      "(10,)\n",
      "(14,)\n",
      "(6,)\n",
      "(8,)\n",
      "(12,)\n",
      "(12,)\n",
      "(5,)\n",
      "(6,)\n",
      "(8,)\n",
      "(10,)\n",
      "(6,)\n",
      "(5,)\n",
      "(5,)\n",
      "(7,)\n"
     ]
    }
   ],
   "source": [
    "plot_mean_trace_for_condition(all_block_changes, timepoints, 'new reward amounts')\n",
    "plot_mean_trace_for_condition(all_block_changes, timepoints, 'change in reward amounts')\n",
    "plot_mean_trace_for_condition(all_block_changes, timepoints, 'new relative value')\n",
    "plot_mean_trace_for_condition(all_block_changes, timepoints, 'change in relative value')"
   ]
  },
  {
   "cell_type": "code",
   "execution_count": 29,
   "metadata": {},
   "outputs": [
    {
     "data": {
      "text/plain": [
       "<matplotlib.axes._subplots.AxesSubplot at 0x34c01048>"
      ]
     },
     "execution_count": 29,
     "metadata": {},
     "output_type": "execute_result"
    }
   ],
   "source": [
    "fig, axs = plt.subplots(nrows=2,ncols=2)\n",
    "sns.pointplot(x='new reward amounts', y='peak size', data=all_block_changes, ax=axs[0,0], ci='sd')\n",
    "sns.pointplot(x='change in reward amounts', y='peak size', data=block_change_info, ax=axs[0,1], ci='sd')\n",
    "sns.pointplot(x='new relative value', y='peak size', data=block_change_info, ax=axs[1,0], ci='sd')\n",
    "sns.pointplot(x='change in relative value', y='peak size', data=block_change_info, ax=axs[1,1], ci='sd')"
   ]
  },
  {
   "cell_type": "code",
   "execution_count": 65,
   "metadata": {},
   "outputs": [
    {
     "name": "stdout",
     "output_type": "stream",
     "text": [
      "0.8719974503007026 0.8838530247845447\n",
      "0.734418515406605 0.5818760037034908\n",
      "1.3165566302983154 1.1614116229862628\n",
      "0.7800667694836998 0.663554277871089\n",
      "0.8304953025800229 0.5631001717818181\n"
     ]
    }
   ],
   "source": [
    "colours = cm.inferno(np.linspace(0,1, 5))\n",
    "fig2, ax = plt.subplots(1,3)\n",
    "for trial_type in range(1,6):\n",
    "    try:\n",
    "        one_side_data = all_reward_block_data[trial_type-1].contra_data\n",
    "        x_vals = np.ones([len(one_side_data.trial_peaks)])*trial_type\n",
    "        ax[0].hist(one_side_data.trial_peaks, color=colours[trial_type-1], alpha=0.4)\n",
    "        ax[1].scatter(trial_type, np.mean(one_side_data.trial_peaks), color=colours[trial_type-1])\n",
    "        ax[1].set_ylabel('Mean peak')\n",
    "        ax[2].scatter(trial_type, np.median(one_side_data.trial_peaks), color=colours[trial_type-1])\n",
    "        ax[2].set_ylabel('Median peak')\n",
    "        print(np.mean(one_side_data.trial_peaks), np.median(one_side_data.trial_peaks))\n",
    "    except:\n",
    "        pass"
   ]
  },
  {
   "cell_type": "code",
   "execution_count": 217,
   "metadata": {},
   "outputs": [
    {
     "data": {
      "text/plain": [
       "0.15315428214827714"
      ]
     },
     "execution_count": 217,
     "metadata": {},
     "output_type": "execute_result"
    }
   ],
   "source": [
    "np.median(np.asarray(all_trial_type_data[-2].contra_data.trial_peaks)/4)"
   ]
  },
  {
   "cell_type": "code",
   "execution_count": null,
   "metadata": {},
   "outputs": [],
   "source": [
    "np.median(np.asarray(all_trial_type_data[-2].contra_data.trial_peaks)/4)"
   ]
  },
  {
   "cell_type": "code",
   "execution_count": 209,
   "metadata": {},
   "outputs": [
    {
     "data": {
      "text/plain": [
       "array([0.14386391, 0.36703822, 0.03294286, 0.67309225, 0.1799292 ,\n",
       "       0.26867563, 0.06190406])"
      ]
     },
     "execution_count": 209,
     "metadata": {},
     "output_type": "execute_result"
    }
   ],
   "source": [
    "np.asarray(one_side_data.trial_peaks)/4"
   ]
  },
  {
   "cell_type": "code",
   "execution_count": 199,
   "metadata": {},
   "outputs": [
    {
     "data": {
      "text/plain": [
       "0.46637622"
      ]
     },
     "execution_count": 199,
     "metadata": {},
     "output_type": "execute_result"
    }
   ],
   "source": [
    "np.median([0.13636681, 0.46637622, 0.51340394])"
   ]
  },
  {
   "cell_type": "code",
   "execution_count": 207,
   "metadata": {},
   "outputs": [
    {
     "data": {
      "text/plain": [
       "0.5444297804051131"
      ]
     },
     "execution_count": 207,
     "metadata": {},
     "output_type": "execute_result"
    }
   ],
   "source": [
    "np.median(np.concatenate([np.asarray(one_side_data.trial_peaks),np.asarray([0.13636681, 0.46637622, 0.51340394])]))"
   ]
  },
  {
   "cell_type": "code",
   "execution_count": null,
   "metadata": {},
   "outputs": [],
   "source": []
  }
 ],
 "metadata": {
  "kernelspec": {
   "display_name": "Python 3",
   "language": "python",
   "name": "python3"
  },
  "language_info": {
   "codemirror_mode": {
    "name": "ipython",
    "version": 3
   },
   "file_extension": ".py",
   "mimetype": "text/x-python",
   "name": "python",
   "nbconvert_exporter": "python",
   "pygments_lexer": "ipython3",
   "version": "3.7.3"
  }
 },
 "nbformat": 4,
 "nbformat_minor": 4
}
