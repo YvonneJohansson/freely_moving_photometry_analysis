{
 "cells": [
  {
   "cell_type": "code",
   "execution_count": 1,
   "metadata": {},
   "outputs": [
    {
     "name": "stderr",
     "output_type": "stream",
     "text": [
      "In C:\\Users\\francescag\\AppData\\Local\\Continuum\\miniconda3\\lib\\site-packages\\matplotlib\\mpl-data\\stylelib\\_classic_test.mplstyle: \n",
      "The savefig.frameon rcparam was deprecated in Matplotlib 3.1 and will be removed in 3.3.\n",
      "In C:\\Users\\francescag\\AppData\\Local\\Continuum\\miniconda3\\lib\\site-packages\\matplotlib\\mpl-data\\stylelib\\_classic_test.mplstyle: \n",
      "The verbose.level rcparam was deprecated in Matplotlib 3.1 and will be removed in 3.3.\n",
      "In C:\\Users\\francescag\\AppData\\Local\\Continuum\\miniconda3\\lib\\site-packages\\matplotlib\\mpl-data\\stylelib\\_classic_test.mplstyle: \n",
      "The verbose.fileo rcparam was deprecated in Matplotlib 3.1 and will be removed in 3.3.\n"
     ]
    }
   ],
   "source": [
    "%load_ext autoreload\n",
    "%autoreload 2\n",
    "%matplotlib qt5\n",
    "# Add modules to the path\n",
    "import sys\n",
    "import os\n",
    "sys.path.insert(0, 'C:\\\\Users\\\\francescag\\\\Documents\\\\SourceTree_repos\\\\Python_git')\n",
    "sys.path.insert(0, 'C:\\\\Users\\\\francescag\\\\Documents\\\\SourceTree_repos')\n",
    "sys.path.insert(0, 'C:\\\\Users\\\\francescag\\\\Documents\\\\SourceTree_repos\\\\Python_git\\\\freely_moving_photometry_analysis')\n",
    "import peakutils\n",
    "from matplotlib import colors, cm\n",
    "from scipy.signal import decimate\n",
    "import copy\n",
    "import matplotlib.pyplot as plt\n",
    "import matplotlib\n",
    "import numpy as np\n",
    "import pandas as pd\n",
    "import seaborn as sns\n",
    "import pickle\n",
    "from utils.plotting import HeatMapParams\n",
    "from utils.plotting import heat_map_and_mean\n",
    "from utils.plotting import get_photometry_around_event\n",
    "from scipy import stats\n",
    "from utils.value_change_utils import open_experiment, CustomAlignedDataRewardBlocks, get_all_experimental_records, get_block_change_info, add_traces_and_peaks, plot_mean_trace_for_condition, one_session_get_block_changes"
   ]
  },
  {
   "cell_type": "code",
   "execution_count": 4,
   "metadata": {},
   "outputs": [
    {
     "ename": "FileNotFoundError",
     "evalue": "[Errno 2] No such file or directory: 'C:\\\\Users\\\\francescag\\\\Documents\\\\SourceTree_repos\\\\Python_git\\\\freely_moving_photometry_analysis\\\\utils\\\\value_change_data\\\\block_data_SNL_photo25.csv'",
     "output_type": "error",
     "traceback": [
      "\u001b[1;31m---------------------------------------------------------------------------\u001b[0m",
      "\u001b[1;31mFileNotFoundError\u001b[0m                         Traceback (most recent call last)",
      "\u001b[1;32m<ipython-input-4-48243d0315b7>\u001b[0m in \u001b[0;36m<module>\u001b[1;34m\u001b[0m\n\u001b[0;32m      3\u001b[0m \u001b[0mprocessed_data_dir\u001b[0m \u001b[1;33m=\u001b[0m \u001b[0mos\u001b[0m\u001b[1;33m.\u001b[0m\u001b[0mpath\u001b[0m\u001b[1;33m.\u001b[0m\u001b[0mjoin\u001b[0m\u001b[1;33m(\u001b[0m\u001b[0mroot_directory\u001b[0m\u001b[1;33m,\u001b[0m \u001b[1;34m'value_change_data'\u001b[0m\u001b[1;33m)\u001b[0m\u001b[1;33m\u001b[0m\u001b[1;33m\u001b[0m\u001b[0m\n\u001b[0;32m      4\u001b[0m \u001b[0mblock_data_file\u001b[0m \u001b[1;33m=\u001b[0m \u001b[0mos\u001b[0m\u001b[1;33m.\u001b[0m\u001b[0mpath\u001b[0m\u001b[1;33m.\u001b[0m\u001b[0mjoin\u001b[0m\u001b[1;33m(\u001b[0m\u001b[0mprocessed_data_dir\u001b[0m\u001b[1;33m,\u001b[0m \u001b[1;34m'block_data_SNL_photo25.csv'\u001b[0m\u001b[1;33m)\u001b[0m\u001b[1;33m\u001b[0m\u001b[1;33m\u001b[0m\u001b[0m\n\u001b[1;32m----> 5\u001b[1;33m \u001b[0mall_reward_block_data\u001b[0m \u001b[1;33m=\u001b[0m \u001b[0mpd\u001b[0m\u001b[1;33m.\u001b[0m\u001b[0mread_pickle\u001b[0m\u001b[1;33m(\u001b[0m\u001b[0mblock_data_file\u001b[0m\u001b[1;33m)\u001b[0m\u001b[1;33m\u001b[0m\u001b[1;33m\u001b[0m\u001b[0m\n\u001b[0m",
      "\u001b[1;32m~\\AppData\\Local\\Continuum\\miniconda3\\lib\\site-packages\\pandas\\io\\pickle.py\u001b[0m in \u001b[0;36mread_pickle\u001b[1;34m(filepath_or_buffer, compression)\u001b[0m\n\u001b[0;32m    168\u001b[0m     \u001b[1;32mif\u001b[0m \u001b[1;32mnot\u001b[0m \u001b[0misinstance\u001b[0m\u001b[1;33m(\u001b[0m\u001b[0mfp_or_buf\u001b[0m\u001b[1;33m,\u001b[0m \u001b[0mstr\u001b[0m\u001b[1;33m)\u001b[0m \u001b[1;32mand\u001b[0m \u001b[0mcompression\u001b[0m \u001b[1;33m==\u001b[0m \u001b[1;34m\"infer\"\u001b[0m\u001b[1;33m:\u001b[0m\u001b[1;33m\u001b[0m\u001b[1;33m\u001b[0m\u001b[0m\n\u001b[0;32m    169\u001b[0m         \u001b[0mcompression\u001b[0m \u001b[1;33m=\u001b[0m \u001b[1;32mNone\u001b[0m\u001b[1;33m\u001b[0m\u001b[1;33m\u001b[0m\u001b[0m\n\u001b[1;32m--> 170\u001b[1;33m     \u001b[0mf\u001b[0m\u001b[1;33m,\u001b[0m \u001b[0mfh\u001b[0m \u001b[1;33m=\u001b[0m \u001b[0mget_handle\u001b[0m\u001b[1;33m(\u001b[0m\u001b[0mfp_or_buf\u001b[0m\u001b[1;33m,\u001b[0m \u001b[1;34m\"rb\"\u001b[0m\u001b[1;33m,\u001b[0m \u001b[0mcompression\u001b[0m\u001b[1;33m=\u001b[0m\u001b[0mcompression\u001b[0m\u001b[1;33m,\u001b[0m \u001b[0mis_text\u001b[0m\u001b[1;33m=\u001b[0m\u001b[1;32mFalse\u001b[0m\u001b[1;33m)\u001b[0m\u001b[1;33m\u001b[0m\u001b[1;33m\u001b[0m\u001b[0m\n\u001b[0m\u001b[0;32m    171\u001b[0m \u001b[1;33m\u001b[0m\u001b[0m\n\u001b[0;32m    172\u001b[0m     \u001b[1;31m# 1) try standard library Pickle\u001b[0m\u001b[1;33m\u001b[0m\u001b[1;33m\u001b[0m\u001b[1;33m\u001b[0m\u001b[0m\n",
      "\u001b[1;32m~\\AppData\\Local\\Continuum\\miniconda3\\lib\\site-packages\\pandas\\io\\common.py\u001b[0m in \u001b[0;36mget_handle\u001b[1;34m(path_or_buf, mode, encoding, compression, memory_map, is_text)\u001b[0m\n\u001b[0;32m    432\u001b[0m         \u001b[1;32melse\u001b[0m\u001b[1;33m:\u001b[0m\u001b[1;33m\u001b[0m\u001b[1;33m\u001b[0m\u001b[0m\n\u001b[0;32m    433\u001b[0m             \u001b[1;31m# Binary mode\u001b[0m\u001b[1;33m\u001b[0m\u001b[1;33m\u001b[0m\u001b[1;33m\u001b[0m\u001b[0m\n\u001b[1;32m--> 434\u001b[1;33m             \u001b[0mf\u001b[0m \u001b[1;33m=\u001b[0m \u001b[0mopen\u001b[0m\u001b[1;33m(\u001b[0m\u001b[0mpath_or_buf\u001b[0m\u001b[1;33m,\u001b[0m \u001b[0mmode\u001b[0m\u001b[1;33m)\u001b[0m\u001b[1;33m\u001b[0m\u001b[1;33m\u001b[0m\u001b[0m\n\u001b[0m\u001b[0;32m    435\u001b[0m         \u001b[0mhandles\u001b[0m\u001b[1;33m.\u001b[0m\u001b[0mappend\u001b[0m\u001b[1;33m(\u001b[0m\u001b[0mf\u001b[0m\u001b[1;33m)\u001b[0m\u001b[1;33m\u001b[0m\u001b[1;33m\u001b[0m\u001b[0m\n\u001b[0;32m    436\u001b[0m \u001b[1;33m\u001b[0m\u001b[0m\n",
      "\u001b[1;31mFileNotFoundError\u001b[0m: [Errno 2] No such file or directory: 'C:\\\\Users\\\\francescag\\\\Documents\\\\SourceTree_repos\\\\Python_git\\\\freely_moving_photometry_analysis\\\\utils\\\\value_change_data\\\\block_data_SNL_photo25.csv'"
     ]
    }
   ],
   "source": [
    "root_directory = 'C:\\\\Users\\\\francescag\\\\Documents\\\\SourceTree_repos\\\\Python_git\\\\freely_moving_photometry_analysis\\\\utils\\\\'\n",
    "figure_dir = 'W:\\\\photometry_2AC\\\\plots\\\\SNL_photo21_26\\\\value_change_experiment'\n",
    "processed_data_dir = os.path.join(root_directory, 'value_change_data')\n",
    "block_data_file = os.path.join(processed_data_dir, 'block_data_all_mice.csv')\n",
    "all_reward_block_data = pd.read_pickle(block_data_file)"
   ]
  },
  {
   "cell_type": "code",
   "execution_count": 3,
   "metadata": {},
   "outputs": [
    {
     "data": {
      "text/html": [
       "<div>\n",
       "<style scoped>\n",
       "    .dataframe tbody tr th:only-of-type {\n",
       "        vertical-align: middle;\n",
       "    }\n",
       "\n",
       "    .dataframe tbody tr th {\n",
       "        vertical-align: top;\n",
       "    }\n",
       "\n",
       "    .dataframe thead th {\n",
       "        text-align: right;\n",
       "    }\n",
       "</style>\n",
       "<table border=\"1\" class=\"dataframe\">\n",
       "  <thead>\n",
       "    <tr style=\"text-align: right;\">\n",
       "      <th></th>\n",
       "      <th>block number</th>\n",
       "      <th>trial number</th>\n",
       "      <th>peak size</th>\n",
       "      <th>relative reward amount</th>\n",
       "      <th>session</th>\n",
       "      <th>mouse</th>\n",
       "      <th>contra reward amount</th>\n",
       "      <th>traces</th>\n",
       "      <th>time points</th>\n",
       "    </tr>\n",
       "  </thead>\n",
       "  <tbody>\n",
       "    <tr>\n",
       "      <th>0</th>\n",
       "      <td>1.0</td>\n",
       "      <td>21.0</td>\n",
       "      <td>-0.271436</td>\n",
       "      <td>-4.0</td>\n",
       "      <td>20200917</td>\n",
       "      <td>SNL_photo21</td>\n",
       "      <td>2.0</td>\n",
       "      <td>[-0.7299424890039922, -0.7297226727881596, -0....</td>\n",
       "      <td>[-8.0, -7.999899999374996, -7.999799998749992,...</td>\n",
       "    </tr>\n",
       "    <tr>\n",
       "      <th>1</th>\n",
       "      <td>1.0</td>\n",
       "      <td>23.0</td>\n",
       "      <td>-0.360775</td>\n",
       "      <td>-4.0</td>\n",
       "      <td>20200917</td>\n",
       "      <td>SNL_photo21</td>\n",
       "      <td>2.0</td>\n",
       "      <td>[-1.2743636439382957, -1.2752892621197554, -1....</td>\n",
       "      <td>[-8.0, -7.999899999374996, -7.999799998749992,...</td>\n",
       "    </tr>\n",
       "    <tr>\n",
       "      <th>2</th>\n",
       "      <td>1.0</td>\n",
       "      <td>25.0</td>\n",
       "      <td>1.029845</td>\n",
       "      <td>-4.0</td>\n",
       "      <td>20200917</td>\n",
       "      <td>SNL_photo21</td>\n",
       "      <td>2.0</td>\n",
       "      <td>[-0.07636829120741984, -0.07615870238211511, -...</td>\n",
       "      <td>[-8.0, -7.999899999374996, -7.999799998749992,...</td>\n",
       "    </tr>\n",
       "    <tr>\n",
       "      <th>3</th>\n",
       "      <td>1.0</td>\n",
       "      <td>27.0</td>\n",
       "      <td>0.146961</td>\n",
       "      <td>-4.0</td>\n",
       "      <td>20200917</td>\n",
       "      <td>SNL_photo21</td>\n",
       "      <td>2.0</td>\n",
       "      <td>[0.3945887698366743, 0.39457637699016745, 0.39...</td>\n",
       "      <td>[-8.0, -7.999899999374996, -7.999799998749992,...</td>\n",
       "    </tr>\n",
       "    <tr>\n",
       "      <th>4</th>\n",
       "      <td>1.0</td>\n",
       "      <td>34.0</td>\n",
       "      <td>1.604739</td>\n",
       "      <td>-4.0</td>\n",
       "      <td>20200917</td>\n",
       "      <td>SNL_photo21</td>\n",
       "      <td>2.0</td>\n",
       "      <td>[0.8582293469634169, 0.8578036990901985, 0.857...</td>\n",
       "      <td>[-8.0, -7.999899999374996, -7.999799998749992,...</td>\n",
       "    </tr>\n",
       "    <tr>\n",
       "      <th>...</th>\n",
       "      <td>...</td>\n",
       "      <td>...</td>\n",
       "      <td>...</td>\n",
       "      <td>...</td>\n",
       "      <td>...</td>\n",
       "      <td>...</td>\n",
       "      <td>...</td>\n",
       "      <td>...</td>\n",
       "      <td>...</td>\n",
       "    </tr>\n",
       "    <tr>\n",
       "      <th>1673</th>\n",
       "      <td>5.0</td>\n",
       "      <td>366.0</td>\n",
       "      <td>2.623965</td>\n",
       "      <td>-4.0</td>\n",
       "      <td>20200921</td>\n",
       "      <td>SNL_photo26</td>\n",
       "      <td>2.0</td>\n",
       "      <td>[-0.5214050881849919, -0.521965614652812, -0.5...</td>\n",
       "      <td>[-8.0, -7.999899999374996, -7.999799998749992,...</td>\n",
       "    </tr>\n",
       "    <tr>\n",
       "      <th>1674</th>\n",
       "      <td>5.0</td>\n",
       "      <td>369.0</td>\n",
       "      <td>0.509331</td>\n",
       "      <td>-4.0</td>\n",
       "      <td>20200921</td>\n",
       "      <td>SNL_photo26</td>\n",
       "      <td>2.0</td>\n",
       "      <td>[-0.49386958898720035, -0.4942169778551365, -0...</td>\n",
       "      <td>[-8.0, -7.999899999374996, -7.999799998749992,...</td>\n",
       "    </tr>\n",
       "    <tr>\n",
       "      <th>1675</th>\n",
       "      <td>5.0</td>\n",
       "      <td>374.0</td>\n",
       "      <td>0.319093</td>\n",
       "      <td>-4.0</td>\n",
       "      <td>20200921</td>\n",
       "      <td>SNL_photo26</td>\n",
       "      <td>2.0</td>\n",
       "      <td>[-1.8115429176882576, -1.8111991162111511, -1....</td>\n",
       "      <td>[-8.0, -7.999899999374996, -7.999799998749992,...</td>\n",
       "    </tr>\n",
       "    <tr>\n",
       "      <th>1676</th>\n",
       "      <td>5.0</td>\n",
       "      <td>375.0</td>\n",
       "      <td>2.766345</td>\n",
       "      <td>-4.0</td>\n",
       "      <td>20200921</td>\n",
       "      <td>SNL_photo26</td>\n",
       "      <td>2.0</td>\n",
       "      <td>[2.1828219399209146, 2.182427699334693, 2.1820...</td>\n",
       "      <td>[-8.0, -7.999899999374996, -7.999799998749992,...</td>\n",
       "    </tr>\n",
       "    <tr>\n",
       "      <th>1677</th>\n",
       "      <td>5.0</td>\n",
       "      <td>376.0</td>\n",
       "      <td>1.087928</td>\n",
       "      <td>-4.0</td>\n",
       "      <td>20200921</td>\n",
       "      <td>SNL_photo26</td>\n",
       "      <td>2.0</td>\n",
       "      <td>[-1.0305071670505765, -1.030435665030338, -1.0...</td>\n",
       "      <td>[-8.0, -7.999899999374996, -7.999799998749992,...</td>\n",
       "    </tr>\n",
       "  </tbody>\n",
       "</table>\n",
       "<p>1678 rows × 9 columns</p>\n",
       "</div>"
      ],
      "text/plain": [
       "      block number  trial number  peak size  relative reward amount   session  \\\n",
       "0              1.0          21.0  -0.271436                    -4.0  20200917   \n",
       "1              1.0          23.0  -0.360775                    -4.0  20200917   \n",
       "2              1.0          25.0   1.029845                    -4.0  20200917   \n",
       "3              1.0          27.0   0.146961                    -4.0  20200917   \n",
       "4              1.0          34.0   1.604739                    -4.0  20200917   \n",
       "...            ...           ...        ...                     ...       ...   \n",
       "1673           5.0         366.0   2.623965                    -4.0  20200921   \n",
       "1674           5.0         369.0   0.509331                    -4.0  20200921   \n",
       "1675           5.0         374.0   0.319093                    -4.0  20200921   \n",
       "1676           5.0         375.0   2.766345                    -4.0  20200921   \n",
       "1677           5.0         376.0   1.087928                    -4.0  20200921   \n",
       "\n",
       "            mouse  contra reward amount  \\\n",
       "0     SNL_photo21                   2.0   \n",
       "1     SNL_photo21                   2.0   \n",
       "2     SNL_photo21                   2.0   \n",
       "3     SNL_photo21                   2.0   \n",
       "4     SNL_photo21                   2.0   \n",
       "...           ...                   ...   \n",
       "1673  SNL_photo26                   2.0   \n",
       "1674  SNL_photo26                   2.0   \n",
       "1675  SNL_photo26                   2.0   \n",
       "1676  SNL_photo26                   2.0   \n",
       "1677  SNL_photo26                   2.0   \n",
       "\n",
       "                                                 traces  \\\n",
       "0     [-0.7299424890039922, -0.7297226727881596, -0....   \n",
       "1     [-1.2743636439382957, -1.2752892621197554, -1....   \n",
       "2     [-0.07636829120741984, -0.07615870238211511, -...   \n",
       "3     [0.3945887698366743, 0.39457637699016745, 0.39...   \n",
       "4     [0.8582293469634169, 0.8578036990901985, 0.857...   \n",
       "...                                                 ...   \n",
       "1673  [-0.5214050881849919, -0.521965614652812, -0.5...   \n",
       "1674  [-0.49386958898720035, -0.4942169778551365, -0...   \n",
       "1675  [-1.8115429176882576, -1.8111991162111511, -1....   \n",
       "1676  [2.1828219399209146, 2.182427699334693, 2.1820...   \n",
       "1677  [-1.0305071670505765, -1.030435665030338, -1.0...   \n",
       "\n",
       "                                            time points  \n",
       "0     [-8.0, -7.999899999374996, -7.999799998749992,...  \n",
       "1     [-8.0, -7.999899999374996, -7.999799998749992,...  \n",
       "2     [-8.0, -7.999899999374996, -7.999799998749992,...  \n",
       "3     [-8.0, -7.999899999374996, -7.999799998749992,...  \n",
       "4     [-8.0, -7.999899999374996, -7.999799998749992,...  \n",
       "...                                                 ...  \n",
       "1673  [-8.0, -7.999899999374996, -7.999799998749992,...  \n",
       "1674  [-8.0, -7.999899999374996, -7.999799998749992,...  \n",
       "1675  [-8.0, -7.999899999374996, -7.999799998749992,...  \n",
       "1676  [-8.0, -7.999899999374996, -7.999799998749992,...  \n",
       "1677  [-8.0, -7.999899999374996, -7.999799998749992,...  \n",
       "\n",
       "[1678 rows x 9 columns]"
      ]
     },
     "execution_count": 3,
     "metadata": {},
     "output_type": "execute_result"
    }
   ],
   "source": [
    "all_reward_block_data"
   ]
  },
  {
   "cell_type": "code",
   "execution_count": 202,
   "metadata": {},
   "outputs": [],
   "source": [
    "font = {'size'   : 12}\n",
    "\n",
    "matplotlib.rc('font', **font)\n",
    "\n",
    "mouse_name = 'SNL_photo22'\n",
    "\n",
    "fig, ax = plt.subplots(2,1) #, figsize=(10,16))\n",
    "plot_mean_trace_for_condition(ax[0], all_reward_block_data[all_reward_block_data['mouse'] == mouse_name], timepoints,\n",
    "                              'contra reward amount', error_bar_method='ci', save_location=processed_data_dir)\n",
    "lg1 = ax[0].legend(title='Absolute value (ul)',bbox_to_anchor=(1., .8, .15,.2), loc='upper left')\n",
    "plot_mean_trace_for_condition(ax[1], all_reward_block_data[all_reward_block_data['mouse'] == mouse_name], timepoints,\n",
    "                              'relative reward amount', error_bar_method = 'ci', save_location=processed_data_dir)\n",
    "lg2 = ax[1].legend(title='Relative value (ul)',bbox_to_anchor=(1., .8, .15,.2), loc='upper left')\n",
    "\n",
    "plt.tight_layout()\n",
    "\n",
    "\n",
    "plt.savefig(os.path.join(figure_dir, 'example_mouse{}.pdf'.format(mouse_name)))\n"
   ]
  },
  {
   "cell_type": "code",
   "execution_count": 286,
   "metadata": {},
   "outputs": [],
   "source": [
    "df1 = all_reward_block_data[['mouse','trial number','session','contra reward amount', 'peak size']]\n",
    "df1 = df1.pivot_table(index=['mouse', 'contra reward amount'], values=['peak size'], aggfunc=np.nanmean)\n",
    "df1 = df1.reset_index()\n",
    "slope, intercept, r_val, p_val1, std_error = stats.linregress(df1['contra reward amount'], \n",
    "                                                             df1['peak size'])"
   ]
  },
  {
   "cell_type": "code",
   "execution_count": 287,
   "metadata": {},
   "outputs": [],
   "source": [
    "df2 = all_reward_block_data[['mouse','trial number','session','relative reward amount', 'peak size']]\n",
    "df2 = df2.pivot_table(index=['mouse', 'relative reward amount'], values=['peak size'], aggfunc=np.nanmean)\n",
    "df2 = df2.reset_index()\n",
    "slope, intercept, r_val, p_val2, std_error = stats.linregress(df2['relative reward amount'], \n",
    "                                                             df2['peak size'])\n"
   ]
  },
  {
   "cell_type": "code",
   "execution_count": 283,
   "metadata": {},
   "outputs": [],
   "source": [
    "font = {'size'   : 14}\n",
    "matplotlib.rc('font', **font)\n",
    "\n",
    "fig, axs = plt.subplots(2,1)\n",
    "condition1 = 'contra reward amount'\n",
    "sns.lineplot(ax=axs[0], x=condition1, y='peak size', data=df1, err_style='bars')\n",
    "axs[0].text(4.5, 1.195, 'p-value = {0:.3f}'.format(p_val1))\n",
    "\n",
    "condition2 = 'relative reward amount'\n",
    "sns.lineplot(ax=axs[1], x=condition2, y='peak size', data=df2, err_style='bars')\n",
    "axs[1].text(1.5, 1.3,'p-value = {0:.3f}'.format(p_val2))\n",
    "\n",
    "for ax in axs:\n",
    "    ax.spines['right'].set_visible(False)\n",
    "    ax.spines['top'].set_visible(False)\n",
    "    ax.set_ylabel('response (z-score)')\n",
    "axs[0].set_xlabel('absolute value (ul)')\n",
    "axs[1].set_xlabel('relative value (ul)')\n",
    "plt.tight_layout()\n",
    "plt.savefig(os.path.join(figure_dir, 'group_data_peaks_vs_value.pdf'))"
   ]
  },
  {
   "cell_type": "code",
   "execution_count": null,
   "metadata": {},
   "outputs": [],
   "source": [
    "plt.tight_layout()"
   ]
  },
  {
   "cell_type": "code",
   "execution_count": 38,
   "metadata": {},
   "outputs": [
    {
     "data": {
      "text/plain": [
       "<matplotlib.legend.Legend at 0x2355b278>"
      ]
     },
     "execution_count": 38,
     "metadata": {},
     "output_type": "execute_result"
    }
   ],
   "source": [
    "colours = cm.inferno(np.linspace(0, 1, 5))\n",
    "fig, ax = plt.subplots(1,1)\n",
    "for trial_type in range(1,6):\n",
    "    try:\n",
    "        one_side_data = all_reward_block_data[trial_type-1].contra_data\n",
    "        mean_trace = decimate(one_side_data.mean_trace, 10)\n",
    "        time_points = decimate(one_side_data.time_points, 10)\n",
    "        traces = decimate(one_side_data.sorted_traces, 10)\n",
    "        ax.plot(time_points, mean_trace, lw=1.5, color=colours[trial_type-1], label= trial_type)\n",
    "        ax.axvline(0, color='k')\n",
    "    except:\n",
    "        pass\n",
    "plt.legend()\n"
   ]
  },
  {
   "cell_type": "code",
   "execution_count": 3,
   "metadata": {},
   "outputs": [],
   "source": [
    "block_types = pd.DataFrame({'block type': [1, 2, 3, 4, 5], 'left reward': [6, 4, 2, 2, 2], 'right reward': [2, 2, 2, 4, 6]})"
   ]
  },
  {
   "cell_type": "code",
   "execution_count": 103,
   "metadata": {},
   "outputs": [
    {
     "name": "stdout",
     "output_type": "stream",
     "text": [
      "(106, 160000)\n",
      "(186, 160000)\n",
      "(220, 160000)\n"
     ]
    }
   ],
   "source": [
    "mouse_id = 'SNL_photo21'\n",
    "sessions = ['20200917', '20200918', '20200921']\n",
    "for session_num, date in enumerate(sessions):\n",
    "    block_change_info, timepoints = one_session_get_block_changes(mouse_id, date, block_types)\n",
    "    if session_num == 0:\n",
    "        all_block_changes = block_change_info\n",
    "    else:\n",
    "         all_block_changes = pd.concat([all_block_changes,block_change_info], ignore_index=True)"
   ]
  },
  {
   "cell_type": "code",
   "execution_count": 106,
   "metadata": {
    "scrolled": true
   },
   "outputs": [
    {
     "name": "stdout",
     "output_type": "stream",
     "text": [
      "(28,)\n",
      "(12,)\n",
      "(12,)\n",
      "(10,)\n",
      "(14,)\n",
      "(8,)\n",
      "(10,)\n",
      "(10,)\n",
      "(14,)\n",
      "(6,)\n",
      "(8,)\n",
      "(12,)\n",
      "(12,)\n",
      "(5,)\n",
      "(6,)\n",
      "(8,)\n",
      "(10,)\n",
      "(6,)\n",
      "(5,)\n",
      "(5,)\n",
      "(7,)\n"
     ]
    }
   ],
   "source": [
    "plot_mean_trace_for_condition(all_block_changes, timepoints, 'new reward amounts')\n",
    "plot_mean_trace_for_condition(all_block_changes, timepoints, 'change in reward amounts')\n",
    "plot_mean_trace_for_condition(all_block_changes, timepoints, 'new relative value')\n",
    "plot_mean_trace_for_condition(all_block_changes, timepoints, 'change in relative value')"
   ]
  },
  {
   "cell_type": "code",
   "execution_count": 29,
   "metadata": {},
   "outputs": [
    {
     "data": {
      "text/plain": [
       "<matplotlib.axes._subplots.AxesSubplot at 0x34c01048>"
      ]
     },
     "execution_count": 29,
     "metadata": {},
     "output_type": "execute_result"
    }
   ],
   "source": [
    "fig, axs = plt.subplots(nrows=2,ncols=2)\n",
    "sns.pointplot(x='new reward amounts', y='peak size', data=all_block_changes, ax=axs[0,0], ci='sd')\n",
    "sns.pointplot(x='change in reward amounts', y='peak size', data=block_change_info, ax=axs[0,1], ci='sd')\n",
    "sns.pointplot(x='new relative value', y='peak size', data=block_change_info, ax=axs[1,0], ci='sd')\n",
    "sns.pointplot(x='change in relative value', y='peak size', data=block_change_info, ax=axs[1,1], ci='sd')"
   ]
  },
  {
   "cell_type": "code",
   "execution_count": 65,
   "metadata": {},
   "outputs": [
    {
     "name": "stdout",
     "output_type": "stream",
     "text": [
      "0.8719974503007026 0.8838530247845447\n",
      "0.734418515406605 0.5818760037034908\n",
      "1.3165566302983154 1.1614116229862628\n",
      "0.7800667694836998 0.663554277871089\n",
      "0.8304953025800229 0.5631001717818181\n"
     ]
    }
   ],
   "source": [
    "colours = cm.inferno(np.linspace(0,1, 5))\n",
    "fig2, ax = plt.subplots(1,3)\n",
    "for trial_type in range(1,6):\n",
    "    try:\n",
    "        one_side_data = all_reward_block_data[trial_type-1].contra_data\n",
    "        x_vals = np.ones([len(one_side_data.trial_peaks)])*trial_type\n",
    "        ax[0].hist(one_side_data.trial_peaks, color=colours[trial_type-1], alpha=0.4)\n",
    "        ax[1].scatter(trial_type, np.mean(one_side_data.trial_peaks), color=colours[trial_type-1])\n",
    "        ax[1].set_ylabel('Mean peak')\n",
    "        ax[2].scatter(trial_type, np.median(one_side_data.trial_peaks), color=colours[trial_type-1])\n",
    "        ax[2].set_ylabel('Median peak')\n",
    "        print(np.mean(one_side_data.trial_peaks), np.median(one_side_data.trial_peaks))\n",
    "    except:\n",
    "        pass"
   ]
  },
  {
   "cell_type": "code",
   "execution_count": 217,
   "metadata": {},
   "outputs": [
    {
     "data": {
      "text/plain": [
       "0.15315428214827714"
      ]
     },
     "execution_count": 217,
     "metadata": {},
     "output_type": "execute_result"
    }
   ],
   "source": [
    "np.median(np.asarray(all_trial_type_data[-2].contra_data.trial_peaks)/4)"
   ]
  },
  {
   "cell_type": "code",
   "execution_count": null,
   "metadata": {},
   "outputs": [],
   "source": [
    "np.median(np.asarray(all_trial_type_data[-2].contra_data.trial_peaks)/4)"
   ]
  },
  {
   "cell_type": "code",
   "execution_count": 209,
   "metadata": {},
   "outputs": [
    {
     "data": {
      "text/plain": [
       "array([0.14386391, 0.36703822, 0.03294286, 0.67309225, 0.1799292 ,\n",
       "       0.26867563, 0.06190406])"
      ]
     },
     "execution_count": 209,
     "metadata": {},
     "output_type": "execute_result"
    }
   ],
   "source": [
    "np.asarray(one_side_data.trial_peaks)/4"
   ]
  },
  {
   "cell_type": "code",
   "execution_count": 199,
   "metadata": {},
   "outputs": [
    {
     "data": {
      "text/plain": [
       "0.46637622"
      ]
     },
     "execution_count": 199,
     "metadata": {},
     "output_type": "execute_result"
    }
   ],
   "source": [
    "np.median([0.13636681, 0.46637622, 0.51340394])"
   ]
  },
  {
   "cell_type": "code",
   "execution_count": 207,
   "metadata": {},
   "outputs": [
    {
     "data": {
      "text/plain": [
       "0.5444297804051131"
      ]
     },
     "execution_count": 207,
     "metadata": {},
     "output_type": "execute_result"
    }
   ],
   "source": [
    "np.median(np.concatenate([np.asarray(one_side_data.trial_peaks),np.asarray([0.13636681, 0.46637622, 0.51340394])]))"
   ]
  },
  {
   "cell_type": "code",
   "execution_count": null,
   "metadata": {},
   "outputs": [],
   "source": []
  }
 ],
 "metadata": {
  "kernelspec": {
   "display_name": "Python 3",
   "language": "python",
   "name": "python3"
  },
  "language_info": {
   "codemirror_mode": {
    "name": "ipython",
    "version": 3
   },
   "file_extension": ".py",
   "mimetype": "text/x-python",
   "name": "python",
   "nbconvert_exporter": "python",
   "pygments_lexer": "ipython3",
   "version": "3.7.3"
  }
 },
 "nbformat": 4,
 "nbformat_minor": 4
}
