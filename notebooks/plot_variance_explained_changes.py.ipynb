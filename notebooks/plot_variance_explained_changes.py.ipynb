{
 "cells": [
  {
   "cell_type": "code",
   "execution_count": 1,
   "metadata": {},
   "outputs": [
    {
     "name": "stderr",
     "output_type": "stream",
     "text": [
      "In C:\\Users\\francescag\\AppData\\Local\\Continuum\\miniconda3\\lib\\site-packages\\matplotlib\\mpl-data\\stylelib\\_classic_test.mplstyle: \n",
      "The savefig.frameon rcparam was deprecated in Matplotlib 3.1 and will be removed in 3.3.\n",
      "In C:\\Users\\francescag\\AppData\\Local\\Continuum\\miniconda3\\lib\\site-packages\\matplotlib\\mpl-data\\stylelib\\_classic_test.mplstyle: \n",
      "The verbose.level rcparam was deprecated in Matplotlib 3.1 and will be removed in 3.3.\n",
      "In C:\\Users\\francescag\\AppData\\Local\\Continuum\\miniconda3\\lib\\site-packages\\matplotlib\\mpl-data\\stylelib\\_classic_test.mplstyle: \n",
      "The verbose.fileo rcparam was deprecated in Matplotlib 3.1 and will be removed in 3.3.\n"
     ]
    }
   ],
   "source": [
    "import numpy as np\n",
    "import seaborn as sns\n",
    "import pandas as pd\n",
    "import os\n",
    "import pickle\n",
    "import matplotlib.collections as clt\n",
    "import ptitprince as pt"
   ]
  },
  {
   "cell_type": "code",
   "execution_count": 2,
   "metadata": {},
   "outputs": [],
   "source": [
    "def load_exp_var_data_for_site(site, mice):\n",
    "    file_name = site + '_explained_variances.p'\n",
    "    processed_data_dir = os.path.join('W:\\\\photometry_2AC\\\\processed_data\\\\linear_regression_data\\\\')\n",
    "    saving_filename = os.path.join('W:\\\\photometry_2AC\\\\processed_data\\\\linear_regression_data\\\\', file_name)\n",
    "\n",
    "    reg_stats = pickle.load(open(saving_filename, 'rb'))\n",
    "    reg_stats = reg_stats[reg_stats['mouse_id'].isin(mice)]\n",
    "    mean_stats = reg_stats.groupby(['mouse_id'])[ ['cue explained variance', 'choice explained variance', 'outcome explained variance', 'full model explained variance']].apply(np.mean)\n",
    "    types = []\n",
    "    variances = []\n",
    "    for ind, row in mean_stats.iterrows():\n",
    "        types.append('cue')\n",
    "        types.append('choice')\n",
    "        types.append('outcome')\n",
    "        types.append('full')\n",
    "        variances.append(row['cue explained variance'])\n",
    "        variances.append(row['choice explained variance'])\n",
    "        variances.append(row['outcome explained variance'])\n",
    "        variances.append(row['full model explained variance'])\n",
    "    stats_dict = {'predictor': types, 'explained variance': variances}\n",
    "    reshaped_stats = pd.DataFrame(stats_dict)\n",
    "    if site == 'Nacc':\n",
    "        label = 'VS'\n",
    "    elif site == 'tail':\n",
    "        label = 'AudS'\n",
    "    reshaped_stats['site'] = label\n",
    "    return reshaped_stats"
   ]
  },
  {
   "cell_type": "code",
   "execution_count": 3,
   "metadata": {},
   "outputs": [],
   "source": [
    "def get_data_both_sites_for_predictor(nacc_data, tail_data, predictor):\n",
    "    df =  pd.concat([nacc_data[nacc_data['predictor']==predictor], tail_data[tail_data['predictor']==predictor]])\n",
    "    return df"
   ]
  },
  {
   "cell_type": "code",
   "execution_count": 4,
   "metadata": {},
   "outputs": [],
   "source": [
    "nacc_data = load_exp_var_data_for_site('Nacc', ['SNL_photo28', 'SNL_photo30', 'SNL_photo31', 'SNL_photo32', 'SNL_photo33', 'SNL_photo34', 'SNL_photo35'])\n",
    "tail_data = load_exp_var_data_for_site('tail', ['SNL_photo16', 'SNL_photo17', 'SNL_photo18', 'SNL_photo21', 'SNL_photo22', 'SNL_photo26'])"
   ]
  },
  {
   "cell_type": "code",
   "execution_count": 12,
   "metadata": {},
   "outputs": [
    {
     "data": {
      "text/html": [
       "<div>\n",
       "<style scoped>\n",
       "    .dataframe tbody tr th:only-of-type {\n",
       "        vertical-align: middle;\n",
       "    }\n",
       "\n",
       "    .dataframe tbody tr th {\n",
       "        vertical-align: top;\n",
       "    }\n",
       "\n",
       "    .dataframe thead th {\n",
       "        text-align: right;\n",
       "    }\n",
       "</style>\n",
       "<table border=\"1\" class=\"dataframe\">\n",
       "  <thead>\n",
       "    <tr style=\"text-align: right;\">\n",
       "      <th></th>\n",
       "      <th>mouse_id</th>\n",
       "      <th>date</th>\n",
       "      <th>cue explained variance</th>\n",
       "      <th>choice explained variance</th>\n",
       "      <th>outcome explained variance</th>\n",
       "      <th>full model explained variance</th>\n",
       "    </tr>\n",
       "  </thead>\n",
       "  <tbody>\n",
       "    <tr>\n",
       "      <th>0</th>\n",
       "      <td>SNL_photo16</td>\n",
       "      <td>20200210</td>\n",
       "      <td>1.067119</td>\n",
       "      <td>70.803366</td>\n",
       "      <td>18.250893</td>\n",
       "      <td>8.099442</td>\n",
       "    </tr>\n",
       "    <tr>\n",
       "      <th>1</th>\n",
       "      <td>SNL_photo16</td>\n",
       "      <td>20200213</td>\n",
       "      <td>11.202116</td>\n",
       "      <td>77.202413</td>\n",
       "      <td>22.408877</td>\n",
       "      <td>4.380495</td>\n",
       "    </tr>\n",
       "    <tr>\n",
       "      <th>2</th>\n",
       "      <td>SNL_photo16</td>\n",
       "      <td>20200218</td>\n",
       "      <td>10.255748</td>\n",
       "      <td>57.784334</td>\n",
       "      <td>19.321626</td>\n",
       "      <td>7.557852</td>\n",
       "    </tr>\n",
       "    <tr>\n",
       "      <th>3</th>\n",
       "      <td>SNL_photo17</td>\n",
       "      <td>20200204</td>\n",
       "      <td>11.054159</td>\n",
       "      <td>68.180984</td>\n",
       "      <td>20.884747</td>\n",
       "      <td>4.456025</td>\n",
       "    </tr>\n",
       "    <tr>\n",
       "      <th>4</th>\n",
       "      <td>SNL_photo17</td>\n",
       "      <td>20200206</td>\n",
       "      <td>2.145460</td>\n",
       "      <td>97.244914</td>\n",
       "      <td>10.424451</td>\n",
       "      <td>9.772590</td>\n",
       "    </tr>\n",
       "    <tr>\n",
       "      <th>5</th>\n",
       "      <td>SNL_photo17</td>\n",
       "      <td>20200208</td>\n",
       "      <td>5.330439</td>\n",
       "      <td>78.494655</td>\n",
       "      <td>25.062946</td>\n",
       "      <td>10.307618</td>\n",
       "    </tr>\n",
       "    <tr>\n",
       "      <th>6</th>\n",
       "      <td>SNL_photo18</td>\n",
       "      <td>20200223</td>\n",
       "      <td>18.167955</td>\n",
       "      <td>44.790707</td>\n",
       "      <td>22.504961</td>\n",
       "      <td>5.816843</td>\n",
       "    </tr>\n",
       "    <tr>\n",
       "      <th>7</th>\n",
       "      <td>SNL_photo18</td>\n",
       "      <td>20200226</td>\n",
       "      <td>3.181345</td>\n",
       "      <td>65.597458</td>\n",
       "      <td>41.012259</td>\n",
       "      <td>7.252510</td>\n",
       "    </tr>\n",
       "    <tr>\n",
       "      <th>8</th>\n",
       "      <td>SNL_photo18</td>\n",
       "      <td>20200228</td>\n",
       "      <td>4.835830</td>\n",
       "      <td>64.807955</td>\n",
       "      <td>44.513499</td>\n",
       "      <td>7.899679</td>\n",
       "    </tr>\n",
       "    <tr>\n",
       "      <th>9</th>\n",
       "      <td>SNL_photo21</td>\n",
       "      <td>20200806</td>\n",
       "      <td>18.618418</td>\n",
       "      <td>19.018594</td>\n",
       "      <td>39.234975</td>\n",
       "      <td>6.019226</td>\n",
       "    </tr>\n",
       "    <tr>\n",
       "      <th>10</th>\n",
       "      <td>SNL_photo21</td>\n",
       "      <td>20200808</td>\n",
       "      <td>2.853293</td>\n",
       "      <td>97.469579</td>\n",
       "      <td>18.986374</td>\n",
       "      <td>13.263990</td>\n",
       "    </tr>\n",
       "    <tr>\n",
       "      <th>11</th>\n",
       "      <td>SNL_photo21</td>\n",
       "      <td>20200810</td>\n",
       "      <td>5.901190</td>\n",
       "      <td>76.065688</td>\n",
       "      <td>19.428912</td>\n",
       "      <td>3.007489</td>\n",
       "    </tr>\n",
       "    <tr>\n",
       "      <th>12</th>\n",
       "      <td>SNL_photo22</td>\n",
       "      <td>20200808</td>\n",
       "      <td>1.880797</td>\n",
       "      <td>101.453303</td>\n",
       "      <td>19.205437</td>\n",
       "      <td>8.359748</td>\n",
       "    </tr>\n",
       "    <tr>\n",
       "      <th>13</th>\n",
       "      <td>SNL_photo22</td>\n",
       "      <td>20200810</td>\n",
       "      <td>4.898600</td>\n",
       "      <td>97.401508</td>\n",
       "      <td>1.670972</td>\n",
       "      <td>7.853670</td>\n",
       "    </tr>\n",
       "    <tr>\n",
       "      <th>14</th>\n",
       "      <td>SNL_photo22</td>\n",
       "      <td>20200812</td>\n",
       "      <td>2.748727</td>\n",
       "      <td>78.525413</td>\n",
       "      <td>6.597641</td>\n",
       "      <td>8.429102</td>\n",
       "    </tr>\n",
       "    <tr>\n",
       "      <th>15</th>\n",
       "      <td>SNL_photo26</td>\n",
       "      <td>20200808</td>\n",
       "      <td>36.922409</td>\n",
       "      <td>100.634236</td>\n",
       "      <td>12.007246</td>\n",
       "      <td>6.451929</td>\n",
       "    </tr>\n",
       "    <tr>\n",
       "      <th>16</th>\n",
       "      <td>SNL_photo26</td>\n",
       "      <td>20200810</td>\n",
       "      <td>2.232379</td>\n",
       "      <td>80.887411</td>\n",
       "      <td>6.308920</td>\n",
       "      <td>9.982651</td>\n",
       "    </tr>\n",
       "    <tr>\n",
       "      <th>17</th>\n",
       "      <td>SNL_photo26</td>\n",
       "      <td>20200812</td>\n",
       "      <td>8.404380</td>\n",
       "      <td>57.804943</td>\n",
       "      <td>10.590463</td>\n",
       "      <td>10.288480</td>\n",
       "    </tr>\n",
       "  </tbody>\n",
       "</table>\n",
       "</div>"
      ],
      "text/plain": [
       "       mouse_id      date  cue explained variance  choice explained variance  \\\n",
       "0   SNL_photo16  20200210                1.067119                  70.803366   \n",
       "1   SNL_photo16  20200213               11.202116                  77.202413   \n",
       "2   SNL_photo16  20200218               10.255748                  57.784334   \n",
       "3   SNL_photo17  20200204               11.054159                  68.180984   \n",
       "4   SNL_photo17  20200206                2.145460                  97.244914   \n",
       "5   SNL_photo17  20200208                5.330439                  78.494655   \n",
       "6   SNL_photo18  20200223               18.167955                  44.790707   \n",
       "7   SNL_photo18  20200226                3.181345                  65.597458   \n",
       "8   SNL_photo18  20200228                4.835830                  64.807955   \n",
       "9   SNL_photo21  20200806               18.618418                  19.018594   \n",
       "10  SNL_photo21  20200808                2.853293                  97.469579   \n",
       "11  SNL_photo21  20200810                5.901190                  76.065688   \n",
       "12  SNL_photo22  20200808                1.880797                 101.453303   \n",
       "13  SNL_photo22  20200810                4.898600                  97.401508   \n",
       "14  SNL_photo22  20200812                2.748727                  78.525413   \n",
       "15  SNL_photo26  20200808               36.922409                 100.634236   \n",
       "16  SNL_photo26  20200810                2.232379                  80.887411   \n",
       "17  SNL_photo26  20200812                8.404380                  57.804943   \n",
       "\n",
       "    outcome explained variance  full model explained variance  \n",
       "0                    18.250893                       8.099442  \n",
       "1                    22.408877                       4.380495  \n",
       "2                    19.321626                       7.557852  \n",
       "3                    20.884747                       4.456025  \n",
       "4                    10.424451                       9.772590  \n",
       "5                    25.062946                      10.307618  \n",
       "6                    22.504961                       5.816843  \n",
       "7                    41.012259                       7.252510  \n",
       "8                    44.513499                       7.899679  \n",
       "9                    39.234975                       6.019226  \n",
       "10                   18.986374                      13.263990  \n",
       "11                   19.428912                       3.007489  \n",
       "12                   19.205437                       8.359748  \n",
       "13                    1.670972                       7.853670  \n",
       "14                    6.597641                       8.429102  \n",
       "15                   12.007246                       6.451929  \n",
       "16                    6.308920                       9.982651  \n",
       "17                   10.590463                      10.288480  "
      ]
     },
     "execution_count": 12,
     "metadata": {},
     "output_type": "execute_result"
    }
   ],
   "source": [
    "file_name = 'tail' + '_explained_variances.p'\n",
    "processed_data_dir = os.path.join('W:\\\\photometry_2AC\\\\processed_data\\\\linear_regression_data\\\\')\n",
    "saving_filename = os.path.join('W:\\\\photometry_2AC\\\\processed_data\\\\linear_regression_data\\\\', file_name)\n",
    "\n",
    "pickle.load(open(saving_filename, 'rb'))"
   ]
  },
  {
   "cell_type": "code",
   "execution_count": 121,
   "metadata": {},
   "outputs": [],
   "source": [
    "full_df =  get_data_both_sites_for_predictor(nacc_data, tail_data, 'full')\n",
    "cue_df = get_data_both_sites_for_predictor(nacc_data, tail_data, 'cue')\n",
    "choice_df = get_data_both_sites_for_predictor(nacc_data, tail_data, 'choice')\n",
    "outcome_df = get_data_both_sites_for_predictor(nacc_data, tail_data, 'outcome')"
   ]
  },
  {
   "cell_type": "code",
   "execution_count": 197,
   "metadata": {},
   "outputs": [],
   "source": [
    "\n",
    "def make_box_plot(df, fig_ax,  dx ='site', dy = 'explained variance', ort = \"v\", pal = \"Set2\", set_ylims=False):\n",
    "    sns.stripplot( x = dx, y = dy, data = df, palette = pal, edgecolor = \"white\",\n",
    "                     size = 5, jitter = 1, zorder = 0, orient = ort, ax=fig_ax)\n",
    "    sns.boxplot( x = dx, y = dy, data = df, color = \"black\", width = .5, zorder = 10,linewidth=0.5, \\\n",
    "                showcaps = True, boxprops = {'facecolor':'none', \"zorder\":10},\\\n",
    "                showfliers=False, whiskerprops = {'linewidth':0.5, \"zorder\":10},\\\n",
    "                   saturation = 1, orient = ort, ax=fig_ax)\n",
    "    fig_ax.set_xlim([-0.5, 1.5])\n",
    "    if set_ylims:  \n",
    "        fig_ax.set_ylim([-2, np.max(df[dy]) + 2])"
   ]
  },
  {
   "cell_type": "code",
   "execution_count": 198,
   "metadata": {},
   "outputs": [
    {
     "data": {
      "image/png": "[encoded data removed]",
      "text/plain": [
       "<Figure size 432x360 with 4 Axes>"
      ]
     },
     "metadata": {
      "needs_background": "light"
     },
     "output_type": "display_data"
    }
   ],
   "source": [
    "import matplotlib.pyplot as plt\n",
    "f, axs = plt.subplots(nrows=1, ncols=4, figsize=(6, 5))\n",
    "make_box_plot(full_df, axs[0], set_ylims=True)\n",
    "make_box_plot(cue_df, axs[1])\n",
    "make_box_plot(choice_df, axs[2])\n",
    "make_box_plot(outcome_df, axs[3])\n",
    "plt.tight_layout()"
   ]
  },
  {
   "cell_type": "code",
   "execution_count": 146,
   "metadata": {},
   "outputs": [
    {
     "data": {
      "text/plain": [
       "(-2.0, 121.94269924535462)"
      ]
     },
     "execution_count": 146,
     "metadata": {},
     "output_type": "execute_result"
    },
    {
     "data": {
      "image/png": "[encoded data removed]",
      "text/plain": [
       "<Figure size 504x360 with 1 Axes>"
      ]
     },
     "metadata": {
      "needs_background": "light"
     },
     "output_type": "display_data"
    }
   ],
   "source": [
    "dx ='site'; dy = 'explained variance'; data = cue_df; ort = \"v\"; pal = \"Set2\"; sigma = .3\n",
    "f, ax = plt.subplots(figsize=(7, 5))\n",
    "\n",
    "pt.RainCloud(x = dx, y = dy, data = data, palette = pal, bw = sigma, width_viol = 0.8,\n",
    "                ax = ax, orient = ort , alpha = .65, dodge = True, move = .3)\n",
    "ax.set_xlim([-0.8, 1.5])\n",
    "ax.set_ylim([-2, np.max(pd.concat([nacc_data, tail_data])[dy]) + 2])"
   ]
  },
  {
   "cell_type": "code",
   "execution_count": 154,
   "metadata": {},
   "outputs": [
    {
     "data": {
      "text/plain": [
       "(-2.0, 121.94269924535462)"
      ]
     },
     "execution_count": 154,
     "metadata": {},
     "output_type": "execute_result"
    },
    {
     "data": {
      "image/png": "[encoded data removed]",
      "text/plain": [
       "<Figure size 504x360 with 1 Axes>"
      ]
     },
     "metadata": {
      "needs_background": "light"
     },
     "output_type": "display_data"
    }
   ],
   "source": [
    "dx ='site'; dy = 'explained variance'; data = choice_df; ort = \"v\"; pal = \"Set2\"; sigma = .3\n",
    "f, ax = plt.subplots(figsize=(7, 5))\n",
    "\n",
    "pt.RainCloud(x = dx, y = dy, data = data, palette = pal, bw = sigma, width_viol = 0.5,\n",
    "                ax = ax, orient = ort , alpha = .65, dodge = True, move = .2)\n",
    "ax.set_xlim([-0.5, 1.5])\n",
    "ax.set_ylim([-2, np.max(pd.concat([nacc_data, tail_data])[dy]) + 2])"
   ]
  },
  {
   "cell_type": "code",
   "execution_count": 140,
   "metadata": {},
   "outputs": [
    {
     "data": {
      "text/plain": [
       "(-2.0, 121.94269924535462)"
      ]
     },
     "execution_count": 140,
     "metadata": {},
     "output_type": "execute_result"
    },
    {
     "data": {
      "image/png": "[encoded data removed]",
      "text/plain": [
       "<Figure size 504x360 with 1 Axes>"
      ]
     },
     "metadata": {
      "needs_background": "light"
     },
     "output_type": "display_data"
    }
   ],
   "source": [
    "dx ='site'; dy = 'explained variance'; data = outcome_df; ort = \"v\"; pal = \"Set2\"; sigma = .3\n",
    "f, ax = plt.subplots(figsize=(7, 5))\n",
    "\n",
    "pt.RainCloud(x = dx, y = dy, data = data, palette = pal, bw = sigma, width_viol = 0.8,\n",
    "                ax = ax, orient = ort , alpha = .65, dodge = True, move = .3)\n",
    "ax.set_xlim([-0.5, 1.5])\n",
    "ax.set_ylim([-2, np.max(pd.concat([nacc_data, tail_data])[dy]) + 2])"
   ]
  },
  {
   "cell_type": "code",
   "execution_count": 103,
   "metadata": {},
   "outputs": [
    {
     "data": {
      "text/plain": [
       "(-1.0, 4.0)"
      ]
     },
     "execution_count": 103,
     "metadata": {},
     "output_type": "execute_result"
    },
    {
     "data": {
      "image/png": "[encoded data removed]",
      "text/plain": [
       "<Figure size 504x360 with 1 Axes>"
      ]
     },
     "metadata": {
      "needs_background": "light"
     },
     "output_type": "display_data"
    }
   ],
   "source": [
    "dx ='predictor'; dy = 'explained variance'; ort = \"v\"; pal = \"Set2\"; sigma = .3\n",
    "f, ax = plt.subplots(figsize=(7, 5))\n",
    "\n",
    "pt.RainCloud(x = dx, y = dy, data = nacc_data, palette = pal, bw = sigma, width_viol = 1,\n",
    "                ax = ax, orient = ort , alpha = .65, dodge = True, move = .3)\n",
    "ax.set_xlim([-1, 4])"
   ]
  },
  {
   "cell_type": "code",
   "execution_count": null,
   "metadata": {},
   "outputs": [],
   "source": []
  }
 ],
 "metadata": {
  "kernelspec": {
   "display_name": "Python 3",
   "language": "python",
   "name": "python3"
  },
  "language_info": {
   "codemirror_mode": {
    "name": "ipython",
    "version": 3
   },
   "file_extension": ".py",
   "mimetype": "text/x-python",
   "name": "python",
   "nbconvert_exporter": "python",
   "pygments_lexer": "ipython3",
   "version": "3.7.3"
  }
 },
 "nbformat": 4,
 "nbformat_minor": 4
}
