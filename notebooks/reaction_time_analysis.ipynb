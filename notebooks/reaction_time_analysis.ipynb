{
 "cells": [
  {
   "cell_type": "code",
   "execution_count": 127,
   "metadata": {},
   "outputs": [
    {
     "name": "stdout",
     "output_type": "stream",
     "text": [
      "The autoreload extension is already loaded. To reload it, use:\n",
      "  %reload_ext autoreload\n"
     ]
    }
   ],
   "source": [
    "%matplotlib qt5\n",
    "%load_ext autoreload\n",
    "%autoreload 2\n",
    "import sys\n",
    "sys.path.insert(0, 'C:\\\\Users\\\\francescag\\\\Documents\\\\SourceTree_repos\\\\Python_git\\\\freely_moving_photometry_analysis')\n",
    "import pickle\n",
    "import matplotlib.pyplot as plt\n",
    "from matplotlib import colors, cm\n",
    "import numpy as np\n",
    "import math\n",
    "from data_preprocessing.session_traces_and_mean import get_all_experimental_records\n",
    "from utils.reaction_time_utils import plot_reaction_times, plot_reaction_times_overlayed, get_valid_trials\n",
    "from utils.correlation_utils import plot_all_valid_trials_over_time, plot_binned_valid_trials, multi_animal_scatter_and_fit\n",
    "from utils.mean_trace_utils import mouseDates\n",
    "from utils.post_processing_utils import remove_exps_after_manipulations, remove_bad_recordings\n",
    "import data_preprocessing.bpod_data_processing as bpod\n",
    "import pandas as pd\n",
    "import os\n",
    "import scipy as scipy\n",
    "from scipy import optimize\n",
    "from upgrade_plotting.across_session_changes import remove_experiments\n",
    "from utils.plotting import calculate_error_bars"
   ]
  },
  {
   "cell_type": "code",
   "execution_count": 4,
   "metadata": {},
   "outputs": [
    {
     "name": "stdout",
     "output_type": "stream",
     "text": [
      "removing SNL_photo26: ['20200829' '20200830' '20200831' '20200908' '20200910' '20200911'\n",
      " '20200915' '20200917' '20200918' '20200921' '20201007' '20201008'\n",
      " '20201009']\n",
      "Int64Index([52, 93, 208], dtype='int64')\n"
     ]
    }
   ],
   "source": [
    "mouse = 'SNL_photo26'\n",
    "recording_site = 'tail'\n",
    "date = 'all'\n",
    "all_experiments = get_all_experimental_records()\n",
    "all_experiments = remove_exps_after_manipulations(all_experiments, [mouse])\n",
    "all_experiments = remove_bad_recordings(all_experiments)\n",
    "experiments_to_process = all_experiments[(all_experiments['mouse_id'] == mouse) & (all_experiments['recording_site'] == recording_site)]\n",
    "dates = experiments_to_process['date'].values[0:2]\n",
    "plot_reaction_times_overlayed(mouse, dates)"
   ]
  },
  {
   "cell_type": "code",
   "execution_count": 307,
   "metadata": {},
   "outputs": [],
   "source": [
    "mouse = 'SNL_photo26'\n",
    "recording_site = 'tail'\n",
    "date = '20200831'"
   ]
  },
  {
   "cell_type": "code",
   "execution_count": 309,
   "metadata": {},
   "outputs": [],
   "source": [
    "\n",
    "saving_folder = 'W:\\\\photometry_2AC\\\\processed_data\\\\' + mouse + '\\\\'\n",
    "num_types = len(dates)\n",
    "colours = cm.viridis(np.linspace(0, 0.8, num_types))\n",
    "mean_and_sem_filename = saving_folder +  mouse + '_' + date + '_' + 'aligned_traces.p'\n",
    "data = pickle.load( open(mean_and_sem_filename, \"rb\" ))\n"
   ]
  },
  {
   "cell_type": "code",
   "execution_count": 310,
   "metadata": {},
   "outputs": [],
   "source": [
    "recording_data = data.choice_data.ipsi_data\n",
    "reaction_times = recording_data.reaction_times\n",
    "traces = recording_data.sorted_traces\n",
    "peaks = recording_data.trial_peaks\n",
    "bins = np.arange(start=min(reaction_times), stop=max(reaction_times)+0.1, step=0.1)\n"
   ]
  },
  {
   "cell_type": "code",
   "execution_count": 311,
   "metadata": {},
   "outputs": [],
   "source": [
    "new_peaks = [p for p in peaks if p.size>0]\n",
    "ind = [i for i, p in enumerate(peaks) if p.size>0]"
   ]
  },
  {
   "cell_type": "code",
   "execution_count": 312,
   "metadata": {},
   "outputs": [],
   "source": [
    "traces = recording_data.sorted_traces"
   ]
  },
  {
   "cell_type": "code",
   "execution_count": 313,
   "metadata": {},
   "outputs": [],
   "source": [
    "trial_nums = recording_data.trial_nums"
   ]
  },
  {
   "cell_type": "code",
   "execution_count": 294,
   "metadata": {},
   "outputs": [],
   "source": [
    "def linear(x, m, c):\n",
    "    return ((m * x) + c)"
   ]
  },
  {
   "cell_type": "code",
   "execution_count": 295,
   "metadata": {},
   "outputs": [],
   "source": [
    "def linear_fit(x_vals, y_vals):\n",
    "    fit_equation = linear\n",
    "    starting_params = [-0.0003, 0.5]\n",
    "    legend = \"y= %0.5f$x$ + %0.5f\"\n",
    "    popt_exponential, pcov_exponential = scipy.optimize.curve_fit(fit_equation, x_vals, y_vals, p0=starting_params)\n",
    "    perr_exponential = np.sqrt(np.diag(pcov_exponential))\n",
    "    x_vals_fit = np.linspace(np.min(x_vals), np.max(x_vals), 1000)\n",
    "    y_vals_fit = fit_equation(x_vals_fit, popt_exponential[0], popt_exponential[1])\n",
    "    residuals = y_vals - fit_equation(np.array(x_vals), popt_exponential[0], popt_exponential[1])\n",
    "    ss_res = np.sum(residuals ** 2)\n",
    "    ss_tot = np.sum((y_vals - np.mean(y_vals)) ** 2)\n",
    "    r_squared = 1 - (ss_res / ss_tot)\n",
    "    print('r-squared value: ', r_squared)\n",
    "    return x_vals_fit, y_vals_fit"
   ]
  },
  {
   "cell_type": "code",
   "execution_count": 296,
   "metadata": {},
   "outputs": [
    {
     "name": "stdout",
     "output_type": "stream",
     "text": [
      "r-squared value:  0.0065908101341849434\n"
     ]
    }
   ],
   "source": [
    "x_vals_fit, y_vals_fit = linear_fit(reaction_times[ind], new_peaks)"
   ]
  },
  {
   "cell_type": "code",
   "execution_count": 297,
   "metadata": {},
   "outputs": [
    {
     "data": {
      "text/plain": [
       "[<matplotlib.lines.Line2D at 0x5e262400>]"
      ]
     },
     "execution_count": 297,
     "metadata": {},
     "output_type": "execute_result"
    }
   ],
   "source": [
    "plt.figure()\n",
    "plt.scatter(reaction_times[ind], np.array(new_peaks))\n",
    "plt.plot(x_vals_fit, y_vals_fit, color='grey')"
   ]
  },
  {
   "cell_type": "code",
   "execution_count": 298,
   "metadata": {},
   "outputs": [
    {
     "name": "stdout",
     "output_type": "stream",
     "text": [
      "r-squared value:  0.0005591793735572059\n"
     ]
    }
   ],
   "source": [
    "x_vals_fit, y_vals_fit = linear_fit(trial_nums[ind], new_peaks)"
   ]
  },
  {
   "cell_type": "code",
   "execution_count": 299,
   "metadata": {},
   "outputs": [
    {
     "data": {
      "text/plain": [
       "[<matplotlib.lines.Line2D at 0x5dddb6d8>]"
      ]
     },
     "execution_count": 299,
     "metadata": {},
     "output_type": "execute_result"
    }
   ],
   "source": [
    "plt.figure()\n",
    "plt.scatter(trial_nums[ind], np.array(new_peaks))\n",
    "plt.plot(x_vals_fit, y_vals_fit, color='grey')"
   ]
  },
  {
   "cell_type": "code",
   "execution_count": 314,
   "metadata": {},
   "outputs": [],
   "source": [
    "reaction_times = np.abs(reaction_times)"
   ]
  },
  {
   "cell_type": "code",
   "execution_count": 315,
   "metadata": {},
   "outputs": [],
   "source": [
    "upper_quartile = np.quantile(reaction_times, 0.75)\n",
    "median = np.quantile(reaction_times, 0.5)\n",
    "lower_quartile = np.quantile(reaction_times, 0.25)"
   ]
  },
  {
   "cell_type": "code",
   "execution_count": 316,
   "metadata": {},
   "outputs": [],
   "source": [
    "long_reaction_times = np.where(reaction_times >=upper_quartile)[0]\n",
    "middle_reaction_times = np.where(np.logical_and(reaction_times < upper_quartile, reaction_times >= median))[0]\n",
    "short_reaction_times = np.where(np.logical_and(reaction_times < median, reaction_times >= lower_quartile))[0]\n",
    "shortest_reaction_times =  np.where(reaction_times < lower_quartile)[0]"
   ]
  },
  {
   "cell_type": "code",
   "execution_count": 303,
   "metadata": {},
   "outputs": [],
   "source": [
    "def get_traces_and_mean(all_traces, inds):\n",
    "    traces = all_traces[inds, :]\n",
    "    mean_trace = np.mean(traces, axis=0)\n",
    "    return traces, mean_trace"
   ]
  },
  {
   "cell_type": "code",
   "execution_count": 304,
   "metadata": {},
   "outputs": [],
   "source": [
    "def plot_trace(all_traces, inds, time_stamps, ax, color='green'):\n",
    "    traces, mean_trace = get_traces_and_mean(all_traces, inds)\n",
    "\n",
    "    ax.plot(time_stamps, mean_trace, color=color)\n",
    "    error_bar_lower, error_bar_upper = calculate_error_bars(mean_trace,\n",
    "                                                            traces,\n",
    "                                                            error_bar_method='sem')\n",
    "    ax.fill_between(time_stamps, error_bar_lower, error_bar_upper, alpha=0.5,\n",
    "                     facecolor=color, linewidth=0)\n",
    "    ax.set_xlabel('time(s)')\n",
    "    ax.set_ylabel('z-scored fluorescence')\n"
   ]
  },
  {
   "cell_type": "code",
   "execution_count": 317,
   "metadata": {},
   "outputs": [],
   "source": [
    "time_stamps= recording_data.time_points"
   ]
  },
  {
   "cell_type": "code",
   "execution_count": 318,
   "metadata": {},
   "outputs": [],
   "source": [
    "fig, axs = plt.subplots(1,1, sharey=True)\n",
    "plot_trace(traces, long_reaction_times, time_stamps, axs, color='blue')\n",
    "plot_trace(traces, middle_reaction_times, time_stamps, axs, color='orange')\n",
    "plot_trace(traces, short_reaction_times, time_stamps, axs, color='green')\n",
    "plot_trace(traces, shortest_reaction_times, time_stamps, axs, color='red')"
   ]
  },
  {
   "cell_type": "code",
   "execution_count": 320,
   "metadata": {},
   "outputs": [
    {
     "data": {
      "text/plain": [
       "(263,)"
      ]
     },
     "execution_count": 320,
     "metadata": {},
     "output_type": "execute_result"
    }
   ],
   "source": [
    "reaction_times.shape"
   ]
  },
  {
   "cell_type": "code",
   "execution_count": null,
   "metadata": {},
   "outputs": [],
   "source": []
  }
 ],
 "metadata": {
  "kernelspec": {
   "display_name": "Python 3",
   "language": "python",
   "name": "python3"
  },
  "language_info": {
   "codemirror_mode": {
    "name": "ipython",
    "version": 3
   },
   "file_extension": ".py",
   "mimetype": "text/x-python",
   "name": "python",
   "nbconvert_exporter": "python",
   "pygments_lexer": "ipython3",
   "version": "3.7.3"
  }
 },
 "nbformat": 4,
 "nbformat_minor": 4
}
