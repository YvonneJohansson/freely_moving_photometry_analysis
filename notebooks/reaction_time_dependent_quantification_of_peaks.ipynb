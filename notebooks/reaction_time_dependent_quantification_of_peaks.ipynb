{
 "cells": [
  {
   "cell_type": "code",
   "execution_count": 1,
   "metadata": {},
   "outputs": [
    {
     "name": "stderr",
     "output_type": "stream",
     "text": [
      "In C:\\Users\\francescag\\AppData\\Local\\Continuum\\miniconda3\\lib\\site-packages\\matplotlib\\mpl-data\\stylelib\\_classic_test.mplstyle: \n",
      "The savefig.frameon rcparam was deprecated in Matplotlib 3.1 and will be removed in 3.3.\n",
      "In C:\\Users\\francescag\\AppData\\Local\\Continuum\\miniconda3\\lib\\site-packages\\matplotlib\\mpl-data\\stylelib\\_classic_test.mplstyle: \n",
      "The verbose.level rcparam was deprecated in Matplotlib 3.1 and will be removed in 3.3.\n",
      "In C:\\Users\\francescag\\AppData\\Local\\Continuum\\miniconda3\\lib\\site-packages\\matplotlib\\mpl-data\\stylelib\\_classic_test.mplstyle: \n",
      "The verbose.fileo rcparam was deprecated in Matplotlib 3.1 and will be removed in 3.3.\n"
     ]
    }
   ],
   "source": [
    "%matplotlib qt5\n",
    "%load_ext autoreload\n",
    "%autoreload 2\n",
    "import sys\n",
    "sys.path.insert(0, 'C:\\\\Users\\\\francescag\\\\Documents\\\\SourceTree_repos\\\\Python_git\\\\freely_moving_photometry_analysis')\n",
    "import pickle\n",
    "import matplotlib.pyplot as plt\n",
    "from matplotlib import colors, cm\n",
    "import numpy as np\n",
    "import math\n",
    "from data_preprocessing.session_traces_and_mean import get_all_experimental_records\n",
    "from utils.reaction_time_utils import plot_reaction_times, plot_reaction_times_overlayed, get_valid_trials\n",
    "from utils.correlation_utils import plot_all_valid_trials_over_time, plot_binned_valid_trials, multi_animal_scatter_and_fit\n",
    "from utils.mean_trace_utils import mouseDates\n",
    "import data_preprocessing.bpod_data_processing as bpod\n",
    "import pandas as pd\n",
    "import os\n",
    "from upgrade_plotting.across_session_changes import remove_experiments"
   ]
  },
  {
   "cell_type": "markdown",
   "metadata": {},
   "source": [
    "To do: get this to reflect true trial number"
   ]
  },
  {
   "cell_type": "code",
   "execution_count": 2,
   "metadata": {
    "scrolled": true
   },
   "outputs": [],
   "source": [
    "mouse = 'SNL_photo18'\n",
    "dates = ['20200223', '20200226', '20200228', '20200229','20200303', '20200305', '20200307',\n",
    "         '20200310', '20200312', '20200313', '20200316']\n",
    "plot_reaction_times_overlayed(mouse, dates)"
   ]
  },
  {
   "cell_type": "code",
   "execution_count": 70,
   "metadata": {},
   "outputs": [],
   "source": [
    "mouse = 'SNL_photo17'\n",
    "dates = ['20200204', '20200206', '20200208', '20200210', '20200212', '20200214', '20200218', '20200221', '20200224',\n",
    "         '20200226', '20200228', '20200303','20200305', '20200307','20200310', '20200317']\n",
    "plot_reaction_times_overlayed(mouse, dates)"
   ]
  },
  {
   "cell_type": "code",
   "execution_count": 2,
   "metadata": {},
   "outputs": [],
   "source": [
    "mouse = 'SNL_photo16'\n",
    "dates = ['20200210','20200213', '20200218',  '20200220', '20200224', '20200227', '20200303','20200305', '20200307',\n",
    "         '20200310', '20200312']\n"
   ]
  },
  {
   "cell_type": "code",
   "execution_count": 31,
   "metadata": {},
   "outputs": [
    {
     "name": "stdout",
     "output_type": "stream",
     "text": [
      "20200225\n",
      "20200227\n",
      "20200302\n",
      "20200304\n",
      "20200306\n",
      "20200311\n",
      "20200313\n",
      "20200317\n"
     ]
    }
   ],
   "source": [
    "mouse = 'SNL_photo19'\n",
    "recording_site = 'Nacc'\n",
    "date = 'all'\n",
    "experiments_to_remove = {'SNL_photo19': ['20200222']}\n",
    "all_experiments = get_all_experimental_records()\n",
    "all_experiments = remove_experiments(all_experiments, experiments_to_remove)\n",
    "experiments_to_process = all_experiments[(all_experiments['mouse_id'] == mouse) & (all_experiments['recording_site'] == recording_site)]\n",
    "dates = experiments_to_process['date'].values\n",
    "session_starts, valid_trials, valid_reaction_times, valid_peaks, valid_trial_nums = get_valid_trials(mouse, dates, window_around_mean=2, recording_site=recording_site)"
   ]
  },
  {
   "cell_type": "code",
   "execution_count": 27,
   "metadata": {},
   "outputs": [
    {
     "name": "stdout",
     "output_type": "stream",
     "text": [
      "20201118\n",
      "20201119\n",
      "20201121\n",
      "20201123\n",
      "20201125\n",
      "20201127\n",
      "20201130\n",
      "20201202\n",
      "20201205\n",
      "20201209\n"
     ]
    }
   ],
   "source": [
    "mouse = 'SNL_photo31'\n",
    "recording_site = 'Nacc'\n",
    "date = 'all'\n",
    "experiments_to_remove = {'SNL_photo31': ['20201211', '20201214','20201216', '20201218', '20201219', '20201221', '20201222'],'SNL_photo19': ['20200222'], 'SNL_photo26':['20200830', '20200831', '20200829', '20200917', '20200918', '20200921', '20201007', '20200911', '20200915', '20201008', '20201009']}\n",
    "all_experiments = get_all_experimental_records()\n",
    "all_experiments = remove_experiments(all_experiments, experiments_to_remove)\n",
    "experiments_to_process = all_experiments[(all_experiments['mouse_id'] == mouse) & (all_experiments['recording_site'] == recording_site)]\n",
    "dates = experiments_to_process['date'].values\n",
    "session_starts, valid_trials, valid_reaction_times, valid_peaks, valid_trial_nums = get_valid_trials(mouse, dates, window_around_mean=2, recording_site=recording_site, side='contra')"
   ]
  },
  {
   "cell_type": "code",
   "execution_count": 32,
   "metadata": {},
   "outputs": [],
   "source": [
    "plot_all_valid_trials_over_time(session_starts, valid_peaks, valid_trial_nums)\n",
    "a = plot_binned_valid_trials(valid_peaks, valid_trial_nums, window_size=40, fit_line='None')"
   ]
  },
  {
   "cell_type": "code",
   "execution_count": 28,
   "metadata": {},
   "outputs": [
    {
     "name": "stdout",
     "output_type": "stream",
     "text": [
      "a\n"
     ]
    }
   ],
   "source": [
    "print('a')"
   ]
  },
  {
   "cell_type": "code",
   "execution_count": null,
   "metadata": {
    "scrolled": true
   },
   "outputs": [],
   "source": [
    "mouse = 'SNL_photo19'\n",
    "recording_site = 'Nacc'\n",
    "date = 'all'\n",
    "experiments_to_remove = {'SNL_photo19': ['20200222']}\n",
    "all_experiments = get_all_experimental_records()\n",
    "all_experiments = remove_experiments(all_experiments, experiments_to_remove)\n",
    "experiments_to_process = all_experiments[(all_experiments['mouse_id'] == mouse) & (all_experiments['recording_site'] == recording_site)]\n",
    "dates = experiments_to_process['date'].values\n",
    "session_starts, valid_trials, valid_reaction_times, valid_peaks, valid_trial_nums = get_valid_trials(mouse, dates, window_around_mean=2, recording_site=recording_site)\n",
    "plot_all_valid_trials_over_time(session_starts, valid_peaks, valid_trial_nums)\n",
    "a = plot_binned_valid_trials(valid_peaks, valid_trial_nums, window_size=40, fit_line='logarithmic growth')\n",
    "# the error is due to me sometimes using the peak finding one where I replace peaks it can't find with nans and sometimes with empthy list"
   ]
  },
  {
   "cell_type": "code",
   "execution_count": 20,
   "metadata": {},
   "outputs": [
    {
     "data": {
      "text/plain": [
       "1.4959296919086087"
      ]
     },
     "execution_count": 20,
     "metadata": {},
     "output_type": "execute_result"
    }
   ],
   "source": [
    "np.nanmean(valid_peaks[-500:])"
   ]
  },
  {
   "cell_type": "code",
   "execution_count": 21,
   "metadata": {},
   "outputs": [],
   "source": [
    "plot_all_valid_trials_over_time(session_starts, valid_peaks, valid_trial_nums)"
   ]
  },
  {
   "cell_type": "code",
   "execution_count": 17,
   "metadata": {},
   "outputs": [
    {
     "name": "stdout",
     "output_type": "stream",
     "text": [
      "20200223\n",
      "20200226\n",
      "20200228\n",
      "20200229\n",
      "20200303\n",
      "20200305\n",
      "20200307\n",
      "20200310\n",
      "20200312\n",
      "20200313\n",
      "20200316\n"
     ]
    }
   ],
   "source": [
    "mouse = 'SNL_photo18'\n",
    "recording_site = 'tail'\n",
    "date = 'all'\n",
    "experiments_to_remove = {'SNL_photo21': ['20200805', '20200829', '20200830', '20200831'], 'SNL_photo25': ['20200812']}\n",
    "all_experiments = get_all_experimental_records()\n",
    "good_experiments = remove_experiments(all_experiments, experiments_to_remove)\n",
    "experiments_to_process = good_experiments[(good_experiments['mouse_id'] == mouse) & (good_experiments['recording_site'] == recording_site)]\n",
    "dates = experiments_to_process['date'].values\n",
    "session_starts, valid_trials, valid_reaction_times, valid_peaks, valid_trial_nums = get_valid_trials(mouse, dates, window_around_mean=2, recording_site=recording_site)\n",
    "plot_all_valid_trials_over_time(session_starts, valid_peaks, valid_trial_nums)\n",
    "a = plot_binned_valid_trials(valid_peaks, valid_trial_nums, window_size=40, fit_line='None')\n"
   ]
  },
  {
   "cell_type": "code",
   "execution_count": 18,
   "metadata": {},
   "outputs": [
    {
     "name": "stdout",
     "output_type": "stream",
     "text": [
      "pre-exponential factor = 1.11 (+/-) 0.20\n",
      "rate constant = -0.00041 (+/-) 0.00015\n",
      "r-squared value:  0.5794136774391154\n"
     ]
    }
   ],
   "source": [
    "a = plot_binned_valid_trials(valid_peaks, valid_trial_nums, window_size=40, fit_line='exponential decay')"
   ]
  },
  {
   "cell_type": "code",
   "execution_count": 6,
   "metadata": {},
   "outputs": [],
   "source": [
    "mouse = 'SNL_photo23'\n",
    "recording_site = 'Nacc'\n",
    "dates = ['20200820','20200822','20200824','20200826','20200828','20200829']\n",
    "session_starts, valid_trials, valid_reaction_times, valid_peaks, valid_trial_nums = get_valid_trials(mouse, dates, window_around_mean=2, recording_site=recording_site)\n",
    "plot_all_valid_trials_over_time(session_starts, valid_peaks, valid_trial_nums)\n",
    "a = plot_binned_valid_trials(valid_peaks, valid_trial_nums, window_size=40, fit_line='None')"
   ]
  },
  {
   "cell_type": "code",
   "execution_count": 5,
   "metadata": {},
   "outputs": [],
   "source": [
    "plot_reaction_times_overlayed('SNL_photo22', ['20200824', '20200826'])"
   ]
  },
  {
   "cell_type": "code",
   "execution_count": 52,
   "metadata": {},
   "outputs": [],
   "source": [
    "experiments_to_remove = {'SNL_photo21': ['20200805', '20200806'], 'SNL_photo25': ['20200812']}\n",
    "all_experiments = get_all_experimental_records()\n",
    "good_recordings = remove_experiments(all_experiments, experiments_to_remove)\n",
    "experiments_to_process = good_recordings[(good_recordings['mouse_id'] == mouse) & (good_recordings['recording_site'] == recording_site)]"
   ]
  },
  {
   "cell_type": "code",
   "execution_count": null,
   "metadata": {},
   "outputs": [],
   "source": [
    "mice = ['SNL_photo21', 'SNL_photo22','SNL_photo26']\n",
    "recording_site = 'tail'\n",
    "date = 'all'\n",
    "experiments_to_remove = {'SNL_photo21': ['20200805',  '20200829', '20200830', '20200831'], 'SNL_photo22': [ '20200829', '20200830', '20200831'], 'SNL_photo26': ['20200829', '20200830', '20200831']}\n",
    "all_experiments = get_all_experimental_records()\n",
    "good_experiments = remove_experiments(all_experiments, experiments_to_remove)\n",
    "mice_dates = []\n",
    "for mouse in mice:\n",
    "    all_experiments = get_all_experimental_records()\n",
    "    experiments_to_process = good_experiments[(good_experiments['mouse_id'] == mouse) & (good_experiments['recording_site'] == recording_site)]\n",
    "    dates = experiments_to_process['date'].values\n",
    "    dates = experiments_to_process['date'].values\n",
    "    mice_dates.append(mouseDates(mouse, dates))\n",
    "\n",
    "multi_animal_scatter_and_fit(mice_dates, fit_type='None')"
   ]
  },
  {
   "cell_type": "code",
   "execution_count": 53,
   "metadata": {},
   "outputs": [
    {
     "name": "stdout",
     "output_type": "stream",
     "text": [
      "20200210\n",
      "20200213\n",
      "20200218\n",
      "20200220\n",
      "20200224\n",
      "20200227\n",
      "20200303\n",
      "20200305\n",
      "20200307\n",
      "20200310\n",
      "20200312\n",
      "pre-exponential factor = 1.16 (+/-) 0.99\n",
      "rate constant = -0.00063 (+/-) 0.00042\n",
      "r-squared value:  0.10726765709412289\n",
      "20200204\n",
      "20200206\n",
      "20200208\n",
      "20200210\n",
      "20200212\n",
      "20200214\n",
      "20200218\n",
      "20200221\n",
      "20200224\n",
      "20200226\n",
      "20200228\n",
      "20200303\n",
      "20200305\n",
      "20200307\n",
      "20200310\n",
      "20200311\n",
      "20200317\n",
      "pre-exponential factor = 1.45 (+/-) 0.36\n",
      "rate constant = -0.00013 (+/-) 0.00008\n",
      "r-squared value:  0.5370289709343962\n",
      "20200223\n",
      "20200226\n",
      "20200228\n",
      "20200229\n",
      "20200303\n",
      "20200305\n",
      "20200307\n",
      "20200310\n",
      "20200312\n",
      "20200313\n",
      "20200316\n",
      "pre-exponential factor = 1.10 (+/-) 0.19\n",
      "rate constant = -0.00040 (+/-) 0.00015\n",
      "r-squared value:  0.5111762485357498\n"
     ]
    }
   ],
   "source": [
    "mice = ['SNL_photo16', 'SNL_photo17', 'SNL_photo18']\n",
    "#['SNL_photo21', 'SNL_photo22','SNL_photo26']\n",
    "recording_site = 'tail'\n",
    "date = 'all'\n",
    "experiments_to_remove = {'SNL_photo21': ['20200805',  '20200829', '20200830', '20200831'], 'SNL_photo22': [ '20200829', '20200830', '20200831'], 'SNL_photo26': ['20200829', '20200830', '20200831']}\n",
    "\n",
    "all_experiments = get_all_experimental_records()\n",
    "good_experiments = remove_experiments(all_experiments, experiments_to_remove)\n",
    "mice_dates = []\n",
    "for mouse in mice:\n",
    "    all_experiments = get_all_experimental_records()\n",
    "    experiments_to_process = good_experiments[(good_experiments['mouse_id'] == mouse) & (good_experiments['recording_site'] == recording_site)]\n",
    "    dates = experiments_to_process['date'].values\n",
    "    dates = experiments_to_process['date'].values\n",
    "    mice_dates.append(mouseDates(mouse, dates))\n",
    "\n",
    "multi_animal_scatter_and_fit(mice_dates, fit_type='exponential decay')"
   ]
  },
  {
   "cell_type": "code",
   "execution_count": 3,
   "metadata": {},
   "outputs": [],
   "source": [
    "multi_animal_scatter_and_fit(mice_dates, fit_type='logarithmic growth')"
   ]
  },
  {
   "cell_type": "code",
   "execution_count": 9,
   "metadata": {
    "scrolled": true
   },
   "outputs": [
    {
     "name": "stdout",
     "output_type": "stream",
     "text": [
      "pre-exponential factor = 0.00 (+/-) 0.00\n",
      "rate constant = 1.33029 (+/-) 0.08589\n",
      "r-squared value:  0.07683059268201908\n"
     ]
    }
   ],
   "source": [
    "# DMS\n",
    "mouse = 'SNL_photo18'\n",
    "dates = ['20200224', '20200227', '20200302','20200304', '20200306', '20200311',\n",
    "         '20200317']\n",
    "session_starts, valid_trials, valid_reaction_times, valid_peaks, valid_trial_nums = get_valid_trials(mouse, dates, window_around_mean=2)\n",
    "plot_all_valid_trials_over_time(session_starts, valid_peaks, valid_trial_nums)\n",
    "a = plot_binned_valid_trials(valid_peaks, valid_trial_nums, window_size=30, fit_line='linear decay')\n",
    "# correlate_reaction_times_and_peaks(mouse, valid_reaction_times, valid_peaks)"
   ]
  },
  {
   "cell_type": "code",
   "execution_count": 8,
   "metadata": {},
   "outputs": [
    {
     "name": "stdout",
     "output_type": "stream",
     "text": [
      "pre-exponential factor = 0.00 (+/-) 0.00\n",
      "rate constant = 1.94289 (+/-) 0.12906\n",
      "r-squared value:  0.2043879541553284\n"
     ]
    }
   ],
   "source": [
    "# DMS\n",
    "mouse = 'SNL_photo20'\n",
    "dates = ['20200225', '20200302', '20200304', '20200306', '20200311', '20200313', '20200317']\n",
    "session_starts, valid_trials, valid_reaction_times, valid_peaks, valid_trial_nums = get_valid_trials(mouse, dates, window_around_mean=2)\n",
    "plot_all_valid_trials_over_time(session_starts, valid_peaks, valid_trial_nums)\n",
    "a = plot_binned_valid_trials(valid_peaks, valid_trial_nums, window_size=30, fit_line='linear decay')\n",
    "#correlate_reaction_times_and_peaks(mouse, valid_reaction_times, valid_peaks)"
   ]
  },
  {
   "cell_type": "code",
   "execution_count": 3,
   "metadata": {},
   "outputs": [
    {
     "name": "stdout",
     "output_type": "stream",
     "text": [
      "pre-exponential factor = 1.39 (+/-) 0.21\n",
      "rate constant = -0.00036 (+/-) 0.00013\n",
      "r-squared value:  0.6070914516817529\n"
     ]
    }
   ],
   "source": [
    "mouse = 'SNL_photo18'\n",
    "dates = ['20200223', '20200226', '20200228', '20200229','20200303', '20200305', '20200307',\n",
    "         '20200310', '20200312', '20200313', '20200316']\n",
    "session_starts, valid_trials, valid_reaction_times, valid_peaks, valid_trial_nums = get_valid_trials(mouse, dates, window_around_mean=2)\n",
    "plot_all_valid_trials_over_time(session_starts, valid_peaks, valid_trial_nums)\n",
    "a = plot_binned_valid_trials(valid_peaks, valid_trial_nums, window_size=30)\n",
    "# correlate_reaction_times_and_peaks(mouse, valid_reaction_times, valid_peaks)"
   ]
  },
  {
   "cell_type": "code",
   "execution_count": 106,
   "metadata": {},
   "outputs": [
    {
     "name": "stdout",
     "output_type": "stream",
     "text": [
      "pre-exponential factor = -0.00 (+/-) 0.00\n",
      "rate constant = 0.80749 (+/-) 0.03644\n",
      "0.5236994647149211\n"
     ]
    },
    {
     "name": "stderr",
     "output_type": "stream",
     "text": [
      "No handles with labels found to put in legend.\n"
     ]
    }
   ],
   "source": [
    "mouse = 'SNL_photo18'\n",
    "dates = ['20200223', '20200226', '20200228', '20200229','20200303', '20200305', '20200307',\n",
    "         '20200310', '20200312', '20200313', '20200316']\n",
    "session_starts, valid_trials, valid_reaction_times, valid_peaks, valid_trial_nums = get_valid_trials(mouse, dates, window_around_mean=2)\n",
    "plot_all_valid_trials_over_time(session_starts, valid_peaks, valid_trial_nums)\n",
    "a = plot_binned_valid_trials(valid_peaks, valid_trial_nums, window_size=30, fit_line='linear decay')\n",
    "# correlate_reaction_times_and_peaks(mouse, valid_reaction_times, valid_peaks)"
   ]
  },
  {
   "cell_type": "code",
   "execution_count": 103,
   "metadata": {
    "scrolled": false
   },
   "outputs": [
    {
     "name": "stdout",
     "output_type": "stream",
     "text": [
      "pre-exponential factor = -0.00 (+/-) 0.00\n",
      "rate constant = 0.67966 (+/-) 0.03200\n",
      "0.5212880926876824\n"
     ]
    },
    {
     "name": "stderr",
     "output_type": "stream",
     "text": [
      "No handles with labels found to put in legend.\n"
     ]
    }
   ],
   "source": [
    "mouse = 'SNL_photo17'\n",
    "dates = ['20200204', '20200206', '20200208', '20200210', '20200212', '20200214', '20200218', '20200221', '20200224',\n",
    "         '20200226', '20200228', '20200303','20200305', '20200307','20200310', '20200317']\n",
    "session_starts, valid_trials, valid_reaction_times, valid_peaks, valid_trial_nums = get_valid_trials(mouse, dates, window_around_mean=2)\n",
    "plot_all_valid_trials_over_time(session_starts, valid_peaks, valid_trial_nums)\n",
    "a = plot_binned_valid_trials(valid_peaks, valid_trial_nums, window_size=30, fit_line='linear decay')\n",
    "#correlate_reaction_times_and_peaks(mouse, valid_reaction_times, valid_peaks)"
   ]
  },
  {
   "cell_type": "code",
   "execution_count": 104,
   "metadata": {},
   "outputs": [
    {
     "name": "stdout",
     "output_type": "stream",
     "text": [
      "pre-exponential factor = 0.69 (+/-) 0.19\n",
      "rate constant = -0.00013 (+/-) 0.00008\n",
      "0.5315955598164513\n"
     ]
    },
    {
     "name": "stderr",
     "output_type": "stream",
     "text": [
      "No handles with labels found to put in legend.\n"
     ]
    }
   ],
   "source": [
    "mouse = 'SNL_photo17'\n",
    "dates = ['20200204', '20200206', '20200208', '20200210', '20200212', '20200214', '20200218', '20200221', '20200224',\n",
    "         '20200226', '20200228', '20200303','20200305', '20200307','20200310', '20200317']\n",
    "session_starts, valid_trials, valid_reaction_times, valid_peaks, valid_trial_nums = get_valid_trials(mouse, dates, window_around_mean=2)\n",
    "plot_all_valid_trials_over_time(session_starts, valid_peaks, valid_trial_nums)\n",
    "a = plot_binned_valid_trials(valid_peaks, valid_trial_nums, window_size=30, fit_line='exponential decay')\n",
    "#correlate_reaction_times_and_peaks(mouse, valid_reaction_times, valid_peaks)"
   ]
  },
  {
   "cell_type": "code",
   "execution_count": 102,
   "metadata": {},
   "outputs": [
    {
     "name": "stdout",
     "output_type": "stream",
     "text": [
      "pre-exponential factor = -0.00 (+/-) 0.00\n",
      "rate constant = 0.84318 (+/-) 0.05661\n",
      "0.14992961791089643\n"
     ]
    },
    {
     "name": "stderr",
     "output_type": "stream",
     "text": [
      "No handles with labels found to put in legend.\n"
     ]
    }
   ],
   "source": [
    "mouse = 'SNL_photo16'\n",
    "dates = ['20200210','20200213', '20200218',  '20200220', '20200224', '20200227', '20200303','20200305', '20200307',\n",
    "         '20200310', '20200312']\n",
    "session_starts, valid_trials, valid_reaction_times, valid_peaks, valid_trial_nums = get_valid_trials(mouse, dates, window_around_mean=2)\n",
    "plot_all_valid_trials_over_time(session_starts, valid_peaks, valid_trial_nums)\n",
    "a = plot_binned_valid_trials(valid_peaks, valid_trial_nums, window_size=30, fit_line='linear decay')\n",
    "#correlate_reaction_times_and_peaks(mouse, valid_reaction_times, valid_peaks)"
   ]
  },
  {
   "cell_type": "code",
   "execution_count": 20,
   "metadata": {
    "scrolled": false
   },
   "outputs": [
    {
     "ename": "TypeError",
     "evalue": "get_valid_trials() got an unexpected keyword argument 'type_of_session'",
     "output_type": "error",
     "traceback": [
      "\u001b[1;31m---------------------------------------------------------------------------\u001b[0m",
      "\u001b[1;31mTypeError\u001b[0m                                 Traceback (most recent call last)",
      "\u001b[1;32m<ipython-input-20-2282e8ea1614>\u001b[0m in \u001b[0;36m<module>\u001b[1;34m\u001b[0m\n\u001b[0;32m      2\u001b[0m \u001b[0mmouse\u001b[0m \u001b[1;33m=\u001b[0m \u001b[1;34m'SNL_photo19'\u001b[0m\u001b[1;33m\u001b[0m\u001b[1;33m\u001b[0m\u001b[0m\n\u001b[0;32m      3\u001b[0m \u001b[0mdates\u001b[0m \u001b[1;33m=\u001b[0m \u001b[1;33m[\u001b[0m\u001b[1;34m'20200222'\u001b[0m\u001b[1;33m,\u001b[0m\u001b[1;34m'20200225'\u001b[0m\u001b[1;33m,\u001b[0m \u001b[1;34m'20200227'\u001b[0m\u001b[1;33m,\u001b[0m \u001b[1;34m'20200302'\u001b[0m\u001b[1;33m,\u001b[0m \u001b[1;34m'20200304'\u001b[0m\u001b[1;33m,\u001b[0m \u001b[1;34m'20200306'\u001b[0m\u001b[1;33m,\u001b[0m \u001b[1;34m'20200311'\u001b[0m\u001b[1;33m,\u001b[0m \u001b[1;34m'20200317'\u001b[0m\u001b[1;33m]\u001b[0m\u001b[1;33m\u001b[0m\u001b[1;33m\u001b[0m\u001b[0m\n\u001b[1;32m----> 4\u001b[1;33m \u001b[0msession_starts\u001b[0m\u001b[1;33m,\u001b[0m \u001b[0mvalid_trials\u001b[0m\u001b[1;33m,\u001b[0m \u001b[0mvalid_reaction_times\u001b[0m\u001b[1;33m,\u001b[0m \u001b[0mvalid_peaks\u001b[0m\u001b[1;33m,\u001b[0m \u001b[0mvalid_trial_nums\u001b[0m \u001b[1;33m=\u001b[0m \u001b[0mget_valid_trials\u001b[0m\u001b[1;33m(\u001b[0m\u001b[0mmouse\u001b[0m\u001b[1;33m,\u001b[0m \u001b[0mdates\u001b[0m\u001b[1;33m,\u001b[0m \u001b[0mwindow_around_mean\u001b[0m\u001b[1;33m=\u001b[0m\u001b[1;36m2\u001b[0m\u001b[1;33m,\u001b[0m \u001b[0mtype_of_session\u001b[0m\u001b[1;33m=\u001b[0m\u001b[1;34m'cue'\u001b[0m\u001b[1;33m)\u001b[0m\u001b[1;33m\u001b[0m\u001b[1;33m\u001b[0m\u001b[0m\n\u001b[0m\u001b[0;32m      5\u001b[0m \u001b[0mplot_all_valid_trials_over_time\u001b[0m\u001b[1;33m(\u001b[0m\u001b[0msession_starts\u001b[0m\u001b[1;33m,\u001b[0m \u001b[0mvalid_peaks\u001b[0m\u001b[1;33m,\u001b[0m \u001b[0mvalid_trial_nums\u001b[0m\u001b[1;33m)\u001b[0m\u001b[1;33m\u001b[0m\u001b[1;33m\u001b[0m\u001b[0m\n\u001b[0;32m      6\u001b[0m \u001b[0mplot_binned_valid_trials\u001b[0m\u001b[1;33m(\u001b[0m\u001b[0mvalid_peaks\u001b[0m\u001b[1;33m,\u001b[0m \u001b[0mvalid_trial_nums\u001b[0m\u001b[1;33m,\u001b[0m \u001b[0mwindow_size\u001b[0m\u001b[1;33m=\u001b[0m\u001b[1;36m30\u001b[0m\u001b[1;33m,\u001b[0m \u001b[0mfit_line\u001b[0m\u001b[1;33m=\u001b[0m\u001b[1;34m'logarithmic growth'\u001b[0m\u001b[1;33m)\u001b[0m\u001b[1;33m\u001b[0m\u001b[1;33m\u001b[0m\u001b[0m\n",
      "\u001b[1;31mTypeError\u001b[0m: get_valid_trials() got an unexpected keyword argument 'type_of_session'"
     ]
    }
   ],
   "source": [
    "# NAcc recordings not including first recording on 20200222\n",
    "mouse = 'SNL_photo19'\n",
    "dates = ['20200225', '20200227', '20200302', '20200304', '20200306', '20200311', '20200317']\n",
    "session_starts, valid_trials, valid_reaction_times, valid_peaks, valid_trial_nums = get_valid_trials(mouse, dates, window_around_mean=2, type_of_session='cue')\n",
    "plot_all_valid_trials_over_time(session_starts, valid_peaks, valid_trial_nums)\n",
    "plot_binned_valid_trials(valid_peaks, valid_trial_nums, window_size=30, fit_line='logarithmic growth')"
   ]
  },
  {
   "cell_type": "code",
   "execution_count": null,
   "metadata": {},
   "outputs": [],
   "source": [
    "# aic and bic (bic is bayesian) for model selection"
   ]
  },
  {
   "cell_type": "code",
   "execution_count": 83,
   "metadata": {},
   "outputs": [],
   "source": [
    "mice_dates = []\n",
    "mouse1 = 'SNL_photo16'\n",
    "dates1 = ['20200210','20200213', '20200218',  '20200220', '20200224', '20200227', '20200303','20200305', '20200307',\n",
    "         '20200310', '20200312']\n",
    "mice_dates.append(mouseDates(mouse1, dates1))\n",
    "mouse2 = 'SNL_photo17'\n",
    "dates2 = dates = ['20200204', '20200206', '20200208', '20200210', '20200212', '20200214', '20200218', '20200221', '20200224',\n",
    "         '20200226', '20200228', '20200303','20200305', '20200307','20200310', '20200317']\n",
    "mice_dates.append(mouseDates(mouse2, dates2))\n",
    "mouse3 = 'SNL_photo18'\n",
    "dates3 = ['20200223', '20200226', '20200228', '20200229','20200303', '20200305', '20200307',\n",
    "         '20200310', '20200312', '20200313', '20200316']\n",
    "mice_dates.append(mouseDates(mouse3, dates3))\n"
   ]
  },
  {
   "cell_type": "code",
   "execution_count": 111,
   "metadata": {
    "scrolled": true
   },
   "outputs": [
    {
     "name": "stdout",
     "output_type": "stream",
     "text": [
      "pre-exponential factor = -0.00 (+/-) 0.00\n",
      "rate constant = 1.44328 (+/-) 0.09690\n",
      "0.14992961791089687\n",
      "pre-exponential factor = -0.00 (+/-) 0.00\n",
      "rate constant = 1.54676 (+/-) 0.07283\n",
      "0.5212880926876824\n",
      "pre-exponential factor = -0.00 (+/-) 0.00\n",
      "rate constant = 1.84476 (+/-) 0.08325\n",
      "0.5236994647149211\n"
     ]
    }
   ],
   "source": [
    "multi_animal_scatter_and_fit(mice_dates, fit_type='linear decay')"
   ]
  },
  {
   "cell_type": "code",
   "execution_count": 110,
   "metadata": {},
   "outputs": [
    {
     "name": "stdout",
     "output_type": "stream",
     "text": [
      "pre-exponential factor = 0.98 (+/-) 0.50\n",
      "rate constant = -0.00036 (+/-) 0.00023\n",
      "0.17964312761820755\n",
      "pre-exponential factor = 1.56 (+/-) 0.44\n",
      "rate constant = -0.00013 (+/-) 0.00008\n",
      "0.5315955601257432\n",
      "pre-exponential factor = 1.39 (+/-) 0.21\n",
      "rate constant = -0.00036 (+/-) 0.00013\n",
      "0.6070914516817529\n"
     ]
    }
   ],
   "source": [
    "multi_animal_scatter_and_fit(mice_dates, fit_type='exponential decay')"
   ]
  },
  {
   "cell_type": "code",
   "execution_count": null,
   "metadata": {},
   "outputs": [],
   "source": []
  }
 ],
 "metadata": {
  "kernelspec": {
   "display_name": "Python 3",
   "language": "python",
   "name": "python3"
  },
  "language_info": {
   "codemirror_mode": {
    "name": "ipython",
    "version": 3
   },
   "file_extension": ".py",
   "mimetype": "text/x-python",
   "name": "python",
   "nbconvert_exporter": "python",
   "pygments_lexer": "ipython3",
   "version": "3.7.3"
  }
 },
 "nbformat": 4,
 "nbformat_minor": 4
}
