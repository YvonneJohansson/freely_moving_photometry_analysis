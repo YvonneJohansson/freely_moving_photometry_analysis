{
 "cells": [
  {
   "cell_type": "code",
   "execution_count": 38,
   "metadata": {},
   "outputs": [
    {
     "name": "stdout",
     "output_type": "stream",
     "text": [
      "The autoreload extension is already loaded. To reload it, use:\n",
      "  %reload_ext autoreload\n"
     ]
    }
   ],
   "source": [
    "%load_ext autoreload\n",
    "%autoreload 2\n",
    "%matplotlib qt5\n",
    "# Add modules to the path\n",
    "import sys\n",
    "import os\n",
    "sys.path.insert(0, 'C:\\\\Users\\\\francescag\\\\Documents\\\\SourceTree_repos\\\\Python_git')\n",
    "sys.path.insert(0, 'C:\\\\Users\\\\francescag\\\\Documents\\\\SourceTree_repos')\n",
    "sys.path.insert(0, 'C:\\\\Users\\\\francescag\\\\Documents\\\\SourceTree_repos\\\\Python_git\\\\freely_moving_photometry_analysis')\n",
    "import peakutils\n",
    "from matplotlib import colors, cm\n",
    "from scipy.signal import decimate\n",
    "import copy\n",
    "import matplotlib.pyplot as plt\n",
    "import matplotlib\n",
    "import numpy as np\n",
    "import pandas as pd\n",
    "import peakutils\n",
    "import seaborn as sns\n",
    "import pickle\n",
    "from utils.plotting import HeatMapParams\n",
    "from utils.plotting import heat_map_and_mean\n",
    "from utils.plotting import get_photometry_around_event\n",
    "from scipy import stats\n",
    "from utils.plotting_visuals import makes_plots_pretty\n",
    "from utils.value_change_utils import open_experiment, CustomAlignedDataRewardBlocks, get_all_experimental_records, get_block_change_info, add_traces_and_peaks, plot_mean_trace_for_condition_value_switch, one_session_get_block_changes"
   ]
  },
  {
   "cell_type": "code",
   "execution_count": 39,
   "metadata": {},
   "outputs": [],
   "source": [
    "root_directory = 'C:\\\\Users\\\\francescag\\\\Documents\\\\SourceTree_repos\\\\Python_git\\\\freely_moving_photometry_analysis\\\\utils\\\\'\n",
    "#figure_dir = 'W:\\\\photometry_2AC\\\\plots\\\\SNL_photo21_26\\\\value_change_experiment'\n",
    "figure_dir = 'W:\\\\photometry_2AC\\\\plots\\\\SNL_photo28_35\\\\value_change_experiment'\n",
    "processed_data_dir = os.path.join(root_directory, 'value_change_data')\n",
    "block_data_file = os.path.join(processed_data_dir, 'value_switch_all_tail_mice.csv')\n",
    "all_reward_block_data = pd.read_pickle(block_data_file)"
   ]
  },
  {
   "cell_type": "code",
   "execution_count": 40,
   "metadata": {},
   "outputs": [],
   "source": [
    "sorted_data = all_reward_block_data.sort_values(['mouse', 'session', 'trial number']).reset_index(drop=True)"
   ]
  },
  {
   "cell_type": "code",
   "execution_count": 41,
   "metadata": {},
   "outputs": [],
   "source": [
    "sorted_data['block switches'] = sorted_data['block number'] - sorted_data['block number'].shift()"
   ]
  },
  {
   "cell_type": "code",
   "execution_count": 42,
   "metadata": {},
   "outputs": [],
   "source": [
    "sorted_data['new sessions'] = sorted_data['session'].ne(sorted_data['session'].shift().bfill()).astype(int)\n",
    "sorted_data.iloc[0, sorted_data.columns.get_loc('new sessions')] = 1\n",
    "sorted_data.loc[sorted_data['new sessions'] == 1, 'block switches'] = 1\n"
   ]
  },
  {
   "cell_type": "code",
   "execution_count": 43,
   "metadata": {},
   "outputs": [],
   "source": [
    "block_switch_inds = sorted_data.loc[sorted_data['block switches'] != 0].reset_index(drop=True)"
   ]
  },
  {
   "cell_type": "code",
   "execution_count": 44,
   "metadata": {},
   "outputs": [
    {
     "name": "stdout",
     "output_type": "stream",
     "text": [
      "SNL_photo37 40\n",
      "SNL_photo37 90\n",
      "SNL_photo37 48\n",
      "SNL_photo37 118\n",
      "SNL_photo37 45\n",
      "SNL_photo37 74\n",
      "SNL_photo37 47\n",
      "SNL_photo37 79\n",
      "SNL_photo43 44\n",
      "SNL_photo43 133\n",
      "SNL_photo43 42\n",
      "SNL_photo43 108\n",
      "SNL_photo43 44\n",
      "SNL_photo43 90\n",
      "SNL_photo43 39\n",
      "SNL_photo43 90\n",
      "SNL_photo44 49\n",
      "SNL_photo44 69\n",
      "SNL_photo44 39\n",
      "SNL_photo44 107\n",
      "SNL_photo44 40\n",
      "SNL_photo44 90\n",
      "SNL_photo44 45\n",
      "SNL_photo44 85\n"
     ]
    }
   ],
   "source": [
    "# for each block I need to get: \n",
    "# - second half of trials (from ten trials after swtich)\n",
    "# - traces corresponding to those trials\n",
    "# - mean trace for those trials\n",
    "# - block value\n",
    "num_trials_to_look_at = 30\n",
    "min_num_trials = 50\n",
    "traces = []\n",
    "peaks = []\n",
    "trial_nums = []\n",
    "block_inds = []\n",
    "rel_reward_amounts = []\n",
    "reward_amounts = []\n",
    "mouse_ids = []\n",
    "session_ids = []\n",
    "num_blocks = block_switch_inds.index.values.shape[0]\n",
    "for block_num, block in block_switch_inds.iterrows():\n",
    "    first_trial = block['trial number']\n",
    "    mouse = block['mouse']\n",
    "    session = block['session']\n",
    "    block_id = block['block number']\n",
    "    all_session_trials = sorted_data[(sorted_data['mouse'] == mouse) & (sorted_data['session'] == session)]\n",
    "    all_block_trials = all_session_trials[all_session_trials['block number'] == block_id]\n",
    "    print(mouse, all_block_trials.shape[0])\n",
    "    if block_id == 0 or all_block_trials.shape[0]>=min_num_trials:\n",
    "        last_trials_of_block = all_block_trials[-num_trials_to_look_at:]\n",
    "        mean_trace = last_trials_of_block['traces'].apply(np.mean)\n",
    "        avg_trace = last_trials_of_block.groupby(['mouse', 'contra reward amount'])['traces'].apply(np.mean).values[0]\n",
    "        decimated = decimate(avg_trace[int(len(avg_trace)/2):], 10) \n",
    "        peak_idx = peakutils.indexes(decimated)[0] \n",
    "        peak = decimated[peak_idx]\n",
    "        traces.append(decimated)\n",
    "        peaks.append(peak)\n",
    "        trial_nums.append(last_trials_of_block['trial number'].values)\n",
    "        rel_reward_amounts.append(last_trials_of_block['relative reward amount'].values[0])\n",
    "        reward_amounts.append(last_trials_of_block['contra reward amount'].values[0])\n",
    "        block_inds.append(last_trials_of_block.index.values[0])\n",
    "        mouse_ids.append(mouse)\n",
    "        session_ids.append(session)"
   ]
  },
  {
   "cell_type": "code",
   "execution_count": 45,
   "metadata": {},
   "outputs": [],
   "source": [
    "avg_block_data = {}\n",
    "avg_block_data['block id'] = block_inds\n",
    "avg_block_data['peaks'] = peaks\n",
    "avg_block_data['relative reward amount'] = rel_reward_amounts\n",
    "avg_block_data['contra reward amount'] = reward_amounts\n",
    "avg_block_data['mouse'] = mouse_ids\n",
    "avg_block_data['session'] = session_ids\n",
    "avg_block_dataf = pd.DataFrame(avg_block_data)"
   ]
  },
  {
   "cell_type": "code",
   "execution_count": 46,
   "metadata": {},
   "outputs": [],
   "source": [
    "avg_block_dataf['avg traces'] = pd.Series(traces, index=avg_block_dataf.index)"
   ]
  },
  {
   "cell_type": "code",
   "execution_count": 47,
   "metadata": {},
   "outputs": [],
   "source": [
    "df_for_plot1 = avg_block_dataf.groupby(['mouse', 'relative reward amount'])['peaks'].apply(np.mean)\n",
    "df_for_plot2 = avg_block_dataf.groupby(['mouse', 'contra reward amount'])['peaks'].apply(np.mean)"
   ]
  },
  {
   "cell_type": "code",
   "execution_count": 48,
   "metadata": {},
   "outputs": [],
   "source": [
    "df_for_plot1 = df_for_plot1.reset_index()\n",
    "df_for_plot2 = df_for_plot2.reset_index()"
   ]
  },
  {
   "cell_type": "code",
   "execution_count": 49,
   "metadata": {},
   "outputs": [
    {
     "data": {
      "text/html": [
       "<div>\n",
       "<style scoped>\n",
       "    .dataframe tbody tr th:only-of-type {\n",
       "        vertical-align: middle;\n",
       "    }\n",
       "\n",
       "    .dataframe tbody tr th {\n",
       "        vertical-align: top;\n",
       "    }\n",
       "\n",
       "    .dataframe thead th {\n",
       "        text-align: right;\n",
       "    }\n",
       "</style>\n",
       "<table border=\"1\" class=\"dataframe\">\n",
       "  <thead>\n",
       "    <tr style=\"text-align: right;\">\n",
       "      <th></th>\n",
       "      <th>mouse</th>\n",
       "      <th>relative reward amount</th>\n",
       "      <th>peaks</th>\n",
       "    </tr>\n",
       "  </thead>\n",
       "  <tbody>\n",
       "    <tr>\n",
       "      <th>0</th>\n",
       "      <td>SNL_photo37</td>\n",
       "      <td>-4.0</td>\n",
       "      <td>0.060790</td>\n",
       "    </tr>\n",
       "    <tr>\n",
       "      <th>1</th>\n",
       "      <td>SNL_photo37</td>\n",
       "      <td>0.0</td>\n",
       "      <td>0.490334</td>\n",
       "    </tr>\n",
       "    <tr>\n",
       "      <th>2</th>\n",
       "      <td>SNL_photo37</td>\n",
       "      <td>4.0</td>\n",
       "      <td>0.459256</td>\n",
       "    </tr>\n",
       "    <tr>\n",
       "      <th>3</th>\n",
       "      <td>SNL_photo43</td>\n",
       "      <td>-4.0</td>\n",
       "      <td>0.396902</td>\n",
       "    </tr>\n",
       "    <tr>\n",
       "      <th>4</th>\n",
       "      <td>SNL_photo43</td>\n",
       "      <td>0.0</td>\n",
       "      <td>0.230625</td>\n",
       "    </tr>\n",
       "    <tr>\n",
       "      <th>5</th>\n",
       "      <td>SNL_photo43</td>\n",
       "      <td>4.0</td>\n",
       "      <td>0.390294</td>\n",
       "    </tr>\n",
       "    <tr>\n",
       "      <th>6</th>\n",
       "      <td>SNL_photo44</td>\n",
       "      <td>-4.0</td>\n",
       "      <td>0.986330</td>\n",
       "    </tr>\n",
       "    <tr>\n",
       "      <th>7</th>\n",
       "      <td>SNL_photo44</td>\n",
       "      <td>0.0</td>\n",
       "      <td>1.461427</td>\n",
       "    </tr>\n",
       "    <tr>\n",
       "      <th>8</th>\n",
       "      <td>SNL_photo44</td>\n",
       "      <td>4.0</td>\n",
       "      <td>0.914569</td>\n",
       "    </tr>\n",
       "  </tbody>\n",
       "</table>\n",
       "</div>"
      ],
      "text/plain": [
       "         mouse  relative reward amount     peaks\n",
       "0  SNL_photo37                    -4.0  0.060790\n",
       "1  SNL_photo37                     0.0  0.490334\n",
       "2  SNL_photo37                     4.0  0.459256\n",
       "3  SNL_photo43                    -4.0  0.396902\n",
       "4  SNL_photo43                     0.0  0.230625\n",
       "5  SNL_photo43                     4.0  0.390294\n",
       "6  SNL_photo44                    -4.0  0.986330\n",
       "7  SNL_photo44                     0.0  1.461427\n",
       "8  SNL_photo44                     4.0  0.914569"
      ]
     },
     "execution_count": 49,
     "metadata": {},
     "output_type": "execute_result"
    }
   ],
   "source": [
    "df_for_plot1"
   ]
  },
  {
   "cell_type": "code",
   "execution_count": 50,
   "metadata": {},
   "outputs": [],
   "source": [
    "df1 = df_for_plot1.pivot(index='relative reward amount', columns='mouse', values='peaks').sort_values('relative reward amount', ascending=False)"
   ]
  },
  {
   "cell_type": "code",
   "execution_count": 51,
   "metadata": {},
   "outputs": [],
   "source": [
    "df2 = df_for_plot2.pivot(index='contra reward amount', columns='mouse', values='peaks').sort_values('contra reward amount', ascending=False)"
   ]
  },
  {
   "cell_type": "code",
   "execution_count": 52,
   "metadata": {},
   "outputs": [
    {
     "data": {
      "text/html": [
       "<div>\n",
       "<style scoped>\n",
       "    .dataframe tbody tr th:only-of-type {\n",
       "        vertical-align: middle;\n",
       "    }\n",
       "\n",
       "    .dataframe tbody tr th {\n",
       "        vertical-align: top;\n",
       "    }\n",
       "\n",
       "    .dataframe thead th {\n",
       "        text-align: right;\n",
       "    }\n",
       "</style>\n",
       "<table border=\"1\" class=\"dataframe\">\n",
       "  <thead>\n",
       "    <tr style=\"text-align: right;\">\n",
       "      <th>mouse</th>\n",
       "      <th>SNL_photo37</th>\n",
       "      <th>SNL_photo43</th>\n",
       "      <th>SNL_photo44</th>\n",
       "    </tr>\n",
       "    <tr>\n",
       "      <th>contra reward amount</th>\n",
       "      <th></th>\n",
       "      <th></th>\n",
       "      <th></th>\n",
       "    </tr>\n",
       "  </thead>\n",
       "  <tbody>\n",
       "    <tr>\n",
       "      <th>6.0</th>\n",
       "      <td>0.459256</td>\n",
       "      <td>0.390294</td>\n",
       "      <td>0.914569</td>\n",
       "    </tr>\n",
       "    <tr>\n",
       "      <th>2.0</th>\n",
       "      <td>0.404425</td>\n",
       "      <td>0.286051</td>\n",
       "      <td>1.303061</td>\n",
       "    </tr>\n",
       "  </tbody>\n",
       "</table>\n",
       "</div>"
      ],
      "text/plain": [
       "mouse                 SNL_photo37  SNL_photo43  SNL_photo44\n",
       "contra reward amount                                       \n",
       "6.0                      0.459256     0.390294     0.914569\n",
       "2.0                      0.404425     0.286051     1.303061"
      ]
     },
     "execution_count": 52,
     "metadata": {},
     "output_type": "execute_result"
    }
   ],
   "source": [
    "df2"
   ]
  },
  {
   "cell_type": "code",
   "execution_count": 53,
   "metadata": {},
   "outputs": [],
   "source": [
    "def francescas_plot(ax, data, show_err_bar=False, mean_linewidth=4, mean_line_color='blue', legend=False):\n",
    "    \"\"\"Plot lines for all mice from early to late.\n",
    "    \"\"\"\n",
    "    data.plot(ax=ax, legend=False)\n",
    "    data.mean(1).plot(ax=ax,linewidth=mean_linewidth,color=mean_line_color)\n",
    "\n",
    "    if show_err_bar:\n",
    "        yerr = data.std(axis=1)\n",
    "\n",
    "        plt.errorbar(np.array([0,1]), data.mean(1), yerr, color=mean_line_color, linewidth=4)\n",
    "\n",
    "    # drop the left and bottom spine for cool looking effect\n",
    "    ax.spines['left'].set_position(('outward', 10))\n",
    "    ax.spines['bottom'].set_position(('outward', 10))\n",
    "    # Hide the right and top spines\n",
    "    ax.spines['right'].set_visible(False)\n",
    "    ax.spines['top'].set_visible(False)"
   ]
  },
  {
   "cell_type": "code",
   "execution_count": 54,
   "metadata": {},
   "outputs": [],
   "source": [
    "fig, ax = plt.subplots()\n",
    "francescas_plot(ax, df2, mean_line_color='#7FB5B5', mean_linewidth=0, show_err_bar=False)\n",
    "\n",
    "plt.ylabel('Z-scored fluorescence')\n",
    "plt.tight_layout()"
   ]
  },
  {
   "cell_type": "code",
   "execution_count": 55,
   "metadata": {},
   "outputs": [],
   "source": [
    "fig, ax = plt.subplots()\n",
    "francescas_plot(ax, df1, mean_line_color='#7FB5B5', mean_linewidth=0, show_err_bar=False)\n",
    "\n",
    "plt.ylabel('Z-scored fluorescence')\n",
    "plt.tight_layout()"
   ]
  },
  {
   "cell_type": "markdown",
   "metadata": {},
   "source": [
    "Old analysis\n"
   ]
  },
  {
   "cell_type": "code",
   "execution_count": 37,
   "metadata": {},
   "outputs": [
    {
     "name": "stdout",
     "output_type": "stream",
     "text": [
      "[1.4620e-03 4.6600e-04 1.3866e-02 1.0000e+00]\n",
      "[0.987622 0.64532  0.039886 1.      ]\n",
      "[0.578304 0.148039 0.404411 1.      ]\n",
      "[0.987622 0.64532  0.039886 1.      ]\n"
     ]
    }
   ],
   "source": [
    "timepoints = all_reward_block_data['time points'].iloc[0]\n",
    "font = {'size'   : 8}\n",
    "\n",
    "matplotlib.rc('font', **font)\n",
    "\n",
    "mouse_name = 'SNL_photo44'\n",
    "session = '20210609'\n",
    "\n",
    "fig, ax = plt.subplots(1,2, figsize=(4, 1.8)) #, figsize=(10,16))\n",
    "possible_values = np.array([2, 6])\n",
    "data = all_reward_block_data[(all_reward_block_data['mouse'] == mouse_name) & (all_reward_block_data['session'] == session)]\n",
    "plot_mean_trace_for_condition_value_switch(ax[0], data, timepoints,\n",
    "                              'contra reward amount', session, possible_values, error_bar_method='sem', save_location=processed_data_dir)\n",
    "lg1 = ax[0].legend(title='Absolute \\n value (ul)',loc='lower left', bbox_to_anchor=(0.7, 0.7),\n",
    "            borderaxespad=0, frameon=False,prop={'size': 6 })\n",
    "possible_values = np.array([-4, 0, 4])\n",
    "plot_mean_trace_for_condition_value_switch(ax[1], data, timepoints,\n",
    "                              'relative reward amount', session, possible_values, error_bar_method = 'sem', save_location=processed_data_dir)\n",
    "lg2 = ax[1].legend(title='Relative \\n value (ul)',loc='lower left', bbox_to_anchor=(0.7, 0.7),\n",
    "            borderaxespad=0, frameon=False,prop={'size': 6 })\n",
    "makes_plots_pretty([ax[0], ax[1]])\n",
    "plt.tight_layout()\n",
    "\n",
    "\n",
    "#plt.savefig(os.path.join(figure_dir, 'example_mouse{}_for_upgrade.pdf'.format(mouse_name)))\n"
   ]
  },
  {
   "cell_type": "code",
   "execution_count": 20,
   "metadata": {},
   "outputs": [],
   "source": [
    "df1 = all_reward_block_data[['mouse','trial number','session','contra reward amount', 'peak size']]\n",
    "df1 = df1.pivot_table(index=['mouse', 'contra reward amount'], values=['peak size'], aggfunc=np.nanmean)\n",
    "df1 = df1.reset_index()\n",
    "slope, intercept, r_val, p_val1, std_error = stats.linregress(df1['contra reward amount'], \n",
    "                                                             df1['peak size'])"
   ]
  },
  {
   "cell_type": "code",
   "execution_count": 21,
   "metadata": {},
   "outputs": [
    {
     "data": {
      "text/html": [
       "<div>\n",
       "<style scoped>\n",
       "    .dataframe tbody tr th:only-of-type {\n",
       "        vertical-align: middle;\n",
       "    }\n",
       "\n",
       "    .dataframe tbody tr th {\n",
       "        vertical-align: top;\n",
       "    }\n",
       "\n",
       "    .dataframe thead th {\n",
       "        text-align: right;\n",
       "    }\n",
       "</style>\n",
       "<table border=\"1\" class=\"dataframe\">\n",
       "  <thead>\n",
       "    <tr style=\"text-align: right;\">\n",
       "      <th></th>\n",
       "      <th>mouse</th>\n",
       "      <th>contra reward amount</th>\n",
       "      <th>peak size</th>\n",
       "    </tr>\n",
       "  </thead>\n",
       "  <tbody>\n",
       "    <tr>\n",
       "      <th>0</th>\n",
       "      <td>SNL_photo28</td>\n",
       "      <td>2.0</td>\n",
       "      <td>1.851876</td>\n",
       "    </tr>\n",
       "    <tr>\n",
       "      <th>1</th>\n",
       "      <td>SNL_photo30</td>\n",
       "      <td>2.0</td>\n",
       "      <td>0.979655</td>\n",
       "    </tr>\n",
       "    <tr>\n",
       "      <th>2</th>\n",
       "      <td>SNL_photo30</td>\n",
       "      <td>6.0</td>\n",
       "      <td>1.500482</td>\n",
       "    </tr>\n",
       "    <tr>\n",
       "      <th>3</th>\n",
       "      <td>SNL_photo31</td>\n",
       "      <td>2.0</td>\n",
       "      <td>2.088292</td>\n",
       "    </tr>\n",
       "    <tr>\n",
       "      <th>4</th>\n",
       "      <td>SNL_photo31</td>\n",
       "      <td>6.0</td>\n",
       "      <td>2.218924</td>\n",
       "    </tr>\n",
       "    <tr>\n",
       "      <th>5</th>\n",
       "      <td>SNL_photo32</td>\n",
       "      <td>2.0</td>\n",
       "      <td>0.941406</td>\n",
       "    </tr>\n",
       "    <tr>\n",
       "      <th>6</th>\n",
       "      <td>SNL_photo32</td>\n",
       "      <td>6.0</td>\n",
       "      <td>0.638812</td>\n",
       "    </tr>\n",
       "    <tr>\n",
       "      <th>7</th>\n",
       "      <td>SNL_photo34</td>\n",
       "      <td>2.0</td>\n",
       "      <td>1.424725</td>\n",
       "    </tr>\n",
       "    <tr>\n",
       "      <th>8</th>\n",
       "      <td>SNL_photo34</td>\n",
       "      <td>6.0</td>\n",
       "      <td>2.064365</td>\n",
       "    </tr>\n",
       "    <tr>\n",
       "      <th>9</th>\n",
       "      <td>SNL_photo35</td>\n",
       "      <td>2.0</td>\n",
       "      <td>1.981743</td>\n",
       "    </tr>\n",
       "    <tr>\n",
       "      <th>10</th>\n",
       "      <td>SNL_photo35</td>\n",
       "      <td>6.0</td>\n",
       "      <td>2.261253</td>\n",
       "    </tr>\n",
       "  </tbody>\n",
       "</table>\n",
       "</div>"
      ],
      "text/plain": [
       "          mouse  contra reward amount  peak size\n",
       "0   SNL_photo28                   2.0   1.851876\n",
       "1   SNL_photo30                   2.0   0.979655\n",
       "2   SNL_photo30                   6.0   1.500482\n",
       "3   SNL_photo31                   2.0   2.088292\n",
       "4   SNL_photo31                   6.0   2.218924\n",
       "5   SNL_photo32                   2.0   0.941406\n",
       "6   SNL_photo32                   6.0   0.638812\n",
       "7   SNL_photo34                   2.0   1.424725\n",
       "8   SNL_photo34                   6.0   2.064365\n",
       "9   SNL_photo35                   2.0   1.981743\n",
       "10  SNL_photo35                   6.0   2.261253"
      ]
     },
     "execution_count": 21,
     "metadata": {},
     "output_type": "execute_result"
    }
   ],
   "source": [
    "df1"
   ]
  },
  {
   "cell_type": "code",
   "execution_count": 22,
   "metadata": {},
   "outputs": [],
   "source": [
    "df2 = all_reward_block_data[['mouse','trial number','session','relative reward amount', 'peak size']]\n",
    "df2 = df2.pivot_table(index=['mouse', 'relative reward amount'], values=['peak size'], aggfunc=np.nanmean)\n",
    "df2 = df2.reset_index()\n",
    "slope, intercept, r_val, p_val2, std_error = stats.linregress(df2['relative reward amount'], \n",
    "                                                             df2['peak size'])\n"
   ]
  },
  {
   "cell_type": "code",
   "execution_count": 23,
   "metadata": {},
   "outputs": [],
   "source": [
    "df1_for_plot = df1.pivot(index='contra reward amount', columns='mouse', values='peak size').sort_values('contra reward amount', ascending=False)\n",
    "df2_for_plot = df2.pivot(index='relative reward amount', columns='mouse', values='peak size').sort_values('relative reward amount', ascending=False)"
   ]
  },
  {
   "cell_type": "code",
   "execution_count": 24,
   "metadata": {},
   "outputs": [],
   "source": [
    "fig, ax = plt.subplots()\n",
    "francescas_plot(ax, df2_for_plot, mean_line_color='#7FB5B5', mean_linewidth=0, show_err_bar=False)\n",
    "plt.legend()\n",
    "plt.ylabel('Z-scored fluorescence')\n",
    "plt.tight_layout()"
   ]
  },
  {
   "cell_type": "code",
   "execution_count": 29,
   "metadata": {},
   "outputs": [],
   "source": [
    "fig, ax = plt.subplots()\n",
    "francescas_plot(ax, df1_for_plot, mean_line_color='#7FB5B5', mean_linewidth=0, show_err_bar=False)\n",
    "plt.legend()\n",
    "plt.ylabel('Z-scored fluorescence')\n",
    "plt.tight_layout()"
   ]
  },
  {
   "cell_type": "code",
   "execution_count": 30,
   "metadata": {},
   "outputs": [
    {
     "data": {
      "text/html": [
       "<div>\n",
       "<style scoped>\n",
       "    .dataframe tbody tr th:only-of-type {\n",
       "        vertical-align: middle;\n",
       "    }\n",
       "\n",
       "    .dataframe tbody tr th {\n",
       "        vertical-align: top;\n",
       "    }\n",
       "\n",
       "    .dataframe thead th {\n",
       "        text-align: right;\n",
       "    }\n",
       "</style>\n",
       "<table border=\"1\" class=\"dataframe\">\n",
       "  <thead>\n",
       "    <tr style=\"text-align: right;\">\n",
       "      <th>mouse</th>\n",
       "      <th>SNL_photo30</th>\n",
       "      <th>SNL_photo31</th>\n",
       "      <th>SNL_photo32</th>\n",
       "      <th>SNL_photo34</th>\n",
       "      <th>SNL_photo35</th>\n",
       "    </tr>\n",
       "    <tr>\n",
       "      <th>contra reward amount</th>\n",
       "      <th></th>\n",
       "      <th></th>\n",
       "      <th></th>\n",
       "      <th></th>\n",
       "      <th></th>\n",
       "    </tr>\n",
       "  </thead>\n",
       "  <tbody>\n",
       "    <tr>\n",
       "      <th>6.0</th>\n",
       "      <td>0.702081</td>\n",
       "      <td>NaN</td>\n",
       "      <td>0.708778</td>\n",
       "      <td>1.963308</td>\n",
       "      <td>1.942705</td>\n",
       "    </tr>\n",
       "    <tr>\n",
       "      <th>2.0</th>\n",
       "      <td>0.536991</td>\n",
       "      <td>2.016771</td>\n",
       "      <td>0.898907</td>\n",
       "      <td>1.704805</td>\n",
       "      <td>1.819626</td>\n",
       "    </tr>\n",
       "  </tbody>\n",
       "</table>\n",
       "</div>"
      ],
      "text/plain": [
       "mouse                 SNL_photo30  SNL_photo31  SNL_photo32  SNL_photo34  \\\n",
       "contra reward amount                                                       \n",
       "6.0                      0.702081          NaN     0.708778     1.963308   \n",
       "2.0                      0.536991     2.016771     0.898907     1.704805   \n",
       "\n",
       "mouse                 SNL_photo35  \n",
       "contra reward amount               \n",
       "6.0                      1.942705  \n",
       "2.0                      1.819626  "
      ]
     },
     "execution_count": 30,
     "metadata": {},
     "output_type": "execute_result"
    }
   ],
   "source": [
    "df1_for_plot"
   ]
  },
  {
   "cell_type": "code",
   "execution_count": 28,
   "metadata": {},
   "outputs": [],
   "source": [
    "font = {'size'   : 14}\n",
    "matplotlib.rc('font', **font)\n",
    "\n",
    "fig, axs = plt.subplots(2,1)\n",
    "condition1 = 'contra reward amount'\n",
    "sns.lineplot(ax=axs[0], x=condition1, y='peak size', data=df1, err_style='bars')\n",
    "axs[0].text(4.5, 1.195, 'p-value = {0:.3f}'.format(p_val1))\n",
    "\n",
    "condition2 = 'relative reward amount'\n",
    "sns.lineplot(ax=axs[1], x=condition2, y='peak size', data=df2, err_style='bars')\n",
    "axs[1].text(1.5, 1.3,'p-value = {0:.3f}'.format(p_val2))\n",
    "\n",
    "for ax in axs:\n",
    "    ax.spines['right'].set_visible(False)\n",
    "    ax.spines['top'].set_visible(False)\n",
    "    ax.set_ylabel('response (z-score)')\n",
    "axs[0].set_xlabel('absolute value (ul)')\n",
    "axs[1].set_xlabel('relative value (ul)')\n",
    "plt.tight_layout()\n",
    "plt.savefig(os.path.join(figure_dir, 'group_data_peaks_vs_value.pdf'))"
   ]
  },
  {
   "cell_type": "code",
   "execution_count": 13,
   "metadata": {},
   "outputs": [],
   "source": [
    "plt.tight_layout()"
   ]
  },
  {
   "cell_type": "code",
   "execution_count": 14,
   "metadata": {},
   "outputs": [
    {
     "name": "stderr",
     "output_type": "stream",
     "text": [
      "No handles with labels found to put in legend.\n"
     ]
    },
    {
     "data": {
      "text/plain": [
       "<matplotlib.legend.Legend at 0x1d6b8470>"
      ]
     },
     "execution_count": 14,
     "metadata": {},
     "output_type": "execute_result"
    }
   ],
   "source": [
    "colours = cm.inferno(np.linspace(0, 1, 5))\n",
    "fig, ax = plt.subplots(1,1)\n",
    "for trial_type in range(1,6):\n",
    "    try:\n",
    "        one_side_data = all_reward_block_data[trial_type-1].contra_data\n",
    "        mean_trace = decimate(one_side_data.mean_trace, 10)\n",
    "        time_points = decimate(one_side_data.time_points, 10)\n",
    "        traces = decimate(one_side_data.sorted_traces, 10)\n",
    "        ax.plot(time_points, mean_trace, lw=1.5, color=colours[trial_type-1], label= trial_type)\n",
    "        ax.axvline(0, color='k')\n",
    "    except:\n",
    "        pass\n",
    "plt.legend()\n"
   ]
  },
  {
   "cell_type": "code",
   "execution_count": 3,
   "metadata": {},
   "outputs": [],
   "source": [
    "block_types = pd.DataFrame({'block type': [1, 2, 3, 4, 5], 'left reward': [6, 4, 2, 2, 2], 'right reward': [2, 2, 2, 4, 6]})"
   ]
  },
  {
   "cell_type": "code",
   "execution_count": 103,
   "metadata": {},
   "outputs": [
    {
     "name": "stdout",
     "output_type": "stream",
     "text": [
      "(106, 160000)\n",
      "(186, 160000)\n",
      "(220, 160000)\n"
     ]
    }
   ],
   "source": [
    "mouse_id = 'SNL_photo21'\n",
    "sessions = ['20200917', '20200918', '20200921']\n",
    "for session_num, date in enumerate(sessions):\n",
    "    block_change_info, timepoints = one_session_get_block_changes(mouse_id, date, block_types)\n",
    "    if session_num == 0:\n",
    "        all_block_changes = block_change_info\n",
    "    else:\n",
    "         all_block_changes = pd.concat([all_block_changes,block_change_info], ignore_index=True)"
   ]
  },
  {
   "cell_type": "code",
   "execution_count": 106,
   "metadata": {
    "scrolled": true
   },
   "outputs": [
    {
     "name": "stdout",
     "output_type": "stream",
     "text": [
      "(28,)\n",
      "(12,)\n",
      "(12,)\n",
      "(10,)\n",
      "(14,)\n",
      "(8,)\n",
      "(10,)\n",
      "(10,)\n",
      "(14,)\n",
      "(6,)\n",
      "(8,)\n",
      "(12,)\n",
      "(12,)\n",
      "(5,)\n",
      "(6,)\n",
      "(8,)\n",
      "(10,)\n",
      "(6,)\n",
      "(5,)\n",
      "(5,)\n",
      "(7,)\n"
     ]
    }
   ],
   "source": [
    "plot_mean_trace_for_condition(all_block_changes, timepoints, 'new reward amounts')\n",
    "plot_mean_trace_for_condition(all_block_changes, timepoints, 'change in reward amounts')\n",
    "plot_mean_trace_for_condition(all_block_changes, timepoints, 'new relative value')\n",
    "plot_mean_trace_for_condition(all_block_changes, timepoints, 'change in relative value')"
   ]
  },
  {
   "cell_type": "code",
   "execution_count": 29,
   "metadata": {},
   "outputs": [
    {
     "data": {
      "text/plain": [
       "<matplotlib.axes._subplots.AxesSubplot at 0x34c01048>"
      ]
     },
     "execution_count": 29,
     "metadata": {},
     "output_type": "execute_result"
    }
   ],
   "source": [
    "fig, axs = plt.subplots(nrows=2,ncols=2)\n",
    "sns.pointplot(x='new reward amounts', y='peak size', data=all_block_changes, ax=axs[0,0], ci='sd')\n",
    "sns.pointplot(x='change in reward amounts', y='peak size', data=block_change_info, ax=axs[0,1], ci='sd')\n",
    "sns.pointplot(x='new relative value', y='peak size', data=block_change_info, ax=axs[1,0], ci='sd')\n",
    "sns.pointplot(x='change in relative value', y='peak size', data=block_change_info, ax=axs[1,1], ci='sd')"
   ]
  },
  {
   "cell_type": "code",
   "execution_count": 65,
   "metadata": {},
   "outputs": [
    {
     "name": "stdout",
     "output_type": "stream",
     "text": [
      "0.8719974503007026 0.8838530247845447\n",
      "0.734418515406605 0.5818760037034908\n",
      "1.3165566302983154 1.1614116229862628\n",
      "0.7800667694836998 0.663554277871089\n",
      "0.8304953025800229 0.5631001717818181\n"
     ]
    }
   ],
   "source": [
    "colours = cm.inferno(np.linspace(0,1, 5))\n",
    "fig2, ax = plt.subplots(1,3)\n",
    "for trial_type in range(1,6):\n",
    "    try:\n",
    "        one_side_data = all_reward_block_data[trial_type-1].contra_data\n",
    "        x_vals = np.ones([len(one_side_data.trial_peaks)])*trial_type\n",
    "        ax[0].hist(one_side_data.trial_peaks, color=colours[trial_type-1], alpha=0.4)\n",
    "        ax[1].scatter(trial_type, np.mean(one_side_data.trial_peaks), color=colours[trial_type-1])\n",
    "        ax[1].set_ylabel('Mean peak')\n",
    "        ax[2].scatter(trial_type, np.median(one_side_data.trial_peaks), color=colours[trial_type-1])\n",
    "        ax[2].set_ylabel('Median peak')\n",
    "        print(np.mean(one_side_data.trial_peaks), np.median(one_side_data.trial_peaks))\n",
    "    except:\n",
    "        pass"
   ]
  },
  {
   "cell_type": "code",
   "execution_count": 217,
   "metadata": {},
   "outputs": [
    {
     "data": {
      "text/plain": [
       "0.15315428214827714"
      ]
     },
     "execution_count": 217,
     "metadata": {},
     "output_type": "execute_result"
    }
   ],
   "source": [
    "np.median(np.asarray(all_trial_type_data[-2].contra_data.trial_peaks)/4)"
   ]
  },
  {
   "cell_type": "code",
   "execution_count": null,
   "metadata": {},
   "outputs": [],
   "source": [
    "np.median(np.asarray(all_trial_type_data[-2].contra_data.trial_peaks)/4)"
   ]
  },
  {
   "cell_type": "code",
   "execution_count": 209,
   "metadata": {},
   "outputs": [
    {
     "data": {
      "text/plain": [
       "array([0.14386391, 0.36703822, 0.03294286, 0.67309225, 0.1799292 ,\n",
       "       0.26867563, 0.06190406])"
      ]
     },
     "execution_count": 209,
     "metadata": {},
     "output_type": "execute_result"
    }
   ],
   "source": [
    "np.asarray(one_side_data.trial_peaks)/4"
   ]
  },
  {
   "cell_type": "code",
   "execution_count": 199,
   "metadata": {},
   "outputs": [
    {
     "data": {
      "text/plain": [
       "0.46637622"
      ]
     },
     "execution_count": 199,
     "metadata": {},
     "output_type": "execute_result"
    }
   ],
   "source": [
    "np.median([0.13636681, 0.46637622, 0.51340394])"
   ]
  },
  {
   "cell_type": "code",
   "execution_count": 207,
   "metadata": {},
   "outputs": [
    {
     "data": {
      "text/plain": [
       "0.5444297804051131"
      ]
     },
     "execution_count": 207,
     "metadata": {},
     "output_type": "execute_result"
    }
   ],
   "source": [
    "np.median(np.concatenate([np.asarray(one_side_data.trial_peaks),np.asarray([0.13636681, 0.46637622, 0.51340394])]))"
   ]
  },
  {
   "cell_type": "code",
   "execution_count": null,
   "metadata": {},
   "outputs": [],
   "source": []
  }
 ],
 "metadata": {
  "kernelspec": {
   "display_name": "Python 3",
   "language": "python",
   "name": "python3"
  },
  "language_info": {
   "codemirror_mode": {
    "name": "ipython",
    "version": 3
   },
   "file_extension": ".py",
   "mimetype": "text/x-python",
   "name": "python",
   "nbconvert_exporter": "python",
   "pygments_lexer": "ipython3",
   "version": "3.7.3"
  }
 },
 "nbformat": 4,
 "nbformat_minor": 4
}
