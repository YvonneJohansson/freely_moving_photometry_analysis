{
 "cells": [
  {
   "cell_type": "code",
   "execution_count": 1,
   "metadata": {},
   "outputs": [
    {
     "name": "stderr",
     "output_type": "stream",
     "text": [
      "In C:\\Users\\francescag\\AppData\\Local\\Continuum\\miniconda3\\lib\\site-packages\\matplotlib\\mpl-data\\stylelib\\_classic_test.mplstyle: \n",
      "The savefig.frameon rcparam was deprecated in Matplotlib 3.1 and will be removed in 3.3.\n",
      "In C:\\Users\\francescag\\AppData\\Local\\Continuum\\miniconda3\\lib\\site-packages\\matplotlib\\mpl-data\\stylelib\\_classic_test.mplstyle: \n",
      "The verbose.level rcparam was deprecated in Matplotlib 3.1 and will be removed in 3.3.\n",
      "In C:\\Users\\francescag\\AppData\\Local\\Continuum\\miniconda3\\lib\\site-packages\\matplotlib\\mpl-data\\stylelib\\_classic_test.mplstyle: \n",
      "The verbose.fileo rcparam was deprecated in Matplotlib 3.1 and will be removed in 3.3.\n"
     ]
    }
   ],
   "source": [
    "%load_ext autoreload\n",
    "%autoreload 2\n",
    "%matplotlib qt5\n",
    "# Add modules to the path\n",
    "import sys\n",
    "import os\n",
    "sys.path.insert(0, 'C:\\\\Users\\\\francescag\\\\Documents\\\\SourceTree_repos\\\\Python_git')\n",
    "sys.path.insert(0, 'C:\\\\Users\\\\francescag\\\\Documents\\\\SourceTree_repos')\n",
    "sys.path.insert(0, 'C:\\\\Users\\\\francescag\\\\Documents\\\\SourceTree_repos\\\\Python_git\\\\freely_moving_photometry_analysis')\n",
    "import peakutils\n",
    "from matplotlib import colors, cm\n",
    "from scipy.signal import decimate\n",
    "import copy\n",
    "import matplotlib.pyplot as plt\n",
    "import matplotlib\n",
    "import numpy as np\n",
    "import pandas as pd\n",
    "import peakutils\n",
    "import seaborn as sns\n",
    "import pickle\n",
    "from utils.plotting import HeatMapParams\n",
    "from utils.plotting import heat_map_and_mean\n",
    "from utils.plotting import get_photometry_around_event\n",
    "from scipy import stats\n",
    "from utils.value_change_utils import open_experiment, CustomAlignedDataRewardBlocks, get_all_experimental_records, get_block_change_info, add_traces_and_peaks, plot_mean_trace_for_condition_value_switch, one_session_get_block_changes"
   ]
  },
  {
   "cell_type": "code",
   "execution_count": 2,
   "metadata": {},
   "outputs": [],
   "source": [
    "root_directory = 'C:\\\\Users\\\\francescag\\\\Documents\\\\SourceTree_repos\\\\Python_git\\\\freely_moving_photometry_analysis\\\\utils\\\\'\n",
    "#figure_dir = 'W:\\\\photometry_2AC\\\\plots\\\\SNL_photo21_26\\\\value_change_experiment'\n",
    "figure_dir = 'W:\\\\photometry_2AC\\\\plots\\\\SNL_photo28_35\\\\value_change_experiment'\n",
    "processed_data_dir = os.path.join(root_directory, 'value_change_data')\n",
    "block_data_file = os.path.join(processed_data_dir, 'value_switch_nacc_mice.csv')\n",
    "all_reward_block_data = pd.read_pickle(block_data_file)"
   ]
  },
  {
   "cell_type": "code",
   "execution_count": 3,
   "metadata": {},
   "outputs": [],
   "source": [
    "sorted_data = all_reward_block_data.sort_values(['mouse', 'session', 'trial number']).reset_index(drop=True)"
   ]
  },
  {
   "cell_type": "code",
   "execution_count": 4,
   "metadata": {},
   "outputs": [],
   "source": [
    "sorted_data['block switches'] = sorted_data['block number'] - sorted_data['block number'].shift()"
   ]
  },
  {
   "cell_type": "code",
   "execution_count": 5,
   "metadata": {},
   "outputs": [],
   "source": [
    "sorted_data['new sessions'] = sorted_data['session'].ne(sorted_data['session'].shift().bfill()).astype(int)\n",
    "sorted_data.iloc[0, sorted_data.columns.get_loc('new sessions')] = 1\n",
    "sorted_data.loc[sorted_data['new sessions'] == 1, 'block switches'] = 1\n"
   ]
  },
  {
   "cell_type": "code",
   "execution_count": 6,
   "metadata": {},
   "outputs": [],
   "source": [
    "block_switch_inds = sorted_data.loc[sorted_data['block switches'] != 0].reset_index(drop=True)"
   ]
  },
  {
   "cell_type": "code",
   "execution_count": 7,
   "metadata": {},
   "outputs": [
    {
     "name": "stdout",
     "output_type": "stream",
     "text": [
      "SNL_photo28 46\n",
      "SNL_photo28 35\n",
      "SNL_photo28 34\n",
      "SNL_photo28 85\n",
      "SNL_photo28 49\n",
      "SNL_photo28 92\n",
      "SNL_photo30 48\n",
      "SNL_photo30 18\n",
      "SNL_photo30 37\n",
      "SNL_photo30 31\n",
      "SNL_photo30 45\n",
      "SNL_photo30 93\n",
      "SNL_photo30 57\n",
      "SNL_photo30 90\n",
      "SNL_photo30 48\n",
      "SNL_photo30 90\n",
      "SNL_photo31 38\n",
      "SNL_photo31 138\n",
      "SNL_photo31 37\n",
      "SNL_photo31 78\n",
      "SNL_photo31 47\n",
      "SNL_photo31 97\n",
      "SNL_photo31 34\n",
      "SNL_photo31 75\n",
      "SNL_photo31 32\n",
      "SNL_photo31 66\n",
      "SNL_photo31 38\n",
      "SNL_photo31 70\n",
      "SNL_photo32 32\n",
      "SNL_photo32 124\n",
      "SNL_photo32 41\n",
      "SNL_photo32 87\n",
      "SNL_photo32 44\n",
      "SNL_photo32 107\n",
      "SNL_photo32 43\n",
      "SNL_photo32 127\n",
      "SNL_photo32 40\n",
      "SNL_photo32 78\n",
      "SNL_photo32 45\n",
      "SNL_photo32 91\n",
      "SNL_photo34 49\n",
      "SNL_photo34 120\n",
      "SNL_photo34 51\n",
      "SNL_photo34 116\n",
      "SNL_photo34 49\n",
      "SNL_photo34 96\n",
      "SNL_photo34 49\n",
      "SNL_photo34 102\n",
      "SNL_photo34 48\n",
      "SNL_photo34 89\n",
      "SNL_photo34 47\n",
      "SNL_photo34 79\n",
      "SNL_photo35 48\n",
      "SNL_photo35 101\n",
      "SNL_photo35 48\n",
      "SNL_photo35 72\n",
      "SNL_photo35 45\n",
      "SNL_photo35 86\n",
      "SNL_photo35 46\n",
      "SNL_photo35 86\n",
      "SNL_photo35 48\n",
      "SNL_photo35 88\n",
      "SNL_photo35 52\n",
      "SNL_photo35 80\n"
     ]
    }
   ],
   "source": [
    "# for each block I need to get: \n",
    "# - second half of trials (from ten trials after swtich)\n",
    "# - traces corresponding to those trials\n",
    "# - mean trace for those trials\n",
    "# - block value\n",
    "num_trials_to_look_at = 30\n",
    "min_num_trials = 50\n",
    "traces = []\n",
    "peaks = []\n",
    "trial_nums = []\n",
    "block_inds = []\n",
    "rel_reward_amounts = []\n",
    "reward_amounts = []\n",
    "mouse_ids = []\n",
    "session_ids = []\n",
    "num_blocks = block_switch_inds.index.values.shape[0]\n",
    "for block_num, block in block_switch_inds.iterrows():\n",
    "    first_trial = block['trial number']\n",
    "    mouse = block['mouse']\n",
    "    session = block['session']\n",
    "    block_id = block['block number']\n",
    "    all_session_trials = sorted_data[(sorted_data['mouse'] == mouse) & (sorted_data['session'] == session)]\n",
    "    all_block_trials = all_session_trials[all_session_trials['block number'] == block_id]\n",
    "    print(mouse, all_block_trials.shape[0])\n",
    "    if block_id == 0 or all_block_trials.shape[0]>=min_num_trials:\n",
    "        last_trials_of_block = all_block_trials[-num_trials_to_look_at:]\n",
    "        mean_trace = last_trials_of_block['traces'].apply(np.mean)\n",
    "        avg_trace = last_trials_of_block.groupby(['mouse', 'contra reward amount'])['traces'].apply(np.mean).values[0]\n",
    "        decimated = decimate(avg_trace[int(len(avg_trace)/2):], 10) \n",
    "        peak_idx = peakutils.indexes(decimated)[0] \n",
    "        peak = decimated[peak_idx]\n",
    "        traces.append(decimated)\n",
    "        peaks.append(peak)\n",
    "        trial_nums.append(last_trials_of_block['trial number'].values)\n",
    "        rel_reward_amounts.append(last_trials_of_block['relative reward amount'].values[0])\n",
    "        reward_amounts.append(last_trials_of_block['contra reward amount'].values[0])\n",
    "        block_inds.append(last_trials_of_block.index.values[0])\n",
    "        mouse_ids.append(mouse)\n",
    "        session_ids.append(session)"
   ]
  },
  {
   "cell_type": "code",
   "execution_count": 8,
   "metadata": {},
   "outputs": [],
   "source": [
    "avg_block_data = {}\n",
    "avg_block_data['block id'] = block_inds\n",
    "avg_block_data['peaks'] = peaks\n",
    "avg_block_data['relative reward amount'] = rel_reward_amounts\n",
    "avg_block_data['contra reward amount'] = reward_amounts\n",
    "avg_block_data['mouse'] = mouse_ids\n",
    "avg_block_data['session'] = session_ids\n",
    "avg_block_dataf = pd.DataFrame(avg_block_data)"
   ]
  },
  {
   "cell_type": "code",
   "execution_count": 9,
   "metadata": {},
   "outputs": [],
   "source": [
    "avg_block_dataf['avg traces'] = pd.Series(traces, index=avg_block_dataf.index)"
   ]
  },
  {
   "cell_type": "code",
   "execution_count": 10,
   "metadata": {},
   "outputs": [],
   "source": [
    "df_for_plot1 = avg_block_dataf.groupby(['mouse', 'relative reward amount'])['peaks'].apply(np.mean)\n",
    "df_for_plot2 = avg_block_dataf.groupby(['mouse', 'contra reward amount'])['peaks'].apply(np.mean)"
   ]
  },
  {
   "cell_type": "code",
   "execution_count": 11,
   "metadata": {},
   "outputs": [],
   "source": [
    "df_for_plot1 = df_for_plot1.reset_index()\n",
    "df_for_plot2 = df_for_plot2.reset_index()"
   ]
  },
  {
   "cell_type": "code",
   "execution_count": 12,
   "metadata": {},
   "outputs": [
    {
     "data": {
      "text/html": [
       "<div>\n",
       "<style scoped>\n",
       "    .dataframe tbody tr th:only-of-type {\n",
       "        vertical-align: middle;\n",
       "    }\n",
       "\n",
       "    .dataframe tbody tr th {\n",
       "        vertical-align: top;\n",
       "    }\n",
       "\n",
       "    .dataframe thead th {\n",
       "        text-align: right;\n",
       "    }\n",
       "</style>\n",
       "<table border=\"1\" class=\"dataframe\">\n",
       "  <thead>\n",
       "    <tr style=\"text-align: right;\">\n",
       "      <th></th>\n",
       "      <th>mouse</th>\n",
       "      <th>relative reward amount</th>\n",
       "      <th>peaks</th>\n",
       "    </tr>\n",
       "  </thead>\n",
       "  <tbody>\n",
       "    <tr>\n",
       "      <th>0</th>\n",
       "      <td>SNL_photo28</td>\n",
       "      <td>-4.0</td>\n",
       "      <td>1.039155</td>\n",
       "    </tr>\n",
       "    <tr>\n",
       "      <th>1</th>\n",
       "      <td>SNL_photo28</td>\n",
       "      <td>0.0</td>\n",
       "      <td>1.513366</td>\n",
       "    </tr>\n",
       "    <tr>\n",
       "      <th>2</th>\n",
       "      <td>SNL_photo30</td>\n",
       "      <td>-4.0</td>\n",
       "      <td>0.314530</td>\n",
       "    </tr>\n",
       "    <tr>\n",
       "      <th>3</th>\n",
       "      <td>SNL_photo30</td>\n",
       "      <td>0.0</td>\n",
       "      <td>0.759107</td>\n",
       "    </tr>\n",
       "    <tr>\n",
       "      <th>4</th>\n",
       "      <td>SNL_photo30</td>\n",
       "      <td>4.0</td>\n",
       "      <td>1.299430</td>\n",
       "    </tr>\n",
       "    <tr>\n",
       "      <th>5</th>\n",
       "      <td>SNL_photo31</td>\n",
       "      <td>-4.0</td>\n",
       "      <td>1.396979</td>\n",
       "    </tr>\n",
       "    <tr>\n",
       "      <th>6</th>\n",
       "      <td>SNL_photo31</td>\n",
       "      <td>0.0</td>\n",
       "      <td>1.905602</td>\n",
       "    </tr>\n",
       "    <tr>\n",
       "      <th>7</th>\n",
       "      <td>SNL_photo31</td>\n",
       "      <td>4.0</td>\n",
       "      <td>2.080392</td>\n",
       "    </tr>\n",
       "    <tr>\n",
       "      <th>8</th>\n",
       "      <td>SNL_photo32</td>\n",
       "      <td>-4.0</td>\n",
       "      <td>0.447707</td>\n",
       "    </tr>\n",
       "    <tr>\n",
       "      <th>9</th>\n",
       "      <td>SNL_photo32</td>\n",
       "      <td>0.0</td>\n",
       "      <td>0.726084</td>\n",
       "    </tr>\n",
       "    <tr>\n",
       "      <th>10</th>\n",
       "      <td>SNL_photo32</td>\n",
       "      <td>4.0</td>\n",
       "      <td>1.084925</td>\n",
       "    </tr>\n",
       "    <tr>\n",
       "      <th>11</th>\n",
       "      <td>SNL_photo34</td>\n",
       "      <td>-4.0</td>\n",
       "      <td>0.847288</td>\n",
       "    </tr>\n",
       "    <tr>\n",
       "      <th>12</th>\n",
       "      <td>SNL_photo34</td>\n",
       "      <td>0.0</td>\n",
       "      <td>1.158931</td>\n",
       "    </tr>\n",
       "    <tr>\n",
       "      <th>13</th>\n",
       "      <td>SNL_photo34</td>\n",
       "      <td>4.0</td>\n",
       "      <td>1.705546</td>\n",
       "    </tr>\n",
       "    <tr>\n",
       "      <th>14</th>\n",
       "      <td>SNL_photo35</td>\n",
       "      <td>-4.0</td>\n",
       "      <td>1.410998</td>\n",
       "    </tr>\n",
       "    <tr>\n",
       "      <th>15</th>\n",
       "      <td>SNL_photo35</td>\n",
       "      <td>0.0</td>\n",
       "      <td>1.700832</td>\n",
       "    </tr>\n",
       "    <tr>\n",
       "      <th>16</th>\n",
       "      <td>SNL_photo35</td>\n",
       "      <td>4.0</td>\n",
       "      <td>2.142719</td>\n",
       "    </tr>\n",
       "  </tbody>\n",
       "</table>\n",
       "</div>"
      ],
      "text/plain": [
       "          mouse  relative reward amount     peaks\n",
       "0   SNL_photo28                    -4.0  1.039155\n",
       "1   SNL_photo28                     0.0  1.513366\n",
       "2   SNL_photo30                    -4.0  0.314530\n",
       "3   SNL_photo30                     0.0  0.759107\n",
       "4   SNL_photo30                     4.0  1.299430\n",
       "5   SNL_photo31                    -4.0  1.396979\n",
       "6   SNL_photo31                     0.0  1.905602\n",
       "7   SNL_photo31                     4.0  2.080392\n",
       "8   SNL_photo32                    -4.0  0.447707\n",
       "9   SNL_photo32                     0.0  0.726084\n",
       "10  SNL_photo32                     4.0  1.084925\n",
       "11  SNL_photo34                    -4.0  0.847288\n",
       "12  SNL_photo34                     0.0  1.158931\n",
       "13  SNL_photo34                     4.0  1.705546\n",
       "14  SNL_photo35                    -4.0  1.410998\n",
       "15  SNL_photo35                     0.0  1.700832\n",
       "16  SNL_photo35                     4.0  2.142719"
      ]
     },
     "execution_count": 12,
     "metadata": {},
     "output_type": "execute_result"
    }
   ],
   "source": [
    "df_for_plot1"
   ]
  },
  {
   "cell_type": "code",
   "execution_count": 13,
   "metadata": {},
   "outputs": [],
   "source": [
    "df1 = df_for_plot1.pivot(index='relative reward amount', columns='mouse', values='peaks').sort_values('relative reward amount', ascending=False)"
   ]
  },
  {
   "cell_type": "code",
   "execution_count": 14,
   "metadata": {},
   "outputs": [],
   "source": [
    "df2 = df_for_plot2.pivot(index='contra reward amount', columns='mouse', values='peaks').sort_values('contra reward amount', ascending=False)"
   ]
  },
  {
   "cell_type": "code",
   "execution_count": 15,
   "metadata": {},
   "outputs": [
    {
     "data": {
      "text/html": [
       "<div>\n",
       "<style scoped>\n",
       "    .dataframe tbody tr th:only-of-type {\n",
       "        vertical-align: middle;\n",
       "    }\n",
       "\n",
       "    .dataframe tbody tr th {\n",
       "        vertical-align: top;\n",
       "    }\n",
       "\n",
       "    .dataframe thead th {\n",
       "        text-align: right;\n",
       "    }\n",
       "</style>\n",
       "<table border=\"1\" class=\"dataframe\">\n",
       "  <thead>\n",
       "    <tr style=\"text-align: right;\">\n",
       "      <th>mouse</th>\n",
       "      <th>SNL_photo28</th>\n",
       "      <th>SNL_photo30</th>\n",
       "      <th>SNL_photo31</th>\n",
       "      <th>SNL_photo32</th>\n",
       "      <th>SNL_photo34</th>\n",
       "      <th>SNL_photo35</th>\n",
       "    </tr>\n",
       "    <tr>\n",
       "      <th>contra reward amount</th>\n",
       "      <th></th>\n",
       "      <th></th>\n",
       "      <th></th>\n",
       "      <th></th>\n",
       "      <th></th>\n",
       "      <th></th>\n",
       "    </tr>\n",
       "  </thead>\n",
       "  <tbody>\n",
       "    <tr>\n",
       "      <th>6.0</th>\n",
       "      <td>NaN</td>\n",
       "      <td>1.299430</td>\n",
       "      <td>2.080392</td>\n",
       "      <td>1.084925</td>\n",
       "      <td>1.705546</td>\n",
       "      <td>2.142719</td>\n",
       "    </tr>\n",
       "    <tr>\n",
       "      <th>2.0</th>\n",
       "      <td>1.323681</td>\n",
       "      <td>0.632085</td>\n",
       "      <td>1.674410</td>\n",
       "      <td>0.614733</td>\n",
       "      <td>1.055050</td>\n",
       "      <td>1.659427</td>\n",
       "    </tr>\n",
       "  </tbody>\n",
       "</table>\n",
       "</div>"
      ],
      "text/plain": [
       "mouse                 SNL_photo28  SNL_photo30  SNL_photo31  SNL_photo32  \\\n",
       "contra reward amount                                                       \n",
       "6.0                           NaN     1.299430     2.080392     1.084925   \n",
       "2.0                      1.323681     0.632085     1.674410     0.614733   \n",
       "\n",
       "mouse                 SNL_photo34  SNL_photo35  \n",
       "contra reward amount                            \n",
       "6.0                      1.705546     2.142719  \n",
       "2.0                      1.055050     1.659427  "
      ]
     },
     "execution_count": 15,
     "metadata": {},
     "output_type": "execute_result"
    }
   ],
   "source": [
    "df2"
   ]
  },
  {
   "cell_type": "code",
   "execution_count": 16,
   "metadata": {},
   "outputs": [],
   "source": [
    "def francescas_plot(ax, data, show_err_bar=False, mean_linewidth=4, mean_line_color='blue', legend=False):\n",
    "    \"\"\"Plot lines for all mice from early to late.\n",
    "    \"\"\"\n",
    "    data.plot(ax=ax, legend=False)\n",
    "    data.mean(1).plot(ax=ax,linewidth=mean_linewidth,color=mean_line_color)\n",
    "\n",
    "    if show_err_bar:\n",
    "        yerr = data.std(axis=1)\n",
    "\n",
    "        plt.errorbar(np.array([0,1]), data.mean(1), yerr, color=mean_line_color, linewidth=4)\n",
    "\n",
    "    # drop the left and bottom spine for cool looking effect\n",
    "    ax.spines['left'].set_position(('outward', 10))\n",
    "    ax.spines['bottom'].set_position(('outward', 10))\n",
    "    # Hide the right and top spines\n",
    "    ax.spines['right'].set_visible(False)\n",
    "    ax.spines['top'].set_visible(False)"
   ]
  },
  {
   "cell_type": "code",
   "execution_count": 17,
   "metadata": {},
   "outputs": [],
   "source": [
    "fig, ax = plt.subplots()\n",
    "francescas_plot(ax, df2, mean_line_color='#7FB5B5', mean_linewidth=0, show_err_bar=False)\n",
    "\n",
    "plt.ylabel('Z-scored fluorescence')\n",
    "plt.tight_layout()"
   ]
  },
  {
   "cell_type": "code",
   "execution_count": 18,
   "metadata": {},
   "outputs": [],
   "source": [
    "fig, ax = plt.subplots()\n",
    "francescas_plot(ax, df1, mean_line_color='#7FB5B5', mean_linewidth=0, show_err_bar=False)\n",
    "\n",
    "plt.ylabel('Z-scored fluorescence')\n",
    "plt.tight_layout()"
   ]
  },
  {
   "cell_type": "markdown",
   "metadata": {},
   "source": [
    "Old analysis\n"
   ]
  },
  {
   "cell_type": "code",
   "execution_count": 32,
   "metadata": {},
   "outputs": [
    {
     "name": "stderr",
     "output_type": "stream",
     "text": [
      "Bootstrapping...: 100%|████████████████████| 1000/1000 [00:31<00:00, 31.59it/s]\n",
      "Bootstrapping...: 100%|████████████████████| 1000/1000 [00:20<00:00, 47.69it/s]\n",
      "Bootstrapping...: 100%|███████████████████| 1000/1000 [00:09<00:00, 101.38it/s]\n"
     ]
    }
   ],
   "source": [
    "timepoints = all_reward_block_data['time points'].iloc[0]\n",
    "font = {'size'   : 12}\n",
    "\n",
    "matplotlib.rc('font', **font)\n",
    "\n",
    "mouse_name = 'SNL_photo34'\n",
    "session = '20210129'\n",
    "\n",
    "fig, ax = plt.subplots(2,1) #, figsize=(10,16))\n",
    "data = all_reward_block_data[(all_reward_block_data['mouse'] == mouse_name) & (all_reward_block_data['session'] == session)]\n",
    "plot_mean_trace_for_condition_value_switch(ax[0], data, timepoints,\n",
    "                              'contra reward amount', session, error_bar_method='ci', save_location=processed_data_dir)\n",
    "lg1 = ax[0].legend(title='Absolute value (ul)',bbox_to_anchor=(1., .8, .15,.2), loc='upper left')\n",
    "plot_mean_trace_for_condition_value_switch(ax[1], data, timepoints,\n",
    "                              'relative reward amount', session, error_bar_method = 'ci', save_location=processed_data_dir)\n",
    "lg2 = ax[1].legend(title='Relative value (ul)',bbox_to_anchor=(1., .8, .15,.2), loc='upper left')\n",
    "\n",
    "plt.tight_layout()\n",
    "\n",
    "\n",
    "plt.savefig(os.path.join(figure_dir, 'example_mouse{}.pdf'.format(mouse_name)))\n"
   ]
  },
  {
   "cell_type": "code",
   "execution_count": 17,
   "metadata": {},
   "outputs": [],
   "source": [
    "df1 = all_reward_block_data[['mouse','trial number','session','contra reward amount', 'peak size']]\n",
    "df1 = df1.pivot_table(index=['mouse', 'contra reward amount'], values=['peak size'], aggfunc=np.nanmean)\n",
    "df1 = df1.reset_index()\n",
    "slope, intercept, r_val, p_val1, std_error = stats.linregress(df1['contra reward amount'], \n",
    "                                                             df1['peak size'])"
   ]
  },
  {
   "cell_type": "code",
   "execution_count": 18,
   "metadata": {},
   "outputs": [
    {
     "data": {
      "text/html": [
       "<div>\n",
       "<style scoped>\n",
       "    .dataframe tbody tr th:only-of-type {\n",
       "        vertical-align: middle;\n",
       "    }\n",
       "\n",
       "    .dataframe tbody tr th {\n",
       "        vertical-align: top;\n",
       "    }\n",
       "\n",
       "    .dataframe thead th {\n",
       "        text-align: right;\n",
       "    }\n",
       "</style>\n",
       "<table border=\"1\" class=\"dataframe\">\n",
       "  <thead>\n",
       "    <tr style=\"text-align: right;\">\n",
       "      <th></th>\n",
       "      <th>mouse</th>\n",
       "      <th>contra reward amount</th>\n",
       "      <th>peak size</th>\n",
       "    </tr>\n",
       "  </thead>\n",
       "  <tbody>\n",
       "    <tr>\n",
       "      <th>0</th>\n",
       "      <td>SNL_photo28</td>\n",
       "      <td>2.0</td>\n",
       "      <td>1.929548</td>\n",
       "    </tr>\n",
       "    <tr>\n",
       "      <th>1</th>\n",
       "      <td>SNL_photo30</td>\n",
       "      <td>2.0</td>\n",
       "      <td>0.919461</td>\n",
       "    </tr>\n",
       "    <tr>\n",
       "      <th>2</th>\n",
       "      <td>SNL_photo30</td>\n",
       "      <td>6.0</td>\n",
       "      <td>0.702081</td>\n",
       "    </tr>\n",
       "    <tr>\n",
       "      <th>3</th>\n",
       "      <td>SNL_photo31</td>\n",
       "      <td>2.0</td>\n",
       "      <td>2.121164</td>\n",
       "    </tr>\n",
       "    <tr>\n",
       "      <th>4</th>\n",
       "      <td>SNL_photo31</td>\n",
       "      <td>6.0</td>\n",
       "      <td>2.340382</td>\n",
       "    </tr>\n",
       "    <tr>\n",
       "      <th>5</th>\n",
       "      <td>SNL_photo32</td>\n",
       "      <td>2.0</td>\n",
       "      <td>1.057261</td>\n",
       "    </tr>\n",
       "    <tr>\n",
       "      <th>6</th>\n",
       "      <td>SNL_photo32</td>\n",
       "      <td>6.0</td>\n",
       "      <td>0.708778</td>\n",
       "    </tr>\n",
       "    <tr>\n",
       "      <th>7</th>\n",
       "      <td>SNL_photo34</td>\n",
       "      <td>2.0</td>\n",
       "      <td>1.671244</td>\n",
       "    </tr>\n",
       "    <tr>\n",
       "      <th>8</th>\n",
       "      <td>SNL_photo34</td>\n",
       "      <td>6.0</td>\n",
       "      <td>2.064365</td>\n",
       "    </tr>\n",
       "    <tr>\n",
       "      <th>9</th>\n",
       "      <td>SNL_photo35</td>\n",
       "      <td>2.0</td>\n",
       "      <td>1.922052</td>\n",
       "    </tr>\n",
       "    <tr>\n",
       "      <th>10</th>\n",
       "      <td>SNL_photo35</td>\n",
       "      <td>6.0</td>\n",
       "      <td>2.046279</td>\n",
       "    </tr>\n",
       "  </tbody>\n",
       "</table>\n",
       "</div>"
      ],
      "text/plain": [
       "          mouse  contra reward amount  peak size\n",
       "0   SNL_photo28                   2.0   1.929548\n",
       "1   SNL_photo30                   2.0   0.919461\n",
       "2   SNL_photo30                   6.0   0.702081\n",
       "3   SNL_photo31                   2.0   2.121164\n",
       "4   SNL_photo31                   6.0   2.340382\n",
       "5   SNL_photo32                   2.0   1.057261\n",
       "6   SNL_photo32                   6.0   0.708778\n",
       "7   SNL_photo34                   2.0   1.671244\n",
       "8   SNL_photo34                   6.0   2.064365\n",
       "9   SNL_photo35                   2.0   1.922052\n",
       "10  SNL_photo35                   6.0   2.046279"
      ]
     },
     "execution_count": 18,
     "metadata": {},
     "output_type": "execute_result"
    }
   ],
   "source": [
    "df1"
   ]
  },
  {
   "cell_type": "code",
   "execution_count": 23,
   "metadata": {},
   "outputs": [],
   "source": [
    "df2 = all_reward_block_data[['mouse','trial number','session','relative reward amount', 'peak size']]\n",
    "df2 = df2.pivot_table(index=['mouse', 'relative reward amount'], values=['peak size'], aggfunc=np.nanmean)\n",
    "df2 = df2.reset_index()\n",
    "slope, intercept, r_val, p_val2, std_error = stats.linregress(df2['relative reward amount'], \n",
    "                                                             df2['peak size'])\n"
   ]
  },
  {
   "cell_type": "code",
   "execution_count": 24,
   "metadata": {},
   "outputs": [],
   "source": [
    "df1_for_plot = df1.pivot(index='contra reward amount', columns='mouse', values='peak size').sort_values('contra reward amount', ascending=False)\n",
    "df2_for_plot = df2.pivot(index='relative reward amount', columns='mouse', values='peak size').sort_values('relative reward amount', ascending=False)"
   ]
  },
  {
   "cell_type": "code",
   "execution_count": 25,
   "metadata": {},
   "outputs": [],
   "source": [
    "fig, ax = plt.subplots()\n",
    "francescas_plot(ax, df2_for_plot, mean_line_color='#7FB5B5', mean_linewidth=0, show_err_bar=False)\n",
    "plt.legend()\n",
    "plt.ylabel('Z-scored fluorescence')\n",
    "plt.tight_layout()"
   ]
  },
  {
   "cell_type": "code",
   "execution_count": 29,
   "metadata": {},
   "outputs": [],
   "source": [
    "fig, ax = plt.subplots()\n",
    "francescas_plot(ax, df1_for_plot, mean_line_color='#7FB5B5', mean_linewidth=0, show_err_bar=False)\n",
    "plt.legend()\n",
    "plt.ylabel('Z-scored fluorescence')\n",
    "plt.tight_layout()"
   ]
  },
  {
   "cell_type": "code",
   "execution_count": 30,
   "metadata": {},
   "outputs": [
    {
     "data": {
      "text/html": [
       "<div>\n",
       "<style scoped>\n",
       "    .dataframe tbody tr th:only-of-type {\n",
       "        vertical-align: middle;\n",
       "    }\n",
       "\n",
       "    .dataframe tbody tr th {\n",
       "        vertical-align: top;\n",
       "    }\n",
       "\n",
       "    .dataframe thead th {\n",
       "        text-align: right;\n",
       "    }\n",
       "</style>\n",
       "<table border=\"1\" class=\"dataframe\">\n",
       "  <thead>\n",
       "    <tr style=\"text-align: right;\">\n",
       "      <th>mouse</th>\n",
       "      <th>SNL_photo30</th>\n",
       "      <th>SNL_photo31</th>\n",
       "      <th>SNL_photo32</th>\n",
       "      <th>SNL_photo34</th>\n",
       "      <th>SNL_photo35</th>\n",
       "    </tr>\n",
       "    <tr>\n",
       "      <th>contra reward amount</th>\n",
       "      <th></th>\n",
       "      <th></th>\n",
       "      <th></th>\n",
       "      <th></th>\n",
       "      <th></th>\n",
       "    </tr>\n",
       "  </thead>\n",
       "  <tbody>\n",
       "    <tr>\n",
       "      <th>6.0</th>\n",
       "      <td>0.702081</td>\n",
       "      <td>NaN</td>\n",
       "      <td>0.708778</td>\n",
       "      <td>1.963308</td>\n",
       "      <td>1.942705</td>\n",
       "    </tr>\n",
       "    <tr>\n",
       "      <th>2.0</th>\n",
       "      <td>0.536991</td>\n",
       "      <td>2.016771</td>\n",
       "      <td>0.898907</td>\n",
       "      <td>1.704805</td>\n",
       "      <td>1.819626</td>\n",
       "    </tr>\n",
       "  </tbody>\n",
       "</table>\n",
       "</div>"
      ],
      "text/plain": [
       "mouse                 SNL_photo30  SNL_photo31  SNL_photo32  SNL_photo34  \\\n",
       "contra reward amount                                                       \n",
       "6.0                      0.702081          NaN     0.708778     1.963308   \n",
       "2.0                      0.536991     2.016771     0.898907     1.704805   \n",
       "\n",
       "mouse                 SNL_photo35  \n",
       "contra reward amount               \n",
       "6.0                      1.942705  \n",
       "2.0                      1.819626  "
      ]
     },
     "execution_count": 30,
     "metadata": {},
     "output_type": "execute_result"
    }
   ],
   "source": [
    "df1_for_plot"
   ]
  },
  {
   "cell_type": "code",
   "execution_count": 28,
   "metadata": {},
   "outputs": [],
   "source": [
    "font = {'size'   : 14}\n",
    "matplotlib.rc('font', **font)\n",
    "\n",
    "fig, axs = plt.subplots(2,1)\n",
    "condition1 = 'contra reward amount'\n",
    "sns.lineplot(ax=axs[0], x=condition1, y='peak size', data=df1, err_style='bars')\n",
    "axs[0].text(4.5, 1.195, 'p-value = {0:.3f}'.format(p_val1))\n",
    "\n",
    "condition2 = 'relative reward amount'\n",
    "sns.lineplot(ax=axs[1], x=condition2, y='peak size', data=df2, err_style='bars')\n",
    "axs[1].text(1.5, 1.3,'p-value = {0:.3f}'.format(p_val2))\n",
    "\n",
    "for ax in axs:\n",
    "    ax.spines['right'].set_visible(False)\n",
    "    ax.spines['top'].set_visible(False)\n",
    "    ax.set_ylabel('response (z-score)')\n",
    "axs[0].set_xlabel('absolute value (ul)')\n",
    "axs[1].set_xlabel('relative value (ul)')\n",
    "plt.tight_layout()\n",
    "plt.savefig(os.path.join(figure_dir, 'group_data_peaks_vs_value.pdf'))"
   ]
  },
  {
   "cell_type": "code",
   "execution_count": 13,
   "metadata": {},
   "outputs": [],
   "source": [
    "plt.tight_layout()"
   ]
  },
  {
   "cell_type": "code",
   "execution_count": 14,
   "metadata": {},
   "outputs": [
    {
     "name": "stderr",
     "output_type": "stream",
     "text": [
      "No handles with labels found to put in legend.\n"
     ]
    },
    {
     "data": {
      "text/plain": [
       "<matplotlib.legend.Legend at 0x1d6b8470>"
      ]
     },
     "execution_count": 14,
     "metadata": {},
     "output_type": "execute_result"
    }
   ],
   "source": [
    "colours = cm.inferno(np.linspace(0, 1, 5))\n",
    "fig, ax = plt.subplots(1,1)\n",
    "for trial_type in range(1,6):\n",
    "    try:\n",
    "        one_side_data = all_reward_block_data[trial_type-1].contra_data\n",
    "        mean_trace = decimate(one_side_data.mean_trace, 10)\n",
    "        time_points = decimate(one_side_data.time_points, 10)\n",
    "        traces = decimate(one_side_data.sorted_traces, 10)\n",
    "        ax.plot(time_points, mean_trace, lw=1.5, color=colours[trial_type-1], label= trial_type)\n",
    "        ax.axvline(0, color='k')\n",
    "    except:\n",
    "        pass\n",
    "plt.legend()\n"
   ]
  },
  {
   "cell_type": "code",
   "execution_count": 3,
   "metadata": {},
   "outputs": [],
   "source": [
    "block_types = pd.DataFrame({'block type': [1, 2, 3, 4, 5], 'left reward': [6, 4, 2, 2, 2], 'right reward': [2, 2, 2, 4, 6]})"
   ]
  },
  {
   "cell_type": "code",
   "execution_count": 103,
   "metadata": {},
   "outputs": [
    {
     "name": "stdout",
     "output_type": "stream",
     "text": [
      "(106, 160000)\n",
      "(186, 160000)\n",
      "(220, 160000)\n"
     ]
    }
   ],
   "source": [
    "mouse_id = 'SNL_photo21'\n",
    "sessions = ['20200917', '20200918', '20200921']\n",
    "for session_num, date in enumerate(sessions):\n",
    "    block_change_info, timepoints = one_session_get_block_changes(mouse_id, date, block_types)\n",
    "    if session_num == 0:\n",
    "        all_block_changes = block_change_info\n",
    "    else:\n",
    "         all_block_changes = pd.concat([all_block_changes,block_change_info], ignore_index=True)"
   ]
  },
  {
   "cell_type": "code",
   "execution_count": 106,
   "metadata": {
    "scrolled": true
   },
   "outputs": [
    {
     "name": "stdout",
     "output_type": "stream",
     "text": [
      "(28,)\n",
      "(12,)\n",
      "(12,)\n",
      "(10,)\n",
      "(14,)\n",
      "(8,)\n",
      "(10,)\n",
      "(10,)\n",
      "(14,)\n",
      "(6,)\n",
      "(8,)\n",
      "(12,)\n",
      "(12,)\n",
      "(5,)\n",
      "(6,)\n",
      "(8,)\n",
      "(10,)\n",
      "(6,)\n",
      "(5,)\n",
      "(5,)\n",
      "(7,)\n"
     ]
    }
   ],
   "source": [
    "plot_mean_trace_for_condition(all_block_changes, timepoints, 'new reward amounts')\n",
    "plot_mean_trace_for_condition(all_block_changes, timepoints, 'change in reward amounts')\n",
    "plot_mean_trace_for_condition(all_block_changes, timepoints, 'new relative value')\n",
    "plot_mean_trace_for_condition(all_block_changes, timepoints, 'change in relative value')"
   ]
  },
  {
   "cell_type": "code",
   "execution_count": 29,
   "metadata": {},
   "outputs": [
    {
     "data": {
      "text/plain": [
       "<matplotlib.axes._subplots.AxesSubplot at 0x34c01048>"
      ]
     },
     "execution_count": 29,
     "metadata": {},
     "output_type": "execute_result"
    }
   ],
   "source": [
    "fig, axs = plt.subplots(nrows=2,ncols=2)\n",
    "sns.pointplot(x='new reward amounts', y='peak size', data=all_block_changes, ax=axs[0,0], ci='sd')\n",
    "sns.pointplot(x='change in reward amounts', y='peak size', data=block_change_info, ax=axs[0,1], ci='sd')\n",
    "sns.pointplot(x='new relative value', y='peak size', data=block_change_info, ax=axs[1,0], ci='sd')\n",
    "sns.pointplot(x='change in relative value', y='peak size', data=block_change_info, ax=axs[1,1], ci='sd')"
   ]
  },
  {
   "cell_type": "code",
   "execution_count": 65,
   "metadata": {},
   "outputs": [
    {
     "name": "stdout",
     "output_type": "stream",
     "text": [
      "0.8719974503007026 0.8838530247845447\n",
      "0.734418515406605 0.5818760037034908\n",
      "1.3165566302983154 1.1614116229862628\n",
      "0.7800667694836998 0.663554277871089\n",
      "0.8304953025800229 0.5631001717818181\n"
     ]
    }
   ],
   "source": [
    "colours = cm.inferno(np.linspace(0,1, 5))\n",
    "fig2, ax = plt.subplots(1,3)\n",
    "for trial_type in range(1,6):\n",
    "    try:\n",
    "        one_side_data = all_reward_block_data[trial_type-1].contra_data\n",
    "        x_vals = np.ones([len(one_side_data.trial_peaks)])*trial_type\n",
    "        ax[0].hist(one_side_data.trial_peaks, color=colours[trial_type-1], alpha=0.4)\n",
    "        ax[1].scatter(trial_type, np.mean(one_side_data.trial_peaks), color=colours[trial_type-1])\n",
    "        ax[1].set_ylabel('Mean peak')\n",
    "        ax[2].scatter(trial_type, np.median(one_side_data.trial_peaks), color=colours[trial_type-1])\n",
    "        ax[2].set_ylabel('Median peak')\n",
    "        print(np.mean(one_side_data.trial_peaks), np.median(one_side_data.trial_peaks))\n",
    "    except:\n",
    "        pass"
   ]
  },
  {
   "cell_type": "code",
   "execution_count": 217,
   "metadata": {},
   "outputs": [
    {
     "data": {
      "text/plain": [
       "0.15315428214827714"
      ]
     },
     "execution_count": 217,
     "metadata": {},
     "output_type": "execute_result"
    }
   ],
   "source": [
    "np.median(np.asarray(all_trial_type_data[-2].contra_data.trial_peaks)/4)"
   ]
  },
  {
   "cell_type": "code",
   "execution_count": null,
   "metadata": {},
   "outputs": [],
   "source": [
    "np.median(np.asarray(all_trial_type_data[-2].contra_data.trial_peaks)/4)"
   ]
  },
  {
   "cell_type": "code",
   "execution_count": 209,
   "metadata": {},
   "outputs": [
    {
     "data": {
      "text/plain": [
       "array([0.14386391, 0.36703822, 0.03294286, 0.67309225, 0.1799292 ,\n",
       "       0.26867563, 0.06190406])"
      ]
     },
     "execution_count": 209,
     "metadata": {},
     "output_type": "execute_result"
    }
   ],
   "source": [
    "np.asarray(one_side_data.trial_peaks)/4"
   ]
  },
  {
   "cell_type": "code",
   "execution_count": 199,
   "metadata": {},
   "outputs": [
    {
     "data": {
      "text/plain": [
       "0.46637622"
      ]
     },
     "execution_count": 199,
     "metadata": {},
     "output_type": "execute_result"
    }
   ],
   "source": [
    "np.median([0.13636681, 0.46637622, 0.51340394])"
   ]
  },
  {
   "cell_type": "code",
   "execution_count": 207,
   "metadata": {},
   "outputs": [
    {
     "data": {
      "text/plain": [
       "0.5444297804051131"
      ]
     },
     "execution_count": 207,
     "metadata": {},
     "output_type": "execute_result"
    }
   ],
   "source": [
    "np.median(np.concatenate([np.asarray(one_side_data.trial_peaks),np.asarray([0.13636681, 0.46637622, 0.51340394])]))"
   ]
  },
  {
   "cell_type": "code",
   "execution_count": null,
   "metadata": {},
   "outputs": [],
   "source": []
  }
 ],
 "metadata": {
  "kernelspec": {
   "display_name": "Python 3",
   "language": "python",
   "name": "python3"
  },
  "language_info": {
   "codemirror_mode": {
    "name": "ipython",
    "version": 3
   },
   "file_extension": ".py",
   "mimetype": "text/x-python",
   "name": "python",
   "nbconvert_exporter": "python",
   "pygments_lexer": "ipython3",
   "version": "3.7.3"
  }
 },
 "nbformat": 4,
 "nbformat_minor": 4
}
