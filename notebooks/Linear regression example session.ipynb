{
 "cells": [
  {
   "cell_type": "code",
   "execution_count": 1,
   "metadata": {},
   "outputs": [
    {
     "name": "stderr",
     "output_type": "stream",
     "text": [
      "In C:\\Users\\francescag\\AppData\\Local\\Continuum\\miniconda3\\lib\\site-packages\\matplotlib\\mpl-data\\stylelib\\_classic_test.mplstyle: \n",
      "The savefig.frameon rcparam was deprecated in Matplotlib 3.1 and will be removed in 3.3.\n",
      "In C:\\Users\\francescag\\AppData\\Local\\Continuum\\miniconda3\\lib\\site-packages\\matplotlib\\mpl-data\\stylelib\\_classic_test.mplstyle: \n",
      "The verbose.level rcparam was deprecated in Matplotlib 3.1 and will be removed in 3.3.\n",
      "In C:\\Users\\francescag\\AppData\\Local\\Continuum\\miniconda3\\lib\\site-packages\\matplotlib\\mpl-data\\stylelib\\_classic_test.mplstyle: \n",
      "The verbose.fileo rcparam was deprecated in Matplotlib 3.1 and will be removed in 3.3.\n"
     ]
    }
   ],
   "source": [
    "%matplotlib qt5\n",
    "import numpy as np\n",
    "from sklearn.linear_model import LinearRegression\n",
    "from scipy.ndimage.interpolation import shift\n",
    "from scipy.signal import decimate\n",
    "from matplotlib import pyplot as plt\n",
    "from scipy import stats\n",
    "import pandas as pd\n",
    "import pickle\n"
   ]
  },
  {
   "cell_type": "code",
   "execution_count": 2,
   "metadata": {},
   "outputs": [],
   "source": [
    "def rolling_zscore(x, window=10*10000):\n",
    "    r = x.rolling(window=window)\n",
    "    m = r.mean().shift(1)\n",
    "    s = r.std(ddof=0).shift(1)\n",
    "    z = (x-m)/s\n",
    "    return z"
   ]
  },
  {
   "cell_type": "code",
   "execution_count": 62,
   "metadata": {},
   "outputs": [],
   "source": [
    "mouse = 'SNL_photo19'\n",
    "date = '20200317'\n",
    "saving_folder = 'W:\\\\photometry_2AC\\\\processed_data\\\\' + mouse + '\\\\'\n",
    "restructured_data_filename = mouse + '_' + date + '_' + 'restructured_data.pkl'\n",
    "trial_data = pd.read_pickle(saving_folder + restructured_data_filename) \n",
    "dff_trace_filename = mouse + '_' + date + '_' + 'smoothed_signal.npy'\n",
    "dff = np.load(saving_folder + dff_trace_filename)"
   ]
  },
  {
   "cell_type": "code",
   "execution_count": 63,
   "metadata": {},
   "outputs": [],
   "source": [
    "window_size_seconds = 10\n",
    "sample_rate = 10000\n",
    "decimate_factor = 100"
   ]
  },
  {
   "cell_type": "code",
   "execution_count": 64,
   "metadata": {},
   "outputs": [],
   "source": [
    "rolling_zscored_dff = rolling_zscore(pd.Series(dff), window=window_size_seconds*sample_rate)"
   ]
  },
  {
   "cell_type": "code",
   "execution_count": 65,
   "metadata": {},
   "outputs": [
    {
     "data": {
      "text/plain": [
       "(18002500,)"
      ]
     },
     "execution_count": 65,
     "metadata": {},
     "output_type": "execute_result"
    }
   ],
   "source": [
    "rolling_zscored_dff.shape"
   ]
  },
  {
   "cell_type": "code",
   "execution_count": 66,
   "metadata": {},
   "outputs": [],
   "source": [
    "downsampled_zscored_dff = decimate(decimate(rolling_zscored_dff[window_size_seconds*sample_rate:], int(decimate_factor/10)), int(decimate_factor/10))"
   ]
  },
  {
   "cell_type": "code",
   "execution_count": 8,
   "metadata": {},
   "outputs": [
    {
     "data": {
      "text/plain": [
       "[<matplotlib.lines.Line2D at 0x19c10320>]"
      ]
     },
     "execution_count": 8,
     "metadata": {},
     "output_type": "execute_result"
    }
   ],
   "source": [
    "plt.plot(downsampled_zscored_dff)"
   ]
  },
  {
   "cell_type": "code",
   "execution_count": 67,
   "metadata": {},
   "outputs": [],
   "source": [
    "num_samples = downsampled_zscored_dff.shape[0]"
   ]
  },
  {
   "cell_type": "code",
   "execution_count": 68,
   "metadata": {},
   "outputs": [],
   "source": [
    "def turn_timestamps_into_continuous(num_samples, *behavioural_events):\n",
    "    continuous_parameters = []\n",
    "    for event_type_timestamps in behavioural_events:\n",
    "        continuous_time_version = np.zeros([num_samples])\n",
    "        continuous_time_version[event_type_timestamps] = 1\n",
    "        continuous_parameters.append(continuous_time_version)\n",
    "    return continuous_parameters"
   ]
  },
  {
   "cell_type": "code",
   "execution_count": 69,
   "metadata": {},
   "outputs": [],
   "source": [
    "aligned_filename = mouse + '_' + date + '_' + 'behavioural_events.p'\n",
    "save_filename = saving_folder + aligned_filename\n",
    "example_session_data = pickle.load(open(save_filename, \"rb\"))"
   ]
  },
  {
   "cell_type": "code",
   "execution_count": 70,
   "metadata": {},
   "outputs": [],
   "source": [
    "def convert_behavioural_timestamps_into_samples(time_stamps, window_to_remove, sample_rate=10000, decimate_factor=100):\n",
    "    adjusted_stamps = (time_stamps - window_to_remove)*sample_rate/decimate_factor\n",
    "    adjusted_stamps = np.round(np.vstack(adjusted_stamps).astype(np.float)).astype(int)\n",
    "    return adjusted_stamps"
   ]
  },
  {
   "cell_type": "code",
   "execution_count": 71,
   "metadata": {},
   "outputs": [
    {
     "data": {
      "text/plain": [
       "array([[   283],\n",
       "       [  1040],\n",
       "       [  1721],\n",
       "       [  2361],\n",
       "       [  3198],\n",
       "       [  3668],\n",
       "       [  8964],\n",
       "       [  9289],\n",
       "       [  9784],\n",
       "       [ 10040],\n",
       "       [ 10600],\n",
       "       [ 11185],\n",
       "       [ 11466],\n",
       "       [ 11914],\n",
       "       [ 12456],\n",
       "       [ 12762],\n",
       "       [ 13263],\n",
       "       [ 13541],\n",
       "       [ 13829],\n",
       "       [ 15164],\n",
       "       [ 15623],\n",
       "       [ 16139],\n",
       "       [ 24190],\n",
       "       [ 24766],\n",
       "       [ 25061],\n",
       "       [ 25322],\n",
       "       [ 25654],\n",
       "       [ 25952],\n",
       "       [ 26334],\n",
       "       [ 27041],\n",
       "       [ 27401],\n",
       "       [ 28006],\n",
       "       [ 29208],\n",
       "       [ 29778],\n",
       "       [ 30837],\n",
       "       [ 31444],\n",
       "       [ 31676],\n",
       "       [ 32705],\n",
       "       [ 32957],\n",
       "       [ 33232],\n",
       "       [ 34037],\n",
       "       [ 34320],\n",
       "       [ 35198],\n",
       "       [ 35902],\n",
       "       [ 36293],\n",
       "       [ 36546],\n",
       "       [ 36818],\n",
       "       [ 37461],\n",
       "       [ 37967],\n",
       "       [ 38210],\n",
       "       [ 38743],\n",
       "       [ 39448],\n",
       "       [ 39671],\n",
       "       [ 39940],\n",
       "       [ 40495],\n",
       "       [ 41045],\n",
       "       [ 41535],\n",
       "       [ 41794],\n",
       "       [ 42855],\n",
       "       [ 43243],\n",
       "       [ 44211],\n",
       "       [ 45113],\n",
       "       [ 46464],\n",
       "       [ 46850],\n",
       "       [ 47302],\n",
       "       [ 47543],\n",
       "       [ 48392],\n",
       "       [ 48657],\n",
       "       [ 48903],\n",
       "       [ 49571],\n",
       "       [ 50347],\n",
       "       [ 50642],\n",
       "       [ 52410],\n",
       "       [ 52707],\n",
       "       [ 53184],\n",
       "       [ 53659],\n",
       "       [ 53950],\n",
       "       [ 54431],\n",
       "       [ 55315],\n",
       "       [ 55556],\n",
       "       [ 56010],\n",
       "       [ 56613],\n",
       "       [ 56933],\n",
       "       [ 58852],\n",
       "       [ 59388],\n",
       "       [ 59620],\n",
       "       [ 59903],\n",
       "       [ 60443],\n",
       "       [ 60786],\n",
       "       [ 61250],\n",
       "       [ 63402],\n",
       "       [ 64849],\n",
       "       [ 65952],\n",
       "       [ 66185],\n",
       "       [ 67247],\n",
       "       [ 67471],\n",
       "       [ 67934],\n",
       "       [ 68274],\n",
       "       [ 68596],\n",
       "       [ 69045],\n",
       "       [ 69256],\n",
       "       [ 69500],\n",
       "       [ 70461],\n",
       "       [ 70983],\n",
       "       [ 71476],\n",
       "       [ 71703],\n",
       "       [ 71944],\n",
       "       [ 72756],\n",
       "       [ 73018],\n",
       "       [ 73474],\n",
       "       [ 73781],\n",
       "       [ 74021],\n",
       "       [ 74497],\n",
       "       [ 74721],\n",
       "       [ 75459],\n",
       "       [ 76295],\n",
       "       [ 76730],\n",
       "       [ 77035],\n",
       "       [ 77314],\n",
       "       [ 79844],\n",
       "       [ 80261],\n",
       "       [ 80929],\n",
       "       [ 81323],\n",
       "       [ 81531],\n",
       "       [ 81741],\n",
       "       [ 82179],\n",
       "       [ 82623],\n",
       "       [ 95252],\n",
       "       [ 95741],\n",
       "       [ 96016],\n",
       "       [ 96247],\n",
       "       [ 96485],\n",
       "       [ 97260],\n",
       "       [ 97601],\n",
       "       [ 99681],\n",
       "       [ 99994],\n",
       "       [101942],\n",
       "       [102465],\n",
       "       [103096],\n",
       "       [103327],\n",
       "       [103562],\n",
       "       [103809],\n",
       "       [104167],\n",
       "       [104464],\n",
       "       [104709],\n",
       "       [105017],\n",
       "       [105284],\n",
       "       [105631],\n",
       "       [106110],\n",
       "       [106337],\n",
       "       [107190],\n",
       "       [107399],\n",
       "       [108012],\n",
       "       [108974],\n",
       "       [109984],\n",
       "       [110723],\n",
       "       [111404],\n",
       "       [113371],\n",
       "       [113699],\n",
       "       [113906],\n",
       "       [115495],\n",
       "       [115945],\n",
       "       [125334],\n",
       "       [125535],\n",
       "       [138462],\n",
       "       [138734],\n",
       "       [140396],\n",
       "       [140641],\n",
       "       [142436],\n",
       "       [142654],\n",
       "       [142936],\n",
       "       [143166],\n",
       "       [143727],\n",
       "       [144201],\n",
       "       [144483],\n",
       "       [144942],\n",
       "       [146152],\n",
       "       [146489],\n",
       "       [146730],\n",
       "       [147485],\n",
       "       [147821],\n",
       "       [148877],\n",
       "       [149344],\n",
       "       [149895],\n",
       "       [150151],\n",
       "       [150381],\n",
       "       [150610],\n",
       "       [151752],\n",
       "       [151978],\n",
       "       [152183],\n",
       "       [152545],\n",
       "       [152776],\n",
       "       [153030],\n",
       "       [153256],\n",
       "       [153514],\n",
       "       [153740],\n",
       "       [153968],\n",
       "       [154206],\n",
       "       [154717],\n",
       "       [154945],\n",
       "       [155407],\n",
       "       [155628],\n",
       "       [155844],\n",
       "       [156093],\n",
       "       [156323],\n",
       "       [156847],\n",
       "       [157657],\n",
       "       [158405],\n",
       "       [158614],\n",
       "       [159181],\n",
       "       [159394],\n",
       "       [159820],\n",
       "       [161947],\n",
       "       [173930]])"
      ]
     },
     "execution_count": 71,
     "metadata": {},
     "output_type": "execute_result"
    }
   ],
   "source": [
    "data = example_session_data.reward_data.contra_data.event_times\n",
    "convert_behavioural_timestamps_into_samples(data, window_size_seconds)\n"
   ]
  },
  {
   "cell_type": "code",
   "execution_count": 72,
   "metadata": {},
   "outputs": [],
   "source": [
    "ipsi_choices = convert_behavioural_timestamps_into_samples(example_session_data.choice_data.ipsi_data.event_times, window_size_seconds)\n",
    "contra_choices = convert_behavioural_timestamps_into_samples(example_session_data.choice_data.contra_data.event_times, window_size_seconds)\n",
    "high_cues = convert_behavioural_timestamps_into_samples(example_session_data.cue_data.high_cue_data.event_times, window_size_seconds)\n",
    "low_cues = convert_behavioural_timestamps_into_samples(example_session_data.cue_data.low_cue_data.event_times, window_size_seconds)\n",
    "ipsi_rewards = convert_behavioural_timestamps_into_samples(example_session_data.reward_data.ipsi_data.event_times, window_size_seconds)\n",
    "contra_rewards = convert_behavioural_timestamps_into_samples(example_session_data.reward_data.contra_data.event_times, window_size_seconds)"
   ]
  },
  {
   "cell_type": "code",
   "execution_count": 73,
   "metadata": {},
   "outputs": [],
   "source": [
    "#all_cues = np.concatenate([ipsi_cues, contra_cues])\n",
    "all_rewards = np.concatenate([ipsi_rewards, contra_rewards])"
   ]
  },
  {
   "cell_type": "code",
   "execution_count": 74,
   "metadata": {},
   "outputs": [],
   "source": [
    "parameters = turn_timestamps_into_continuous(num_samples, ipsi_choices, contra_choices, high_cues, low_cues, ipsi_rewards, contra_rewards)"
   ]
  },
  {
   "cell_type": "code",
   "execution_count": 18,
   "metadata": {},
   "outputs": [],
   "source": [
    "#parameters = turn_timestamps_into_continuous(num_samples, ipsi_choices, contra_choices, all_cues, all_rewards)"
   ]
  },
  {
   "cell_type": "code",
   "execution_count": 75,
   "metadata": {},
   "outputs": [],
   "source": [
    "def make_design_matrix(parameters, window_min=-1*10000/100, window_max=2*10000/100):\n",
    "    num_parameters = len(parameters)\n",
    "    shifts = np.arange(window_min, window_max + 1)\n",
    "    shift_window_size = shifts.shape[0]\n",
    "    X = np.zeros([parameters[0].shape[0], shift_window_size*num_parameters])\n",
    "    all_param_indices = []\n",
    "    for shift_num, shift_val in  enumerate(shifts):\n",
    "        for param_num, param in enumerate(parameters):\n",
    "            param_indices = range(param_num*shift_window_size, param_num*shift_window_size + shift_window_size)\n",
    "            all_param_indices.append(param_indices)\n",
    "            shifted_param = shift(param, shift_val, cval=0) \n",
    "            X[:, param_indices[shift_num]] = shifted_param\n",
    "    return(all_param_indices, X)\n"
   ]
  },
  {
   "cell_type": "code",
   "execution_count": 76,
   "metadata": {},
   "outputs": [],
   "source": [
    "all_param_indices, X = make_design_matrix(parameters)"
   ]
  },
  {
   "cell_type": "code",
   "execution_count": 77,
   "metadata": {},
   "outputs": [],
   "source": [
    "results = LinearRegression().fit(X, downsampled_zscored_dff)"
   ]
  },
  {
   "cell_type": "code",
   "execution_count": 78,
   "metadata": {},
   "outputs": [],
   "source": [
    "def plot_kernels(parameter_names, regression_results,window_min=-1*10000/100, window_max=2*10000/100):\n",
    "    \n",
    "    fig, axs = plt.subplots(nrows=1, ncols=len(parameter_names), sharey=True, figsize=(15,8))\n",
    "    axs[0].set_ylabel('Regression coefficient')\n",
    "    shifts = np.arange(window_min, window_max + 1)/100\n",
    "    shift_window_size = shifts.shape[0]\n",
    "    for param_num, param_name in enumerate(parameter_names):\n",
    "        param_kernel = regression_results.coef_[param_num*shift_window_size:(param_num+1)*shift_window_size]\n",
    "        axs[param_num].plot(shifts, param_kernel, label=param_name)\n",
    "        axs[param_num].set_title(param_name)\n",
    "        axs[param_num].axvline([0])\n",
    "        axs[param_num].set_xlabel('Time (s)')"
   ]
  },
  {
   "cell_type": "code",
   "execution_count": 79,
   "metadata": {},
   "outputs": [],
   "source": [
    "param_names = ['ipsi_choices',' contra_choices', 'high_cues', 'low_cues', 'ipsi_rewards',' contra_rewards']\n",
    "plot_kernels(param_names, results)"
   ]
  },
  {
   "cell_type": "code",
   "execution_count": 61,
   "metadata": {},
   "outputs": [],
   "source": [
    "plot_filename = mouse + '_' + date + '_' + 'linear_regresion_kernels.pdf' \n",
    "plt.savefig(saving_folder + plot_filename, transparent=True, optimize=True)"
   ]
  },
  {
   "cell_type": "code",
   "execution_count": 151,
   "metadata": {},
   "outputs": [],
   "source": [
    "def save_kernels(parameter_names, regression_results,  window_min=-1 * 10000 / 100, window_max=2 * 10000 / 100):\n",
    "\n",
    "    shifts = np.arange(window_min, window_max + 1) / 100\n",
    "    shift_window_size = shifts.shape[0]\n",
    "    param_kernels = {}\n",
    "    for param_num, param_name in enumerate(parameter_names):\n",
    "        kernel_name = parameter_names[param_num]\n",
    "        param_kernels[kernel_name] = regression_results.coef_[param_num * shift_window_size:(param_num + 1) * shift_window_size]\n",
    "    return param_kernels, shifts"
   ]
  },
  {
   "cell_type": "code",
   "execution_count": 152,
   "metadata": {},
   "outputs": [
    {
     "data": {
      "text/plain": [
       "[<matplotlib.lines.Line2D at 0xc5d6c88>]"
      ]
     },
     "execution_count": 152,
     "metadata": {},
     "output_type": "execute_result"
    }
   ],
   "source": [
    "plt.plot(save_kernels(param_names, results)[1], save_kernels(param_names, results)[0]['ipsi choices'])"
   ]
  },
  {
   "cell_type": "code",
   "execution_count": null,
   "metadata": {},
   "outputs": [],
   "source": []
  }
 ],
 "metadata": {
  "kernelspec": {
   "display_name": "Python 3",
   "language": "python",
   "name": "python3"
  },
  "language_info": {
   "codemirror_mode": {
    "name": "ipython",
    "version": 3
   },
   "file_extension": ".py",
   "mimetype": "text/x-python",
   "name": "python",
   "nbconvert_exporter": "python",
   "pygments_lexer": "ipython3",
   "version": "3.7.3"
  }
 },
 "nbformat": 4,
 "nbformat_minor": 4
}
