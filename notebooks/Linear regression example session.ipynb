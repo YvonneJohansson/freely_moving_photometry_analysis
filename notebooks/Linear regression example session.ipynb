{
 "cells": [
  {
   "cell_type": "code",
   "execution_count": 80,
   "metadata": {},
   "outputs": [],
   "source": [
    "%matplotlib qt5\n",
    "import numpy as np\n",
    "from sklearn.metrics import explained_variance_score\n",
    "from sklearn.linear_model import LinearRegression, Lasso\n",
    "from scipy.ndimage.interpolation import shift\n",
    "from scipy.signal import decimate\n",
    "from matplotlib import pyplot as plt\n",
    "from scipy import stats\n",
    "import pandas as pd\n",
    "import pickle\n",
    "import sys\n",
    "sys.path.append('C:\\\\Users\\\\francescag\\\\Documents\\\\SourceTree_repos\\\\Python_git\\\\')\n",
    "sys.path.insert(0, 'C:\\\\Users\\\\francescag\\\\Documents\\\\SourceTree_repos')\n",
    "sys.path.insert(0, 'C:\\\\Users\\\\francescag\\\\Documents\\\\SourceTree_repos\\\\Python_git\\\\freely_moving_photometry_analysis')\n",
    "from utils.individual_trial_analysis_utils import SessionEvents"
   ]
  },
  {
   "cell_type": "code",
   "execution_count": 2,
   "metadata": {},
   "outputs": [],
   "source": [
    "def rolling_zscore(x, window=10*10000):\n",
    "    r = x.rolling(window=window)\n",
    "    m = r.mean().shift(1)\n",
    "    s = r.std(ddof=0).shift(1)\n",
    "    z = (x-m)/s\n",
    "    return z"
   ]
  },
  {
   "cell_type": "code",
   "execution_count": 50,
   "metadata": {},
   "outputs": [],
   "source": [
    "mouse = 'SNL_photo18'\n",
    "date = '20200226'\n",
    "saving_folder = 'W:\\\\photometry_2AC\\\\processed_data\\\\' + mouse + '\\\\'\n",
    "events_folder = 'W:\\\\photometry_2AC\\\\processed_data\\\\' + mouse + '\\\\linear_regression\\\\'\n",
    "restructured_data_filename = mouse + '_' + date + '_' + 'restructured_data.pkl'\n",
    "trial_data = pd.read_pickle(saving_folder + restructured_data_filename) \n",
    "dff_trace_filename = mouse + '_' + date + '_' + 'smoothed_signal.npy'\n",
    "dff = np.load(saving_folder + dff_trace_filename)"
   ]
  },
  {
   "cell_type": "code",
   "execution_count": 51,
   "metadata": {},
   "outputs": [],
   "source": [
    "window_size_seconds = 10\n",
    "sample_rate = 10000\n",
    "decimate_factor = 100"
   ]
  },
  {
   "cell_type": "code",
   "execution_count": 52,
   "metadata": {},
   "outputs": [],
   "source": [
    "rolling_zscored_dff = rolling_zscore(pd.Series(dff), window=window_size_seconds*sample_rate)"
   ]
  },
  {
   "cell_type": "code",
   "execution_count": 53,
   "metadata": {},
   "outputs": [
    {
     "data": {
      "text/plain": [
       "(43812500,)"
      ]
     },
     "execution_count": 53,
     "metadata": {},
     "output_type": "execute_result"
    }
   ],
   "source": [
    "dff.shape"
   ]
  },
  {
   "cell_type": "code",
   "execution_count": 54,
   "metadata": {},
   "outputs": [],
   "source": [
    "downsampled_zscored_dff = decimate(decimate(rolling_zscored_dff[window_size_seconds*sample_rate:], int(decimate_factor/10)), int(decimate_factor/10))"
   ]
  },
  {
   "cell_type": "code",
   "execution_count": 55,
   "metadata": {},
   "outputs": [],
   "source": [
    "num_samples = downsampled_zscored_dff.shape[0]"
   ]
  },
  {
   "cell_type": "code",
   "execution_count": 56,
   "metadata": {},
   "outputs": [
    {
     "data": {
      "text/plain": [
       "437125"
      ]
     },
     "execution_count": 56,
     "metadata": {},
     "output_type": "execute_result"
    }
   ],
   "source": [
    "num_samples"
   ]
  },
  {
   "cell_type": "code",
   "execution_count": 57,
   "metadata": {},
   "outputs": [],
   "source": [
    "def turn_timestamps_into_continuous(num_samples, *behavioural_events):\n",
    "    continuous_parameters = []\n",
    "    for event_type_timestamps in behavioural_events:\n",
    "        continuous_time_version = np.zeros([num_samples])\n",
    "        continuous_time_version[event_type_timestamps] = 1\n",
    "        continuous_parameters.append(continuous_time_version)\n",
    "    return continuous_parameters"
   ]
  },
  {
   "cell_type": "code",
   "execution_count": 58,
   "metadata": {},
   "outputs": [],
   "source": [
    "from utils.individual_trial_analysis_utils import SessionEvents"
   ]
  },
  {
   "cell_type": "code",
   "execution_count": 59,
   "metadata": {
    "scrolled": true
   },
   "outputs": [],
   "source": [
    "aligned_filename = mouse + '_' + date + '_' +'behavioural_events_with_no_rewards_added.p'\n",
    "save_filename = events_folder + aligned_filename\n",
    "example_session_data = pickle.load(open(save_filename, \"rb\"))\n"
   ]
  },
  {
   "cell_type": "code",
   "execution_count": 60,
   "metadata": {},
   "outputs": [],
   "source": [
    "def convert_behavioural_timestamps_into_samples(time_stamps, window_to_remove, sample_rate=10000, decimate_factor=100):\n",
    "    adjusted_stamps = (time_stamps - window_to_remove)*sample_rate/decimate_factor\n",
    "    adjusted_stamps = np.round(np.vstack(adjusted_stamps).astype(np.float)).astype(int)\n",
    "    return adjusted_stamps"
   ]
  },
  {
   "cell_type": "code",
   "execution_count": 61,
   "metadata": {},
   "outputs": [],
   "source": [
    "ipsi_choices = convert_behavioural_timestamps_into_samples(example_session_data.choice_data.ipsi_data.event_times, window_size_seconds)\n",
    "contra_choices = convert_behavioural_timestamps_into_samples(example_session_data.choice_data.contra_data.event_times, window_size_seconds)\n",
    "high_cues = convert_behavioural_timestamps_into_samples(example_session_data.cue_data.high_cue_data.event_times, window_size_seconds)\n",
    "low_cues = convert_behavioural_timestamps_into_samples(example_session_data.cue_data.low_cue_data.event_times, window_size_seconds)\n",
    "rewards = convert_behavioural_timestamps_into_samples(example_session_data.reward_data.reward_data.event_times, window_size_seconds)\n",
    "no_rewards = convert_behavioural_timestamps_into_samples(example_session_data.reward_data.no_reward_data.event_times, window_size_seconds)\n"
   ]
  },
  {
   "cell_type": "code",
   "execution_count": 62,
   "metadata": {},
   "outputs": [
    {
     "data": {
      "text/plain": [
       "(201, 1)"
      ]
     },
     "execution_count": 62,
     "metadata": {},
     "output_type": "execute_result"
    }
   ],
   "source": [
    "contra_choices.shape"
   ]
  },
  {
   "cell_type": "code",
   "execution_count": 63,
   "metadata": {},
   "outputs": [
    {
     "data": {
      "text/plain": [
       "(128, 1)"
      ]
     },
     "execution_count": 63,
     "metadata": {},
     "output_type": "execute_result"
    }
   ],
   "source": [
    "low_cues.shape"
   ]
  },
  {
   "cell_type": "code",
   "execution_count": null,
   "metadata": {},
   "outputs": [],
   "source": []
  },
  {
   "cell_type": "code",
   "execution_count": 64,
   "metadata": {},
   "outputs": [],
   "source": [
    "parameters = turn_timestamps_into_continuous(num_samples,  high_cues, low_cues, ipsi_choices, contra_choices, rewards, no_rewards)"
   ]
  },
  {
   "cell_type": "code",
   "execution_count": 65,
   "metadata": {},
   "outputs": [],
   "source": [
    "all_trial_starts = np.unique(np.concatenate([example_session_data.cue_data.high_cue_data.trial_starts, example_session_data.cue_data.low_cue_data.trial_starts, example_session_data.choice_data.contra_data.trial_starts, example_session_data.choice_data.ipsi_data.trial_starts, example_session_data.reward_data.no_reward_data.trial_starts, example_session_data.reward_data.reward_data.trial_starts]))\n",
    "all_trial_ends = np.unique(np.concatenate([example_session_data.cue_data.high_cue_data.trial_ends, example_session_data.cue_data.low_cue_data.trial_ends, example_session_data.choice_data.contra_data.trial_ends, example_session_data.choice_data.ipsi_data.trial_ends, example_session_data.reward_data.no_reward_data.trial_ends, example_session_data.reward_data.reward_data.trial_ends]))"
   ]
  },
  {
   "cell_type": "code",
   "execution_count": 66,
   "metadata": {},
   "outputs": [],
   "source": [
    "trial_starts_samps= np.squeeze(convert_behavioural_timestamps_into_samples(all_trial_starts, window_size_seconds))\n",
    "trial_ends_samps= np.squeeze(convert_behavioural_timestamps_into_samples(all_trial_ends, window_size_seconds))"
   ]
  },
  {
   "cell_type": "code",
   "execution_count": 67,
   "metadata": {},
   "outputs": [],
   "source": [
    "trials_to_include = pd.DataFrame({'trial starts': trial_starts_samps, 'trial ends': trial_ends_samps})"
   ]
  },
  {
   "cell_type": "code",
   "execution_count": 68,
   "metadata": {},
   "outputs": [],
   "source": [
    "trace_for_regression = np.array([])\n",
    "for ind, trial in trials_to_include.iterrows():\n",
    "    trial_start = trial['trial starts']\n",
    "    trial_end = trial['trial ends']\n",
    "    trace_for_regression = np.append(trace_for_regression, downsampled_zscored_dff[trial_start:trial_end])"
   ]
  },
  {
   "cell_type": "code",
   "execution_count": 69,
   "metadata": {},
   "outputs": [],
   "source": [
    "params_for_regression = []\n",
    "for param in parameters:\n",
    "    param_new = np.array([])\n",
    "    for ind, trial in trials_to_include.iterrows():\n",
    "        trial_start = trial['trial starts']\n",
    "        trial_end = trial['trial ends']\n",
    "        param_new = np.append(param_new, param[trial_start:trial_end])\n",
    "    params_for_regression.append(param_new)"
   ]
  },
  {
   "cell_type": "code",
   "execution_count": 70,
   "metadata": {},
   "outputs": [],
   "source": [
    "def make_design_matrix(parameters, window_min=-1*10000/100, window_max=1.5*10000/100):\n",
    "    num_parameters = len(parameters)\n",
    "    shifts = np.arange(window_min, window_max + 1)\n",
    "    shift_window_size = shifts.shape[0]\n",
    "    X = np.zeros([parameters[0].shape[0], shift_window_size*num_parameters])\n",
    "    all_param_indices = []\n",
    "    for shift_num, shift_val in  enumerate(shifts):\n",
    "        for param_num, param in enumerate(parameters):\n",
    "            param_indices = range(param_num*shift_window_size, param_num*shift_window_size + shift_window_size)\n",
    "            all_param_indices.append(param_indices)\n",
    "            shifted_param = shift(param, shift_val, cval=0) \n",
    "            X[:, param_indices[shift_num]] = shifted_param\n",
    "    return(all_param_indices, X)\n"
   ]
  },
  {
   "cell_type": "code",
   "execution_count": 71,
   "metadata": {},
   "outputs": [],
   "source": [
    "def plot_kernels(parameter_names,coefs,window_min=-1*10000/100, window_max=1.5*10000/100):\n",
    "    \n",
    "    fig, axs = plt.subplots(nrows=1, ncols=len(parameter_names), sharey=True, figsize=(15,8))\n",
    "    axs[0].set_ylabel('Regression coefficient')\n",
    "    shifts = np.arange(window_min, window_max + 1)/100\n",
    "    shift_window_size = shifts.shape[0]\n",
    "    for param_num, param_name in enumerate(parameter_names):\n",
    "        param_kernel = coefs[param_num*shift_window_size:(param_num+1)*shift_window_size]\n",
    "        axs[param_num].plot(shifts, param_kernel, label=param_name)\n",
    "        axs[param_num].set_title(param_name)\n",
    "        axs[param_num].axvline([0])\n",
    "        axs[param_num].set_xlabel('Time (s)')"
   ]
  },
  {
   "cell_type": "code",
   "execution_count": 82,
   "metadata": {},
   "outputs": [
    {
     "data": {
      "text/plain": [
       "0.06363158444930539"
      ]
     },
     "execution_count": 82,
     "metadata": {},
     "output_type": "execute_result"
    }
   ],
   "source": [
    "all_param_indices, X = make_design_matrix(params_for_regression)\n",
    "results = LinearRegression().fit(X, trace_for_regression)\n",
    "results.score(X, trace_for_regression)"
   ]
  },
  {
   "cell_type": "code",
   "execution_count": 26,
   "metadata": {},
   "outputs": [
    {
     "data": {
      "text/plain": [
       "0.006979412031562715"
      ]
     },
     "execution_count": 26,
     "metadata": {},
     "output_type": "execute_result"
    }
   ],
   "source": [
    "results.score(X, trace_for_regression)"
   ]
  },
  {
   "cell_type": "code",
   "execution_count": 27,
   "metadata": {},
   "outputs": [
    {
     "data": {
      "text/plain": [
       "array([[False, False, False, ..., False, False, False],\n",
       "       [False, False, False, ..., False, False, False],\n",
       "       [False, False, False, ..., False, False, False],\n",
       "       ...,\n",
       "       [False, False, False, ...,  True,  True,  True],\n",
       "       [False, False, False, ...,  True,  True,  True],\n",
       "       [False, False, False, ...,  True,  True,  True]])"
      ]
     },
     "execution_count": 27,
     "metadata": {},
     "output_type": "execute_result"
    }
   ],
   "source": [
    "X"
   ]
  },
  {
   "cell_type": "code",
   "execution_count": 74,
   "metadata": {},
   "outputs": [
    {
     "data": {
      "text/plain": [
       "0.06192720698620613"
      ]
     },
     "execution_count": 74,
     "metadata": {},
     "output_type": "execute_result"
    }
   ],
   "source": [
    "all_param_indices, X = make_design_matrix(parameters)\n",
    "results = LinearRegression().fit(X, downsampled_zscored_dff)\n",
    "results.score(X, downsampled_zscored_dff)"
   ]
  },
  {
   "cell_type": "code",
   "execution_count": 327,
   "metadata": {},
   "outputs": [
    {
     "data": {
      "text/plain": [
       "0.06994657084118427"
      ]
     },
     "execution_count": 327,
     "metadata": {},
     "output_type": "execute_result"
    }
   ],
   "source": [
    "explained_variance_score(downsampled_zscored_dff, results.predict(X))"
   ]
  },
  {
   "cell_type": "code",
   "execution_count": 73,
   "metadata": {},
   "outputs": [],
   "source": [
    "param_names = ['high_cues', 'low_cues', 'ipsi_choices', 'contra_choices', 'rewards', 'no_rewards']\n",
    "plot_kernels(param_names, results.coef_)"
   ]
  },
  {
   "cell_type": "code",
   "execution_count": 22,
   "metadata": {},
   "outputs": [],
   "source": [
    "from sklearn.metrics import explained_variance_score,  mean_squared_error, r2_score, mean_tweedie_deviance"
   ]
  },
  {
   "cell_type": "code",
   "execution_count": 16,
   "metadata": {},
   "outputs": [],
   "source": [
    "def plot_params_and_trace(start_ind, num_samps, trace, parameters):\n",
    "    x = start_ind\n",
    "    inds = range(x,x+num_samps)\n",
    "    plt.plot(parameters[3][inds], label='contra choice')\n",
    "    plt.plot(parameters[4][inds], label='rewards')\n",
    "    plt.plot(parameters[2][inds], label='ipsi choice')\n",
    "    plt.plot(parameters[1][inds], label='low cues')\n",
    "    plt.plot(parameters[0][inds], label='high cues')\n",
    "    plt.plot(parameters[4][inds], label='reward')\n",
    "    plt.plot(parameters[5][inds], label='no reward')\n",
    "    plt.plot(trace[inds]/np.max(trace), label='zscore')\n",
    "    plt.legend()"
   ]
  },
  {
   "cell_type": "code",
   "execution_count": 30,
   "metadata": {},
   "outputs": [],
   "source": [
    "plot_params_and_trace(1000, 309000, downsampled_zscored_dff, parameters)"
   ]
  },
  {
   "cell_type": "code",
   "execution_count": 31,
   "metadata": {},
   "outputs": [
    {
     "ename": "NameError",
     "evalue": "name 'decimated_dff' is not defined",
     "output_type": "error",
     "traceback": [
      "\u001b[1;31m---------------------------------------------------------------------------\u001b[0m",
      "\u001b[1;31mNameError\u001b[0m                                 Traceback (most recent call last)",
      "\u001b[1;32m<ipython-input-31-b1efb3b53180>\u001b[0m in \u001b[0;36m<module>\u001b[1;34m\u001b[0m\n\u001b[1;32m----> 1\u001b[1;33m \u001b[0mplt\u001b[0m\u001b[1;33m.\u001b[0m\u001b[0mplot\u001b[0m\u001b[1;33m(\u001b[0m\u001b[0mdecimated_dff\u001b[0m\u001b[1;33m/\u001b[0m\u001b[0mnp\u001b[0m\u001b[1;33m.\u001b[0m\u001b[0mmax\u001b[0m\u001b[1;33m(\u001b[0m\u001b[0mdecimated_dff\u001b[0m\u001b[1;33m)\u001b[0m\u001b[1;33m,\u001b[0m \u001b[0mlabel\u001b[0m\u001b[1;33m=\u001b[0m\u001b[1;34m'dff'\u001b[0m\u001b[1;33m)\u001b[0m\u001b[1;33m\u001b[0m\u001b[1;33m\u001b[0m\u001b[0m\n\u001b[0m\u001b[0;32m      2\u001b[0m \u001b[0mplt\u001b[0m\u001b[1;33m.\u001b[0m\u001b[0mplot\u001b[0m\u001b[1;33m(\u001b[0m\u001b[0mdownsampled_zscored_dff\u001b[0m\u001b[1;33m/\u001b[0m\u001b[0mnp\u001b[0m\u001b[1;33m.\u001b[0m\u001b[0mmax\u001b[0m\u001b[1;33m(\u001b[0m\u001b[0mdownsampled_zscored_dff\u001b[0m\u001b[1;33m)\u001b[0m\u001b[1;33m,\u001b[0m \u001b[0mlabel\u001b[0m\u001b[1;33m=\u001b[0m\u001b[1;34m'zscore'\u001b[0m\u001b[1;33m)\u001b[0m\u001b[1;33m\u001b[0m\u001b[1;33m\u001b[0m\u001b[0m\n\u001b[0;32m      3\u001b[0m \u001b[0mplt\u001b[0m\u001b[1;33m.\u001b[0m\u001b[0mlegend\u001b[0m\u001b[1;33m(\u001b[0m\u001b[1;33m)\u001b[0m\u001b[1;33m\u001b[0m\u001b[1;33m\u001b[0m\u001b[0m\n",
      "\u001b[1;31mNameError\u001b[0m: name 'decimated_dff' is not defined"
     ]
    }
   ],
   "source": [
    "plt.plot(decimated_dff/np.max(decimated_dff), label='dff')\n",
    "plt.plot(downsampled_zscored_dff/np.max(downsampled_zscored_dff), label='zscore')\n",
    "plt.legend()"
   ]
  },
  {
   "cell_type": "code",
   "execution_count": 75,
   "metadata": {},
   "outputs": [],
   "source": [
    "def remove_one_parameter(param_names, params_to_remove, old_coefs, old_X, window_min=-1*10000/100, window_max=1.5*10000/100):\n",
    "    param_df = pd.DataFrame({'parameter': param_names})\n",
    "    params_to_include = param_df[~param_df['parameter'].isin(params_to_remove)]\n",
    "    params_to_include = params_to_include.reset_index(drop=False)\n",
    "    num_parameters = params_to_include.shape[0]\n",
    "    shifts = np.arange(window_min, window_max + 1)/100\n",
    "    shift_window_size = shifts.shape[0]\n",
    "    new_coefs = np.zeros([shift_window_size*num_parameters])\n",
    "    new_X = np.zeros([X.shape[0], shift_window_size*num_parameters])\n",
    "    for param_num, param_row in params_to_include.iterrows():\n",
    "        old_index = param_row['index']\n",
    "        new_index = param_num\n",
    "        param_kernel = old_coefs[old_index*shift_window_size:(old_index+1)*shift_window_size]\n",
    "        param_indices = range(new_index*shift_window_size,new_index*shift_window_size + shift_window_size)\n",
    "        new_coefs[param_indices] = param_kernel\n",
    "        old_X = X[:, old_index*shift_window_size:(old_index+1)*shift_window_size]\n",
    "        new_X[:, param_indices] = old_X\n",
    "    return new_coefs, new_X, params_to_include"
   ]
  },
  {
   "cell_type": "code",
   "execution_count": 76,
   "metadata": {},
   "outputs": [],
   "source": [
    "def include_parameters(param_names, params, old_coefs, old_X, window_min=-1*10000/100, window_max=1.5*10000/100):\n",
    "    param_df = pd.DataFrame({'parameter': param_names})\n",
    "    params_to_include = param_df[param_df['parameter'].isin(params)]\n",
    "    params_to_include = params_to_include.reset_index(drop=False)\n",
    "    num_parameters = params_to_include.shape[0]\n",
    "    shifts = np.arange(window_min, window_max + 1)/100\n",
    "    shift_window_size = shifts.shape[0]\n",
    "    new_coefs = np.zeros([shift_window_size*num_parameters])\n",
    "    new_X = np.zeros([X.shape[0], shift_window_size*num_parameters])\n",
    "    for param_num, param_row in params_to_include.iterrows():\n",
    "        old_index = param_row['index']\n",
    "        new_index = param_num\n",
    "        param_kernel = old_coefs[old_index*shift_window_size:(old_index+1)*shift_window_size]\n",
    "        param_indices = range(new_index*shift_window_size,new_index*shift_window_size + shift_window_size)\n",
    "        new_coefs[param_indices] = param_kernel\n",
    "        old_X = X[:, old_index*shift_window_size:(old_index+1)*shift_window_size]\n",
    "        new_X[:, param_indices] = old_X\n",
    "    return new_coefs, new_X, params_to_include"
   ]
  },
  {
   "cell_type": "code",
   "execution_count": 77,
   "metadata": {},
   "outputs": [],
   "source": [
    "def remove_param_and_calculate_r2(param_names, param_to_remove, old_coefs, old_X, intercept, dff):\n",
    "    new_coefs, new_X, params = remove_one_parameter(param_names, param_to_remove, old_coefs, old_X)\n",
    "    new_pred = np.dot(new_X, new_coefs) + intercept\n",
    "    old_pred = np.dot(old_X, old_coefs) + intercept\n",
    "    old_r2 = explained_variance_score(dff, old_pred)\n",
    "    new_r2 = explained_variance_score(dff, new_pred)\n",
    "    prop_due_to_param = (old_r2 - new_r2)/old_r2 * 100\n",
    "    print(old_r2, new_r2)\n",
    "    print(prop_due_to_param)\n",
    "    return new_pred, prop_due_to_param"
   ]
  },
  {
   "cell_type": "code",
   "execution_count": 78,
   "metadata": {},
   "outputs": [],
   "source": [
    "def include_params_and_calculate_r2(param_names, param_to_remove, old_coefs, old_X, intercept, dff):\n",
    "    new_coefs, new_X, params = include_parameters(param_names, param_to_remove, old_coefs, old_X)\n",
    "    new_pred = np.dot(new_X, new_coefs) + intercept\n",
    "    old_pred = np.dot(old_X, old_coefs) + intercept\n",
    "    old_r2 = explained_variance_score(dff, old_pred)\n",
    "    new_r2 = explained_variance_score(dff, new_pred)\n",
    "    prop_due_to_param = (new_r2)/old_r2 * 100\n",
    "    print(old_r2, new_r2)\n",
    "    print(prop_due_to_param)\n",
    "    return new_pred, prop_due_to_param"
   ]
  },
  {
   "cell_type": "code",
   "execution_count": 81,
   "metadata": {},
   "outputs": [
    {
     "data": {
      "text/plain": [
       "[<matplotlib.lines.Line2D at 0x13c25198>]"
      ]
     },
     "execution_count": 81,
     "metadata": {},
     "output_type": "execute_result"
    }
   ],
   "source": [
    "plt.plot(downsampled_zscored_dff)\n",
    "plt.plot(cue_pred)\n",
    "plt.plot(reward_pred)\n",
    "plt.plot(no_reward_pred)\n",
    "plt.plot(choice_pred)\n",
    "plt.plot(parameters[3], label='contra choice')\n",
    "plt.plot(parameters[4], label='rewards')\n",
    "plt.plot(parameters[2], label='ipsi choice')\n",
    "plt.plot(parameters[1], label='low cues')\n",
    "plt.plot(parameters[0], label='high cues')\n",
    "plt.plot(parameters[4], label='reward')\n",
    "plt.plot(parameters[5], label='no reward')"
   ]
  },
  {
   "cell_type": "code",
   "execution_count": 350,
   "metadata": {},
   "outputs": [],
   "source": [
    "# Contribution of each component in the model was measured by reduction of a deviance compared to a reduced model excluding the component."
   ]
  },
  {
   "cell_type": "code",
   "execution_count": 344,
   "metadata": {},
   "outputs": [],
   "source": [
    "total_pred = np.dot(X, results.coef_)"
   ]
  },
  {
   "cell_type": "code",
   "execution_count": 72,
   "metadata": {},
   "outputs": [
    {
     "name": "stdout",
     "output_type": "stream",
     "text": [
      "0.3437221932443679 0.004668395994980701\n",
      "1.3581887020201002\n",
      "0.3437221932443679 0.3377332123343795\n",
      "1.742389938065654\n"
     ]
    }
   ],
   "source": [
    "params_to_remove = ['high_cues', 'low_cues']\n",
    "cue_pred, prop_due_to_cue = include_params_and_calculate_r2(param_names, params_to_remove, results.coef_, X, results.intercept_, downsampled_zscored_dff)\n",
    "cue_pred, prop_due_to_cue = remove_param_and_calculate_r2(param_names, params_to_remove, results.coef_, X, results.intercept_, downsampled_zscored_dff)"
   ]
  },
  {
   "cell_type": "code",
   "execution_count": 83,
   "metadata": {
    "scrolled": true
   },
   "outputs": [
    {
     "name": "stdout",
     "output_type": "stream",
     "text": [
      "0.06363158444930539 0.02094875620721326\n",
      "32.921946527833065\n",
      "0.06363158444930539 0.024072359131555365\n",
      "62.169165926186295\n"
     ]
    }
   ],
   "source": [
    "params_to_remove = ['ipsi_choices', 'contra_choices']\n",
    "choice_pred, prop_due_to_choice = include_params_and_calculate_r2(param_names, params_to_remove, results.coef_, X,  results.intercept_, trace_for_regression)\n",
    "choice_pred, prop_due_to_choice = remove_param_and_calculate_r2(param_names, params_to_remove, results.coef_, X,  results.intercept_, trace_for_regression)"
   ]
  },
  {
   "cell_type": "code",
   "execution_count": 78,
   "metadata": {},
   "outputs": [
    {
     "name": "stdout",
     "output_type": "stream",
     "text": [
      "0.3437221932443679 0.23574087404276955\n",
      "68.5847113384298\n",
      "0.3437221932443679 0.023876094529398095\n",
      "93.05366514043408\n"
     ]
    }
   ],
   "source": [
    "params_to_remove = ['rewards']\n",
    "reward_pred, prop_due_to_param = include_params_and_calculate_r2(param_names, params_to_remove, results.coef_, X,results.intercept_, downsampled_zscored_dff)\n",
    "reward_pred, prop_due_to_param = remove_param_and_calculate_r2(param_names, params_to_remove, results.coef_, X,results.intercept_, downsampled_zscored_dff)"
   ]
  },
  {
   "cell_type": "code",
   "execution_count": 77,
   "metadata": {},
   "outputs": [
    {
     "name": "stdout",
     "output_type": "stream",
     "text": [
      "0.3437221932443679 0.3327044425436263\n",
      "3.2054231345220696\n"
     ]
    }
   ],
   "source": [
    "params_to_remove = ['no_rewards']\n",
    "\n",
    "no_reward_pred, prop_due_to_param = remove_param_and_calculate_r2(param_names, params_to_remove, results.coef_, X, results.intercept_, downsampled_zscored_dff)"
   ]
  },
  {
   "cell_type": "code",
   "execution_count": 76,
   "metadata": {},
   "outputs": [
    {
     "data": {
      "text/plain": [
       "79.80769494955997"
      ]
     },
     "execution_count": 76,
     "metadata": {},
     "output_type": "execute_result"
    }
   ],
   "source": [
    "5.11348747238289 + 68.5847113384298 + 4.751307436727189 + 1.3581887020201002"
   ]
  },
  {
   "cell_type": "code",
   "execution_count": 317,
   "metadata": {},
   "outputs": [],
   "source": [
    "predictors = X\n",
    "divisor = float(predictors.shape[0] - predictors.shape[1])\n",
    "outcomes = downsampled_zscored_dff\n",
    "sse = np.sum((total_pred - outcomes) ** 2, axis=0) / divisor\n",
    "if not sse.shape:\n",
    "    se = np.array([np.sqrt(np.diagonal(sse * np.linalg.inv(np.dot(predictors.T, predictors))))])\n",
    "else:\n",
    "    se = np.array(\n",
    "        [\n",
    "            np.sqrt(\n",
    "                np.diagonal(\n",
    "                    sse[i] * np.linalg.inv(np.dot(predictors.T, predictors))\n",
    "                )\n",
    "            )\n",
    "            for i in range(sse.shape[0])\n",
    "        ]\n",
    "    )\n",
    "t_values = results.coef_ / se\n",
    "p_values = 2 * (\n",
    "    1 - stats.t.cdf(np.abs(t_values), outcomes.shape[0] - predictors.shape[1])\n",
    ")\n"
   ]
  },
  {
   "cell_type": "code",
   "execution_count": 277,
   "metadata": {},
   "outputs": [
    {
     "data": {
      "text/plain": [
       "array([[0.08107052, 0.08107052, 0.08106907, ..., 0.07705439, 0.07705577,\n",
       "        0.07705577]])"
      ]
     },
     "execution_count": 277,
     "metadata": {},
     "output_type": "execute_result"
    }
   ],
   "source": [
    "np.array([np.sqrt(np.diagonal(sse * np.linalg.inv(np.dot(predictors.T, predictors))))])"
   ]
  },
  {
   "cell_type": "code",
   "execution_count": 30,
   "metadata": {},
   "outputs": [
    {
     "data": {
      "text/plain": [
       "<matplotlib.legend.Legend at 0x2f932dd8>"
      ]
     },
     "execution_count": 30,
     "metadata": {},
     "output_type": "execute_result"
    }
   ],
   "source": [
    "plt.plot(cue_pred, label='cue')\n",
    "plt.plot(choice_pred, label = 'choice')\n",
    "plt.plot(reward_pred, label = 'reward')\n",
    "plt.legend()"
   ]
  },
  {
   "cell_type": "code",
   "execution_count": 255,
   "metadata": {},
   "outputs": [
    {
     "name": "stdout",
     "output_type": "stream",
     "text": [
      "0.19382222321776876 0.03147393529840614\n"
     ]
    }
   ],
   "source": [
    "old_r2 = explained_variance_score(downsampled_zscored_dff, old_pred)\n",
    "new_r2 = explained_variance_score(downsampled_zscored_dff, new_pred)\n",
    "print(old_r2, new_r2)"
   ]
  },
  {
   "cell_type": "code",
   "execution_count": 256,
   "metadata": {},
   "outputs": [
    {
     "name": "stdout",
     "output_type": "stream",
     "text": [
      "0.1834066816753005 0.030968894328113894\n"
     ]
    }
   ],
   "source": [
    "old_r2 = r2_score(downsampled_zscored_dff, old_pred)\n",
    "new_r2 = r2_score(downsampled_zscored_dff, new_pred)\n",
    "print(old_r2, new_r2)"
   ]
  },
  {
   "cell_type": "code",
   "execution_count": 257,
   "metadata": {},
   "outputs": [
    {
     "ename": "ValueError",
     "evalue": "Mean Tweedie deviance error with power=1 can only be used on non-negative y and strictly positive y_pred.",
     "output_type": "error",
     "traceback": [
      "\u001b[1;31m---------------------------------------------------------------------------\u001b[0m",
      "\u001b[1;31mValueError\u001b[0m                                Traceback (most recent call last)",
      "\u001b[1;32m<ipython-input-257-149c2e471941>\u001b[0m in \u001b[0;36m<module>\u001b[1;34m\u001b[0m\n\u001b[0;32m      1\u001b[0m \u001b[1;32mfrom\u001b[0m \u001b[0msklearn\u001b[0m\u001b[1;33m.\u001b[0m\u001b[0mmetrics\u001b[0m \u001b[1;32mimport\u001b[0m \u001b[0mmean_poisson_deviance\u001b[0m\u001b[1;33m\u001b[0m\u001b[1;33m\u001b[0m\u001b[0m\n\u001b[1;32m----> 2\u001b[1;33m \u001b[0mold_r2\u001b[0m \u001b[1;33m=\u001b[0m \u001b[0mmean_poisson_deviance\u001b[0m\u001b[1;33m(\u001b[0m\u001b[0mdownsampled_zscored_dff\u001b[0m\u001b[1;33m,\u001b[0m \u001b[0mold_pred\u001b[0m\u001b[1;33m)\u001b[0m\u001b[1;33m\u001b[0m\u001b[1;33m\u001b[0m\u001b[0m\n\u001b[0m\u001b[0;32m      3\u001b[0m \u001b[0mnew_r2\u001b[0m \u001b[1;33m=\u001b[0m \u001b[0mmean_poisson_deviance\u001b[0m\u001b[1;33m(\u001b[0m\u001b[0mdownsampled_zscored_dff\u001b[0m\u001b[1;33m,\u001b[0m \u001b[0mnew_pred\u001b[0m\u001b[1;33m)\u001b[0m\u001b[1;33m\u001b[0m\u001b[1;33m\u001b[0m\u001b[0m\n\u001b[0;32m      4\u001b[0m \u001b[0mprint\u001b[0m\u001b[1;33m(\u001b[0m\u001b[0mold_r2\u001b[0m\u001b[1;33m,\u001b[0m \u001b[0mnew_r2\u001b[0m\u001b[1;33m)\u001b[0m\u001b[1;33m\u001b[0m\u001b[1;33m\u001b[0m\u001b[0m\n",
      "\u001b[1;32m~\\AppData\\Local\\Continuum\\miniconda3\\lib\\site-packages\\sklearn\\utils\\validation.py\u001b[0m in \u001b[0;36minner_f\u001b[1;34m(*args, **kwargs)\u001b[0m\n\u001b[0;32m     71\u001b[0m                           FutureWarning)\n\u001b[0;32m     72\u001b[0m         \u001b[0mkwargs\u001b[0m\u001b[1;33m.\u001b[0m\u001b[0mupdate\u001b[0m\u001b[1;33m(\u001b[0m\u001b[1;33m{\u001b[0m\u001b[0mk\u001b[0m\u001b[1;33m:\u001b[0m \u001b[0marg\u001b[0m \u001b[1;32mfor\u001b[0m \u001b[0mk\u001b[0m\u001b[1;33m,\u001b[0m \u001b[0marg\u001b[0m \u001b[1;32min\u001b[0m \u001b[0mzip\u001b[0m\u001b[1;33m(\u001b[0m\u001b[0msig\u001b[0m\u001b[1;33m.\u001b[0m\u001b[0mparameters\u001b[0m\u001b[1;33m,\u001b[0m \u001b[0margs\u001b[0m\u001b[1;33m)\u001b[0m\u001b[1;33m}\u001b[0m\u001b[1;33m)\u001b[0m\u001b[1;33m\u001b[0m\u001b[1;33m\u001b[0m\u001b[0m\n\u001b[1;32m---> 73\u001b[1;33m         \u001b[1;32mreturn\u001b[0m \u001b[0mf\u001b[0m\u001b[1;33m(\u001b[0m\u001b[1;33m**\u001b[0m\u001b[0mkwargs\u001b[0m\u001b[1;33m)\u001b[0m\u001b[1;33m\u001b[0m\u001b[1;33m\u001b[0m\u001b[0m\n\u001b[0m\u001b[0;32m     74\u001b[0m     \u001b[1;32mreturn\u001b[0m \u001b[0minner_f\u001b[0m\u001b[1;33m\u001b[0m\u001b[1;33m\u001b[0m\u001b[0m\n\u001b[0;32m     75\u001b[0m \u001b[1;33m\u001b[0m\u001b[0m\n",
      "\u001b[1;32m~\\AppData\\Local\\Continuum\\miniconda3\\lib\\site-packages\\sklearn\\metrics\\_regression.py\u001b[0m in \u001b[0;36mmean_poisson_deviance\u001b[1;34m(y_true, y_pred, sample_weight)\u001b[0m\n\u001b[0;32m    763\u001b[0m     \"\"\"\n\u001b[0;32m    764\u001b[0m     return mean_tweedie_deviance(\n\u001b[1;32m--> 765\u001b[1;33m         \u001b[0my_true\u001b[0m\u001b[1;33m,\u001b[0m \u001b[0my_pred\u001b[0m\u001b[1;33m,\u001b[0m \u001b[0msample_weight\u001b[0m\u001b[1;33m=\u001b[0m\u001b[0msample_weight\u001b[0m\u001b[1;33m,\u001b[0m \u001b[0mpower\u001b[0m\u001b[1;33m=\u001b[0m\u001b[1;36m1\u001b[0m\u001b[1;33m\u001b[0m\u001b[1;33m\u001b[0m\u001b[0m\n\u001b[0m\u001b[0;32m    766\u001b[0m     )\n\u001b[0;32m    767\u001b[0m \u001b[1;33m\u001b[0m\u001b[0m\n",
      "\u001b[1;32m~\\AppData\\Local\\Continuum\\miniconda3\\lib\\site-packages\\sklearn\\utils\\validation.py\u001b[0m in \u001b[0;36minner_f\u001b[1;34m(*args, **kwargs)\u001b[0m\n\u001b[0;32m     71\u001b[0m                           FutureWarning)\n\u001b[0;32m     72\u001b[0m         \u001b[0mkwargs\u001b[0m\u001b[1;33m.\u001b[0m\u001b[0mupdate\u001b[0m\u001b[1;33m(\u001b[0m\u001b[1;33m{\u001b[0m\u001b[0mk\u001b[0m\u001b[1;33m:\u001b[0m \u001b[0marg\u001b[0m \u001b[1;32mfor\u001b[0m \u001b[0mk\u001b[0m\u001b[1;33m,\u001b[0m \u001b[0marg\u001b[0m \u001b[1;32min\u001b[0m \u001b[0mzip\u001b[0m\u001b[1;33m(\u001b[0m\u001b[0msig\u001b[0m\u001b[1;33m.\u001b[0m\u001b[0mparameters\u001b[0m\u001b[1;33m,\u001b[0m \u001b[0margs\u001b[0m\u001b[1;33m)\u001b[0m\u001b[1;33m}\u001b[0m\u001b[1;33m)\u001b[0m\u001b[1;33m\u001b[0m\u001b[1;33m\u001b[0m\u001b[0m\n\u001b[1;32m---> 73\u001b[1;33m         \u001b[1;32mreturn\u001b[0m \u001b[0mf\u001b[0m\u001b[1;33m(\u001b[0m\u001b[1;33m**\u001b[0m\u001b[0mkwargs\u001b[0m\u001b[1;33m)\u001b[0m\u001b[1;33m\u001b[0m\u001b[1;33m\u001b[0m\u001b[0m\n\u001b[0m\u001b[0;32m     74\u001b[0m     \u001b[1;32mreturn\u001b[0m \u001b[0minner_f\u001b[0m\u001b[1;33m\u001b[0m\u001b[1;33m\u001b[0m\u001b[0m\n\u001b[0;32m     75\u001b[0m \u001b[1;33m\u001b[0m\u001b[0m\n",
      "\u001b[1;32m~\\AppData\\Local\\Continuum\\miniconda3\\lib\\site-packages\\sklearn\\metrics\\_regression.py\u001b[0m in \u001b[0;36mmean_tweedie_deviance\u001b[1;34m(y_true, y_pred, sample_weight, power)\u001b[0m\n\u001b[0;32m    724\u001b[0m \u001b[1;33m\u001b[0m\u001b[0m\n\u001b[0;32m    725\u001b[0m     \u001b[0mdist\u001b[0m \u001b[1;33m=\u001b[0m \u001b[0mTweedieDistribution\u001b[0m\u001b[1;33m(\u001b[0m\u001b[0mpower\u001b[0m\u001b[1;33m=\u001b[0m\u001b[0mpower\u001b[0m\u001b[1;33m)\u001b[0m\u001b[1;33m\u001b[0m\u001b[1;33m\u001b[0m\u001b[0m\n\u001b[1;32m--> 726\u001b[1;33m     \u001b[0mdev\u001b[0m \u001b[1;33m=\u001b[0m \u001b[0mdist\u001b[0m\u001b[1;33m.\u001b[0m\u001b[0munit_deviance\u001b[0m\u001b[1;33m(\u001b[0m\u001b[0my_true\u001b[0m\u001b[1;33m,\u001b[0m \u001b[0my_pred\u001b[0m\u001b[1;33m,\u001b[0m \u001b[0mcheck_input\u001b[0m\u001b[1;33m=\u001b[0m\u001b[1;32mTrue\u001b[0m\u001b[1;33m)\u001b[0m\u001b[1;33m\u001b[0m\u001b[1;33m\u001b[0m\u001b[0m\n\u001b[0m\u001b[0;32m    727\u001b[0m \u001b[1;33m\u001b[0m\u001b[0m\n\u001b[0;32m    728\u001b[0m     \u001b[1;32mreturn\u001b[0m \u001b[0mnp\u001b[0m\u001b[1;33m.\u001b[0m\u001b[0maverage\u001b[0m\u001b[1;33m(\u001b[0m\u001b[0mdev\u001b[0m\u001b[1;33m,\u001b[0m \u001b[0mweights\u001b[0m\u001b[1;33m=\u001b[0m\u001b[0msample_weight\u001b[0m\u001b[1;33m)\u001b[0m\u001b[1;33m\u001b[0m\u001b[1;33m\u001b[0m\u001b[0m\n",
      "\u001b[1;32m~\\AppData\\Local\\Continuum\\miniconda3\\lib\\site-packages\\sklearn\\_loss\\glm_distribution.py\u001b[0m in \u001b[0;36munit_deviance\u001b[1;34m(self, y, y_pred, check_input)\u001b[0m\n\u001b[0;32m    288\u001b[0m                 \u001b[1;31m# Poisson and Compount poisson distribution, y >= 0, y_pred > 0\u001b[0m\u001b[1;33m\u001b[0m\u001b[1;33m\u001b[0m\u001b[1;33m\u001b[0m\u001b[0m\n\u001b[0;32m    289\u001b[0m                 \u001b[1;32mif\u001b[0m \u001b[1;33m(\u001b[0m\u001b[0my\u001b[0m \u001b[1;33m<\u001b[0m \u001b[1;36m0\u001b[0m\u001b[1;33m)\u001b[0m\u001b[1;33m.\u001b[0m\u001b[0many\u001b[0m\u001b[1;33m(\u001b[0m\u001b[1;33m)\u001b[0m \u001b[1;32mor\u001b[0m \u001b[1;33m(\u001b[0m\u001b[0my_pred\u001b[0m \u001b[1;33m<=\u001b[0m \u001b[1;36m0\u001b[0m\u001b[1;33m)\u001b[0m\u001b[1;33m.\u001b[0m\u001b[0many\u001b[0m\u001b[1;33m(\u001b[0m\u001b[1;33m)\u001b[0m\u001b[1;33m:\u001b[0m\u001b[1;33m\u001b[0m\u001b[1;33m\u001b[0m\u001b[0m\n\u001b[1;32m--> 290\u001b[1;33m                     raise ValueError(message + \"non-negative y and strictly \"\n\u001b[0m\u001b[0;32m    291\u001b[0m                                      \"positive y_pred.\")\n\u001b[0;32m    292\u001b[0m             \u001b[1;32melif\u001b[0m \u001b[0mp\u001b[0m \u001b[1;33m>=\u001b[0m \u001b[1;36m2\u001b[0m\u001b[1;33m:\u001b[0m\u001b[1;33m\u001b[0m\u001b[1;33m\u001b[0m\u001b[0m\n",
      "\u001b[1;31mValueError\u001b[0m: Mean Tweedie deviance error with power=1 can only be used on non-negative y and strictly positive y_pred."
     ]
    }
   ],
   "source": [
    "from sklearn.metrics import mean_poisson_deviance\n",
    "old_r2 = r2_score(downsampled_zscored_dff, old_pred)\n",
    "new_r2 = r2_score(downsampled_zscored_dff, new_pred)\n",
    "print(old_r2, new_r2)"
   ]
  },
  {
   "cell_type": "code",
   "execution_count": 22,
   "metadata": {},
   "outputs": [
    {
     "ename": "NameError",
     "evalue": "name 'results' is not defined",
     "output_type": "error",
     "traceback": [
      "\u001b[1;31m---------------------------------------------------------------------------\u001b[0m",
      "\u001b[1;31mNameError\u001b[0m                                 Traceback (most recent call last)",
      "\u001b[1;32m<ipython-input-22-1d80d269fee8>\u001b[0m in \u001b[0;36m<module>\u001b[1;34m\u001b[0m\n\u001b[0;32m      1\u001b[0m \u001b[0mx\u001b[0m \u001b[1;33m=\u001b[0m \u001b[1;36m80000\u001b[0m\u001b[1;33m\u001b[0m\u001b[1;33m\u001b[0m\u001b[0m\n\u001b[0;32m      2\u001b[0m \u001b[0minds\u001b[0m \u001b[1;33m=\u001b[0m \u001b[0mrange\u001b[0m\u001b[1;33m(\u001b[0m\u001b[0mx\u001b[0m\u001b[1;33m,\u001b[0m\u001b[0mx\u001b[0m\u001b[1;33m+\u001b[0m\u001b[1;36m5000\u001b[0m\u001b[1;33m)\u001b[0m\u001b[1;33m\u001b[0m\u001b[1;33m\u001b[0m\u001b[0m\n\u001b[1;32m----> 3\u001b[1;33m \u001b[0mplt\u001b[0m\u001b[1;33m.\u001b[0m\u001b[0mplot\u001b[0m\u001b[1;33m(\u001b[0m\u001b[0mresults\u001b[0m\u001b[1;33m.\u001b[0m\u001b[0mpredict\u001b[0m\u001b[1;33m(\u001b[0m\u001b[0mX\u001b[0m\u001b[1;33m[\u001b[0m\u001b[0minds\u001b[0m\u001b[1;33m]\u001b[0m\u001b[1;33m)\u001b[0m\u001b[1;33m)\u001b[0m\u001b[1;33m\u001b[0m\u001b[1;33m\u001b[0m\u001b[0m\n\u001b[0m\u001b[0;32m      4\u001b[0m \u001b[0mplt\u001b[0m\u001b[1;33m.\u001b[0m\u001b[0mplot\u001b[0m\u001b[1;33m(\u001b[0m\u001b[0mdownsampled_zscored_dff\u001b[0m\u001b[1;33m[\u001b[0m\u001b[0minds\u001b[0m\u001b[1;33m]\u001b[0m\u001b[1;33m)\u001b[0m\u001b[1;33m\u001b[0m\u001b[1;33m\u001b[0m\u001b[0m\n\u001b[0;32m      5\u001b[0m \u001b[0mplt\u001b[0m\u001b[1;33m.\u001b[0m\u001b[0mplot\u001b[0m\u001b[1;33m(\u001b[0m\u001b[0mparameters\u001b[0m\u001b[1;33m[\u001b[0m\u001b[1;36m3\u001b[0m\u001b[1;33m]\u001b[0m\u001b[1;33m[\u001b[0m\u001b[0minds\u001b[0m\u001b[1;33m]\u001b[0m\u001b[1;33m)\u001b[0m\u001b[1;33m\u001b[0m\u001b[1;33m\u001b[0m\u001b[0m\n",
      "\u001b[1;31mNameError\u001b[0m: name 'results' is not defined"
     ]
    }
   ],
   "source": [
    "x = 80000\n",
    "inds = range(x,x+5000)\n",
    "plt.plot(results.predict(X[inds]))\n",
    "plt.plot(downsampled_zscored_dff[inds])\n",
    "plt.plot(parameters[3][inds])"
   ]
  },
  {
   "cell_type": "code",
   "execution_count": 151,
   "metadata": {},
   "outputs": [],
   "source": [
    "def save_kernels(parameter_names, regression_results,  window_min=-1 * 10000 / 100, window_max=2 * 10000 / 100):\n",
    "\n",
    "    shifts = np.arange(window_min, window_max + 1) / 100\n",
    "    shift_window_size = shifts.shape[0]\n",
    "    param_kernels = {}\n",
    "    for param_num, param_name in enumerate(parameter_names):\n",
    "        kernel_name = parameter_names[param_num]\n",
    "        param_kernels[kernel_name] = regression_results.coef_[param_num * shift_window_size:(param_num + 1) * shift_window_size]\n",
    "    return param_kernels, shifts"
   ]
  },
  {
   "cell_type": "code",
   "execution_count": 152,
   "metadata": {},
   "outputs": [
    {
     "data": {
      "text/plain": [
       "[<matplotlib.lines.Line2D at 0xc5d6c88>]"
      ]
     },
     "execution_count": 152,
     "metadata": {},
     "output_type": "execute_result"
    }
   ],
   "source": [
    "plt.plot(save_kernels(param_names, results)[1], save_kernels(param_names, results)[0]['ipsi choices'])"
   ]
  },
  {
   "cell_type": "code",
   "execution_count": null,
   "metadata": {},
   "outputs": [],
   "source": []
  }
 ],
 "metadata": {
  "kernelspec": {
   "display_name": "Python 3",
   "language": "python",
   "name": "python3"
  },
  "language_info": {
   "codemirror_mode": {
    "name": "ipython",
    "version": 3
   },
   "file_extension": ".py",
   "mimetype": "text/x-python",
   "name": "python",
   "nbconvert_exporter": "python",
   "pygments_lexer": "ipython3",
   "version": "3.7.3"
  }
 },
 "nbformat": 4,
 "nbformat_minor": 4
}
