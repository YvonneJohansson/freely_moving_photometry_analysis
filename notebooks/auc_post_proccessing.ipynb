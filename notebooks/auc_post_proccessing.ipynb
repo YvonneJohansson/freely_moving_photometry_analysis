{
 "cells": [
  {
   "cell_type": "code",
   "execution_count": 1,
   "metadata": {},
   "outputs": [],
   "source": [
    "%matplotlib qt5\n",
    "import pickle\n",
    "from utils.plotting import mouse_data_for_group_plot\n",
    "from utils.area_under_curve_utils import RawTracesZScored\n",
    "import matplotlib.pyplot as plt\n",
    "from matplotlib import colors, cm\n",
    "import numpy as np\n",
    "import peakutils\n",
    "import datetime \n",
    "import pandas as pd\n",
    "from sklearn.linear_model import LinearRegression"
   ]
  },
  {
   "cell_type": "code",
   "execution_count": 2,
   "metadata": {},
   "outputs": [],
   "source": [
    "def MakeDatesPretty(inputDates):\n",
    "    # assumes input style YYYYMMDD_HHMMSS\n",
    "    outputDates = []\n",
    "    for date in inputDates: \n",
    "            x = datetime.datetime(int(date[0:4]), int(date[4:6]), int(date[6:8]))\n",
    "            outputDates.append(x.strftime(\"%b%d\")) \n",
    "    return(outputDates)\n",
    "\n",
    "def percentage_correct_correlation(mouse, dates, peaks):\n",
    "    BpodProtocol = '/Two_Alternative_Choice/'\n",
    "    GeneralDirectory = 'W:/photometry_2AC/bpod_data/'\n",
    "    DFfile = GeneralDirectory + mouse + BpodProtocol + 'Data_Analysis/' + mouse + '_dataframe.pkl'\n",
    "    behavioural_stats = pd.read_pickle(DFfile)\n",
    "    reformatted_dates = MakeDatesPretty(dates)\n",
    "    percentage_correct = []\n",
    "    for date_num, date in enumerate(reformatted_dates):\n",
    "        points_for_day = behavioural_stats[behavioural_stats['SessionTime'].str.contains(date)]\n",
    "        percentage_correct.append(100 * np.sum(points_for_day['FirstPokeCorrect'])/len(points_for_day))\n",
    "        \n",
    "    num_types = len(dates)\n",
    "    colours = cm.viridis(np.linspace(0, 0.8, num_types))\n",
    "    fig, axs = plt.subplots(1, ncols=1, figsize=(10, 8))\n",
    "    fig.subplots_adjust(hspace=0.5, wspace=0.2)\n",
    "    fig.suptitle('Exit centre poke', fontsize=16)\n",
    "    fig.text(0.06, 0.02, mouse, fontsize=12)\n",
    "    axs.title.set_text('Contralateral choice peak activity')\n",
    "    axs.scatter(percentage_correct, peaks, color=colours)\n",
    "    axs.set_xlabel('Percentage correct')\n",
    "    axs.set_ylabel('Peak size (z-score)')\n",
    "    return(peaks, percentage_correct)\n",
    "\n",
    "def num_rewards_correlation(mouse, dates, peaks):\n",
    "    BpodProtocol = '/Two_Alternative_Choice/'\n",
    "    GeneralDirectory = 'W:/photometry_2AC/bpod_data/'\n",
    "    DFfile = GeneralDirectory + mouse + BpodProtocol + 'Data_Analysis/' + mouse + '_dataframe.pkl'\n",
    "    behavioural_stats = pd.read_pickle(DFfile)\n",
    "    reformatted_dates = MakeDatesPretty(dates)\n",
    "    num_rewards = []\n",
    "    for date_num, date in enumerate(reformatted_dates):\n",
    "        points_for_day = behavioural_stats[behavioural_stats['SessionTime'].str.contains(date)]\n",
    "        num_rewards.append(np.sum(points_for_day['FirstPokeCorrect']))\n",
    "    cum_num_rewards = np.cumsum(num_rewards)\n",
    "    num_types = len(dates)\n",
    "    colours = cm.viridis(np.linspace(0, 0.8, num_types))\n",
    "    fig, axs = plt.subplots(1, ncols=1, figsize=(10, 8))\n",
    "    fig.subplots_adjust(hspace=0.5, wspace=0.2)\n",
    "    fig.suptitle('Exit centre poke', fontsize=16)\n",
    "    fig.text(0.06, 0.02, mouse, fontsize=12)\n",
    "    axs.title.set_text('Contralateral choice peak activity')\n",
    "    axs.scatter(cum_num_rewards, peaks, color=colours)\n",
    "    axs.set_xlabel('Number or rewards ever')\n",
    "    axs.set_ylabel('Peak size (z-score)')\n",
    "    return(peaks, cum_num_rewards)\n",
    "        "
   ]
  },
  {
   "cell_type": "code",
   "execution_count": 4,
   "metadata": {},
   "outputs": [],
   "source": [
    "def multi_day_peaks(mouse, dates, ipsi_or_contra):\n",
    "    reformatted_dates = []\n",
    "    for date in dates:\n",
    "        year = int(date[0:4])\n",
    "        month = int(date[4:6])\n",
    "        day = int(date[6:])\n",
    "        reformatted_dates.append(datetime.date(year, month, day))\n",
    "\n",
    "    reform_dates = np.array(reformatted_dates, dtype='datetime64')    \n",
    "    days_since_last_recording = np.concatenate([np.array([0], dtype='timedelta64[D]'),np.diff(reform_dates)]).astype(int)\n",
    "    day_of_training = np.cumsum(days_since_last_recording)\n",
    "    \n",
    "    num_types = len(dates)\n",
    "    colours = cm.viridis(np.linspace(0, 0.8, num_types))\n",
    "    saving_folder = 'W:\\\\photometry_2AC\\\\processed_data\\\\' + mouse + '\\\\'\n",
    "    fig, axs = plt.subplots(1, ncols=1, figsize=(10, 8))\n",
    "    fig.subplots_adjust(hspace=0.5, wspace=0.2)\n",
    "    fig.suptitle('Exit centre poke', fontsize=16)\n",
    "    fig.text(0.06, 0.02, mouse, fontsize=12)\n",
    "    all_peaks = []\n",
    "    for date_num, date in enumerate(dates):\n",
    "        mean_and_sem_filename = saving_folder + mouse + '_' + date + '_' + 'auc_correct_data.p'\n",
    "        auc_data = pickle.load( open(mean_and_sem_filename, \"rb\" ))\n",
    "        if ipsi_or_contra == 'contra':\n",
    "            mean_auc = auc_data.contra_trials_auc\n",
    "        elif ipsi_or_contra == 'ipsi':\n",
    "            mean_auc = auc_data.ipsi_trials_auc\n",
    "        all_peaks.append(mean_auc)\n",
    "        axs.title.set_text('Contralateral choice peak activity')\n",
    "        axs.scatter(day_of_training[date_num],mean_auc, color=colours[date_num])\n",
    "        axs.set_xlabel('Days since start of training')\n",
    "        axs.set_ylabel('Peak size (z-score)')\n",
    "        axs.legend(dates,frameon=False)\n",
    "    return(all_peaks)     "
   ]
  },
  {
   "cell_type": "code",
   "execution_count": 5,
   "metadata": {},
   "outputs": [],
   "source": [
    "class mouseDates(object):\n",
    "    def __init__(self, mouse_id, dates):\n",
    "        self.mouse = mouse_id\n",
    "        self.dates = dates\n",
    "        \n",
    "def peaks_correlations_multi_mice(mice_dates, ipsi_or_contra='contra'):\n",
    "    fig, axs = plt.subplots(1, ncols=1, figsize=(10, 8))\n",
    "    fig.subplots_adjust(hspace=0.5, wspace=0.2)\n",
    "    fig.suptitle('Exit centre poke', fontsize=16)\n",
    "    all_mice_aucs = []\n",
    "    all_mice_dates = []\n",
    "    for mouse_dates in mice_dates:\n",
    "        mouse = mouse_dates.mouse\n",
    "        dates = mouse_dates.dates\n",
    "        reformatted_dates = []\n",
    "        for date in dates:\n",
    "            year = int(date[0:4])\n",
    "            month = int(date[4:6])\n",
    "            day = int(date[6:])\n",
    "            reformatted_dates.append(datetime.date(year, month, day))\n",
    "\n",
    "        reform_dates = np.array(reformatted_dates, dtype='datetime64')    \n",
    "        days_since_last_recording = np.concatenate([np.array([0], dtype='timedelta64[D]'),np.diff(reform_dates)]).astype(int)\n",
    "        day_of_training = np.cumsum(days_since_last_recording)\n",
    "\n",
    "        saving_folder = 'W:\\\\photometry_2AC\\\\processed_data\\\\' + mouse + '\\\\'\n",
    "        days_of_recording = []\n",
    "        all_aucs = []\n",
    "        for date_num, date in enumerate(dates):\n",
    "            mean_and_sem_filename = saving_folder + mouse + '_' + date + '_' + 'auc_correct_data.p'\n",
    "            auc_data = pickle.load( open(mean_and_sem_filename, \"rb\" ))\n",
    "            mean_and_sem_filename = saving_folder + mouse + '_' + date + '_' + 'auc_correct_data.p'\n",
    "            auc_data = pickle.load( open(mean_and_sem_filename, \"rb\" ))\n",
    "            if ipsi_or_contra == 'contra':\n",
    "                mean_auc = np.mean(auc_data.contra_trials_auc)\n",
    "            elif ipsi_or_contra == 'ipsi':\n",
    "                mean_auc = np.mean(auc_data.ipsi_trials_auc)\n",
    "            all_aucs.append(mean_auc)\n",
    "            days_of_recording.append(day_of_training[date_num])\n",
    "        normalised_aucs = all_aucs/all_aucs[0] *100\n",
    "        all_mice_aucs.append(normalised_aucs)\n",
    "        all_mice_dates.append(days_of_recording)\n",
    "        axs.scatter(days_of_recording, normalised_aucs, color='b')\n",
    "    all_mice_dates_flat = [item for sublist in all_mice_dates for item in sublist]\n",
    "    all_mice_aucs_flat = [item for sublist in all_mice_aucs for item in sublist]\n",
    "    X = np.array(all_mice_dates_flat).reshape(-1, 1)\n",
    "    Y = np.array(all_mice_aucs_flat).reshape(-1, 1)\n",
    "    linear_regressor = LinearRegression()  # create object for the class\n",
    "    linear_regressor.fit(X, Y)  # perform linear regression\n",
    "    Y_pred = linear_regressor.predict(X)  # make predictions\n",
    "    r_sq = linear_regressor.score(X,Y)\n",
    "    plt.plot(X, Y_pred, lw=1, color='#746D69')\n",
    "    axs.scatter(X, Y, color='#3F888F', alpha=0.8)\n",
    "    print(r_sq)\n",
    "        \n",
    "    axs.title.set_text('Contralateral choice peak activity')\n",
    "    axs.set_xlabel('Days since start of training')\n",
    "    axs.set_ylabel('Percentage change since first day of recording')"
   ]
  },
  {
   "cell_type": "code",
   "execution_count": 9,
   "metadata": {},
   "outputs": [],
   "source": [
    "mice_dates = []\n",
    "mouse1 = 'SNL_photo16'\n",
    "dates1 = ['20200210','20200213', '20200218',  '20200220', '20200224', '20200227', '20200303','20200305', '20200307',\n",
    "         '20200310', '20200312']\n",
    "mice_dates.append(mouseDates(mouse1, dates1))\n",
    "mouse2 = 'SNL_photo17'\n",
    "dates2 = ['20200204', '20200206', '20200208', '20200210', '20200212', '20200214', '20200218', '20200221', '20200224',\n",
    "         '20200226', '20200228', '20200303','20200305', '20200307','20200310', '20200317']\n",
    "mice_dates.append(mouseDates(mouse2, dates2))\n",
    "mouse3 = 'SNL_photo18'\n",
    "dates3 = ['20200223', '20200226', '20200228', '20200229','20200303', '20200305', '20200307',\n",
    "         '20200310', '20200312', '20200313', '20200316']\n",
    "mice_dates.append(mouseDates(mouse3, dates3))\n"
   ]
  },
  {
   "cell_type": "code",
   "execution_count": 10,
   "metadata": {
    "scrolled": true
   },
   "outputs": [
    {
     "name": "stdout",
     "output_type": "stream",
     "text": [
      "0.25545859605730015\n"
     ]
    }
   ],
   "source": [
    "peaks_correlations_multi_mice(mice_dates, 'contra')"
   ]
  },
  {
   "cell_type": "code",
   "execution_count": 13,
   "metadata": {
    "scrolled": true
   },
   "outputs": [],
   "source": [
    "mouse = 'SNL_photo16'\n",
    "dates = ['20200210','20200213', '20200218',  '20200220', '20200224', '20200227', '20200303','20200305', '20200307',\n",
    "         '20200310', '20200312']\n",
    "ipsi_or_contra = 'contra'\n",
    "all_peaks = multi_day_peaks(mouse, dates, ipsi_or_contra)\n",
    "#percentage_correct_correlation(mouse, dates, all_peaks)"
   ]
  },
  {
   "cell_type": "code",
   "execution_count": 11,
   "metadata": {
    "scrolled": true
   },
   "outputs": [],
   "source": [
    "mouse = 'SNL_photo17'\n",
    "dates = ['20200204', '20200206', '20200208', '20200210', '20200212', '20200214', '20200218', '20200221', '20200224',\n",
    "         '20200226', '20200228', '20200303','20200305', '20200307','20200310', '20200317']\n",
    "ipsi_or_contra = 'contra'\n",
    "all_peaks = multi_day_peaks(mouse, dates, ipsi_or_contra)\n",
    "#all_peaks = multi_day_peaks(mouse, dates, ipsi_or_contra='ipsi')\n",
    "\n",
    "#peaks_correlations(dates, all_peaks)\n",
    "#percentage_correct_correlation(mouse, dates, all_peaks)\n",
    "#num_rewards_correlation(mouse, dates, all_peaks)"
   ]
  },
  {
   "cell_type": "code",
   "execution_count": 12,
   "metadata": {},
   "outputs": [
    {
     "data": {
      "text/plain": [
       "([1.5903829497110198,\n",
       "  1.5258351854234367,\n",
       "  1.8508701450088065,\n",
       "  1.63846638380776,\n",
       "  1.7028560879570223,\n",
       "  1.3484668438555063,\n",
       "  1.123776120602668,\n",
       "  1.3610808927193239,\n",
       "  1.1831832590675613,\n",
       "  1.1499446524653398,\n",
       "  1.2976046217155228],\n",
       " array([  92.,  222.,  420.,  666.,  922., 1232., 1581., 1898., 2169.,\n",
       "        2484., 2876.]))"
      ]
     },
     "execution_count": 12,
     "metadata": {},
     "output_type": "execute_result"
    }
   ],
   "source": [
    "mouse = 'SNL_photo18'\n",
    "dates = ['20200223', '20200226', '20200228', '20200229','20200303', '20200305', '20200307',\n",
    "         '20200310', '20200312', '20200313', '20200316']\n",
    "ipsi_or_contra = 'contra'\n",
    "all_peaks = multi_day_peaks(mouse, dates, ipsi_or_contra)\n",
    "#all_peaks = multi_day_peaks(mouse, dates, ipsi_or_contra='ipsi')\n",
    "#peaks_correlations(dates, all_peaks)\n",
    "percentage_correct_correlation(mouse, dates, all_peaks)\n",
    "num_rewards_correlation(mouse, dates, all_peaks)"
   ]
  },
  {
   "cell_type": "code",
   "execution_count": 34,
   "metadata": {},
   "outputs": [
    {
     "name": "stderr",
     "output_type": "stream",
     "text": [
      "C:\\Users\\francescag\\AppData\\Local\\Continuum\\miniconda3\\lib\\site-packages\\ipykernel_launcher.py:18: RuntimeWarning: invalid value encountered in double_scalars\n"
     ]
    },
    {
     "data": {
      "text/plain": [
       "([3462.2613104872667,\n",
       "  4159.37911038568,\n",
       "  3725.8169331519143,\n",
       "  3604.344745509577,\n",
       "  3544.637437991599,\n",
       "  3124.4548829021733,\n",
       "  2489.484462111761,\n",
       "  2239.208062819633,\n",
       "  2537.217175632211,\n",
       "  3091.8950002690667],\n",
       " [44.875346260387815,\n",
       "  58.529411764705884,\n",
       "  70.50691244239631,\n",
       "  69.75308641975309,\n",
       "  68.55670103092784,\n",
       "  83.59550561797752,\n",
       "  86.0310421286031,\n",
       "  87.73584905660377,\n",
       "  90.51918735891648,\n",
       "  nan])"
      ]
     },
     "execution_count": 34,
     "metadata": {},
     "output_type": "execute_result"
    }
   ],
   "source": [
    "mouse = 'SNL_photo19'\n",
    "dates = ['20200221','20200224', '20200226', '20200228','20200229', '20200303',\n",
    "         '20200305', '20200307','20200310','20200312']\n",
    "ipsi_or_contra = 'contra'\n",
    "all_peaks = multi_day_peaks(mouse, dates, ipsi_or_contra)\n",
    "percentage_correct_correlation(mouse, dates, all_peaks)"
   ]
  },
  {
   "cell_type": "code",
   "execution_count": 36,
   "metadata": {},
   "outputs": [
    {
     "name": "stderr",
     "output_type": "stream",
     "text": [
      "C:\\Users\\francescag\\AppData\\Local\\Continuum\\miniconda3\\lib\\site-packages\\ipykernel_launcher.py:18: RuntimeWarning: invalid value encountered in double_scalars\n"
     ]
    },
    {
     "data": {
      "text/plain": [
       "([5862.070064252929,\n",
       "  5073.386297590416,\n",
       "  4433.040554826507,\n",
       "  5029.199977031287,\n",
       "  3991.587733314837,\n",
       "  3991.587733314837,\n",
       "  4313.553005077918,\n",
       "  4172.875419017807,\n",
       "  3773.097577958089,\n",
       "  3432.6425003324994],\n",
       " [56.351791530944624,\n",
       "  73.03822937625755,\n",
       "  82.01438848920863,\n",
       "  82.06388206388206,\n",
       "  91.35514018691589,\n",
       "  91.35514018691589,\n",
       "  92.64305177111717,\n",
       "  95.7683741648107,\n",
       "  93.39285714285714,\n",
       "  nan])"
      ]
     },
     "execution_count": 36,
     "metadata": {},
     "output_type": "execute_result"
    }
   ],
   "source": [
    "mouse = 'SNL_photo20'\n",
    "dates = ['20200224', '20200226', '20200228','20200229', '20200303', '20200303','20200305', '20200307'\n",
    "         ,'20200310', '20200312']\n",
    "ipsi_or_contra = 'contra'\n",
    "all_peaks = multi_day_peaks(mouse, dates, ipsi_or_contra)\n",
    "percentage_correct_correlation(mouse, dates, all_peaks)"
   ]
  },
  {
   "cell_type": "code",
   "execution_count": 94,
   "metadata": {
    "scrolled": true
   },
   "outputs": [
    {
     "data": {
      "text/plain": [
       "([5928.804603172931,\n",
       "  4740.829983985563,\n",
       "  4774.027877120693,\n",
       "  4354.202478259092,\n",
       "  4553.76342590866,\n",
       "  3991.118902688623,\n",
       "  3970.8477307038324,\n",
       "  3548.0817949265847,\n",
       "  3310.5508014928273,\n",
       "  2964.1545029600447,\n",
       "  3386.1849929841637,\n",
       "  2382.3109841000787,\n",
       "  2816.889811094379,\n",
       "  3128.7789504668344,\n",
       "  2750.9372497632517,\n",
       "  3578.08318198894,\n",
       "  2637.3458931306823,\n",
       "  2394.1259818590106],\n",
       " [42.47787610619469,\n",
       "  44.140625,\n",
       "  44.0,\n",
       "  48.53932584269663,\n",
       "  66.52078774617068,\n",
       "  66.74008810572687,\n",
       "  83.87096774193549,\n",
       "  85.60311284046692,\n",
       "  93.5632183908046,\n",
       "  94.05034324942791,\n",
       "  93.44262295081967,\n",
       "  96.29629629629629,\n",
       "  94.75890985324948,\n",
       "  96.51474530831099,\n",
       "  95.12893982808023,\n",
       "  92.85714285714286,\n",
       "  91.96675900277009,\n",
       "  95.99198396793587])"
      ]
     },
     "execution_count": 94,
     "metadata": {},
     "output_type": "execute_result"
    }
   ],
   "source": [
    "mouse = 'SNL_photo12'\n",
    "dates = ['20200110', '20200111','20200113', '20200114','20200117', '20200118', '20200121', '20200123', '20200203', '20200205','20200212',\n",
    "         '20200214', '20200218', '20200221', '20200224', '20200226', '20200303','20200304']\n",
    "ipsi_or_contra = 'contra'\n",
    "all_peaks = multi_day_peaks(mouse, dates, ipsi_or_contra)\n",
    "percentage_correct_correlation(mouse, dates, all_peaks)"
   ]
  },
  {
   "cell_type": "code",
   "execution_count": 39,
   "metadata": {},
   "outputs": [
    {
     "data": {
      "text/plain": [
       "([5090.672488304103,\n",
       "  5617.684968719536,\n",
       "  5419.117791986009,\n",
       "  4867.167465959169,\n",
       "  4739.1331907609165,\n",
       "  3205.018610899983,\n",
       "  4249.089818358915,\n",
       "  5450.093078657248,\n",
       "  4525.470425104197,\n",
       "  3817.995801994273,\n",
       "  5306.319464833053,\n",
       "  4280.415117432705],\n",
       " [52.58620689655172,\n",
       "  68.06083650190114,\n",
       "  79.4820717131474,\n",
       "  87.41935483870968,\n",
       "  89.1566265060241,\n",
       "  89.1025641025641,\n",
       "  89.21832884097034,\n",
       "  92.16710182767623,\n",
       "  94.95192307692308,\n",
       "  93.28165374677003,\n",
       "  93.42327150084317,\n",
       "  91.72413793103448])"
      ]
     },
     "execution_count": 39,
     "metadata": {},
     "output_type": "execute_result"
    }
   ],
   "source": [
    "mouse = 'SNL_photo15'\n",
    "dates = ['20200206','20200208', '20200210',  '20200213', '20200218', '20200221', '20200224','20200226','20200303','20200305', '20200307','20200310']\n",
    "ipsi_or_contra = 'contra'\n",
    "all_peaks = multi_day_peaks(mouse, dates, ipsi_or_contra)\n",
    "percentage_correct_correlation(mouse, dates, all_peaks)"
   ]
  },
  {
   "cell_type": "code",
   "execution_count": null,
   "metadata": {},
   "outputs": [],
   "source": []
  }
 ],
 "metadata": {
  "kernelspec": {
   "display_name": "Python 3",
   "language": "python",
   "name": "python3"
  },
  "language_info": {
   "codemirror_mode": {
    "name": "ipython",
    "version": 3
   },
   "file_extension": ".py",
   "mimetype": "text/x-python",
   "name": "python",
   "nbconvert_exporter": "python",
   "pygments_lexer": "ipython3",
   "version": "3.7.3"
  }
 },
 "nbformat": 4,
 "nbformat_minor": 4
}
