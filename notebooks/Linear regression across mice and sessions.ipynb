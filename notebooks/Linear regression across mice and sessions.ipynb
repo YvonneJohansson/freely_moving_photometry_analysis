{
 "cells": [
  {
   "cell_type": "code",
   "execution_count": 3,
   "metadata": {},
   "outputs": [
    {
     "name": "stderr",
     "output_type": "stream",
     "text": [
      "In C:\\Users\\francescag\\AppData\\Local\\Continuum\\miniconda3\\lib\\site-packages\\matplotlib\\mpl-data\\stylelib\\_classic_test.mplstyle: \n",
      "The savefig.frameon rcparam was deprecated in Matplotlib 3.1 and will be removed in 3.3.\n",
      "In C:\\Users\\francescag\\AppData\\Local\\Continuum\\miniconda3\\lib\\site-packages\\matplotlib\\mpl-data\\stylelib\\_classic_test.mplstyle: \n",
      "The verbose.level rcparam was deprecated in Matplotlib 3.1 and will be removed in 3.3.\n",
      "In C:\\Users\\francescag\\AppData\\Local\\Continuum\\miniconda3\\lib\\site-packages\\matplotlib\\mpl-data\\stylelib\\_classic_test.mplstyle: \n",
      "The verbose.fileo rcparam was deprecated in Matplotlib 3.1 and will be removed in 3.3.\n"
     ]
    }
   ],
   "source": [
    "%load_ext autoreload\n",
    "%autoreload 2\n",
    "%matplotlib qt5\n",
    "# Add modules to the path\n",
    "import sys\n",
    "sys.path.insert(0, 'C:\\\\Users\\\\francescag\\\\Documents\\\\SourceTree_repos\\\\Python_git')\n",
    "sys.path.insert(0, 'C:\\\\Users\\\\francescag\\\\Documents\\\\SourceTree_repos')\n",
    "sys.path.insert(0, 'C:\\\\Users\\\\francescag\\\\Documents\\\\SourceTree_repos\\\\Python_git\\\\freely_moving_photometry_analysis' )\n",
    "\n",
    "import numpy as np\n",
    "from sklearn.linear_model import LinearRegression\n",
    "from scipy.ndimage.interpolation import shift\n",
    "from scipy.signal import decimate\n",
    "from matplotlib import pyplot as plt\n",
    "from scipy import stats\n",
    "from scipy.stats import sem\n",
    "import pandas as pd\n",
    "import pickle\n",
    "from matplotlib import colors, cm\n",
    "from linear_regression.get_time_stamps_for_regression import remove_manipulation_days\n",
    "\n"
   ]
  },
  {
   "cell_type": "code",
   "execution_count": 4,
   "metadata": {},
   "outputs": [],
   "source": [
    "experiment_record = pd.read_csv('W:\\\\photometry_2AC\\\\experimental_record.csv')\n",
    "experiment_record['date'] = experiment_record['date'].astype(str)\n",
    "clean_experiments = remove_manipulation_days(experiment_record)"
   ]
  },
  {
   "cell_type": "code",
   "execution_count": 5,
   "metadata": {},
   "outputs": [],
   "source": [
    "param_names = ['ipsi choices', 'contra choices', 'cues', 'rewards']"
   ]
  },
  {
   "cell_type": "code",
   "execution_count": 6,
   "metadata": {},
   "outputs": [],
   "source": [
    "ipsi_choice_kernel = []\n"
   ]
  },
  {
   "cell_type": "code",
   "execution_count": 7,
   "metadata": {},
   "outputs": [],
   "source": [
    "mouse_ids = ['SNL_photo29', 'SNL_photo30', 'SNL_photo32', 'SNL_photo33', 'SNL_photo34', 'SNL_photo35']"
   ]
  },
  {
   "cell_type": "code",
   "execution_count": 8,
   "metadata": {},
   "outputs": [],
   "source": [
    "experiments_to_process = clean_experiments[(clean_experiments['mouse_id'].isin(mouse_ids) ) & (clean_experiments['recording_site'] == 'Nacc')].reset_index(drop=True)"
   ]
  },
  {
   "cell_type": "code",
   "execution_count": 9,
   "metadata": {},
   "outputs": [],
   "source": [
    "i = []\n",
    "for mouse in np.unique(mouse_ids):\n",
    "    i.append(experiments_to_process[experiments_to_process['mouse_id'] == mouse][0:3].index)"
   ]
  },
  {
   "cell_type": "code",
   "execution_count": 10,
   "metadata": {},
   "outputs": [],
   "source": [
    "flattened_i = [val for sublist in i for val in sublist]"
   ]
  },
  {
   "cell_type": "code",
   "execution_count": 11,
   "metadata": {},
   "outputs": [
    {
     "data": {
      "text/plain": [
       "array(['SNL_photo29', 'SNL_photo30', 'SNL_photo32', 'SNL_photo33',\n",
       "       'SNL_photo34', 'SNL_photo35'], dtype=object)"
      ]
     },
     "execution_count": 11,
     "metadata": {},
     "output_type": "execute_result"
    }
   ],
   "source": [
    "np.unique(experiments_to_process['mouse_id'])"
   ]
  },
  {
   "cell_type": "code",
   "execution_count": 19,
   "metadata": {},
   "outputs": [],
   "source": [
    "experiments_to_process = experiments_to_process.loc[flattened_i].reset_index(drop=True)"
   ]
  },
  {
   "cell_type": "code",
   "execution_count": 20,
   "metadata": {},
   "outputs": [
    {
     "ename": "KeyError",
     "evalue": "'cues'",
     "output_type": "error",
     "traceback": [
      "\u001b[1;31m---------------------------------------------------------------------------\u001b[0m",
      "\u001b[1;31mKeyError\u001b[0m                                  Traceback (most recent call last)",
      "\u001b[1;32m<ipython-input-20-6c3f44536326>\u001b[0m in \u001b[0;36m<module>\u001b[1;34m\u001b[0m\n\u001b[0;32m      9\u001b[0m             \u001b[0mipsi_choice_kernel\u001b[0m \u001b[1;33m=\u001b[0m \u001b[0msession_kernels\u001b[0m\u001b[1;33m[\u001b[0m\u001b[1;34m'kernels'\u001b[0m\u001b[1;33m]\u001b[0m\u001b[1;33m[\u001b[0m\u001b[1;34m'ipsi choices'\u001b[0m\u001b[1;33m]\u001b[0m\u001b[1;33m\u001b[0m\u001b[1;33m\u001b[0m\u001b[0m\n\u001b[0;32m     10\u001b[0m             \u001b[0mcontra_choice_kernel\u001b[0m \u001b[1;33m=\u001b[0m \u001b[0msession_kernels\u001b[0m\u001b[1;33m[\u001b[0m\u001b[1;34m'kernels'\u001b[0m\u001b[1;33m]\u001b[0m\u001b[1;33m[\u001b[0m\u001b[1;34m'contra choices'\u001b[0m\u001b[1;33m]\u001b[0m\u001b[1;33m\u001b[0m\u001b[1;33m\u001b[0m\u001b[0m\n\u001b[1;32m---> 11\u001b[1;33m             \u001b[0mcue_kernel\u001b[0m \u001b[1;33m=\u001b[0m \u001b[0msession_kernels\u001b[0m\u001b[1;33m[\u001b[0m\u001b[1;34m'kernels'\u001b[0m\u001b[1;33m]\u001b[0m\u001b[1;33m[\u001b[0m\u001b[1;34m'cues'\u001b[0m\u001b[1;33m]\u001b[0m\u001b[1;33m\u001b[0m\u001b[1;33m\u001b[0m\u001b[0m\n\u001b[0m\u001b[0;32m     12\u001b[0m             \u001b[0mreward_kernel\u001b[0m \u001b[1;33m=\u001b[0m \u001b[0msession_kernels\u001b[0m\u001b[1;33m[\u001b[0m\u001b[1;34m'kernels'\u001b[0m\u001b[1;33m]\u001b[0m\u001b[1;33m[\u001b[0m\u001b[1;34m'rewards'\u001b[0m\u001b[1;33m]\u001b[0m\u001b[1;33m\u001b[0m\u001b[1;33m\u001b[0m\u001b[0m\n\u001b[0;32m     13\u001b[0m             \u001b[0mtime_stamps\u001b[0m \u001b[1;33m=\u001b[0m \u001b[0msession_kernels\u001b[0m\u001b[1;33m[\u001b[0m\u001b[1;34m'time_stamps'\u001b[0m\u001b[1;33m]\u001b[0m\u001b[1;33m\u001b[0m\u001b[1;33m\u001b[0m\u001b[0m\n",
      "\u001b[1;31mKeyError\u001b[0m: 'cues'"
     ]
    }
   ],
   "source": [
    "for index, experiment in experiments_to_process.iterrows():\n",
    "    mouse = experiment['mouse_id']\n",
    "    date = experiment['date']\n",
    "    saving_folder = 'W:\\\\photometry_2AC\\\\processed_data\\\\' + mouse + '\\\\'\n",
    "    save_filename = mouse + '_' + date + '_' + 'linear_regression_kernels_no_repeated_cues_both_cues.p'\n",
    "    with open(saving_folder + save_filename, \"rb\") as f:\n",
    "        session_kernels = pickle.load(f)\n",
    "        if index == 0:\n",
    "            ipsi_choice_kernel = session_kernels['kernels']['ipsi choices']\n",
    "            contra_choice_kernel = session_kernels['kernels']['contra choices']\n",
    "            cue_kernel = session_kernels['kernels']['cues']\n",
    "            reward_kernel = session_kernels['kernels']['rewards']\n",
    "            time_stamps = session_kernels['time_stamps']\n",
    "        else:\n",
    "            ipsi_choice_kernel = np.vstack([ipsi_choice_kernel, session_kernels['kernels']['ipsi choices']])\n",
    "            contra_choice_kernel = np.vstack([contra_choice_kernel, session_kernels['kernels']['contra choices']])\n",
    "            cue_kernel = np.vstack([cue_kernel, session_kernels['kernels']['cues']])\n",
    "            reward_kernel = np.vstack([reward_kernel, session_kernels['kernels']['rewards']])\n",
    "\n"
   ]
  },
  {
   "cell_type": "code",
   "execution_count": 18,
   "metadata": {},
   "outputs": [
    {
     "data": {
      "text/plain": [
       "array([-0.39122325, -0.40139884, -0.40927499, -0.41716961, -0.42460989,\n",
       "       -0.42972417, -0.43400239, -0.43721555, -0.43982086, -0.44245568,\n",
       "       -0.44428064, -0.44508897, -0.44558548, -0.44608807, -0.44620482,\n",
       "       -0.44687155, -0.44761923, -0.44897471, -0.45094252, -0.45357219,\n",
       "       -0.45681564, -0.4604175 , -0.46439208, -0.46871741, -0.47314171,\n",
       "       -0.47762936, -0.48212721, -0.48642651, -0.49048436, -0.49426687,\n",
       "       -0.49776839, -0.50087657, -0.50354518, -0.50573398, -0.50739372,\n",
       "       -0.50855962, -0.50889294, -0.50515901, -0.5040523 , -0.50032343,\n",
       "       -0.4956131 , -0.48467588, -0.47922374, -0.46955181, -0.46168392,\n",
       "       -0.44892046, -0.43841461, -0.4258224 , -0.41207287, -0.39571637,\n",
       "       -0.3808517 , -0.36737899, -0.35171481, -0.33388949, -0.31857025,\n",
       "       -0.30158917, -0.28079457, -0.25806802, -0.24009107, -0.22160321,\n",
       "       -0.2010721 , -0.18383201, -0.15996998, -0.14251037, -0.12496726,\n",
       "       -0.10618163, -0.08667529, -0.0693399 , -0.05395485, -0.03289197,\n",
       "       -0.0196216 , -0.00221216,  0.01112265,  0.02167898,  0.03161213,\n",
       "        0.0425619 ,  0.05279021,  0.06060086,  0.06792832,  0.08045007,\n",
       "        0.09162554,  0.10172408,  0.11137073,  0.12439998,  0.13951045,\n",
       "        0.15580728,  0.17491058,  0.19696584,  0.22263972,  0.25209185,\n",
       "        0.28648812,  0.32277889,  0.36229967,  0.40463711,  0.44948321,\n",
       "        0.49768081,  0.54560426,  0.5938973 ,  0.64412389,  0.6913963 ,\n",
       "        0.73728443,  0.78072636,  0.82086554,  0.85756131,  0.89027244,\n",
       "        0.91806346,  0.94409605,  0.96235645,  0.97728045,  0.98715828,\n",
       "        0.9927968 ,  0.9927971 ,  0.98944524,  0.98309339,  0.97412547,\n",
       "        0.9630805 ,  0.95033896,  0.93628384,  0.92102414,  0.90510988,\n",
       "        0.89028506,  0.87322703,  0.85556306,  0.83757676,  0.81911683,\n",
       "        0.80014794,  0.78049821,  0.7600291 ,  0.74027353,  0.71794468,\n",
       "        0.69470272,  0.67036261,  0.64508864,  0.6190847 ,  0.59401624,\n",
       "        0.56655557,  0.53869679,  0.51057255,  0.48224731,  0.45397162,\n",
       "        0.42593562,  0.39828889,  0.37120393,  0.34468888,  0.31894373,\n",
       "        0.29395276,  0.2695162 ,  0.24554956,  0.22207448,  0.19872769,\n",
       "        0.17570608,  0.15271078,  0.12981648,  0.1070985 ,  0.08449094,\n",
       "        0.06197649,  0.03987198,  0.01785202, -0.00417143, -0.0259679 ,\n",
       "       -0.04754745, -0.06928544, -0.09099542, -0.1109804 , -0.13245849,\n",
       "       -0.15387646, -0.17501492, -0.19579917, -0.2160939 , -0.23568955,\n",
       "       -0.25424153, -0.27203436, -0.28858549, -0.30422674, -0.31888634,\n",
       "       -0.33281351, -0.3459012 , -0.35835172, -0.37025988, -0.38151799,\n",
       "       -0.39250026, -0.40289119, -0.4125381 , -0.42156762, -0.42982207,\n",
       "       -0.43720062, -0.4431664 , -0.44853101, -0.45395741, -0.45625052,\n",
       "       -0.45533888, -0.45446056, -0.45180457, -0.44768085, -0.44219379,\n",
       "       -0.43526058, -0.42554529, -0.41676877, -0.40701658, -0.39681933,\n",
       "       -0.3862489 , -0.37360873, -0.36215722, -0.35084362, -0.33945062,\n",
       "       -0.3279673 , -0.31679926, -0.30594253, -0.29562717, -0.28627116,\n",
       "       -0.27775449, -0.27034128, -0.26384502, -0.25825032, -0.25368658,\n",
       "       -0.2483759 , -0.2452502 , -0.24241683, -0.23979189, -0.23731889,\n",
       "       -0.23412967, -0.23053758, -0.22661873, -0.22262127, -0.21682079,\n",
       "       -0.21295781, -0.21126797, -0.20745336, -0.20588   , -0.20462052,\n",
       "       -0.20339306, -0.2042289 , -0.2025807 , -0.19911901, -0.19710437,\n",
       "       -0.20047735, -0.19756984, -0.19423564, -0.19500733, -0.19767566,\n",
       "       -0.19683162, -0.19589661, -0.19155401, -0.18845187, -0.18628049,\n",
       "       -0.1847745 , -0.18397777, -0.18364553, -0.18442912, -0.18537998,\n",
       "       -0.18679621])"
      ]
     },
     "execution_count": 18,
     "metadata": {},
     "output_type": "execute_result"
    }
   ],
   "source": [
    "session_kernels['kernels']['ipsi choices']"
   ]
  },
  {
   "cell_type": "code",
   "execution_count": null,
   "metadata": {},
   "outputs": [],
   "source": [
    "mean_kernels = {}\n",
    "mean_kernels['ipsi choices'] = np.mean(ipsi_choice_kernel, axis=0)\n",
    "mean_kernels['contra choices'] = np.mean(contra_choice_kernel, axis=0)\n",
    "mean_kernels['cues'] = np.mean(cue_kernel, axis=0)\n",
    "mean_kernels['rewards'] = np.mean(reward_kernel, axis=0)"
   ]
  },
  {
   "cell_type": "code",
   "execution_count": null,
   "metadata": {},
   "outputs": [],
   "source": [
    "sem_kernels = {}\n",
    "sem_kernels['ipsi choices'] = sem(ipsi_choice_kernel, axis=0)\n",
    "sem_kernels['contra choices'] = sem(contra_choice_kernel, axis=0)\n",
    "sem_kernels['cues'] = sem(cue_kernel, axis=0)\n",
    "sem_kernels['rewards'] = sem(reward_kernel, axis=0)"
   ]
  },
  {
   "cell_type": "code",
   "execution_count": 44,
   "metadata": {},
   "outputs": [],
   "source": [
    "fig, axs = plt.subplots(nrows=1, ncols=len(param_names), sharey=True, figsize=(11,6))\n",
    "axs[0].set_ylabel('Regression coefficient', fontsize=12)\n",
    "for param_num, param_name in enumerate(param_names):\n",
    "    param_kernel = mean_kernels[param_name]\n",
    "    axs[param_num].plot(time_stamps, param_kernel, label=param_name)\n",
    "    axs[param_num].axvline(0, color='k')\n",
    "    axs[param_num].fill_between(time_stamps, param_kernel - sem_kernels[param_name] ,  param_kernel + sem_kernels[param_name], alpha=0.5,\n",
    "                            facecolor='#7FB5B5', linewidth=0)\n",
    "    axs[param_num].set_title(param_name)\n",
    "    axs[param_num].set_xlabel('Time (s)', fontsize=12)\n",
    "plt.tight_layout()"
   ]
  },
  {
   "cell_type": "code",
   "execution_count": 15,
   "metadata": {},
   "outputs": [],
   "source": [
    "plot_filename = 'SNL_photo16_17_18_21_22_26_mean_regression_kernels.pdf' \n",
    "plot_save_folder = 'W:\\\\photometry_2AC\\\\plots\\\\Linear regression\\\\'\n",
    "plt.savefig(plot_save_folder + plot_filename, transparent=True, optimize=True)"
   ]
  },
  {
   "cell_type": "code",
   "execution_count": 100,
   "metadata": {},
   "outputs": [
    {
     "data": {
      "text/html": [
       "<div>\n",
       "<style scoped>\n",
       "    .dataframe tbody tr th:only-of-type {\n",
       "        vertical-align: middle;\n",
       "    }\n",
       "\n",
       "    .dataframe tbody tr th {\n",
       "        vertical-align: top;\n",
       "    }\n",
       "\n",
       "    .dataframe thead th {\n",
       "        text-align: right;\n",
       "    }\n",
       "</style>\n",
       "<table border=\"1\" class=\"dataframe\">\n",
       "  <thead>\n",
       "    <tr style=\"text-align: right;\">\n",
       "      <th></th>\n",
       "      <th>mouse_id</th>\n",
       "      <th>date</th>\n",
       "      <th>recording_site</th>\n",
       "      <th>fiber_side</th>\n",
       "    </tr>\n",
       "  </thead>\n",
       "  <tbody>\n",
       "    <tr>\n",
       "      <th>28</th>\n",
       "      <td>SNL_photo18</td>\n",
       "      <td>20200223</td>\n",
       "      <td>tail</td>\n",
       "      <td>left</td>\n",
       "    </tr>\n",
       "    <tr>\n",
       "      <th>30</th>\n",
       "      <td>SNL_photo18</td>\n",
       "      <td>20200226</td>\n",
       "      <td>tail</td>\n",
       "      <td>left</td>\n",
       "    </tr>\n",
       "    <tr>\n",
       "      <th>32</th>\n",
       "      <td>SNL_photo18</td>\n",
       "      <td>20200228</td>\n",
       "      <td>tail</td>\n",
       "      <td>left</td>\n",
       "    </tr>\n",
       "    <tr>\n",
       "      <th>33</th>\n",
       "      <td>SNL_photo18</td>\n",
       "      <td>20200229</td>\n",
       "      <td>tail</td>\n",
       "      <td>left</td>\n",
       "    </tr>\n",
       "    <tr>\n",
       "      <th>35</th>\n",
       "      <td>SNL_photo18</td>\n",
       "      <td>20200303</td>\n",
       "      <td>tail</td>\n",
       "      <td>left</td>\n",
       "    </tr>\n",
       "    <tr>\n",
       "      <th>37</th>\n",
       "      <td>SNL_photo18</td>\n",
       "      <td>20200305</td>\n",
       "      <td>tail</td>\n",
       "      <td>left</td>\n",
       "    </tr>\n",
       "    <tr>\n",
       "      <th>39</th>\n",
       "      <td>SNL_photo18</td>\n",
       "      <td>20200307</td>\n",
       "      <td>tail</td>\n",
       "      <td>left</td>\n",
       "    </tr>\n",
       "    <tr>\n",
       "      <th>40</th>\n",
       "      <td>SNL_photo18</td>\n",
       "      <td>20200310</td>\n",
       "      <td>tail</td>\n",
       "      <td>left</td>\n",
       "    </tr>\n",
       "    <tr>\n",
       "      <th>42</th>\n",
       "      <td>SNL_photo18</td>\n",
       "      <td>20200312</td>\n",
       "      <td>tail</td>\n",
       "      <td>left</td>\n",
       "    </tr>\n",
       "    <tr>\n",
       "      <th>43</th>\n",
       "      <td>SNL_photo18</td>\n",
       "      <td>20200313</td>\n",
       "      <td>tail</td>\n",
       "      <td>left</td>\n",
       "    </tr>\n",
       "    <tr>\n",
       "      <th>44</th>\n",
       "      <td>SNL_photo18</td>\n",
       "      <td>20200316</td>\n",
       "      <td>tail</td>\n",
       "      <td>left</td>\n",
       "    </tr>\n",
       "  </tbody>\n",
       "</table>\n",
       "</div>"
      ],
      "text/plain": [
       "       mouse_id      date recording_site fiber_side\n",
       "28  SNL_photo18  20200223           tail       left\n",
       "30  SNL_photo18  20200226           tail       left\n",
       "32  SNL_photo18  20200228           tail       left\n",
       "33  SNL_photo18  20200229           tail       left\n",
       "35  SNL_photo18  20200303           tail       left\n",
       "37  SNL_photo18  20200305           tail       left\n",
       "39  SNL_photo18  20200307           tail       left\n",
       "40  SNL_photo18  20200310           tail       left\n",
       "42  SNL_photo18  20200312           tail       left\n",
       "43  SNL_photo18  20200313           tail       left\n",
       "44  SNL_photo18  20200316           tail       left"
      ]
     },
     "execution_count": 100,
     "metadata": {},
     "output_type": "execute_result"
    }
   ],
   "source": [
    "experiments_record_tail = experiment_record[experiment_record['recording_site'] == 'tail']"
   ]
  },
  {
   "cell_type": "code",
   "execution_count": 99,
   "metadata": {},
   "outputs": [
    {
     "name": "stdout",
     "output_type": "stream",
     "text": [
      "0\n",
      "1\n",
      "2\n",
      "3\n",
      "4\n",
      "5\n",
      "6\n",
      "7\n",
      "8\n",
      "9\n",
      "10\n",
      "11\n",
      "12\n",
      "13\n",
      "14\n",
      "15\n",
      "16\n",
      "17\n",
      "18\n",
      "19\n",
      "20\n",
      "21\n",
      "22\n",
      "23\n",
      "24\n",
      "25\n",
      "26\n",
      "27\n",
      "28\n",
      "30\n",
      "32\n",
      "33\n",
      "35\n",
      "37\n",
      "39\n",
      "40\n",
      "42\n",
      "43\n",
      "44\n"
     ]
    }
   ],
   "source": [
    "for mouse_id in experiment_record_tail['mouse_id'].unique():\n",
    "    experiments = experiment_record_tail[experiment_record_tail['mouse_id'] == mouse_id]\n",
    "    for index, experiment in experiments.iterrows():\n",
    "        mouse = experiment['mouse_id']\n",
    "        date = experiment['date']\n",
    "        saving_folder = 'W:\\\\photometry_2AC\\\\processed_data\\\\' + mouse + '\\\\'\n",
    "        save_filename = mouse + '_' + date + '_' + 'linear_regresion_kernels.p'\n",
    "        with open(saving_folder + save_filename, \"rb\") as f:\n",
    "            session_kernels = pickle.load(f)\n",
    "            if index == 1:\n",
    "                ipsi_choice_kernel = session_kernels['kernels']['ipsi choices']\n",
    "                contra_choice_kernel = session_kernels['kernels']['contra choices']\n",
    "                cue_kernel = session_kernels['kernels']['cues']\n",
    "                reward_kernel = session_kernels['kernels']['rewards']\n",
    "                time_stamps = session_kernels['time_stamps']\n",
    "            else:\n",
    "                ipsi_choice_kernel = np.vstack([ipsi_choice_kernel, session_kernels['kernels']['ipsi choices']])\n",
    "                contra_choice_kernel = np.vstack([contra_choice_kernel, session_kernels['kernels']['contra choices']])\n",
    "                cue_kernel = np.vstack([cue_kernel, session_kernels['kernels']['cues']])\n",
    "                reward_kernel = np.vstack([reward_kernel, session_kernels['kernels']['rewards']])\n",
    "\n",
    "    all_kernels={}\n",
    "    all_kernels['ipsi choices'] = ipsi_choice_kernel\n",
    "    all_kernels['contra choices'] = contra_choice_kernel\n",
    "    all_kernels['cues'] = cue_kernel\n",
    "    all_kernels['rewards'] = reward_kernel\n",
    "    \n",
    "    mean_kernels = {}\n",
    "    mean_kernels['ipsi choices'] = np.mean(ipsi_choice_kernel, axis=0)\n",
    "    mean_kernels['contra choices'] = np.mean(contra_choice_kernel, axis=0)\n",
    "    mean_kernels['cues'] = np.mean(cue_kernel, axis=0)\n",
    "    mean_kernels['rewards'] = np.mean(reward_kernel, axis=0)\n",
    "    \n",
    "    std_kernels = {}\n",
    "    std_kernels['ipsi choices'] = np.std(ipsi_choice_kernel, axis=0)\n",
    "    std_kernels['contra choices'] = np.std(contra_choice_kernel, axis=0)\n",
    "    std_kernels['cues'] = np.std(cue_kernel, axis=0)\n",
    "    std_kernels['rewards'] = np.std(reward_kernel, axis=0)\n",
    "\n",
    "    fig, axs = plt.subplots(nrows=1, ncols=len(param_names), sharey=True, figsize=(15,8))\n",
    "    axs[0].set_ylabel('Regression coefficient')\n",
    "    for param_num, param_name in enumerate(param_names):\n",
    "        param_kernel = all_kernels[param_name]\n",
    "        axs[param_num].set_prop_cycle(plt.cycler('color',colours))\n",
    "        axs[param_num].plot(time_stamps,param_kernel.T)\n",
    "\n",
    "        axs[param_num].set_title(param_name)\n",
    "        axs[param_num].set_xlabel('Time (s)')\n",
    "        axs[param_num].axvline(0.2)\n"
   ]
  },
  {
   "cell_type": "code",
   "execution_count": 94,
   "metadata": {},
   "outputs": [
    {
     "data": {
      "text/plain": [
       "array([0.87801853, 0.61416135, 1.10047466, 0.68212124, 1.1398374 ,\n",
       "       0.82871293, 1.29255329, 0.77321524, 0.87099428, 0.92496414,\n",
       "       0.65088095, 1.45326512, 1.19129577, 1.05429092, 0.95228183,\n",
       "       0.40851538, 0.80581603, 0.6517777 , 0.15186452, 0.7016423 ,\n",
       "       0.54395115, 0.51660555, 0.18614848, 0.37883117, 0.04421242,\n",
       "       0.21309765, 0.49045478, 1.78318808, 0.98105266, 0.748314  ,\n",
       "       0.5835751 , 0.86904679, 0.8399813 , 0.63625214, 0.7217782 ,\n",
       "       0.66097678, 0.60119746, 0.58549881])"
      ]
     },
     "execution_count": 94,
     "metadata": {},
     "output_type": "execute_result"
    }
   ],
   "source": [
    "first_bin = np.where(time_stamps == 0.2)\n",
    "np.squeeze(contra_choice_kernel[:,first_bin])"
   ]
  },
  {
   "cell_type": "code",
   "execution_count": 95,
   "metadata": {},
   "outputs": [
    {
     "data": {
      "text/plain": [
       "[<matplotlib.lines.Line2D at 0x161d1e48>]"
      ]
     },
     "execution_count": 95,
     "metadata": {},
     "output_type": "execute_result"
    }
   ],
   "source": [
    "plt.plot(np.squeeze(contra_choice_kernel[:,first_bin]))"
   ]
  },
  {
   "cell_type": "code",
   "execution_count": 96,
   "metadata": {},
   "outputs": [
    {
     "data": {
      "text/html": [
       "<div>\n",
       "<style scoped>\n",
       "    .dataframe tbody tr th:only-of-type {\n",
       "        vertical-align: middle;\n",
       "    }\n",
       "\n",
       "    .dataframe tbody tr th {\n",
       "        vertical-align: top;\n",
       "    }\n",
       "\n",
       "    .dataframe thead th {\n",
       "        text-align: right;\n",
       "    }\n",
       "</style>\n",
       "<table border=\"1\" class=\"dataframe\">\n",
       "  <thead>\n",
       "    <tr style=\"text-align: right;\">\n",
       "      <th></th>\n",
       "      <th>mouse_id</th>\n",
       "      <th>date</th>\n",
       "      <th>recording_site</th>\n",
       "      <th>fiber_side</th>\n",
       "    </tr>\n",
       "  </thead>\n",
       "  <tbody>\n",
       "    <tr>\n",
       "      <th>28</th>\n",
       "      <td>SNL_photo18</td>\n",
       "      <td>20200223</td>\n",
       "      <td>tail</td>\n",
       "      <td>left</td>\n",
       "    </tr>\n",
       "    <tr>\n",
       "      <th>30</th>\n",
       "      <td>SNL_photo18</td>\n",
       "      <td>20200226</td>\n",
       "      <td>tail</td>\n",
       "      <td>left</td>\n",
       "    </tr>\n",
       "    <tr>\n",
       "      <th>32</th>\n",
       "      <td>SNL_photo18</td>\n",
       "      <td>20200228</td>\n",
       "      <td>tail</td>\n",
       "      <td>left</td>\n",
       "    </tr>\n",
       "    <tr>\n",
       "      <th>33</th>\n",
       "      <td>SNL_photo18</td>\n",
       "      <td>20200229</td>\n",
       "      <td>tail</td>\n",
       "      <td>left</td>\n",
       "    </tr>\n",
       "    <tr>\n",
       "      <th>35</th>\n",
       "      <td>SNL_photo18</td>\n",
       "      <td>20200303</td>\n",
       "      <td>tail</td>\n",
       "      <td>left</td>\n",
       "    </tr>\n",
       "    <tr>\n",
       "      <th>37</th>\n",
       "      <td>SNL_photo18</td>\n",
       "      <td>20200305</td>\n",
       "      <td>tail</td>\n",
       "      <td>left</td>\n",
       "    </tr>\n",
       "    <tr>\n",
       "      <th>39</th>\n",
       "      <td>SNL_photo18</td>\n",
       "      <td>20200307</td>\n",
       "      <td>tail</td>\n",
       "      <td>left</td>\n",
       "    </tr>\n",
       "    <tr>\n",
       "      <th>40</th>\n",
       "      <td>SNL_photo18</td>\n",
       "      <td>20200310</td>\n",
       "      <td>tail</td>\n",
       "      <td>left</td>\n",
       "    </tr>\n",
       "    <tr>\n",
       "      <th>42</th>\n",
       "      <td>SNL_photo18</td>\n",
       "      <td>20200312</td>\n",
       "      <td>tail</td>\n",
       "      <td>left</td>\n",
       "    </tr>\n",
       "    <tr>\n",
       "      <th>43</th>\n",
       "      <td>SNL_photo18</td>\n",
       "      <td>20200313</td>\n",
       "      <td>tail</td>\n",
       "      <td>left</td>\n",
       "    </tr>\n",
       "    <tr>\n",
       "      <th>44</th>\n",
       "      <td>SNL_photo18</td>\n",
       "      <td>20200316</td>\n",
       "      <td>tail</td>\n",
       "      <td>left</td>\n",
       "    </tr>\n",
       "  </tbody>\n",
       "</table>\n",
       "</div>"
      ],
      "text/plain": [
       "       mouse_id      date recording_site fiber_side\n",
       "28  SNL_photo18  20200223           tail       left\n",
       "30  SNL_photo18  20200226           tail       left\n",
       "32  SNL_photo18  20200228           tail       left\n",
       "33  SNL_photo18  20200229           tail       left\n",
       "35  SNL_photo18  20200303           tail       left\n",
       "37  SNL_photo18  20200305           tail       left\n",
       "39  SNL_photo18  20200307           tail       left\n",
       "40  SNL_photo18  20200310           tail       left\n",
       "42  SNL_photo18  20200312           tail       left\n",
       "43  SNL_photo18  20200313           tail       left\n",
       "44  SNL_photo18  20200316           tail       left"
      ]
     },
     "execution_count": 96,
     "metadata": {},
     "output_type": "execute_result"
    }
   ],
   "source": [
    "experiments"
   ]
  },
  {
   "cell_type": "code",
   "execution_count": 97,
   "metadata": {},
   "outputs": [
    {
     "data": {
      "text/plain": [
       "(38, 301)"
      ]
     },
     "execution_count": 97,
     "metadata": {},
     "output_type": "execute_result"
    }
   ],
   "source": [
    "contra_choice_kernel.shape"
   ]
  },
  {
   "cell_type": "code",
   "execution_count": null,
   "metadata": {},
   "outputs": [],
   "source": []
  }
 ],
 "metadata": {
  "kernelspec": {
   "display_name": "Python 3",
   "language": "python",
   "name": "python3"
  }
 },
 "nbformat": 4,
 "nbformat_minor": 4
}
