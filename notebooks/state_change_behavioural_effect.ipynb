{
 "cells": [
  {
   "cell_type": "code",
   "execution_count": 4,
   "metadata": {},
   "outputs": [
    {
     "name": "stdout",
     "output_type": "stream",
     "text": [
      "The autoreload extension is already loaded. To reload it, use:\n",
      "  %reload_ext autoreload\n"
     ]
    }
   ],
   "source": [
    "%load_ext autoreload\n",
    "%autoreload 2\n",
    "%matplotlib qt5\n",
    "# Add modules to the path\n",
    "import sys\n",
    "sys.path.insert(0, 'C:\\\\Users\\\\francescag\\\\Documents\\\\SourceTree_repos\\\\Python_git')\n",
    "sys.path.insert(0, 'C:\\\\Users\\\\francescag\\\\Documents\\\\SourceTree_repos')\n",
    "sys.path.insert(0, 'C:\\\\Users\\\\francescag\\\\Documents\\\\SourceTree_repos\\\\Python_git\\\\freely_moving_photometry_analysis')\n",
    "import matplotlib.pyplot as plt\n",
    "import matplotlib.cm as cm\n",
    "import numpy as np\n",
    "import os\n",
    "import matplotlib\n",
    "import pandas as pd\n",
    "import pickle\n",
    "from utils.post_processing_utils import *\n",
    "import seaborn as sns"
   ]
  },
  {
   "cell_type": "code",
   "execution_count": 321,
   "metadata": {},
   "outputs": [],
   "source": [
    "def moving_average(x, window=50):\n",
    "    return np.convolve(x, np.ones(window), 'valid') / window"
   ]
  },
  {
   "cell_type": "code",
   "execution_count": 399,
   "metadata": {},
   "outputs": [
    {
     "name": "stdout",
     "output_type": "stream",
     "text": [
      "left 7\n",
      "right 1\n",
      "right 1\n"
     ]
    }
   ],
   "source": [
    "processed_data_dir = os.path.join('W:\\\\photometry_2AC\\\\processed_data\\\\state_change_data')\n",
    "state_change_data_file = os.path.join(processed_data_dir, 'state_change_data_nacc_mice.csv')\n",
    "pre_pc = []\n",
    "post_pc = []\n",
    "mice = [ 'SNL_photo21', 'SNL_photo22', 'SNL_photo26']\n",
    "moving_avs = []\n",
    "#mice = ['SNL_photo28', 'SNL_photo30', 'SNL_photo31', 'SNL_photo32', 'SNL_photo33', 'SNL_photo34', 'SNL_photo35']\n",
    "for mouse_num, mouse_id in enumerate(mice):\n",
    "    state_change_data = {}\n",
    "    date = '20200915' \n",
    "    #date = '20201216'\n",
    "    all_experiments = get_all_experimental_records()\n",
    "    experiment_to_process = all_experiments[(all_experiments['date'] == date) & (all_experiments['mouse_id'] == mouse_id)]\n",
    "    contra_side = experiment_to_process['fiber_side'].values[0]\n",
    "    fiber_options = np.array(['left', 'right'])\n",
    "    fiber_side_numeric = (np.where(fiber_options != contra_side)[0] + 1)[0]\n",
    "    if fiber_side_numeric == 2:\n",
    "        fiber_side_numeric = 7\n",
    "    print(contra_side,fiber_side_numeric)\n",
    "    traces, trial_data = open_experiment(experiment_to_process)\n",
    "    trial_data.loc[trial_data['Trial outcome'] == 3, 'Trial outcome'] = 0\n",
    "    only_contra = trial_data.loc[trial_data['Trial type'] == fiber_side_numeric] \n",
    "    red_trial_data = only_contra[only_contra['State name'] == 'TrialStart']\n",
    "    post_trials = red_trial_data[np.logical_and(red_trial_data['Trial num'] >= 150, red_trial_data['Trial num'] <= 200)]\n",
    "    post_pc.append(np.mean(post_trials['Trial outcome'].values) * 100)\n",
    "    pre_pc.append(np.mean(red_trial_data[red_trial_data['Trial num'] < 150]['Trial outcome'].values) * 100)\n",
    "    moving_avs.append(moving_average(red_trial_data['Trial outcome'].values, window=20))"
   ]
  },
  {
   "cell_type": "code",
   "execution_count": 400,
   "metadata": {},
   "outputs": [],
   "source": [
    "num_mice = len(mice)\n",
    "num_trials = [len(m) for m in moving_avs]\n",
    "max_num_trials = max([len(m) for m in moving_avs])\n",
    "all_mice = np.empty((num_mice, max_num_trials))\n",
    "all_mice[:] = np.nan\n",
    "for i, mouse_data in enumerate(moving_avs):\n",
    "    all_mice[i, :num_trials[i]] = mouse_data"
   ]
  },
  {
   "cell_type": "code",
   "execution_count": 401,
   "metadata": {},
   "outputs": [],
   "source": [
    "fig, axs = plt.subplots()\n",
    "[axs.plot(m, alpha=0.5, c='gray') for m in moving_avs]\n",
    "axs.plot(np.nanmean(all_mice,axis=0), c='#7FB5B5', lw=3)\n",
    "\n",
    "axs.set_xlabel('trial number', fontsize=12)\n",
    "axs.set_ylabel('performance', fontsize=12)\n",
    "axs.spines['right'].set_visible(False)\n",
    "axs.spines['top'].set_visible(False)\n"
   ]
  },
  {
   "cell_type": "code",
   "execution_count": 307,
   "metadata": {},
   "outputs": [
    {
     "data": {
      "text/plain": [
       "[[<matplotlib.lines.Line2D at 0x204bccc0>],\n",
       " [<matplotlib.lines.Line2D at 0x204cc978>],\n",
       " [<matplotlib.lines.Line2D at 0x204cc470>],\n",
       " [<matplotlib.lines.Line2D at 0x204cce48>],\n",
       " [<matplotlib.lines.Line2D at 0x204d3208>],\n",
       " [<matplotlib.lines.Line2D at 0x204d3588>],\n",
       " [<matplotlib.lines.Line2D at 0x20893f60>]]"
      ]
     },
     "execution_count": 307,
     "metadata": {},
     "output_type": "execute_result"
    }
   ],
   "source": [
    "[plt.plot(m, alpha=0.5) for m in moving_avs]"
   ]
  },
  {
   "cell_type": "code",
   "execution_count": 246,
   "metadata": {},
   "outputs": [],
   "source": [
    "plt.show()"
   ]
  },
  {
   "cell_type": "code",
   "execution_count": 211,
   "metadata": {},
   "outputs": [],
   "source": [
    "behavioural_change = {}\n",
    "behavioural_change['mouse'] = mice\n",
    "behavioural_change['pre performance'] = pre_pc\n",
    "behavioural_change['post performance'] = post_pc\n",
    "behavioural_change_df = pd.DataFrame(behavioural_change)"
   ]
  },
  {
   "cell_type": "code",
   "execution_count": 212,
   "metadata": {},
   "outputs": [],
   "source": [
    "df_for_plot = behavioural_change_df.set_index('mouse').transpose()"
   ]
  },
  {
   "cell_type": "code",
   "execution_count": 227,
   "metadata": {},
   "outputs": [],
   "source": [
    "def francescas_plot(ax, data, show_err_bar=False, mean_linewidth=4, mean_line_color='blue', legend=False):\n",
    "    \"\"\"Plot lines for all mice from early to late.\n",
    "    \"\"\"\n",
    "    data.plot(ax=ax, legend=False)\n",
    "    data.mean(1).plot(ax=ax,linewidth=mean_linewidth,color=mean_line_color)\n",
    "\n",
    "    if show_err_bar:\n",
    "        yerr = data.std(axis=1)\n",
    "\n",
    "        plt.errorbar(np.array([0,1]), data.mean(1), yerr, color=mean_line_color, linewidth=4)\n",
    "\n",
    "    # drop the left and bottom spine for cool looking effect\n",
    "    ax.spines['left'].set_position(('outward', 10))\n",
    "    ax.spines['bottom'].set_position(('outward', 10))\n",
    "    # Hide the right and top spines\n",
    "    ax.spines['right'].set_visible(False)\n",
    "    ax.spines['top'].set_visible(False)"
   ]
  },
  {
   "cell_type": "code",
   "execution_count": 226,
   "metadata": {},
   "outputs": [],
   "source": [
    "fig, ax = plt.subplots()\n",
    "francescas_plot(ax, df_for_plot, mean_line_color='#7FB5B5', mean_linewidth=0, show_err_bar=False)\n",
    "plt.xticks([0, 1], ['pre state change', 'post state change'], fontsize=12)\n",
    "plt.ylabel('Performance (%)', fontsize=13)\n",
    "plt.tight_layout()"
   ]
  },
  {
   "cell_type": "code",
   "execution_count": 228,
   "metadata": {},
   "outputs": [
    {
     "data": {
      "text/html": [
       "<div>\n",
       "<style scoped>\n",
       "    .dataframe tbody tr th:only-of-type {\n",
       "        vertical-align: middle;\n",
       "    }\n",
       "\n",
       "    .dataframe tbody tr th {\n",
       "        vertical-align: top;\n",
       "    }\n",
       "\n",
       "    .dataframe thead th {\n",
       "        text-align: right;\n",
       "    }\n",
       "</style>\n",
       "<table border=\"1\" class=\"dataframe\">\n",
       "  <thead>\n",
       "    <tr style=\"text-align: right;\">\n",
       "      <th>mouse</th>\n",
       "      <th>SNL_photo21</th>\n",
       "      <th>SNL_photo22</th>\n",
       "      <th>SNL_photo26</th>\n",
       "    </tr>\n",
       "  </thead>\n",
       "  <tbody>\n",
       "    <tr>\n",
       "      <th>pre performance</th>\n",
       "      <td>98.000000</td>\n",
       "      <td>95.333333</td>\n",
       "      <td>97.333333</td>\n",
       "    </tr>\n",
       "    <tr>\n",
       "      <th>post performance</th>\n",
       "      <td>74.509804</td>\n",
       "      <td>94.117647</td>\n",
       "      <td>72.549020</td>\n",
       "    </tr>\n",
       "  </tbody>\n",
       "</table>\n",
       "</div>"
      ],
      "text/plain": [
       "mouse             SNL_photo21  SNL_photo22  SNL_photo26\n",
       "pre performance     98.000000    95.333333    97.333333\n",
       "post performance    74.509804    94.117647    72.549020"
      ]
     },
     "execution_count": 228,
     "metadata": {},
     "output_type": "execute_result"
    }
   ],
   "source": [
    "df_for_plot"
   ]
  },
  {
   "cell_type": "code",
   "execution_count": 216,
   "metadata": {},
   "outputs": [],
   "source": [
    "processed_data_dir = os.path.join('W:\\\\photometry_2AC\\\\processed_data\\\\state_change_data')\n",
    "nacc_peaks = pd.read_csv(os.path.join(processed_data_dir, 'nacc_peak_sizes.csv'))\n",
    "tail_peaks = pd.read_csv(os.path.join(processed_data_dir, 'tail_peak_sizes.csv'))"
   ]
  },
  {
   "cell_type": "code",
   "execution_count": 217,
   "metadata": {},
   "outputs": [],
   "source": [
    "peaks = tail_peaks "
   ]
  },
  {
   "cell_type": "code",
   "execution_count": 218,
   "metadata": {},
   "outputs": [],
   "source": [
    "peak_differences = []\n",
    "performance_differences = []\n",
    "for i, row in behavioural_change_df.iterrows():\n",
    "    mouse = row['mouse']\n",
    "    peak_differences.append((peaks[mouse][1] - peaks[mouse][0])/peaks[mouse][1]*100)\n",
    "    performance_differences.append((df_for_plot[mouse][1] - df_for_plot[mouse][0])/df_for_plot[mouse][1]*100)"
   ]
  },
  {
   "cell_type": "code",
   "execution_count": 219,
   "metadata": {},
   "outputs": [
    {
     "data": {
      "text/plain": [
       "Text(0.5, 0, '% difference in performance')"
      ]
     },
     "execution_count": 219,
     "metadata": {},
     "output_type": "execute_result"
    }
   ],
   "source": [
    "fig, axs = plt.subplots()\n",
    "axs.scatter(performance_differences, peak_differences)\n",
    "axs.set_ylabel('% change in post-pre peak z-score ')\n",
    "axs.set_xlabel('% difference in performance')\n"
   ]
  },
  {
   "cell_type": "code",
   "execution_count": null,
   "metadata": {},
   "outputs": [],
   "source": []
  },
  {
   "cell_type": "code",
   "execution_count": 174,
   "metadata": {},
   "outputs": [
    {
     "data": {
      "text/plain": [
       "0.5066578094709958"
      ]
     },
     "execution_count": 174,
     "metadata": {},
     "output_type": "execute_result"
    }
   ],
   "source": [
    "(peaks[mouse][1] - peaks[mouse][0])"
   ]
  },
  {
   "cell_type": "code",
   "execution_count": 175,
   "metadata": {},
   "outputs": [
    {
     "data": {
      "text/plain": [
       "-0.2"
      ]
     },
     "execution_count": 175,
     "metadata": {},
     "output_type": "execute_result"
    }
   ],
   "source": [
    "(3-4)/5"
   ]
  },
  {
   "cell_type": "code",
   "execution_count": 176,
   "metadata": {},
   "outputs": [
    {
     "data": {
      "text/html": [
       "<div>\n",
       "<style scoped>\n",
       "    .dataframe tbody tr th:only-of-type {\n",
       "        vertical-align: middle;\n",
       "    }\n",
       "\n",
       "    .dataframe tbody tr th {\n",
       "        vertical-align: top;\n",
       "    }\n",
       "\n",
       "    .dataframe thead th {\n",
       "        text-align: right;\n",
       "    }\n",
       "</style>\n",
       "<table border=\"1\" class=\"dataframe\">\n",
       "  <thead>\n",
       "    <tr style=\"text-align: right;\">\n",
       "      <th></th>\n",
       "      <th>trial type</th>\n",
       "      <th>SNL_photo21</th>\n",
       "      <th>SNL_photo22</th>\n",
       "      <th>SNL_photo26</th>\n",
       "    </tr>\n",
       "  </thead>\n",
       "  <tbody>\n",
       "    <tr>\n",
       "      <th>0</th>\n",
       "      <td>pre</td>\n",
       "      <td>0.266602</td>\n",
       "      <td>0.896028</td>\n",
       "      <td>0.780225</td>\n",
       "    </tr>\n",
       "    <tr>\n",
       "      <th>1</th>\n",
       "      <td>post</td>\n",
       "      <td>0.574251</td>\n",
       "      <td>0.894707</td>\n",
       "      <td>1.286883</td>\n",
       "    </tr>\n",
       "  </tbody>\n",
       "</table>\n",
       "</div>"
      ],
      "text/plain": [
       "  trial type  SNL_photo21  SNL_photo22  SNL_photo26\n",
       "0        pre     0.266602     0.896028     0.780225\n",
       "1       post     0.574251     0.894707     1.286883"
      ]
     },
     "execution_count": 176,
     "metadata": {},
     "output_type": "execute_result"
    }
   ],
   "source": [
    "peaks"
   ]
  },
  {
   "cell_type": "code",
   "execution_count": null,
   "metadata": {},
   "outputs": [],
   "source": []
  },
  {
   "cell_type": "code",
   "execution_count": null,
   "metadata": {},
   "outputs": [],
   "source": []
  }
 ],
 "metadata": {
  "kernelspec": {
   "display_name": "Python 3",
   "language": "python",
   "name": "python3"
  },
  "language_info": {
   "codemirror_mode": {
    "name": "ipython",
    "version": 3
   },
   "file_extension": ".py",
   "mimetype": "text/x-python",
   "name": "python",
   "nbconvert_exporter": "python",
   "pygments_lexer": "ipython3",
   "version": "3.7.3"
  }
 },
 "nbformat": 4,
 "nbformat_minor": 4
}
