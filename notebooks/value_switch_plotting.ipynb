{
 "cells": [
  {
   "cell_type": "code",
   "execution_count": 16,
   "metadata": {},
   "outputs": [
    {
     "name": "stdout",
     "output_type": "stream",
     "text": [
      "The autoreload extension is already loaded. To reload it, use:\n",
      "  %reload_ext autoreload\n"
     ]
    }
   ],
   "source": [
    "%load_ext autoreload\n",
    "%autoreload 2\n",
    "%matplotlib qt5\n",
    "import sys\n",
    "import os\n",
    "sys.path.insert(0, 'C:\\\\Users\\\\francescag\\\\Documents\\\\SourceTree_repos\\\\Python_git')\n",
    "sys.path.insert(0, 'C:\\\\Users\\\\francescag\\\\Documents\\\\SourceTree_repos')\n",
    "sys.path.insert(0, 'C:\\\\Users\\\\francescag\\\\Documents\\\\SourceTree_repos\\\\Python_git\\\\freely_moving_photometry_analysis')\n",
    "import peakutils\n",
    "from matplotlib import colors, cm\n",
    "from scipy.signal import decimate\n",
    "import matplotlib.pyplot as plt\n",
    "import matplotlib\n",
    "import numpy as np\n",
    "import pandas as pd\n",
    "import pickle\n",
    "import seaborn as sns\n",
    "from scipy import stats\n",
    "from utils.value_change_utils import open_experiment, CustomAlignedDataRewardBlocks, get_all_experimental_records, get_block_change_info, add_traces_and_peaks, plot_mean_trace_for_condition_value_switch, one_session_get_block_changes"
   ]
  },
  {
   "cell_type": "code",
   "execution_count": 17,
   "metadata": {},
   "outputs": [],
   "source": [
    "root_directory = 'C:\\\\Users\\\\francescag\\\\Documents\\\\SourceTree_repos\\\\Python_git\\\\freely_moving_photometry_analysis\\\\utils\\\\'\n",
    "processed_data_dir = os.path.join(root_directory, 'value_change_data')\n",
    "block_data_file = os.path.join(processed_data_dir, 'value_switch_tail_mice.csv')\n",
    "all_reward_block_data = pd.read_pickle(block_data_file)"
   ]
  },
  {
   "cell_type": "code",
   "execution_count": 18,
   "metadata": {},
   "outputs": [],
   "source": [
    "sorted_data = all_reward_block_data.sort_values(['mouse', 'session', 'trial number']).reset_index(drop=True)\n",
    "sorted_data['block switches'] = sorted_data['block number'] - sorted_data['block number'].shift()\n",
    "sorted_data['new sessions'] = sorted_data['session'].ne(sorted_data['session'].shift().bfill()).astype(int)\n",
    "sorted_data.iloc[0, sorted_data.columns.get_loc('new sessions')] = 1\n",
    "sorted_data.loc[sorted_data['new sessions'] == 1, 'block switches'] = 1\n",
    "block_switch_inds = sorted_data.loc[sorted_data['block switches'] != 0].reset_index(drop=True)"
   ]
  },
  {
   "cell_type": "code",
   "execution_count": 19,
   "metadata": {},
   "outputs": [],
   "source": [
    "num_trials_to_look_at = 50\n",
    "min_num_trials = 70\n",
    "traces = []\n",
    "peaks = []\n",
    "trial_nums = []\n",
    "block_inds = []\n",
    "rel_reward_amounts = []\n",
    "reward_amounts = []\n",
    "mouse_ids = []\n",
    "session_ids = []\n",
    "num_blocks = block_switch_inds.index.values.shape[0]\n",
    "for block_num, block in block_switch_inds.iterrows():\n",
    "    first_trial = block['trial number']\n",
    "    mouse = block['mouse']\n",
    "    session = block['session']\n",
    "    block_id = block['block number']\n",
    "    block_switch_trial_num = block['trial number']\n",
    "    all_session_trials = sorted_data[(sorted_data['mouse'] == mouse) & (sorted_data['session'] == session)]\n",
    "    all_block_trials = all_session_trials[all_session_trials['block number'] == block_id]\n",
    "    if block_id == 0 or all_block_trials.shape[0]>=min_num_trials:\n",
    "        last_trials_of_block = all_block_trials[-num_trials_to_look_at:]\n",
    "        mean_trace = last_trials_of_block['traces'].apply(np.mean)\n",
    "        avg_trace = last_trials_of_block.groupby(['mouse', 'contra reward amount'])['traces'].apply(np.mean).values[0]\n",
    "        decimated = decimate(avg_trace[int(len(avg_trace)/2):], 10) \n",
    "        peak_idx = peakutils.indexes(decimated)[0] \n",
    "        peak = decimated[peak_idx]\n",
    "        traces.append(decimated)\n",
    "        peaks.append(peak)\n",
    "        trial_nums.append(last_trials_of_block['trial number'].values)\n",
    "        rel_reward_amounts.append(last_trials_of_block['relative reward amount'].values[0])\n",
    "        reward_amounts.append(last_trials_of_block['contra reward amount'].values[0])\n",
    "        block_inds.append(last_trials_of_block.index.values[0])\n",
    "        mouse_ids.append(mouse)\n",
    "        session_ids.append(session)"
   ]
  },
  {
   "cell_type": "code",
   "execution_count": 20,
   "metadata": {},
   "outputs": [],
   "source": [
    "avg_block_data = {}\n",
    "avg_block_data['block id'] = block_inds\n",
    "avg_block_data['peaks'] = peaks\n",
    "avg_block_data['relative reward amount'] = rel_reward_amounts\n",
    "avg_block_data['contra reward amount'] = reward_amounts\n",
    "avg_block_data['mouse'] = mouse_ids\n",
    "avg_block_data['session'] = session_ids\n",
    "avg_block_dataf = pd.DataFrame(avg_block_data)"
   ]
  },
  {
   "cell_type": "code",
   "execution_count": 21,
   "metadata": {},
   "outputs": [],
   "source": [
    "avg_block_dataf['avg traces'] = pd.Series(traces, index=avg_block_dataf.index)\n",
    "df_for_plot = avg_block_dataf.groupby(['mouse', 'session', 'relative reward amount', 'contra reward amount'])['peaks'].apply(np.mean)\n",
    "df_for_plot = df_for_plot.reset_index()"
   ]
  },
  {
   "cell_type": "code",
   "execution_count": 22,
   "metadata": {},
   "outputs": [],
   "source": [
    "mice = []\n",
    "reward_changes = []\n",
    "cue_changes = []\n",
    "session_ids = []\n",
    "\n",
    "first_blocks = df_for_plot[df_for_plot['relative reward amount'] == 0]\n",
    "for first_block_ind, first_block in first_blocks.iterrows():\n",
    "    mouse = first_block['mouse']\n",
    "    session = first_block['session']\n",
    "    session_blocks = df_for_plot[np.logical_and(df_for_plot['mouse'] == mouse, df_for_plot['session'] == session)]\n",
    "    other_block = session_blocks.loc[session_blocks['relative reward amount'] != 0]\n",
    "    if other_block.shape[0] > 0:\n",
    "        mice.append(mouse)\n",
    "        reward_changes.append(other_block['relative reward amount'].values[0])\n",
    "        cue_change = (other_block['peaks'] - first_block['peaks']).values[0]\n",
    "        cue_changes.append(cue_change)\n",
    "        session_ids.append(session)\n",
    "diff_block_data = {}\n",
    "diff_block_data['mouse'] = mice\n",
    "diff_block_data['reward size change'] = reward_changes\n",
    "diff_block_data['cue size change'] = cue_changes\n",
    "diff_block_data['session'] = session_ids\n",
    "diff_block_dataf = pd.DataFrame(diff_block_data)"
   ]
  },
  {
   "cell_type": "code",
   "execution_count": 23,
   "metadata": {},
   "outputs": [
    {
     "data": {
      "text/html": [
       "<div>\n",
       "<style scoped>\n",
       "    .dataframe tbody tr th:only-of-type {\n",
       "        vertical-align: middle;\n",
       "    }\n",
       "\n",
       "    .dataframe tbody tr th {\n",
       "        vertical-align: top;\n",
       "    }\n",
       "\n",
       "    .dataframe thead th {\n",
       "        text-align: right;\n",
       "    }\n",
       "</style>\n",
       "<table border=\"1\" class=\"dataframe\">\n",
       "  <thead>\n",
       "    <tr style=\"text-align: right;\">\n",
       "      <th></th>\n",
       "      <th>mouse</th>\n",
       "      <th>reward size change</th>\n",
       "      <th>cue size change</th>\n",
       "      <th>session</th>\n",
       "    </tr>\n",
       "  </thead>\n",
       "  <tbody>\n",
       "    <tr>\n",
       "      <th>0</th>\n",
       "      <td>SNL_photo37</td>\n",
       "      <td>4.0</td>\n",
       "      <td>-0.355498</td>\n",
       "      <td>20210518</td>\n",
       "    </tr>\n",
       "    <tr>\n",
       "      <th>1</th>\n",
       "      <td>SNL_photo37</td>\n",
       "      <td>4.0</td>\n",
       "      <td>0.051462</td>\n",
       "      <td>20210519</td>\n",
       "    </tr>\n",
       "    <tr>\n",
       "      <th>2</th>\n",
       "      <td>SNL_photo37</td>\n",
       "      <td>4.0</td>\n",
       "      <td>-0.042908</td>\n",
       "      <td>20210520</td>\n",
       "    </tr>\n",
       "    <tr>\n",
       "      <th>3</th>\n",
       "      <td>SNL_photo43</td>\n",
       "      <td>4.0</td>\n",
       "      <td>0.103276</td>\n",
       "      <td>20210518</td>\n",
       "    </tr>\n",
       "    <tr>\n",
       "      <th>4</th>\n",
       "      <td>SNL_photo43</td>\n",
       "      <td>-4.0</td>\n",
       "      <td>0.391565</td>\n",
       "      <td>20210519</td>\n",
       "    </tr>\n",
       "    <tr>\n",
       "      <th>5</th>\n",
       "      <td>SNL_photo43</td>\n",
       "      <td>4.0</td>\n",
       "      <td>-0.028854</td>\n",
       "      <td>20210520</td>\n",
       "    </tr>\n",
       "  </tbody>\n",
       "</table>\n",
       "</div>"
      ],
      "text/plain": [
       "         mouse  reward size change  cue size change   session\n",
       "0  SNL_photo37                 4.0        -0.355498  20210518\n",
       "1  SNL_photo37                 4.0         0.051462  20210519\n",
       "2  SNL_photo37                 4.0        -0.042908  20210520\n",
       "3  SNL_photo43                 4.0         0.103276  20210518\n",
       "4  SNL_photo43                -4.0         0.391565  20210519\n",
       "5  SNL_photo43                 4.0        -0.028854  20210520"
      ]
     },
     "execution_count": 23,
     "metadata": {},
     "output_type": "execute_result"
    }
   ],
   "source": [
    "diff_block_dataf"
   ]
  },
  {
   "cell_type": "code",
   "execution_count": 24,
   "metadata": {},
   "outputs": [],
   "source": [
    "df_for_plot1 = diff_block_dataf.groupby(['mouse', 'reward size change'])['cue size change'].apply(np.mean)\n",
    "df_for_plot1 = df_for_plot1.reset_index()"
   ]
  },
  {
   "cell_type": "code",
   "execution_count": 25,
   "metadata": {},
   "outputs": [
    {
     "data": {
      "text/html": [
       "<div>\n",
       "<style scoped>\n",
       "    .dataframe tbody tr th:only-of-type {\n",
       "        vertical-align: middle;\n",
       "    }\n",
       "\n",
       "    .dataframe tbody tr th {\n",
       "        vertical-align: top;\n",
       "    }\n",
       "\n",
       "    .dataframe thead th {\n",
       "        text-align: right;\n",
       "    }\n",
       "</style>\n",
       "<table border=\"1\" class=\"dataframe\">\n",
       "  <thead>\n",
       "    <tr style=\"text-align: right;\">\n",
       "      <th></th>\n",
       "      <th>mouse</th>\n",
       "      <th>reward size change</th>\n",
       "      <th>cue size change</th>\n",
       "    </tr>\n",
       "  </thead>\n",
       "  <tbody>\n",
       "    <tr>\n",
       "      <th>0</th>\n",
       "      <td>SNL_photo37</td>\n",
       "      <td>4.0</td>\n",
       "      <td>-0.115648</td>\n",
       "    </tr>\n",
       "    <tr>\n",
       "      <th>1</th>\n",
       "      <td>SNL_photo43</td>\n",
       "      <td>-4.0</td>\n",
       "      <td>0.391565</td>\n",
       "    </tr>\n",
       "    <tr>\n",
       "      <th>2</th>\n",
       "      <td>SNL_photo43</td>\n",
       "      <td>4.0</td>\n",
       "      <td>0.037211</td>\n",
       "    </tr>\n",
       "  </tbody>\n",
       "</table>\n",
       "</div>"
      ],
      "text/plain": [
       "         mouse  reward size change  cue size change\n",
       "0  SNL_photo37                 4.0        -0.115648\n",
       "1  SNL_photo43                -4.0         0.391565\n",
       "2  SNL_photo43                 4.0         0.037211"
      ]
     },
     "execution_count": 25,
     "metadata": {},
     "output_type": "execute_result"
    }
   ],
   "source": [
    "df_for_plot1"
   ]
  },
  {
   "cell_type": "code",
   "execution_count": 26,
   "metadata": {},
   "outputs": [],
   "source": [
    "df1 = df_for_plot1.pivot(index='reward size change', columns='mouse', values='cue size change').sort_values('reward size change', ascending=False)"
   ]
  },
  {
   "cell_type": "code",
   "execution_count": 27,
   "metadata": {},
   "outputs": [
    {
     "data": {
      "text/html": [
       "<div>\n",
       "<style scoped>\n",
       "    .dataframe tbody tr th:only-of-type {\n",
       "        vertical-align: middle;\n",
       "    }\n",
       "\n",
       "    .dataframe tbody tr th {\n",
       "        vertical-align: top;\n",
       "    }\n",
       "\n",
       "    .dataframe thead th {\n",
       "        text-align: right;\n",
       "    }\n",
       "</style>\n",
       "<table border=\"1\" class=\"dataframe\">\n",
       "  <thead>\n",
       "    <tr style=\"text-align: right;\">\n",
       "      <th>mouse</th>\n",
       "      <th>SNL_photo37</th>\n",
       "      <th>SNL_photo43</th>\n",
       "    </tr>\n",
       "    <tr>\n",
       "      <th>reward size change</th>\n",
       "      <th></th>\n",
       "      <th></th>\n",
       "    </tr>\n",
       "  </thead>\n",
       "  <tbody>\n",
       "    <tr>\n",
       "      <th>4.0</th>\n",
       "      <td>-0.115648</td>\n",
       "      <td>0.037211</td>\n",
       "    </tr>\n",
       "    <tr>\n",
       "      <th>-4.0</th>\n",
       "      <td>NaN</td>\n",
       "      <td>0.391565</td>\n",
       "    </tr>\n",
       "  </tbody>\n",
       "</table>\n",
       "</div>"
      ],
      "text/plain": [
       "mouse               SNL_photo37  SNL_photo43\n",
       "reward size change                          \n",
       " 4.0                  -0.115648     0.037211\n",
       "-4.0                        NaN     0.391565"
      ]
     },
     "execution_count": 27,
     "metadata": {},
     "output_type": "execute_result"
    }
   ],
   "source": [
    "df1"
   ]
  },
  {
   "cell_type": "code",
   "execution_count": 28,
   "metadata": {},
   "outputs": [],
   "source": [
    "def francescas_plot(ax, data, show_err_bar=False, mean_linewidth=4, mean_line_color='blue', legend=False):\n",
    "    \"\"\"Plot lines for all mice from early to late.\n",
    "    \"\"\"\n",
    "    \n",
    "    fg = sns.FacetGrid(data=data, hue='mouse', aspect=1.61)\n",
    "    fg.map(plt.scatter, 'reward size change', 'cue size change', s=6)\n",
    "\n"
   ]
  },
  {
   "cell_type": "code",
   "execution_count": 29,
   "metadata": {},
   "outputs": [],
   "source": [
    "fg = sns.FacetGrid(data=df_for_plot1, hue='mouse', aspect=0.8, palette='viridis')\n",
    "fg.map(plt.scatter, 'reward size change', 'cue size change', s=20)\n",
    "ax=fg.axes[0][0]\n",
    "ax.axhline(0, color='k', lw=0.5)\n",
    "ax.set_xticks([-4, 4])\n",
    "ax.set_xlabel(r'relative value ($\\mu$l)')\n",
    "ax.set_xlim([-6, 6])\n",
    "plt.ylabel(r'$\\Delta$ z-score')\n",
    "plt.tight_layout()\n"
   ]
  },
  {
   "cell_type": "code",
   "execution_count": 52,
   "metadata": {},
   "outputs": [
    {
     "data": {
      "text/plain": [
       "array([[<matplotlib.axes._subplots.AxesSubplot object at 0x00000000B0B9C1D0>]],\n",
       "      dtype=object)"
      ]
     },
     "execution_count": 52,
     "metadata": {},
     "output_type": "execute_result"
    }
   ],
   "source": [
    "fg.axes"
   ]
  },
  {
   "cell_type": "code",
   "execution_count": null,
   "metadata": {},
   "outputs": [],
   "source": []
  }
 ],
 "metadata": {
  "kernelspec": {
   "display_name": "Python 3",
   "language": "python",
   "name": "python3"
  },
  "language_info": {
   "codemirror_mode": {
    "name": "ipython",
    "version": 3
   },
   "file_extension": ".py",
   "mimetype": "text/x-python",
   "name": "python",
   "nbconvert_exporter": "python",
   "pygments_lexer": "ipython3",
   "version": "3.7.3"
  }
 },
 "nbformat": 4,
 "nbformat_minor": 4
}
