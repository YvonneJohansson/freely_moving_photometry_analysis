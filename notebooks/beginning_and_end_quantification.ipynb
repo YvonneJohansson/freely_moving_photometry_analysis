{
 "cells": [
  {
   "cell_type": "code",
   "execution_count": 4,
   "metadata": {},
   "outputs": [
    {
     "name": "stdout",
     "output_type": "stream",
     "text": [
      "The autoreload extension is already loaded. To reload it, use:\n",
      "  %reload_ext autoreload\n"
     ]
    }
   ],
   "source": [
    "%load_ext autoreload\n",
    "%autoreload 2\n",
    "%matplotlib qt5\n",
    "# Add modules to the path\n",
    "import sys\n",
    "import os\n",
    "sys.path.insert(0, 'C:\\\\Users\\\\francescag\\\\Documents\\\\SourceTree_repos\\\\Python_git')\n",
    "sys.path.insert(0, 'C:\\\\Users\\\\francescag\\\\Documents\\\\SourceTree_repos')\n",
    "sys.path.insert(0, 'C:\\\\Users\\\\francescag\\\\Documents\\\\SourceTree_repos\\\\Python_git\\\\freely_moving_photometry_analysis')\n",
    "\n",
    "import numpy as np\n",
    "import matplotlib.pyplot as plt\n",
    "import pandas as pd \n",
    "from scipy import stats\n",
    "import pickle\n",
    "from utils.post_processing_utils import remove_manipulation_days\n",
    "from data_preprocessing.session_traces_and_mean import get_all_experimental_records, remove_experiments"
   ]
  },
  {
   "cell_type": "code",
   "execution_count": 2,
   "metadata": {},
   "outputs": [],
   "source": [
    "def get_first_and_last_peaks(mouse, records, site='tail'):\n",
    "    experiments_to_process = records[(records['mouse_id'] == mouse) & (records['recording_site'] == site)]\n",
    "    sorted_records = experiments_to_process.sort_values('date').reset_index()\n",
    "    first_recording = sorted_records.iloc[0]\n",
    "    last_recording = sorted_records.iloc[-1]\n",
    "    first_session_peak = get_mean_contra_peak(first_recording)\n",
    "    last_session_peak = get_mean_contra_peak(last_recording)\n",
    "    return first_session_peak, last_session_peak"
   ]
  },
  {
   "cell_type": "code",
   "execution_count": 3,
   "metadata": {},
   "outputs": [],
   "source": [
    "def get_first_and_10000th_peaks(mouse, records, site='tail'):\n",
    "    experiments_to_process = records[(records['mouse_id'] == mouse) & (records['recording_site'] == site)]\n",
    "    sorted_records = experiments_to_process.sort_values('date').reset_index(drop=True)\n",
    "    first_recording = sorted_records.iloc[0]\n",
    "    last_recording_date = get_session_with_10000th_trial(mouse, sorted_records)\n",
    "    last_recording_ind = sorted_records[sorted_records['date'] == last_recording_date].index.values[0]\n",
    "    last_recording = sorted_records.iloc[last_recording_ind]\n",
    "    first_session_peak = get_mean_contra_peak(first_recording)\n",
    "    last_session_peak = get_mean_contra_peak(last_recording)\n",
    "    return(first_session_peak, last_session_peak)"
   ]
  },
  {
   "cell_type": "code",
   "execution_count": 4,
   "metadata": {},
   "outputs": [],
   "source": [
    "def get_mean_contra_peak(session_record):\n",
    "    mouse_id = session_record['mouse_id']\n",
    "    date = session_record['date']\n",
    "    print(mouse, date)\n",
    "    saving_folder = 'W:\\\\photometry_2AC\\\\processed_data\\\\' + mouse_id + '\\\\'\n",
    "    aligned_filename = mouse_id + '_' + date + '_' + 'aligned_traces.p'\n",
    "    save_filename = saving_folder + aligned_filename\n",
    "    session_data = pickle.load(open(save_filename, \"rb\"))\n",
    "    _trial_peaks = session_data.choice_data.contra_data.trial_peaks\n",
    "    trial_peaks = [p if not isinstance(p, np.ndarray) else np.nan for p in _trial_peaks]\n",
    "    mean_peak = np.nanmean(trial_peaks)\n",
    "    return mean_peak"
   ]
  },
  {
   "cell_type": "code",
   "execution_count": 5,
   "metadata": {},
   "outputs": [],
   "source": [
    "from utils.reaction_time_utils import get_bpod_trial_nums_per_session"
   ]
  },
  {
   "cell_type": "code",
   "execution_count": 6,
   "metadata": {},
   "outputs": [],
   "source": [
    "def get_session_with_10000th_trial(mouse, experiments):\n",
    "    dates = experiments[experiments['mouse_id']==mouse]['date'].unique()\n",
    "    session_starts = get_bpod_trial_nums_per_session(mouse, dates)\n",
    "    if session_starts[-1] >= 10000:\n",
    "        last_session_idx = np.where(np.asarray(session_starts) >=10000)[0][0]\n",
    "    else:\n",
    "        last_session_idx = -1\n",
    "    last_session_date = dates[last_session_idx]\n",
    "    return(last_session_date)"
   ]
  },
  {
   "cell_type": "code",
   "execution_count": 60,
   "metadata": {},
   "outputs": [
    {
     "name": "stdout",
     "output_type": "stream",
     "text": [
      "(12357, '20200307')\n",
      "(10915, '20200310')\n",
      "(8573, '20200317')\n",
      "(14606, '20200908')\n",
      "(16687, '20200827')\n",
      "(14233, '20200908')\n"
     ]
    }
   ],
   "source": [
    "for mouse in mice:\n",
    "    print(get_session_with_10000th_trial(mouse, records_without_last))"
   ]
  },
  {
   "cell_type": "code",
   "execution_count": 32,
   "metadata": {},
   "outputs": [
    {
     "name": "stdout",
     "output_type": "stream",
     "text": [
      "SNL_photo28 20201118\n",
      "SNL_photo28 20201209\n",
      "SNL_photo30 20201117\n",
      "SNL_photo30 20201209\n",
      "SNL_photo31 20201118\n",
      "SNL_photo31 20201209\n",
      "SNL_photo32 20201118\n",
      "SNL_photo32 20201209\n",
      "SNL_photo33 20201117\n",
      "SNL_photo33 20201209\n",
      "SNL_photo34 20201118\n",
      "SNL_photo34 20201209\n",
      "SNL_photo35 20201118\n",
      "SNL_photo35 20201210\n"
     ]
    }
   ],
   "source": [
    "mice = ['SNL_photo28', 'SNL_photo30', 'SNL_photo31', 'SNL_photo32', 'SNL_photo33', 'SNL_photo34', 'SNL_photo35']\n",
    "records = get_all_experimental_records()\n",
    "post_state_change_dates =   ['20201211', '20201214','20201216', '20201218', '20201219', '20201221', '20201222']\n",
    "first_peaks = []\n",
    "last_peaks = []\n",
    "exps_to_remove = {}\n",
    "for mouse in mice:\n",
    "    exps_to_remove[mouse] = post_state_change_dates\n",
    "records_without_last = remove_experiments(records, exps_to_remove)\n",
    "for mouse in mice:\n",
    "    first, last = get_first_and_10000th_peaks(mouse, records_without_last, site='Nacc')\n",
    "    first_peaks.append(first)\n",
    "    last_peaks.append(last)"
   ]
  },
  {
   "cell_type": "code",
   "execution_count": 7,
   "metadata": {},
   "outputs": [
    {
     "name": "stdout",
     "output_type": "stream",
     "text": [
      "SNL_photo16 20200210\n",
      "SNL_photo16 20200307\n",
      "SNL_photo17 20200204\n",
      "SNL_photo17 20200310\n",
      "SNL_photo18 20200223\n",
      "SNL_photo18 20200316\n",
      "SNL_photo21 20200806\n",
      "SNL_photo21 20200908\n",
      "SNL_photo22 20200806\n",
      "SNL_photo22 20200827\n",
      "SNL_photo26 20200808\n",
      "SNL_photo26 20200908\n"
     ]
    }
   ],
   "source": [
    "mice = ['SNL_photo16', 'SNL_photo17', 'SNL_photo18', 'SNL_photo21', 'SNL_photo22', 'SNL_photo26']\n",
    "records = get_all_experimental_records()\n",
    "post_state_change_dates =  ['20200911', '20200915', '20200917', '20200918', '20200921', '20200829', '20200830', '20200831', '20201008','20201009', '20201007']\n",
    "records_without_last = remove_experiments(records, {'SNL_photo17': ['20200317'], 'SNL_photo21': ['20201008','20201009','20200911','20200805', '20200915', '20200917', '20200918', '20200921','20200829', '20200830', '20200831','20201007'], 'SNL_photo22': post_state_change_dates, 'SNL_photo26': post_state_change_dates})\n",
    "first_peaks = []\n",
    "last_peaks = []\n",
    "for mouse in mice:\n",
    "    first, last = get_first_and_10000th_peaks(mouse, records_without_last, site='tail')\n",
    "    first_peaks.append(first)\n",
    "    last_peaks.append(last)\n"
   ]
  },
  {
   "cell_type": "code",
   "execution_count": 19,
   "metadata": {},
   "outputs": [
    {
     "name": "stdout",
     "output_type": "stream",
     "text": [
      "SNL_photo28 20201118\n",
      "SNL_photo28 20201209\n",
      "SNL_photo30 20201117\n",
      "SNL_photo30 20201209\n",
      "SNL_photo31 20201118\n",
      "SNL_photo31 20201209\n",
      "SNL_photo32 20201118\n",
      "SNL_photo32 20201209\n",
      "SNL_photo33 20201117\n",
      "SNL_photo33 20201209\n",
      "SNL_photo34 20201118\n",
      "SNL_photo34 20201209\n",
      "SNL_photo35 20201118\n",
      "SNL_photo35 20201210\n"
     ]
    }
   ],
   "source": [
    "mice = ['SNL_photo28', 'SNL_photo30', 'SNL_photo31', 'SNL_photo32', 'SNL_photo33', 'SNL_photo34', 'SNL_photo35']\n",
    "records = get_all_experimental_records()\n",
    "post_state_change_dates =   ['20201211', '20201214','20201216', '20201218', '20201219', '20201221', '20201222']\n",
    "\n",
    "exps_to_remove = {}\n",
    "for mouse in mice:\n",
    "    exps_to_remove[mouse] = post_state_change_dates\n",
    "records_without_last = remove_experiments(records, exps_to_remove)\n",
    "first_peaks = []\n",
    "last_peaks = []\n",
    "for mouse in mice:\n",
    "    first, last = get_first_and_last_peaks(mouse, records_without_last, site='Nacc')\n",
    "    first_peaks.append(first)\n",
    "    last_peaks.append(last)"
   ]
  },
  {
   "cell_type": "code",
   "execution_count": 20,
   "metadata": {},
   "outputs": [],
   "source": [
    "data = pd.DataFrame({'mouse': mice, 'first session peak mean': first_peaks, 'last session peak mean': last_peaks})"
   ]
  },
  {
   "cell_type": "code",
   "execution_count": 21,
   "metadata": {},
   "outputs": [
    {
     "data": {
      "text/html": [
       "<div>\n",
       "<style scoped>\n",
       "    .dataframe tbody tr th:only-of-type {\n",
       "        vertical-align: middle;\n",
       "    }\n",
       "\n",
       "    .dataframe tbody tr th {\n",
       "        vertical-align: top;\n",
       "    }\n",
       "\n",
       "    .dataframe thead th {\n",
       "        text-align: right;\n",
       "    }\n",
       "</style>\n",
       "<table border=\"1\" class=\"dataframe\">\n",
       "  <thead>\n",
       "    <tr style=\"text-align: right;\">\n",
       "      <th></th>\n",
       "      <th>mouse</th>\n",
       "      <th>first session peak mean</th>\n",
       "      <th>last session peak mean</th>\n",
       "    </tr>\n",
       "  </thead>\n",
       "  <tbody>\n",
       "    <tr>\n",
       "      <th>0</th>\n",
       "      <td>SNL_photo28</td>\n",
       "      <td>1.745420</td>\n",
       "      <td>2.077662</td>\n",
       "    </tr>\n",
       "    <tr>\n",
       "      <th>1</th>\n",
       "      <td>SNL_photo30</td>\n",
       "      <td>0.707131</td>\n",
       "      <td>1.025437</td>\n",
       "    </tr>\n",
       "    <tr>\n",
       "      <th>2</th>\n",
       "      <td>SNL_photo31</td>\n",
       "      <td>1.272946</td>\n",
       "      <td>2.132304</td>\n",
       "    </tr>\n",
       "    <tr>\n",
       "      <th>3</th>\n",
       "      <td>SNL_photo32</td>\n",
       "      <td>1.069534</td>\n",
       "      <td>0.907093</td>\n",
       "    </tr>\n",
       "    <tr>\n",
       "      <th>4</th>\n",
       "      <td>SNL_photo33</td>\n",
       "      <td>0.648897</td>\n",
       "      <td>0.949149</td>\n",
       "    </tr>\n",
       "    <tr>\n",
       "      <th>5</th>\n",
       "      <td>SNL_photo34</td>\n",
       "      <td>0.948164</td>\n",
       "      <td>1.701716</td>\n",
       "    </tr>\n",
       "    <tr>\n",
       "      <th>6</th>\n",
       "      <td>SNL_photo35</td>\n",
       "      <td>0.927096</td>\n",
       "      <td>1.669120</td>\n",
       "    </tr>\n",
       "  </tbody>\n",
       "</table>\n",
       "</div>"
      ],
      "text/plain": [
       "         mouse  first session peak mean  last session peak mean\n",
       "0  SNL_photo28                 1.745420                2.077662\n",
       "1  SNL_photo30                 0.707131                1.025437\n",
       "2  SNL_photo31                 1.272946                2.132304\n",
       "3  SNL_photo32                 1.069534                0.907093\n",
       "4  SNL_photo33                 0.648897                0.949149\n",
       "5  SNL_photo34                 0.948164                1.701716\n",
       "6  SNL_photo35                 0.927096                1.669120"
      ]
     },
     "execution_count": 21,
     "metadata": {},
     "output_type": "execute_result"
    }
   ],
   "source": [
    "data"
   ]
  },
  {
   "cell_type": "code",
   "execution_count": 22,
   "metadata": {},
   "outputs": [
    {
     "data": {
      "text/html": [
       "<div>\n",
       "<style scoped>\n",
       "    .dataframe tbody tr th:only-of-type {\n",
       "        vertical-align: middle;\n",
       "    }\n",
       "\n",
       "    .dataframe tbody tr th {\n",
       "        vertical-align: top;\n",
       "    }\n",
       "\n",
       "    .dataframe thead th {\n",
       "        text-align: right;\n",
       "    }\n",
       "</style>\n",
       "<table border=\"1\" class=\"dataframe\">\n",
       "  <thead>\n",
       "    <tr style=\"text-align: right;\">\n",
       "      <th>mouse</th>\n",
       "      <th>SNL_photo28</th>\n",
       "      <th>SNL_photo30</th>\n",
       "      <th>SNL_photo31</th>\n",
       "      <th>SNL_photo32</th>\n",
       "      <th>SNL_photo33</th>\n",
       "      <th>SNL_photo34</th>\n",
       "      <th>SNL_photo35</th>\n",
       "    </tr>\n",
       "  </thead>\n",
       "  <tbody>\n",
       "    <tr>\n",
       "      <th>first session peak mean</th>\n",
       "      <td>1.745420</td>\n",
       "      <td>0.707131</td>\n",
       "      <td>1.272946</td>\n",
       "      <td>1.069534</td>\n",
       "      <td>0.648897</td>\n",
       "      <td>0.948164</td>\n",
       "      <td>0.927096</td>\n",
       "    </tr>\n",
       "    <tr>\n",
       "      <th>last session peak mean</th>\n",
       "      <td>2.077662</td>\n",
       "      <td>1.025437</td>\n",
       "      <td>2.132304</td>\n",
       "      <td>0.907093</td>\n",
       "      <td>0.949149</td>\n",
       "      <td>1.701716</td>\n",
       "      <td>1.669120</td>\n",
       "    </tr>\n",
       "  </tbody>\n",
       "</table>\n",
       "</div>"
      ],
      "text/plain": [
       "mouse                    SNL_photo28  SNL_photo30  SNL_photo31  SNL_photo32  \\\n",
       "first session peak mean     1.745420     0.707131     1.272946     1.069534   \n",
       "last session peak mean      2.077662     1.025437     2.132304     0.907093   \n",
       "\n",
       "mouse                    SNL_photo33  SNL_photo34  SNL_photo35  \n",
       "first session peak mean     0.648897     0.948164     0.927096  \n",
       "last session peak mean      0.949149     1.701716     1.669120  "
      ]
     },
     "execution_count": 22,
     "metadata": {},
     "output_type": "execute_result"
    }
   ],
   "source": [
    "data.set_index('mouse').T"
   ]
  },
  {
   "cell_type": "code",
   "execution_count": 23,
   "metadata": {},
   "outputs": [],
   "source": [
    "def francescas_plot(ax, data, show_err_bar=False, mean_linewidth=4, mean_line_color='blue', legend=False):\n",
    "    \"\"\"Plot lines for all mice from early to late.\n",
    "    \"\"\"\n",
    "    data.plot(ax=ax, color='gray', legend=False)\n",
    "    data.mean(1).plot(ax=ax,linewidth=mean_linewidth,color=mean_line_color)\n",
    "\n",
    "    if show_err_bar:\n",
    "        yerr = data.std(axis=1)\n",
    "\n",
    "        plt.errorbar(np.array([0,1]), data.mean(1), yerr, color=mean_line_color, linewidth=4)\n",
    "\n",
    "    # drop the left and bottom spine for cool looking effect\n",
    "    ax.spines['left'].set_position(('outward', 10))\n",
    "    ax.spines['bottom'].set_position(('outward', 10))\n",
    "    # Hide the right and top spines\n",
    "    ax.spines['right'].set_visible(False)\n",
    "    ax.spines['top'].set_visible(False)\n"
   ]
  },
  {
   "cell_type": "code",
   "execution_count": 24,
   "metadata": {},
   "outputs": [],
   "source": [
    "fig, ax = plt.subplots(figsize=[3.5,4])\n",
    "francescas_plot(ax, data.set_index('mouse').T, mean_line_color='#7FB5B5', mean_linewidth=6, show_err_bar=False)\n",
    "plt.xticks([0, 1], ['First session peak', 'Last session peak'], fontsize=12)\n",
    "plt.ylabel('Z-scored fluorescence', fontsize=12)\n",
    "\n",
    "#significance stars\n",
    "y = data.set_index('mouse').T.to_numpy().max() + .2\n",
    "h = .1\n",
    "plt.plot([0, 0, 1, 1], [y, y+h, y+h, y],c='k',lw=1)\n",
    "ax.text(.5, y+h, '*', ha='center', fontsize=12)\n",
    "ax.set_ylim([0.3, 2.6])\n",
    "plt.tight_layout()"
   ]
  },
  {
   "cell_type": "code",
   "execution_count": 25,
   "metadata": {},
   "outputs": [
    {
     "data": {
      "text/plain": [
       "0.01623631133560853"
      ]
     },
     "execution_count": 25,
     "metadata": {},
     "output_type": "execute_result"
    }
   ],
   "source": [
    "first_data = data['first session peak mean']\n",
    "last_data = data['last session peak mean']\n",
    "stat, pval = stats.ttest_rel(first_data, last_data)\n",
    "#pval *= .5 # multiply by .5 bc doing a one-sided t-test! we have a hypothesis that it's going a certain way \n",
    "pval"
   ]
  },
  {
   "cell_type": "code",
   "execution_count": 56,
   "metadata": {},
   "outputs": [],
   "source": [
    "import os\n",
    "\n",
    "filepath=os.path.join('W:\\\\photometry_2AC\\\\plots', 'nacc_quantified_peak_change_first_last.pdf' )\n",
    "fig.savefig(filepath)"
   ]
  },
  {
   "cell_type": "code",
   "execution_count": null,
   "metadata": {},
   "outputs": [],
   "source": []
  },
  {
   "cell_type": "code",
   "execution_count": 48,
   "metadata": {},
   "outputs": [],
   "source": []
  },
  {
   "cell_type": "code",
   "execution_count": null,
   "metadata": {},
   "outputs": [],
   "source": []
  }
 ],
 "metadata": {
  "kernelspec": {
   "display_name": "Python 3",
   "language": "python",
   "name": "python3"
  },
  "language_info": {
   "codemirror_mode": {
    "name": "ipython",
    "version": 3
   },
   "file_extension": ".py",
   "mimetype": "text/x-python",
   "name": "python",
   "nbconvert_exporter": "python",
   "pygments_lexer": "ipython3",
   "version": "3.7.3"
  }
 },
 "nbformat": 4,
 "nbformat_minor": 4
}
