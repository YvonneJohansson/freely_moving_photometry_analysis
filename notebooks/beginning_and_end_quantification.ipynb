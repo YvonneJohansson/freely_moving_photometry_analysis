{
 "cells": [
  {
   "cell_type": "code",
   "execution_count": 12,
   "metadata": {},
   "outputs": [
    {
     "name": "stdout",
     "output_type": "stream",
     "text": [
      "The autoreload extension is already loaded. To reload it, use:\n",
      "  %reload_ext autoreload\n"
     ]
    }
   ],
   "source": [
    "%load_ext autoreload\n",
    "%autoreload 2\n",
    "%matplotlib qt5\n",
    "# Add modules to the path\n",
    "import sys\n",
    "import os\n",
    "sys.path.insert(0, 'C:\\\\Users\\\\francescag\\\\Documents\\\\SourceTree_repos\\\\Python_git')\n",
    "sys.path.insert(0, 'C:\\\\Users\\\\francescag\\\\Documents\\\\SourceTree_repos')\n",
    "sys.path.insert(0, 'C:\\\\Users\\\\francescag\\\\Documents\\\\SourceTree_repos\\\\Python_git\\\\freely_moving_photometry_analysis')\n",
    "\n",
    "import numpy as np\n",
    "import matplotlib.pyplot as plt\n",
    "import pandas as pd \n",
    "from scipy import stats\n",
    "import pickle\n",
    "from utils.post_processing_utils import remove_manipulation_days, remove_bad_recordings, remove_exps_after_manipulations\n",
    "from data_preprocessing.session_traces_and_mean import get_all_experimental_records, remove_experiments"
   ]
  },
  {
   "cell_type": "code",
   "execution_count": 2,
   "metadata": {},
   "outputs": [],
   "source": [
    "def get_first_and_last_peaks(mouse, records, site='tail'):\n",
    "    experiments_to_process = records[(records['mouse_id'] == mouse) & (records['recording_site'] == site)]\n",
    "    sorted_records = experiments_to_process.sort_values('date').reset_index()\n",
    "    first_recording = sorted_records.iloc[0]\n",
    "    last_recording = sorted_records.iloc[-1]\n",
    "    first_session_peak = get_mean_contra_peak(first_recording)\n",
    "    last_session_peak = get_mean_contra_peak(last_recording)\n",
    "    return first_session_peak, last_session_peak"
   ]
  },
  {
   "cell_type": "code",
   "execution_count": 3,
   "metadata": {},
   "outputs": [],
   "source": [
    "def get_first_and_10000th_peaks(mouse, records, site='tail'):\n",
    "    experiments_to_process = records[(records['mouse_id'] == mouse) & (records['recording_site'] == site)]\n",
    "    sorted_records = experiments_to_process.sort_values('date').reset_index(drop=True)\n",
    "    first_recording = sorted_records.iloc[0]\n",
    "    last_recording_date = get_session_with_10000th_trial(mouse, sorted_records)\n",
    "    last_recording_ind = sorted_records[sorted_records['date'] == last_recording_date].index.values[0]\n",
    "    last_recording = sorted_records.iloc[last_recording_ind]\n",
    "    first_session_peak = get_mean_contra_peak(first_recording)\n",
    "    last_session_peak = get_mean_contra_peak(last_recording)\n",
    "    return(first_session_peak, last_session_peak)"
   ]
  },
  {
   "cell_type": "code",
   "execution_count": 4,
   "metadata": {},
   "outputs": [],
   "source": [
    "def get_mean_contra_peak(session_record):\n",
    "    mouse_id = session_record['mouse_id']\n",
    "    date = session_record['date']\n",
    "    print(mouse, date)\n",
    "    saving_folder = 'W:\\\\photometry_2AC\\\\processed_data\\\\' + mouse_id + '\\\\'\n",
    "    aligned_filename = mouse_id + '_' + date + '_' + 'aligned_traces.p'\n",
    "    save_filename = saving_folder + aligned_filename\n",
    "    session_data = pickle.load(open(save_filename, \"rb\"))\n",
    "    _trial_peaks = session_data.choice_data.contra_data.trial_peaks\n",
    "    trial_peaks = [p if not isinstance(p, np.ndarray) else np.nan for p in _trial_peaks]\n",
    "    mean_peak = np.nanmean(trial_peaks)\n",
    "    return mean_peak"
   ]
  },
  {
   "cell_type": "code",
   "execution_count": 5,
   "metadata": {},
   "outputs": [],
   "source": [
    "from utils.reaction_time_utils import get_bpod_trial_nums_per_session"
   ]
  },
  {
   "cell_type": "code",
   "execution_count": 6,
   "metadata": {},
   "outputs": [],
   "source": [
    "def get_session_with_10000th_trial(mouse, experiments):\n",
    "    dates = experiments[experiments['mouse_id']==mouse]['date'].unique()\n",
    "    session_starts = get_bpod_trial_nums_per_session(mouse, dates)\n",
    "    if session_starts[-1] >= 10000:\n",
    "        last_session_idx = np.where(np.asarray(session_starts) >=10000)[0][0]\n",
    "    else:\n",
    "        last_session_idx = -1\n",
    "    last_session_date = dates[last_session_idx]\n",
    "    return(last_session_date)"
   ]
  },
  {
   "cell_type": "code",
   "execution_count": 7,
   "metadata": {},
   "outputs": [
    {
     "ename": "NameError",
     "evalue": "name 'mice' is not defined",
     "output_type": "error",
     "traceback": [
      "\u001b[1;31m---------------------------------------------------------------------------\u001b[0m",
      "\u001b[1;31mNameError\u001b[0m                                 Traceback (most recent call last)",
      "\u001b[1;32m<ipython-input-7-7cbb8c52221f>\u001b[0m in \u001b[0;36m<module>\u001b[1;34m\u001b[0m\n\u001b[1;32m----> 1\u001b[1;33m \u001b[1;32mfor\u001b[0m \u001b[0mmouse\u001b[0m \u001b[1;32min\u001b[0m \u001b[0mmice\u001b[0m\u001b[1;33m:\u001b[0m\u001b[1;33m\u001b[0m\u001b[1;33m\u001b[0m\u001b[0m\n\u001b[0m\u001b[0;32m      2\u001b[0m     \u001b[0mprint\u001b[0m\u001b[1;33m(\u001b[0m\u001b[0mget_session_with_10000th_trial\u001b[0m\u001b[1;33m(\u001b[0m\u001b[0mmouse\u001b[0m\u001b[1;33m,\u001b[0m \u001b[0mrecords_without_last\u001b[0m\u001b[1;33m)\u001b[0m\u001b[1;33m)\u001b[0m\u001b[1;33m\u001b[0m\u001b[1;33m\u001b[0m\u001b[0m\n",
      "\u001b[1;31mNameError\u001b[0m: name 'mice' is not defined"
     ]
    }
   ],
   "source": [
    "for mouse in mice:\n",
    "    print(get_session_with_10000th_trial(mouse, records_without_last))"
   ]
  },
  {
   "cell_type": "code",
   "execution_count": 13,
   "metadata": {},
   "outputs": [
    {
     "ename": "IndexError",
     "evalue": "index 0 is out of bounds for axis 0 with size 0",
     "output_type": "error",
     "traceback": [
      "\u001b[1;31m---------------------------------------------------------------------------\u001b[0m",
      "\u001b[1;31mIndexError\u001b[0m                                Traceback (most recent call last)",
      "\u001b[1;32m<ipython-input-13-77b90299a4a8>\u001b[0m in \u001b[0;36m<module>\u001b[1;34m\u001b[0m\n\u001b[0;32m      9\u001b[0m \u001b[0mrecords_without_last\u001b[0m \u001b[1;33m=\u001b[0m \u001b[0mremove_experiments\u001b[0m\u001b[1;33m(\u001b[0m\u001b[0mrecords\u001b[0m\u001b[1;33m,\u001b[0m \u001b[0mexps_to_remove\u001b[0m\u001b[1;33m)\u001b[0m\u001b[1;33m\u001b[0m\u001b[1;33m\u001b[0m\u001b[0m\n\u001b[0;32m     10\u001b[0m \u001b[1;32mfor\u001b[0m \u001b[0mmouse\u001b[0m \u001b[1;32min\u001b[0m \u001b[0mmice\u001b[0m\u001b[1;33m:\u001b[0m\u001b[1;33m\u001b[0m\u001b[1;33m\u001b[0m\u001b[0m\n\u001b[1;32m---> 11\u001b[1;33m     \u001b[0mfirst\u001b[0m\u001b[1;33m,\u001b[0m \u001b[0mlast\u001b[0m \u001b[1;33m=\u001b[0m \u001b[0mget_first_and_10000th_peaks\u001b[0m\u001b[1;33m(\u001b[0m\u001b[0mmouse\u001b[0m\u001b[1;33m,\u001b[0m \u001b[0mrecords_without_last\u001b[0m\u001b[1;33m,\u001b[0m \u001b[0msite\u001b[0m\u001b[1;33m=\u001b[0m\u001b[1;34m'Nacc'\u001b[0m\u001b[1;33m)\u001b[0m\u001b[1;33m\u001b[0m\u001b[1;33m\u001b[0m\u001b[0m\n\u001b[0m\u001b[0;32m     12\u001b[0m     \u001b[0mfirst_peaks\u001b[0m\u001b[1;33m.\u001b[0m\u001b[0mappend\u001b[0m\u001b[1;33m(\u001b[0m\u001b[0mfirst\u001b[0m\u001b[1;33m)\u001b[0m\u001b[1;33m\u001b[0m\u001b[1;33m\u001b[0m\u001b[0m\n\u001b[0;32m     13\u001b[0m     \u001b[0mlast_peaks\u001b[0m\u001b[1;33m.\u001b[0m\u001b[0mappend\u001b[0m\u001b[1;33m(\u001b[0m\u001b[0mlast\u001b[0m\u001b[1;33m)\u001b[0m\u001b[1;33m\u001b[0m\u001b[1;33m\u001b[0m\u001b[0m\n",
      "\u001b[1;32m<ipython-input-3-190a19c1c468>\u001b[0m in \u001b[0;36mget_first_and_10000th_peaks\u001b[1;34m(mouse, records, site)\u001b[0m\n\u001b[0;32m      3\u001b[0m     \u001b[0msorted_records\u001b[0m \u001b[1;33m=\u001b[0m \u001b[0mexperiments_to_process\u001b[0m\u001b[1;33m.\u001b[0m\u001b[0msort_values\u001b[0m\u001b[1;33m(\u001b[0m\u001b[1;34m'date'\u001b[0m\u001b[1;33m)\u001b[0m\u001b[1;33m.\u001b[0m\u001b[0mreset_index\u001b[0m\u001b[1;33m(\u001b[0m\u001b[0mdrop\u001b[0m\u001b[1;33m=\u001b[0m\u001b[1;32mTrue\u001b[0m\u001b[1;33m)\u001b[0m\u001b[1;33m\u001b[0m\u001b[1;33m\u001b[0m\u001b[0m\n\u001b[0;32m      4\u001b[0m     \u001b[0mfirst_recording\u001b[0m \u001b[1;33m=\u001b[0m \u001b[0msorted_records\u001b[0m\u001b[1;33m.\u001b[0m\u001b[0miloc\u001b[0m\u001b[1;33m[\u001b[0m\u001b[1;36m0\u001b[0m\u001b[1;33m]\u001b[0m\u001b[1;33m\u001b[0m\u001b[1;33m\u001b[0m\u001b[0m\n\u001b[1;32m----> 5\u001b[1;33m     \u001b[0mlast_recording_date\u001b[0m \u001b[1;33m=\u001b[0m \u001b[0mget_session_with_10000th_trial\u001b[0m\u001b[1;33m(\u001b[0m\u001b[0mmouse\u001b[0m\u001b[1;33m,\u001b[0m \u001b[0msorted_records\u001b[0m\u001b[1;33m)\u001b[0m\u001b[1;33m\u001b[0m\u001b[1;33m\u001b[0m\u001b[0m\n\u001b[0m\u001b[0;32m      6\u001b[0m     \u001b[0mlast_recording_ind\u001b[0m \u001b[1;33m=\u001b[0m \u001b[0msorted_records\u001b[0m\u001b[1;33m[\u001b[0m\u001b[0msorted_records\u001b[0m\u001b[1;33m[\u001b[0m\u001b[1;34m'date'\u001b[0m\u001b[1;33m]\u001b[0m \u001b[1;33m==\u001b[0m \u001b[0mlast_recording_date\u001b[0m\u001b[1;33m]\u001b[0m\u001b[1;33m.\u001b[0m\u001b[0mindex\u001b[0m\u001b[1;33m.\u001b[0m\u001b[0mvalues\u001b[0m\u001b[1;33m[\u001b[0m\u001b[1;36m0\u001b[0m\u001b[1;33m]\u001b[0m\u001b[1;33m\u001b[0m\u001b[1;33m\u001b[0m\u001b[0m\n\u001b[0;32m      7\u001b[0m     \u001b[0mlast_recording\u001b[0m \u001b[1;33m=\u001b[0m \u001b[0msorted_records\u001b[0m\u001b[1;33m.\u001b[0m\u001b[0miloc\u001b[0m\u001b[1;33m[\u001b[0m\u001b[0mlast_recording_ind\u001b[0m\u001b[1;33m]\u001b[0m\u001b[1;33m\u001b[0m\u001b[1;33m\u001b[0m\u001b[0m\n",
      "\u001b[1;32m<ipython-input-6-1abc424ce9ab>\u001b[0m in \u001b[0;36mget_session_with_10000th_trial\u001b[1;34m(mouse, experiments)\u001b[0m\n\u001b[0;32m      1\u001b[0m \u001b[1;32mdef\u001b[0m \u001b[0mget_session_with_10000th_trial\u001b[0m\u001b[1;33m(\u001b[0m\u001b[0mmouse\u001b[0m\u001b[1;33m,\u001b[0m \u001b[0mexperiments\u001b[0m\u001b[1;33m)\u001b[0m\u001b[1;33m:\u001b[0m\u001b[1;33m\u001b[0m\u001b[1;33m\u001b[0m\u001b[0m\n\u001b[0;32m      2\u001b[0m     \u001b[0mdates\u001b[0m \u001b[1;33m=\u001b[0m \u001b[0mexperiments\u001b[0m\u001b[1;33m[\u001b[0m\u001b[0mexperiments\u001b[0m\u001b[1;33m[\u001b[0m\u001b[1;34m'mouse_id'\u001b[0m\u001b[1;33m]\u001b[0m\u001b[1;33m==\u001b[0m\u001b[0mmouse\u001b[0m\u001b[1;33m]\u001b[0m\u001b[1;33m[\u001b[0m\u001b[1;34m'date'\u001b[0m\u001b[1;33m]\u001b[0m\u001b[1;33m.\u001b[0m\u001b[0munique\u001b[0m\u001b[1;33m(\u001b[0m\u001b[1;33m)\u001b[0m\u001b[1;33m\u001b[0m\u001b[1;33m\u001b[0m\u001b[0m\n\u001b[1;32m----> 3\u001b[1;33m     \u001b[0msession_starts\u001b[0m \u001b[1;33m=\u001b[0m \u001b[0mget_bpod_trial_nums_per_session\u001b[0m\u001b[1;33m(\u001b[0m\u001b[0mmouse\u001b[0m\u001b[1;33m,\u001b[0m \u001b[0mdates\u001b[0m\u001b[1;33m)\u001b[0m\u001b[1;33m\u001b[0m\u001b[1;33m\u001b[0m\u001b[0m\n\u001b[0m\u001b[0;32m      4\u001b[0m     \u001b[1;32mif\u001b[0m \u001b[0msession_starts\u001b[0m\u001b[1;33m[\u001b[0m\u001b[1;33m-\u001b[0m\u001b[1;36m1\u001b[0m\u001b[1;33m]\u001b[0m \u001b[1;33m>=\u001b[0m \u001b[1;36m10000\u001b[0m\u001b[1;33m:\u001b[0m\u001b[1;33m\u001b[0m\u001b[1;33m\u001b[0m\u001b[0m\n\u001b[0;32m      5\u001b[0m         \u001b[0mlast_session_idx\u001b[0m \u001b[1;33m=\u001b[0m \u001b[0mnp\u001b[0m\u001b[1;33m.\u001b[0m\u001b[0mwhere\u001b[0m\u001b[1;33m(\u001b[0m\u001b[0mnp\u001b[0m\u001b[1;33m.\u001b[0m\u001b[0masarray\u001b[0m\u001b[1;33m(\u001b[0m\u001b[0msession_starts\u001b[0m\u001b[1;33m)\u001b[0m \u001b[1;33m>=\u001b[0m\u001b[1;36m10000\u001b[0m\u001b[1;33m)\u001b[0m\u001b[1;33m[\u001b[0m\u001b[1;36m0\u001b[0m\u001b[1;33m]\u001b[0m\u001b[1;33m[\u001b[0m\u001b[1;36m0\u001b[0m\u001b[1;33m]\u001b[0m\u001b[1;33m\u001b[0m\u001b[1;33m\u001b[0m\u001b[0m\n",
      "\u001b[1;32m~\\Documents\\SourceTree_repos\\Python_git\\freely_moving_photometry_analysis\\utils\\reaction_time_utils.py\u001b[0m in \u001b[0;36mget_bpod_trial_nums_per_session\u001b[1;34m(mouse, dates)\u001b[0m\n\u001b[0;32m    151\u001b[0m     \u001b[0msession_first_trials\u001b[0m \u001b[1;33m=\u001b[0m \u001b[1;33m[\u001b[0m\u001b[1;33m]\u001b[0m\u001b[1;33m\u001b[0m\u001b[1;33m\u001b[0m\u001b[0m\n\u001b[0;32m    152\u001b[0m     \u001b[1;32mfor\u001b[0m \u001b[0msession\u001b[0m \u001b[1;32min\u001b[0m \u001b[0msessions\u001b[0m\u001b[1;33m:\u001b[0m\u001b[1;33m\u001b[0m\u001b[1;33m\u001b[0m\u001b[0m\n\u001b[1;32m--> 153\u001b[1;33m         \u001b[0msession_first_trial\u001b[0m \u001b[1;33m=\u001b[0m \u001b[0mbehavioural_stats\u001b[0m\u001b[1;33m[\u001b[0m\u001b[0mbehavioural_stats\u001b[0m\u001b[1;33m[\u001b[0m\u001b[1;34m'SessionTime'\u001b[0m\u001b[1;33m]\u001b[0m\u001b[1;33m.\u001b[0m\u001b[0mstr\u001b[0m\u001b[1;33m.\u001b[0m\u001b[0mcontains\u001b[0m\u001b[1;33m(\u001b[0m\u001b[0msession\u001b[0m\u001b[1;33m)\u001b[0m\u001b[1;33m]\u001b[0m\u001b[1;33m.\u001b[0m\u001b[0mindex\u001b[0m\u001b[1;33m[\u001b[0m\u001b[1;36m0\u001b[0m\u001b[1;33m]\u001b[0m\u001b[1;33m\u001b[0m\u001b[1;33m\u001b[0m\u001b[0m\n\u001b[0m\u001b[0;32m    154\u001b[0m         \u001b[0msession_first_trials\u001b[0m\u001b[1;33m.\u001b[0m\u001b[0mappend\u001b[0m\u001b[1;33m(\u001b[0m\u001b[0msession_first_trial\u001b[0m\u001b[1;33m)\u001b[0m\u001b[1;33m\u001b[0m\u001b[1;33m\u001b[0m\u001b[0m\n\u001b[0;32m    155\u001b[0m     \u001b[1;32mreturn\u001b[0m \u001b[0msession_first_trials\u001b[0m\u001b[1;33m\u001b[0m\u001b[1;33m\u001b[0m\u001b[0m\n",
      "\u001b[1;32m~\\AppData\\Local\\Continuum\\miniconda3\\lib\\site-packages\\pandas\\core\\indexes\\base.py\u001b[0m in \u001b[0;36m__getitem__\u001b[1;34m(self, key)\u001b[0m\n\u001b[0;32m   3928\u001b[0m         \u001b[1;32mif\u001b[0m \u001b[0mis_scalar\u001b[0m\u001b[1;33m(\u001b[0m\u001b[0mkey\u001b[0m\u001b[1;33m)\u001b[0m\u001b[1;33m:\u001b[0m\u001b[1;33m\u001b[0m\u001b[1;33m\u001b[0m\u001b[0m\n\u001b[0;32m   3929\u001b[0m             \u001b[0mkey\u001b[0m \u001b[1;33m=\u001b[0m \u001b[0mcom\u001b[0m\u001b[1;33m.\u001b[0m\u001b[0mcast_scalar_indexer\u001b[0m\u001b[1;33m(\u001b[0m\u001b[0mkey\u001b[0m\u001b[1;33m)\u001b[0m\u001b[1;33m\u001b[0m\u001b[1;33m\u001b[0m\u001b[0m\n\u001b[1;32m-> 3930\u001b[1;33m             \u001b[1;32mreturn\u001b[0m \u001b[0mgetitem\u001b[0m\u001b[1;33m(\u001b[0m\u001b[0mkey\u001b[0m\u001b[1;33m)\u001b[0m\u001b[1;33m\u001b[0m\u001b[1;33m\u001b[0m\u001b[0m\n\u001b[0m\u001b[0;32m   3931\u001b[0m \u001b[1;33m\u001b[0m\u001b[0m\n\u001b[0;32m   3932\u001b[0m         \u001b[1;32mif\u001b[0m \u001b[0misinstance\u001b[0m\u001b[1;33m(\u001b[0m\u001b[0mkey\u001b[0m\u001b[1;33m,\u001b[0m \u001b[0mslice\u001b[0m\u001b[1;33m)\u001b[0m\u001b[1;33m:\u001b[0m\u001b[1;33m\u001b[0m\u001b[1;33m\u001b[0m\u001b[0m\n",
      "\u001b[1;31mIndexError\u001b[0m: index 0 is out of bounds for axis 0 with size 0"
     ]
    }
   ],
   "source": [
    "mice = ['SNL_photo28', 'SNL_photo30', 'SNL_photo31', 'SNL_photo32', 'SNL_photo33', 'SNL_photo34', 'SNL_photo35']\n",
    "records = get_all_experimental_records()\n",
    "post_state_change_dates =   ['20201211', '20201214','20201216', '20201218', '20201219', '20201221', '20201222']\n",
    "first_peaks = []\n",
    "last_peaks = []\n",
    "exps_to_remove = {}\n",
    "for mouse in mice:\n",
    "    exps_to_remove[mouse] = post_state_change_dates\n",
    "records_without_last = remove_experiments(records, exps_to_remove)\n",
    "for mouse in mice:\n",
    "    first, last = get_first_and_10000th_peaks(mouse, records_without_last, site='Nacc')\n",
    "    first_peaks.append(first)\n",
    "    last_peaks.append(last)"
   ]
  },
  {
   "cell_type": "code",
   "execution_count": 21,
   "metadata": {},
   "outputs": [
    {
     "name": "stdout",
     "output_type": "stream",
     "text": [
      "removing SNL_photo18: ['20200318' '20200320' '20200322']\n"
     ]
    }
   ],
   "source": [
    "all_experiments = remove_exps_after_manipulations(records_without_last, [mouse])"
   ]
  },
  {
   "cell_type": "code",
   "execution_count": 22,
   "metadata": {},
   "outputs": [
    {
     "name": "stdout",
     "output_type": "stream",
     "text": [
      "removing SNL_photo18: ['20200318' '20200320' '20200322']\n",
      "Int64Index([34, 208, 514, 554], dtype='int64')\n",
      "removing SNL_photo16: ['20200313' '20200315' '20200318' '20200320' '20200322']\n",
      "Int64Index([34, 52, 208, 514, 554], dtype='int64')\n",
      "SNL_photo16 20200210\n",
      "SNL_photo16 20200307\n",
      "removing SNL_photo17: ['20200311' '20200313']\n",
      "Int64Index([34, 52, 208, 514, 554], dtype='int64')\n",
      "SNL_photo17 20200204\n",
      "SNL_photo17 20200310\n",
      "removing SNL_photo18: ['20200318' '20200320' '20200322']\n",
      "Int64Index([34, 208, 514, 554], dtype='int64')\n",
      "SNL_photo18 20200226\n",
      "SNL_photo18 20200316\n",
      "Int64Index([34, 52, 208, 514, 554], dtype='int64')\n",
      "SNL_photo21 20200806\n",
      "SNL_photo21 20200908\n",
      "Int64Index([34, 52, 208, 514, 554], dtype='int64')\n",
      "SNL_photo22 20200806\n",
      "SNL_photo22 20200827\n",
      "Int64Index([34, 52, 208, 514, 554], dtype='int64')\n",
      "SNL_photo26 20200808\n",
      "SNL_photo26 20200908\n",
      "removing SNL_photo37: ['20210505' '20210506' '20210507' '20210512' '20210518' '20210519'\n",
      " '20210520' '20210521' '20210525' '20210526' '20210527' '20210603'\n",
      " '20210609' '20210610' '20210611' '20210625']\n",
      "Int64Index([34, 52, 208, 514, 554], dtype='int64')\n",
      "SNL_photo37 20210419\n",
      "SNL_photo37 20210429\n",
      "removing SNL_photo43: ['20210505' '20210506' '20210507' '20210512' '20210518' '20210519'\n",
      " '20210520' '20210521' '20210525' '20210526' '20210527' '20210603'\n",
      " '20210609' '20210610' '20210611' '20210625']\n",
      "Int64Index([34, 52, 208, 514, 554], dtype='int64')\n",
      "SNL_photo43 20210419\n",
      "SNL_photo43 20210429\n",
      "removing SNL_photo44: ['20210518' '20210519' '20210520' '20210525' '20210526' '20210608'\n",
      " '20210609' '20210610' '20210611']\n",
      "Int64Index([34, 52, 208, 514, 554], dtype='int64')\n",
      "SNL_photo44 20210427\n",
      "SNL_photo44 20210514\n"
     ]
    }
   ],
   "source": [
    "mice = ['SNL_photo16', 'SNL_photo17', 'SNL_photo18', 'SNL_photo21', 'SNL_photo22', 'SNL_photo26', 'SNL_photo37', 'SNL_photo43', 'SNL_photo44']\n",
    "records = get_all_experimental_records()\n",
    "post_state_change_dates =  ['20200911', '20200915', '20200917', '20200918', '20200921', '20200829', '20200830', '20200831', '20201008','20201009', '20201007']\n",
    "records_without_last = remove_experiments(records, {'SNL_photo17': ['20200317'], 'SNL_photo21': ['20201008','20201009','20200911','20200805', '20200915', '20200917', '20200918', '20200921','20200829', '20200830', '20200831','20201007'], 'SNL_photo22': post_state_change_dates, 'SNL_photo26': post_state_change_dates})\n",
    "all_experiments = remove_exps_after_manipulations(records_without_last, [mouse])\n",
    "all_experiments = remove_bad_recordings(all_experiments)\n",
    "first_peaks = []\n",
    "last_peaks = []\n",
    "for mouse in mice:\n",
    "    all_experiments = remove_exps_after_manipulations(records_without_last, [mouse])\n",
    "    all_experiments = remove_bad_recordings(all_experiments)\n",
    "    first, last = get_first_and_10000th_peaks(mouse, all_experiments, site='tail')\n",
    "    first_peaks.append(first)\n",
    "    last_peaks.append(last)\n"
   ]
  },
  {
   "cell_type": "code",
   "execution_count": 19,
   "metadata": {},
   "outputs": [
    {
     "name": "stdout",
     "output_type": "stream",
     "text": [
      "SNL_photo28 20201118\n",
      "SNL_photo28 20201209\n",
      "SNL_photo30 20201117\n",
      "SNL_photo30 20201209\n",
      "SNL_photo31 20201118\n",
      "SNL_photo31 20201209\n",
      "SNL_photo32 20201118\n",
      "SNL_photo32 20201209\n",
      "SNL_photo33 20201117\n",
      "SNL_photo33 20201209\n",
      "SNL_photo34 20201118\n",
      "SNL_photo34 20201209\n",
      "SNL_photo35 20201118\n",
      "SNL_photo35 20201210\n"
     ]
    }
   ],
   "source": [
    "mice = ['SNL_photo28', 'SNL_photo30', 'SNL_photo31', 'SNL_photo32', 'SNL_photo33', 'SNL_photo34', 'SNL_photo35']\n",
    "records = get_all_experimental_records()\n",
    "post_state_change_dates =   ['20201211', '20201214','20201216', '20201218', '20201219', '20201221', '20201222']\n",
    "\n",
    "exps_to_remove = {}\n",
    "for mouse in mice:\n",
    "    exps_to_remove[mouse] = post_state_change_dates\n",
    "records_without_last = remove_experiments(records, exps_to_remove)\n",
    "first_peaks = []\n",
    "last_peaks = []\n",
    "for mouse in mice:\n",
    "    first, last = get_first_and_last_peaks(mouse, records_without_last, site='Nacc')\n",
    "    first_peaks.append(first)\n",
    "    last_peaks.append(last)"
   ]
  },
  {
   "cell_type": "code",
   "execution_count": 23,
   "metadata": {},
   "outputs": [],
   "source": [
    "data = pd.DataFrame({'mouse': mice, 'first session peak mean': first_peaks, 'last session peak mean': last_peaks})"
   ]
  },
  {
   "cell_type": "code",
   "execution_count": 24,
   "metadata": {},
   "outputs": [
    {
     "data": {
      "text/html": [
       "<div>\n",
       "<style scoped>\n",
       "    .dataframe tbody tr th:only-of-type {\n",
       "        vertical-align: middle;\n",
       "    }\n",
       "\n",
       "    .dataframe tbody tr th {\n",
       "        vertical-align: top;\n",
       "    }\n",
       "\n",
       "    .dataframe thead th {\n",
       "        text-align: right;\n",
       "    }\n",
       "</style>\n",
       "<table border=\"1\" class=\"dataframe\">\n",
       "  <thead>\n",
       "    <tr style=\"text-align: right;\">\n",
       "      <th></th>\n",
       "      <th>mouse</th>\n",
       "      <th>first session peak mean</th>\n",
       "      <th>last session peak mean</th>\n",
       "    </tr>\n",
       "  </thead>\n",
       "  <tbody>\n",
       "    <tr>\n",
       "      <th>0</th>\n",
       "      <td>SNL_photo16</td>\n",
       "      <td>1.532078</td>\n",
       "      <td>1.174784</td>\n",
       "    </tr>\n",
       "    <tr>\n",
       "      <th>1</th>\n",
       "      <td>SNL_photo17</td>\n",
       "      <td>1.881998</td>\n",
       "      <td>0.391713</td>\n",
       "    </tr>\n",
       "    <tr>\n",
       "      <th>2</th>\n",
       "      <td>SNL_photo18</td>\n",
       "      <td>1.436055</td>\n",
       "      <td>1.081465</td>\n",
       "    </tr>\n",
       "    <tr>\n",
       "      <th>3</th>\n",
       "      <td>SNL_photo21</td>\n",
       "      <td>1.511586</td>\n",
       "      <td>1.014487</td>\n",
       "    </tr>\n",
       "    <tr>\n",
       "      <th>4</th>\n",
       "      <td>SNL_photo22</td>\n",
       "      <td>1.386432</td>\n",
       "      <td>1.376459</td>\n",
       "    </tr>\n",
       "    <tr>\n",
       "      <th>5</th>\n",
       "      <td>SNL_photo26</td>\n",
       "      <td>1.767145</td>\n",
       "      <td>1.376231</td>\n",
       "    </tr>\n",
       "    <tr>\n",
       "      <th>6</th>\n",
       "      <td>SNL_photo37</td>\n",
       "      <td>2.014808</td>\n",
       "      <td>1.288042</td>\n",
       "    </tr>\n",
       "    <tr>\n",
       "      <th>7</th>\n",
       "      <td>SNL_photo43</td>\n",
       "      <td>1.313025</td>\n",
       "      <td>0.916336</td>\n",
       "    </tr>\n",
       "    <tr>\n",
       "      <th>8</th>\n",
       "      <td>SNL_photo44</td>\n",
       "      <td>1.397817</td>\n",
       "      <td>1.283892</td>\n",
       "    </tr>\n",
       "  </tbody>\n",
       "</table>\n",
       "</div>"
      ],
      "text/plain": [
       "         mouse  first session peak mean  last session peak mean\n",
       "0  SNL_photo16                 1.532078                1.174784\n",
       "1  SNL_photo17                 1.881998                0.391713\n",
       "2  SNL_photo18                 1.436055                1.081465\n",
       "3  SNL_photo21                 1.511586                1.014487\n",
       "4  SNL_photo22                 1.386432                1.376459\n",
       "5  SNL_photo26                 1.767145                1.376231\n",
       "6  SNL_photo37                 2.014808                1.288042\n",
       "7  SNL_photo43                 1.313025                0.916336\n",
       "8  SNL_photo44                 1.397817                1.283892"
      ]
     },
     "execution_count": 24,
     "metadata": {},
     "output_type": "execute_result"
    }
   ],
   "source": [
    "data"
   ]
  },
  {
   "cell_type": "code",
   "execution_count": 25,
   "metadata": {},
   "outputs": [
    {
     "data": {
      "text/html": [
       "<div>\n",
       "<style scoped>\n",
       "    .dataframe tbody tr th:only-of-type {\n",
       "        vertical-align: middle;\n",
       "    }\n",
       "\n",
       "    .dataframe tbody tr th {\n",
       "        vertical-align: top;\n",
       "    }\n",
       "\n",
       "    .dataframe thead th {\n",
       "        text-align: right;\n",
       "    }\n",
       "</style>\n",
       "<table border=\"1\" class=\"dataframe\">\n",
       "  <thead>\n",
       "    <tr style=\"text-align: right;\">\n",
       "      <th>mouse</th>\n",
       "      <th>SNL_photo16</th>\n",
       "      <th>SNL_photo17</th>\n",
       "      <th>SNL_photo18</th>\n",
       "      <th>SNL_photo21</th>\n",
       "      <th>SNL_photo22</th>\n",
       "      <th>SNL_photo26</th>\n",
       "      <th>SNL_photo37</th>\n",
       "      <th>SNL_photo43</th>\n",
       "      <th>SNL_photo44</th>\n",
       "    </tr>\n",
       "  </thead>\n",
       "  <tbody>\n",
       "    <tr>\n",
       "      <th>first session peak mean</th>\n",
       "      <td>1.532078</td>\n",
       "      <td>1.881998</td>\n",
       "      <td>1.436055</td>\n",
       "      <td>1.511586</td>\n",
       "      <td>1.386432</td>\n",
       "      <td>1.767145</td>\n",
       "      <td>2.014808</td>\n",
       "      <td>1.313025</td>\n",
       "      <td>1.397817</td>\n",
       "    </tr>\n",
       "    <tr>\n",
       "      <th>last session peak mean</th>\n",
       "      <td>1.174784</td>\n",
       "      <td>0.391713</td>\n",
       "      <td>1.081465</td>\n",
       "      <td>1.014487</td>\n",
       "      <td>1.376459</td>\n",
       "      <td>1.376231</td>\n",
       "      <td>1.288042</td>\n",
       "      <td>0.916336</td>\n",
       "      <td>1.283892</td>\n",
       "    </tr>\n",
       "  </tbody>\n",
       "</table>\n",
       "</div>"
      ],
      "text/plain": [
       "mouse                    SNL_photo16  SNL_photo17  SNL_photo18  SNL_photo21  \\\n",
       "first session peak mean     1.532078     1.881998     1.436055     1.511586   \n",
       "last session peak mean      1.174784     0.391713     1.081465     1.014487   \n",
       "\n",
       "mouse                    SNL_photo22  SNL_photo26  SNL_photo37  SNL_photo43  \\\n",
       "first session peak mean     1.386432     1.767145     2.014808     1.313025   \n",
       "last session peak mean      1.376459     1.376231     1.288042     0.916336   \n",
       "\n",
       "mouse                    SNL_photo44  \n",
       "first session peak mean     1.397817  \n",
       "last session peak mean      1.283892  "
      ]
     },
     "execution_count": 25,
     "metadata": {},
     "output_type": "execute_result"
    }
   ],
   "source": [
    "data.set_index('mouse').T"
   ]
  },
  {
   "cell_type": "code",
   "execution_count": 26,
   "metadata": {},
   "outputs": [],
   "source": [
    "def francescas_plot(ax, data, show_err_bar=False, mean_linewidth=4, mean_line_color='blue', legend=False):\n",
    "    \"\"\"Plot lines for all mice from early to late.\n",
    "    \"\"\"\n",
    "    data.plot(ax=ax, color='gray', legend=False)\n",
    "    data.mean(1).plot(ax=ax,linewidth=mean_linewidth,color=mean_line_color)\n",
    "\n",
    "    if show_err_bar:\n",
    "        yerr = data.std(axis=1)\n",
    "\n",
    "        plt.errorbar(np.array([0,1]), data.mean(1), yerr, color=mean_line_color, linewidth=4)\n",
    "\n",
    "    # drop the left and bottom spine for cool looking effect\n",
    "    ax.spines['left'].set_position(('outward', 10))\n",
    "    ax.spines['bottom'].set_position(('outward', 10))\n",
    "    # Hide the right and top spines\n",
    "    ax.spines['right'].set_visible(False)\n",
    "    ax.spines['top'].set_visible(False)\n"
   ]
  },
  {
   "cell_type": "code",
   "execution_count": 29,
   "metadata": {},
   "outputs": [],
   "source": [
    "fig, ax = plt.subplots(figsize=[3.5,4])\n",
    "francescas_plot(ax, data.set_index('mouse').T, mean_line_color='#7FB5B5', mean_linewidth=6, show_err_bar=False)\n",
    "plt.xticks([0, 1], ['First session peak', 'Last session peak'], fontsize=12)\n",
    "plt.ylabel('Z-scored fluorescence', fontsize=12)\n",
    "\n",
    "#significance stars\n",
    "y = data.set_index('mouse').T.to_numpy().max() + .2\n",
    "h = .1\n",
    "plt.plot([0, 0, 1, 1], [y, y+h, y+h, y],c='k',lw=1)\n",
    "ax.text(.5, y+h, '**', ha='center', fontsize=12)\n",
    "ax.set_ylim([0.3, 2.6])\n",
    "plt.tight_layout()"
   ]
  },
  {
   "cell_type": "code",
   "execution_count": 28,
   "metadata": {},
   "outputs": [
    {
     "data": {
      "text/plain": [
       "0.009949922700453317"
      ]
     },
     "execution_count": 28,
     "metadata": {},
     "output_type": "execute_result"
    }
   ],
   "source": [
    "first_data = data['first session peak mean']\n",
    "last_data = data['last session peak mean']\n",
    "stat, pval = stats.ttest_rel(first_data, last_data)\n",
    "#pval *= .5 # multiply by .5 bc doing a one-sided t-test! we have a hypothesis that it's going a certain way \n",
    "pval"
   ]
  },
  {
   "cell_type": "code",
   "execution_count": 56,
   "metadata": {},
   "outputs": [],
   "source": [
    "import os\n",
    "\n",
    "filepath=os.path.join('W:\\\\photometry_2AC\\\\plots', 'nacc_quantified_peak_change_first_last.pdf' )\n",
    "fig.savefig(filepath)"
   ]
  },
  {
   "cell_type": "code",
   "execution_count": null,
   "metadata": {},
   "outputs": [],
   "source": []
  },
  {
   "cell_type": "code",
   "execution_count": 48,
   "metadata": {},
   "outputs": [],
   "source": []
  },
  {
   "cell_type": "code",
   "execution_count": null,
   "metadata": {},
   "outputs": [],
   "source": []
  }
 ],
 "metadata": {
  "kernelspec": {
   "display_name": "Python 3",
   "language": "python",
   "name": "python3"
  },
  "language_info": {
   "codemirror_mode": {
    "name": "ipython",
    "version": 3
   },
   "file_extension": ".py",
   "mimetype": "text/x-python",
   "name": "python",
   "nbconvert_exporter": "python",
   "pygments_lexer": "ipython3",
   "version": "3.7.3"
  }
 },
 "nbformat": 4,
 "nbformat_minor": 4
}
