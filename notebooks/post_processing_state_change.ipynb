{
 "cells": [
  {
   "cell_type": "code",
   "execution_count": 127,
   "metadata": {},
   "outputs": [
    {
     "name": "stdout",
     "output_type": "stream",
     "text": [
      "The autoreload extension is already loaded. To reload it, use:\n",
      "  %reload_ext autoreload\n"
     ]
    }
   ],
   "source": [
    "%load_ext autoreload\n",
    "%autoreload 2\n",
    "%matplotlib qt5\n",
    "# Add modules to the path\n",
    "import sys\n",
    "sys.path.insert(0, 'C:\\\\Users\\\\francescag\\\\Documents\\\\SourceTree_repos\\\\Python_git')\n",
    "sys.path.insert(0, 'C:\\\\Users\\\\francescag\\\\Documents\\\\SourceTree_repos')\n",
    "sys.path.insert(0, 'C:\\\\Users\\\\francescag\\\\Documents\\\\SourceTree_repos\\\\Python_git\\\\freely_moving_photometry_analysis')\n",
    "import copy\n",
    "import matplotlib.pyplot as plt\n",
    "import matplotlib.cm as cm\n",
    "import numpy as np\n",
    "import os\n",
    "import pandas as pd\n",
    "import pickle\n",
    "from scipy.signal import decimate\n",
    "from utils.plotting import HeatMapParams\n",
    "from utils.plotting import heat_map_and_mean, plot_one_side, calculate_error_bars\n",
    "from utils.plotting import get_photometry_around_event\n",
    "from scipy import stats\n",
    "from utils.individual_trial_analysis_utils import ZScoredTraces, SessionData, CueAlignedData\n",
    "from utils.post_processing_utils import *\n",
    "import seaborn as sns"
   ]
  },
  {
   "cell_type": "code",
   "execution_count": 163,
   "metadata": {},
   "outputs": [],
   "source": [
    "mouse_id = 'SNL_photo21'\n",
    "date = '20200915'\n",
    "all_experiments = get_all_experimental_records()\n",
    "experiment_to_process = all_experiments[(all_experiments['date'] == date) & (all_experiments['mouse_id'] == mouse_id)]\n",
    "session_data, trial_data = open_experiment(experiment_to_process)"
   ]
  },
  {
   "cell_type": "code",
   "execution_count": 60,
   "metadata": {},
   "outputs": [
    {
     "name": "stdout",
     "output_type": "stream",
     "text": [
      "(236, 160000)\n",
      "(296, 160000)\n"
     ]
    }
   ],
   "source": [
    "params = {'state_type_of_interest': 5,\n",
    "    'outcome': 2,\n",
    "    'last_outcome': 0,  # NOT USED CURRENTLY\n",
    "    'no_repeats' : 0,\n",
    "    'last_response': 0,\n",
    "    'align_to' : 'Time start',\n",
    "    'instance': -1,\n",
    "    'plot_range': [-6, 6],\n",
    "    'first_choice_correct': 0,\n",
    "     'cue': 'None'}\n",
    "test = CustomAlignedData(session_data, params)"
   ]
  },
  {
   "cell_type": "code",
   "execution_count": 66,
   "metadata": {},
   "outputs": [],
   "source": [
    "trials_pre_state_change = np.where(test.contra_data.trial_nums <=149)[0]\n",
    "trials_post_state_change = np.where(test.contra_data.trial_nums >149)[0]"
   ]
  },
  {
   "cell_type": "code",
   "execution_count": 67,
   "metadata": {},
   "outputs": [],
   "source": [
    "peaks = test.contra_data.trial_peaks\n",
    "pre_peaks = [peaks[trial] for trial in trials_pre_state_change if peaks[trial].size > 0]\n",
    "post_peaks = [peaks[trial] for trial in trials_post_state_change  if peaks[trial].size > 0]"
   ]
  },
  {
   "cell_type": "code",
   "execution_count": 68,
   "metadata": {},
   "outputs": [
    {
     "data": {
      "text/plain": [
       "[<matplotlib.lines.Line2D at 0x25071208>]"
      ]
     },
     "execution_count": 68,
     "metadata": {},
     "output_type": "execute_result"
    }
   ],
   "source": [
    "# example mouse plot\n",
    "fig, axs = plt.subplots(2,2)\n",
    "heat_im = axs[0,0].imshow(test.contra_data.sorted_traces[ trials_pre_state_change,:], aspect='auto',\n",
    "                            extent=[-10, 10, trials_pre_state_change.shape[0], 0], cmap='jet')\n",
    "axs[0,0].scatter(test.contra_data.reaction_times[trials_pre_state_change],\n",
    "                   np.arange(trials_pre_state_change.shape[0]) + 0.5, color='w', s=1)\n",
    "heat_im = axs[1, 0].imshow(test.contra_data.sorted_traces[ trials_post_state_change,:], aspect='auto',\n",
    "                            extent=[-10, 10, trials_post_state_change.shape[0], 0], cmap='jet')\n",
    "axs[1,0].scatter(test.contra_data.reaction_times[trials_post_state_change],\n",
    "                   np.arange(trials_post_state_change.shape[0]) + 0.5, color='w', s=1)\n",
    "axs[0,0].set_xlim([-2,2])\n",
    "axs[1,0].set_xlim([-2,2])\n",
    "axs[0,0].axvline([0], color='k')\n",
    "axs[1,0].axvline([0], color='k')\n",
    "\n",
    "\n",
    "axs[0,1].plot(test.contra_data.time_points, np.mean(test.contra_data.sorted_traces[ trials_pre_state_change,:], axis=0))\n",
    "axs[1,1].plot(test.contra_data.time_points, np.mean(test.contra_data.sorted_traces[ trials_post_state_change,:], axis=0))"
   ]
  },
  {
   "cell_type": "code",
   "execution_count": 69,
   "metadata": {},
   "outputs": [
    {
     "name": "stderr",
     "output_type": "stream",
     "text": [
      "Bootstrapping...: 100%|███████████████████| 1000/1000 [00:05<00:00, 172.10it/s]\n",
      "Bootstrapping...: 100%|████████████████████| 1000/1000 [00:14<00:00, 69.92it/s]\n"
     ]
    }
   ],
   "source": [
    "font = {'size'   : 14}\n",
    "matplotlib.rc('font', **font)\n",
    "\n",
    "fig, axs1 = plt.subplots(1,1)\n",
    "colours = cm.viridis(np.linspace(0.2, 0.7, 2))\n",
    "pre_mean_trace = decimate(np.mean(test.contra_data.sorted_traces[trials_pre_state_change,:], axis=0), 10)\n",
    "post_mean_trace = decimate(np.mean(test.contra_data.sorted_traces[ trials_post_state_change,:], axis=0), 10)\n",
    "time_points = decimate(test.contra_data.time_points, 10)\n",
    "traces = decimate(test.contra_data.sorted_traces, 10)\n",
    "axs1.plot(time_points, pre_mean_trace, label='pre', color=colours[0])\n",
    "pre_error_bar_lower, pre_error_bar_upper = calculate_error_bars(pre_mean_trace,\n",
    "                                                        traces[trials_pre_state_change,:],\n",
    "                                                        error_bar_method='ci')\n",
    "                  \n",
    "axs1.fill_between(time_points, pre_error_bar_lower, pre_error_bar_upper, alpha=0.4, linewidth=0, color=colours[0])\n",
    "axs1.plot(time_points,post_mean_trace, label='post', color=colours[1])\n",
    "post_error_bar_lower, post_error_bar_upper = calculate_error_bars(post_mean_trace,\n",
    "                                                        traces[ trials_post_state_change,:],\n",
    "                                                        error_bar_method='ci')\n",
    "axs1.fill_between(time_points, post_error_bar_lower, post_error_bar_upper, alpha=0.4, linewidth=0, color=colours[1])\n",
    "axs1.set_xlim([-2,2])\n",
    "axs1.axvline([0], color='k')\n",
    "axs1.set_ylabel('z-scored fluorescence')\n",
    "axs1.set_xlabel('Time (s)')\n",
    "\n",
    "axs1.spines['right'].set_visible(False)\n",
    "axs1.spines['top'].set_visible(False)\n",
    "plt.legend()\n",
    "plt.tight_layout()\n",
    "        \n"
   ]
  },
  {
   "cell_type": "code",
   "execution_count": 128,
   "metadata": {},
   "outputs": [],
   "source": [
    "# group data\n",
    "processed_data_dir = os.path.join('W:\\\\photometry_2AC\\\\processed_data\\\\state_change_data')\n",
    "state_change_data_file = os.path.join(processed_data_dir, 'state_change_data_all_mice.csv')\n",
    "all_session_change_data = pd.read_pickle(state_change_data_file)"
   ]
  },
  {
   "cell_type": "code",
   "execution_count": 129,
   "metadata": {},
   "outputs": [
    {
     "data": {
      "text/plain": [
       "0.08588807590568354"
      ]
     },
     "execution_count": 129,
     "metadata": {},
     "output_type": "execute_result"
    }
   ],
   "source": [
    "pre_data = df1[df1['trial type']=='pre']['peak size']\n",
    "post_data = df1[df1['trial type']=='post']['peak size']\n",
    "stat, pval = stats.ttest_rel(pre_data, post_data)\n",
    "pval *= .5 # multiply by .5 bc doing a one-sided t-test! we have a hypothesis that it's going a certain way \n",
    "pval"
   ]
  },
  {
   "cell_type": "code",
   "execution_count": 156,
   "metadata": {},
   "outputs": [],
   "source": [
    "df_for_plot = df1.pivot(index='trial type', columns='mouse', values='peak size').sort_values('trial type', ascending=False)"
   ]
  },
  {
   "cell_type": "code",
   "execution_count": 157,
   "metadata": {},
   "outputs": [],
   "source": [
    "def francescas_plot(ax, data, show_err_bar=False, mean_linewidth=4, mean_line_color='blue', legend=False):\n",
    "    \"\"\"Plot lines for all mice from early to late.\n",
    "    \"\"\"\n",
    "    data.plot(ax=ax, color='gray', legend=False)\n",
    "    data.mean(1).plot(ax=ax,linewidth=mean_linewidth,color=mean_line_color)\n",
    "\n",
    "    if show_err_bar:\n",
    "        yerr = data.std(axis=1)\n",
    "\n",
    "        plt.errorbar(np.array([0,1]), data.mean(1), yerr, color=mean_line_color, linewidth=4)\n",
    "\n",
    "    # drop the left and bottom spine for cool looking effect\n",
    "    ax.spines['left'].set_position(('outward', 10))\n",
    "    ax.spines['bottom'].set_position(('outward', 10))\n",
    "    # Hide the right and top spines\n",
    "    ax.spines['right'].set_visible(False)\n",
    "    ax.spines['top'].set_visible(False)\n"
   ]
  },
  {
   "cell_type": "code",
   "execution_count": 159,
   "metadata": {},
   "outputs": [
    {
     "data": {
      "text/plain": [
       "Text(0, 0.5, 'Z-scored fluorescence')"
      ]
     },
     "execution_count": 159,
     "metadata": {},
     "output_type": "execute_result"
    }
   ],
   "source": [
    "fig, ax = plt.subplots()\n",
    "francescas_plot(ax, df_for_plot, mean_line_color='#7FB5B5', mean_linewidth=6, show_err_bar=False)\n",
    "plt.xticks([0, 1], ['pre state change', 'post state change'])\n",
    "plt.ylabel('Z-scored fluorescence')"
   ]
  },
  {
   "cell_type": "code",
   "execution_count": 160,
   "metadata": {},
   "outputs": [],
   "source": [
    "import os\n",
    "\n",
    "filepath=os.path.join('W:\\\\photometry_2AC\\\\plots', 'pre_and_post_state_change.pdf' )\n",
    "fig.savefig(filepath)"
   ]
  },
  {
   "cell_type": "code",
   "execution_count": 126,
   "metadata": {},
   "outputs": [],
   "source": [
    "figure_dir = figure_dir = 'W:\\\\photometry_2AC\\\\plots\\\\SNL_photo21_26\\\\state_change_experiment'\n",
    "\n",
    "font = {'size'   : 14}\n",
    "matplotlib.rc('font', **font)\n",
    "\n",
    "fig, axs = plt.subplots(1,1)\n",
    "sns.lineplot(ax=axs, x='trial type', y='peak size', data=df1.sort_values('trial type', ascending=False), err_style='bars', sort=False)\n",
    "axs.text(0.9, 1.9, 'p-value = {0:.3f}'.format(pval))\n",
    "\n",
    "\n",
    "\n",
    "axs.spines['right'].set_visible(False)\n",
    "axs.spines['top'].set_visible(False)\n",
    "axs.set_ylabel('response (z-score)')\n",
    "plt.tight_layout()\n",
    "plt.savefig(os.path.join(figure_dir, 'group_data_peaks_vs_state.pdf'))"
   ]
  },
  {
   "cell_type": "code",
   "execution_count": 105,
   "metadata": {},
   "outputs": [],
   "source": [
    "df_only_behav_change_mice = df1[df1.mouse != 'SNL_photo22']"
   ]
  },
  {
   "cell_type": "code",
   "execution_count": 106,
   "metadata": {},
   "outputs": [
    {
     "data": {
      "text/plain": [
       "0.10408651669490764"
      ]
     },
     "execution_count": 106,
     "metadata": {},
     "output_type": "execute_result"
    }
   ],
   "source": [
    "pre_data = df_only_behav_change_mice[df_only_behav_change_mice['trial type']=='pre']['peak size']\n",
    "post_data = df_only_behav_change_mice[df_only_behav_change_mice['trial type']=='post']['peak size']\n",
    "\n",
    "stat, pval = stats.ttest_rel(pre_data, post_data)\n",
    "pval *= .5 # multiply by .5 bc doing a one-sided t-test! we have a hypothesis that it's going a certain way \n",
    "pval"
   ]
  },
  {
   "cell_type": "code",
   "execution_count": null,
   "metadata": {},
   "outputs": [],
   "source": []
  }
 ],
 "metadata": {
  "kernelspec": {
   "display_name": "Python 3",
   "language": "python",
   "name": "python3"
  },
  "language_info": {
   "codemirror_mode": {
    "name": "ipython",
    "version": 3
   },
   "file_extension": ".py",
   "mimetype": "text/x-python",
   "name": "python",
   "nbconvert_exporter": "python",
   "pygments_lexer": "ipython3",
   "version": "3.7.3"
  }
 },
 "nbformat": 4,
 "nbformat_minor": 2
}
