{
 "cells": [
  {
   "cell_type": "code",
   "execution_count": 1,
   "metadata": {},
   "outputs": [
    {
     "name": "stderr",
     "output_type": "stream",
     "text": [
      "In C:\\Users\\francescag\\AppData\\Local\\Continuum\\miniconda3\\lib\\site-packages\\matplotlib\\mpl-data\\stylelib\\_classic_test.mplstyle: \n",
      "The savefig.frameon rcparam was deprecated in Matplotlib 3.1 and will be removed in 3.3.\n",
      "In C:\\Users\\francescag\\AppData\\Local\\Continuum\\miniconda3\\lib\\site-packages\\matplotlib\\mpl-data\\stylelib\\_classic_test.mplstyle: \n",
      "The verbose.level rcparam was deprecated in Matplotlib 3.1 and will be removed in 3.3.\n",
      "In C:\\Users\\francescag\\AppData\\Local\\Continuum\\miniconda3\\lib\\site-packages\\matplotlib\\mpl-data\\stylelib\\_classic_test.mplstyle: \n",
      "The verbose.fileo rcparam was deprecated in Matplotlib 3.1 and will be removed in 3.3.\n"
     ]
    }
   ],
   "source": [
    "%load_ext autoreload\n",
    "%autoreload 2\n",
    "%matplotlib qt5\n",
    "# Add modules to the path\n",
    "import sys\n",
    "sys.path.insert(0, 'C:\\\\Users\\\\francescag\\\\Documents\\\\SourceTree_repos\\\\Python_git')\n",
    "sys.path.insert(0, 'C:\\\\Users\\\\francescag\\\\Documents\\\\SourceTree_repos')\n",
    "sys.path.insert(0, 'C:\\\\Users\\\\francescag\\\\Documents\\\\SourceTree_repos\\\\Python_git\\\\freely_moving_photometry_analysis')\n",
    "import copy\n",
    "import matplotlib.pyplot as plt\n",
    "import matplotlib.cm as cm\n",
    "import numpy as np\n",
    "import os\n",
    "import matplotlib\n",
    "import pandas as pd\n",
    "import pickle\n",
    "import peakutils\n",
    "import functools\n",
    "from scipy.signal import decimate\n",
    "from utils.plotting import HeatMapParams\n",
    "from utils.plotting import heat_map_and_mean, plot_one_side, calculate_error_bars\n",
    "from utils.plotting import get_photometry_around_event\n",
    "from scipy import stats\n",
    "from utils.individual_trial_analysis_utils import ZScoredTraces, SessionData, CueAlignedData\n",
    "from utils.post_processing_utils import *\n",
    "import seaborn as sns"
   ]
  },
  {
   "cell_type": "code",
   "execution_count": 2,
   "metadata": {},
   "outputs": [],
   "source": [
    "mouse_id = 'SNL_photo28'\n",
    "date = '20201216'\n",
    "all_experiments = get_all_experimental_records()\n",
    "experiment_to_process = all_experiments[(all_experiments['date'] == date) & (all_experiments['mouse_id'] == mouse_id)]\n",
    "session_data, trial_data = open_experiment(experiment_to_process)"
   ]
  },
  {
   "cell_type": "code",
   "execution_count": 3,
   "metadata": {},
   "outputs": [
    {
     "name": "stdout",
     "output_type": "stream",
     "text": [
      "(596, 17)\n",
      "(330, 160000)\n",
      "(429, 17)\n",
      "(232, 160000)\n"
     ]
    }
   ],
   "source": [
    "params = {'state_type_of_interest': 3,\n",
    "    'outcome': 2,\n",
    "    'last_outcome': 0,  # NOT USED CURRENTLY\n",
    "    'no_repeats' : 0,\n",
    "    'last_response': 0,\n",
    "    'align_to' : 'Time start',\n",
    "    'instance': -1,\n",
    "    'plot_range': [-6, 6],\n",
    "    'first_choice_correct': 0,\n",
    "     'cue': 'None'}\n",
    "test = CustomAlignedData(session_data, params)"
   ]
  },
  {
   "cell_type": "code",
   "execution_count": 4,
   "metadata": {},
   "outputs": [],
   "source": [
    "trials_pre_state_change = np.where(test.contra_data.trial_nums <=149)[0]\n",
    "trials_post_state_change = np.where(test.contra_data.trial_nums >149)[0]"
   ]
  },
  {
   "cell_type": "code",
   "execution_count": 5,
   "metadata": {},
   "outputs": [],
   "source": [
    "peaks = test.contra_data.trial_peaks\n",
    "pre_peaks = [peaks[trial] for trial in trials_pre_state_change if peaks[trial].size > 0]\n",
    "post_peaks = [peaks[trial] for trial in trials_post_state_change  if peaks[trial].size > 0]"
   ]
  },
  {
   "cell_type": "code",
   "execution_count": 6,
   "metadata": {},
   "outputs": [
    {
     "data": {
      "text/plain": [
       "array([[-1.14418332, -1.14375158, -1.14331823, ...,  0.68698158,\n",
       "         0.68680943,  0.68663851],\n",
       "       [-0.1159838 , -0.11628724, -0.11659071, ...,  1.15079785,\n",
       "         1.15083184,  1.15086512],\n",
       "       [-0.29388865, -0.29350389, -0.29311887, ..., -0.14876265,\n",
       "        -0.14932954, -0.1498958 ],\n",
       "       ...,\n",
       "       [ 0.31403776,  0.31383502,  0.31363136, ..., -1.01801253,\n",
       "        -1.01734299, -1.01667413],\n",
       "       [-0.5038352 , -0.5044603 , -0.50508567, ...,  1.2405188 ,\n",
       "         1.24093432,  1.24134987],\n",
       "       [ 0.68768218,  0.68885883,  0.69003457, ..., -0.03963458,\n",
       "        -0.03943421, -0.03923485]])"
      ]
     },
     "execution_count": 6,
     "metadata": {},
     "output_type": "execute_result"
    }
   ],
   "source": [
    "test.contra_data.sorted_traces[trials_pre_state_change,:]"
   ]
  },
  {
   "cell_type": "code",
   "execution_count": 46,
   "metadata": {},
   "outputs": [
    {
     "name": "stderr",
     "output_type": "stream",
     "text": [
      "Bootstrapping...: 100%|███████████████████| 1000/1000 [00:04<00:00, 203.73it/s]\n",
      "Bootstrapping...: 100%|████████████████████| 1000/1000 [00:10<00:00, 94.87it/s]\n"
     ]
    }
   ],
   "source": [
    "font = {'size'   : 14}\n",
    "matplotlib.rc('font', **font)\n",
    "\n",
    "fig, axs1 = plt.subplots(1,1)\n",
    "colours = cm.viridis(np.linspace(0.2, 0.7, 2))\n",
    "pre_mean_trace = decimate(np.mean(test.contra_data.sorted_traces[trials_pre_state_change,:], axis=0), 10)\n",
    "post_mean_trace = decimate(np.mean(test.contra_data.sorted_traces[ trials_post_state_change,:], axis=0), 10)\n",
    "time_points = decimate(test.contra_data.time_points, 10)\n",
    "traces = decimate(test.contra_data.sorted_traces, 10)\n",
    "axs1.plot(time_points, pre_mean_trace, label='pre', color=colours[0])\n",
    "pre_error_bar_lower, pre_error_bar_upper = calculate_error_bars(pre_mean_trace,\n",
    "                                                        traces[trials_pre_state_change,:],\n",
    "                                                        error_bar_method='ci')\n",
    "                  \n",
    "axs1.fill_between(time_points, pre_error_bar_lower, pre_error_bar_upper, alpha=0.4, linewidth=0, color=colours[0])\n",
    "axs1.plot(time_points,post_mean_trace, label='post', color=colours[1])\n",
    "post_error_bar_lower, post_error_bar_upper = calculate_error_bars(post_mean_trace,\n",
    "                                                        traces[ trials_post_state_change,:],\n",
    "                                                        error_bar_method='ci')\n",
    "axs1.fill_between(time_points, post_error_bar_lower, post_error_bar_upper, alpha=0.4, linewidth=0, color=colours[1])\n",
    "axs1.set_xlim([-2,2])\n",
    "axs1.axvline([0], color='k')\n",
    "axs1.set_ylabel('z-scored fluorescence')\n",
    "axs1.set_xlabel('Time (s)')\n",
    "\n",
    "axs1.spines['right'].set_visible(False)\n",
    "axs1.spines['top'].set_visible(False)\n",
    "plt.legend()\n",
    "plt.tight_layout()\n",
    "        \n"
   ]
  },
  {
   "cell_type": "code",
   "execution_count": 55,
   "metadata": {},
   "outputs": [],
   "source": [
    "# group data\n",
    "processed_data_dir = os.path.join('W:\\\\photometry_2AC\\\\processed_data\\\\state_change_data')\n",
    "state_change_data_file = os.path.join(processed_data_dir, 'state_change_data_all_mice.csv')\n",
    "all_session_change_data = pd.read_pickle(state_change_data_file)"
   ]
  },
  {
   "cell_type": "code",
   "execution_count": 56,
   "metadata": {},
   "outputs": [],
   "source": [
    "df1 = all_session_change_data[['mouse','trial number','trial type', 'peak size']]\n",
    "df1 = df1.pivot_table(index=['mouse', 'trial type'], values=['peak size'], aggfunc=np.nanmean)\n",
    "df1 = df1.reset_index()"
   ]
  },
  {
   "cell_type": "code",
   "execution_count": 57,
   "metadata": {},
   "outputs": [],
   "source": [
    "decimate10 = functools.partial(decimate, 10)"
   ]
  },
  {
   "cell_type": "code",
   "execution_count": 38,
   "metadata": {},
   "outputs": [
    {
     "data": {
      "text/html": [
       "<div>\n",
       "<style scoped>\n",
       "    .dataframe tbody tr th:only-of-type {\n",
       "        vertical-align: middle;\n",
       "    }\n",
       "\n",
       "    .dataframe tbody tr th {\n",
       "        vertical-align: top;\n",
       "    }\n",
       "\n",
       "    .dataframe thead th {\n",
       "        text-align: right;\n",
       "    }\n",
       "</style>\n",
       "<table border=\"1\" class=\"dataframe\">\n",
       "  <thead>\n",
       "    <tr style=\"text-align: right;\">\n",
       "      <th></th>\n",
       "      <th>trial number</th>\n",
       "      <th>peak size</th>\n",
       "      <th>traces</th>\n",
       "      <th>trial type</th>\n",
       "      <th>mouse</th>\n",
       "    </tr>\n",
       "  </thead>\n",
       "  <tbody>\n",
       "    <tr>\n",
       "      <th>0</th>\n",
       "      <td>2.0</td>\n",
       "      <td>1.012287</td>\n",
       "      <td>[-1.1441833211358272, -1.1437515754473229, -1....</td>\n",
       "      <td>pre</td>\n",
       "      <td>SNL_photo28</td>\n",
       "    </tr>\n",
       "    <tr>\n",
       "      <th>1</th>\n",
       "      <td>4.0</td>\n",
       "      <td>0.880420</td>\n",
       "      <td>[-0.11598380034150801, -0.11628724375588356, -...</td>\n",
       "      <td>pre</td>\n",
       "      <td>SNL_photo28</td>\n",
       "    </tr>\n",
       "    <tr>\n",
       "      <th>2</th>\n",
       "      <td>6.0</td>\n",
       "      <td>1.250451</td>\n",
       "      <td>[-0.29388865224024574, -0.29350389209522293, -...</td>\n",
       "      <td>pre</td>\n",
       "      <td>SNL_photo28</td>\n",
       "    </tr>\n",
       "    <tr>\n",
       "      <th>3</th>\n",
       "      <td>7.0</td>\n",
       "      <td>-0.255492</td>\n",
       "      <td>[-1.0206240443195616, -1.0206133241569806, -1....</td>\n",
       "      <td>pre</td>\n",
       "      <td>SNL_photo28</td>\n",
       "    </tr>\n",
       "    <tr>\n",
       "      <th>4</th>\n",
       "      <td>8.0</td>\n",
       "      <td>3.680589</td>\n",
       "      <td>[-0.34039685325031366, -0.3409969603425021, -0...</td>\n",
       "      <td>pre</td>\n",
       "      <td>SNL_photo28</td>\n",
       "    </tr>\n",
       "  </tbody>\n",
       "</table>\n",
       "</div>"
      ],
      "text/plain": [
       "   trial number  peak size                                             traces  \\\n",
       "0           2.0   1.012287  [-1.1441833211358272, -1.1437515754473229, -1....   \n",
       "1           4.0   0.880420  [-0.11598380034150801, -0.11628724375588356, -...   \n",
       "2           6.0   1.250451  [-0.29388865224024574, -0.29350389209522293, -...   \n",
       "3           7.0  -0.255492  [-1.0206240443195616, -1.0206133241569806, -1....   \n",
       "4           8.0   3.680589  [-0.34039685325031366, -0.3409969603425021, -0...   \n",
       "\n",
       "  trial type        mouse  \n",
       "0        pre  SNL_photo28  \n",
       "1        pre  SNL_photo28  \n",
       "2        pre  SNL_photo28  \n",
       "3        pre  SNL_photo28  \n",
       "4        pre  SNL_photo28  "
      ]
     },
     "execution_count": 38,
     "metadata": {},
     "output_type": "execute_result"
    }
   ],
   "source": [
    "all_session_change_data.head()"
   ]
  },
  {
   "cell_type": "code",
   "execution_count": 58,
   "metadata": {},
   "outputs": [
    {
     "data": {
      "text/html": [
       "<div>\n",
       "<style scoped>\n",
       "    .dataframe tbody tr th:only-of-type {\n",
       "        vertical-align: middle;\n",
       "    }\n",
       "\n",
       "    .dataframe tbody tr th {\n",
       "        vertical-align: top;\n",
       "    }\n",
       "\n",
       "    .dataframe thead th {\n",
       "        text-align: right;\n",
       "    }\n",
       "</style>\n",
       "<table border=\"1\" class=\"dataframe\">\n",
       "  <thead>\n",
       "    <tr style=\"text-align: right;\">\n",
       "      <th></th>\n",
       "      <th>mouse</th>\n",
       "      <th>trial type</th>\n",
       "      <th>traces</th>\n",
       "      <th>decimated</th>\n",
       "    </tr>\n",
       "  </thead>\n",
       "  <tbody>\n",
       "    <tr>\n",
       "      <th>0</th>\n",
       "      <td>SNL_photo21</td>\n",
       "      <td>post</td>\n",
       "      <td>[0.11757407718784627, 0.11764368549064554, 0.1...</td>\n",
       "      <td>[0.2849924846949067, 0.2875324731799635, 0.290...</td>\n",
       "    </tr>\n",
       "    <tr>\n",
       "      <th>1</th>\n",
       "      <td>SNL_photo21</td>\n",
       "      <td>pre</td>\n",
       "      <td>[0.2302990564075248, 0.23031311975682833, 0.23...</td>\n",
       "      <td>[0.028910004914557023, 0.028417089350470593, 0...</td>\n",
       "    </tr>\n",
       "    <tr>\n",
       "      <th>2</th>\n",
       "      <td>SNL_photo22</td>\n",
       "      <td>post</td>\n",
       "      <td>[0.0020142276821464053, 0.0020098347752410977,...</td>\n",
       "      <td>[0.006149936242498089, 0.011509042529488542, 0...</td>\n",
       "    </tr>\n",
       "    <tr>\n",
       "      <th>3</th>\n",
       "      <td>SNL_photo22</td>\n",
       "      <td>pre</td>\n",
       "      <td>[0.03641823040163544, 0.036353350067144234, 0....</td>\n",
       "      <td>[-0.09078252413180969, -0.08504013812070647, -...</td>\n",
       "    </tr>\n",
       "    <tr>\n",
       "      <th>4</th>\n",
       "      <td>SNL_photo26</td>\n",
       "      <td>post</td>\n",
       "      <td>[0.05072342395670647, 0.0506983430399286, 0.05...</td>\n",
       "      <td>[0.38036357585871466, 0.38522979798134416, 0.3...</td>\n",
       "    </tr>\n",
       "  </tbody>\n",
       "</table>\n",
       "</div>"
      ],
      "text/plain": [
       "         mouse trial type                                             traces  \\\n",
       "0  SNL_photo21       post  [0.11757407718784627, 0.11764368549064554, 0.1...   \n",
       "1  SNL_photo21        pre  [0.2302990564075248, 0.23031311975682833, 0.23...   \n",
       "2  SNL_photo22       post  [0.0020142276821464053, 0.0020098347752410977,...   \n",
       "3  SNL_photo22        pre  [0.03641823040163544, 0.036353350067144234, 0....   \n",
       "4  SNL_photo26       post  [0.05072342395670647, 0.0506983430399286, 0.05...   \n",
       "\n",
       "                                           decimated  \n",
       "0  [0.2849924846949067, 0.2875324731799635, 0.290...  \n",
       "1  [0.028910004914557023, 0.028417089350470593, 0...  \n",
       "2  [0.006149936242498089, 0.011509042529488542, 0...  \n",
       "3  [-0.09078252413180969, -0.08504013812070647, -...  \n",
       "4  [0.38036357585871466, 0.38522979798134416, 0.3...  "
      ]
     },
     "execution_count": 58,
     "metadata": {},
     "output_type": "execute_result"
    }
   ],
   "source": [
    "# find mean traces and downsample\n",
    "avg_traces = all_session_change_data.groupby(['mouse', 'trial type'])['traces'].apply(np.mean)\n",
    "decimated = [decimate(trace[int(len(trace)/2):], 10) for trace in avg_traces]\n",
    "avg_traces = avg_traces.reset_index()\n",
    "avg_traces['decimated'] = pd.Series([_ for _ in decimated])\n",
    "\n",
    "avg_traces.head()"
   ]
  },
  {
   "cell_type": "code",
   "execution_count": 59,
   "metadata": {},
   "outputs": [
    {
     "data": {
      "text/plain": [
       "Ttest_relResult(statistic=-1.8337544382782174, pvalue=0.2081348406618975)"
      ]
     },
     "execution_count": 59,
     "metadata": {},
     "output_type": "execute_result"
    }
   ],
   "source": [
    "# find peak size in pre condition and look for same time point in action\n",
    "# alternatively, just find first peak for both. let's try that first. \n",
    "\n",
    "#plt.plot(avg_traces['decimated'].iloc[0])\n",
    "\n",
    "first_peak_ids = [peakutils.indexes(i)[0] for i in avg_traces['decimated']]\n",
    "avg_traces['peakidx'] = first_peak_ids\n",
    "peaks = [trace[idx] for idx, trace in zip(first_peak_ids, avg_traces['decimated'])]\n",
    "avg_traces['peak'] = peaks\n",
    "avg_traces.set_index(['mouse', 'trial type'])\n",
    "\n",
    "prepeak = avg_traces[avg_traces['trial type']=='pre']['peak']\n",
    "postpeak = avg_traces[avg_traces['trial type']=='post']['peak']\n",
    "result = stats.ttest_rel(prepeak, postpeak)\n",
    "result"
   ]
  },
  {
   "cell_type": "code",
   "execution_count": 60,
   "metadata": {},
   "outputs": [
    {
     "data": {
      "text/html": [
       "<div>\n",
       "<style scoped>\n",
       "    .dataframe tbody tr th:only-of-type {\n",
       "        vertical-align: middle;\n",
       "    }\n",
       "\n",
       "    .dataframe tbody tr th {\n",
       "        vertical-align: top;\n",
       "    }\n",
       "\n",
       "    .dataframe thead th {\n",
       "        text-align: right;\n",
       "    }\n",
       "</style>\n",
       "<table border=\"1\" class=\"dataframe\">\n",
       "  <thead>\n",
       "    <tr style=\"text-align: right;\">\n",
       "      <th></th>\n",
       "      <th>mouse</th>\n",
       "      <th>trial type</th>\n",
       "      <th>traces</th>\n",
       "      <th>decimated</th>\n",
       "      <th>peakidx</th>\n",
       "      <th>peak</th>\n",
       "    </tr>\n",
       "  </thead>\n",
       "  <tbody>\n",
       "    <tr>\n",
       "      <th>0</th>\n",
       "      <td>SNL_photo21</td>\n",
       "      <td>post</td>\n",
       "      <td>[0.11757407718784627, 0.11764368549064554, 0.1...</td>\n",
       "      <td>[0.2849924846949067, 0.2875324731799635, 0.290...</td>\n",
       "      <td>185</td>\n",
       "      <td>0.574251</td>\n",
       "    </tr>\n",
       "    <tr>\n",
       "      <th>1</th>\n",
       "      <td>SNL_photo21</td>\n",
       "      <td>pre</td>\n",
       "      <td>[0.2302990564075248, 0.23031311975682833, 0.23...</td>\n",
       "      <td>[0.028910004914557023, 0.028417089350470593, 0...</td>\n",
       "      <td>414</td>\n",
       "      <td>0.266602</td>\n",
       "    </tr>\n",
       "    <tr>\n",
       "      <th>2</th>\n",
       "      <td>SNL_photo22</td>\n",
       "      <td>post</td>\n",
       "      <td>[0.0020142276821464053, 0.0020098347752410977,...</td>\n",
       "      <td>[0.006149936242498089, 0.011509042529488542, 0...</td>\n",
       "      <td>177</td>\n",
       "      <td>0.894707</td>\n",
       "    </tr>\n",
       "    <tr>\n",
       "      <th>3</th>\n",
       "      <td>SNL_photo22</td>\n",
       "      <td>pre</td>\n",
       "      <td>[0.03641823040163544, 0.036353350067144234, 0....</td>\n",
       "      <td>[-0.09078252413180969, -0.08504013812070647, -...</td>\n",
       "      <td>176</td>\n",
       "      <td>0.896028</td>\n",
       "    </tr>\n",
       "    <tr>\n",
       "      <th>4</th>\n",
       "      <td>SNL_photo26</td>\n",
       "      <td>post</td>\n",
       "      <td>[0.05072342395670647, 0.0506983430399286, 0.05...</td>\n",
       "      <td>[0.38036357585871466, 0.38522979798134416, 0.3...</td>\n",
       "      <td>214</td>\n",
       "      <td>1.286883</td>\n",
       "    </tr>\n",
       "    <tr>\n",
       "      <th>5</th>\n",
       "      <td>SNL_photo26</td>\n",
       "      <td>pre</td>\n",
       "      <td>[0.18000206196952692, 0.17995374751958423, 0.1...</td>\n",
       "      <td>[-0.16936167389729315, -0.16644437287485964, -...</td>\n",
       "      <td>183</td>\n",
       "      <td>0.780225</td>\n",
       "    </tr>\n",
       "  </tbody>\n",
       "</table>\n",
       "</div>"
      ],
      "text/plain": [
       "         mouse trial type                                             traces  \\\n",
       "0  SNL_photo21       post  [0.11757407718784627, 0.11764368549064554, 0.1...   \n",
       "1  SNL_photo21        pre  [0.2302990564075248, 0.23031311975682833, 0.23...   \n",
       "2  SNL_photo22       post  [0.0020142276821464053, 0.0020098347752410977,...   \n",
       "3  SNL_photo22        pre  [0.03641823040163544, 0.036353350067144234, 0....   \n",
       "4  SNL_photo26       post  [0.05072342395670647, 0.0506983430399286, 0.05...   \n",
       "5  SNL_photo26        pre  [0.18000206196952692, 0.17995374751958423, 0.1...   \n",
       "\n",
       "                                           decimated  peakidx      peak  \n",
       "0  [0.2849924846949067, 0.2875324731799635, 0.290...      185  0.574251  \n",
       "1  [0.028910004914557023, 0.028417089350470593, 0...      414  0.266602  \n",
       "2  [0.006149936242498089, 0.011509042529488542, 0...      177  0.894707  \n",
       "3  [-0.09078252413180969, -0.08504013812070647, -...      176  0.896028  \n",
       "4  [0.38036357585871466, 0.38522979798134416, 0.3...      214  1.286883  \n",
       "5  [-0.16936167389729315, -0.16644437287485964, -...      183  0.780225  "
      ]
     },
     "execution_count": 60,
     "metadata": {},
     "output_type": "execute_result"
    }
   ],
   "source": [
    "avg_traces"
   ]
  },
  {
   "cell_type": "code",
   "execution_count": 61,
   "metadata": {},
   "outputs": [],
   "source": [
    "for i, _ in enumerate(avg_traces):   \n",
    "    plt.figure()\n",
    "    plt.plot(avg_traces.iloc[i]['decimated'])\n",
    "    plt.axvline(avg_traces.iloc[i]['peakidx'])"
   ]
  },
  {
   "cell_type": "code",
   "execution_count": 62,
   "metadata": {},
   "outputs": [],
   "source": [
    "df1 = avg_traces"
   ]
  },
  {
   "cell_type": "code",
   "execution_count": 63,
   "metadata": {},
   "outputs": [],
   "source": [
    "pre_data = df1[df1['trial type']=='pre']['peak']\n",
    "post_data = df1[df1['trial type']=='post']['peak']"
   ]
  },
  {
   "cell_type": "code",
   "execution_count": 193,
   "metadata": {},
   "outputs": [
    {
     "data": {
      "text/plain": [
       "[<matplotlib.lines.Line2D at 0x9f6ca668>]"
      ]
     },
     "execution_count": 193,
     "metadata": {},
     "output_type": "execute_result"
    }
   ],
   "source": [
    "\n",
    "# TO DO: make thins not quantify every peak seperately as this works less well for cue\n",
    "pre_traces = all_session_change_data[all_session_change_data['trial type'] == 'pre']['traces']\n",
    "post_traces = all_session_change_data[all_session_change_data['trial type'] == 'post']['traces']\n",
    "pre_traces = pre_traces.reset_index(drop=True)\n",
    "post_traces = post_traces.reset_index(drop=True)\n",
    "pre_traces_arr = np.zeros([pre_traces.shape[0], pre_traces[0].shape[0]])\n",
    "for trial, trace in enumerate(pre_traces):\n",
    "    pre_traces_arr[trial, :] = trace\n",
    "post_traces_arr = np.zeros([post_traces.shape[0], post_traces[0].shape[0]])\n",
    "for trial, trace in enumerate(post_traces):\n",
    "    post_traces_arr[trial, :] = trace\n",
    "plt.plot(np.mean(pre_traces_arr, axis=0))\n",
    "plt.plot(np.mean(post_traces_arr, axis=0))"
   ]
  },
  {
   "cell_type": "code",
   "execution_count": 64,
   "metadata": {},
   "outputs": [
    {
     "data": {
      "text/plain": [
       "0.2081348406618975"
      ]
     },
     "execution_count": 64,
     "metadata": {},
     "output_type": "execute_result"
    }
   ],
   "source": [
    "pre_data = df1[df1['trial type']=='pre']['peak']\n",
    "post_data = df1[df1['trial type']=='post']['peak']\n",
    "stat, pval = stats.ttest_rel(pre_data, post_data)\n",
    "#pval *= .5 # multiply by .5 bc doing a one-sided t-test! we have a hypothesis that it's going a certain way \n",
    "pval"
   ]
  },
  {
   "cell_type": "code",
   "execution_count": 65,
   "metadata": {},
   "outputs": [],
   "source": [
    "df_for_plot = df1.pivot(index='trial type', columns='mouse', values='peak').sort_values('trial type', ascending=False)"
   ]
  },
  {
   "cell_type": "code",
   "execution_count": 66,
   "metadata": {},
   "outputs": [
    {
     "data": {
      "text/html": [
       "<div>\n",
       "<style scoped>\n",
       "    .dataframe tbody tr th:only-of-type {\n",
       "        vertical-align: middle;\n",
       "    }\n",
       "\n",
       "    .dataframe tbody tr th {\n",
       "        vertical-align: top;\n",
       "    }\n",
       "\n",
       "    .dataframe thead th {\n",
       "        text-align: right;\n",
       "    }\n",
       "</style>\n",
       "<table border=\"1\" class=\"dataframe\">\n",
       "  <thead>\n",
       "    <tr style=\"text-align: right;\">\n",
       "      <th>mouse</th>\n",
       "      <th>SNL_photo21</th>\n",
       "      <th>SNL_photo22</th>\n",
       "      <th>SNL_photo26</th>\n",
       "    </tr>\n",
       "    <tr>\n",
       "      <th>trial type</th>\n",
       "      <th></th>\n",
       "      <th></th>\n",
       "      <th></th>\n",
       "    </tr>\n",
       "  </thead>\n",
       "  <tbody>\n",
       "    <tr>\n",
       "      <th>pre</th>\n",
       "      <td>0.266602</td>\n",
       "      <td>0.896028</td>\n",
       "      <td>0.780225</td>\n",
       "    </tr>\n",
       "    <tr>\n",
       "      <th>post</th>\n",
       "      <td>0.574251</td>\n",
       "      <td>0.894707</td>\n",
       "      <td>1.286883</td>\n",
       "    </tr>\n",
       "  </tbody>\n",
       "</table>\n",
       "</div>"
      ],
      "text/plain": [
       "mouse       SNL_photo21  SNL_photo22  SNL_photo26\n",
       "trial type                                       \n",
       "pre            0.266602     0.896028     0.780225\n",
       "post           0.574251     0.894707     1.286883"
      ]
     },
     "execution_count": 66,
     "metadata": {},
     "output_type": "execute_result"
    }
   ],
   "source": [
    "df_for_plot"
   ]
  },
  {
   "cell_type": "code",
   "execution_count": 70,
   "metadata": {},
   "outputs": [],
   "source": [
    "df_for_plot.to_csv(os.path.join(processed_data_dir, 'tail_peak_sizes.csv'))"
   ]
  },
  {
   "cell_type": "code",
   "execution_count": 68,
   "metadata": {},
   "outputs": [],
   "source": [
    "def francescas_plot(ax, data, show_err_bar=False, mean_linewidth=4, mean_line_color='blue', legend=False):\n",
    "    \"\"\"Plot lines for all mice from early to late.\n",
    "    \"\"\"\n",
    "    data.plot(ax=ax,  legend=False)\n",
    "    data.mean(1).plot(ax=ax,linewidth=mean_linewidth,color=mean_line_color)\n",
    "\n",
    "    if show_err_bar:\n",
    "        yerr = data.std(axis=1)\n",
    "\n",
    "        plt.errorbar(np.array([0,1]), data.mean(1), yerr, color=mean_line_color, linewidth=4)\n",
    "\n",
    "    # drop the left and bottom spine for cool looking effect\n",
    "    ax.spines['left'].set_position(('outward', 10))\n",
    "    ax.spines['bottom'].set_position(('outward', 10))\n",
    "    # Hide the right and top spines\n",
    "    ax.spines['right'].set_visible(False)\n",
    "    ax.spines['top'].set_visible(False)\n"
   ]
  },
  {
   "cell_type": "code",
   "execution_count": 69,
   "metadata": {},
   "outputs": [],
   "source": [
    "fig, ax = plt.subplots(figsize=[3.5,4])\n",
    "francescas_plot(ax, df_for_plot, mean_line_color='#7FB5B5', mean_linewidth=6, show_err_bar=False)\n",
    "plt.xticks([0, 1], ['pre state change', 'post state change'], fontsize=12)\n",
    "plt.ylabel('Z-scored fluorescence', fontsize=12)\n",
    "#ax.text(0.9, 1.9, 'p-value = {0:.3f}'.format(pval))\n",
    "ax.set_xlabel(' ')\n",
    "\n",
    "#significance stars\n",
    "#y = df_for_plot.to_numpy().max() + .2\n",
    "#h = .1\n",
    "#plt.plot([0, 0, 1, 1], [y, y+h, y+h, y],c='k',lw=1)\n",
    "#ax.text(.5, y+h, '*', ha='center', fontsize=12)\n",
    "\n",
    "plt.tight_layout()"
   ]
  },
  {
   "cell_type": "code",
   "execution_count": 168,
   "metadata": {},
   "outputs": [],
   "source": [
    "import os\n",
    "\n",
    "filepath=os.path.join('W:\\\\photometry_2AC\\\\plots', 'tail_pre_and_post_state_change.pdf' )\n",
    "fig.savefig(filepath)"
   ]
  },
  {
   "cell_type": "code",
   "execution_count": 142,
   "metadata": {},
   "outputs": [],
   "source": [
    "figure_dir = figure_dir = 'W:\\\\photometry_2AC\\\\plots\\\\SNL_photo21_26\\\\state_change_experiment'\n",
    "\n",
    "font = {'size'   : 14}\n",
    "matplotlib.rc('font', **font)\n",
    "\n",
    "fig, axs = plt.subplots(1,1)\n",
    "sns.lineplot(ax=axs, x='trial type', y='peak', data=df1.sort_values('trial type', ascending=False), err_style='bars', sort=False)\n",
    "axs.text(0.9, 1.9, 'p-value = {0:.3f}'.format(pval))\n",
    "\n",
    "\n",
    "\n",
    "axs.spines['right'].set_visible(False)\n",
    "axs.spines['top'].set_visible(False)\n",
    "axs.set_ylabel('response (z-score)')\n",
    "plt.tight_layout()\n",
    "#plt.savefig(os.path.join(figure_dir, 'group_data_peaks_vs_state.pdf'))"
   ]
  },
  {
   "cell_type": "code",
   "execution_count": 105,
   "metadata": {},
   "outputs": [],
   "source": [
    "df_only_behav_change_mice = df1[df1.mouse != 'SNL_photo22']"
   ]
  },
  {
   "cell_type": "code",
   "execution_count": 106,
   "metadata": {},
   "outputs": [
    {
     "data": {
      "text/plain": [
       "0.10408651669490764"
      ]
     },
     "execution_count": 106,
     "metadata": {},
     "output_type": "execute_result"
    }
   ],
   "source": [
    "pre_data = df_only_behav_change_mice[df_only_behav_change_mice['trial type']=='pre']['peak size']\n",
    "post_data = df_only_behav_change_mice[df_only_behav_change_mice['trial type']=='post']['peak size']\n",
    "\n",
    "stat, pval = stats.ttest_rel(pre_data, post_data)\n",
    "pval *= .5 # multiply by .5 bc doing a one-sided t-test! we have a hypothesis that it's going a certain way \n",
    "pval"
   ]
  },
  {
   "cell_type": "code",
   "execution_count": null,
   "metadata": {},
   "outputs": [],
   "source": []
  }
 ],
 "metadata": {
  "kernelspec": {
   "display_name": "Python 3",
   "language": "python",
   "name": "python3"
  },
  "language_info": {
   "codemirror_mode": {
    "name": "ipython",
    "version": 3
   },
   "file_extension": ".py",
   "mimetype": "text/x-python",
   "name": "python",
   "nbconvert_exporter": "python",
   "pygments_lexer": "ipython3",
   "version": "3.7.3"
  }
 },
 "nbformat": 4,
 "nbformat_minor": 2
}
