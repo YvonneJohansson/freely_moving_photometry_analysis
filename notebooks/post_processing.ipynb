{
 "cells": [
  {
   "cell_type": "code",
   "execution_count": 1,
   "metadata": {},
   "outputs": [],
   "source": [
    "%load_ext autoreload\n",
    "%autoreload 2\n",
    "%matplotlib qt5\n",
    "# Add modules to the path\n",
    "import sys\n",
    "#sys.path.insert(0, 'C:\\\\Users\\\\francescag\\\\Documents\\\\SourceTree_repos\\\\Python_git')\n",
    "#sys.path.insert(0, 'C:\\\\Users\\\\francescag\\\\Documents\\\\SourceTree_repos')\n",
    "#sys.path.insert(0, 'C:\\\\Users\\\\francescag\\\\Documents\\\\SourceTree_repos\\\\Python_git\\\\freely_moving_photometry_analysis' )\n",
    "sys.path.insert(1, '/home/matthew/Documents/code/photometry_analysis_code/freely_moving_photometry_analysis')\n",
    "\n",
    "import os\n",
    "import joypy\n",
    "import copy\n",
    "import matplotlib.pyplot as plt\n",
    "import numpy as np\n",
    "import pandas as pd\n",
    "import pickle\n",
    "from scipy.signal import decimate\n",
    "from utils.plotting import HeatMapParams\n",
    "from utils.plotting import heat_map_and_mean, plot_one_side, calculate_error_bars\n",
    "from utils.plotting import get_photometry_around_event\n",
    "from scipy import stats\n",
    "from utils.individual_trial_analysis_utils import ZScoredTraces, SessionData, CueAlignedData, CueAlignedSidedData, ChoiceAlignedData"
   ]
  },
  {
   "cell_type": "code",
   "execution_count": 20,
   "metadata": {
    "scrolled": true
   },
   "outputs": [],
   "source": [
    "mouse = 'YJ_01'\n",
    "date = '20220112'\n",
    "saving_folder = '/mnt/winstor/swc/sjones/users/Yvonne/photometry_2AC/processed_data/' + mouse + '/'\n",
    "restructured_data_filename = mouse + '_' + date + '_' + 'restructured_data.pkl'\n",
    "trial_data = pd.read_pickle(saving_folder + restructured_data_filename) "
   ]
  },
  {
   "cell_type": "code",
   "execution_count": 21,
   "metadata": {},
   "outputs": [
    {
     "data": {
      "text/plain": [
       "[<matplotlib.lines.Line2D at 0x7f0c95205d00>]"
      ]
     },
     "execution_count": 21,
     "metadata": {},
     "output_type": "execute_result"
    }
   ],
   "source": [
    "demod_signal = np.load(saving_folder + mouse + '_' + date + \"_smoothed_signal.npy\" )\n",
    "demod_signal.shape\n",
    "plt.plot(demod_signal)"
   ]
  },
  {
   "cell_type": "code",
   "execution_count": 2,
   "metadata": {},
   "outputs": [],
   "source": [
    "class CustomAlignedData(object):\n",
    "    def __init__(self, session_data, params):\n",
    "        saving_folder = '/mnt/winstor/swc/sjones/users/Yvonne/photometry_2AC/processed_data/' + session_data.mouse + '/'\n",
    "        #saving_folder = 'C:\\\\Users\\\\francescag\\\\Documents\\\\PhD_Project\\\\SNL_photo_photometry\\\\processed_data' + session_data.mouse + '\\\\'\n",
    "        restructured_data_filename = session_data.mouse + '_' + session_data.date + '_' + 'restructured_data.pkl'\n",
    "        trial_data = pd.read_pickle(saving_folder + restructured_data_filename)\n",
    "        dff_trace_filename = session_data.mouse + '_' + session_data.date + '_' + 'smoothed_signal.npy'\n",
    "        dff = np.load(saving_folder + dff_trace_filename)\n",
    "\n",
    "        fiber_options = np.array(['left', 'right'])\n",
    "        fiber_side_numeric = (np.where(fiber_options == session_data.fiber_side)[0] + 1)[0]\n",
    "        contra_fiber_side_numeric = (np.where(fiber_options != session_data.fiber_side)[0] + 1)[0]\n",
    "\n",
    "        self.ipsi_data = ZScoredTraces(trial_data, dff, params, fiber_side_numeric, 0)\n",
    "        #self.ipsi_data.get_peaks()\n",
    "        self.contra_data = ZScoredTraces(trial_data, dff,params, contra_fiber_side_numeric, 0)\n",
    "        #self.contra_data.get_peaks()"
   ]
  },
  {
   "cell_type": "code",
   "execution_count": 3,
   "metadata": {},
   "outputs": [],
   "source": [
    "def get_all_experimental_records():\n",
    "    experiment_record = pd.read_csv('/mnt/winstor/swc/sjones/users/Yvonne/photometry_2AC/experimental_record_yvonne.csv')\n",
    "    experiment_record['date'] = experiment_record['date'].astype(str)\n",
    "    return experiment_record"
   ]
  },
  {
   "cell_type": "code",
   "execution_count": 4,
   "metadata": {},
   "outputs": [],
   "source": [
    "def open_experiment(experiment_to_add):\n",
    "    for index, experiment in experiment_to_add.iterrows():\n",
    "        saving_folder = '/mnt/winstor/swc/sjones/users/Yvonne/photometry_2AC/processed_data/' + experiment['mouse_id'] + '/'\n",
    "        #saving_folder = 'C:\\\\Users\\\\francescag\\\\Documents\\\\PhD_Project\\\\SNL_photo_photometry\\\\processed_data' + experiment['mouse_id']  + '\\\\'\n",
    "        restructured_data_filename = experiment['mouse_id'] + '_' + experiment['date'] + '_' + 'restructured_data.pkl'\n",
    "        trial_data = pd.read_pickle(saving_folder + restructured_data_filename)\n",
    "        dff_trace_filename = experiment['mouse_id'] + '_' + experiment['date'] + '_' + 'smoothed_signal.npy'\n",
    "        dff = np.load(saving_folder + dff_trace_filename)\n",
    "        session_traces = SessionData(experiment['fiber_side'], experiment['recording_site'], experiment['mouse_id'], experiment['date'])\n",
    "    return session_traces"
   ]
  },
  {
   "cell_type": "code",
   "execution_count": 36,
   "metadata": {},
   "outputs": [],
   "source": [
    "mouse_id = 'YJ_03'\n",
    "date = '20220403'\n",
    "recording_site = 'SNL'\n",
    "all_experiments = get_all_experimental_records()\n",
    "experiment_to_process = all_experiments[(all_experiments['date'] == date) & \n",
    "                                        (all_experiments['mouse_id'] == mouse_id) &\n",
    "                                        (all_experiments['recording_site'] == recording_site)]\n",
    "session_data = open_experiment(experiment_to_process)"
   ]
  },
  {
   "cell_type": "code",
   "execution_count": 38,
   "metadata": {},
   "outputs": [],
   "source": [
    "saving_folder = '/mnt/winstor/swc/sjones/users/Yvonne/photometry_2AC/processed_data/' + mouse_id + '/'\n",
    "#saving_folder = 'C:\\\\Users\\\\francescag\\\\Documents\\\\PhD_Project\\\\SNL_photo_photometry\\\\processed_data' + session_data.mouse + '\\\\'\n",
    "restructured_data_filename = mouse_id + '_' + date + '_' + 'restructured_data.pkl'\n",
    "trial_data = pd.read_pickle(saving_folder + restructured_data_filename)"
   ]
  },
  {
   "cell_type": "code",
   "execution_count": 39,
   "metadata": {
    "scrolled": false
   },
   "outputs": [
    {
     "name": "stdout",
     "output_type": "stream",
     "text": [
      "(6887, 18)\n",
      "(6887, 18)\n"
     ]
    }
   ],
   "source": [
    "\n",
    "params = {'state_type_of_interest': 3, # 5.5 = first incorrect choice\n",
    "    'outcome': 1, # correct or incorrect: 0 = incorrect, 1 = correct, 2 = both\n",
    "    'last_outcome': 0,  # NOT USED CURRENTLY\n",
    "    'no_repeats' : 0, # 0 = dont care, 1 = state only entered once,\n",
    "    'last_response': 0, # trial before: 0 = dont care. 1 = left, 2 = right\n",
    "    'align_to' : 'Time start', # time end or time start\n",
    "    'instance': -1, # only for no repeats = 0, -1 = last instance, 1 = first instance\n",
    "    'plot_range': [-6, 6],\n",
    "    'first_choice_correct': 1, # useful for non-punished trials 0 = dont care, 1 = only correct trials, (-1 = incorrect trials)\n",
    "    'cue': None}\n",
    "test = CustomAlignedData(session_data, params)"
   ]
  },
  {
   "cell_type": "code",
   "execution_count": 40,
   "metadata": {
    "scrolled": true
   },
   "outputs": [],
   "source": [
    "heat_map_and_mean(test, sort=True, error_bar_method='sem', mean_across_mice=False, cue_vline=0, xlims=[-2,3])\n",
    "OutputDir = '/home/matthew/Documents/figures/SNL_photo/' + mouse_id\n",
    "\n",
    "if not os.path.isdir(OutputDir):\n",
    "    os.mkdir(OutputDir)\n",
    "\n",
    "if params['state_type_of_interest'] == 3: \n",
    "    plt.savefig(OutputDir + '/' + mouse_id + '_' + date + '_' + recording_site + '_' + 'aligned_cue' + '.png') \n",
    "elif params['state_type_of_interest'] == 5:\n",
    "    if params['align_to'] == 'Time end':\n",
    "        plt.savefig(OutputDir + '/' + mouse_id + '_' + date + '_' + recording_site + '_' + 'aligned_reward' + '.png')\n",
    "    elif params['align_to'] == 'Time start':\n",
    "        plt.savefig(OutputDir + '/' + mouse_id + '_' + date + '_' + recording_site + '_' + 'aligned_movement' + '.png')"
   ]
  },
  {
   "cell_type": "code",
   "execution_count": 11,
   "metadata": {},
   "outputs": [
    {
     "data": {
      "text/plain": [
       "array([-8.    , -7.9999, -7.9998, ...,  7.9998,  7.9999,  8.    ])"
      ]
     },
     "execution_count": 11,
     "metadata": {},
     "output_type": "execute_result"
    }
   ],
   "source": [
    "test.ipsi_data.time_points"
   ]
  },
  {
   "cell_type": "code",
   "execution_count": 101,
   "metadata": {},
   "outputs": [
    {
     "data": {
      "text/html": [
       "<div>\n",
       "<style scoped>\n",
       "    .dataframe tbody tr th:only-of-type {\n",
       "        vertical-align: middle;\n",
       "    }\n",
       "\n",
       "    .dataframe tbody tr th {\n",
       "        vertical-align: top;\n",
       "    }\n",
       "\n",
       "    .dataframe thead th {\n",
       "        text-align: right;\n",
       "    }\n",
       "</style>\n",
       "<table border=\"1\" class=\"dataframe\">\n",
       "  <thead>\n",
       "    <tr style=\"text-align: right;\">\n",
       "      <th></th>\n",
       "      <th>Trial num</th>\n",
       "      <th>Trial type</th>\n",
       "      <th>State type</th>\n",
       "      <th>Instance in state</th>\n",
       "      <th>Max times in state</th>\n",
       "      <th>State name</th>\n",
       "      <th>Time start</th>\n",
       "      <th>Time end</th>\n",
       "      <th>Reward amount</th>\n",
       "      <th>Punish</th>\n",
       "      <th>...</th>\n",
       "      <th>TrialCueDelay</th>\n",
       "      <th>Response</th>\n",
       "      <th>Last response</th>\n",
       "      <th>Last outcome</th>\n",
       "      <th>Trial start</th>\n",
       "      <th>Trial end</th>\n",
       "      <th>Trial outcome</th>\n",
       "      <th>First response</th>\n",
       "      <th>Reward block</th>\n",
       "      <th>First choice correct</th>\n",
       "    </tr>\n",
       "  </thead>\n",
       "  <tbody>\n",
       "    <tr>\n",
       "      <th>60</th>\n",
       "      <td>2.0</td>\n",
       "      <td>7.0</td>\n",
       "      <td>4.0</td>\n",
       "      <td>1.0</td>\n",
       "      <td>1.0</td>\n",
       "      <td>WaitForPortOut</td>\n",
       "      <td>80.7515</td>\n",
       "      <td>80.7666</td>\n",
       "      <td>5.0</td>\n",
       "      <td>1.0</td>\n",
       "      <td>...</td>\n",
       "      <td>0.2628</td>\n",
       "      <td>2.0</td>\n",
       "      <td>1.0</td>\n",
       "      <td>1.0</td>\n",
       "      <td>75.2976</td>\n",
       "      <td>83.0520</td>\n",
       "      <td>1.0</td>\n",
       "      <td>1.0</td>\n",
       "      <td>0.0</td>\n",
       "      <td>0.0</td>\n",
       "    </tr>\n",
       "    <tr>\n",
       "      <th>61</th>\n",
       "      <td>2.0</td>\n",
       "      <td>7.0</td>\n",
       "      <td>5.0</td>\n",
       "      <td>1.0</td>\n",
       "      <td>1.0</td>\n",
       "      <td>WaitForResponse</td>\n",
       "      <td>80.7666</td>\n",
       "      <td>82.9837</td>\n",
       "      <td>5.0</td>\n",
       "      <td>1.0</td>\n",
       "      <td>...</td>\n",
       "      <td>0.2628</td>\n",
       "      <td>2.0</td>\n",
       "      <td>1.0</td>\n",
       "      <td>1.0</td>\n",
       "      <td>75.2976</td>\n",
       "      <td>83.0520</td>\n",
       "      <td>1.0</td>\n",
       "      <td>1.0</td>\n",
       "      <td>0.0</td>\n",
       "      <td>0.0</td>\n",
       "    </tr>\n",
       "    <tr>\n",
       "      <th>62</th>\n",
       "      <td>2.0</td>\n",
       "      <td>7.0</td>\n",
       "      <td>7.0</td>\n",
       "      <td>1.0</td>\n",
       "      <td>1.0</td>\n",
       "      <td>RightReward</td>\n",
       "      <td>82.9837</td>\n",
       "      <td>83.0519</td>\n",
       "      <td>5.0</td>\n",
       "      <td>1.0</td>\n",
       "      <td>...</td>\n",
       "      <td>0.2628</td>\n",
       "      <td>2.0</td>\n",
       "      <td>1.0</td>\n",
       "      <td>1.0</td>\n",
       "      <td>75.2976</td>\n",
       "      <td>83.0520</td>\n",
       "      <td>1.0</td>\n",
       "      <td>1.0</td>\n",
       "      <td>0.0</td>\n",
       "      <td>0.0</td>\n",
       "    </tr>\n",
       "    <tr>\n",
       "      <th>63</th>\n",
       "      <td>2.0</td>\n",
       "      <td>7.0</td>\n",
       "      <td>8.0</td>\n",
       "      <td>1.0</td>\n",
       "      <td>1.0</td>\n",
       "      <td>Drinking</td>\n",
       "      <td>83.0519</td>\n",
       "      <td>83.0520</td>\n",
       "      <td>5.0</td>\n",
       "      <td>1.0</td>\n",
       "      <td>...</td>\n",
       "      <td>0.2628</td>\n",
       "      <td>2.0</td>\n",
       "      <td>1.0</td>\n",
       "      <td>1.0</td>\n",
       "      <td>75.2976</td>\n",
       "      <td>83.0520</td>\n",
       "      <td>1.0</td>\n",
       "      <td>1.0</td>\n",
       "      <td>0.0</td>\n",
       "      <td>0.0</td>\n",
       "    </tr>\n",
       "    <tr>\n",
       "      <th>64</th>\n",
       "      <td>2.0</td>\n",
       "      <td>7.0</td>\n",
       "      <td>5.5</td>\n",
       "      <td>1.0</td>\n",
       "      <td>1.0</td>\n",
       "      <td>First incorrect choice</td>\n",
       "      <td>81.6587</td>\n",
       "      <td>81.6588</td>\n",
       "      <td>NaN</td>\n",
       "      <td>NaN</td>\n",
       "      <td>...</td>\n",
       "      <td>NaN</td>\n",
       "      <td>2.0</td>\n",
       "      <td>1.0</td>\n",
       "      <td>1.0</td>\n",
       "      <td>75.2976</td>\n",
       "      <td>83.0520</td>\n",
       "      <td>1.0</td>\n",
       "      <td>1.0</td>\n",
       "      <td>0.0</td>\n",
       "      <td>NaN</td>\n",
       "    </tr>\n",
       "    <tr>\n",
       "      <th>65</th>\n",
       "      <td>3.0</td>\n",
       "      <td>7.0</td>\n",
       "      <td>1.0</td>\n",
       "      <td>1.0</td>\n",
       "      <td>1.0</td>\n",
       "      <td>TrialStart</td>\n",
       "      <td>84.0114</td>\n",
       "      <td>84.0214</td>\n",
       "      <td>5.0</td>\n",
       "      <td>1.0</td>\n",
       "      <td>...</td>\n",
       "      <td>0.2654</td>\n",
       "      <td>2.0</td>\n",
       "      <td>2.0</td>\n",
       "      <td>1.0</td>\n",
       "      <td>84.0114</td>\n",
       "      <td>88.5457</td>\n",
       "      <td>1.0</td>\n",
       "      <td>1.0</td>\n",
       "      <td>0.0</td>\n",
       "      <td>0.0</td>\n",
       "    </tr>\n",
       "    <tr>\n",
       "      <th>66</th>\n",
       "      <td>3.0</td>\n",
       "      <td>7.0</td>\n",
       "      <td>2.0</td>\n",
       "      <td>1.0</td>\n",
       "      <td>2.0</td>\n",
       "      <td>WaitForPoke</td>\n",
       "      <td>84.0214</td>\n",
       "      <td>86.2973</td>\n",
       "      <td>5.0</td>\n",
       "      <td>1.0</td>\n",
       "      <td>...</td>\n",
       "      <td>0.2654</td>\n",
       "      <td>2.0</td>\n",
       "      <td>2.0</td>\n",
       "      <td>1.0</td>\n",
       "      <td>84.0114</td>\n",
       "      <td>88.5457</td>\n",
       "      <td>1.0</td>\n",
       "      <td>1.0</td>\n",
       "      <td>0.0</td>\n",
       "      <td>0.0</td>\n",
       "    </tr>\n",
       "    <tr>\n",
       "      <th>67</th>\n",
       "      <td>3.0</td>\n",
       "      <td>7.0</td>\n",
       "      <td>3.0</td>\n",
       "      <td>1.0</td>\n",
       "      <td>2.0</td>\n",
       "      <td>CueDelay</td>\n",
       "      <td>86.2973</td>\n",
       "      <td>86.2974</td>\n",
       "      <td>5.0</td>\n",
       "      <td>1.0</td>\n",
       "      <td>...</td>\n",
       "      <td>0.2654</td>\n",
       "      <td>2.0</td>\n",
       "      <td>2.0</td>\n",
       "      <td>1.0</td>\n",
       "      <td>84.0114</td>\n",
       "      <td>88.5457</td>\n",
       "      <td>1.0</td>\n",
       "      <td>1.0</td>\n",
       "      <td>0.0</td>\n",
       "      <td>0.0</td>\n",
       "    </tr>\n",
       "    <tr>\n",
       "      <th>68</th>\n",
       "      <td>3.0</td>\n",
       "      <td>7.0</td>\n",
       "      <td>2.0</td>\n",
       "      <td>2.0</td>\n",
       "      <td>2.0</td>\n",
       "      <td>WaitForPoke</td>\n",
       "      <td>86.2974</td>\n",
       "      <td>86.2975</td>\n",
       "      <td>5.0</td>\n",
       "      <td>1.0</td>\n",
       "      <td>...</td>\n",
       "      <td>0.2654</td>\n",
       "      <td>2.0</td>\n",
       "      <td>2.0</td>\n",
       "      <td>1.0</td>\n",
       "      <td>84.0114</td>\n",
       "      <td>88.5457</td>\n",
       "      <td>1.0</td>\n",
       "      <td>1.0</td>\n",
       "      <td>0.0</td>\n",
       "      <td>0.0</td>\n",
       "    </tr>\n",
       "    <tr>\n",
       "      <th>69</th>\n",
       "      <td>3.0</td>\n",
       "      <td>7.0</td>\n",
       "      <td>3.0</td>\n",
       "      <td>2.0</td>\n",
       "      <td>2.0</td>\n",
       "      <td>CueDelay</td>\n",
       "      <td>86.2975</td>\n",
       "      <td>86.5629</td>\n",
       "      <td>5.0</td>\n",
       "      <td>1.0</td>\n",
       "      <td>...</td>\n",
       "      <td>0.2654</td>\n",
       "      <td>2.0</td>\n",
       "      <td>2.0</td>\n",
       "      <td>1.0</td>\n",
       "      <td>84.0114</td>\n",
       "      <td>88.5457</td>\n",
       "      <td>1.0</td>\n",
       "      <td>1.0</td>\n",
       "      <td>0.0</td>\n",
       "      <td>0.0</td>\n",
       "    </tr>\n",
       "    <tr>\n",
       "      <th>70</th>\n",
       "      <td>3.0</td>\n",
       "      <td>7.0</td>\n",
       "      <td>4.0</td>\n",
       "      <td>1.0</td>\n",
       "      <td>1.0</td>\n",
       "      <td>WaitForPortOut</td>\n",
       "      <td>86.5629</td>\n",
       "      <td>86.8243</td>\n",
       "      <td>5.0</td>\n",
       "      <td>1.0</td>\n",
       "      <td>...</td>\n",
       "      <td>0.2654</td>\n",
       "      <td>2.0</td>\n",
       "      <td>2.0</td>\n",
       "      <td>1.0</td>\n",
       "      <td>84.0114</td>\n",
       "      <td>88.5457</td>\n",
       "      <td>1.0</td>\n",
       "      <td>1.0</td>\n",
       "      <td>0.0</td>\n",
       "      <td>0.0</td>\n",
       "    </tr>\n",
       "  </tbody>\n",
       "</table>\n",
       "<p>11 rows × 21 columns</p>\n",
       "</div>"
      ],
      "text/plain": [
       "    Trial num  Trial type  State type  Instance in state  Max times in state  \\\n",
       "60        2.0         7.0         4.0                1.0                 1.0   \n",
       "61        2.0         7.0         5.0                1.0                 1.0   \n",
       "62        2.0         7.0         7.0                1.0                 1.0   \n",
       "63        2.0         7.0         8.0                1.0                 1.0   \n",
       "64        2.0         7.0         5.5                1.0                 1.0   \n",
       "65        3.0         7.0         1.0                1.0                 1.0   \n",
       "66        3.0         7.0         2.0                1.0                 2.0   \n",
       "67        3.0         7.0         3.0                1.0                 2.0   \n",
       "68        3.0         7.0         2.0                2.0                 2.0   \n",
       "69        3.0         7.0         3.0                2.0                 2.0   \n",
       "70        3.0         7.0         4.0                1.0                 1.0   \n",
       "\n",
       "                State name  Time start  Time end  Reward amount  Punish  ...  \\\n",
       "60          WaitForPortOut     80.7515   80.7666            5.0     1.0  ...   \n",
       "61         WaitForResponse     80.7666   82.9837            5.0     1.0  ...   \n",
       "62             RightReward     82.9837   83.0519            5.0     1.0  ...   \n",
       "63                Drinking     83.0519   83.0520            5.0     1.0  ...   \n",
       "64  First incorrect choice     81.6587   81.6588            NaN     NaN  ...   \n",
       "65              TrialStart     84.0114   84.0214            5.0     1.0  ...   \n",
       "66             WaitForPoke     84.0214   86.2973            5.0     1.0  ...   \n",
       "67                CueDelay     86.2973   86.2974            5.0     1.0  ...   \n",
       "68             WaitForPoke     86.2974   86.2975            5.0     1.0  ...   \n",
       "69                CueDelay     86.2975   86.5629            5.0     1.0  ...   \n",
       "70          WaitForPortOut     86.5629   86.8243            5.0     1.0  ...   \n",
       "\n",
       "    TrialCueDelay  Response  Last response  Last outcome  Trial start  \\\n",
       "60         0.2628       2.0            1.0           1.0      75.2976   \n",
       "61         0.2628       2.0            1.0           1.0      75.2976   \n",
       "62         0.2628       2.0            1.0           1.0      75.2976   \n",
       "63         0.2628       2.0            1.0           1.0      75.2976   \n",
       "64            NaN       2.0            1.0           1.0      75.2976   \n",
       "65         0.2654       2.0            2.0           1.0      84.0114   \n",
       "66         0.2654       2.0            2.0           1.0      84.0114   \n",
       "67         0.2654       2.0            2.0           1.0      84.0114   \n",
       "68         0.2654       2.0            2.0           1.0      84.0114   \n",
       "69         0.2654       2.0            2.0           1.0      84.0114   \n",
       "70         0.2654       2.0            2.0           1.0      84.0114   \n",
       "\n",
       "    Trial end  Trial outcome  First response  Reward block  \\\n",
       "60    83.0520            1.0             1.0           0.0   \n",
       "61    83.0520            1.0             1.0           0.0   \n",
       "62    83.0520            1.0             1.0           0.0   \n",
       "63    83.0520            1.0             1.0           0.0   \n",
       "64    83.0520            1.0             1.0           0.0   \n",
       "65    88.5457            1.0             1.0           0.0   \n",
       "66    88.5457            1.0             1.0           0.0   \n",
       "67    88.5457            1.0             1.0           0.0   \n",
       "68    88.5457            1.0             1.0           0.0   \n",
       "69    88.5457            1.0             1.0           0.0   \n",
       "70    88.5457            1.0             1.0           0.0   \n",
       "\n",
       "    First choice correct  \n",
       "60                   0.0  \n",
       "61                   0.0  \n",
       "62                   0.0  \n",
       "63                   0.0  \n",
       "64                   NaN  \n",
       "65                   0.0  \n",
       "66                   0.0  \n",
       "67                   0.0  \n",
       "68                   0.0  \n",
       "69                   0.0  \n",
       "70                   0.0  \n",
       "\n",
       "[11 rows x 21 columns]"
      ]
     },
     "execution_count": 101,
     "metadata": {},
     "output_type": "execute_result"
    }
   ],
   "source": [
    "trial_data.loc[60:70]"
   ]
  },
  {
   "cell_type": "markdown",
   "metadata": {},
   "source": [
    "# Analysis looking at sidedness vs cue id for Nacc\n"
   ]
  },
  {
   "cell_type": "code",
   "execution_count": 2,
   "metadata": {},
   "outputs": [],
   "source": [
    "mouse_id = 'SNL_photo30'\n",
    "date = '20201209'"
   ]
  },
  {
   "cell_type": "code",
   "execution_count": 3,
   "metadata": {},
   "outputs": [],
   "source": [
    "cue_test = SessionData('left', 'Nacc', mouse_id, date)"
   ]
  },
  {
   "cell_type": "code",
   "execution_count": 4,
   "metadata": {
    "scrolled": true
   },
   "outputs": [
    {
     "name": "stdout",
     "output_type": "stream",
     "text": [
      "(586, 17)\n",
      "(245, 160000)\n",
      "(439, 17)\n",
      "(246, 160000)\n",
      "(586, 17)\n",
      "(4, 160000)\n",
      "(439, 17)\n",
      "(239, 160000)\n",
      "(586, 17)\n",
      "(241, 160000)\n",
      "(439, 17)\n",
      "(7, 160000)\n"
     ]
    }
   ],
   "source": [
    "cue_test_ev = CueAlignedSidedData(cue_test)"
   ]
  },
  {
   "cell_type": "code",
   "execution_count": 5,
   "metadata": {},
   "outputs": [],
   "source": [
    "from utils.plotting import plot_one_side"
   ]
  },
  {
   "cell_type": "code",
   "execution_count": 6,
   "metadata": {},
   "outputs": [],
   "source": [
    "ipsi_low = cue_test_ev.low_cue_ipsi_data\n",
    "contra_low = cue_test_ev.low_cue_contra_data\n",
    "ipsi_high = cue_test_ev.high_cue_ipsi_data\n",
    "contra_high = cue_test_ev.high_cue_contra_data"
   ]
  },
  {
   "cell_type": "code",
   "execution_count": 357,
   "metadata": {},
   "outputs": [
    {
     "data": {
      "text/plain": [
       "<matplotlib.legend.Legend at 0x20033d3c8>"
      ]
     },
     "execution_count": 357,
     "metadata": {},
     "output_type": "execute_result"
    }
   ],
   "source": [
    "light_pink = '#FFADCD'\n",
    "light_blue = '#9BCFFD'\n",
    "dark_pink = '#FF478B'\n",
    "dark_blue = '#1F93FF'\n",
    "fig1, ax1 = plt.subplots(1,1)\n",
    "time_points = decimate(ipsi_low.time_points, 10)\n",
    "mean_trace = decimate(ipsi_low.mean_trace, 10)\n",
    "traces = decimate(ipsi_low.sorted_traces, 10)\n",
    "ax1.plot(time_points, mean_trace, lw=1.5, label='ipsi low', color=light_blue)\n",
    "\n",
    "mean_trace = decimate(contra_low.mean_trace, 10)\n",
    "traces = decimate(contra_low.sorted_traces, 10)\n",
    "ax1.plot(time_points, mean_trace, lw=1.5, label='contra low', color=dark_blue)\n",
    "\n",
    "mean_trace = decimate(ipsi_high.mean_trace, 10)\n",
    "traces = decimate(ipsi_high.sorted_traces, 10)\n",
    "ax1.plot(time_points, mean_trace, lw=1.5, label='ipsi high', color=dark_pink)\n",
    "\n",
    "mean_trace = decimate(contra_high.mean_trace, 10)\n",
    "traces = decimate(contra_high.sorted_traces, 10)\n",
    "ax1.plot(time_points, mean_trace, lw=1.5, label='contra high', color=light_pink)\n",
    "plt.legend()\n",
    "\n"
   ]
  },
  {
   "cell_type": "code",
   "execution_count": 351,
   "metadata": {},
   "outputs": [
    {
     "data": {
      "text/plain": [
       "<matplotlib.image.AxesImage at 0x37dfdc5f8>"
      ]
     },
     "execution_count": 351,
     "metadata": {},
     "output_type": "execute_result"
    }
   ],
   "source": [
    "fig, axs = plt.subplots(nrows=4, ncols=2)\n",
    "plot_one_side(ipsi_low, fig, axs[0,0], axs[0, 1], error_bar_method=None, sort=True, white_dot='reward')\n",
    "plot_one_side(contra_high, fig, axs[1,0], axs[1, 1], error_bar_method=None, sort=True, white_dot='reward')\n",
    "plot_one_side(ipsi_high, fig, axs[2,0], axs[2, 1], error_bar_method=None, sort=True, white_dot='reward')\n",
    "plot_one_side(contra_low, fig, axs[3,0], axs[3, 1], error_bar_method=None, sort=True, white_dot='reward')\n"
   ]
  },
  {
   "cell_type": "code",
   "execution_count": 7,
   "metadata": {},
   "outputs": [],
   "source": [
    "import seaborn as sns"
   ]
  },
  {
   "cell_type": "code",
   "execution_count": 8,
   "metadata": {},
   "outputs": [],
   "source": [
    "a = decimate(ipsi_low.sorted_traces, 10)"
   ]
  },
  {
   "cell_type": "code",
   "execution_count": 9,
   "metadata": {},
   "outputs": [],
   "source": [
    "time_points = decimate(ipsi_low.time_points, 10)"
   ]
  },
  {
   "cell_type": "code",
   "execution_count": null,
   "metadata": {},
   "outputs": [],
   "source": [
    "sns.heatmap(a, xticklabels=time_points)"
   ]
  },
  {
   "cell_type": "code",
   "execution_count": 14,
   "metadata": {},
   "outputs": [
    {
     "data": {
      "text/plain": [
       "(241, 16000)"
      ]
     },
     "execution_count": 14,
     "metadata": {},
     "output_type": "execute_result"
    }
   ],
   "source": [
    "a.shape"
   ]
  },
  {
   "cell_type": "code",
   "execution_count": 15,
   "metadata": {},
   "outputs": [],
   "source": [
    "time_points = decimate(ipsi_low.time_points, 10)"
   ]
  },
  {
   "cell_type": "code",
   "execution_count": null,
   "metadata": {},
   "outputs": [],
   "source": []
  }
 ],
 "metadata": {
  "kernelspec": {
   "display_name": "Python 3 (ipykernel)",
   "language": "python",
   "name": "python3"
  },
  "language_info": {
   "codemirror_mode": {
    "name": "ipython",
    "version": 3
   },
   "file_extension": ".py",
   "mimetype": "text/x-python",
   "name": "python",
   "nbconvert_exporter": "python",
   "pygments_lexer": "ipython3",
   "version": "3.9.7"
  }
 },
 "nbformat": 4,
 "nbformat_minor": 2
}
