{
 "cells": [
  {
   "cell_type": "code",
   "execution_count": 1,
   "metadata": {},
   "outputs": [],
   "source": [
    "import csv\n",
    "import numpy as np\n",
    "import pandas as pd\n",
    "import matplotlib.pyplot as plt"
   ]
  },
  {
   "cell_type": "code",
   "execution_count": 2,
   "metadata": {},
   "outputs": [],
   "source": [
    "def converttime(time):\n",
    "    #offset = time & 0xFFF\n",
    "    cycle1 = (time >> 12) & 0x1FFF\n",
    "    cycle2 = (time >> 25) & 0x7F\n",
    "    seconds = cycle2 + cycle1 / 8000.\n",
    "    return seconds\n",
    "\n",
    "def uncycle(time):\n",
    "    cycles = np.insert(np.diff(time) < 0, 0, False)\n",
    "    cycleindex = np.cumsum(cycles)\n",
    "    return time + cycleindex * 128"
   ]
  },
  {
   "cell_type": "code",
   "execution_count": 3,
   "metadata": {},
   "outputs": [],
   "source": [
    "vid_path = 'V:\\\\data\\\\'\n",
    "file_name = vid_path + 'stamps2019-11-05T16_09_49.csv'"
   ]
  },
  {
   "cell_type": "markdown",
   "metadata": {},
   "source": [
    "Read in the file"
   ]
  },
  {
   "cell_type": "code",
   "execution_count": 4,
   "metadata": {},
   "outputs": [],
   "source": [
    "df = pd.read_csv(file_name, sep = ' ', header=None, names=['Trigger', 'Timestamp', 'blank'], index_col=2)\n",
    "del df['blank']"
   ]
  },
  {
   "cell_type": "markdown",
   "metadata": {},
   "source": [
    "Convert the timestamps into seconds"
   ]
  },
  {
   "cell_type": "code",
   "execution_count": 5,
   "metadata": {},
   "outputs": [],
   "source": [
    "new_stamps = []\n",
    "for indx, row in df.iterrows():\n",
    "    timestamp = df.at[indx,'Timestamp']\n",
    "    timestamp_new = converttime(timestamp)\n",
    "    new_stamps.append(timestamp_new)\n",
    "    df.at[indx,'Timestamp_seconds'] = timestamp_new"
   ]
  },
  {
   "cell_type": "markdown",
   "metadata": {},
   "source": [
    "Now plot 1/(diff between time stamps). This tells you roughly the frequency and if you've droppped frames."
   ]
  },
  {
   "cell_type": "code",
   "execution_count": 6,
   "metadata": {
    "scrolled": true
   },
   "outputs": [
    {
     "data": {
      "text/plain": [
       "Text(0, 0.5, 'Number of frames')"
      ]
     },
     "execution_count": 6,
     "metadata": {},
     "output_type": "execute_result"
    },
    {
     "data": {
      "image/png": "[encoded data removed]",
      "text/plain": [
       "<Figure size 432x288 with 1 Axes>"
      ]
     },
     "metadata": {
      "needs_background": "light"
     },
     "output_type": "display_data"
    }
   ],
   "source": [
    "frame_gaps = plt.hist(1/np.diff(df['Timestamp_seconds']), bins=100)\n",
    "plt.xlabel('Frequency')\n",
    "plt.ylabel('Number of frames')"
   ]
  },
  {
   "cell_type": "markdown",
   "metadata": {},
   "source": [
    "Plot the trigger trace"
   ]
  },
  {
   "cell_type": "code",
   "execution_count": 91,
   "metadata": {},
   "outputs": [
    {
     "data": {
      "text/plain": [
       "Text(0, 0.5, 'GPIO pin state')"
      ]
     },
     "execution_count": 91,
     "metadata": {},
     "output_type": "execute_result"
    },
    {
     "data": {
      "image/png": "[encoded data removed]",
      "text/plain": [
       "<Figure size 432x288 with 1 Axes>"
      ]
     },
     "metadata": {
      "needs_background": "light"
     },
     "output_type": "display_data"
    }
   ],
   "source": [
    "plt.plot(df['Timestamp_seconds'],df['Trigger'])\n",
    "plt.xlabel('Time(seconds)')\n",
    "plt.ylabel('GPIO pin state')"
   ]
  }
 ],
 "metadata": {
  "kernelspec": {
   "display_name": "Python 3",
   "language": "python",
   "name": "python3"
  },
  "language_info": {
   "codemirror_mode": {
    "name": "ipython",
    "version": 3
   },
   "file_extension": ".py",
   "mimetype": "text/x-python",
   "name": "python",
   "nbconvert_exporter": "python",
   "pygments_lexer": "ipython3",
   "version": "3.7.3"
  }
 },
 "nbformat": 4,
 "nbformat_minor": 2
}
