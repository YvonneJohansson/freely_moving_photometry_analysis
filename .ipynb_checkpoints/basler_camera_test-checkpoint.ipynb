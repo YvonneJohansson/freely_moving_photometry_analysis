{
 "cells": [
  {
   "cell_type": "code",
   "execution_count": 73,
   "metadata": {},
   "outputs": [],
   "source": [
    "%matplotlib qt5\n",
    "import numpy as np\n",
    "import nptdms\n",
    "import matplotlib.pyplot as plt\n",
    "import skvideo \n",
    "skvideo.setFFmpegPath('C:\\\\Users\\\\francescag\\\\Documents\\\\PhD_Project\\\\ffmpeg\\\\bin')\n",
    "import skvideo.io\n",
    "import cv2\n",
    "import tkinter"
   ]
  },
  {
   "cell_type": "code",
   "execution_count": 56,
   "metadata": {},
   "outputs": [],
   "source": [
    "folder = \"W://camera_test/20191107_13_30_03///\"\n",
    "daq_data = nptdms.TdmsFile(folder + \"AI.tdms\")"
   ]
  },
  {
   "cell_type": "code",
   "execution_count": 57,
   "metadata": {},
   "outputs": [],
   "source": [
    "vid_reader = skvideo.io.FFmpegReader(folder + \"camera.avi\")\n",
    "(numframe, _, _, _) = vid_reader.getShape()"
   ]
  },
  {
   "cell_type": "code",
   "execution_count": 58,
   "metadata": {},
   "outputs": [
    {
     "data": {
      "text/plain": [
       "615"
      ]
     },
     "execution_count": 58,
     "metadata": {},
     "output_type": "execute_result"
    }
   ],
   "source": [
    "numframe"
   ]
  },
  {
   "cell_type": "code",
   "execution_count": 65,
   "metadata": {},
   "outputs": [],
   "source": [
    "clock = daq_data.group_channels('acq_task')[3].data\n",
    "clock_gaps = np.diff(clock)\n",
    "clock_ttls_daq_samples = np.where(clock_gaps > 2)\n",
    "clock_ttls_daq = clock_ttls_daq_samples[0]/10000\n",
    "clock_pulses = clock_ttls_daq.shape[0]"
   ]
  },
  {
   "cell_type": "code",
   "execution_count": 49,
   "metadata": {},
   "outputs": [
    {
     "data": {
      "text/plain": [
       "<matplotlib.collections.PathCollection at 0x16a32cc0>"
      ]
     },
     "execution_count": 49,
     "metadata": {},
     "output_type": "execute_result"
    }
   ],
   "source": [
    "plt.plot(clock)\n",
    "#plt.plot(clock_gaps)\n",
    "plt.scatter(trial_start_ttls_daq_samples,np.ones([clock_pulses])*5, color='k')"
   ]
  },
  {
   "cell_type": "code",
   "execution_count": 66,
   "metadata": {},
   "outputs": [
    {
     "data": {
      "text/plain": [
       "615"
      ]
     },
     "execution_count": 66,
     "metadata": {},
     "output_type": "execute_result"
    }
   ],
   "source": [
    "clock_pulses"
   ]
  },
  {
   "cell_type": "code",
   "execution_count": null,
   "metadata": {},
   "outputs": [],
   "source": [
    "video = skvideo.io.vread(folder + \"camera.avi\")"
   ]
  },
  {
   "cell_type": "code",
   "execution_count": 85,
   "metadata": {},
   "outputs": [],
   "source": [
    "cv2.imshow('frame 0',video[0,:,:,:])"
   ]
  },
  {
   "cell_type": "code",
   "execution_count": 86,
   "metadata": {},
   "outputs": [],
   "source": [
    "import tkinter\n"
   ]
  },
  {
   "cell_type": "code",
   "execution_count": null,
   "metadata": {},
   "outputs": [],
   "source": []
  }
 ],
 "metadata": {
  "kernelspec": {
   "display_name": "Python 3",
   "language": "python",
   "name": "python3"
  }
 },
 "nbformat": 4,
 "nbformat_minor": 2
}
