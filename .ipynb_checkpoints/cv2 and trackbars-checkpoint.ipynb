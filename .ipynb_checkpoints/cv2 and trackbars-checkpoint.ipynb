{
 "cells": [
  {
   "cell_type": "code",
   "execution_count": 1,
   "metadata": {},
   "outputs": [],
   "source": [
    "import cv2\n",
    "folder = \"W:\\\\photometry_2AC\\\\freely_moving_photometry_videos\\\\BLA_photo2\\\\\"\n",
    "infile = folder + \"video2019-10-03T10_36_51\"\n",
    "cap = cv2.VideoCapture(infile)\n",
    "length = int(cap.get(cv2.CAP_PROP_FRAME_COUNT))\n",
    "\n",
    "def onChange(trackbarValue):\n",
    "    cap.set(cv2.CAP_PROP_POS_FRAMES,trackbarValue)\n",
    "    err,img = cap.read()\n",
    "    cv2.imshow(\"mywindow\", img)\n",
    "    pass\n",
    "\n",
    "cv2.namedWindow('mywindow')\n",
    "cv2.createTrackbar( 'start', 'mywindow', 0, length, onChange )\n",
    "cv2.createTrackbar( 'end'  , 'mywindow', 100, length, onChange )\n",
    "\n",
    "onChange(0)\n",
    "cv2.waitKey()\n",
    "\n",
    "start = cv2.getTrackbarPos('start','mywindow')\n",
    "end   = cv2.getTrackbarPos('end','mywindow')\n",
    "if start >= end:\n",
    "    raise Exception(\"start must be less than end\")\n",
    "\n",
    "cap.set(cv2.CAP_PROP_POS_FRAMES,start)\n",
    "while cap.isOpened():\n",
    "    err,img = cap.read()\n",
    "    if cap.get(cv2.CAP_PROP_POS_FRAMES) >= end:\n",
    "        break\n",
    "    cv2.imshow(\"mywindow\", img)\n",
    "    k = cv2.waitKey(10) & 0xff\n",
    "    if k==27:\n",
    "        break\n"
   ]
  },
  {
   "cell_type": "code",
   "execution_count": null,
   "metadata": {},
   "outputs": [],
   "source": []
  }
 ],
 "metadata": {
  "kernelspec": {
   "display_name": "Python 3",
   "language": "python",
   "name": "python3"
  },
  "language_info": {
   "codemirror_mode": {
    "name": "ipython",
    "version": 3
   },
   "file_extension": ".py",
   "mimetype": "text/x-python",
   "name": "python",
   "nbconvert_exporter": "python",
   "pygments_lexer": "ipython3",
   "version": "3.7.3"
  }
 },
 "nbformat": 4,
 "nbformat_minor": 2
}
