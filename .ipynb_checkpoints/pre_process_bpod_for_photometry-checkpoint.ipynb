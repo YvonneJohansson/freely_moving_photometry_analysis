{
 "cells": [
  {
   "cell_type": "code",
   "execution_count": 9,
   "metadata": {},
   "outputs": [
    {
     "name": "stdout",
     "output_type": "stream",
     "text": [
      "The autoreload extension is already loaded. To reload it, use:\n",
      "  %reload_ext autoreload\n"
     ]
    }
   ],
   "source": [
    "%matplotlib qt5\n",
    "%load_ext autoreload\n",
    "%autoreload 2\n",
    "# Add modules to the path\n",
    "import sys\n",
    "sys.path.insert(0, 'C:\\\\Users\\\\francescag\\\\Documents\\\\SourceTree_repos\\\\Python_git')\n",
    "sys.path.insert(0, 'C:\\\\Users\\\\francescag\\\\Documents\\\\SourceTree_repos')\n",
    "\n",
    "import nptdms\n",
    "import copy\n",
    "import matplotlib.pyplot as plt\n",
    "import numpy as np\n",
    "import scipy.signal\n",
    "import peakutils\n",
    "from itertools import chain\n",
    "import pandas as pd\n",
    "from utils.demodulation import lerner_deisseroth_preprocess\n",
    "import utils.bpod_data_processing as bpod"
   ]
  },
  {
   "cell_type": "code",
   "execution_count": 10,
   "metadata": {},
   "outputs": [],
   "source": [
    "mouse = 'SNL_photo7'\n",
    "date = '20190912'\n",
    "daq_file = bpod.find_daq_file(mouse, date)\n",
    "data = nptdms.TdmsFile(daq_file)"
   ]
  },
  {
   "cell_type": "code",
   "execution_count": 11,
   "metadata": {},
   "outputs": [],
   "source": [
    "main_session_file = bpod.find_bpod_file(mouse, date)"
   ]
  },
  {
   "cell_type": "code",
   "execution_count": 12,
   "metadata": {},
   "outputs": [],
   "source": [
    "loaded_bpod_file, trial_raw_events = bpod.load_bpod_file(main_session_file)"
   ]
  },
  {
   "cell_type": "code",
   "execution_count": 28,
   "metadata": {},
   "outputs": [
    {
     "data": {
      "text/plain": [
       "[<matplotlib.lines.Line2D at 0x774e0b8>]"
      ]
     },
     "execution_count": 28,
     "metadata": {},
     "output_type": "execute_result"
    }
   ],
   "source": [
    "plt.plot(loaded_bpod_file['SessionData']['TrialSide'] - loaded_bpod_file['SessionData']['FirstPoke'])"
   ]
  },
  {
   "cell_type": "code",
   "execution_count": 5,
   "metadata": {},
   "outputs": [
    {
     "name": "stdout",
     "output_type": "stream",
     "text": [
      "565 trials in session\n"
     ]
    }
   ],
   "source": [
    "chan_0 = data.group_channels('acq_task')[0].data\n",
    "led405 = data.group_channels('acq_task')[2].data\n",
    "led465 = data.group_channels('acq_task')[1].data\n",
    "clock = data.group_channels('acq_task')[3].data\n",
    "stim_trigger = data.group_channels('acq_task')[4].data\n",
    "stim_trigger_gaps = np.diff(stim_trigger)\n",
    "trial_start_ttls_daq_samples = np.where(stim_trigger_gaps > 2.6)\n",
    "trial_start_ttls_daq = trial_start_ttls_daq_samples[0]/10000\n",
    "daq_num_trials = trial_start_ttls_daq.shape[0]\n",
    "bpod_num_trials = trial_raw_events.shape[0]\n",
    "if daq_num_trials != bpod_num_trials:\n",
    "    print('numbers of trials do not match!')\n",
    "    print('daq: ', daq_num_trials)\n",
    "    print('bpod: ', bpod_num_trials)\n",
    "else: print(daq_num_trials, 'trials in session')"
   ]
  },
  {
   "cell_type": "code",
   "execution_count": 155,
   "metadata": {},
   "outputs": [],
   "source": [
    "for t in range(bpod_num_trials):\n",
    "    plt.plot(stim_trigger[trial_start_ttls_daq_samples[0][t]-4:trial_start_ttls_daq_samples[0][t]+4])"
   ]
  },
  {
   "cell_type": "code",
   "execution_count": 6,
   "metadata": {},
   "outputs": [],
   "source": [
    "original_state_data_all_trials = loaded_bpod_file['SessionData']['RawData']['OriginalStateData']\n",
    "original_state_timestamps_all_trials = loaded_bpod_file['SessionData']['RawData']['OriginalStateTimestamps']\n",
    "daq_trials_start_ttls = trial_start_ttls_daq\n",
    "# loops through all the trials and pulls out all the states\n",
    "all_time_stamps = []\n",
    "for trial, state_timestamps in enumerate(original_state_timestamps_all_trials):\n",
    "    state_info = {}\n",
    "    trial_states = original_state_data_all_trials[trial]\n",
    "    num_states = (len(trial_states))\n",
    "    state_info['Trial num'] = np.ones((num_states)) * trial\n",
    "    state_info['Trial type'] = np.ones((num_states)) * loaded_bpod_file['SessionData']['TrialSequence'][trial]\n",
    "    state_info['State type'] = trial_states\n",
    "    num_times_in_state = bpod.find_num_times_in_state(trial_states)\n",
    "    state_info['Instance in state'] = num_times_in_state[0]\n",
    "    state_info['Max times in state'] = num_times_in_state[1]\n",
    "    state_info['State name'] = loaded_bpod_file['SessionData']['RawData']['OriginalStateNamesByNumber'][0] [trial_states-1]\n",
    "    state_info['Time start'] = state_timestamps[0:-1] + daq_trials_start_ttls[trial]\n",
    "    state_info['Time end'] = state_timestamps[1:] + daq_trials_start_ttls[trial]\n",
    "    state_info['Response'] = np.ones((num_states)) * loaded_bpod_file['SessionData']['ChosenSide'][trial]\n",
    "    if trial > 0:\n",
    "        state_info['Last response'] = np.ones((num_states)) * loaded_bpod_file['SessionData']['ChosenSide'][trial - 1]\n",
    "        state_info['Last outcome'] = np.ones((num_states)) * loaded_bpod_file['SessionData']['Outcomes'][trial - 1]\n",
    "    else: \n",
    "        state_info['Last response'] = np.ones((num_states)) * -1\n",
    "        state_info['Last outcome'] = np.ones((num_states)) * -1\n",
    "    state_info['Trial start'] = np.ones((num_states)) * daq_trials_start_ttls[trial]\n",
    "    state_info['Trial end'] = np.ones((num_states)) * (state_timestamps[-1] + daq_trials_start_ttls[trial])\n",
    "    state_info['Trial outcome'] = np.ones((num_states)) * loaded_bpod_file['SessionData']['Outcomes'][trial]\n",
    "    \n",
    "    if  loaded_bpod_file['SessionData']['FirstPoke'][trial] == loaded_bpod_file['SessionData']['TrialSide'][trial]: \n",
    "        state_info['First choice correct'] = np.ones((num_states)) \n",
    "    else:\n",
    "        state_info['First choice correct'] = np.zeros((num_states)) \n",
    "    trial_data = pd.DataFrame(state_info)\n",
    "    if trial == 0:\n",
    "        restructured_data = trial_data\n",
    "    else: restructured_data = pd.concat([restructured_data, trial_data], ignore_index=True)"
   ]
  },
  {
   "cell_type": "code",
   "execution_count": 7,
   "metadata": {},
   "outputs": [],
   "source": [
    "demod_signal = lerner_deisseroth_preprocess(chan_0, led465, led405)"
   ]
  },
  {
   "cell_type": "code",
   "execution_count": 8,
   "metadata": {},
   "outputs": [],
   "source": [
    "saving_folder = 'W:\\\\photometry_2AC\\\\processed_data\\\\' + mouse + '\\\\'\n",
    "demod_trace_filename = mouse + '_' + date + '_' + 'demod_signal_old.npy'\n",
    "restructured_data_filename = mouse + '_' + date + '_' + 'restructured_data.pkl'\n",
    "np.save(saving_folder + demod_trace_filename, demod_signal)\n",
    "restructured_data.to_pickle(saving_folder + restructured_data_filename) "
   ]
  },
  {
   "cell_type": "code",
   "execution_count": 144,
   "metadata": {},
   "outputs": [
    {
     "data": {
      "text/plain": [
       "[<matplotlib.lines.Line2D at 0x5041be48>]"
      ]
     },
     "execution_count": 144,
     "metadata": {},
     "output_type": "execute_result"
    }
   ],
   "source": [
    "plt.plot(demod_signal[1000000:3000000])\n",
    "\n"
   ]
  },
  {
   "cell_type": "code",
   "execution_count": null,
   "metadata": {},
   "outputs": [],
   "source": []
  }
 ],
 "metadata": {
  "kernelspec": {
   "display_name": "Python 3",
   "language": "python",
   "name": "python3"
  },
  "language_info": {
   "codemirror_mode": {
    "name": "ipython",
    "version": 3
   },
   "file_extension": ".py",
   "mimetype": "text/x-python",
   "name": "python",
   "nbconvert_exporter": "python",
   "pygments_lexer": "ipython3",
   "version": "3.7.3"
  }
 },
 "nbformat": 4,
 "nbformat_minor": 2
}
