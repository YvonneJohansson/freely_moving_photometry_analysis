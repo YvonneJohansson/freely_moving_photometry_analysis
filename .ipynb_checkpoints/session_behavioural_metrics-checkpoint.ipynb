{
 "cells": [
  {
   "cell_type": "code",
   "execution_count": 44,
   "metadata": {},
   "outputs": [],
   "source": [
    "import pandas as pd\n",
    "import datetime\n",
    "import numpy as np"
   ]
  },
  {
   "cell_type": "code",
   "execution_count": 38,
   "metadata": {},
   "outputs": [],
   "source": [
    "mouse = 'SNL_photo18'\n",
    "BpodProtocol = '/Two_Alternative_Choice/'\n",
    "GeneralDirectory = 'W:/photometry_2AC/bpod_data/'\n",
    "DFfile = GeneralDirectory + mouse + BpodProtocol + 'Data_Analysis/' + mouse + '_dataframe.pkl'\n",
    "behavioural_stats = pd.read_pickle(DFfile)"
   ]
  },
  {
   "cell_type": "code",
   "execution_count": 26,
   "metadata": {},
   "outputs": [],
   "source": [
    "def MakeDatesPretty(inputDates):\n",
    "    # assumes input style YYYYMMDD_HHMMSS\n",
    "    outputDates = []\n",
    "    for date in inputDates: \n",
    "            x = datetime.datetime(int(date[0:4]), int(date[4:6]), int(date[6:8]))\n",
    "            outputDates.append(x.strftime(\"%b%d\")) \n",
    "    return(outputDates)"
   ]
  },
  {
   "cell_type": "code",
   "execution_count": 48,
   "metadata": {},
   "outputs": [],
   "source": [
    "mouse = 'SNL_photo18'\n",
    "dates = ['20200223', '20200226', '20200228', '20200229','20200303']\n",
    "reformatted_dates = MakeDatesPretty(dates)\n",
    "percentage_correct = []\n",
    "for date_num, date in enumerate(reformatted_dates):\n",
    "    points_for_day = behavioural_stats[behavioural_stats['SessionTime'].str.contains(date)]\n",
    "    percentage_correct.append(100 * np.sum(points_for_day['FirstPokeCorrect'])/len(points_for_day))"
   ]
  },
  {
   "cell_type": "code",
   "execution_count": 49,
   "metadata": {},
   "outputs": [
    {
     "data": {
      "text/plain": [
       "[46.7005076142132,\n",
       " 45.6140350877193,\n",
       " 64.07766990291262,\n",
       " 62.755102040816325,\n",
       " 65.64102564102564]"
      ]
     },
     "execution_count": 49,
     "metadata": {},
     "output_type": "execute_result"
    }
   ],
   "source": [
    "percentage_correct"
   ]
  },
  {
   "cell_type": "code",
   "execution_count": null,
   "metadata": {},
   "outputs": [],
   "source": [
    "def percentage_correct_correlation(mouse, dates):\n",
    "    reformatted_dates = MakeDatesPretty(dates)\n",
    "    percentage_correct = []\n",
    "    for date_num, date in enumerate(reformatted_dates):\n",
    "        points_for_day = behavioural_stats[behavioural_stats['SessionTime'].str.contains(date)]\n",
    "        percentage_correct.append(100 * np.sum(points_for_day['FirstPokeCorrect'])/len(points_for_day))"
   ]
  }
 ],
 "metadata": {
  "kernelspec": {
   "display_name": "Python 3",
   "language": "python",
   "name": "python3"
  },
  "language_info": {
   "codemirror_mode": {
    "name": "ipython",
    "version": 3
   },
   "file_extension": ".py",
   "mimetype": "text/x-python",
   "name": "python",
   "nbconvert_exporter": "python",
   "pygments_lexer": "ipython3",
   "version": "3.7.3"
  }
 },
 "nbformat": 4,
 "nbformat_minor": 4
}
