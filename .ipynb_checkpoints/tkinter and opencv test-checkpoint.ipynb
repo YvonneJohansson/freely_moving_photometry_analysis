{
 "cells": [
  {
   "cell_type": "markdown",
   "metadata": {},
   "source": [
    "# Makes a gui that plays the video and you can snapshot "
   ]
  },
  {
   "cell_type": "code",
   "execution_count": 3,
   "metadata": {},
   "outputs": [],
   "source": [
    "import tkinter\n",
    "import cv2\n",
    "import PIL.Image, PIL.ImageTk\n",
    "import time\n",
    "  \n",
    "class App:\n",
    "     def __init__(self, window, window_title, video_source=0):\n",
    "         self.window = window\n",
    "         self.window.title(window_title)\n",
    "         self.video_source = video_source\n",
    " \n",
    "         # open video source (by default this will try to open the computer webcam)\n",
    "         self.vid = MyVideoCapture(self.video_source)\n",
    " \n",
    "         # Create a canvas that can fit the above video source size\n",
    "         self.canvas = tkinter.Canvas(window, width = self.vid.width, height = self.vid.height)\n",
    "         self.canvas.pack()\n",
    " \n",
    "         # Button that lets the user take a snapshot\n",
    "         self.btn_snapshot=tkinter.Button(window, text=\"Snapshot\", width=50, command=self.snapshot)\n",
    "         self.btn_snapshot.pack(anchor=tkinter.CENTER, expand=True)\n",
    " \n",
    "         # After it is called once, the update method will be automatically called every delay milliseconds\n",
    "         self.delay = 1000\n",
    "         self.update()\n",
    " \n",
    "         self.window.mainloop()\n",
    " \n",
    "     def snapshot(self):\n",
    "         # Get a frame from the video source\n",
    "         ret, frame = self.vid.get_frame()\n",
    " \n",
    "         if ret:\n",
    "             cv2.imwrite(\"frame-\" + time.strftime(\"%d-%m-%Y-%H-%M-%S\") + \".jpg\", cv2.cvtColor(frame, cv2.COLOR_RGB2BGR))\n",
    " \n",
    "     def update(self):\n",
    "         # Get a frame from the video source\n",
    "         ret, frame = self.vid.get_frame()\n",
    " \n",
    "         if ret:\n",
    "             self.photo = PIL.ImageTk.PhotoImage(image = PIL.Image.fromarray(frame))\n",
    "             self.canvas.create_image(0, 0, image = self.photo, anchor = tkinter.NW)\n",
    " \n",
    "         self.window.after(self.delay, self.update)\n",
    " \n",
    " \n",
    "class MyVideoCapture:\n",
    "     def __init__(self, video_source=0):\n",
    "         # Open the video source\n",
    "         self.vid = cv2.VideoCapture(video_source)\n",
    "         if not self.vid.isOpened():\n",
    "             raise ValueError(\"Unable to open video source\", video_source)\n",
    " \n",
    "         # Get video source width and height\n",
    "         self.width = self.vid.get(cv2.CAP_PROP_FRAME_WIDTH)\n",
    "         self.height = self.vid.get(cv2.CAP_PROP_FRAME_HEIGHT)\n",
    " \n",
    "     def get_frame(self):\n",
    "         if self.vid.isOpened():\n",
    "             ret, frame = self.vid.read()\n",
    "             if ret:\n",
    "                 # Return a boolean success flag and the current frame converted to BGR\n",
    "                 return (ret, cv2.cvtColor(frame, cv2.COLOR_BGR2RGB))\n",
    "             else:\n",
    "                 return (ret, None)\n",
    "         else:\n",
    "             return (ret, None)\n",
    " \n",
    "     # Release the video source when the object is destroyed\n",
    "     def __del__(self):\n",
    "         if self.vid.isOpened():\n",
    "             self.vid.release()\n",
    " \n"
   ]
  },
  {
   "cell_type": "code",
   "execution_count": 7,
   "metadata": {},
   "outputs": [
    {
     "data": {
      "text/plain": [
       "<__main__.App at 0x5d30908>"
      ]
     },
     "execution_count": 7,
     "metadata": {},
     "output_type": "execute_result"
    }
   ],
   "source": [
    "# Create a window and pass it to the Application object\n",
    "folder = \"W:\\\\photometry_2AC\\\\freely_moving_photometry_data\\\\SNL_987657_puff\\\\20191112_15_11_14\\\\\"\n",
    "App(tkinter.Tk(), \"Tkinter and OpenCV\", video_source=folder + \"camera.avi\")"
   ]
  },
  {
   "cell_type": "code",
   "execution_count": null,
   "metadata": {},
   "outputs": [],
   "source": []
  }
 ],
 "metadata": {
  "kernelspec": {
   "display_name": "Python 3",
   "language": "python",
   "name": "python3"
  },
  "language_info": {
   "codemirror_mode": {
    "name": "ipython",
    "version": 3
   },
   "file_extension": ".py",
   "mimetype": "text/x-python",
   "name": "python",
   "nbconvert_exporter": "python",
   "pygments_lexer": "ipython3",
   "version": "3.7.3"
  }
 },
 "nbformat": 4,
 "nbformat_minor": 2
}
