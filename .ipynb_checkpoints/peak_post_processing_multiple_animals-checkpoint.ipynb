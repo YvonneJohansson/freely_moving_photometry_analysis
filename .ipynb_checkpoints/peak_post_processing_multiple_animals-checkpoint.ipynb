{
 "cells": [
  {
   "cell_type": "markdown",
   "metadata": {},
   "source": [
    "Things to implement: \n",
    "\n",
    "Correlations: \n",
    "- Percentage correct X\n",
    "- Days since hitting 75% correct\n",
    "- Number of trials done\n",
    "- Number of rewards received X\n",
    "- Number of times that action has been taken (law of exercise)\n",
    "- Number of trials per minute in that session\n",
    "\n",
    "\n",
    "- total fluorescence\n",
    "- fluorescence SD\n",
    "- z-score SD\n",
    "\n",
    "Other:\n",
    "- Area under curve as well as peaks\n",
    "\n",
    "\n",
    "Also across animals"
   ]
  },
  {
   "cell_type": "code",
   "execution_count": 9,
   "metadata": {},
   "outputs": [],
   "source": [
    "%matplotlib qt5\n",
    "%load_ext autoreload\n",
    "%autoreload 2\n",
    "import pickle\n",
    "from utils.plotting import mouse_data_for_group_plot\n",
    "import matplotlib.pyplot as plt\n",
    "from matplotlib import colors, cm\n",
    "import numpy as np\n",
    "import peakutils\n",
    "import datetime \n",
    "import pandas as pd\n",
    "from utils.mean_trace_utils import mouseDates, plot_multiple_days, plot_average_mouse"
   ]
  },
  {
   "cell_type": "code",
   "execution_count": 4,
   "metadata": {},
   "outputs": [],
   "source": [
    "mice_dates = []\n",
    "mouse1 = 'SNL_photo16'\n",
    "dates1 = ['20200210','20200213', '20200218',  '20200220', '20200224', '20200227', '20200303','20200305', '20200307',\n",
    "         '20200310', '20200312']\n",
    "mice_dates.append(mouseDates(mouse1, dates1))\n",
    "mouse2 = 'SNL_photo17'\n",
    "dates2 = ['20200204', '20200206', '20200208', '20200210', '20200212', '20200214', '20200218', '20200221', '20200224',\n",
    "         '20200226', '20200228', '20200303','20200305', '20200307','20200310', '20200311', '20200317']\n",
    "mice_dates.append(mouseDates(mouse2, dates2))\n",
    "mouse3 = 'SNL_photo18'\n",
    "dates3 = ['20200223', '20200226', '20200228', '20200229','20200303', '20200305', '20200307',\n",
    "         '20200310', '20200312', '20200313', '20200316']\n",
    "mice_dates.append(mouseDates(mouse3, dates3))\n"
   ]
  },
  {
   "cell_type": "code",
   "execution_count": 10,
   "metadata": {},
   "outputs": [],
   "source": [
    "mice_dates = []\n",
    "mouse1 = 'SNL_photo16'\n",
    "dates1 = '20200210'\n",
    "mice_dates.append(mouseDates(mouse1, dates1))\n",
    "mouse2 = 'SNL_photo17'\n",
    "dates2 = '20200204'\n",
    "mice_dates.append(mouseDates(mouse2, dates2))\n",
    "mouse3 = 'SNL_photo18'\n",
    "dates3 = '20200223'\n",
    "mice_dates.append(mouseDates(mouse3, dates3))\n",
    "plot_average_mouse(mice_dates, ipsi_or_contra='contra')"
   ]
  },
  {
   "cell_type": "code",
   "execution_count": 38,
   "metadata": {},
   "outputs": [
    {
     "name": "stdout",
     "output_type": "stream",
     "text": [
      "0.46834955521340793\n"
     ]
    }
   ],
   "source": [
    "peaks_correlations_multi_mice(mice_dates, ipsi_or_contra='ipsi')"
   ]
  },
  {
   "cell_type": "code",
   "execution_count": 135,
   "metadata": {},
   "outputs": [
    {
     "ename": "ValueError",
     "evalue": "invalid literal for int() with base 10: ''",
     "output_type": "error",
     "traceback": [
      "\u001b[1;31m---------------------------------------------------------------------------\u001b[0m",
      "\u001b[1;31mValueError\u001b[0m                                Traceback (most recent call last)",
      "\u001b[1;32m<ipython-input-135-2898f976da1b>\u001b[0m in \u001b[0;36m<module>\u001b[1;34m\u001b[0m\n\u001b[1;32m----> 1\u001b[1;33m \u001b[0mpercentage_correct_correlations_multi_mice\u001b[0m\u001b[1;33m(\u001b[0m\u001b[0mmice_dates\u001b[0m\u001b[1;33m,\u001b[0m \u001b[0mipsi_or_contra\u001b[0m\u001b[1;33m=\u001b[0m\u001b[1;34m'contra'\u001b[0m\u001b[1;33m)\u001b[0m\u001b[1;33m\u001b[0m\u001b[1;33m\u001b[0m\u001b[0m\n\u001b[0m",
      "\u001b[1;32m<ipython-input-77-ed8a4bca761f>\u001b[0m in \u001b[0;36mpercentage_correct_correlations_multi_mice\u001b[1;34m(mice_dates, ipsi_or_contra)\u001b[0m\n\u001b[0;32m     11\u001b[0m         \u001b[1;32mfor\u001b[0m \u001b[0mdate\u001b[0m \u001b[1;32min\u001b[0m \u001b[0mdates\u001b[0m\u001b[1;33m:\u001b[0m\u001b[1;33m\u001b[0m\u001b[1;33m\u001b[0m\u001b[0m\n\u001b[0;32m     12\u001b[0m             \u001b[0myear\u001b[0m \u001b[1;33m=\u001b[0m \u001b[0mint\u001b[0m\u001b[1;33m(\u001b[0m\u001b[0mdate\u001b[0m\u001b[1;33m[\u001b[0m\u001b[1;36m0\u001b[0m\u001b[1;33m:\u001b[0m\u001b[1;36m4\u001b[0m\u001b[1;33m]\u001b[0m\u001b[1;33m)\u001b[0m\u001b[1;33m\u001b[0m\u001b[1;33m\u001b[0m\u001b[0m\n\u001b[1;32m---> 13\u001b[1;33m             \u001b[0mmonth\u001b[0m \u001b[1;33m=\u001b[0m \u001b[0mint\u001b[0m\u001b[1;33m(\u001b[0m\u001b[0mdate\u001b[0m\u001b[1;33m[\u001b[0m\u001b[1;36m4\u001b[0m\u001b[1;33m:\u001b[0m\u001b[1;36m6\u001b[0m\u001b[1;33m]\u001b[0m\u001b[1;33m)\u001b[0m\u001b[1;33m\u001b[0m\u001b[1;33m\u001b[0m\u001b[0m\n\u001b[0m\u001b[0;32m     14\u001b[0m             \u001b[0mday\u001b[0m \u001b[1;33m=\u001b[0m \u001b[0mint\u001b[0m\u001b[1;33m(\u001b[0m\u001b[0mdate\u001b[0m\u001b[1;33m[\u001b[0m\u001b[1;36m6\u001b[0m\u001b[1;33m:\u001b[0m\u001b[1;33m]\u001b[0m\u001b[1;33m)\u001b[0m\u001b[1;33m\u001b[0m\u001b[1;33m\u001b[0m\u001b[0m\n\u001b[0;32m     15\u001b[0m             \u001b[0mreformatted_dates\u001b[0m\u001b[1;33m.\u001b[0m\u001b[0mappend\u001b[0m\u001b[1;33m(\u001b[0m\u001b[0mdatetime\u001b[0m\u001b[1;33m.\u001b[0m\u001b[0mdate\u001b[0m\u001b[1;33m(\u001b[0m\u001b[0myear\u001b[0m\u001b[1;33m,\u001b[0m \u001b[0mmonth\u001b[0m\u001b[1;33m,\u001b[0m \u001b[0mday\u001b[0m\u001b[1;33m)\u001b[0m\u001b[1;33m)\u001b[0m\u001b[1;33m\u001b[0m\u001b[1;33m\u001b[0m\u001b[0m\n",
      "\u001b[1;31mValueError\u001b[0m: invalid literal for int() with base 10: ''"
     ]
    }
   ],
   "source": [
    "percentage_correct_correlations_multi_mice(mice_dates, ipsi_or_contra='contra')"
   ]
  },
  {
   "cell_type": "code",
   "execution_count": 25,
   "metadata": {},
   "outputs": [
    {
     "name": "stdout",
     "output_type": "stream",
     "text": [
      "0.27216642850208406\n"
     ]
    }
   ],
   "source": [
    "mouse = 'SNL_photo16'\n",
    "dates = ['20200210','20200213', '20200218',  '20200220', '20200224', '20200227', '20200303','20200305', '20200307',\n",
    "         '20200310', '20200312']\n",
    "all_peaks = multi_day_peaks(mouse, dates)"
   ]
  },
  {
   "cell_type": "code",
   "execution_count": 90,
   "metadata": {},
   "outputs": [],
   "source": [
    "mouse = 'SNL_photo17'\n",
    "dates = ['20200208']\n",
    "plot_multiple_days(mouse, dates)"
   ]
  },
  {
   "cell_type": "code",
   "execution_count": 14,
   "metadata": {},
   "outputs": [],
   "source": [
    "mouse = 'SNL_photo18'\n",
    "dates = ['20200226']\n",
    "plot_multiple_days(mouse, dates) "
   ]
  },
  {
   "cell_type": "code",
   "execution_count": 11,
   "metadata": {},
   "outputs": [
    {
     "name": "stdout",
     "output_type": "stream",
     "text": [
      "0.5562109580778685\n"
     ]
    }
   ],
   "source": [
    "mouse = 'SNL_photo15'\n",
    "dates = ['20200206','20200208', '20200210',  '20200213', '20200218', '20200221', '20200224','20200226','20200303','20200305', '20200307','20200310']\n",
    "labels = ['50-60%', '60-80%', '80+% (1)', '80+% (2)', '80+% (3)', '80+% (4)', '80+% (5)', '80+% (6)' ]\n",
    "plot_multiple_days(mouse, dates)\n",
    "all_peaks = multi_day_peaks(mouse, dates)\n",
    "#peaks_correlations(dates, all_peaks)\n",
    "#percentage_correct_correlation(mouse, dates, all_peaks)\n",
    "#num_rewards_correlation(mouse, dates, all_peaks)"
   ]
  },
  {
   "cell_type": "code",
   "execution_count": 17,
   "metadata": {},
   "outputs": [],
   "source": [
    "mouse = 'SNL_photo16'\n",
    "dates = ['20200210','20200213', '20200218',  '20200220', '20200224', '20200227', '20200303','20200305', '20200307',\n",
    "         '20200310', '20200312']\n",
    "plot_multiple_days(mouse, dates)\n",
    "#all_peaks = multi_day_peaks(mouse, dates)\n",
    "#percentage_correct_correlation(mouse, dates, all_peaks)\n",
    "#peaks_correlations(dates, all_peaks)\n",
    "#num_rewards_correlation(mouse, dates, all_peaks)"
   ]
  },
  {
   "cell_type": "code",
   "execution_count": 15,
   "metadata": {},
   "outputs": [
    {
     "name": "stdout",
     "output_type": "stream",
     "text": [
      "0.7096471679030782\n"
     ]
    }
   ],
   "source": [
    "mouse = 'SNL_photo17'\n",
    "dates = ['20200204', '20200206', '20200208', '20200210', '20200212', '20200214', '20200218', '20200221', '20200224',\n",
    "         '20200226', '20200228', '20200303','20200305', '20200307','20200310', '20200311', '20200317']\n",
    "labels = ['50-60%', '60-80%', '80+% (1)', '80+% (2)', '80+% (3)', '80+% (4)','80+% (5)', '80+% (6)',  '80+% (7)'  ]\n",
    "plot_multiple_days(mouse, dates)\n",
    "all_peaks = multi_day_peaks(mouse, dates)\n",
    "#peaks_correlations(dates, all_peaks)\n",
    "#percentage_correct_correlation(mouse, dates, all_peaks)\n",
    "#num_rewards_correlation(mouse, dates, all_peaks)"
   ]
  },
  {
   "cell_type": "code",
   "execution_count": 10,
   "metadata": {},
   "outputs": [
    {
     "name": "stdout",
     "output_type": "stream",
     "text": [
      "0.7461003609252107\n"
     ]
    }
   ],
   "source": [
    "mouse = 'SNL_photo12'\n",
    "dates = ['20200110', '20200111','20200113', '20200114','20200117', '20200118', '20200121', '20200123', '20200203', '20200205','20200212',\n",
    "         '20200214', '20200218', '20200221', '20200224', '20200226', '20200303','20200304']\n",
    "labels = ['50-60%', '60-80%', '80+% (1)', '80+% (2)','80+% (3)','80+% (4)','80+% (5)', '80+% (6)',  '80+% (7)'  ]\n",
    "\n",
    "plot_multiple_days(mouse, dates)\n",
    "all_peaks = multi_day_peaks(mouse, dates)\n",
    "#peaks_correlations(dates, all_peaks)\n",
    "#percentage_correct_correlation(mouse, dates, all_peaks)\n",
    "#num_rewards_correlation(mouse, dates, all_peaks)"
   ]
  },
  {
   "cell_type": "code",
   "execution_count": 14,
   "metadata": {},
   "outputs": [
    {
     "name": "stdout",
     "output_type": "stream",
     "text": [
      "0.7285583167616478\n"
     ]
    }
   ],
   "source": [
    "mouse = 'SNL_photo18'\n",
    "dates = ['20200223', '20200226', '20200228', '20200229','20200303', '20200305', '20200307',\n",
    "         '20200310', '20200312', '20200313', '20200316']\n",
    "labels = ['50%', '50%' ]\n",
    "plot_multiple_days(mouse, dates)\n",
    "all_peaks = multi_day_peaks(mouse, dates)\n",
    "#peaks_correlations(dates, all_peaks)\n",
    "#percentage_correct_correlation(mouse, dates, all_peaks)\n",
    "#num_rewards_correlation(mouse, dates, all_peaks)"
   ]
  },
  {
   "cell_type": "code",
   "execution_count": 13,
   "metadata": {},
   "outputs": [],
   "source": [
    "mouse = 'SNL_photo19'\n",
    "dates = ['20200221','20200224', '20200226', '20200228','20200229', '20200303','20200305', '20200307','20200310','20200312']\n",
    "labels = ['50%', '50-60%', '60-80%' ]\n",
    "plot_multiple_days(mouse, dates, labels)\n",
    "#all_peaks = multi_day_peaks(mouse, dates)\n",
    "#peaks_correlations(dates, all_peaks)\n",
    "#percentage_correct_correlation(mouse, dates, all_peaks)"
   ]
  },
  {
   "cell_type": "code",
   "execution_count": 15,
   "metadata": {},
   "outputs": [],
   "source": [
    "mouse = 'SNL_photo20'\n",
    "dates = ['20200224', '20200226', '20200228','20200229', '20200303', '20200303','20200305', '20200307'\n",
    "         ,'20200310', '20200312']\n",
    "labels = ['50-60%', '60-80%' ]\n",
    "plot_multiple_days(mouse, dates, labels)\n",
    "#all_peaks = multi_day_peaks(mouse, dates)\n",
    "#peaks_correlations(dates, all_peaks)\n",
    "#percentage_correct_correlation(mouse, dates, all_peaks)"
   ]
  },
  {
   "cell_type": "code",
   "execution_count": null,
   "metadata": {},
   "outputs": [],
   "source": []
  }
 ],
 "metadata": {
  "kernelspec": {
   "display_name": "Python 3",
   "language": "python",
   "name": "python3"
  },
  "language_info": {
   "codemirror_mode": {
    "name": "ipython",
    "version": 3
   },
   "file_extension": ".py",
   "mimetype": "text/x-python",
   "name": "python",
   "nbconvert_exporter": "python",
   "pygments_lexer": "ipython3",
   "version": "3.7.3"
  }
 },
 "nbformat": 4,
 "nbformat_minor": 4
}
