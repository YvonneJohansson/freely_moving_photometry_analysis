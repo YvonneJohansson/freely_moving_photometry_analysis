{
 "cells": [
  {
   "cell_type": "code",
   "execution_count": 1,
   "metadata": {},
   "outputs": [],
   "source": [
    "%matplotlib qt5\n",
    "import nptdms\n",
    "import matplotlib.pyplot as plt"
   ]
  },
  {
   "cell_type": "code",
   "execution_count": 8,
   "metadata": {},
   "outputs": [],
   "source": [
    "folder = \"V:\\\\data\\\\fred_temp\\\\mar178\\\\20200319_13_16_02\\\\\"\n",
    "data = nptdms.TdmsFile(folder + \"AI.tdms\")\n",
    "\n",
    "\n",
    "#data = nptdms.TdmsFile(\"W:\\\\photometry_2AC\\\\freely_moving_photometry_data\\\\SNL_photo2\\\\20190713_14_22_10\\\\AI.tdms\")"
   ]
  },
  {
   "cell_type": "code",
   "execution_count": 3,
   "metadata": {},
   "outputs": [],
   "source": [
    "chan_0 = data.group_channels('acq_task')[0].data\n",
    "led405 = data.group_channels('acq_task')[2].data\n",
    "led465 = data.group_channels('acq_task')[1].data\n",
    "clock = data.group_channels('acq_task')[3].data\n",
    "stim_trigger = data.group_channels('acq_task')[4].data\n"
   ]
  },
  {
   "cell_type": "code",
   "execution_count": 5,
   "metadata": {},
   "outputs": [],
   "source": [
    "import numpy as np\n",
    "import scipy.signal\n",
    "\n",
    "\n",
    "def am_demodulate(signal, reference, modulation_frequency, sample_rate=10000, low_cut=15, order=5):\n",
    "    normalised_reference = reference - reference.mean()\n",
    "    samples_per_period = sample_rate / modulation_frequency\n",
    "    samples_per_quarter_period = round(samples_per_period / 4)\n",
    "\n",
    "    shift_90_degrees = np.roll(normalised_reference, samples_per_quarter_period)\n",
    "\n",
    "    in_phase = signal * normalised_reference\n",
    "    in_phase_filtered = _apply_butterworth_lowpass_filter(in_phase, low_cut_off=low_cut, fs=sample_rate, order=order)\n",
    "\n",
    "    quadrature = signal * shift_90_degrees\n",
    "    quadrature_filtered = _apply_butterworth_lowpass_filter(quadrature, low_cut_off=low_cut, fs=sample_rate, order=order)\n",
    "\n",
    "    return quadrature_filtered, in_phase_filtered\n",
    "\n",
    "\n",
    "def _demodulate_quadrature(quadrature, in_phase):\n",
    "    return (quadrature ** 2 + in_phase ** 2) ** 0.5\n",
    "\n",
    "\n",
    "def _apply_butterworth_lowpass_filter(demod_signal, low_cut_off=15, fs=10000, order=5):\n",
    "    w = low_cut_off / (fs / 2)  # Normalize the frequency\n",
    "    b, a = scipy.signal.butter(order, w, 'low')\n",
    "    output = scipy.signal.filtfilt(b, a, demod_signal)\n",
    "    return output\n",
    "\n",
    "\n",
    "def demodulate(raw, ref_211, ref_531):\n",
    "\n",
    "    q211, i211 = am_demodulate(raw, ref_211, 211, sample_rate=10000)\n",
    "    q531, i531 = am_demodulate(raw, ref_531, 531, sample_rate=10000)\n",
    "    demodulated_211 = _demodulate_quadrature(q211, i211)\n",
    "    demodulated_531 = _demodulate_quadrature(q531, i531)\n",
    "\n",
    "    return demodulated_211, demodulated_531\n",
    "\n",
    "\n",
    "def lerner_deisseroth_preprocess(photodetector_raw_data, reference_channel_211hz, reference_channel_531hz):\n",
    "    \"\"\"process data according to https://www.ncbi.nlm.nih.gov/pubmed/26232229 , supplement 11\"\"\"\n",
    "    demodulated_211, demodulated_531 = demodulate(photodetector_raw_data,\n",
    "                                                  reference_channel_211hz,\n",
    "                                                  reference_channel_531hz)\n",
    "\n",
    "    signal = _apply_butterworth_lowpass_filter(demodulated_211, 2, order=2)\n",
    "    background = _apply_butterworth_lowpass_filter(demodulated_531, 2, order=2)\n",
    "\n",
    "    regression_params = np.polyfit(background, signal, 1)\n",
    "    bg_fit = regression_params[0] * background + regression_params[1]\n",
    "\n",
    "    delta_f = (signal-bg_fit)/bg_fit\n",
    "    return delta_f\n",
    "\n"
   ]
  },
  {
   "cell_type": "code",
   "execution_count": 11,
   "metadata": {},
   "outputs": [],
   "source": [
    "df=lerner_deisseroth_preprocess(chan_0, led465, led405)"
   ]
  },
  {
   "cell_type": "code",
   "execution_count": 15,
   "metadata": {},
   "outputs": [
    {
     "data": {
      "text/plain": [
       "[<matplotlib.lines.Line2D at 0x6d185c0>]"
      ]
     },
     "execution_count": 15,
     "metadata": {},
     "output_type": "execute_result"
    }
   ],
   "source": [
    "plt.figure()\n",
    "plt.plot(df[1000000:6000000])\n"
   ]
  },
  {
   "cell_type": "code",
   "execution_count": 6,
   "metadata": {},
   "outputs": [],
   "source": [
    "demodulated_211, demodulated_531 = demodulate(chan_0, led465, led405)\n",
    "\n",
    "signal = _apply_butterworth_lowpass_filter(demodulated_211, 2, order=2)[25000:]\n",
    "background = _apply_butterworth_lowpass_filter(demodulated_531, 2, order=2)[25000:]"
   ]
  },
  {
   "cell_type": "code",
   "execution_count": 7,
   "metadata": {},
   "outputs": [
    {
     "data": {
      "text/plain": [
       "(-0.01, 0.03)"
      ]
     },
     "execution_count": 7,
     "metadata": {},
     "output_type": "execute_result"
    }
   ],
   "source": [
    "plt.figure()\n",
    "plt.plot(signal[1000000:6000000]-np.mean(signal[1000000:6000000]))\n",
    "plt.plot(background[1000000:6000000]- np.mean(background[1000000:6000000]))\n",
    "plt.ylim([-0.01,0.03])"
   ]
  },
  {
   "cell_type": "code",
   "execution_count": 10,
   "metadata": {},
   "outputs": [],
   "source": [
    "demod_trace_filename = 'signal.npy'\n",
    "background_filename = 'background.npy'\n",
    "df_filename = 'demod_signal.npy'\n",
    "np.save(folder + demod_trace_filename, signal)\n",
    "np.save(folder + background_filename, background)\n",
    "np.save(folder + df_filename, df)\n",
    "\n"
   ]
  },
  {
   "cell_type": "code",
   "execution_count": null,
   "metadata": {},
   "outputs": [],
   "source": []
  }
 ],
 "metadata": {
  "kernelspec": {
   "display_name": "Python 3",
   "language": "python",
   "name": "python3"
  },
  "language_info": {
   "codemirror_mode": {
    "name": "ipython",
    "version": 3
   },
   "file_extension": ".py",
   "mimetype": "text/x-python",
   "name": "python",
   "nbconvert_exporter": "python",
   "pygments_lexer": "ipython3",
   "version": "3.7.3"
  }
 },
 "nbformat": 4,
 "nbformat_minor": 2
}
