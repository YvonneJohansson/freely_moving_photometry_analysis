{
 "cells": [
  {
   "cell_type": "code",
   "execution_count": 48,
   "metadata": {},
   "outputs": [
    {
     "name": "stdout",
     "output_type": "stream",
     "text": [
      "The autoreload extension is already loaded. To reload it, use:\n",
      "  %reload_ext autoreload\n"
     ]
    }
   ],
   "source": [
    "%load_ext autoreload\n",
    "%autoreload 2\n",
    "%matplotlib qt5\n",
    "# Add modules to the path\n",
    "import sys\n",
    "sys.path.insert(0, 'C:\\\\Users\\\\francescag\\\\Documents\\\\SourceTree_repos\\\\Python_git')\n",
    "sys.path.insert(0, 'C:\\\\Users\\\\francescag\\\\Documents\\\\SourceTree_repos')\n",
    "\n",
    "import joypy\n",
    "import copy\n",
    "import matplotlib.pyplot as plt\n",
    "import numpy as np\n",
    "import pandas as pd\n",
    "import pickle\n",
    "from utils.plotting import HeatMapParams\n",
    "from utils.plotting import heat_map_and_mean\n",
    "from utils.plotting import get_photometry_around_event\n",
    "from utils.plotting import correctData, cueData, rewardData"
   ]
  },
  {
   "cell_type": "code",
   "execution_count": 65,
   "metadata": {},
   "outputs": [],
   "source": [
    "mouse = 'SNL_photo17'\n",
    "date = '20200204'\n",
    "saving_folder = 'W:\\\\photometry_2AC\\\\processed_data\\\\' + mouse + '\\\\'\n",
    "restructured_data_filename = mouse + '_' + date + '_' + 'restructured_data.pkl'\n",
    "trial_data = pd.read_pickle(saving_folder + restructured_data_filename) "
   ]
  },
  {
   "cell_type": "code",
   "execution_count": 40,
   "metadata": {},
   "outputs": [
    {
     "data": {
      "text/plain": [
       "array([1., 5., 2., 3., 4., 6., 8.])"
      ]
     },
     "execution_count": 40,
     "metadata": {},
     "output_type": "execute_result"
    }
   ],
   "source": [
    "trial_data['Max times in state'].unique()\n"
   ]
  },
  {
   "cell_type": "code",
   "execution_count": 53,
   "metadata": {},
   "outputs": [],
   "source": [
    "demod_trace_filename = mouse + '_' + date + '_' + 'not_regress.npy'\n",
    "signal = np.load(saving_folder + demod_trace_filename)"
   ]
  },
  {
   "cell_type": "code",
   "execution_count": 66,
   "metadata": {
    "scrolled": true
   },
   "outputs": [],
   "source": [
    "dff_trace_filename = mouse + '_' + date + '_' + 'smoothed_signal.npy'\n",
    "dff = np.load(saving_folder + dff_trace_filename)"
   ]
  },
  {
   "cell_type": "code",
   "execution_count": 83,
   "metadata": {},
   "outputs": [],
   "source": [
    "background_trace_filename = mouse + '_' + date + '_' + 'background.npy'\n",
    "background = np.load(saving_folder + background_trace_filename)"
   ]
  },
  {
   "cell_type": "code",
   "execution_count": 29,
   "metadata": {},
   "outputs": [
    {
     "data": {
      "text/plain": [
       "[<matplotlib.lines.Line2D at 0x18abbb38>]"
      ]
     },
     "execution_count": 29,
     "metadata": {},
     "output_type": "execute_result"
    }
   ],
   "source": [
    "#plt.plot(background)\n",
    "#plt.plot(signal)\n",
    "#plt.plot(dff)"
   ]
  },
  {
   "cell_type": "code",
   "execution_count": 44,
   "metadata": {
    "scrolled": false
   },
   "outputs": [
    {
     "name": "stdout",
     "output_type": "stream",
     "text": [
      "(113, 160000)\n",
      "(113,) (113,)\n"
     ]
    },
    {
     "name": "stderr",
     "output_type": "stream",
     "text": [
      "Bootstrapping...: 100%|████████████████████| 1000/1000 [01:24<00:00, 11.87it/s]\n"
     ]
    },
    {
     "name": "stdout",
     "output_type": "stream",
     "text": [
      "7.134917699115028 4.502188188713288\n",
      "0.09999999999990905\n"
     ]
    }
   ],
   "source": [
    "state_type_of_interest = 3\n",
    "response = 0\n",
    "outcome = 3\n",
    "last_outcome = 0 # NOT USED CURRENLY\n",
    "no_repeats = 0\n",
    "last_response = 0\n",
    "align_to = 'Time start'\n",
    "instance = 1\n",
    "plot_range = [-6,6]\n",
    "first_choice_correct = 0\n",
    "first_choice = 2\n",
    "\n",
    "\n",
    "plotting_params = HeatMapParams(state_type_of_interest, response, first_choice, last_response, outcome, last_outcome, first_choice_correct, align_to, instance, no_repeats, plot_range)\n",
    "dff_events = heat_map_and_mean(trial_data,dff, plotting_params, mouse, date)"
   ]
  },
  {
   "cell_type": "code",
   "execution_count": 67,
   "metadata": {
    "scrolled": false
   },
   "outputs": [
    {
     "name": "stdout",
     "output_type": "stream",
     "text": [
      "(77, 160000)\n",
      "(77,) (77,)\n"
     ]
    },
    {
     "name": "stderr",
     "output_type": "stream",
     "text": [
      "Bootstrapping...: 100%|████████████████████| 1000/1000 [00:58<00:00, 17.00it/s]\n"
     ]
    },
    {
     "name": "stdout",
     "output_type": "stream",
     "text": [
      "7.936649350649318 11.079484360365813\n",
      "0.012900000000627188\n",
      "(81, 160000)\n",
      "(81,) (81,)\n"
     ]
    },
    {
     "name": "stderr",
     "output_type": "stream",
     "text": [
      "Bootstrapping...: 100%|████████████████████| 1000/1000 [01:02<00:00, 15.99it/s]\n"
     ]
    },
    {
     "name": "stdout",
     "output_type": "stream",
     "text": [
      "15.539203703703707 68.88915070303196\n",
      "1.075699999999415\n"
     ]
    }
   ],
   "source": [
    "correct_data = correctData('left', mouse, date, trial_data, dff)\n",
    "mean_and_sem_filename = mouse + '_' + date + '_' + 'mean_correct_data.p'\n",
    "save_filename = saving_folder + mean_and_sem_filename\n",
    "pickle.dump(correct_data,open( save_filename, \"wb\" ) )"
   ]
  },
  {
   "cell_type": "code",
   "execution_count": 36,
   "metadata": {},
   "outputs": [
    {
     "name": "stdout",
     "output_type": "stream",
     "text": [
      "(146, 160000)\n",
      "(146,) (146,)\n"
     ]
    },
    {
     "name": "stderr",
     "output_type": "stream",
     "text": [
      "Bootstrapping...: 100%|████████████████████| 1000/1000 [01:49<00:00,  9.10it/s]\n"
     ]
    },
    {
     "name": "stdout",
     "output_type": "stream",
     "text": [
      "2.8068424657534212 2.507446929001357\n",
      "0.09999999999990905\n",
      "(146, 160000)\n",
      "(146,) (146,)\n"
     ]
    },
    {
     "name": "stderr",
     "output_type": "stream",
     "text": [
      "Bootstrapping...: 100%|████████████████████| 1000/1000 [01:49<00:00,  9.11it/s]\n"
     ]
    },
    {
     "name": "stdout",
     "output_type": "stream",
     "text": [
      "2.627113698630145 0.7545280616648672\n",
      "0.10000000000013642\n"
     ]
    }
   ],
   "source": [
    "cue_data = cueData('left', mouse, date, trial_data, dff)\n",
    "mean_and_sem_filename = mouse + '_' + date + '_' + 'mean_cue_data.p'\n",
    "save_filename = saving_folder + mean_and_sem_filename\n",
    "pickle.dump(cue_data,open( save_filename, \"wb\" ) )"
   ]
  },
  {
   "cell_type": "code",
   "execution_count": 37,
   "metadata": {},
   "outputs": [
    {
     "name": "stdout",
     "output_type": "stream",
     "text": [
      "(190, 160000)\n",
      "(190,) (190,)\n"
     ]
    },
    {
     "name": "stderr",
     "output_type": "stream",
     "text": [
      "Bootstrapping...: 100%|████████████████████| 1000/1000 [02:20<00:00,  7.12it/s]\n"
     ]
    },
    {
     "name": "stdout",
     "output_type": "stream",
     "text": [
      "2.3856294736842 3.2059581022272545\n",
      "-0.8280999999999494\n",
      "(214, 160000)\n",
      "(214,) (214,)\n"
     ]
    },
    {
     "name": "stderr",
     "output_type": "stream",
     "text": [
      "Bootstrapping...: 100%|████████████████████| 1000/1000 [02:39<00:00,  6.30it/s]\n"
     ]
    },
    {
     "name": "stdout",
     "output_type": "stream",
     "text": [
      "2.023806074766364 0.6053013089274248\n",
      "-0.5529000000001361\n"
     ]
    }
   ],
   "source": [
    "reward_data = rewardData('left', mouse, date, trial_data, dff)\n",
    "mean_and_sem_filename = mouse + '_' + date + '_' + 'mean_reward_data.p'\n",
    "save_filename = saving_folder + mean_and_sem_filename\n",
    "pickle.dump(reward_data,open( save_filename, \"wb\" ) )"
   ]
  },
  {
   "cell_type": "code",
   "execution_count": null,
   "metadata": {},
   "outputs": [],
   "source": []
  },
  {
   "cell_type": "code",
   "execution_count": 20,
   "metadata": {},
   "outputs": [
    {
     "ename": "NameError",
     "evalue": "name 'first_choice' is not defined",
     "output_type": "error",
     "traceback": [
      "\u001b[1;31m---------------------------------------------------------------------------\u001b[0m",
      "\u001b[1;31mNameError\u001b[0m                                 Traceback (most recent call last)",
      "\u001b[1;32m<ipython-input-20-00ef5ebdaed1>\u001b[0m in \u001b[0;36m<module>\u001b[1;34m\u001b[0m\n\u001b[0;32m     16\u001b[0m \u001b[1;33m\u001b[0m\u001b[0m\n\u001b[0;32m     17\u001b[0m \u001b[1;33m\u001b[0m\u001b[0m\n\u001b[1;32m---> 18\u001b[1;33m \u001b[0mplotting_params1\u001b[0m \u001b[1;33m=\u001b[0m \u001b[0mHeatMapParams\u001b[0m\u001b[1;33m(\u001b[0m\u001b[0mstate_type_of_interest\u001b[0m\u001b[1;33m,\u001b[0m \u001b[0mresponse1\u001b[0m\u001b[1;33m,\u001b[0m \u001b[0mfirst_choice\u001b[0m\u001b[1;33m,\u001b[0m \u001b[0mlast_response\u001b[0m\u001b[1;33m,\u001b[0m \u001b[0moutcome1\u001b[0m\u001b[1;33m,\u001b[0m \u001b[0mlast_outcome\u001b[0m\u001b[1;33m,\u001b[0m \u001b[0mfirst_choice_correct1\u001b[0m\u001b[1;33m,\u001b[0m \u001b[0malign_to\u001b[0m\u001b[1;33m,\u001b[0m \u001b[0minstance\u001b[0m\u001b[1;33m,\u001b[0m \u001b[0mno_repeats\u001b[0m\u001b[1;33m,\u001b[0m \u001b[0mplot_range\u001b[0m\u001b[1;33m)\u001b[0m\u001b[1;33m\u001b[0m\u001b[1;33m\u001b[0m\u001b[0m\n\u001b[0m\u001b[0;32m     19\u001b[0m \u001b[0mplotting_params2\u001b[0m \u001b[1;33m=\u001b[0m \u001b[0mHeatMapParams\u001b[0m\u001b[1;33m(\u001b[0m\u001b[0mstate_type_of_interest\u001b[0m\u001b[1;33m,\u001b[0m \u001b[0mresponse2\u001b[0m\u001b[1;33m,\u001b[0m \u001b[0mfirst_choice\u001b[0m\u001b[1;33m,\u001b[0m \u001b[0mlast_response\u001b[0m\u001b[1;33m,\u001b[0m \u001b[0moutcome2\u001b[0m\u001b[1;33m,\u001b[0m \u001b[0mlast_outcome\u001b[0m\u001b[1;33m,\u001b[0m \u001b[0mfirst_choice_correct2\u001b[0m\u001b[1;33m,\u001b[0m \u001b[0malign_to\u001b[0m\u001b[1;33m,\u001b[0m \u001b[0minstance\u001b[0m\u001b[1;33m,\u001b[0m \u001b[0mno_repeats\u001b[0m\u001b[1;33m,\u001b[0m \u001b[0mplot_range\u001b[0m\u001b[1;33m)\u001b[0m\u001b[1;33m\u001b[0m\u001b[1;33m\u001b[0m\u001b[0m\n\u001b[0;32m     20\u001b[0m \u001b[1;31m#plotting_params1 = HeatMapParams(state_type_of_interest, response1, last_response, outcome1, last_outcome,first_choice_correct1, align_to, instance, no_repeats, plot_range)\u001b[0m\u001b[1;33m\u001b[0m\u001b[1;33m\u001b[0m\u001b[1;33m\u001b[0m\u001b[0m\n",
      "\u001b[1;31mNameError\u001b[0m: name 'first_choice' is not defined"
     ]
    }
   ],
   "source": [
    "state_type_of_interest = 5\n",
    "state_type_of_interest1 = 8\n",
    "state_type_of_interest2 = 10\n",
    "response1 = 1\n",
    "response2 = 2\n",
    "outcome1 = 1\n",
    "outcome2 = 0\n",
    "last_outcome = 0 # NOT USED CURRENLY\n",
    "no_repeats = 1\n",
    "last_response = 0\n",
    "align_to = 'Time end'\n",
    "instance = -1\n",
    "plot_range = [-3, 3]\n",
    "first_choice_correct1 = 1\n",
    "first_choice_correct2 = 0\n",
    "\n",
    "\n",
    "plotting_params1 = HeatMapParams(state_type_of_interest, response1, first_choice, last_response, outcome1, last_outcome, first_choice_correct1, align_to, instance, no_repeats, plot_range)\n",
    "plotting_params2 = HeatMapParams(state_type_of_interest, response2, first_choice, last_response, outcome2, last_outcome, first_choice_correct2, align_to, instance, no_repeats, plot_range)\n",
    "#plotting_params1 = HeatMapParams(state_type_of_interest, response1, last_response, outcome1, last_outcome,first_choice_correct1, align_to, instance, no_repeats, plot_range)\n",
    "#plotting_params2 = HeatMapParams(state_type_of_interest, response2, last_response, outcome1, last_outcome,first_choice_correct1,  align_to, instance, no_repeats, plot_range)\n",
    "#plotting_params3 = HeatMapParams(state_type_of_interest, response1, last_response, outcome2, last_outcome,first_choice_correct2,  align_to, instance, no_repeats, plot_range)\n",
    "#plotting_params4 = HeatMapParams(state_type_of_interest, response2, last_response, outcome2, last_outcome,first_choice_correct2,  align_to, instance, no_repeats, plot_range)\n",
    "#plotting_params5 = HeatMapParams(state_type_of_interest1, response1, last_response, outcome1, last_outcome,first_choice_correct,  align_to, instance, no_repeats, plot_range)\n",
    "#plotting_params6 = HeatMapParams(state_type_of_interest1, response2, last_response, outcome1, last_outcome,first_choice_correct,  align_to, instance, no_repeats, plot_range)\n",
    "#plotting_params7 = HeatMapParams(state_type_of_interest2, response1, last_response, outcome1, last_outcome,first_choice_correct,  align_to, instance, no_repeats, plot_range)\n",
    "#plotting_params8 = HeatMapParams(state_type_of_interest2, response2, last_response, outcome1, last_outcome,first_choice_correct,  align_to, instance, no_repeats, plot_range)\n",
    "#events = multiple_conditions_plot(trial_data, dff, mouse, date, plotting_params1, plotting_params2, plotting_params3, plotting_params4)\n",
    "events = multiple_conditions_plot(trial_data, dff, mouse, date, plotting_params1, plotting_params2)\n",
    "#events = multiple_conditions_plot(trial_data, dff, mouse, date, plotting_params5, plotting_params6, plotting_params7, plotting_params8)\n"
   ]
  },
  {
   "cell_type": "code",
   "execution_count": null,
   "metadata": {},
   "outputs": [],
   "source": []
  }
 ],
 "metadata": {
  "kernelspec": {
   "display_name": "Python 3",
   "language": "python",
   "name": "python3"
  },
  "language_info": {
   "codemirror_mode": {
    "name": "ipython",
    "version": 3
   },
   "file_extension": ".py",
   "mimetype": "text/x-python",
   "name": "python",
   "nbconvert_exporter": "python",
   "pygments_lexer": "ipython3",
   "version": "3.7.3"
  }
 },
 "nbformat": 4,
 "nbformat_minor": 2
}
