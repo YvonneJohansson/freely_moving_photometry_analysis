{
 "cells": [
  {
   "cell_type": "code",
   "execution_count": 1,
   "metadata": {},
   "outputs": [],
   "source": [
    "%matplotlib qt5\n",
    "%load_ext autoreload\n",
    "%autoreload 2\n",
    "import pickle\n",
    "import matplotlib.pyplot as plt\n",
    "from matplotlib import colors, cm\n",
    "import numpy as np\n",
    "import math\n",
    "from utils.reaction_time_utils import plot_reaction_times, plot_reaction_times_overlayed, get_valid_trials\n",
    "from utils.correlation_utils import plot_all_valid_trials_over_time, plot_binned_valid_trials, multi_animal_scatter_and_fit\n",
    "from utils.individual_trial_analysis_utils import RawTracesZScored\n",
    "from utils.mean_trace_utils import mouseDates\n",
    "import utils.bpod_data_processing as bpod\n",
    "import pandas as pd"
   ]
  },
  {
   "cell_type": "markdown",
   "metadata": {},
   "source": [
    "To do: get this to reflect true trial number"
   ]
  },
  {
   "cell_type": "code",
   "execution_count": 2,
   "metadata": {
    "scrolled": true
   },
   "outputs": [],
   "source": [
    "mouse = 'SNL_photo18'\n",
    "dates = ['20200223', '20200226', '20200228', '20200229','20200303', '20200305', '20200307',\n",
    "         '20200310', '20200312', '20200313', '20200316']\n",
    "plot_reaction_times_overlayed(mouse, dates)"
   ]
  },
  {
   "cell_type": "code",
   "execution_count": 70,
   "metadata": {},
   "outputs": [],
   "source": [
    "mouse = 'SNL_photo17'\n",
    "dates = ['20200204', '20200206', '20200208', '20200210', '20200212', '20200214', '20200218', '20200221', '20200224',\n",
    "         '20200226', '20200228', '20200303','20200305', '20200307','20200310', '20200317']\n",
    "plot_reaction_times_overlayed(mouse, dates)"
   ]
  },
  {
   "cell_type": "code",
   "execution_count": 2,
   "metadata": {},
   "outputs": [],
   "source": [
    "mouse = 'SNL_photo16'\n",
    "dates = ['20200210','20200213', '20200218',  '20200220', '20200224', '20200227', '20200303','20200305', '20200307',\n",
    "         '20200310', '20200312']\n"
   ]
  },
  {
   "cell_type": "code",
   "execution_count": 9,
   "metadata": {},
   "outputs": [
    {
     "name": "stdout",
     "output_type": "stream",
     "text": [
      "pre-exponential factor = 0.00 (+/-) 0.00\n",
      "rate constant = 1.33029 (+/-) 0.08589\n",
      "r-squared value:  0.07683059268201908\n"
     ]
    }
   ],
   "source": [
    "# DMS\n",
    "mouse = 'SNL_photo18'\n",
    "dates = ['20200224', '20200227', '20200302','20200304', '20200306', '20200311',\n",
    "         '20200317']\n",
    "session_starts, valid_trials, valid_reaction_times, valid_peaks, valid_trial_nums = get_valid_trials(mouse, dates, window_around_mean=2)\n",
    "plot_all_valid_trials_over_time(session_starts, valid_peaks, valid_trial_nums)\n",
    "a = plot_binned_valid_trials(valid_peaks, valid_trial_nums, window_size=30, fit_line='linear decay')\n",
    "# correlate_reaction_times_and_peaks(mouse, valid_reaction_times, valid_peaks)"
   ]
  },
  {
   "cell_type": "code",
   "execution_count": 8,
   "metadata": {},
   "outputs": [
    {
     "name": "stdout",
     "output_type": "stream",
     "text": [
      "pre-exponential factor = 0.00 (+/-) 0.00\n",
      "rate constant = 1.94289 (+/-) 0.12906\n",
      "r-squared value:  0.2043879541553284\n"
     ]
    }
   ],
   "source": [
    "# DMS\n",
    "mouse = 'SNL_photo20'\n",
    "dates = ['20200225', '20200302', '20200304', '20200306', '20200311', '20200313', '20200317']\n",
    "session_starts, valid_trials, valid_reaction_times, valid_peaks, valid_trial_nums = get_valid_trials(mouse, dates, window_around_mean=2)\n",
    "plot_all_valid_trials_over_time(session_starts, valid_peaks, valid_trial_nums)\n",
    "a = plot_binned_valid_trials(valid_peaks, valid_trial_nums, window_size=30, fit_line='linear decay')\n",
    "#correlate_reaction_times_and_peaks(mouse, valid_reaction_times, valid_peaks)"
   ]
  },
  {
   "cell_type": "code",
   "execution_count": 3,
   "metadata": {},
   "outputs": [
    {
     "name": "stdout",
     "output_type": "stream",
     "text": [
      "pre-exponential factor = 1.39 (+/-) 0.21\n",
      "rate constant = -0.00036 (+/-) 0.00013\n",
      "r-squared value:  0.6070914516817529\n"
     ]
    }
   ],
   "source": [
    "mouse = 'SNL_photo18'\n",
    "dates = ['20200223', '20200226', '20200228', '20200229','20200303', '20200305', '20200307',\n",
    "         '20200310', '20200312', '20200313', '20200316']\n",
    "session_starts, valid_trials, valid_reaction_times, valid_peaks, valid_trial_nums = get_valid_trials(mouse, dates, window_around_mean=2)\n",
    "plot_all_valid_trials_over_time(session_starts, valid_peaks, valid_trial_nums)\n",
    "a = plot_binned_valid_trials(valid_peaks, valid_trial_nums, window_size=30)\n",
    "# correlate_reaction_times_and_peaks(mouse, valid_reaction_times, valid_peaks)"
   ]
  },
  {
   "cell_type": "code",
   "execution_count": 106,
   "metadata": {},
   "outputs": [
    {
     "name": "stdout",
     "output_type": "stream",
     "text": [
      "pre-exponential factor = -0.00 (+/-) 0.00\n",
      "rate constant = 0.80749 (+/-) 0.03644\n",
      "0.5236994647149211\n"
     ]
    },
    {
     "name": "stderr",
     "output_type": "stream",
     "text": [
      "No handles with labels found to put in legend.\n"
     ]
    }
   ],
   "source": [
    "mouse = 'SNL_photo18'\n",
    "dates = ['20200223', '20200226', '20200228', '20200229','20200303', '20200305', '20200307',\n",
    "         '20200310', '20200312', '20200313', '20200316']\n",
    "session_starts, valid_trials, valid_reaction_times, valid_peaks, valid_trial_nums = get_valid_trials(mouse, dates, window_around_mean=2)\n",
    "plot_all_valid_trials_over_time(session_starts, valid_peaks, valid_trial_nums)\n",
    "a = plot_binned_valid_trials(valid_peaks, valid_trial_nums, window_size=30, fit_line='linear decay')\n",
    "# correlate_reaction_times_and_peaks(mouse, valid_reaction_times, valid_peaks)"
   ]
  },
  {
   "cell_type": "code",
   "execution_count": 103,
   "metadata": {
    "scrolled": false
   },
   "outputs": [
    {
     "name": "stdout",
     "output_type": "stream",
     "text": [
      "pre-exponential factor = -0.00 (+/-) 0.00\n",
      "rate constant = 0.67966 (+/-) 0.03200\n",
      "0.5212880926876824\n"
     ]
    },
    {
     "name": "stderr",
     "output_type": "stream",
     "text": [
      "No handles with labels found to put in legend.\n"
     ]
    }
   ],
   "source": [
    "mouse = 'SNL_photo17'\n",
    "dates = ['20200204', '20200206', '20200208', '20200210', '20200212', '20200214', '20200218', '20200221', '20200224',\n",
    "         '20200226', '20200228', '20200303','20200305', '20200307','20200310', '20200317']\n",
    "session_starts, valid_trials, valid_reaction_times, valid_peaks, valid_trial_nums = get_valid_trials(mouse, dates, window_around_mean=2)\n",
    "plot_all_valid_trials_over_time(session_starts, valid_peaks, valid_trial_nums)\n",
    "a = plot_binned_valid_trials(valid_peaks, valid_trial_nums, window_size=30, fit_line='linear decay')\n",
    "#correlate_reaction_times_and_peaks(mouse, valid_reaction_times, valid_peaks)"
   ]
  },
  {
   "cell_type": "code",
   "execution_count": 104,
   "metadata": {},
   "outputs": [
    {
     "name": "stdout",
     "output_type": "stream",
     "text": [
      "pre-exponential factor = 0.69 (+/-) 0.19\n",
      "rate constant = -0.00013 (+/-) 0.00008\n",
      "0.5315955598164513\n"
     ]
    },
    {
     "name": "stderr",
     "output_type": "stream",
     "text": [
      "No handles with labels found to put in legend.\n"
     ]
    }
   ],
   "source": [
    "mouse = 'SNL_photo17'\n",
    "dates = ['20200204', '20200206', '20200208', '20200210', '20200212', '20200214', '20200218', '20200221', '20200224',\n",
    "         '20200226', '20200228', '20200303','20200305', '20200307','20200310', '20200317']\n",
    "session_starts, valid_trials, valid_reaction_times, valid_peaks, valid_trial_nums = get_valid_trials(mouse, dates, window_around_mean=2)\n",
    "plot_all_valid_trials_over_time(session_starts, valid_peaks, valid_trial_nums)\n",
    "a = plot_binned_valid_trials(valid_peaks, valid_trial_nums, window_size=30, fit_line='exponential decay')\n",
    "#correlate_reaction_times_and_peaks(mouse, valid_reaction_times, valid_peaks)"
   ]
  },
  {
   "cell_type": "code",
   "execution_count": 102,
   "metadata": {},
   "outputs": [
    {
     "name": "stdout",
     "output_type": "stream",
     "text": [
      "pre-exponential factor = -0.00 (+/-) 0.00\n",
      "rate constant = 0.84318 (+/-) 0.05661\n",
      "0.14992961791089643\n"
     ]
    },
    {
     "name": "stderr",
     "output_type": "stream",
     "text": [
      "No handles with labels found to put in legend.\n"
     ]
    }
   ],
   "source": [
    "mouse = 'SNL_photo16'\n",
    "dates = ['20200210','20200213', '20200218',  '20200220', '20200224', '20200227', '20200303','20200305', '20200307',\n",
    "         '20200310', '20200312']\n",
    "session_starts, valid_trials, valid_reaction_times, valid_peaks, valid_trial_nums = get_valid_trials(mouse, dates, window_around_mean=2)\n",
    "plot_all_valid_trials_over_time(session_starts, valid_peaks, valid_trial_nums)\n",
    "a = plot_binned_valid_trials(valid_peaks, valid_trial_nums, window_size=30, fit_line='linear decay')\n",
    "#correlate_reaction_times_and_peaks(mouse, valid_reaction_times, valid_peaks)"
   ]
  },
  {
   "cell_type": "code",
   "execution_count": 75,
   "metadata": {
    "scrolled": true
   },
   "outputs": [
    {
     "name": "stderr",
     "output_type": "stream",
     "text": [
      "C:\\Users\\francescag\\Documents\\SourceTree_repos\\Python_git\\freely_moving_photometry_analysis\\utils\\reaction_time_utils.py:110: RuntimeWarning: invalid value encountered in log\n",
      "  rolling_mean_peak = []\n"
     ]
    },
    {
     "name": "stdout",
     "output_type": "stream",
     "text": [
      "pre-exponential factor = 0.40 (+/-) 0.06\n",
      "rate constant = 0.00022 (+/-) 1962.44690\n",
      "[4.01739470e-01 2.21946149e-04 5.58631102e-01]\n"
     ]
    }
   ],
   "source": [
    "# NAcc recordings not including first recording on 20200222\n",
    "mouse = 'SNL_photo19'\n",
    "dates = ['20200225', '20200227', '20200302', '20200304', '20200306', '20200311', '20200317']\n",
    "session_starts, valid_trials, valid_reaction_times, valid_peaks, valid_trial_nums = get_valid_trials(mouse, dates, window_around_mean=2, type_of_session='cue')\n",
    "plot_all_valid_trials_over_time(session_starts, valid_peaks, valid_trial_nums)\n",
    "plot_binned_valid_trials(valid_peaks, valid_trial_nums, window_size=30, fit_line='logarithmic growth')"
   ]
  },
  {
   "cell_type": "code",
   "execution_count": null,
   "metadata": {},
   "outputs": [],
   "source": [
    "# aic and bic (bic is bayesian) for model selection"
   ]
  },
  {
   "cell_type": "code",
   "execution_count": 83,
   "metadata": {},
   "outputs": [],
   "source": [
    "mice_dates = []\n",
    "mouse1 = 'SNL_photo16'\n",
    "dates1 = ['20200210','20200213', '20200218',  '20200220', '20200224', '20200227', '20200303','20200305', '20200307',\n",
    "         '20200310', '20200312']\n",
    "mice_dates.append(mouseDates(mouse1, dates1))\n",
    "mouse2 = 'SNL_photo17'\n",
    "dates2 = dates = ['20200204', '20200206', '20200208', '20200210', '20200212', '20200214', '20200218', '20200221', '20200224',\n",
    "         '20200226', '20200228', '20200303','20200305', '20200307','20200310', '20200317']\n",
    "mice_dates.append(mouseDates(mouse2, dates2))\n",
    "mouse3 = 'SNL_photo18'\n",
    "dates3 = ['20200223', '20200226', '20200228', '20200229','20200303', '20200305', '20200307',\n",
    "         '20200310', '20200312', '20200313', '20200316']\n",
    "mice_dates.append(mouseDates(mouse3, dates3))\n"
   ]
  },
  {
   "cell_type": "code",
   "execution_count": 111,
   "metadata": {
    "scrolled": true
   },
   "outputs": [
    {
     "name": "stdout",
     "output_type": "stream",
     "text": [
      "pre-exponential factor = -0.00 (+/-) 0.00\n",
      "rate constant = 1.44328 (+/-) 0.09690\n",
      "0.14992961791089687\n",
      "pre-exponential factor = -0.00 (+/-) 0.00\n",
      "rate constant = 1.54676 (+/-) 0.07283\n",
      "0.5212880926876824\n",
      "pre-exponential factor = -0.00 (+/-) 0.00\n",
      "rate constant = 1.84476 (+/-) 0.08325\n",
      "0.5236994647149211\n"
     ]
    }
   ],
   "source": [
    "multi_animal_scatter_and_fit(mice_dates, fit_type='linear decay')"
   ]
  },
  {
   "cell_type": "code",
   "execution_count": 110,
   "metadata": {},
   "outputs": [
    {
     "name": "stdout",
     "output_type": "stream",
     "text": [
      "pre-exponential factor = 0.98 (+/-) 0.50\n",
      "rate constant = -0.00036 (+/-) 0.00023\n",
      "0.17964312761820755\n",
      "pre-exponential factor = 1.56 (+/-) 0.44\n",
      "rate constant = -0.00013 (+/-) 0.00008\n",
      "0.5315955601257432\n",
      "pre-exponential factor = 1.39 (+/-) 0.21\n",
      "rate constant = -0.00036 (+/-) 0.00013\n",
      "0.6070914516817529\n"
     ]
    }
   ],
   "source": [
    "multi_animal_scatter_and_fit(mice_dates, fit_type='exponential decay')"
   ]
  },
  {
   "cell_type": "code",
   "execution_count": null,
   "metadata": {},
   "outputs": [],
   "source": []
  }
 ],
 "metadata": {
  "kernelspec": {
   "display_name": "Python 3",
   "language": "python",
   "name": "python3"
  },
  "language_info": {
   "codemirror_mode": {
    "name": "ipython",
    "version": 3
   },
   "file_extension": ".py",
   "mimetype": "text/x-python",
   "name": "python",
   "nbconvert_exporter": "python",
   "pygments_lexer": "ipython3",
   "version": "3.7.3"
  }
 },
 "nbformat": 4,
 "nbformat_minor": 4
}
