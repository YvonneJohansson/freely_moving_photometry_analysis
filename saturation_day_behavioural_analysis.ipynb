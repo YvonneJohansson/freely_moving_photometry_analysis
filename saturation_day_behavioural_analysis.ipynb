{
 "cells": [
  {
   "cell_type": "code",
   "execution_count": 2,
   "metadata": {},
   "outputs": [],
   "source": [
    "%matplotlib qt5\n",
    "import pandas as pd\n",
    "import numpy as np\n",
    "import seaborn as sns\n",
    "import matplotlib.pyplot as plt\n",
    "from matplotlib import colors, cm\n",
    "from utils.mean_trace_utils import make_dates_pretty"
   ]
  },
  {
   "cell_type": "code",
   "execution_count": 32,
   "metadata": {},
   "outputs": [],
   "source": [
    "def get_initiation_times(behavioural_stats_for_day, num_trials):\n",
    "    trial_start_times = []\n",
    "    for trial_num in range(num_trials):\n",
    "        if 'Port2In' in behavioural_stats_for_day.iloc[trial_num]['TrialEvents']:\n",
    "            initiation_time = behavioural_stats_for_day.iloc[trial_num]['TrialEvents']['Port2In']\n",
    "            if type(initiation_time) == np.ndarray:\n",
    "                initiation_time = initiation_time[0]\n",
    "            trial_start_times.append(initiation_time)\n",
    "    return(trial_start_times)"
   ]
  },
  {
   "cell_type": "code",
   "execution_count": 57,
   "metadata": {},
   "outputs": [],
   "source": [
    "def get_session_stats_saturation(behavioural_stats, date):\n",
    "    date = make_dates_pretty(date)[0]\n",
    "    trials = behavioural_stats[behavioural_stats['SessionTime'].str.contains(date)]\n",
    "    duration = trials.iloc[-1]['TrialStartTimestamp'] - trials.iloc[0]['TrialStartTimestamp']\n",
    "    number_of_trials = trials.shape[0]\n",
    "    trial_rate = number_of_trials/ (duration/60/60)\n",
    "    if trials.iloc[0]['Contingency'] == 2:\n",
    "        trial_side_right = 1\n",
    "        trial_side_left = 2\n",
    "    else: \n",
    "        trial_side_right = 2\n",
    "        trial_side_left = 1\n",
    "    rightward_choices = trials.loc[(trials['FirstPoke']==2)]\n",
    "    rightward_persistance = rightward_choices.loc[(rightward_choices['TrialSide']==trial_side_right)].shape[0]/ trials.loc[(trials['TrialSide']==trial_side_right)].shape[0]\n",
    "    leftward_choices = trials.loc[(trials['FirstPoke']==1)]\n",
    "    leftward_persistance = leftward_choices.loc[(leftward_choices['TrialSide']==trial_side_left)].shape[0]/ trials.loc[(trials['TrialSide']==trial_side_left)].shape[0]\n",
    "    habit_persistance = np.mean([leftward_persistance, rightward_persistance])\n",
    "    response_times = trials['ResponseTime'].values\n",
    "    initiation_times = get_initiation_times(trials, number_of_trials)\n",
    "    return(trial_rate, habit_persistance, response_times, initiation_times)"
   ]
  },
  {
   "cell_type": "code",
   "execution_count": 124,
   "metadata": {},
   "outputs": [],
   "source": [
    "def all_metrics_one_mouse_and_plot(mouse, saturation_day, day_before):\n",
    "    saturation_date = [saturation_day]\n",
    "    day_before_date = [day_before]\n",
    "    BpodProtocol = '/Two_Alternative_Choice/'\n",
    "    GeneralDirectory = 'W:/photometry_2AC/bpod_data/'\n",
    "    DFfile = GeneralDirectory + mouse + BpodProtocol + 'Data_Analysis/' + mouse + '_dataframe.pkl'\n",
    "    behavioural_stats = pd.read_pickle(DFfile)\n",
    "    \n",
    "    (saturation_trial_rate, saturation_rightward_choices, saturation_response_times, saturation_initiation_times)=get_session_stats_saturation(behavioural_stats, saturation_date) \n",
    "    (day_before_trial_rate, day_before_rightward_choices, day_before_response_times, day_before_initiation_times) = get_session_stats_saturation(behavioural_stats, day_before_date)\n",
    "    \n",
    "    fig, axs = plt.subplots(2, ncols=2, figsize=(10, 8))\n",
    "    fig.subplots_adjust(hspace=0.5, wspace=0.2)\n",
    "    lower_limit = min(min(saturation_initiation_times), min(day_before_initiation_times))\n",
    "    upper_limit = max(max(saturation_initiation_times), max(day_before_initiation_times))\n",
    "    axs[0, 0].set_title('Time to initiate trial')\n",
    "    saturation_initiation_histogram = axs[0, 0].hist(saturation_initiation_times, 200, range=(lower_limit, upper_limit), alpha=0.5,density=True)\n",
    "    day_before_initiation_histogram = axs[0, 0].hist(day_before_initiation_times, 200,range=(lower_limit, upper_limit), alpha=0.5,density=True)\n",
    "    \n",
    "    lower_limit = min(min(saturation_response_times), min(day_before_response_times))\n",
    "    upper_limit = max(max(saturation_response_times), max(day_before_response_times))\n",
    "    axs[0, 1].set_title('Response time')\n",
    "    saturation_response_histogram = axs[0, 1].hist(saturation_response_times, 100, range=(lower_limit, upper_limit), alpha=0.4,density=True)\n",
    "    day_before_response_histogram = axs[0, 1].hist(day_before_response_times, 100, range=(lower_limit, upper_limit), alpha=0.4, density=True)\n",
    "    \n",
    "    axs[1, 0].set_title('Trials per hour')\n",
    "    axs[1, 0].bar([0,1], [day_before_trial_rate, saturation_trial_rate])\n",
    "    \n",
    "    axs[1, 1].set_title('Proportion of choices to original contingency')\n",
    "    axs[1, 1].bar([0,1], [day_before_rightward_choices, saturation_rightward_choices])\n",
    "    \n",
    "    saturation_data = {'Trial rate': saturation_trial_rate, 'Median initiation time': np.median(saturation_initiation_times),\n",
    "                      'Median reaction time': np.median(saturation_initiation_times), 'Rightward choices': saturation_rightward_choices}\n",
    "    day_before_data = {'Trial rate': day_before_trial_rate, 'Median initiation time': np.median(day_before_initiation_times),\n",
    "                      'Median reaction time': np.median(day_before_initiation_times), 'Rightward choices': day_before_rightward_choices}\n",
    "\n",
    "    return(saturation_data, day_before_data)"
   ]
  },
  {
   "cell_type": "code",
   "execution_count": 70,
   "metadata": {},
   "outputs": [],
   "source": [
    "def get_number_of_trials_before_session(behavioural_stats, date):\n",
    "    date = make_dates_pretty(date)[0]\n",
    "    trials = behavioural_stats[behavioural_stats['SessionTime'].str.contains(date)]\n",
    "    trials_before_session = trials.index[0] -1\n",
    "    return(trials_before_session)"
   ]
  },
  {
   "cell_type": "code",
   "execution_count": 69,
   "metadata": {},
   "outputs": [],
   "source": [
    "def all_metrics_one_mouse(mouse, saturation_day, day_before):\n",
    "    saturation_date = [saturation_day]\n",
    "    day_before_date = [day_before]\n",
    "    BpodProtocol = '/Two_Alternative_Choice/'\n",
    "    GeneralDirectory = 'W:/photometry_2AC/bpod_data/'\n",
    "    DFfile = GeneralDirectory + mouse + BpodProtocol + 'Data_Analysis/' + mouse + '_dataframe.pkl'\n",
    "    behavioural_stats = pd.read_pickle(DFfile)\n",
    "    \n",
    "    (saturation_trial_rate, saturation_rightward_choices, saturation_response_times, saturation_initiation_times)=get_session_stats_saturation(behavioural_stats, saturation_date) \n",
    "    (day_before_trial_rate, day_before_rightward_choices, day_before_response_times, day_before_initiation_times) = get_session_stats_saturation(behavioural_stats, day_before_date)\n",
    "    number_of_trials_pre_saturation = get_number_of_trials_before_session(behavioural_stats, saturation_date)\n",
    "    \n",
    "    saturation_data = {'Trial rate': saturation_trial_rate, 'Median initiation time': np.median(saturation_initiation_times),\n",
    "                      'Median reaction time': np.median(saturation_response_times), 'Rightward choices': saturation_rightward_choices, 'Trials done before session': number_of_trials_pre_saturation}\n",
    "    day_before_data = {'Trial rate': day_before_trial_rate, 'Median initiation time': np.median(day_before_initiation_times),\n",
    "                      'Median reaction time': np.median(day_before_response_times), 'Rightward choices': day_before_rightward_choices}\n",
    "\n",
    "    return(saturation_data, day_before_data)"
   ]
  },
  {
   "cell_type": "code",
   "execution_count": 52,
   "metadata": {},
   "outputs": [],
   "source": [
    "class behaviouralStats(object):\n",
    "    def __init__(self, mouse_id, saturation_day, day_before_saturation, contingency_switch_day, day_before_contingency_switch):\n",
    "        self.mouse = mouse_id\n",
    "        self.saturation_day = saturation_day\n",
    "        self.day_before_saturation = day_before_saturation\n",
    "        self.contingency_switch_day = contingency_switch_day\n",
    "        self.day_before_contingency_switch = day_before_contingency_switch\n",
    "    def addSaturationStats(self):\n",
    "        self.saturation_stats, self.day_before_saturation_stats = all_metrics_one_mouse(self.mouse, self.saturation_day, self.day_before_saturation)\n",
    "    def addContingencyStats(self):\n",
    "        self.contingency_stats, self.day_before_contingency_stats = all_metrics_one_mouse(self.mouse, self.contingency_switch_day, self.day_before_contingency_switch)\n",
    "        "
   ]
  },
  {
   "cell_type": "code",
   "execution_count": 58,
   "metadata": {},
   "outputs": [],
   "source": [
    "mouse_days = {'SNL_photo16':{'saturation_day': '20200318', 'day_before_saturation': '20200317', \n",
    "                             'contingency_switch_day': '20200320',  'day_before_contingency_switch': '20200317'},\n",
    "              'SNL_photo17':{'saturation_day': '20200311', 'day_before_saturation': '20200310', \n",
    "                             'contingency_switch_day': '20200313',  'day_before_contingency_switch': '20200310'},\n",
    "              'SNL_photo18':{'saturation_day': '20200318', 'day_before_saturation': '20200317', \n",
    "                             'contingency_switch_day': '20200320',  'day_before_contingency_switch': '20200317'},\n",
    "              'SNL_photo15':{'saturation_day': '20200312', 'day_before_saturation': '20200311', \n",
    "                             'contingency_switch_day': '20200316',  'day_before_contingency_switch': '20200315'},\n",
    "              'SNL_photo12':{'saturation_day': '20200207', 'day_before_saturation': '20200205', \n",
    "                             'contingency_switch_day': '20200307',  'day_before_contingency_switch': '20200311'},\n",
    "              'SNL_photo19':{'saturation_day': '20200318', 'day_before_saturation': '20200317', \n",
    "                             'contingency_switch_day': '20200320',  'day_before_contingency_switch': '20200317'},\n",
    "              'SNL_photo20':{'saturation_day': '20200318', 'day_before_saturation': '20200317', \n",
    "                             'contingency_switch_day': '20200320',  'day_before_contingency_switch': '20200317'}}"
   ]
  },
  {
   "cell_type": "code",
   "execution_count": 38,
   "metadata": {},
   "outputs": [],
   "source": [
    "mouse_days = {'SNL_photo12':{'saturation_day': '20200207', 'day_before_saturation': '20200205', \n",
    "                             'contingency_switch_day': '20200307',  'day_before_contingency_switch': '20200311'}}"
   ]
  },
  {
   "cell_type": "code",
   "execution_count": 74,
   "metadata": {},
   "outputs": [],
   "source": [
    "all_mouse_stats = []\n",
    "for mouse, days in mouse_days.items():\n",
    "    mouse_stats = behaviouralStats(mouse, days['saturation_day'], days['day_before_saturation'],\n",
    "                                   days['contingency_switch_day'], days['day_before_contingency_switch'])\n",
    "    mouse_stats.addSaturationStats()\n",
    "    mouse_stats.addContingencyStats()\n",
    "    all_mouse_stats.append(mouse_stats)"
   ]
  },
  {
   "cell_type": "markdown",
   "metadata": {},
   "source": [
    "Plotting\n"
   ]
  },
  {
   "cell_type": "code",
   "execution_count": 116,
   "metadata": {},
   "outputs": [],
   "source": [
    "num_types = len(all_mouse_stats)\n",
    "colours = cm.Set2(np.linspace(0, 0.8, num_types))\n",
    "fig, axs = plt.subplots(2, ncols=4, figsize=(12, 10))\n",
    "fig.subplots_adjust(hspace=0.6, wspace=0.5)\n",
    "keys = ['Median reaction time', 'Median initiation time', 'Trial rate', 'Rightward choices']\n",
    "legends = ['Median reaction time (s)', 'Median initiation time (s)', 'Trials per hour', 'Proportion of turns to original contingency']\n",
    "fig.suptitle('Change in behaviour caused by saturation (top), and contingency switch (bottom)')\n",
    "\n",
    "for mouse_num, mouse_stats in enumerate(all_mouse_stats):\n",
    "    for key_num, ax in enumerate(axs[0, :]): \n",
    "        change_in_metric = mouse_stats.day_before_saturation_stats[keys[key_num]] - mouse_stats.saturation_stats[keys[key_num]]\n",
    "        ax.scatter(mouse_stats.saturation_stats['Trials done before session'], change_in_metric, color=colours[mouse_num], alpha=0.8, label=mouse_stats.mouse)\n",
    "        ax.axhline([0], color='gray')\n",
    "        ax.set_xlabel('Trials done before session')\n",
    "        ax.set_ylabel('Absolute change')\n",
    "        plt.setp(ax.xaxis.get_majorticklabels(), rotation=20)\n",
    "        ax.set_title(legends[key_num])\n",
    "        \n",
    "    for key_num, ax in enumerate(axs[1, :]): \n",
    "        change_in_metric = mouse_stats.day_before_contingency_stats[keys[key_num]] - mouse_stats.contingency_stats[keys[key_num]]\n",
    "        ax.scatter(mouse_stats.contingency_stats['Trials done before session'], change_in_metric, color=colours[mouse_num], alpha=0.8, label=mouse_stats.mouse)    \n",
    "        ax.axhline([0], color='gray')\n",
    "        ax.set_xlabel('Trials done before session')\n",
    "        ax.set_ylabel('Absolute change')\n",
    "        plt.setp(ax.xaxis.get_majorticklabels(), rotation=20)\n",
    "        ax.set_title(legends[key_num])\n",
    "        \n",
    "handles, labels = axs[0,0].get_legend_handles_labels()\n",
    "fig.legend(handles, labels, loc='lower center', ncol=len(labels))\n",
    "plt.show() "
   ]
  },
  {
   "cell_type": "code",
   "execution_count": 118,
   "metadata": {},
   "outputs": [],
   "source": [
    "num_types = len(all_mouse_stats)\n",
    "colours = cm.Set2(np.linspace(0, 0.8, num_types))\n",
    "fig, axs = plt.subplots(2, ncols=4, figsize=(12, 10))\n",
    "fig.subplots_adjust(hspace=0.6, wspace=0.5)\n",
    "keys = ['Median reaction time', 'Median initiation time', 'Trial rate', 'Rightward choices']\n",
    "legends = ['Median reaction time (s)', 'Median initiation time (s)', 'Trials per hour', 'Proportion of turns to original contingency']\n",
    "fig.suptitle('Percentage change in behaviour caused by saturation (top), and contingency switch (bottom)')\n",
    "\n",
    "for mouse_num, mouse_stats in enumerate(all_mouse_stats):\n",
    "    for key_num, ax in enumerate(axs[0, :]): \n",
    "        change_in_metric = (mouse_stats.day_before_saturation_stats[keys[key_num]] - mouse_stats.saturation_stats[keys[key_num]])/mouse_stats.day_before_saturation_stats[keys[key_num]] *-100\n",
    "        ax.scatter(mouse_stats.saturation_stats['Trials done before session'], change_in_metric, color=colours[mouse_num], alpha=0.8, label=mouse_stats.mouse)\n",
    "        ax.axhline([0], color='gray')\n",
    "        ax.set_xlabel('Trials done before session')\n",
    "        ax.set_ylabel('Percentage change')\n",
    "        plt.setp(ax.xaxis.get_majorticklabels(), rotation=20)\n",
    "        ax.set_title(legends[key_num])\n",
    "\n",
    "        \n",
    "    for key_num, ax in enumerate(axs[1, :]): \n",
    "        change_in_metric = (mouse_stats.day_before_contingency_stats[keys[key_num]] - mouse_stats.contingency_stats[keys[key_num]])/mouse_stats.day_before_contingency_stats[keys[key_num]] * -100\n",
    "        ax.scatter(mouse_stats.contingency_stats['Trials done before session'], change_in_metric, color=colours[mouse_num], alpha=0.8, label=mouse_stats.mouse)    \n",
    "        ax.axhline([0], color='gray')\n",
    "        ax.set_xlabel('Trials done before session')\n",
    "        ax.set_ylabel('Percentage change')\n",
    "        plt.setp(ax.xaxis.get_majorticklabels(), rotation=20)\n",
    "        ax.set_title(legends[key_num])\n",
    "\n",
    "handles, labels = axs[0,0].get_legend_handles_labels()\n",
    "fig.legend(handles, labels, loc='lower center', ncol=len(labels))\n",
    "plt.show() "
   ]
  },
  {
   "cell_type": "code",
   "execution_count": 119,
   "metadata": {},
   "outputs": [],
   "source": [
    "num_types = len(all_mouse_stats)\n",
    "colours = cm.Set2(np.linspace(0, 0.8, num_types))\n",
    "fig, axs = plt.subplots(2, ncols=4, figsize=(12, 10))\n",
    "fig.subplots_adjust(hspace=0.6, wspace=0.5)\n",
    "fig.suptitle('Behaviour during and before saturation (top), and contingency switch (bottom) sessions')\n",
    "for mouse_num, mouse_stats in enumerate(all_mouse_stats):\n",
    "    \n",
    "    axs[0, 0].set_title('Response time')\n",
    "    axs[0, 0].scatter(1, mouse_stats.saturation_stats['Median reaction time'], alpha=0.8, color=colours[mouse_num], label = mouse_stats.mouse)\n",
    "    axs[0, 0].scatter(0, mouse_stats.day_before_saturation_stats['Median reaction time'], alpha=0.8, color=colours[mouse_num])\n",
    "    axs[0, 0].plot([0, 1], [mouse_stats.day_before_saturation_stats['Median reaction time'], mouse_stats.saturation_stats['Median reaction time']], color=colours[mouse_num])\n",
    "    axs[0, 0].set_xticks([0, 1])\n",
    "    axs[0, 0].set_xticklabels(['normal', 'saturation'], rotation=20)\n",
    "    axs[0, 0].set_xlim([-0.3, 1.3])\n",
    "    axs[0, 0].set_ylabel('Median response time (s)')\n",
    "    \n",
    "    axs[0, 1].set_title('Initiation time')\n",
    "    axs[0, 1].scatter(1, mouse_stats.saturation_stats['Median initiation time'], alpha=0.8, color=colours[mouse_num])\n",
    "    axs[0, 1].scatter(0, mouse_stats.day_before_saturation_stats['Median initiation time'], alpha=0.8, color=colours[mouse_num])\n",
    "    axs[0, 1].plot([0, 1], [mouse_stats.day_before_saturation_stats['Median initiation time'], mouse_stats.saturation_stats['Median initiation time']], color=colours[mouse_num])\n",
    "    axs[0, 1].set_xticks([0, 1])\n",
    "    axs[0, 1].set_xticklabels(['normal', 'saturation'], rotation=20)\n",
    "    axs[0, 1].set_xlim([-0.3, 1.3])\n",
    "    axs[0, 1].set_ylabel('Median time to initiate trial (s)')\n",
    "    \n",
    "    axs[0, 2].set_title('Trials per hour')\n",
    "    axs[0, 2].scatter(1, mouse_stats.saturation_stats['Trial rate'], alpha=0.8, color=colours[mouse_num])\n",
    "    axs[0, 2].scatter(0, mouse_stats.day_before_saturation_stats['Trial rate'], alpha=0.8, color=colours[mouse_num])\n",
    "    axs[0, 2].plot([0, 1], [mouse_stats.day_before_saturation_stats['Trial rate'], mouse_stats.saturation_stats['Trial rate']], color=colours[mouse_num])\n",
    "    axs[0, 2].set_xticks([0, 1])\n",
    "    axs[0, 2].set_xticklabels(['normal', 'saturation'], rotation=20)\n",
    "    axs[0, 2].set_xlim([-0.3, 1.3])\n",
    "    axs[0, 2].set_ylabel('Trials per hour')\n",
    "    \n",
    "    axs[0, 3].set_title('Habit persistence')\n",
    "    axs[0, 3].scatter(1, mouse_stats.saturation_stats['Rightward choices'], alpha=0.8, color=colours[mouse_num])\n",
    "    axs[0, 3].scatter(0, mouse_stats.day_before_saturation_stats['Rightward choices'], alpha=0.8, color=colours[mouse_num])\n",
    "    axs[0, 3].plot([0, 1], [mouse_stats.day_before_saturation_stats['Rightward choices'], mouse_stats.saturation_stats['Rightward choices']], color=colours[mouse_num])\n",
    "    axs[0, 3].set_xticks([0, 1])\n",
    "    axs[0, 3].set_xticklabels(['normal', 'saturation'], rotation=20)\n",
    "    axs[0, 3].set_xlim([-0.3, 1.3])\n",
    "    axs[0, 3].set_ylabel('Proportion of turns to original contingency')\n",
    "    \n",
    "    axs[1, 0].scatter(1, mouse_stats.contingency_stats['Median reaction time'], alpha=0.8, color=colours[mouse_num])\n",
    "    axs[1, 0].scatter(0, mouse_stats.day_before_contingency_stats['Median reaction time'], alpha=0.8, color=colours[mouse_num])\n",
    "    axs[1, 0].plot([0, 1], [mouse_stats.day_before_contingency_stats['Median reaction time'], mouse_stats.contingency_stats['Median reaction time']], color=colours[mouse_num])\n",
    "    axs[1, 0].set_xticks([0, 1])\n",
    "    axs[1, 0].set_xticklabels(['normal', 'contingency switch'], rotation=20)\n",
    "    axs[1, 0].set_xlim([-0.3, 1.3])\n",
    "    axs[1, 0].set_ylabel('Median response time (s)')\n",
    "    \n",
    "    axs[1, 1].scatter(1, mouse_stats.contingency_stats['Median initiation time'], alpha=0.8, color=colours[mouse_num])\n",
    "    axs[1, 1].scatter(0, mouse_stats.day_before_contingency_stats['Median initiation time'], alpha=0.8, color=colours[mouse_num])\n",
    "    axs[1, 1].plot([0, 1], [mouse_stats.day_before_contingency_stats['Median initiation time'], mouse_stats.contingency_stats['Median initiation time']], color=colours[mouse_num])\n",
    "    axs[1, 1].set_xticks([0, 1])\n",
    "    axs[1, 1].set_xticklabels(['normal', 'contingency switch'], rotation=20)\n",
    "    axs[1, 1].set_xlim([-0.3, 1.3])\n",
    "    axs[1, 1].set_ylabel('Median time to initiate trial (s)')\n",
    "    \n",
    "    axs[1, 2].scatter(1, mouse_stats.contingency_stats['Trial rate'], alpha=0.8, color=colours[mouse_num])\n",
    "    axs[1, 2].scatter(0, mouse_stats.day_before_contingency_stats['Trial rate'], alpha=0.8, color=colours[mouse_num])\n",
    "    axs[1, 2].plot([0, 1], [mouse_stats.day_before_contingency_stats['Trial rate'], mouse_stats.contingency_stats['Trial rate']], color=colours[mouse_num])\n",
    "    axs[1, 2].set_xticks([0, 1])\n",
    "    axs[1, 2].set_xticklabels(['normal', 'contingency switch'], rotation=20)\n",
    "    axs[1, 2].set_xlim([-0.3, 1.3])\n",
    "    axs[1, 2].set_ylabel('Trials per hour')\n",
    "    \n",
    "    axs[1, 3].scatter(1, mouse_stats.contingency_stats['Rightward choices'], alpha=0.8, color=colours[mouse_num])\n",
    "    axs[1, 3].scatter(0, mouse_stats.day_before_contingency_stats['Rightward choices'], alpha=0.8, color=colours[mouse_num])\n",
    "    axs[1, 3].plot([0, 1], [mouse_stats.day_before_contingency_stats['Rightward choices'], mouse_stats.contingency_stats['Rightward choices']], color=colours[mouse_num])\n",
    "    axs[1, 3].set_xticks([0, 1])\n",
    "    axs[1, 3].set_xticklabels(['normal', 'contingency switch'], rotation=20)\n",
    "    axs[1, 3].set_xlim([-0.3, 1.3])\n",
    "    axs[1, 3].set_ylabel('Proportion of turns to original contingency')\n",
    "    \n",
    "handles, labels = axs[0,0].get_legend_handles_labels()\n",
    "fig.legend(handles, labels, loc='lower center', ncol=len(labels))\n",
    "plt.show()"
   ]
  },
  {
   "cell_type": "code",
   "execution_count": null,
   "metadata": {},
   "outputs": [],
   "source": []
  },
  {
   "cell_type": "code",
   "execution_count": 125,
   "metadata": {},
   "outputs": [
    {
     "data": {
      "text/plain": [
       "({'Trial rate': 28.650801666591263,\n",
       "  'Median initiation time': 57.78425,\n",
       "  'Median reaction time': 57.78425,\n",
       "  'Rightward choices': 0.6235294117647059},\n",
       " {'Trial rate': 835.2243832004373,\n",
       "  'Median initiation time': 1.866,\n",
       "  'Median reaction time': 1.866,\n",
       "  'Rightward choices': 0.941226073024707})"
      ]
     },
     "execution_count": 125,
     "metadata": {},
     "output_type": "execute_result"
    }
   ],
   "source": [
    "all_metrics_one_mouse_and_plot('SNL_photo12', '20200207', '20200205')"
   ]
  },
  {
   "cell_type": "code",
   "execution_count": 14,
   "metadata": {},
   "outputs": [],
   "source": [
    "mouse = 'SNL_photo12'\n",
    "BpodProtocol = '/Two_Alternative_Choice/'\n",
    "GeneralDirectory = 'W:/photometry_2AC/bpod_data/'\n",
    "DFfile = GeneralDirectory + mouse + BpodProtocol + 'Data_Analysis/' + mouse + '_dataframe.pkl'\n",
    "behavioural_stats = pd.read_pickle(DFfile)"
   ]
  },
  {
   "cell_type": "code",
   "execution_count": 40,
   "metadata": {},
   "outputs": [],
   "source": [
    "date = make_dates_pretty(['20200207'])[0]\n",
    "trials = behavioural_stats[behavioural_stats['SessionTime'].str.contains(date)]"
   ]
  },
  {
   "cell_type": "code",
   "execution_count": 43,
   "metadata": {},
   "outputs": [
    {
     "data": {
      "text/plain": [
       "array([ 0.4752,  7.9246,  0.5839,  1.1635,  0.9405,  0.6166, 10.    ,\n",
       "        1.0532,  1.6364, 10.    ,  0.7407,  0.8036,  0.6444,  0.6819,\n",
       "        0.5042,  4.1901,  0.4982,  0.4571,  0.3623, 10.    ,  0.494 ,\n",
       "        0.447 ,  0.8267,  0.6866,  0.6393,  0.7034, 10.    ,  0.5431,\n",
       "       10.    ,  2.1687, 10.    ,  0.7792])"
      ]
     },
     "execution_count": 43,
     "metadata": {},
     "output_type": "execute_result"
    }
   ],
   "source": [
    "trials['ResponseTime'].values"
   ]
  },
  {
   "cell_type": "code",
   "execution_count": 68,
   "metadata": {},
   "outputs": [
    {
     "data": {
      "text/plain": [
       "Int64Index([8413, 8414, 8415, 8416, 8417, 8418, 8419, 8420, 8421, 8422, 8423,\n",
       "            8424, 8425, 8426, 8427, 8428, 8429, 8430, 8431, 8432, 8433, 8434,\n",
       "            8435, 8436, 8437, 8438, 8439, 8440, 8441, 8442, 8443, 8444],\n",
       "           dtype='int64')"
      ]
     },
     "execution_count": 68,
     "metadata": {},
     "output_type": "execute_result"
    }
   ],
   "source": [
    "trials.index"
   ]
  },
  {
   "cell_type": "code",
   "execution_count": 261,
   "metadata": {},
   "outputs": [
    {
     "data": {
      "text/plain": [
       "1.131448617416426"
      ]
     },
     "execution_count": 261,
     "metadata": {},
     "output_type": "execute_result"
    }
   ],
   "source": [
    "behavioural_stats.loc[(behavioural_stats['FirstPoke']==1)].shape[0]/behavioural_stats.loc[(behavioural_stats['TrialSide']==1)].shape[0]"
   ]
  },
  {
   "cell_type": "code",
   "execution_count": null,
   "metadata": {},
   "outputs": [],
   "source": [
    "trial_data.loc[(trial_data['State type'] == params.state)]"
   ]
  }
 ],
 "metadata": {
  "kernelspec": {
   "display_name": "Python 3",
   "language": "python",
   "name": "python3"
  },
  "language_info": {
   "codemirror_mode": {
    "name": "ipython",
    "version": 3
   },
   "file_extension": ".py",
   "mimetype": "text/x-python",
   "name": "python",
   "nbconvert_exporter": "python",
   "pygments_lexer": "ipython3",
   "version": "3.7.3"
  }
 },
 "nbformat": 4,
 "nbformat_minor": 4
}
